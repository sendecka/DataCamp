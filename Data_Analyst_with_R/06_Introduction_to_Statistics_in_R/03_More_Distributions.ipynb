{
 "cells": [
  {
   "cell_type": "markdown",
   "metadata": {},
   "source": [
    "# 3 More Distributions and the Central Limit Theorem\n",
    "\n",
    "It’s time to explore one of the most important probability distributions in statistics, normal distribution. You’ll create histograms to plot normal distributions and gain an understanding of the central limit theorem, before expanding your knowledge of statistical functions by adding the Poisson, exponential, and t-distributions to your repertoire."
   ]
  },
  {
   "cell_type": "markdown",
   "metadata": {},
   "source": [
    "# Distribution of Amir's sales\n",
    "\n",
    "Since each deal Amir worked on (both won and lost) was different, each was worth a different amount of money. These values are stored in the amount column of amir_deals As part of Amir's performance review, you want to be able to estimate the probability of him selling different amounts, but before you can do this, you'll need to determine what kind of distribution the amount variable follows.\n",
    "\n",
    "Both dplyr and ggplot2 are loaded and amir_deals is available.\n",
    "\n",
    "# Instructions:\n",
    "\n",
    "- Create a histogram with 10 bins to visualize the distribution of the amount."
   ]
  },
  {
   "cell_type": "code",
   "execution_count": null,
   "metadata": {},
   "outputs": [],
   "source": [
    "# Histogram of amount with 10 bins\n",
    "ggplot(amir_deals, aes(amount)) +\n",
    "  geom_histogram(bins = 10)"
   ]
  },
  {
   "cell_type": "markdown",
   "metadata": {},
   "source": [
    "# Question\n",
    "\n",
    "Which probability distribution do the sales amounts most closely follow?\n",
    "\n",
    "# Possible answers\n",
    "\n",
    "( ) Uniform\n",
    "\n",
    "( ) Binomial\n",
    "\n",
    "(x) Normal\n",
    "\n",
    "( ) None of the above"
   ]
  },
  {
   "cell_type": "markdown",
   "metadata": {},
   "source": [
    "# Probabilities from the normal distribution\n",
    "\n",
    "Since each deal Amir worked on (both won and lost) was different, each was worth a different amount of money. These values are stored in the amount column of amir_deals and follow a normal distribution with a mean of 5000 dollars and a standard deviation of 2000 dollars. As part of his performance metrics, you want to calculate the probability of Amir closing a deal worth various amounts.\n",
    "\n",
    "# Instructions:\n",
    "\n",
    "- What's the probability of Amir closing a deal worth less than $7500?"
   ]
  },
  {
   "cell_type": "code",
   "execution_count": null,
   "metadata": {},
   "outputs": [],
   "source": [
    "# Probability of deal < 7500\n",
    "pnorm(7500, mean = 5000, sd = 2000)"
   ]
  },
  {
   "cell_type": "markdown",
   "metadata": {},
   "source": [
    "- What's the probability of Amir closing a deal worth more than $1000?"
   ]
  },
  {
   "cell_type": "code",
   "execution_count": null,
   "metadata": {},
   "outputs": [],
   "source": [
    "# Probability of deal > 1000\n",
    "pnorm(1000, mean = 5000, sd = 2000, lower.tail = FALSE)"
   ]
  },
  {
   "cell_type": "markdown",
   "metadata": {},
   "source": [
    "- What's the probability of Amir closing a deal worth between $3000 and $7000?"
   ]
  },
  {
   "cell_type": "code",
   "execution_count": null,
   "metadata": {},
   "outputs": [],
   "source": [
    "# Probability of deal between 3000 and 7000\n",
    "pnorm(7000, mean = 5000, sd = 2000) - pnorm(3000, mean = 5000, sd = 2000)"
   ]
  },
  {
   "cell_type": "markdown",
   "metadata": {},
   "source": [
    "- What amount will 75% of Amir's sales be more than?"
   ]
  },
  {
   "cell_type": "code",
   "execution_count": null,
   "metadata": {},
   "outputs": [],
   "source": [
    "# Calculate amount that 75% of deals will be more than\n",
    "qnorm(0.75, mean = 5000, sd = 2000, lower.tail = FALSE)"
   ]
  },
  {
   "cell_type": "markdown",
   "metadata": {},
   "source": [
    "# Simulating sales under new market conditions\n",
    "\n",
    "The company's financial analyst is predicting that next quarter, the worth of each sale will increase by 20% and the volatility, or standard deviation, of each sale's worth will increase by 30%. To see what Amir's sales might look like next quarter under these new market conditions, you'll simulate new sales amounts using the normal distribution and store these in the new_sales data frame, which has already been created for you.\n",
    "\n",
    "In addition, dplyr and ggplot2 are loaded.\n",
    "\n",
    "# Instructions:\n",
    "\n",
    "- Currently, Amir's average sale amount is $5000. Calculate what his new average amount will be if it increases by 20% and store this in new_mean.\n",
    "- Amir's current standard deviation is $2000. Calculate what his new standard deviation will be if it increases by 30% and store this in new_sd.\n",
    "- Add a new column called amount to the data frame new_sales, which contains 36 simulated amounts from a normal distribution with a mean of new_mean and a standard deviation of new_sd.\n",
    "- Plot the distribution of the new_sales amounts using a histogram with 10 bins."
   ]
  },
  {
   "cell_type": "code",
   "execution_count": null,
   "metadata": {},
   "outputs": [],
   "source": [
    "# Calculate new average amount\n",
    "new_mean <- 5000 * 1.2\n",
    "\n",
    "# Calculate new standard deviation\n",
    "new_sd <- 2000 * 1.3\n",
    "\n",
    "# Simulate 36 sales\n",
    "new_sales <- new_sales %>% \n",
    "  mutate(amount = rnorm(36, mean = new_mean, sd = new_sd))\n",
    "\n",
    "# Create histogram with 10 bins\n",
    "ggplot(new_sales, aes(amount)) +\n",
    "  geom_histogram(bins = 10)"
   ]
  },
  {
   "cell_type": "markdown",
   "metadata": {},
   "source": [
    "# Which market is better?\n",
    "\n",
    "The key metric that the company uses to evaluate salespeople is the percent of sales they make over $1000 since the time put into each sale is usually worth a bit more than that, so the higher this metric, the better the salesperson is performing.\n",
    "\n",
    "Recall that Amir's current sales amounts have a mean of $5000 and a standard deviation of $2000, and Amir's predicted amounts in next quarter's market have a mean of $6000 and a standard deviation of $2600.\n",
    "\n",
    "Based only on the metric of percent of sales over $1000, does Amir perform better in the current market or the predicted market?\n",
    "\n",
    "# Instructions:\n",
    "\n",
    "# Possible answers\n",
    "\n",
    "( ) Amir performs much better in the current market.\n",
    "\n",
    "( ) Amir performs much better in next quarter's predicted market.\n",
    "\n",
    "(x) Amir performs about equally in both markets.\n",
    "\n"
   ]
  },
  {
   "cell_type": "markdown",
   "metadata": {},
   "source": [
    "# Visualizing sampling distributions\n",
    "\n",
    "On the right, try creating sampling distributions of different summary statistics from samples of different distributions. Which distribution does the central limit theorem not apply to?\n",
    "\n",
    "# Instructions:\n",
    "\n",
    "( ) Discrete uniform distribution\n",
    "\n",
    "( ) Continuous uniform distribution\n",
    "\n",
    "( ) Binomial distribution\n",
    "\n",
    "( ) All of the above\n",
    "\n",
    "(x) None of the above"
   ]
  },
  {
   "cell_type": "markdown",
   "metadata": {},
   "source": [
    "# The CLT in action\n",
    "\n",
    "The central limit theorem states that a sampling distribution of a sample statistic approaches the normal distribution as you take more samples, no matter the original distribution being sampled from.\n",
    "\n",
    "In this exercise, you'll focus on the sample mean and see the central limit theorem in action while examining the num_users column of amir_deals more closely, which contains the number of people who intend to use the product Amir is selling.\n",
    "\n",
    "Both dplyr and ggplot2 are loaded and amir_deals is available.\n",
    "\n",
    "# Instructions:\n",
    "\n",
    "- Create a histogram of the num_users column of amir_deals. Use 10 bins."
   ]
  },
  {
   "cell_type": "code",
   "execution_count": null,
   "metadata": {},
   "outputs": [],
   "source": [
    "# Create a histogram of num_users\n",
    "ggplot(amir_deals, aes(num_users)) +\n",
    "  geom_histogram(bins = 10)"
   ]
  },
  {
   "cell_type": "markdown",
   "metadata": {},
   "source": [
    "- Set the seed to 104.\n",
    "- Take a sample of size 20 with replacement from the num_users column of amir_deals, and take the mean."
   ]
  },
  {
   "cell_type": "code",
   "execution_count": null,
   "metadata": {},
   "outputs": [],
   "source": [
    "# Set seed to 104\n",
    "set.seed(104)\n",
    "\n",
    "# Sample 20 num_users with replacement from amir_deals\n",
    "sample(amir_deals$num_users, size = 20, replace = TRUE) %>%\n",
    "  # Take mean\n",
    "  mean()"
   ]
  },
  {
   "cell_type": "markdown",
   "metadata": {},
   "source": [
    "- Repeat this 100 times and store as sample_means. This will take 100 different samples and calculate the mean of each."
   ]
  },
  {
   "cell_type": "code",
   "execution_count": null,
   "metadata": {},
   "outputs": [],
   "source": [
    "# Set seed to 104\n",
    "set.seed(104)\n",
    "\n",
    "# Sample 20 num_users from amir_deals and take mean\n",
    "sample(amir_deals$num_users, size = 20, replace = TRUE) %>%\n",
    "  mean()\n",
    "\n",
    "# Repeat the above 100 times\n",
    "sample_means <- replicate(100, sample(amir_deals$num_users, size = 20, replace = TRUE) %>% mean())"
   ]
  },
  {
   "cell_type": "markdown",
   "metadata": {},
   "source": [
    "- A data frame called samples has been created for you with a column mean, which contains the values from sample_means. Create a histogram of the mean column with 10 bins."
   ]
  },
  {
   "cell_type": "code",
   "execution_count": null,
   "metadata": {},
   "outputs": [],
   "source": [
    "# Set seed to 104\n",
    "set.seed(104)\n",
    "\n",
    "# Sample 20 num_users from amir_deals and take mean\n",
    "sample(amir_deals$num_users, size = 20, replace = TRUE) %>%\n",
    "  mean()\n",
    "\n",
    "# Repeat the above 100 times\n",
    "sample_means <- replicate(100, sample(amir_deals$num_users, size = 20, replace = TRUE) %>% mean())\n",
    "\n",
    "# Create data frame for plotting\n",
    "samples <- data.frame(mean = sample_means)\n",
    "\n",
    "# Histogram of sample means\n",
    "ggplot(samples, aes(mean)) +\n",
    "  geom_histogram(bins = 10)"
   ]
  },
  {
   "cell_type": "markdown",
   "metadata": {},
   "source": [
    "# The mean of means\n",
    "\n",
    "You want to know what the average number of users (num_users) is per deal, but you want to know this number for the entire company so that you can see if Amir's deals have more or fewer users than the company's average deal. The problem is that over the past year, the company has worked on more than ten thousand deals, so it's not realistic to compile all the data. Instead, you'll estimate the mean by taking several random samples of deals, since this is much easier than collecting data from everyone in the company.\n",
    "\n",
    "The user data for all the company's deals is available in all_deals.\n",
    "\n",
    "# Instructions:\n",
    "\n",
    "- Set the random seed to 321.\n",
    "- Take 30 samples of size 20 from all_deals$num_users and take the mean of each sample. Store the sample means in sample_means.\n",
    "- Take the mean of sample_means.\n",
    "- Take the mean of the num_users column of amir_deals."
   ]
  },
  {
   "cell_type": "code",
   "execution_count": null,
   "metadata": {},
   "outputs": [],
   "source": [
    "# Set seed to 321\n",
    "set.seed(321)\n",
    "\n",
    "# Take 30 samples of 20 values of num_users, take mean of each sample\n",
    "sample_means <- replicate(30, sample(all_deals$num_users, 20) %>% mean())\n",
    "\n",
    "# Calculate mean of sample_means\n",
    "mean(sample_means)\n",
    "\n",
    "# Calculate mean of num_users in amir_deals\n",
    "mean(amir_deals$num_users)"
   ]
  },
  {
   "cell_type": "markdown",
   "metadata": {},
   "source": [
    "# Tracking lead responses\n",
    "\n",
    "Your company uses sales software to keep track of new sales leads. It organizes them into a queue so that anyone can follow up on one when they have a bit of free time. Since the number of lead responses is a countable outcome over a period of time, this scenario corresponds to a Poisson distribution. On average, Amir responds to 4 leads each day. In this exercise, you'll calculate probabilities of Amir responding to different numbers of leads.\n",
    "\n",
    "# Instructions:\n",
    "\n",
    "- What's the probability that Amir responds to 5 leads in a day, given that he responds to an average of 4?"
   ]
  },
  {
   "cell_type": "code",
   "execution_count": null,
   "metadata": {},
   "outputs": [],
   "source": [
    "# Probability of 5 responses\n",
    "dpois(5, lambda = 4)"
   ]
  },
  {
   "cell_type": "markdown",
   "metadata": {},
   "source": [
    "- Amir's coworker responds to an average of 5.5 leads per day. What is the probability that she answers 5 leads in a day?"
   ]
  },
  {
   "cell_type": "code",
   "execution_count": null,
   "metadata": {},
   "outputs": [],
   "source": [
    "# Probability of 5 responses from coworker\n",
    "dpois(5, lambda = 5.5)"
   ]
  },
  {
   "cell_type": "markdown",
   "metadata": {},
   "source": [
    "- Completed task after requesting a hint or solution\n",
    "What's the probability that Amir responds to 2 or fewer leads in a day?"
   ]
  },
  {
   "cell_type": "code",
   "execution_count": null,
   "metadata": {},
   "outputs": [],
   "source": [
    "ppois(2, lambda = 4)"
   ]
  },
  {
   "cell_type": "markdown",
   "metadata": {},
   "source": [
    "- What's the probability that Amir responds to more than 10 leads in a day?"
   ]
  },
  {
   "cell_type": "code",
   "execution_count": null,
   "metadata": {},
   "outputs": [],
   "source": [
    "# Probability of > 10 responses\n",
    "ppois(10, lambda = 4, lower.tail = FALSE)"
   ]
  },
  {
   "cell_type": "markdown",
   "metadata": {},
   "source": [
    "# Modeling time between leads\n",
    "\n",
    "To further evaluate Amir's performance, you want to know how much time it takes him to respond to a lead after he opens it. On average, it takes 2.5 hours for him to respond. In this exercise, you'll calculate probabilities of different amounts of time passing between Amir receiving a lead and sending a response.\n",
    "\n",
    "# Instructions:\n",
    "\n",
    "- What's the probability it takes Amir less than an hour to respond to a lead?"
   ]
  },
  {
   "cell_type": "code",
   "execution_count": null,
   "metadata": {},
   "outputs": [],
   "source": [
    "# Probability response takes < 1 hour\n",
    "pexp(1, rate = 1/2.5)"
   ]
  },
  {
   "cell_type": "markdown",
   "metadata": {},
   "source": [
    "- Completed task after requesting a hint or solution\n",
    "What's the probability it takes Amir more than 4 hours to respond to a lead?"
   ]
  },
  {
   "cell_type": "code",
   "execution_count": null,
   "metadata": {},
   "outputs": [],
   "source": [
    "# Probability response takes > 4 hours\n",
    "pexp(4, rate = 1/2.5, lower.tail = FALSE)"
   ]
  },
  {
   "cell_type": "markdown",
   "metadata": {},
   "source": [
    "- What's the probability it takes Amir 3-4 hours to respond to a lead?"
   ]
  },
  {
   "cell_type": "code",
   "execution_count": null,
   "metadata": {},
   "outputs": [],
   "source": [
    "# Probability response takes 3-4 hours\n",
    "pexp(4, rate = 1/2.5) - pexp(3, rate = 1/2.5)"
   ]
  }
 ],
 "metadata": {
  "language_info": {
   "name": "python"
  }
 },
 "nbformat": 4,
 "nbformat_minor": 2
}
