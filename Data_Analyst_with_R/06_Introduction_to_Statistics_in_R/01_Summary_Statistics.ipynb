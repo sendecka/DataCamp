{
 "cells": [
  {
   "cell_type": "markdown",
   "metadata": {},
   "source": [
    "# 1 Summary Statistics\n",
    "\n",
    "Summary statistics gives you the tools you need to boil down massive datasets to reveal the highlights. In this chapter, you'll explore summary statistics including mean, median, and standard deviation, and learn how to accurately interpret them. You'll also develop your critical thinking skills, allowing you to choose the best summary statistics for your data."
   ]
  },
  {
   "cell_type": "markdown",
   "metadata": {},
   "source": [
    "# Descriptive and inferential statistics\n",
    "\n",
    "Statistics can be used to answer lots of different types of questions, but being able to identify which type of statistics is needed is essential to drawing accurate conclusions. In this exercise, you'll sharpen your skills by identifying which type is needed to answer each question."
   ]
  },
  {
   "cell_type": "markdown",
   "metadata": {},
   "source": [
    "# Data type classification\n",
    "\n",
    "In the video, you learned about two main types of data: numeric and categorical. Numeric variables can be classified as either discrete or continuous, and categorical variables can be classified as either nominal or ordinal. These characteristics of a variable determine which ways of summarizing your data will work best."
   ]
  },
  {
   "cell_type": "markdown",
   "metadata": {},
   "source": [
    "# Mean and median\n",
    "\n",
    "In this chapter, you'll be working with the 2018 Food Carbon Footprint Index from nu3. The food_consumption dataset contains information about the kilograms of food consumed per person per year in each country in each food category (consumption) as well as information about the carbon footprint of that food category (co2_emissions) measured in kilograms of carbon dioxide, or CO\n",
    ", per person per year in each country.\n",
    "\n",
    "In this exercise, you'll compute measures of center to compare food consumption in the US and Belgium using your dplyr skills.\n",
    "\n",
    "dplyr is loaded for you and food_consumption is available."
   ]
  },
  {
   "cell_type": "markdown",
   "metadata": {},
   "source": [
    "# Instructions:\n",
    "\n",
    "- Create two data frames: one that holds the rows of food_consumption for \"Belgium\" and the another that holds rows for \"USA\". Call these belgium_consumption and usa_consumption.\n",
    "- Calculate the mean and median of kilograms of food consumed per person per year for both countries."
   ]
  },
  {
   "cell_type": "code",
   "execution_count": null,
   "metadata": {},
   "outputs": [],
   "source": [
    "# Filter for Belgium\n",
    "belgium_consumption <- food_consumption %>%\n",
    "  filter(country == \"Belgium\")\n",
    "\n",
    "# Filter for USA\n",
    "usa_consumption <- food_consumption %>%\n",
    "  filter(country == \"USA\")\n",
    "\n",
    "# Calculate mean and median consumption in Belgium\n",
    "mean(belgium_consumption$consumption)\n",
    "median(belgium_consumption$consumption)\n",
    "\n",
    "# Calculate mean and median consumption in USA\n",
    "mean(usa_consumption$consumption)\n",
    "median(usa_consumption$consumption)"
   ]
  },
  {
   "cell_type": "markdown",
   "metadata": {},
   "source": [
    "- Filter food_consumption for rows with data about Belgium and the USA.\n",
    "- Group the filtered data by country.\n",
    "- Calculate the mean and median of the kilograms of food consumed per person per year in each country. Call these columns mean_consumption and median_consumption."
   ]
  },
  {
   "cell_type": "code",
   "execution_count": null,
   "metadata": {},
   "outputs": [],
   "source": [
    "food_consumption %>%\n",
    "  # Filter for Belgium and USA\n",
    "  filter(country %in% c(\"Belgium\", \"USA\")) %>%\n",
    "  # Group by country\n",
    "  group_by(country) %>%\n",
    "  # Get mean_consumption and median_consumption\n",
    "  summarize(mean_consumption = mean(consumption),\n",
    "           median_consumption = median(consumption))"
   ]
  },
  {
   "cell_type": "markdown",
   "metadata": {},
   "source": [
    "# Mean vs. median\n",
    "\n",
    "In the video, you learned that the mean is the sum of all the data points divided by the total number of data points, and the median is the middle value of the dataset where 50% of the data is less than the median, and 50% of the data is greater than the median. In this exercise, you'll compare these two measures of center.\n",
    "\n",
    "dplyr and ggplot2 are loaded and food_consumption is available.\n",
    "\n",
    "# Instructions:\n",
    "\n",
    "- Filter food_consumption to get the rows where food_category is \"rice\".\n",
    "- Create a histogram using ggplot2 of co2_emission for rice."
   ]
  },
  {
   "cell_type": "code",
   "execution_count": null,
   "metadata": {},
   "outputs": [],
   "source": [
    "food_consumption %>%\n",
    "  # Filter for rice food category\n",
    "  filter(food_category == \"rice\") %>%\n",
    "  # Create histogram of co2_emission\n",
    "  ggplot(aes(co2_emission)) +\n",
    "    geom_histogram()"
   ]
  },
  {
   "cell_type": "markdown",
   "metadata": {},
   "source": [
    "# Question\n",
    "\n",
    "Take a look at the histogram of the CO\n",
    " emissions for rice you just plotted. Which of the following terms best describes the shape of the data?\n",
    "\n",
    "# Possible answers\n",
    "\n",
    "( ) No skew\n",
    "\n",
    "( ) Left-skewed\n",
    "\n",
    "(x) Right-skewed"
   ]
  },
  {
   "cell_type": "markdown",
   "metadata": {},
   "source": [
    "# Quartiles, quantiles, and quintiles\n",
    "\n",
    "Quantiles are a great way of summarizing numerical data since they can be used to measure center and spread, as well as to get a sense of where a data point stands in relation to the rest of the dataset. For example, you might want to give a discount to the 10% most active users on a website.\n",
    "\n",
    "In this exercise, you'll calculate quartiles, quintiles, and deciles, which split up a dataset into 4, 5, and 10 pieces, respectively.\n",
    "\n",
    "The dplyr package is loaded and food_consumption is available.\n",
    "\n",
    "# Instructions:\n",
    "\n",
    "- Calculate the quartiles of the co2_emission column of food_consumption."
   ]
  },
  {
   "cell_type": "code",
   "execution_count": null,
   "metadata": {},
   "outputs": [],
   "source": [
    "# Calculate the quartiles of co2_emission\n",
    "quantile(food_consumption$co2_emission)"
   ]
  },
  {
   "cell_type": "markdown",
   "metadata": {},
   "source": [
    "- Calculate the six quantiles that split up the data into 5 pieces (quintiles) of the co2_emission column of food_consumption."
   ]
  },
  {
   "cell_type": "code",
   "execution_count": null,
   "metadata": {},
   "outputs": [],
   "source": [
    "# Calculate the quintiles of co2_emission\n",
    "quantile(food_consumption$co2_emission, probs = c(0, 0.2, 0.4, 0.6, 0.8, 1))"
   ]
  },
  {
   "cell_type": "markdown",
   "metadata": {},
   "source": [
    "- Calculate the eleven quantiles of co2_emission that split up the data into ten pieces (deciles)."
   ]
  },
  {
   "cell_type": "code",
   "execution_count": null,
   "metadata": {},
   "outputs": [],
   "source": [
    "# Calculate the deciles of co2_emission\n",
    "quantile(food_consumption$co2_emission, probs = seq(0, 1, 0.1))"
   ]
  },
  {
   "cell_type": "markdown",
   "metadata": {},
   "source": [
    "# Variance and standard deviation\n",
    "\n",
    "Variance and standard deviation are two of the most common ways to measure the spread of a variable, and you'll practice calculating these in this exercise. Spread is important since it can help inform expectations. For example, if a salesperson sells a mean of 20 products a day, but has a standard deviation of 10 products, there will probably be days where they sell 40 products, but also days where they only sell one or two. Information like this is important, especially when making predictions.\n",
    "\n",
    "Both dplyr and ggplot2 are loaded, and food_consumption is available.\n",
    "\n",
    "# Instructions:\n",
    "\n",
    "- Calculate the variance and standard deviation of co2_emission for each food_category by grouping by and summarizing variance as var_co2 and standard deviation as sd_co2.\n",
    "- Create a histogram of co2_emission for each food_category using facet_wrap()."
   ]
  },
  {
   "cell_type": "code",
   "execution_count": null,
   "metadata": {},
   "outputs": [],
   "source": [
    "# Calculate variance and sd of co2_emission for each food_category\n",
    "food_consumption %>% \n",
    "  group_by(food_category) %>% \n",
    "  summarize(var_co2 = var(co2_emission),\n",
    "           sd_co2 = sd(co2_emission))\n",
    "\n",
    "# Plot food_consumption with co2_emission on x-axis\n",
    "ggplot(food_consumption, aes(co2_emission)) +\n",
    "  # Create a histogram\n",
    "  geom_histogram() +\n",
    "  # Create a separate sub-graph for each food_category\n",
    "  facet_wrap(~ food_category)"
   ]
  },
  {
   "cell_type": "markdown",
   "metadata": {},
   "source": [
    "# Finding outliers using IQR\n",
    "\n",
    "Outliers can have big effects on statistics like mean, as well as statistics that rely on the mean, such as variance and standard deviation. Interquartile range, or IQR, is another way of measuring spread that's less influenced by outliers. IQR is also often used to find outliers. If a value is less than \n",
    " or greater than \n",
    ", it's considered an outlier. In fact, this is how the lengths of the whiskers in a ggplot2 box plot are calculated.\n",
    "\n",
    "Diagram of a box plot showing median, quartiles, and outliers\n",
    "\n",
    "In this exercise, you'll calculate IQR and use it to find some outliers. Both dplyr and ggplot2 are loaded and food_consumption is available.\n",
    "\n",
    "# Instructions:\n",
    "\n",
    "- Calculate the total co2_emission per country by grouping by country and taking the sum of co2_emission. Call the sum total_emission and store the resulting data frame as emissions_by_country."
   ]
  },
  {
   "cell_type": "code",
   "execution_count": null,
   "metadata": {},
   "outputs": [],
   "source": [
    "# Calculate total co2_emission per country: emissions_by_country\n",
    "emissions_by_country <- food_consumption %>%\n",
    "  group_by(country) %>%\n",
    "  summarize(total_emission = sum(co2_emission))\n",
    "\n",
    "emissions_by_country"
   ]
  },
  {
   "cell_type": "markdown",
   "metadata": {},
   "source": [
    "- Compute the first and third quartiles of total_emission and store these as q1 and q3.\n",
    "- Calculate the interquartile range of total_emission and store it as iqr."
   ]
  },
  {
   "cell_type": "code",
   "execution_count": null,
   "metadata": {},
   "outputs": [],
   "source": [
    "# Calculate total co2_emission per country: emissions_by_country\n",
    "emissions_by_country <- food_consumption %>%\n",
    "  group_by(country) %>%\n",
    "  summarize(total_emission = sum(co2_emission))\n",
    "\n",
    "# Compute the first and third quartiles and IQR of total_emission\n",
    "q1 <- quantile(emissions_by_country$total_emission, 0.25)\n",
    "q3 <- quantile(emissions_by_country$total_emission, 0.75)\n",
    "iqr <- q3 - q1"
   ]
  },
  {
   "cell_type": "markdown",
   "metadata": {},
   "source": [
    "- Calculate the lower and upper cutoffs for outliers of total_emission, and store these as lower and upper."
   ]
  },
  {
   "cell_type": "code",
   "execution_count": null,
   "metadata": {},
   "outputs": [],
   "source": [
    "# Calculate total co2_emission per country: emissions_by_country\n",
    "emissions_by_country <- food_consumption %>%\n",
    "  group_by(country) %>%\n",
    "  summarize(total_emission = sum(co2_emission))\n",
    "\n",
    "# Compute the first and third quartiles and IQR of total_emission\n",
    "q1 <- quantile(emissions_by_country$total_emission, 0.25)\n",
    "q3 <- quantile(emissions_by_country$total_emission, 0.75)\n",
    "iqr <- q3 - q1\n",
    "\n",
    "# Calculate the lower and upper cutoffs for outliers\n",
    "lower <- q1 - 1.5 * iqr\n",
    "upper <- q3 + 1.5 * iqr"
   ]
  },
  {
   "cell_type": "markdown",
   "metadata": {},
   "source": [
    "- Use filter() to get countries with a total_emission greater than the upper cutoff or a total_emission less than the lower cutoff."
   ]
  },
  {
   "cell_type": "code",
   "execution_count": null,
   "metadata": {},
   "outputs": [],
   "source": [
    "# Calculate total co2_emission per country: emissions_by_country\n",
    "emissions_by_country <- food_consumption %>%\n",
    "  group_by(country) %>%\n",
    "  summarize(total_emission = sum(co2_emission))\n",
    "\n",
    "# Compute the first and third quartiles and IQR of total_emission\n",
    "q1 <- quantile(emissions_by_country$total_emission, 0.25)\n",
    "q3 <- quantile(emissions_by_country$total_emission, 0.75)\n",
    "iqr <- q3 - q1\n",
    "\n",
    "# Calculate the lower and upper cutoffs for outliers\n",
    "lower <- q1 - 1.5 * iqr\n",
    "upper <- q3 + 1.5 * iqr\n",
    "\n",
    "# Filter emissions_by_country to find outliers\n",
    "emissions_by_country %>%\n",
    "  filter(total_emission < lower | total_emission > upper)"
   ]
  }
 ],
 "metadata": {
  "language_info": {
   "name": "python"
  }
 },
 "nbformat": 4,
 "nbformat_minor": 2
}
