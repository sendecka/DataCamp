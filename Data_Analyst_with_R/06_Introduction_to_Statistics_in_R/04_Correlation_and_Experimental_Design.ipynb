{
 "cells": [
  {
   "cell_type": "markdown",
   "metadata": {},
   "source": [
    "# 1 Summary Statistics\n",
    "\n",
    "Summary statistics gives you the tools you need to boil down massive datasets to reveal the highlights. In this chapter, you'll explore summary statistics including mean, median, and standard deviation, and learn how to accurately interpret them. You'll also develop your critical thinking skills, allowing you to choose the best summary statistics for your data."
   ]
  },
  {
   "cell_type": "markdown",
   "metadata": {},
   "source": [
    "# Guess the correlation\n",
    "\n",
    "On the right, use the scatterplot to estimate what the correlation is between the variables x and y. Once you've guessed it correctly, use the New Plot button to try out a few more scatterplots. When you're ready, answer the question below to continue to the next exercise.\n",
    "\n",
    "Which of the following statements is NOT true about correlation?\n",
    "\n",
    "# Instructions:\n",
    "\n",
    "( ) If the correlation between `x` and `y` has a high magnitude, the data points will be clustered closely around a line.\n",
    "\n",
    "( ) Correlation can be written as *r*.\n",
    "\n",
    "( ) If `x` and `y` are negatively correlated, values of `y` decrease as values of `x` increase.\n",
    "\n",
    "(x) Correlation cannot be 0.\n",
    "\n"
   ]
  },
  {
   "cell_type": "markdown",
   "metadata": {},
   "source": [
    "# Relationships between variables\n",
    "\n",
    "In this chapter, you'll be working with a dataset world_happiness containing results from the 2019 World Happiness Report. The report scores various countries based on how happy people in that country are. It also ranks each country on various societal aspects such as social support, freedom, corruption, and others. The dataset also includes the GDP per capita and life expectancy for each country.\n",
    "\n",
    "In this exercise, you'll examine the relationship between a country's life expectancy (life_exp) and happiness score (happiness_score) both visually and quantitatively. Both dplyr and ggplot2 are loaded and world_happiness is available.\n",
    "\n",
    "# Instructions:\n",
    "\n",
    "- Create a scatterplot of happiness_score vs. life_exp using ggplot2."
   ]
  },
  {
   "cell_type": "code",
   "execution_count": null,
   "metadata": {},
   "outputs": [],
   "source": [
    "# Create a scatterplot of happiness_score vs. life_exp\n",
    "ggplot(world_happiness, aes(life_exp, happiness_score)) +\n",
    "  geom_point()"
   ]
  },
  {
   "cell_type": "markdown",
   "metadata": {},
   "source": [
    "- Add a linear trendline to the scatterplot, setting se to FALSE."
   ]
  },
  {
   "cell_type": "code",
   "execution_count": null,
   "metadata": {},
   "outputs": [],
   "source": [
    "# Add a linear trendline to scatterplot\n",
    "ggplot(world_happiness, aes(life_exp, happiness_score)) +\n",
    "  geom_point() +\n",
    "  geom_smooth(method = \"lm\", se = FALSE)"
   ]
  },
  {
   "cell_type": "markdown",
   "metadata": {},
   "source": [
    "# Question\n",
    "Based on the scatterplot, which is most likely the correlation between life_exp and happiness_score?\n",
    "\n",
    "# Possible answers\n",
    "\n",
    "( ) 0.3\n",
    "\n",
    "( ) -0.3\n",
    "\n",
    "(x) 0.8\n",
    "\n",
    "( ) -0.8"
   ]
  },
  {
   "cell_type": "markdown",
   "metadata": {},
   "source": [
    "- Calculate the correlation between life_exp and happiness_score."
   ]
  },
  {
   "cell_type": "code",
   "execution_count": null,
   "metadata": {},
   "outputs": [],
   "source": [
    "# Add a linear trendline to scatterplot\n",
    "ggplot(world_happiness, aes(life_exp, happiness_score)) +\n",
    "  geom_point() +\n",
    "  geom_smooth(method = \"lm\", se = FALSE)\n",
    "\n",
    "# Correlation between life_exp and happiness_score\n",
    "cor(world_happiness$life_exp, world_happiness$happiness_score)"
   ]
  },
  {
   "cell_type": "markdown",
   "metadata": {},
   "source": [
    "# What can't correlation measure?\n",
    "\n",
    "While the correlation coefficient is a convenient way to quantify the strength of a relationship between two variables, it's far from perfect. In this exercise, you'll explore one of the caveats of the correlation coefficient by examining the relationship between a country's GDP per capita (gdp_per_cap) and happiness score.\n",
    "\n",
    "Both dplyr and ggplot2 are loaded and world_happiness is available.\n",
    "\n",
    "# Instructions:\n",
    "\n",
    "- Create a scatterplot showing the relationship between gdp_per_cap (on the x-axis) and life_exp (on the y-axis)."
   ]
  },
  {
   "cell_type": "code",
   "execution_count": null,
   "metadata": {},
   "outputs": [],
   "source": [
    "# Scatterplot of gdp_per_cap and life_exp\n",
    "ggplot(world_happiness, aes(gdp_per_cap, life_exp)) +\n",
    "  geom_point()"
   ]
  },
  {
   "cell_type": "markdown",
   "metadata": {},
   "source": [
    "- Calculate the correlation between gdp_per_cap and life_exp."
   ]
  },
  {
   "cell_type": "code",
   "execution_count": null,
   "metadata": {},
   "outputs": [],
   "source": [
    "# Scatterplot of gdp_per_cap and life_exp\n",
    "ggplot(world_happiness, aes(gdp_per_cap, life_exp)) +\n",
    "  geom_point()\n",
    "\n",
    "# Correlation between gdp_per_cap and life_exp\n",
    "cor(world_happiness$gdp_per_cap, world_happiness$life_exp)"
   ]
  },
  {
   "cell_type": "markdown",
   "metadata": {},
   "source": [
    "# Question\n",
    "\n",
    "The correlation between GDP per capita and life expectancy is 0.7. Why is correlation not the best way to measure the relationship between the two variables?\n",
    "\n",
    "# Possible answers\n",
    "\n",
    "( ) Correlation measures how one variable affects another.\n",
    "\n",
    "(x) Correlation only measures linear relationships.\n",
    "\n",
    "( ) Correlation cannot properly measure relationships between numeric variables."
   ]
  },
  {
   "cell_type": "markdown",
   "metadata": {},
   "source": [
    "# Transforming variables\n",
    "\n",
    "When variables have skewed distributions, they often require a transformation in order to form a linear relationship with another variable so that correlation can be computed. In this exercise, you'll perform a transformation yourself.\n",
    "\n",
    "Both dplyr and ggplot2 are loaded and world_happiness is available.\n",
    "\n",
    "# Instructions:\n",
    "\n",
    "- Create a scatterplot of happiness_score versus gdp_per_cap.\n",
    "- Calculate the correlation between happiness_score and gdp_per_cap."
   ]
  },
  {
   "cell_type": "code",
   "execution_count": null,
   "metadata": {},
   "outputs": [],
   "source": [
    "# Scatterplot of happiness_score vs. gdp_per_cap\n",
    "ggplot(world_happiness, aes(gdp_per_cap, happiness_score)) +\n",
    "  geom_point()\n",
    "\n",
    "# Calculate correlation\n",
    "cor(world_happiness$gdp_per_cap, world_happiness$happiness_score)"
   ]
  },
  {
   "cell_type": "markdown",
   "metadata": {},
   "source": [
    "- Add a new column to world_happiness called log_gdp_per_cap that contains the log of gdp_per_cap.\n",
    "- Create a scatterplot of happiness_score versus log_gdp_per_cap.\n",
    "- Calculate the correlation between happiness_score and log_gdp_per_cap."
   ]
  },
  {
   "cell_type": "code",
   "execution_count": null,
   "metadata": {},
   "outputs": [],
   "source": [
    "# Create log_gdp_per_cap column\n",
    "world_happiness <- world_happiness %>%\n",
    "  mutate(log_gdp_per_cap = log(gdp_per_cap))\n",
    "\n",
    "# Scatterplot of happiness_score vs. log_gdp_per_cap\n",
    "ggplot(world_happiness, aes(log_gdp_per_cap, happiness_score)) +\n",
    "  geom_point()\n",
    "\n",
    "# Calculate correlation\n",
    "cor(world_happiness$log_gdp_per_cap, world_happiness$happiness_score)"
   ]
  },
  {
   "cell_type": "markdown",
   "metadata": {},
   "source": [
    "# Does sugar improve happiness?\n",
    "\n",
    "A new column has been added to world_happiness called grams_sugar_per_day, which contains the average amount of sugar eaten per person per day in each country. In this exercise, you'll examine the effect of a country's average sugar consumption on its happiness score.\n",
    "\n",
    "Both dplyr and ggplot2 are loaded and world_happiness is available.\n",
    "\n",
    "# Instructions:\n",
    "\n",
    "- Create a scatterplot showing the relationship between grams_sugar_per_day (on the x-axis) and happiness_score (on the y-axis).\n",
    "- Calculate the correlation between grams_sugar_per_day and happiness_score."
   ]
  },
  {
   "cell_type": "code",
   "execution_count": null,
   "metadata": {},
   "outputs": [],
   "source": [
    "# Scatterplot of grams_sugar_per_day and happiness_score\n",
    "ggplot(world_happiness, aes(grams_sugar_per_day, happiness_score)) +\n",
    "  geom_point()\n",
    "\n",
    "# Correlation between grams_sugar_per_day and happiness_score\n",
    "cor(world_happiness$grams_sugar_per_day, world_happiness$happiness_score)"
   ]
  },
  {
   "cell_type": "markdown",
   "metadata": {},
   "source": [
    "# Question\n",
    "\n",
    "Based on this data, which statement about sugar consumption and happiness scores is true?\n",
    "\n",
    "# Possible answers\n",
    "\n",
    "( ) Increased sugar consumption leads to a higher happiness score.\n",
    "\n",
    "( ) Lower sugar consumption results in a lower happiness score\n",
    "\n",
    "(x) Increased sugar consumption is associated with a higher happiness score.\n",
    "\n",
    "( ) Sugar consumption is not related to happiness."
   ]
  },
  {
   "cell_type": "markdown",
   "metadata": {},
   "source": [
    "# Study types\n",
    "\n",
    "While controlled experiments are ideal, many situations and research questions are not conducive to a controlled experiment. In a controlled experiment, causation can likely be inferred if the control and test groups have similar characteristics and don't have any systematic difference between them. On the other hand, causation cannot usually be inferred from observational studies, whose results are often misinterpreted as a result.\n",
    "\n",
    "In this exercise, you'll practice distinguishing controlled experiments from observational studies."
   ]
  }
 ],
 "metadata": {
  "language_info": {
   "name": "python"
  }
 },
 "nbformat": 4,
 "nbformat_minor": 2
}
