{
 "cells": [
  {
   "cell_type": "markdown",
   "metadata": {},
   "source": [
    "# 2 Random Numbers and Probability\n",
    "\n",
    "In this chapter, you'll learn how to generate random samples and measure chance using probability. You'll work with real-world sales data to calculate the probability of a salesperson being successful. Finally, you’ll use the binomial distribution to model events with binary outcomes."
   ]
  },
  {
   "cell_type": "markdown",
   "metadata": {},
   "source": [
    "# Calculating probabilities\n",
    "You're in charge of the sales team, and it's time for performance reviews, starting with Amir. As part of the review, you want to randomly select a few of the deals that he's worked on over the past year so that you can look at them more deeply. Before you start selecting deals, you'll first figure out what the chances are of selecting certain deals.\n",
    "\n",
    "Recall that the probability of an event can be calculated by\n",
    " \n",
    "\n",
    "dplyr is loaded and amir_deals is available.\n",
    "\n",
    "Instructions 1/3\n",
    "35 XP\n",
    "Count the number of deals Amir worked on for each product type.With or without replacement?\n",
    "\n",
    "In the video, you learned about two different ways of taking samples: with replacement and without replacement. Although it isn't always easy to tell which best fits various situations, it's important to correctly identify this so that any probabilities you report are accurate. In this exercise, you'll put your new knowledge to the test and practice figuring this out."
   ]
  },
  {
   "cell_type": "markdown",
   "metadata": {},
   "source": [
    "# Calculating probabilities\n",
    "\n",
    "You're in charge of the sales team, and it's time for performance reviews, starting with Amir. As part of the review, you want to randomly select a few of the deals that he's worked on over the past year so that you can look at them more deeply. Before you start selecting deals, you'll first figure out what the chances are of selecting certain deals.\n",
    "\n",
    "Recall that the probability of an event can be calculated by\n",
    " \n",
    "\n",
    "dplyr is loaded and amir_deals is available.\n",
    "\n",
    "# Instructions:\n",
    "\n",
    "- Count the number of deals Amir worked on for each product type."
   ]
  },
  {
   "cell_type": "code",
   "execution_count": null,
   "metadata": {},
   "outputs": [],
   "source": [
    "# Count the deals for each product\n",
    "amir_deals %>%\n",
    "  count(product)"
   ]
  },
  {
   "cell_type": "markdown",
   "metadata": {},
   "source": [
    "- Create a new column called prob by dividing n by the total number of deals Amir worked on."
   ]
  },
  {
   "cell_type": "code",
   "execution_count": null,
   "metadata": {},
   "outputs": [],
   "source": [
    "# Calculate probability of picking a deal with each product\n",
    "amir_deals %>%\n",
    "  count(product) %>%\n",
    "  mutate(prob = n/sum(n))"
   ]
  },
  {
   "cell_type": "markdown",
   "metadata": {},
   "source": [
    "# Question\n",
    "\n",
    "If you randomly select one of Amir's deals, what's the probability that the deal will involve Product C?\n",
    "\n",
    "# Possible answers\n",
    "\n",
    "( ) 15%\n",
    "\n",
    "( ) 80.43%\n",
    "\n",
    "(x) 8.43%\n",
    "\n",
    "( ) 22.5%"
   ]
  },
  {
   "cell_type": "markdown",
   "metadata": {},
   "source": [
    "# Sampling deals\n",
    "\n",
    "In the previous exercise, you counted the deals Amir worked on. Now it's time to randomly pick five deals so that you can reach out to each customer and ask if they were satisfied with the service they received. You'll try doing this both with and without replacement.\n",
    "\n",
    "Additionally, you want to make sure this is done randomly and that it can be reproduced in case you get asked how you chose the deals, so you'll need to set the random seed before sampling from the deals.\n",
    "\n",
    "dplyr is loaded and amir_deals is available.\n",
    "\n",
    "# Instructions:\n",
    "\n",
    "- Set the random seed to 31.\n",
    "- Take a sample of 5 deals without replacement."
   ]
  },
  {
   "cell_type": "code",
   "execution_count": null,
   "metadata": {},
   "outputs": [],
   "source": [
    "# Set random seed to 31\n",
    "set.seed(31)\n",
    "\n",
    "# Sample 5 deals without replacement\n",
    "amir_deals %>%\n",
    "  sample_n(5, replace = TRUE)"
   ]
  },
  {
   "cell_type": "markdown",
   "metadata": {},
   "source": [
    "- Take a sample of 5 deals with replacement."
   ]
  },
  {
   "cell_type": "code",
   "execution_count": null,
   "metadata": {},
   "outputs": [],
   "source": [
    "# Set random seed to 31\n",
    "set.seed(31)\n",
    "\n",
    "# Sample 5 deals with replacement\n",
    "amir_deals %>%\n",
    "  sample_n(5, replace = TRUE)"
   ]
  },
  {
   "cell_type": "markdown",
   "metadata": {},
   "source": [
    "# Question\n",
    "\n",
    "What type of sampling is better to use for this situation?\n",
    "\n",
    "# Possible answers\n",
    "\n",
    "( ) With replacement\n",
    "\n",
    "(x) Without replacement\n",
    "\n",
    "( ) It doesn't matter"
   ]
  },
  {
   "cell_type": "markdown",
   "metadata": {},
   "source": [
    "# Creating a probability distribution\n",
    "\n",
    "A new restaurant opened a few months ago, and the restaurant's management wants to optimize its seating space based on the size of the groups that come most often. On one night, there are 10 groups of people waiting to be seated at the restaurant, but instead of being called in the order they arrived, they will be called randomly. In this exercise, you'll investigate the probability of groups of different sizes getting picked first. Data on each of the ten groups is contained in the restaurant_groups data frame.\n",
    "\n",
    "Remember that expected value can be calculated by multiplying each possible outcome with its corresponding probability and taking the sum. The restaurant_groups data is available and dplyr and ggplot2 are loaded.\n",
    "\n",
    "# Instructions:\n",
    "\n",
    "- Create a histogram of the group_size column of restaurant_groups, setting the number of bins to 5."
   ]
  },
  {
   "cell_type": "code",
   "execution_count": null,
   "metadata": {},
   "outputs": [],
   "source": [
    "# Create a histogram of group_size\n",
    "ggplot(restaurant_groups, aes(group_size)) +\n",
    "  geom_histogram(bins = 5)"
   ]
  },
  {
   "cell_type": "markdown",
   "metadata": {},
   "source": [
    "- Count the number of each group_size in restaurant_groups, then add a column called probability that contains the probability of randomly selecting a group of each size. Store this in a new data frame called size_distribution."
   ]
  },
  {
   "cell_type": "code",
   "execution_count": null,
   "metadata": {},
   "outputs": [],
   "source": [
    "# Create probability distribution\n",
    "size_distribution <- restaurant_groups %>%\n",
    "  # Count number of each group size\n",
    "  count(group_size) %>%\n",
    "  # Calculate probability\n",
    "  mutate(probability = n / sum(n))\n",
    "\n",
    "size_distribution"
   ]
  },
  {
   "cell_type": "markdown",
   "metadata": {},
   "source": [
    "- Calculate the expected value of the size_distribution, which represents the expected group size."
   ]
  },
  {
   "cell_type": "code",
   "execution_count": null,
   "metadata": {},
   "outputs": [],
   "source": [
    "# Create probability distribution\n",
    "size_distribution <- restaurant_groups %>%\n",
    "  count(group_size) %>%\n",
    "  mutate(probability = n / sum(n))\n",
    "\n",
    "# Calculate expected group size\n",
    "expected_val <- sum(size_distribution$group_size *\n",
    "                    size_distribution$probability)\n",
    "expected_val"
   ]
  },
  {
   "cell_type": "markdown",
   "metadata": {},
   "source": [
    "- Calculate the probability of randomly picking a group of 4 or more people by filtering and summarizing."
   ]
  },
  {
   "cell_type": "code",
   "execution_count": null,
   "metadata": {},
   "outputs": [],
   "source": [
    "# Create probability distribution\n",
    "size_distribution <- restaurant_groups %>%\n",
    "  count(group_size) %>%\n",
    "  mutate(probability = n / sum(n))\n",
    "\n",
    "# Calculate probability of picking group of 4 or more\n",
    "size_distribution %>%\n",
    "  # Filter for groups of 4 or larger\n",
    "  filter(group_size >= 4) %>%\n",
    "  # Calculate prob_4_or_more by taking sum of probabilities\n",
    "  summarize(prob_4_or_more = sum(probability))"
   ]
  },
  {
   "cell_type": "markdown",
   "metadata": {},
   "source": [
    "# Expected value vs. sample mean\n",
    "\n",
    "The app to the right will take a sample from a discrete uniform distribution, which includes the numbers 1 through 9, and calculate the sample's mean. You can adjust the size of the sample using the slider. Note that the expected value of this distribution is 5.\n",
    "\n",
    "A sample is taken, and you win twenty dollars if the sample's mean is less than 4. There's a catch: you get to pick the sample's size.\n",
    "\n",
    "Which sample size is most likely to win you the twenty dollars?\n",
    "\n",
    "# Instructions:\n",
    "\n",
    "(x) 10\n",
    "\n",
    "( ) 100\n",
    "\n",
    "( ) 1000\n",
    "\n",
    "( ) 5000\n",
    "\n",
    "( ) 10000"
   ]
  },
  {
   "cell_type": "markdown",
   "metadata": {},
   "source": [
    "# Data back-ups\n",
    "\n",
    "The sales software used at your company is set to automatically back itself up, but no one knows exactly what time the back-ups happen. It is known, however, that back-ups happen exactly every 30 minutes. Amir comes back from sales meetings at random times to update the data on the client he just met with. He wants to know how long he'll have to wait for his newly-entered data to get backed up. Use your new knowledge of continuous uniform distributions to model this situation and answer Amir's questions.\n",
    "\n",
    "# Instructions:\n",
    "\n",
    "- To model how long Amir will wait for a back-up using a continuous uniform distribution, save his lowest possible wait time as min and his longest possible wait time as max. Remember that back-ups happen every 30 minutes."
   ]
  },
  {
   "cell_type": "code",
   "execution_count": null,
   "metadata": {},
   "outputs": [],
   "source": [
    "# Min and max wait times for back-up that happens every 30 min\n",
    "min <- 0\n",
    "max <- 30"
   ]
  },
  {
   "cell_type": "markdown",
   "metadata": {},
   "source": [
    "- Calculate the probability that Amir has to wait less than 5 minutes, and store in a variable called prob_less_than_5."
   ]
  },
  {
   "cell_type": "code",
   "execution_count": null,
   "metadata": {},
   "outputs": [],
   "source": [
    "# Min and max wait times for back-up that happens every 30 min\n",
    "min <- 0\n",
    "max <- 30\n",
    "\n",
    "# Calculate probability of waiting less than 5 mins\n",
    "prob_less_than_5 <- punif(5, min, max)\n",
    "prob_less_than_5"
   ]
  },
  {
   "cell_type": "markdown",
   "metadata": {},
   "source": [
    "- Calculate the probability that Amir has to wait more than 5 minutes, and store in a variable called prob_greater_than_5."
   ]
  },
  {
   "cell_type": "code",
   "execution_count": null,
   "metadata": {},
   "outputs": [],
   "source": [
    "# Min and max wait times for back-up that happens every 30 min\n",
    "min <- 0\n",
    "max <- 30\n",
    "\n",
    "# Calculate probability of waiting more than 5 mins\n",
    "prob_greater_than_5 <- punif(5, min, max, lower.tail = FALSE)\n",
    "prob_greater_than_5"
   ]
  },
  {
   "cell_type": "markdown",
   "metadata": {},
   "source": [
    "- Calculate the probability that Amir has to wait between 10 and 20 minutes, and store in a variable called prob_between_10_and_20."
   ]
  },
  {
   "cell_type": "code",
   "execution_count": null,
   "metadata": {},
   "outputs": [],
   "source": [
    "# Min and max wait times for back-up that happens every 30 min\n",
    "min <- 0\n",
    "max <- 30\n",
    "\n",
    "# Calculate probability of waiting 10-20 mins\n",
    "prob_between_10_and_20 <- punif(20, min, max) - punif(10, min, max)\n",
    "prob_between_10_and_20"
   ]
  },
  {
   "cell_type": "markdown",
   "metadata": {},
   "source": [
    "# Simulating wait times\n",
    "\n",
    "To give Amir a better idea of how long he'll have to wait, you'll simulate Amir waiting 1000 times and create a histogram to show him what he should expect. Recall from the last exercise that his minimum wait time is 0 minutes and his maximum wait time is 30 minutes.\n",
    "\n",
    "A data frame called wait_times is available and dplyr and ggplot2 are loaded.\n",
    "\n",
    "# Instructions:\n",
    "\n",
    "- Set the random seed to 334."
   ]
  },
  {
   "cell_type": "code",
   "execution_count": null,
   "metadata": {},
   "outputs": [],
   "source": [
    "# Set random seed to 334\n",
    "set.seed(334)"
   ]
  },
  {
   "cell_type": "markdown",
   "metadata": {},
   "source": [
    "- Generate 1000 wait times from the continuous uniform distribution that models Amir's wait time. Add this as a new column called time in the wait_times data frame."
   ]
  },
  {
   "cell_type": "code",
   "execution_count": null,
   "metadata": {},
   "outputs": [],
   "source": [
    "# Set random seed to 334\n",
    "set.seed(334)\n",
    "\n",
    "# Generate 1000 wait times between 0 and 30 mins, save in time column\n",
    "wait_times %>%\n",
    "  mutate(time = runif(1000, min = 0, max = 30))"
   ]
  },
  {
   "cell_type": "markdown",
   "metadata": {},
   "source": [
    "- Create a histogram of the simulated wait times with 30 bins."
   ]
  },
  {
   "cell_type": "code",
   "execution_count": null,
   "metadata": {},
   "outputs": [],
   "source": [
    "# Set random seed to 334\n",
    "set.seed(334)\n",
    "\n",
    "# Generate 1000 wait times between 0 and 30 mins, save in time column\n",
    "wait_times %>%\n",
    "  mutate(time = runif(1000, min = 0, max = 30)) %>%\n",
    "  # Create a histogram of simulated times\n",
    "  ggplot(aes(time)) +\n",
    "  geom_histogram(bins = 30)"
   ]
  },
  {
   "cell_type": "markdown",
   "metadata": {},
   "source": [
    "# Simulating sales deals\n",
    "\n",
    "Assume that Amir usually works on 3 deals per week, and overall, he wins 30% of deals he works on. Each deal has a binary outcome: it's either lost, or won, so you can model his sales deals with a binomial distribution. In this exercise, you'll help Amir simulate a year's worth of his deals so he can better understand his performance.\n",
    "\n",
    "# Instructions:\n",
    "\n",
    "- Set the random seed to 10 and simulate a single deal."
   ]
  },
  {
   "cell_type": "code",
   "execution_count": null,
   "metadata": {},
   "outputs": [],
   "source": [
    "# Set random seed to 10\n",
    "set.seed(10)\n",
    "\n",
    "# Simulate a single deal\n",
    "rbinom(1, 1, 0.3)"
   ]
  },
  {
   "cell_type": "markdown",
   "metadata": {},
   "source": [
    "- Simulate a typical week of Amir's deals, or one week of 3 deals."
   ]
  },
  {
   "cell_type": "code",
   "execution_count": null,
   "metadata": {},
   "outputs": [],
   "source": [
    "# Set random seed to 10\n",
    "set.seed(10)\n",
    "\n",
    "# Simulate 1 week of 3 deals\n",
    "rbinom(1, 3, 0.3)"
   ]
  },
  {
   "cell_type": "markdown",
   "metadata": {},
   "source": [
    "- Simulate a year's worth of Amir's deals, or 52 weeks of 3 deals each, and store in deals.\n",
    "Calculate the mean number of deals he won per week."
   ]
  },
  {
   "cell_type": "code",
   "execution_count": null,
   "metadata": {},
   "outputs": [],
   "source": [
    "# Set random seed to 10\n",
    "set.seed(10)\n",
    "\n",
    "# Simulate 52 weeks of 3 deals\n",
    "deals <- rbinom(52, 3, 0.3)\n",
    "\n",
    "# Calculate mean deals won per week\n",
    "mean(deals)"
   ]
  },
  {
   "cell_type": "markdown",
   "metadata": {},
   "source": [
    "# Calculating binomial probabilities\n",
    "\n",
    "Just as in the last exercise, assume that Amir wins 30% of deals. He wants to get an idea of how likely he is to close a certain number of deals each week. In this exercise, you'll calculate what the chances are of him closing different numbers of deals using the binomial distribution.\n",
    "\n",
    "# Instructions:\n",
    "\n",
    "- What's the probability that Amir closes all 3 deals in a week?"
   ]
  },
  {
   "cell_type": "code",
   "execution_count": null,
   "metadata": {},
   "outputs": [],
   "source": [
    "# Probability of closing 3 out of 3 deals\n",
    "dbinom(3, 3, 0.3)"
   ]
  },
  {
   "cell_type": "markdown",
   "metadata": {},
   "source": [
    "- What's the probability that Amir closes 1 or fewer deals in a week?"
   ]
  },
  {
   "cell_type": "code",
   "execution_count": null,
   "metadata": {},
   "outputs": [],
   "source": [
    "# Probability of closing <= 1 deal out of 3 deals\n",
    "pbinom(1, 3, 0.3)"
   ]
  },
  {
   "cell_type": "markdown",
   "metadata": {},
   "source": [
    "- What's the probability that Amir closes more than 1 deal?"
   ]
  },
  {
   "cell_type": "code",
   "execution_count": null,
   "metadata": {},
   "outputs": [],
   "source": [
    "# Probability of closing > 1 deal out of 3 deals\n",
    "pbinom(1, 3, 0.3, lower.tail = FALSE)"
   ]
  },
  {
   "cell_type": "markdown",
   "metadata": {},
   "source": [
    "# How many sales will be won?\n",
    "\n",
    "Now Amir wants to know how many deals he can expect to close each week if his win rate changes. Luckily, you can use your binomial distribution knowledge to help him calculate the expected value in different situations. Recall from the video that the expected value of a binomial distribution can be calculated by \n",
    ".\n",
    "\n",
    "# Instructions:\n",
    "\n",
    "- Calculate the expected number of sales out of the 3 he works on that Amir will win each week if he maintains his 30% win rate.\n",
    "- Calculate the expected number of sales out of the 3 he works on that he'll win if his win rate drops to 25%.\n",
    "- Calculate the expected number of sales out of the 3 he works on that he'll win if his win rate rises to 35%."
   ]
  },
  {
   "cell_type": "code",
   "execution_count": null,
   "metadata": {},
   "outputs": [],
   "source": [
    "# Expected number won with 30% win rate\n",
    "won_30pct <- 3 * 0.3\n",
    "won_30pct\n",
    "\n",
    "# Expected number won with 25% win rate\n",
    "won_25pct <- 3 * 0.25\n",
    "won_25pct\n",
    "\n",
    "# Expected number won with 35% win rate\n",
    "won_35pct <- 3 * 0.35\n",
    "won_35pct"
   ]
  }
 ],
 "metadata": {
  "language_info": {
   "name": "python"
  }
 },
 "nbformat": 4,
 "nbformat_minor": 2
}
