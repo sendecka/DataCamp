{
 "cells": [
  {
   "cell_type": "markdown",
   "metadata": {},
   "source": [
    "# 4 Case Study\n",
    "\n",
    "Apply what you've learned to explore and summarize a real world dataset in this case study of email spam."
   ]
  },
  {
   "cell_type": "markdown",
   "metadata": {},
   "source": [
    "# Spam and num_char\n",
    "\n",
    "Is there an association between spam and the length of an email? You could imagine a story either way:\n",
    "\n",
    "Spam is more likely to be a short message tempting me to click on a link, or\n",
    "My normal email is likely shorter since I exchange brief emails with my friends all the time.\n",
    "Here, you'll use the email dataset to settle that question. Begin by bringing up the help file and learning about all the variables with ?email.\n",
    "\n",
    "As you explore the association between spam and the length of an email, use this opportunity to try out linking a dplyr chain with the layers in a ggplot2 object.\n",
    "\n",
    "# Instructions:\n",
    "\n",
    "- Using the email dataset\n",
    "- Load the packages ggplot2, dplyr, and openintro.\n",
    "- Compute appropriate measures of the center and spread of num_char for both spam and not-spam using group_by() and summarize(). No need to name the new columns created by summarize().\n",
    "- Construct side-by-side box plots to visualize the association between the same two variables. It will be useful to mutate() a new column containing a log-transformed version of num_char."
   ]
  },
  {
   "cell_type": "code",
   "execution_count": null,
   "metadata": {},
   "outputs": [],
   "source": [
    "# Load packages\n",
    "library(ggplot2)\n",
    "library(dplyr)\n",
    "library(openintro)\n",
    "\n",
    "\n",
    "\n",
    "# Compute summary statistics\n",
    "email %>%\n",
    "  group_by(spam) %>%\n",
    "  summarize(median(num_char),\n",
    "  IQR(num_char))\n",
    "\n",
    "# Create plot\n",
    "email %>%\n",
    "  mutate(log_num_char = log(num_char)) %>%\n",
    "  ggplot(aes(x = spam, y = log_num_char)) +\n",
    "  geom_boxplot()"
   ]
  },
  {
   "cell_type": "markdown",
   "metadata": {},
   "source": [
    "# Spam and num_char interpretation\n",
    "\n",
    "Which of the following interpretations of the plot is valid?\n",
    "\n",
    "# Instructions:\n",
    "\n",
    "Possible answers\n",
    "\n",
    "( ) The shortest email in this dataset was not spam.\n",
    "\n",
    "(x) The median length of not-spam emails is greater than that of spam emails.\n",
    "\n",
    "( ) The IQR of email length of spam is greater than that of not-spam."
   ]
  },
  {
   "cell_type": "markdown",
   "metadata": {},
   "source": [
    "# Spam and !!!\n",
    "\n",
    "Let's look at a more obvious indicator of spam: exclamation marks. exclaim_mess contains the number of exclamation marks in each message. Using summary statistics and visualization, see if there is a relationship between this variable and whether or not a message is spam.\n",
    "\n",
    "Experiment with different types of plots until you find one that is the most informative. Recall that you've seen:\n",
    "\n",
    "Side-by-side box plots\n",
    "Faceted histograms\n",
    "Overlaid density plots\n",
    "\n",
    "# Instructions:\n",
    "\n",
    "- The email dataset is still available in your workspace.\n",
    "\n",
    "Calculate appropriate measures of the center and spread of exclaim_mess for both spam and not-spam using group_by() and summarize().\n",
    "Construct an appropriate plot to visualize the association between the same two variables, adding in a log-transformation step if necessary.\n",
    "If you decide to use a log transformation, remember that log(0) is -Inf in R, which isn't a very useful value! You can get around this by adding a small number (like 0.01) to the quantity inside the log() function. This way, your value is never zero. This small shift to the right won't affect your results."
   ]
  },
  {
   "cell_type": "code",
   "execution_count": null,
   "metadata": {},
   "outputs": [],
   "source": [
    "# Compute center and spread for exclaim_mess by spam\n",
    "email %>%\n",
    "  group_by(spam) %>%\n",
    "  summarize(median(exclaim_mess),\n",
    "            IQR(exclaim_mess))\n",
    "\n",
    "# Create plot for spam and exclaim_mess\n",
    "email %>%\n",
    "  mutate(log_exclaim_mess = log(exclaim_mess + 0.01)) %>%\n",
    "  ggplot(aes(x = log_exclaim_mess)) +\n",
    "  geom_histogram() +\n",
    "  facet_wrap(~ spam)\n",
    "\n",
    "# Alternative plot: side-by-side box plots\n",
    "email %>%\n",
    "  mutate(log_exclaim_mess = log(exclaim_mess + 0.01)) %>%\n",
    "  ggplot(aes(x = 1, y = log_exclaim_mess)) +\n",
    "  geom_boxplot() +\n",
    "  facet_wrap(~ spam)\n",
    "\n",
    "# Alternative plot: Overlaid density plots\n",
    "email %>%\n",
    "  mutate(log_exclaim_mess = log(exclaim_mess + .01)) %>%\n",
    "  ggplot(aes(x = log_exclaim_mess, fill = spam)) +\n",
    "  geom_density(alpha = 0.3)"
   ]
  },
  {
   "cell_type": "markdown",
   "metadata": {},
   "source": [
    "# Spam and !!! interpretation\n",
    "\n",
    "Which interpretation of these faceted histograms is not correct?\n",
    "\n",
    "# Instructions:\n",
    "\n",
    "Possible answers\n",
    "\n",
    "( ) The most common value of exclaim_mess in both classes of email is zero (a log(exclaim_mess) of -4.6 after adding .01).\n",
    "\n",
    "(x) There are more cases of spam in this dataset than not-spam.\n",
    "\n",
    "( ) Even after a transformation, the distribution of exclaim_mess in both classes of email is right-skewed.\n",
    "\n",
    "( ) The typical number of exclamations in the not-spam group appears to be slightly higher than in the spam group."
   ]
  },
  {
   "cell_type": "markdown",
   "metadata": {},
   "source": [
    "# Collapsing levels\n",
    "\n",
    "If it was difficult to work with the heavy skew of exclaim_mess, the number of images attached to each email (image) poses even more of a challenge. Run the following code at the console to get a sense of its distribution:\n",
    "\n",
    "table(email$image)\n",
    "Recall that this tabulates the number of cases in each category (so there were 3811 emails with 0 images, for example). Given the very low counts at the higher number of images, let's collapse image into a categorical variable that indicates whether or not the email had at least one image. In this exercise, you'll create this new variable and explore its association with spam.\n",
    "\n",
    "# Instructions:\n",
    "\n",
    "- Starting with email, form a continuous chain that links together the following tasks:\n",
    "- Create a new variable called has_image that is TRUE where the number of images is greater than zero and FALSE otherwise.\n",
    "- Create an appropriate plot with email to visualize the relationship between has_image and spam."
   ]
  },
  {
   "cell_type": "code",
   "execution_count": null,
   "metadata": {},
   "outputs": [],
   "source": [
    "# Create plot of proportion of spam by image\n",
    "email %>%\n",
    "  mutate(has_image = image > 0) %>%\n",
    "  ggplot(aes(x = has_image, fill = spam)) +\n",
    "  geom_bar(position = \"fill\")"
   ]
  },
  {
   "cell_type": "markdown",
   "metadata": {},
   "source": [
    "# Image and spam interpretation\n",
    "\n",
    "Which of the following interpretations of the plot is valid?\n",
    "\n",
    "# Instructions:\n",
    "\n",
    "Possible answers\n",
    "\n",
    "( ) There are more emails with images than without images.\n",
    "\n",
    "( ) Emails with images have a higher proportion that are spam than do emails without images.\n",
    "\n",
    "(x) An email without an image is more likely to be not-spam than spam."
   ]
  },
  {
   "cell_type": "markdown",
   "metadata": {},
   "source": [
    "# Data Integrity\n",
    "\n",
    "In the process of exploring a dataset, you'll sometimes come across something that will lead you to question how the data were compiled. For example, the variable num_char contains the number of characters in the email, in thousands, so it could take decimal values, but it certainly shouldn't take negative values.\n",
    "\n",
    "You can formulate a test to ensure this variable is behaving as we expect:\n",
    "\n",
    "email$num_char < 0\n",
    "If you run this code at the console, you'll get a long vector of logical values indicating for each case in the dataset whether that condition is TRUE. Here, the first 1000 values all appear to be FALSE. To verify that all of the cases indeed have non-negative values for num_char, we can take the sum of this vector:\n",
    "\n",
    "sum(email$num_char < 0)\n",
    "This is a handy shortcut. When you do arithmetic on logical values, R treats TRUE as 1 and FALSE as 0. Since the sum over the whole vector is zero, you learn that every case in the dataset took a value of FALSE in the test. That is, the num_char column is behaving as we expect and taking only non-negative values.\n",
    "\n",
    "# Instructions:\n",
    "\n",
    "- Consider the variables image and attach. You can read about them with ?email, but the help file is ambiguous: do attached images count as attached files in this dataset?\n",
    "\n",
    "- Design a simple test to determine if images count as attached files. This involves creating a logical condition to compare the values of the two variables, then using sum() to assess every case in the dataset. Recall that the logical operators are < for less than, <= for less than or equal to, > for greater than, >= for greater than or equal to, and == for equal to.\n",
    "\n",
    "\n"
   ]
  },
  {
   "cell_type": "code",
   "execution_count": null,
   "metadata": {},
   "outputs": [],
   "source": [
    "# Test if images count as attachments\n",
    "sum(email$image >  email$attached)"
   ]
  },
  {
   "cell_type": "markdown",
   "metadata": {},
   "source": [
    "# Answering questions with chains\n",
    "\n",
    "When you have a specific question about a dataset, you can find your way to an answer by carefully constructing the appropriate chain of R code. For example, consider the following question: \"Within non-spam emails, is the typical length of emails shorter for those that were sent to multiple people?\"\n",
    "\n",
    "This can be answered with the following chain:\n",
    "\n",
    "email %>%\n",
    "   filter(spam == \"not-spam\") %>%\n",
    "   group_by(to_multiple) %>%\n",
    "   summarize(median(num_char))\n",
    "The code makes it clear that you are using num_char to measure the length of an email and median() as the measure of what is typical. If you run this code, you'll learn that the answer to the question is \"yes\": the typical length of non-spam sent to multiple people is a bit lower than those sent to only one person.\n",
    "\n",
    "This chain concluded with summary statistics, but others might end in a plot; it all depends on the question that you're trying to answer.\n",
    "\n",
    "# Instructions:\n",
    "\n",
    "- Build a chain to answer each of the following questions, both about the variable dollar.\n",
    "\n",
    "- For emails containing the word \"dollar\", does the typical spam email contain a greater number of occurrences of the word than the typical non-spam email? Create a summary statistic that answers this question.\n",
    "If you encounter an email with greater than 10 occurrences of the word dollar, is it more likely to be spam or not-spam? Create a bar chart that answers this question."
   ]
  },
  {
   "cell_type": "code",
   "execution_count": null,
   "metadata": {},
   "outputs": [],
   "source": [
    "# Question 1\n",
    "email %>%\n",
    "  filter(dollar > 0) %>%\n",
    "  group_by(spam) %>%\n",
    "  summarize(median(dollar))\n",
    "\n",
    "# Question 2\n",
    "email %>%\n",
    "  filter(dollar > 10) %>%\n",
    "  ggplot(aes(x = spam)) +\n",
    "  geom_bar()"
   ]
  },
  {
   "cell_type": "markdown",
   "metadata": {},
   "source": [
    "# What's in a number?\n",
    "\n",
    "Turn your attention to the variable called number. Read more about it by pulling up the help file with ?email.\n",
    "\n",
    "To explore the association between this variable and spam, select and construct an informative plot. For illustrating relationships between categorical variables, you've seen\n",
    "\n",
    "Faceted bar charts\n",
    "Side-by-side bar charts\n",
    "Stacked and normalized bar charts.\n",
    "Let's practice constructing a faceted bar chart.\n",
    "\n",
    "# Instructions:\n",
    "\n",
    "- Reorder the levels of number so that they preserve the natural ordering of \"none\", then \"small\", then \"big\", saving to a number_reordered column.\n",
    "- Construct a faceted bar chart of the association between number and spam."
   ]
  },
  {
   "cell_type": "code",
   "execution_count": null,
   "metadata": {},
   "outputs": [],
   "source": [
    "# Reorder levels\n",
    "email$number_reordered <- factor(email$number,\n",
    "c(\"none\", \"small\", \"big\"))\n",
    "\n",
    "# Construct plot of number_reordered\n",
    "ggplot(email, aes(x = number_reordered)) +\n",
    "  geom_bar() + \n",
    "  facet_wrap(~spam)"
   ]
  },
  {
   "cell_type": "markdown",
   "metadata": {},
   "source": [
    "# What's in a number interpretation\n",
    "\n",
    "Which of the following interpretations of the plot is not valid?\n",
    "\n",
    "# Instructions:\n",
    "\n",
    "Possible answers\n",
    "\n",
    "( ) Given that an email contains a small number, it is more likely to be not-spam.\n",
    "\n",
    "(x) Given that an email contains no number, it is more likely to be spam.\n",
    "\n",
    "( ) Given that an email contains a big number, it is more likely to be not-spam.\n",
    "\n",
    "( ) Within both spam and not-spam, the most common number is a small one.\n",
    "\n",
    "( ) Take Hint (-15 XP)"
   ]
  }
 ],
 "metadata": {
  "language_info": {
   "name": "python"
  }
 },
 "nbformat": 4,
 "nbformat_minor": 2
}
