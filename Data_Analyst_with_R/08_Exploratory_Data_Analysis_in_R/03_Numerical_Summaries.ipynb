{
 "cells": [
  {
   "cell_type": "markdown",
   "metadata": {},
   "source": [
    "# 3 Numerical Summaries\n",
    "\n",
    "Now that we've looked at exploring categorical and numerical data, you'll learn some useful statistics for describing distributions of data."
   ]
  },
  {
   "cell_type": "markdown",
   "metadata": {},
   "source": [
    "# Choice of center measure\n",
    "\n",
    "The choice of measure for center can have a dramatic impact on what we consider to be a typical observation, so it is important that you consider the shape of the distribution before deciding on the measure.\n",
    "\n",
    "Which set of measures of central tendency would be worst for describing the two distributions shown here?\n",
    "\n",
    "# Instructions:\n",
    "\n",
    "Possible answers\n",
    "\n",
    "( ) A: mode, B: median\n",
    "\n",
    "(x) A: mean, B: mode\n",
    "\n",
    "( ) A: median, B: mean\n",
    "\n",
    "( ) A: median, B: median"
   ]
  },
  {
   "cell_type": "markdown",
   "metadata": {},
   "source": [
    "# Calculate center measures\n",
    "\n",
    "Throughout this chapter, you will use data from gapminder, which tracks demographic data in countries of the world over time. To learn more about it, you can bring up the help file with ?gapminder.\n",
    "\n",
    "For this exercise, focus on how the life expectancy differs from continent to continent. This requires that you conduct your analysis not at the country level, but aggregated up to the continent level. This is made possible by the one-two punch of group_by() and summarize(), a very powerful syntax for carrying out the same analysis on different subsets of the full dataset.\n",
    "\n",
    "# Instructions:\n",
    "\n",
    "- Create a dataset called gap2007 that contains only data from the year 2007.\n",
    "- Using gap2007, calculate the mean and median life expectancy for each continent. Don't worry about naming the new columns produced by summarize().\n",
    "- Confirm the trends that you see in the medians by generating side-by-side box plots of life expectancy for each continent."
   ]
  },
  {
   "cell_type": "code",
   "execution_count": null,
   "metadata": {},
   "outputs": [],
   "source": [
    "# Create dataset of 2007 data\n",
    "gap2007 <- filter(gapminder, year == 2007)\n",
    "\n",
    "# Compute groupwise mean and median lifeExp\n",
    "gap2007 %>%\n",
    "  group_by(continent) %>%\n",
    "  summarize(mean(lifeExp),\n",
    "            median(lifeExp))\n",
    "\n",
    "# Generate box plots of lifeExp for each continent\n",
    "gap2007 %>%\n",
    "  ggplot(aes(x = continent, y = lifeExp)) +\n",
    "  geom_boxplot()"
   ]
  },
  {
   "cell_type": "markdown",
   "metadata": {},
   "source": [
    "# Choice of spread measure\n",
    "\n",
    "The choice of measure for spread can dramatically impact how variable we consider our data to be, so it is important that you consider the shape of the distribution before deciding on the measure.\n",
    "\n",
    "Which set of measures of spread would be worst for describing the two distributions shown here?\n",
    "\n",
    "# Instructions:\n",
    "\n",
    "Possible answers\n",
    "\n",
    "( ) A: IQR, B: IQR\n",
    "\n",
    "( ) A: SD, B: IQR\n",
    "\n",
    "( ) A: Variance, B: Range"
   ]
  },
  {
   "cell_type": "markdown",
   "metadata": {},
   "source": [
    "# Calculate spread measures\n",
    "\n",
    "Let's extend the powerful group_by() and summarize() syntax to measures of spread. If you're unsure whether you're working with symmetric or skewed distributions, it's a good idea to consider a robust measure like IQR in addition to the usual measures of variance or standard deviation.\n",
    "\n",
    "# Instructions:\n",
    "\n",
    "- The gap2007 dataset that you created in an earlier exercise is available in your workspace.\n",
    "\n",
    "- For each continent in gap2007, summarize life expectancies using the sd(), the IQR(), and the count of countries, n(). No need to name the new columns produced here. The n() function within your summarize() call does not take any arguments.\n",
    "- Graphically compare the spread of these distributions by constructing overlaid density plots of life expectancy broken down by continent."
   ]
  },
  {
   "cell_type": "code",
   "execution_count": null,
   "metadata": {},
   "outputs": [],
   "source": [
    "# Compute groupwise measures of spread\n",
    "gap2007 %>%\n",
    "  group_by(continent) %>%\n",
    "  summarize(sd(lifeExp),\n",
    "            IQR(lifeExp),\n",
    "            n())\n",
    "\n",
    "# Generate overlaid density plots\n",
    "gap2007 %>%\n",
    "  ggplot(aes(x = lifeExp, fill = continent)) +\n",
    "  geom_density(alpha = 0.3)"
   ]
  },
  {
   "cell_type": "markdown",
   "metadata": {},
   "source": [
    "# Choose measures for center and spread\n",
    "\n",
    "Consider the density plots shown here. What are the most appropriate measures to describe their centers and spreads? In this exercise, you'll select the measures and then calculate them.\n",
    "\n",
    "# Instructions:\n",
    "\n",
    "- Using the shapes of the density plots, calculate the most appropriate measures of center and spread for the following:\n",
    "- The distribution of life expectancy in the countries of the Americas. Note you'll need to apply a filter here.\n",
    "- The distribution of country populations across the entire gap2007 dataset."
   ]
  },
  {
   "cell_type": "code",
   "execution_count": null,
   "metadata": {},
   "outputs": [],
   "source": [
    "# Compute stats for lifeExp in Americas\n",
    "gap2007 %>%\n",
    "  filter(continent == \"Americas\") %>%\n",
    "  summarize(mean(lifeExp),\n",
    "            sd(lifeExp))\n",
    "\n",
    "# Compute stats for population\n",
    "gap2007 %>%\n",
    "  summarize(median(pop),\n",
    "            IQR(pop))"
   ]
  },
  {
   "cell_type": "markdown",
   "metadata": {},
   "source": [
    "# Describe the shape\n",
    "\n",
    "To build some familiarity with distributions of different shapes, consider the four that are plotted here. Which of the following options does the best job of describing their shape in terms of modality and skew/symmetry?\n",
    "\n",
    "# Instructions:\n",
    "\n",
    "Possible answers\n",
    "\n",
    "( ) A: bimodal symmetric; B: unimodal symmetric; C: unimodal left-skewed, D: bimodal right-skewed.\n",
    "\n",
    "(x) A: unimodal left-skewed; B: unimodal symmetric; C: unimodal right-skewed, D: bimodal symmetric.\n",
    "\n",
    "( ) A: unimodal right-skewed; B: unimodal left-skewed; C: unimodal left-skewed; D: bimodal symmetric.\n",
    "\n",
    "( ) A: unimodal left-skewed; B: bimodal symmetric; C: unimodal right-skewed, D: unimodal symmetric."
   ]
  },
  {
   "cell_type": "markdown",
   "metadata": {},
   "source": [
    "# Transformations\n",
    "\n",
    "Highly skewed distributions can make it very difficult to learn anything from a visualization. Transformations can be helpful in revealing the more subtle structure.\n",
    "\n",
    "Here you'll focus on the population variable, which exhibits strong right skew, and transform it with the natural logarithm function (log() in R).\n",
    "\n",
    "# Instructions:\n",
    "\n",
    "- Using the gap2007 data:\n",
    "- Create a density plot of the population variable.\n",
    "- Mutate a new column called log_pop that is the natural log of the population and save it back into gap2007.\n",
    "- Create a density plot of your transformed variable."
   ]
  },
  {
   "cell_type": "code",
   "execution_count": null,
   "metadata": {},
   "outputs": [],
   "source": [
    "# Create density plot of old variable\n",
    "gap2007 %>%\n",
    "  ggplot(aes(x = pop)) +\n",
    "  geom_density()\n",
    "\n",
    "# Transform the skewed pop variable\n",
    "gap2007 <- gap2007 %>%\n",
    "  mutate(log_pop = log(pop))\n",
    "\n",
    "# Create density plot of new variable\n",
    "gap2007 %>%\n",
    "  ggplot(aes(x = log_pop)) +\n",
    "  geom_density()"
   ]
  },
  {
   "cell_type": "markdown",
   "metadata": {},
   "source": [
    "# Identify outliers\n",
    "\n",
    "Consider the distribution, shown here, of the life expectancies of the countries in Asia. The box plot identifies one clear outlier: a country with a notably low life expectancy. Do you have a guess as to which country this might be? Test your guess in the console using either min() or filter(), then proceed to building a plot with that country removed.\n",
    "\n",
    "# Instructions:\n",
    "\n",
    "- gap2007 is still available in your workspace.\n",
    "- Apply a filter so that it only contains observations from Asia, then create a new variable called is_outlier that is TRUE for countries with life expectancy less than 50. Assign the result to gap_asia.\n",
    "- Filter gap_asia to remove all outliers, then create another box plot of the remaining life expectancies."
   ]
  },
  {
   "cell_type": "code",
   "execution_count": null,
   "metadata": {},
   "outputs": [],
   "source": [
    "# Filter for Asia, add column indicating outliers\n",
    "gap_asia <- gap2007 %>%\n",
    "  filter(continent == \"Asia\") %>%\n",
    "  mutate(is_outlier = lifeExp < 50)\n",
    "\n",
    "# Remove outliers, create box plot of lifeExp\n",
    "gap_asia %>%\n",
    "  filter(!is_outlier) %>%\n",
    "  ggplot(aes(x = 1, y = lifeExp)) +\n",
    "  geom_boxplot()"
   ]
  }
 ],
 "metadata": {
  "language_info": {
   "name": "python"
  }
 },
 "nbformat": 4,
 "nbformat_minor": 2
}
