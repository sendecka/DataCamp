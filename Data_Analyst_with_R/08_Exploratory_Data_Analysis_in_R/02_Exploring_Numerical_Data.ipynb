{
 "cells": [
  {
   "cell_type": "markdown",
   "metadata": {},
   "source": [
    "# 2 Exploring Numerical Data\n",
    "\n",
    "In this chapter, you will learn how to graphically summarize numerical data."
   ]
  },
  {
   "cell_type": "markdown",
   "metadata": {},
   "source": [
    "# Faceted histogram\n",
    "\n",
    "In this chapter, you'll be working with the cars dataset, which records characteristics on all of the new models of cars for sale in the US in a certain year. You will investigate the distribution of mileage across a categorical variable, but before you get there, you'll want to familiarize yourself with the dataset.\n",
    "\n",
    "# Instructions:\n",
    "\n",
    "- The cars dataset has been loaded in your workspace.\n",
    "\n",
    "* Load the ggplot2 package.\n",
    "* View the size of the data and the variable types using str().\n",
    "* Plot a histogram of city_mpg faceted by suv, a logical variable indicating whether the car is an SUV or not."
   ]
  },
  {
   "cell_type": "code",
   "execution_count": null,
   "metadata": {},
   "outputs": [],
   "source": [
    "# Load package\n",
    "library(ggplot2)\n",
    "\n",
    "# Learn data structure\n",
    "str(cars)\n",
    "\n",
    "# Create faceted histogram\n",
    "ggplot(cars, aes(x = city_mpg)) +\n",
    "  geom_histogram() +\n",
    "  facet_wrap(~ suv)"
   ]
  },
  {
   "cell_type": "markdown",
   "metadata": {},
   "source": [
    "# Boxplots and density plots\n",
    "\n",
    "The mileage of a car tends to be associated with the size of its engine (as measured by the number of cylinders). To explore the relationship between these two variables, you could stick to using histograms, but in this exercise you'll try your hand at two alternatives: the box plot and the density plot.\n",
    "\n",
    "# Instructions:\n",
    "\n",
    "- A quick look at unique(cars$ncyl) shows that there are more possible levels of ncyl than you might think. Here, restrict your attention to the most common levels.\n",
    "\n",
    "- Filter cars to include only cars with 4, 6, or 8 cylinders and save the result as common_cyl. The %in% operator may prove useful here.\n",
    "- Create side-by-side box plots of city_mpg separated out by ncyl.\n",
    "- Create overlaid density plots of city_mpg colored by ncyl."
   ]
  },
  {
   "cell_type": "code",
   "execution_count": null,
   "metadata": {},
   "outputs": [],
   "source": [
    "# Filter cars with 4, 6, 8 cylinders\n",
    "common_cyl <- filter(cars, ncyl %in% c(4, 6, 8))\n",
    "\n",
    "# Create box plots of city mpg by ncyl\n",
    "ggplot(common_cyl, aes(x = as.factor(ncyl), y = city_mpg)) +\n",
    "  geom_boxplot()\n",
    "\n",
    "# Create overlaid density plots for same data\n",
    "ggplot(common_cyl, aes(x = city_mpg, fill = as.factor(ncyl))) +\n",
    "  geom_density(alpha = .3)"
   ]
  },
  {
   "cell_type": "markdown",
   "metadata": {},
   "source": [
    "# Compare distribution via plots\n",
    "\n",
    "Which of the following interpretations of the plot is not valid?\n",
    "\n",
    "# Instructions:\n",
    "\n",
    "Possible answers\n",
    "\n",
    "( ) The highest mileage cars have 4 cylinders.\n",
    "\n",
    "( ) The typical 4 cylinder car gets better mileage than the typical 6 cylinder car, which gets better mileage than the typical 8 cylinder car.\n",
    "\n",
    "( ) Most of the 4 cylinder cars get better mileage than even the most efficient 8 cylinder cars.\n",
    "\n",
    "(x) The variability in mileage of 8 cylinder cars is similar to the variability in mileage of 4 cylinder cars."
   ]
  },
  {
   "cell_type": "markdown",
   "metadata": {},
   "source": [
    "# Marginal and conditional histograms\n",
    "\n",
    "Now, turn your attention to a new variable: horsepwr. The goal is to get a sense of the marginal distribution of this variable and then compare it to the distribution of horsepower conditional on the price of the car being less than $25,000.\n",
    "\n",
    "You'll be making two plots using the \"data pipeline\" paradigm, where you start with the raw data and end with the plot.\n",
    "\n",
    "# Instructions:\n",
    "\n",
    "- Create a histogram of the distribution of horsepwr across all cars and add an appropriate title. Start by piping in the raw dataset.\n",
    "- Create a second histogram of the distribution of horsepower, but only for those cars that have an msrp less than $25,000. Keep the limits of the x-axis so that they're similar to that of the first plot, and add a descriptive title."
   ]
  },
  {
   "cell_type": "code",
   "execution_count": null,
   "metadata": {},
   "outputs": [],
   "source": [
    "# Create hist of horsepwr\n",
    "cars %>%\n",
    "  ggplot(aes(horsepwr)) +\n",
    "  geom_histogram() +\n",
    "  ggtitle(\"Distribution of horsepower\")\n",
    "\n",
    "# Create hist of horsepwr for affordable cars\n",
    "cars %>% \n",
    "  filter(msrp < 25000) %>%\n",
    "  ggplot(aes(horsepwr)) +\n",
    "  geom_histogram() +\n",
    "  xlim(c(90, 550)) +\n",
    "  ggtitle(\"Distribution of horsepower for cars under $25k\")"
   ]
  },
  {
   "cell_type": "markdown",
   "metadata": {},
   "source": [
    "# Marginal and conditional histograms interpretation\n",
    "\n",
    "Observe the two histograms in the plotting window and decide which of the following is a valid interpretation.\n",
    "\n",
    "# Instructions:\n",
    "\n",
    "Possible answers\n",
    "\n",
    "( ) Cars with around 300 horsepower are more common than cars with around 200 horsepower.\n",
    "\n",
    "(x) The highest horsepower car in the less expensive range has just under 250 horsepower.\n",
    "\n",
    "( ) Most cars under $25,000 vary from roughly 100 horsepower to roughly 350 horsepower."
   ]
  },
  {
   "cell_type": "markdown",
   "metadata": {},
   "source": [
    "# Three binwidths\n",
    "\n",
    "Before you take these plots for granted, it's a good idea to see how things change when you alter the binwidth. The binwidth determines how smooth your distribution will appear: the smaller the binwidth, the more jagged your distribution becomes. It's good practice to consider several binwidths in order to detect different types of structure in your data.\n",
    "\n",
    "# Instructions:\n",
    "\n",
    "- Create the following three plots, adding a title to each to indicate the binwidth used:\n",
    "\n",
    "* A histogram of horsepower (i.e. horsepwr) with a binwidth of 3.\n",
    "* A second histogram of horsepower with a binwidth of 30.\n",
    "* A third histogram of horsepower with a binwidth of 60."
   ]
  },
  {
   "cell_type": "code",
   "execution_count": null,
   "metadata": {},
   "outputs": [],
   "source": [
    "# Create hist of horsepwr with binwidth of 3\n",
    "cars %>%\n",
    "  ggplot(aes(horsepwr)) +\n",
    "  geom_histogram(binwidth = 3) +\n",
    "  ggtitle(\"Distribution of horsepower: bindwidth 3\")\n",
    "\n",
    "# Create hist of horsepwr with binwidth of 30\n",
    "cars %>%\n",
    "  ggplot(aes(horsepwr)) +\n",
    "  geom_histogram(binwidth = 30) +\n",
    "  ggtitle(\"Distribution of horsepower: bindwidth 30\")\n",
    "\n",
    "# Create hist of horsepwr with binwidth of 60\n",
    "cars %>%\n",
    "  ggplot(aes(horsepwr)) +\n",
    "  geom_histogram(binwidth = 60) +\n",
    "  ggtitle(\"Distribution of horsepower: bindwidth 60\")"
   ]
  },
  {
   "cell_type": "markdown",
   "metadata": {},
   "source": [
    "# Three binwidths interpretation\n",
    "\n",
    "What feature is present in Plot A that's not found in B or C?\n",
    "\n",
    "# Instructions:\n",
    "\n",
    "Possible answers\n",
    "\n",
    "( ) The most common horsepower is around 200.\n",
    "\n",
    "(x) There is a tendency for cars to have horsepower right at 200 or 300 horsepower.\n",
    "\n",
    "( ) There is a second mode around 300 horsepower."
   ]
  },
  {
   "cell_type": "markdown",
   "metadata": {},
   "source": [
    "# Box plots for outliers\n",
    "\n",
    "In addition to indicating the center and spread of a distribution, a box plot provides a graphical means to detect outliers. You can apply this method to the msrp column (manufacturer's suggested retail price) to detect if there are unusually expensive or cheap cars.\n",
    "\n",
    "# Instructions:\n",
    "\n",
    "- Construct a box plot of msrp.\n",
    "- Exclude the largest 3-5 outliers by filtering the rows to retain cars less than $100,000. Save this reduced dataset as cars_no_out.\n",
    "- Construct a similar box plot of msrp using this reduced dataset. Compare the two plots."
   ]
  },
  {
   "cell_type": "code",
   "execution_count": null,
   "metadata": {},
   "outputs": [],
   "source": [
    "# Construct box plot of msrp\n",
    "cars %>%\n",
    "  ggplot(aes(x = 1, y = msrp)) +\n",
    "  geom_boxplot()\n",
    "\n",
    "# Exclude outliers from data\n",
    "cars_no_out <- cars %>%\n",
    "  filter(msrp < 100000)\n",
    "\n",
    "# Construct box plot of msrp using the reduced dataset\n",
    "cars_no_out %>%\n",
    "  ggplot(aes(x = 1, y = msrp)) +\n",
    "  geom_boxplot()"
   ]
  },
  {
   "cell_type": "markdown",
   "metadata": {},
   "source": [
    "# Plot selection\n",
    "\n",
    "Consider two other columns in the cars dataset: city_mpg and width. Which is the most appropriate plot for displaying the important features of their distributions? Remember, both density plots and box plots display the central tendency and spread of the data, but the box plot is more robust to outliers.\n",
    "\n",
    "# Instructions:\n",
    "\n",
    "- Use density plots or box plots to construct the following visualizations. For each variable, try both plots and submit the one that is better at capturing the important structure.\n",
    "\n",
    "- Display the distribution of city_mpg.\n",
    "- Display the distribution of width."
   ]
  },
  {
   "cell_type": "code",
   "execution_count": null,
   "metadata": {},
   "outputs": [],
   "source": [
    "# Create plot of city_mpg\n",
    "cars %>%\n",
    "  ggplot(aes(x = 1, y = city_mpg)) +\n",
    "  geom_boxplot()\n",
    "\n",
    "# Create plot of width\n",
    "cars %>% \n",
    "  ggplot(aes(x = width)) +\n",
    "  geom_density()"
   ]
  },
  {
   "cell_type": "markdown",
   "metadata": {},
   "source": [
    "# 3 variable plot\n",
    "\n",
    "Faceting is a valuable technique for looking at several conditional distributions at the same time. If the faceted distributions are laid out in a grid, you can consider the association between a variable and two others, one on the rows of the grid and the other on the columns.\n",
    "\n",
    "# Instructions:\n",
    "\n",
    "- common_cyl, which you created to contain only cars with 4, 6, or 8 cylinders, is available in your workspace.\n",
    "\n",
    "- Using common_cyl, create a histogram of hwy_mpg.\n",
    "- Grid-facet the plot rowwise by ncyl and columnwise by suv.\n",
    "- Add a title to your plot to indicate what variables are being faceted on."
   ]
  },
  {
   "cell_type": "code",
   "execution_count": null,
   "metadata": {},
   "outputs": [],
   "source": [
    "# Facet hists using hwy mileage and ncyl\n",
    "common_cyl %>%\n",
    "  ggplot(aes(x = hwy_mpg)) +\n",
    "  geom_histogram() +\n",
    "  facet_grid(ncyl ~ suv) +\n",
    "  ggtitle(\"Mileage by suv and ncyl\")"
   ]
  },
  {
   "cell_type": "markdown",
   "metadata": {},
   "source": [
    "# Interpret 3 var plot\n",
    "\n",
    "Which of the following interpretations of the plot is valid?\n",
    "\n",
    "# Instructions:\n",
    "\n",
    "Possible answers\n",
    "\n",
    "( ) Across both SUVs and non-SUVs, mileage tends to decrease as the number of cylinders increases.\n",
    "\n",
    "( ) There are more SUVs than non-SUVs across all cylinder types.\n",
    "\n",
    "( ) There is more variability in 6-cylinder non-SUVs than in any other type of car."
   ]
  }
 ],
 "metadata": {
  "language_info": {
   "name": "python"
  }
 },
 "nbformat": 4,
 "nbformat_minor": 2
}
