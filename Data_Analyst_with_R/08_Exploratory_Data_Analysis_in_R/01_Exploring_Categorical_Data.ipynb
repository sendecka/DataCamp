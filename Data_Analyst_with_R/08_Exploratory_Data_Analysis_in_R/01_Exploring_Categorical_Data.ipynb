{
 "cells": [
  {
   "cell_type": "markdown",
   "metadata": {},
   "source": [
    "# 1 Exploring Categorical Data\n",
    "\n",
    "In this chapter, you will learn how to create graphical and numerical summaries of two categorical variables."
   ]
  },
  {
   "cell_type": "markdown",
   "metadata": {},
   "source": [
    "# Bar chart expectations\n",
    "\n",
    "Suppose you've asked 30 people, some young, some old, what their preferred flavor of pie is: apple or pumpkin. That data could be summarized in a side-by-side bar chart. Here are three possibilities for how it might look.\n",
    "\n",
    "Which one of the bar charts shows no relationship between age and flavor? In other words, which shows that pie preference is the same for both young and old?\n",
    "\n",
    "# Instructions:\n",
    "\n",
    "Possible answers\n",
    "\n",
    "(x) Plot 1\n",
    "\n",
    "( ) Plot 2\n",
    "\n",
    "( ) Plot 3"
   ]
  },
  {
   "cell_type": "markdown",
   "metadata": {},
   "source": [
    "# Contingency table review\n",
    "\n",
    "In this chapter you'll continue working with the comics dataset introduced in the video. This is a collection of characteristics on all of the superheroes created by Marvel and DC comics in the last 80 years.\n",
    "\n",
    "Let's start by creating a contingency table, which is a useful way to represent the total counts of observations that fall into each combination of the levels of categorical variables.\n",
    "\n",
    "# Instructions:\n",
    "\n",
    "- The dataset has been loaded into your workspace as comics.\n",
    "* Type the name of the dataset to look at the rows and columns of the dataset.\n",
    "* View the levels() that the align variable can take.\n",
    "* View the levels() that the gender variable can take.\n",
    "* Create a contingency table of the same two variables."
   ]
  },
  {
   "cell_type": "code",
   "execution_count": null,
   "metadata": {},
   "outputs": [],
   "source": [
    "# Print the comics data\n",
    "comics\n",
    "\n",
    "# Check levels of align\n",
    "levels(comics$align)\n",
    "\n",
    "# Check the levels of gender\n",
    "levels(comics$gender)\n",
    "\n",
    "# Create a 2-way contingency table\n",
    "table(comics$align, comics$gender)"
   ]
  },
  {
   "cell_type": "markdown",
   "metadata": {},
   "source": [
    "# Dropping levels\n",
    "\n",
    "The contingency table from the last exercise revealed that there are some levels that have very low counts. To simplify the analysis, it often helps to drop such levels.\n",
    "\n",
    "In R, this requires two steps: first filtering out any rows with the levels that have very low counts, then removing these levels from the factor variable with droplevels(). This is because the droplevels() function would keep levels that have just 1 or 2 counts; it only drops levels that don't exist in a dataset.\n",
    "\n",
    "# Instructions:\n",
    "\n",
    "- The contingency table from the last exercise is available in your workspace as tab.\n",
    "\n",
    "* Load the dplyr package.\n",
    "* Print tab to find out which level of align has the fewest total entries.\n",
    "* Use filter() to filter out all rows of comics with that level, then drop the unused level with droplevels(). Save the simplified dataset as comics_filtered."
   ]
  },
  {
   "cell_type": "code",
   "execution_count": null,
   "metadata": {},
   "outputs": [],
   "source": [
    "# Load dplyr\n",
    "library(dplyr)\n",
    "\n",
    "# Print tab\n",
    "tab\n",
    "\n",
    "# Remove align level\n",
    "comics_filtered <- comics %>%\n",
    "  filter(align != \"Reformed Criminals\") %>%\n",
    "  droplevels()\n",
    "\n",
    "# See the result\n",
    "head(comics_filtered)"
   ]
  },
  {
   "cell_type": "markdown",
   "metadata": {},
   "source": [
    "# Side-by-side bar charts\n",
    "\n",
    "While a contingency table represents the counts numerically, it's often more useful to represent them graphically.\n",
    "\n",
    "Here you'll construct two side-by-side bar charts of the comics data. This shows that there can often be two or more options for presenting the same data. Passing the argument position = \"dodge\" to geom_bar() says that you want a side-by-side (i.e. not stacked) bar chart.\n",
    "\n",
    "# Instructions:\n",
    "\n",
    "- Load the ggplot2 package.\n",
    "- Create a side-by-side bar chart with align on the x-axis and gender as the fill aesthetic.\n",
    "- Create another side-by-side bar chart with gender on the x-axis and align as the fill aesthetic. Rotate the axis labels 90 degrees to help readability."
   ]
  },
  {
   "cell_type": "code",
   "execution_count": null,
   "metadata": {},
   "outputs": [],
   "source": [
    "# Load ggplot2\n",
    "library(ggplot2)\n",
    "\n",
    "# Create side-by-side bar chart of gender by alignment\n",
    "ggplot(comics, aes(x = align, fill = gender)) + \n",
    "  geom_bar(position = \"dodge\")\n",
    "\n",
    "# Create side-by-side bar chart of alignment by gender\n",
    "ggplot(comics, aes(x = gender, fill = align)) + \n",
    "  geom_bar(position = \"dodge\") +\n",
    "  theme(axis.text.x = element_text(angle = 90))"
   ]
  },
  {
   "cell_type": "markdown",
   "metadata": {},
   "source": [
    "# Bar chart interpretation\n",
    "\n",
    "Which of the following interpretations of the bar charts to your right is not valid?\n",
    "\n",
    "# Instructions:\n",
    "\n",
    "Possible answers\n",
    "\n",
    "( ) Among characters with \"Neutral\" alignment, males are the most common.\n",
    "\n",
    "( ) In general, there is an association between gender and alignment.\n",
    "\n",
    "(x) Across all genders, \"Bad\" is the most common alignment.\n",
    "\n",
    "( ) There are more male characters than female characters in this dataset."
   ]
  },
  {
   "cell_type": "markdown",
   "metadata": {},
   "source": [
    "# Conditional proportions\n",
    "\n",
    "The following code generates tables of joint and conditional proportions, respectively:\n",
    "\n",
    "tab <- table(comics$align, comics$gender)\n",
    "options(scipen = 999, digits = 3) # Print fewer digits\n",
    "prop.table(tab)     # Joint proportions\n",
    "prop.table(tab, 2)  # Conditional on columns\n",
    "Go ahead and run it in the console. Approximately what proportion of all female characters are good?\n",
    "\n",
    "# Instructions:\n",
    "\n",
    "Possible answers\n",
    "\n",
    "( ) 44%\n",
    "\n",
    "( ) 1.3%\n",
    "\n",
    "( ) 13%\n",
    "\n",
    "(x) 51%"
   ]
  },
  {
   "cell_type": "markdown",
   "metadata": {},
   "source": [
    "# Counts vs. proportions (2)\n",
    "\n",
    "Bar charts can tell dramatically different stories depending on whether they represent counts or proportions and, if proportions, what the proportions are conditioned on. To demonstrate this difference, you'll construct two bar charts in this exercise: one of counts and one of proportions.\n",
    "\n",
    "# Instructions:\n",
    "\n",
    "- Create a stacked bar chart of gender counts with align on the x-axis.\n",
    "- Create a stacked bar chart of gender proportions with align on the x-axis by setting the position argument to geom_bar() equal to \"fill\"."
   ]
  },
  {
   "cell_type": "code",
   "execution_count": null,
   "metadata": {},
   "outputs": [],
   "source": [
    "# Plot of gender by align\n",
    "ggplot(comics, aes(x = align, fill = gender)) +\n",
    "  geom_bar()\n",
    "  \n",
    "# Plot proportion of gender, conditional on align\n",
    "ggplot(comics, aes(x = align, fill = gender)) + \n",
    "  geom_bar(position = \"fill\") +\n",
    "  ylab(\"proportion\")"
   ]
  },
  {
   "cell_type": "markdown",
   "metadata": {},
   "source": [
    "# Marginal bar chart\n",
    "\n",
    "If you are interested in the distribution of alignment of all superheroes, it makes sense to construct a bar chart for just that single variable.\n",
    "\n",
    "You can improve the interpretability of the plot, though, by implementing some sensible ordering. Superheroes that are \"Neutral\" show an alignment between \"Good\" and \"Bad\", so it makes sense to put that bar in the middle.\n",
    "\n",
    "# Instructions:\n",
    "\n",
    "- Reorder the levels of align using the factor() function so that printing them reads \"Bad\", \"Neutral\", then \"Good\".\n",
    "- Create a bar chart of counts of the align variable."
   ]
  },
  {
   "cell_type": "code",
   "execution_count": null,
   "metadata": {},
   "outputs": [],
   "source": [
    "# Change the order of the levels in align\n",
    "comics$align <- factor(comics$align, \n",
    "                       levels = c(\"Bad\", \"Neutral\", \"Good\"))\n",
    "\n",
    "# Create plot of align\n",
    "comics %>%\n",
    "  filter(!is.na(align)) %>%\n",
    "  ggplot(aes(x = align)) + \n",
    "  geom_bar()"
   ]
  },
  {
   "cell_type": "markdown",
   "metadata": {},
   "source": [
    "# Conditional bar chart\n",
    "\n",
    "Now, if you want to break down the distribution of alignment based on gender, you're looking for conditional distributions.\n",
    "\n",
    "You could make these by creating multiple filtered datasets (one for each gender) or by faceting the plot of alignment based on gender. As a point of comparison, we've provided your plot of the marginal distribution of alignment from the last exercise.\n",
    "\n",
    "# Instructions:\n",
    "\n",
    "- Create a bar chart of align faceted by gender."
   ]
  },
  {
   "cell_type": "code",
   "execution_count": null,
   "metadata": {},
   "outputs": [],
   "source": [
    "# Plot of alignment broken down by gender\n",
    "ggplot(comics, aes(x = align)) + \n",
    "  geom_bar() +\n",
    "  facet_wrap(~ gender)"
   ]
  },
  {
   "cell_type": "markdown",
   "metadata": {},
   "source": [
    "# Improve pie chart\n",
    "\n",
    "The pie chart is a very common way to represent the distribution of a single categorical variable, but they can be more difficult to interpret than bar charts.\n",
    "\n",
    "This is a pie chart of a dataset called pies that contains the favorite pie flavors of 98 people. Improve the representation of these data by constructing a bar chart that is ordered in descending order of count.\n",
    "\n",
    "# Instructions:\n",
    "\n",
    "- Use the code provided to reorder the levels of flavor so that they're in descending order by count.\n",
    "- Create a bar chart of flavor and orient the labels vertically so that they're easier to read. The default coloring may look drab by comparison, so change the fill of the bars to \"chartreuse\"."
   ]
  },
  {
   "cell_type": "code",
   "execution_count": null,
   "metadata": {},
   "outputs": [],
   "source": [
    "# Put levels of flavor in descending order\n",
    "lev <- c(\"apple\", \"key lime\", \"boston creme\", \"blueberry\", \"cherry\", \"pumpkin\", \"strawberry\")\n",
    "pies$flavor <- factor(pies$flavor, levels = lev)\n",
    "\n",
    "# Create barchart of flavor\n",
    "ggplot(pies, aes(x = flavor)) + \n",
    "  geom_bar(fill = \"chartreuse\") + \n",
    "  theme(axis.text.x = element_text(angle = 90))"
   ]
  }
 ],
 "metadata": {
  "language_info": {
   "name": "python"
  }
 },
 "nbformat": 4,
 "nbformat_minor": 2
}
