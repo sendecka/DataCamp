{
 "cells": [
  {
   "cell_type": "markdown",
   "metadata": {},
   "source": [
    "# 1 Introduction\n",
    "\n",
    "In this chapter we’ll get you into the right frame of mind for developing meaningful visualizations with R. You’ll understand that as a communications tool, visualizations require you to think about your audience first. You’ll also be introduced to the basics of ggplot2 - the 7 different grammatical elements (layers) and aesthetic mappings."
   ]
  },
  {
   "cell_type": "markdown",
   "metadata": {},
   "source": [
    "# Explore and explain\n",
    "\n",
    "In this video we made the distinction between plots for exploring and plots for explaining data. Which of the following are exploratory plots typically NOT?\n",
    "\n",
    "# Select one answer\n",
    "\n",
    "(x) Meant for a specialist audience.\n",
    "\n",
    "( ) Data-heavy.\n",
    "\n",
    "( ) Pretty.\n",
    "\n",
    "( ) Rough first drafts.\n",
    "\n",
    "( ) Part of our data science toolkit as graphical data analysis."
   ]
  },
  {
   "cell_type": "markdown",
   "metadata": {},
   "source": [
    "# Drawing your first plot\n",
    "\n",
    "To get a first feel for ggplot2, let's try to run some basic ggplot2 commands. The mtcars dataset contains information on 32 cars from a 1973 issue of Motor Trend magazine. This dataset is small, intuitive, and contains a variety of continuous and categorical variables.\n",
    "\n",
    "# Instructions:\n",
    "\n",
    "- Load the ggplot2 package using library().\n",
    "- Use str() to explore the structure of the mtcars dataset.\n",
    "- Hit submit. This will execute the example code on the right. See if you can understand what ggplot does with the data."
   ]
  },
  {
   "cell_type": "code",
   "execution_count": null,
   "metadata": {},
   "outputs": [],
   "source": [
    "# Load the ggplot2 package\n",
    "library(ggplot2)\n",
    "\n",
    "# Explore the mtcars data frame with str()\n",
    "str(mtcars)\n",
    "\n",
    "# Execute the following command\n",
    "ggplot(mtcars, aes(cyl, mpg)) +\n",
    "  geom_point()"
   ]
  },
  {
   "cell_type": "markdown",
   "metadata": {},
   "source": [
    "# Data columns types affect plot types\n",
    "\n",
    "The plot from the previous exercise wasn't really satisfying. Although cyl (the number of cylinders) is categorical, you probably noticed that it is classified as numeric in mtcars. This is really misleading because the representation in the plot doesn't match the actual data type. You'll have to explicitly tell ggplot2 that cyl is a categorical variable.\n",
    "\n",
    "# Instructions:\n",
    "\n",
    "- Change the ggplot() command by wrapping factor() around cyl.\n",
    "- Hit submit and see if the resulting plot is better this time."
   ]
  },
  {
   "cell_type": "code",
   "execution_count": null,
   "metadata": {},
   "outputs": [],
   "source": [
    "# Load the ggplot2 package\n",
    "library(ggplot2)\n",
    "\n",
    "# Change the command below so that cyl is treated as factor\n",
    "ggplot(mtcars, aes(x = factor(cyl), y = mpg)) +\n",
    "  geom_point()"
   ]
  },
  {
   "cell_type": "markdown",
   "metadata": {},
   "source": [
    "# Mapping data columns to aesthetics\n",
    "\n",
    "Let's dive a little deeper into the three main topics in this course: The data, aesthetics, and geom layers. We'll get to making pretty plots in the last chapter with the themes layer.\n",
    "\n",
    "We'll continue working on the 32 cars in the mtcars data frame.\n",
    "\n",
    "Consider how the examples and concepts we discuss throughout these courses apply to your own data-sets!\n",
    "\n",
    "# Instructions:\n",
    "\n",
    "- Add a color aesthetic mapped to the displacement of the car engine: inside aes(), add a color argument equal to disp."
   ]
  },
  {
   "cell_type": "code",
   "execution_count": null,
   "metadata": {},
   "outputs": [],
   "source": [
    "# Edit to add a color aesthetic mapped to disp\n",
    "ggplot(mtcars, aes(x = wt, y = mpg, color = disp)) +\n",
    "  geom_point()"
   ]
  },
  {
   "cell_type": "markdown",
   "metadata": {},
   "source": [
    "- This time, map disp to the size aesthetic."
   ]
  },
  {
   "cell_type": "code",
   "execution_count": null,
   "metadata": {},
   "outputs": [],
   "source": [
    "# Change the color aesthetic to a size aesthetic\n",
    "ggplot(mtcars, aes(x = wt, y = mpg, size = disp)) +\n",
    "  geom_point()"
   ]
  },
  {
   "cell_type": "markdown",
   "metadata": {},
   "source": [
    "# Understanding variables\n",
    "\n",
    "In the previous exercise you saw that disp can be mapped onto a color gradient or onto a continuous size scale.\n",
    "\n",
    "Another argument of aes() is the shape of the points. There are a finite number of shapes which ggplot() can automatically assign to the points. However, if you try this command in the console:\n",
    "\n",
    "ggplot(mtcars, aes(wt, mpg, shape = disp)) +\n",
    "  geom_point()\n",
    "It gives an error. What does this mean?\n",
    "\n",
    "# Instructions:\n",
    "\n",
    "( ) shape is not a defined argument.\n",
    "\n",
    "(x) shape only makes sense with categorical data, and disp is continuous.\n",
    "\n",
    "( ) shape only makes sense with continuous data, and disp is categorical.\n",
    "\n",
    "( ) shape is not a variable in your dataset.\n",
    "\n",
    "( ) shape has to be defined as a function."
   ]
  },
  {
   "cell_type": "markdown",
   "metadata": {},
   "source": [
    "# Adding geometries\n",
    "\n",
    "The diamonds dataset contains details of 1,000 diamonds. Among the variables included are carat (a measurement of the diamond's size) and price.\n",
    "\n",
    "You'll use two common geom layer functions:\n",
    "\n",
    "geom_point() adds points (as in a scatter plot).\n",
    "geom_smooth() adds a smooth trend curve.\n",
    "As you saw previously, these are added using the + operator.\n",
    "\n",
    "ggplot(data, aes(x, y)) +\n",
    "  geom_*()\n",
    "Where * is the specific geometry needed.\n",
    "\n",
    "# Instructions:\n",
    "\n",
    "- Explore the diamonds data frame with the str() function."
   ]
  },
  {
   "cell_type": "code",
   "execution_count": null,
   "metadata": {},
   "outputs": [],
   "source": [
    "# Explore the diamonds data frame with str()\n",
    "str(diamonds)"
   ]
  },
  {
   "cell_type": "markdown",
   "metadata": {},
   "source": [
    "- Edit the plot code to add a point geom. Use the + operator to add geom_point() to the ggplot() command."
   ]
  },
  {
   "cell_type": "code",
   "execution_count": null,
   "metadata": {},
   "outputs": [],
   "source": [
    "# Add geom_point() with +\n",
    "ggplot(diamonds, aes(carat, price)) +\n",
    "  geom_point()"
   ]
  },
  {
   "cell_type": "markdown",
   "metadata": {},
   "source": [
    "- Add a smooth geom to the plot. Use the + operator to add geom_smooth()."
   ]
  },
  {
   "cell_type": "code",
   "execution_count": null,
   "metadata": {},
   "outputs": [],
   "source": [
    "# Add geom_smooth() with +\n",
    "ggplot(diamonds, aes(carat, price)) +\n",
    "  geom_point() +\n",
    "  geom_smooth()"
   ]
  },
  {
   "cell_type": "markdown",
   "metadata": {},
   "source": [
    "# Changing one geom or every geom\n",
    "\n",
    "If you have multiple geoms, then mapping an aesthetic to data variable inside the call to ggplot() will change all the geoms. It is also possible to make changes to individual geoms by passing arguments to the geom_*() functions.\n",
    "\n",
    "geom_point() has an alpha argument that controls the opacity of the points. A value of 1 (the default) means that the points are totally opaque; a value of 0 means the points are totally transparent (and therefore invisible). Values in between specify transparency.\n",
    "\n",
    "The plot you drew last time is provided in the script.\n",
    "\n",
    "# Instructions:\n",
    "\n",
    "- Edit the plot code to map the color aesthetic to the clarity data variable."
   ]
  },
  {
   "cell_type": "code",
   "execution_count": null,
   "metadata": {},
   "outputs": [],
   "source": [
    "# Map the color aesthetic to clarity\n",
    "ggplot(diamonds, aes(carat, price, color = clarity)) +\n",
    "  geom_point() +\n",
    "  geom_smooth()"
   ]
  },
  {
   "cell_type": "markdown",
   "metadata": {},
   "source": [
    "- Make the points translucent by setting the alpha argument to 0.4."
   ]
  },
  {
   "cell_type": "code",
   "execution_count": null,
   "metadata": {},
   "outputs": [],
   "source": [
    "# Make the points 40% opaque\n",
    "ggplot(diamonds, aes(carat, price, color = clarity)) +\n",
    "  geom_point(alpha = 0.4) +\n",
    "  geom_smooth()"
   ]
  },
  {
   "cell_type": "markdown",
   "metadata": {},
   "source": [
    "# Saving plots as variables\n",
    "\n",
    "Plots can be saved as variables, which can be added to later on using the + operator. This is really useful if you want to make multiple related plots from a common base.\n",
    "\n",
    "# Instructions:\n",
    "\n",
    "- Using the diamonds dataset, plot the price (y-axis) versus the carat (x-axis), assigning to plt_price_vs_carat.\n",
    "- Using geom_point(), add a point layer to plt_price_vs_carat."
   ]
  },
  {
   "cell_type": "code",
   "execution_count": null,
   "metadata": {},
   "outputs": [],
   "source": [
    "# Draw a ggplot\n",
    "plt_price_vs_carat <- ggplot(\n",
    "  # Use the diamonds dataset\n",
    "  diamonds,\n",
    "  # For the aesthetics, map x to carat and y to price\n",
    "  aes(carat, price)\n",
    ")\n",
    "\n",
    "# Add a point layer to plt_price_vs_carat\n",
    "plt_price_vs_carat + geom_point()"
   ]
  },
  {
   "cell_type": "markdown",
   "metadata": {},
   "source": [
    "- Add an alpha argument to the point layer to make the points 20% opaque, assigning to plt_price_vs_carat_transparent.\n",
    "- Type the plot's variable name (plt_price_vs_carat_transparent) to display it."
   ]
  },
  {
   "cell_type": "code",
   "execution_count": null,
   "metadata": {},
   "outputs": [],
   "source": [
    "# From previous step\n",
    "plt_price_vs_carat <- ggplot(diamonds, aes(carat, price))\n",
    "\n",
    "# Edit this to make points 20% opaque: plt_price_vs_carat_transparent\n",
    "plt_price_vs_carat_transparent <- plt_price_vs_carat + geom_point(alpha = 0.2)\n",
    "\n",
    "# See the plot\n",
    "plt_price_vs_carat_transparent"
   ]
  },
  {
   "cell_type": "markdown",
   "metadata": {},
   "source": [
    "- Inside geom_point(), call aes() and map color to clarity, assigning to plt_price_vs_carat_by_clarity.\n",
    "- Type the plot's variable name (plt_price_vs_carat_by_clarity) to display it."
   ]
  },
  {
   "cell_type": "code",
   "execution_count": null,
   "metadata": {},
   "outputs": [],
   "source": [
    "# From previous step\n",
    "plt_price_vs_carat <- ggplot(diamonds, aes(carat, price))\n",
    "\n",
    "# Edit this to map color to clarity,\n",
    "# Assign the updated plot to a new object\n",
    "plt_price_vs_carat_by_clarity <- plt_price_vs_carat + geom_point(aes(color = clarity))\n",
    "\n",
    "# See the plot\n",
    "plt_price_vs_carat_by_clarity"
   ]
  }
 ],
 "metadata": {
  "language_info": {
   "name": "python"
  }
 },
 "nbformat": 4,
 "nbformat_minor": 2
}
