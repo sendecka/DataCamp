{
 "cells": [
  {
   "cell_type": "markdown",
   "metadata": {},
   "source": [
    "# 3 Geometries\n",
    "\n",
    "A plot’s geometry dictates what visual elements will be used. In this chapter, we’ll familiarize you with the geometries used in the three most common plot types you’ll encounter - scatter plots, bar charts and line plots. We’ll look at a variety of different ways to construct these plots."
   ]
  },
  {
   "cell_type": "markdown",
   "metadata": {},
   "source": [
    "# Overplotting 1: large datasets\n",
    "\n",
    "Scatter plots (using geom_point()) are intuitive, easily understood, and very common, but we must always consider overplotting, particularly in the following four situations:\n",
    "\n",
    "Large datasets\n",
    "Aligned values on a single axis\n",
    "Low-precision data\n",
    "Integer data\n",
    "Typically, alpha blending (i.e. adding transparency) is recommended when using solid shapes. Alternatively, you can use opaque, hollow shapes.\n",
    "\n",
    "Small points are suitable for large datasets with regions of high density (lots of overlapping).\n",
    "\n",
    "Let's use the diamonds dataset to practice dealing with the large dataset case.\n",
    "\n",
    "# Instructions:\n",
    "\n",
    "- Add a points layer to the base plot.\n",
    "Set the point transparency to 0.5.\n",
    "Set shape = \".\", the point size of 1 pixel."
   ]
  },
  {
   "cell_type": "code",
   "execution_count": null,
   "metadata": {},
   "outputs": [],
   "source": [
    "# Plot price vs. carat, colored by clarity\n",
    "plt_price_vs_carat_by_clarity <- ggplot(diamonds, aes(carat, price, color = clarity))\n",
    "\n",
    "# Add a point layer with tiny points\n",
    "plt_price_vs_carat_by_clarity + geom_point(alpha = 0.5, shape = \".\")"
   ]
  },
  {
   "cell_type": "markdown",
   "metadata": {},
   "source": [
    "- Update the point shape to remove the line outlines by setting shape to 16."
   ]
  },
  {
   "cell_type": "code",
   "execution_count": null,
   "metadata": {},
   "outputs": [],
   "source": [
    "# Plot price vs. carat, colored by clarity\n",
    "plt_price_vs_carat_by_clarity <- ggplot(diamonds, aes(carat, price, color = clarity))\n",
    "\n",
    "# Set transparency to 0.5\n",
    "plt_price_vs_carat_by_clarity + geom_point(alpha = 0.5, shape = 16)"
   ]
  },
  {
   "cell_type": "markdown",
   "metadata": {},
   "source": [
    "# Overplotting 2: Aligned values\n",
    "\n",
    "Let's take a look at another case where we should be aware of overplotting: Aligning values on a single axis.\n",
    "\n",
    "This occurs when one axis is continuous and the other is categorical, which can be overcome with some form of jittering.\n",
    "\n",
    "In the mtcars data set, fam and fcyl are categorical variants of cyl and am.\n",
    "\n",
    "# Instructions:\n",
    "\n",
    "- Create a base plot plt_mpg_vs_fcyl_by_fam of fcyl by mpg, colored by fam.\n",
    "- Add a points layer to the base plot."
   ]
  },
  {
   "cell_type": "code",
   "execution_count": null,
   "metadata": {},
   "outputs": [],
   "source": [
    "# Plot base\n",
    "plt_mpg_vs_fcyl_by_fam <- ggplot(mtcars, aes(fcyl, mpg, color = fam))\n",
    "\n",
    "# Default points are shown for comparison\n",
    "plt_mpg_vs_fcyl_by_fam + geom_point()"
   ]
  },
  {
   "cell_type": "markdown",
   "metadata": {},
   "source": [
    "- Add some jittering by using position_jitter(), setting the width to 0.3."
   ]
  },
  {
   "cell_type": "code",
   "execution_count": null,
   "metadata": {},
   "outputs": [],
   "source": [
    "# Plot base\n",
    "plt_mpg_vs_fcyl_by_fam <- ggplot(mtcars, aes(fcyl, mpg, color = fam))\n",
    "\n",
    "# Default points are shown for comparison\n",
    "plt_mpg_vs_fcyl_by_fam + geom_point()\n",
    "\n",
    "# Alter the point positions by jittering, width 0.3\n",
    "plt_mpg_vs_fcyl_by_fam + geom_point(position = position_jitter(0.3))"
   ]
  },
  {
   "cell_type": "markdown",
   "metadata": {},
   "source": [
    "- Alternatively, use position_jitterdodge(). Set jitter.width and dodge.width to 0.3 to separate subgroups further."
   ]
  },
  {
   "cell_type": "code",
   "execution_count": null,
   "metadata": {},
   "outputs": [],
   "source": [
    "# Plot base\n",
    "plt_mpg_vs_fcyl_by_fam <- ggplot(mtcars, aes(fcyl, mpg, color = fam))\n",
    "\n",
    "# Default points are shown for comparison\n",
    "plt_mpg_vs_fcyl_by_fam + geom_point()\n",
    "\n",
    "# Now jitter and dodge the point positions\n",
    "plt_mpg_vs_fcyl_by_fam + geom_point(position = position_jitterdodge(jitter.width = 0.3, dodge.width = 0.3))"
   ]
  },
  {
   "cell_type": "markdown",
   "metadata": {},
   "source": [
    "# Overplotting 3: Low-precision data\n",
    "\n",
    "You already saw how to deal with overplotting when using geom_point() in two cases:\n",
    "\n",
    "Large datasets\n",
    "Aligned values on a single axis\n",
    "We used position = 'jitter' inside geom_point() or geom_jitter().\n",
    "\n",
    "Let's take a look at another case:\n",
    "\n",
    "Low-precision data\n",
    "This results from low-resolution measurements like in the iris dataset, which is measured to 1mm precision (see viewer). It's similar to case 2, but in this case we can jitter on both the x and y axis.\n",
    "\n",
    "# Instructions:\n",
    "\n",
    "- Change the points layer into a jitter layer.\n",
    "- Reduce the jitter layer's width by setting the width argument to 0.1."
   ]
  },
  {
   "cell_type": "code",
   "execution_count": null,
   "metadata": {},
   "outputs": [],
   "source": [
    "ggplot(iris, aes(Sepal.Length, Sepal.Width, color = Species)) +\n",
    "  # Swap for jitter layer with width 0.1\n",
    "  geom_jitter(alpha = 0.5, width = 0.1)"
   ]
  },
  {
   "cell_type": "markdown",
   "metadata": {},
   "source": [
    "- Let's use a different approach: Within geom_point(), set position to \"jitter\"."
   ]
  },
  {
   "cell_type": "code",
   "execution_count": null,
   "metadata": {},
   "outputs": [],
   "source": [
    "ggplot(iris, aes(Sepal.Length, Sepal.Width, color = Species)) +\n",
    "  # Set the position to jitter\n",
    "  geom_point(alpha = 0.5, position = \"jitter\")"
   ]
  },
  {
   "cell_type": "markdown",
   "metadata": {},
   "source": [
    "- Provide an alternative specification: Have the position argument call position_jitter() with a width of 0.1."
   ]
  },
  {
   "cell_type": "code",
   "execution_count": null,
   "metadata": {},
   "outputs": [],
   "source": [
    "ggplot(iris, aes(Sepal.Length, Sepal.Width, color = Species)) +\n",
    "  # Use a jitter position function with width 0.1\n",
    "  geom_point(alpha = 0.5, position = position_jitter(0.1))"
   ]
  },
  {
   "cell_type": "markdown",
   "metadata": {},
   "source": [
    "# Overplotting 4: Integer data\n",
    "\n",
    "Let's take a look at the last case of dealing with overplotting:\n",
    "\n",
    "Integer data\n",
    "This can be type integer (i.e. 1 ,2, 3…) or categorical (i.e. class factor) variables. factor is just a special class of type integer.\n",
    "\n",
    "You'll typically have a small, defined number of intersections between two variables, which is similar to case 3, but you may miss it if you don't realize that integer and factor data are the same as low precision data.\n",
    "\n",
    "The Vocab dataset provided contains the years of education and vocabulary test scores from respondents to US General Social Surveys from 1972-2004.\n",
    "\n",
    "# Instructions:\n",
    "\n",
    "- Examine the Vocab dataset using str().\n",
    "- Using Vocab, draw a plot of vocabulary vs education.\n",
    "- Add a point layer."
   ]
  },
  {
   "cell_type": "code",
   "execution_count": null,
   "metadata": {},
   "outputs": [],
   "source": [
    "# Examine the structure of Vocab\n",
    "str(Vocab)\n",
    "\n",
    "# Plot vocabulary vs. education\n",
    "ggplot(Vocab, aes(education, vocabulary)) +\n",
    "  # Add a point layer\n",
    "  geom_point()"
   ]
  },
  {
   "cell_type": "markdown",
   "metadata": {},
   "source": [
    "- Replace the point layer with a jitter layer."
   ]
  },
  {
   "cell_type": "code",
   "execution_count": null,
   "metadata": {},
   "outputs": [],
   "source": [
    "ggplot(Vocab, aes(education, vocabulary)) +\n",
    "  # Change to a jitter layer\n",
    "  geom_jitter()"
   ]
  },
  {
   "cell_type": "markdown",
   "metadata": {},
   "source": [
    "- Set the jitter transparency to 0.2."
   ]
  },
  {
   "cell_type": "code",
   "execution_count": null,
   "metadata": {},
   "outputs": [],
   "source": [
    "ggplot(Vocab, aes(education, vocabulary)) +\n",
    "  # Set the transparency to 0.2\n",
    "  geom_jitter(alpha = 0.2)"
   ]
  },
  {
   "cell_type": "markdown",
   "metadata": {},
   "source": [
    "- Set the shape of the jittered points to hollow circles, (shape 1)."
   ]
  },
  {
   "cell_type": "code",
   "execution_count": null,
   "metadata": {},
   "outputs": [],
   "source": [
    "ggplot(Vocab, aes(education, vocabulary)) +\n",
    "  # Set the shape to 1\n",
    "  geom_jitter(alpha = 0.2, shape = 1)"
   ]
  },
  {
   "cell_type": "markdown",
   "metadata": {},
   "source": [
    "# Drawing histograms\n",
    "\n",
    "Recall that histograms cut up a continuous variable into discrete bins and, by default, maps the internally calculated count variable (the number of observations in each bin) onto the y aesthetic. An internal variable called density can be accessed by using the .. notation, i.e. ..density... Plotting this variable will show the relative frequency, which is the height times the width of each bin.\n",
    "\n",
    "# Instructions:\n",
    "\n",
    "- Using mtcars, map mpg onto the x aesthetic.\n",
    "- Add a histogram layer using geom_histogram()."
   ]
  },
  {
   "cell_type": "code",
   "execution_count": null,
   "metadata": {},
   "outputs": [],
   "source": [
    "# Plot mpg\n",
    "ggplot(mtcars, aes(mpg)) +\n",
    "  # Add a histogram layer\n",
    "  geom_histogram()"
   ]
  },
  {
   "cell_type": "markdown",
   "metadata": {},
   "source": [
    "- Set the histogram binwidth to 1."
   ]
  },
  {
   "cell_type": "code",
   "execution_count": null,
   "metadata": {},
   "outputs": [],
   "source": [
    "ggplot(mtcars, aes(mpg)) +\n",
    "  # Set the binwidth to 1\n",
    "  geom_histogram(binwidth = 1)"
   ]
  },
  {
   "cell_type": "markdown",
   "metadata": {},
   "source": [
    "- Map y to the internal variable ..density.. to show frequency densities."
   ]
  },
  {
   "cell_type": "code",
   "execution_count": null,
   "metadata": {},
   "outputs": [],
   "source": [
    "# Map y to ..density..\n",
    "ggplot(mtcars, aes(mpg, ..density..)) +\n",
    "  geom_histogram(binwidth = 1)"
   ]
  },
  {
   "cell_type": "markdown",
   "metadata": {},
   "source": [
    "- Set the fill color of the histogram bars to datacamp_light_blue."
   ]
  },
  {
   "cell_type": "code",
   "execution_count": null,
   "metadata": {},
   "outputs": [],
   "source": [
    "datacamp_light_blue <- \"#51A8C9\"\n",
    "ggplot(mtcars, aes(mpg, ..density..)) +\n",
    "  # Set the fill color to datacamp_light_blue\n",
    "  geom_histogram(binwidth = 1, fill = datacamp_light_blue)"
   ]
  },
  {
   "cell_type": "markdown",
   "metadata": {},
   "source": [
    "# Positions in histograms\n",
    "\n",
    "Here, we'll examine the various ways of applying positions to histograms. geom_histogram(), a special case of geom_bar(), has a position argument that can take on the following values:\n",
    "\n",
    "stack (the default): Bars for different groups are stacked on top of each other.\n",
    "dodge: Bars for different groups are placed side by side.\n",
    "fill: Bars for different groups are shown as proportions.\n",
    "identity: Plot the values as they appear in the dataset.\n",
    "\n",
    "# Instructions:\n",
    "\n",
    "- Update the aesthetics so that the fill color of the bars is determined by fam."
   ]
  },
  {
   "cell_type": "code",
   "execution_count": null,
   "metadata": {},
   "outputs": [],
   "source": [
    "# Update the aesthetics so the fill color is by fam\n",
    "ggplot(mtcars, aes(mpg, fill = fam)) +\n",
    "  geom_histogram(binwidth = 1)"
   ]
  },
  {
   "cell_type": "markdown",
   "metadata": {},
   "source": [
    "- Update the histogram layer to position the bars side-by-side, that is, \"dodge\"."
   ]
  },
  {
   "cell_type": "code",
   "execution_count": null,
   "metadata": {},
   "outputs": [],
   "source": [
    "ggplot(mtcars, aes(mpg, fill = fam)) +\n",
    "  # Change the position to dodge\n",
    "  geom_histogram(binwidth = 1, position = \"dodge\")"
   ]
  },
  {
   "cell_type": "markdown",
   "metadata": {},
   "source": [
    "- Update the histogram layer so the bars' positions \"fill\" the y-axis."
   ]
  },
  {
   "cell_type": "code",
   "execution_count": null,
   "metadata": {},
   "outputs": [],
   "source": [
    "ggplot(mtcars, aes(mpg, fill = fam)) +\n",
    "  # Change the position to fill\n",
    "  geom_histogram(binwidth = 1, position = \"fill\")"
   ]
  },
  {
   "cell_type": "markdown",
   "metadata": {},
   "source": [
    "- Completed task after requesting a hint or solution\n",
    "- Update the histogram layer so bars are top of each other, using the \"identity\" position. So each bar can be seen, set alpha to 0.4."
   ]
  },
  {
   "cell_type": "code",
   "execution_count": null,
   "metadata": {},
   "outputs": [],
   "source": [
    "ggplot(mtcars, aes(mpg, fill = fam)) +\n",
    "  # Change the position to identity, with transparency 0.4\n",
    "  geom_histogram(binwidth = 1, position = \"identity\", alpha = 0.4)"
   ]
  },
  {
   "cell_type": "markdown",
   "metadata": {},
   "source": [
    "# Position in bar and col plots\n",
    "\n",
    "Let's see how the position argument changes geom_bar().\n",
    "\n",
    "We have three position options:\n",
    "\n",
    "stack: The default\n",
    "dodge: Preferred\n",
    "fill: To show proportions\n",
    "While we will be using geom_bar() here, note that the function geom_col() is just geom_bar() where both the position and stat arguments are set to \"identity\". It is used when we want the heights of the bars to represent the exact values in the data.\n",
    "\n",
    "In this exercise, you'll draw the total count of cars having a given number of cylinders (fcyl), according to manual or automatic transmission type (fam).\n",
    "\n",
    "# Instructions:\n",
    "\n",
    "- Using mtcars, plot fcyl, filled by fam.\n",
    "- Add a bar layer using geom_bar()."
   ]
  },
  {
   "cell_type": "code",
   "execution_count": null,
   "metadata": {},
   "outputs": [],
   "source": [
    "# Plot fcyl, filled by fam\n",
    "ggplot(mtcars, aes(fcyl, fill = fam)) +\n",
    "  # Add a bar layer\n",
    "  geom_bar()"
   ]
  },
  {
   "cell_type": "markdown",
   "metadata": {},
   "source": [
    "- Set the bar position argument to \"fill\"."
   ]
  },
  {
   "cell_type": "code",
   "execution_count": null,
   "metadata": {},
   "outputs": [],
   "source": [
    "ggplot(mtcars, aes(fcyl, fill = fam)) +\n",
    "  # Set the position to \"fill\"\n",
    "  geom_bar(position = \"fill\")"
   ]
  },
  {
   "cell_type": "markdown",
   "metadata": {},
   "source": [
    "- Completed task after requesting a hint or solution\n",
    "Change the bar position argument to \"dodge\"."
   ]
  },
  {
   "cell_type": "code",
   "execution_count": null,
   "metadata": {},
   "outputs": [],
   "source": [
    "ggplot(mtcars, aes(fcyl, fill = fam)) +\n",
    "  # Change the position to \"dodge\"\n",
    "  geom_bar(position = \"dodge\")"
   ]
  },
  {
   "cell_type": "markdown",
   "metadata": {},
   "source": [
    "# Overlapping bar plots\n",
    "\n",
    "You can customize bar plots further by adjusting the dodging so that your bars partially overlap each other. Instead of using position = \"dodge\", you're going to use position_dodge(), like you did with position_jitter() in the the previous exercises. Here, you'll save this as an object, posn_d, so that you can easily reuse it.\n",
    "\n",
    "Remember, the reason you want to use position_dodge() (and position_jitter()) is to specify how much dodging (or jittering) you want.\n",
    "\n",
    "For this example, you'll use the mtcars dataset.\n",
    "\n",
    "# Instructions:\n",
    "\n",
    "- Use the functional form of the bar position: replace \"dodge\" with a call to position_dodge().\n",
    "- Set its width to 0.2."
   ]
  },
  {
   "cell_type": "code",
   "execution_count": null,
   "metadata": {},
   "outputs": [],
   "source": [
    "ggplot(mtcars, aes(cyl, fill = fam)) +\n",
    "  # Change position to use the functional form, with width 0.2\n",
    "  geom_bar(position = position_dodge(width = 0.2))"
   ]
  },
  {
   "cell_type": "markdown",
   "metadata": {},
   "source": [
    "- Set the bar transparency level of the bars to 0.6."
   ]
  },
  {
   "cell_type": "code",
   "execution_count": null,
   "metadata": {},
   "outputs": [],
   "source": [
    "ggplot(mtcars, aes(cyl, fill = fam)) +\n",
    "  # Set the transparency to 0.6\n",
    "  geom_bar(position = position_dodge(width = 0.2), alpha = 0.6)"
   ]
  },
  {
   "cell_type": "markdown",
   "metadata": {},
   "source": [
    "# Bar plots: sequential color palette\n",
    "\n",
    "In this bar plot, we'll fill each segment according to an ordinal variable. The best way to do that is with a sequential color palette.\n",
    "\n",
    "Here's an example of using a sequential color palette with the mtcars dataset:\n",
    "\n",
    "ggplot(mtcars, aes(fcyl, fill = fam)) +\n",
    "  geom_bar() +\n",
    "  scale_fill_brewer(palette = \"Set1\")\n",
    "In the exercise, you'll use similar code on the the Vocab dataset. Both datasets are ordinal.\n",
    "\n",
    "# Instructions:\n",
    "\n",
    "- Plot the Vocab dataset, mapping education onto x and vocabulary onto fill."
   ]
  },
  {
   "cell_type": "code",
   "execution_count": null,
   "metadata": {},
   "outputs": [],
   "source": [
    "# Plot education, filled by vocabulary\n",
    "ggplot(Vocab, aes(education, fill = vocabulary)) +\n",
    "  # Add a bar layer with position \"fill\"\n",
    "  geom_bar(position = \"fill\")"
   ]
  },
  {
   "cell_type": "markdown",
   "metadata": {},
   "source": [
    "- Add a bar layer, setting position to \"fill\"."
   ]
  },
  {
   "cell_type": "code",
   "execution_count": null,
   "metadata": {},
   "outputs": [],
   "source": [
    "# Plot education, filled by vocabulary\n",
    "ggplot(Vocab, aes(education, fill = vocabulary)) +\n",
    "  # Add a bar layer with position \"fill\"\n",
    "  geom_bar(position = \"fill\") +\n",
    "  # Add a brewer fill scale with default palette\n",
    "  scale_fill_brewer()"
   ]
  },
  {
   "cell_type": "markdown",
   "metadata": {},
   "source": [
    "- Add a brewer fill scale, using the default palette (don't pass any arguments). Notice how this generates a warning message and an incomplete plot."
   ]
  },
  {
   "cell_type": "code",
   "execution_count": null,
   "metadata": {},
   "outputs": [],
   "source": [
    "# Plot education, filled by vocabulary\n",
    "ggplot(Vocab, aes(education, fill = vocabulary)) +\n",
    "  # Add a bar layer with position \"fill\"\n",
    "  geom_bar(position = \"fill\") +\n",
    "  # Add a brewer fill scale with default palette\n",
    "  scale_fill_brewer()"
   ]
  },
  {
   "cell_type": "markdown",
   "metadata": {},
   "source": [
    "# Basic line plots\n",
    "\n",
    "Here, we'll use the economics dataset to make some line plots. The dataset contains a time series for unemployment and population statistics from the Federal Reserve Bank of St. Louis in the United States. The data is contained in the ggplot2 package.\n",
    "\n",
    "To begin with, you can look at how the median unemployment time and the unemployment rate (the number of unemployed people as a proportion of the population) change over time.\n",
    "\n",
    "# Instructions:\n",
    "\n",
    "- Print the head of the economics dataset.\n",
    "- Plot unemploy vs. date as a line plot."
   ]
  },
  {
   "cell_type": "code",
   "execution_count": null,
   "metadata": {},
   "outputs": [],
   "source": [
    "# Print the head of economics\n",
    "head(economics)\n",
    "\n",
    "# Using economics, plot unemploy vs. date\n",
    "ggplot(economics, aes(date, unemploy)) +\n",
    "  # Make it a line plot\n",
    "  geom_line()"
   ]
  },
  {
   "cell_type": "markdown",
   "metadata": {},
   "source": [
    "- Adjust the y-axis aesthetic of the plot so that it represents the proportion of the population that is unemployed."
   ]
  },
  {
   "cell_type": "code",
   "execution_count": null,
   "metadata": {},
   "outputs": [],
   "source": [
    "# Change the y-axis to the proportion of the population that is unemployed\n",
    "ggplot(economics, aes(date, unemploy / pop)) +\n",
    "  geom_line()"
   ]
  },
  {
   "cell_type": "markdown",
   "metadata": {},
   "source": [
    "# Multiple time series\n",
    "\n",
    "We already saw how the form of your data affects how you can plot it. Let's explore that further with multiple time series. Here, it's important that all lines are on the same scale, and if possible, on the same plot.\n",
    "\n",
    "fish.species contains the global capture rates of seven salmon species from 1950–2010. Each variable (column) is a Salmon species and each observation (row) is one year. fish.tidy contains the same data, but in three columns: Species, Year, and Capture (i.e. one variable per column).\n",
    "\n",
    "# Instructions:\n",
    "\n",
    "- Use str() in the console to examine the structure of both fish.species and fish.tidy.\n",
    "- Plot only the Rainbow salmon time series with geom_line()."
   ]
  },
  {
   "cell_type": "code",
   "execution_count": null,
   "metadata": {},
   "outputs": [],
   "source": [
    "# Plot the Rainbow Salmon time series\n",
    "ggplot(fish.species, aes(x = Year, y = Rainbow)) +\n",
    "  geom_line()"
   ]
  },
  {
   "cell_type": "markdown",
   "metadata": {},
   "source": [
    "- Plot only the Pink salmon time series with geom_line()."
   ]
  },
  {
   "cell_type": "code",
   "execution_count": null,
   "metadata": {},
   "outputs": [],
   "source": [
    "# Plot the Rainbow Salmon time series\n",
    "ggplot(fish.species, aes(x = Year, y = Rainbow)) +\n",
    "  geom_line()\n",
    "\n",
    "# Plot the Pink Salmon time series\n",
    "ggplot(fish.species, aes(x = Year, y = Pink)) +\n",
    "  geom_line()"
   ]
  },
  {
   "cell_type": "markdown",
   "metadata": {},
   "source": [
    "- Now try and plot all time series in a single plot.\n",
    "- Plot the fish.tidy dataset, mapping Year to x and Capture to y. group by fish species within the aesthetics of geom_line()."
   ]
  },
  {
   "cell_type": "code",
   "execution_count": null,
   "metadata": {},
   "outputs": [],
   "source": [
    "# Plot the Rainbow Salmon time series\n",
    "ggplot(fish.species, aes(x = Year, y = Rainbow)) +\n",
    "  geom_line()\n",
    "\n",
    "# Plot the Pink Salmon time series\n",
    "ggplot(fish.species, aes(x = Year, y = Pink)) +\n",
    "  geom_line()\n",
    "\n",
    "# Plot multiple time-series by grouping by species\n",
    "ggplot(fish.tidy, aes(Year, Capture)) +\n",
    "  geom_line(aes(group = Species))"
   ]
  },
  {
   "cell_type": "markdown",
   "metadata": {},
   "source": [
    "- Let's add color to the previous plot to distinguish between the different time series.\n",
    "- Plot the fish.tidy dataset again, this time making sure to color by Species."
   ]
  },
  {
   "cell_type": "code",
   "execution_count": null,
   "metadata": {},
   "outputs": [],
   "source": [
    "# Plot the Rainbow Salmon time series\n",
    "ggplot(fish.species, aes(x = Year, y = Rainbow)) +\n",
    "  geom_line()\n",
    "\n",
    "# Plot the Pink Salmon time series\n",
    "ggplot(fish.species, aes(x = Year, y = Pink)) +\n",
    "  geom_line()\n",
    "\n",
    "# Plot multiple time-series by grouping by species\n",
    "ggplot(fish.tidy, aes(Year, Capture)) +\n",
    "  geom_line(aes(group = Species))\n",
    "\n",
    "# Plot multiple time-series by coloring by species\n",
    "ggplot(fish.tidy, aes(Year, Capture, color = Species)) +\n",
    "  geom_line(aes(group = Species))"
   ]
  }
 ],
 "metadata": {
  "language_info": {
   "name": "python"
  }
 },
 "nbformat": 4,
 "nbformat_minor": 2
}
