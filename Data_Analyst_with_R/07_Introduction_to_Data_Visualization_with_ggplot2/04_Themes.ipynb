{
 "cells": [
  {
   "cell_type": "markdown",
   "metadata": {},
   "source": [
    "# 4 Themes\n",
    "\n",
    "In this chapter, we’ll explore how understanding the structure of your data makes data visualization much easier. Plus, it’s time to make our plots pretty. This is the last step in the data viz process. The Themes layer will enable you to make publication quality plots directly in R. In the next course we'll look at some extra layers to add more variables to your plots."
   ]
  },
  {
   "cell_type": "markdown",
   "metadata": {},
   "source": [
    "# Moving the legend\n",
    "\n",
    "Let's wrap up this course by making a publication-ready plot communicating a clear message.\n",
    "\n",
    "To change stylistic elements of a plot, call theme() and set plot properties to a new value. For example, the following changes the legend position.\n",
    "\n",
    "p + theme(legend.position = new_value)\n",
    "Here, the new value can be\n",
    "\n",
    "\"top\", \"bottom\", \"left\", or \"right'\": place it at that side of the plot.\n",
    "\"none\": don't draw it.\n",
    "c(x, y): c(0, 0) means the bottom-left and c(1, 1) means the top-right.\n",
    "Let's revisit the recession period line plot (assigned to plt_prop_unemployed_over_time).\n",
    "\n",
    "# Instructions:\n",
    "\n",
    "- Update the plot to remove the legend.\n",
    "- Look at the changes in the plot."
   ]
  },
  {
   "cell_type": "code",
   "execution_count": null,
   "metadata": {},
   "outputs": [],
   "source": [
    "# View the default plot\n",
    "plt_prop_unemployed_over_time\n",
    "\n",
    "# Remove legend entirely\n",
    "plt_prop_unemployed_over_time +\n",
    "  theme(legend.position = \"none\")"
   ]
  },
  {
   "cell_type": "markdown",
   "metadata": {},
   "source": [
    "- Update the plot to position the legend at the bottom of the plot.\n",
    "- Look at the changes in the plot."
   ]
  },
  {
   "cell_type": "code",
   "execution_count": null,
   "metadata": {},
   "outputs": [],
   "source": [
    "# Position the legend at the bottom of the plot\n",
    "plt_prop_unemployed_over_time +\n",
    "  theme(legend.position = \"bottom\")"
   ]
  },
  {
   "cell_type": "markdown",
   "metadata": {},
   "source": [
    "- Position the legend inside the plot, with x-position 0.6 and y-position 0.1.\n",
    "- Look at the changes in the plot."
   ]
  },
  {
   "cell_type": "code",
   "execution_count": null,
   "metadata": {},
   "outputs": [],
   "source": [
    "# Position the legend inside the plot at (0.6, 0.1)\n",
    "plt_prop_unemployed_over_time +\n",
    "  theme(legend.position = c(0.6, 0.1))"
   ]
  },
  {
   "cell_type": "markdown",
   "metadata": {},
   "source": [
    "# Modifying theme elements\n",
    "\n",
    "Many plot elements have multiple properties that can be set. For example, line elements in the plot such as axes and gridlines have a color, a thickness (size), and a line type (solid line, dashed, or dotted). To set the style of a line, you use element_line(). For example, to make the axis lines into red, dashed lines, you would use the following.\n",
    "\n",
    "p + theme(axis.line = element_line(color = \"red\", linetype = \"dashed\"))\n",
    "Similarly, element_rect() changes rectangles and element_text() changes text. You can remove a plot element using element_blank().\n",
    "\n",
    "plt_prop_unemployed_over_time is available.\n",
    "\n",
    "# Instructions:\n",
    "\n",
    "- Give all rectangles in the plot, (the rect element) a fill color of \"grey92\" (very pale grey).\n",
    "- Remove the legend.key's outline by setting its color to be missing.\n",
    "- Look at the changes in the plot."
   ]
  },
  {
   "cell_type": "code",
   "execution_count": null,
   "metadata": {},
   "outputs": [],
   "source": [
    "plt_prop_unemployed_over_time +\n",
    "  theme(\n",
    "    # For all rectangles, set the fill color to grey92\n",
    "    rect = element_rect(fill = \"grey92\"),\n",
    "    # For the legend key, turn off the outline\n",
    "    legend.key = element_rect(color = NA)\n",
    "  )"
   ]
  },
  {
   "cell_type": "markdown",
   "metadata": {},
   "source": [
    "- Remove the axis ticks, axis.ticks by making them a blank element.\n",
    "- Remove the panel gridlines, panel.grid in the same way.\n",
    "- Look at the changes in the plot."
   ]
  },
  {
   "cell_type": "code",
   "execution_count": null,
   "metadata": {},
   "outputs": [],
   "source": [
    "plt_prop_unemployed_over_time +\n",
    "  theme(\n",
    "    rect = element_rect(fill = \"grey92\"),\n",
    "    legend.key = element_rect(color = NA),\n",
    "    # Turn off axis ticks\n",
    "    axis.ticks = element_blank(),\n",
    "    # Turn off the panel grid\n",
    "    panel.grid = element_blank()\n",
    "  )"
   ]
  },
  {
   "cell_type": "markdown",
   "metadata": {},
   "source": [
    "- Add the major horizontal grid lines back to the plot using panel.grid.major.y.\n",
    "- Set the line color to \"white\", size to 0.5, and linetype to \"dotted\".\n",
    "- Look at the changes in the plot."
   ]
  },
  {
   "cell_type": "code",
   "execution_count": null,
   "metadata": {},
   "outputs": [],
   "source": [
    "plt_prop_unemployed_over_time +\n",
    "  theme(\n",
    "    rect = element_rect(fill = \"grey92\"),\n",
    "    legend.key = element_rect(color = NA),\n",
    "    axis.ticks = element_blank(),\n",
    "    panel.grid = element_blank(),\n",
    "    # Add major y-axis panel grid lines back\n",
    "    panel.grid.major.y = element_line(\n",
    "      # Set the color to white\n",
    "      color = \"white\",\n",
    "      # Set the size to 0.5\n",
    "      size = 0.5,\n",
    "      # Set the line type to dotted\n",
    "      linetype = \"dotted\"\n",
    "    )\n",
    "  )"
   ]
  },
  {
   "cell_type": "markdown",
   "metadata": {},
   "source": [
    "- Make the axis tick labels' text, axis.text, less prominent by changing the color to \"grey25\".\n",
    "- Increase the plot.title's, size to 16 and change its font face to \"italic\".\n",
    "- Look at the changes in the plot."
   ]
  },
  {
   "cell_type": "code",
   "execution_count": null,
   "metadata": {},
   "outputs": [],
   "source": [
    "plt_prop_unemployed_over_time +\n",
    "  theme(\n",
    "    rect = element_rect(fill = \"grey92\"),\n",
    "    legend.key = element_rect(color = NA),\n",
    "    axis.ticks = element_blank(),\n",
    "    panel.grid = element_blank(),\n",
    "    panel.grid.major.y = element_line(\n",
    "      color = \"white\",\n",
    "      size = 0.5,\n",
    "      linetype = \"dotted\"\n",
    "    ),\n",
    "    # Set the axis text color to grey25\n",
    "    axis.text = element_text(color = \"grey25\"),\n",
    "    # Set the plot title font face to italic and font size to 16\n",
    "    plot.title = element_text(face = \"italic\", size = 16)\n",
    "  )"
   ]
  },
  {
   "cell_type": "markdown",
   "metadata": {},
   "source": [
    "# Modifying whitespace\n",
    "\n",
    "Whitespace means all the non-visible margins and spacing in the plot.\n",
    "\n",
    "To set a single whitespace value, use unit(x, unit), where x is the amount and unit is the unit of measure.\n",
    "\n",
    "Borders require you to set 4 positions, so use margin(top, right, bottom, left, unit). To remember the margin order, think TRouBLe.\n",
    "\n",
    "The default unit is \"pt\" (points), which scales well with text. Other options include \"cm\", \"in\" (inches) and \"lines\" (of text).\n",
    "\n",
    "plt_mpg_vs_wt_by_cyl is available. The panel and legend are wrapped in blue boxes so you can see how they change.\n",
    "\n",
    "# Instructions:\n",
    "\n",
    "- Give the axis tick length, axis.ticks.length, a unit of 2 \"lines\"."
   ]
  },
  {
   "cell_type": "code",
   "execution_count": null,
   "metadata": {},
   "outputs": [],
   "source": [
    "# View the original plot\n",
    "plt_mpg_vs_wt_by_cyl\n",
    "\n",
    "plt_mpg_vs_wt_by_cyl +\n",
    "  theme(\n",
    "    # Set the axis tick length to 2 lines\n",
    "axis.ticks.length = unit(2, \"lines\")\n",
    "  )"
   ]
  },
  {
   "cell_type": "markdown",
   "metadata": {},
   "source": [
    "- Give the legend key size, legend.key.size, a unit of 3 centimeters (\"cm\")."
   ]
  },
  {
   "cell_type": "code",
   "execution_count": null,
   "metadata": {},
   "outputs": [],
   "source": [
    "plt_mpg_vs_wt_by_cyl +\n",
    "  theme(\n",
    "    # Set the legend key size to 3 centimeters\n",
    "    legend.key.size = unit(3, \"cm\")\n",
    "  )"
   ]
  },
  {
   "cell_type": "markdown",
   "metadata": {},
   "source": [
    "- Set the legend.margin to 20 points (\"pt\") on the top, 30 pts on the right, 40 pts on the bottom, and 50 pts on the left."
   ]
  },
  {
   "cell_type": "code",
   "execution_count": null,
   "metadata": {},
   "outputs": [],
   "source": [
    "plt_mpg_vs_wt_by_cyl +\n",
    "  theme(\n",
    "    # Set the legend margin to (20, 30, 40, 50) points\n",
    "    legend.margin = margin(20, 30, 40, 50, \"pt\")\n",
    "  )"
   ]
  },
  {
   "cell_type": "markdown",
   "metadata": {},
   "source": [
    "- Set the plot margin, plot.margin, to 10, 30, 50, and 70 millimeters (\"mm\")."
   ]
  },
  {
   "cell_type": "code",
   "execution_count": null,
   "metadata": {},
   "outputs": [],
   "source": [
    "plt_mpg_vs_wt_by_cyl +\n",
    "  theme(\n",
    "    # Set the plot margin to (10, 30, 50, 70) millimeters\n",
    "    plot.margin = margin(10, 30, 50, 70, \"mm\")\n",
    "  )"
   ]
  },
  {
   "cell_type": "markdown",
   "metadata": {},
   "source": [
    "# Built-in themes\n",
    "\n",
    "In addition to making your own themes, there are several out-of-the-box solutions that may save you lots of time.\n",
    "\n",
    "theme_gray() is the default.\n",
    "theme_bw() is useful when you use transparency.\n",
    "theme_classic() is more traditional.\n",
    "theme_void() removes everything but the data.\n",
    "plt_prop_unemployed_over_time is available.\n",
    "\n",
    "# Instructions:\n",
    "\n",
    "- Add a black and white theme, theme_bw(), to the plot.\n",
    "- What changed in the plot?"
   ]
  },
  {
   "cell_type": "code",
   "execution_count": null,
   "metadata": {},
   "outputs": [],
   "source": [
    "# Add a black and white theme\n",
    "plt_prop_unemployed_over_time +\n",
    "  theme_bw()"
   ]
  },
  {
   "cell_type": "markdown",
   "metadata": {},
   "source": [
    "- Completed task after requesting a hint or solution\n",
    "- Add a classic theme, theme_classic(), to the plot.\n",
    "- What changed in the plot?"
   ]
  },
  {
   "cell_type": "code",
   "execution_count": null,
   "metadata": {},
   "outputs": [],
   "source": [
    "# Add a classic theme\n",
    "plt_prop_unemployed_over_time +\n",
    "  theme_classic()"
   ]
  },
  {
   "cell_type": "markdown",
   "metadata": {},
   "source": [
    "- Add a void theme, theme_void(), to the plot.\n",
    "What changed in the plot?"
   ]
  },
  {
   "cell_type": "code",
   "execution_count": null,
   "metadata": {},
   "outputs": [],
   "source": [
    "# Add a void theme\n",
    "plt_prop_unemployed_over_time +\n",
    "  theme_void()"
   ]
  },
  {
   "cell_type": "markdown",
   "metadata": {},
   "source": [
    "# Exploring ggthemes\n",
    "\n",
    "Outside of ggplot2, another source of built-in themes is the ggthemes package. The workspace already contains the plt_prop_unemployed_over_time, the line plot from before. Let's explore some of the ready-made ggthemes themes.\n",
    "\n",
    "plt_prop_unemployed_over_time is available.\n",
    "\n",
    "# Instructions:\n",
    "\n",
    "- Add a fivethirtyeight.com theme, theme_fivethirtyeight(), to the plot.\n",
    "- What changed in the plot?"
   ]
  },
  {
   "cell_type": "code",
   "execution_count": null,
   "metadata": {},
   "outputs": [],
   "source": [
    "# Use the fivethirtyeight theme\n",
    "plt_prop_unemployed_over_time +\n",
    "  theme_fivethirtyeight()"
   ]
  },
  {
   "cell_type": "markdown",
   "metadata": {},
   "source": [
    "- Add an Edward Tufte theme, theme_tufte(), to the plot.\n",
    "What changed in the plot?"
   ]
  },
  {
   "cell_type": "code",
   "execution_count": null,
   "metadata": {},
   "outputs": [],
   "source": [
    "# Use Tufte's theme\n",
    "plt_prop_unemployed_over_time +\n",
    "  theme_tufte()"
   ]
  },
  {
   "cell_type": "markdown",
   "metadata": {},
   "source": [
    "- Add a Wall Street Journal theme, theme_wsj(), to the plot.\n",
    "What changed in the plot?"
   ]
  },
  {
   "cell_type": "code",
   "execution_count": null,
   "metadata": {},
   "outputs": [],
   "source": [
    "# Use the Wall Street Journal theme\n",
    "plt_prop_unemployed_over_time +\n",
    "  theme_wsj()"
   ]
  },
  {
   "cell_type": "markdown",
   "metadata": {},
   "source": [
    "# Setting themes\n",
    "\n",
    "Reusing a theme across many plots helps to provide a consistent style. You have several options for this.\n",
    "\n",
    "Assign the theme to a variable, and add it to each plot.\n",
    "Set your theme as the default using theme_set().\n",
    "A good strategy that you'll use here is to begin with a built-in theme then modify it.\n",
    "\n",
    "plt_prop_unemployed_over_time is available. The theme you made earlier is shown in the sample code.\n",
    "\n",
    "# Instructions:\n",
    "\n",
    "- Assign the theme to theme_recession.\n",
    "- Add the Tufte theme and theme_recession together.\n",
    "- Use the Tufte recession theme by adding it to the plot."
   ]
  },
  {
   "cell_type": "code",
   "execution_count": null,
   "metadata": {},
   "outputs": [],
   "source": [
    "# Save the theme as theme_recession\n",
    "theme_recession <- theme(\n",
    "  rect = element_rect(fill = \"grey92\"),\n",
    "  legend.key = element_rect(color = NA),\n",
    "  axis.ticks = element_blank(),\n",
    "  panel.grid = element_blank(),\n",
    "  panel.grid.major.y = element_line(color = \"white\", size = 0.5, linetype = \"dotted\"),\n",
    "  axis.text = element_text(color = \"grey25\"),\n",
    "  plot.title = element_text(face = \"italic\", size = 16),\n",
    "  legend.position = c(0.6, 0.1)\n",
    ")\n",
    "\n",
    "# Combine the Tufte theme with theme_recession\n",
    "theme_tufte_recession <- theme_tufte() + theme_recession\n",
    "\n",
    "# Add the Tufte recession theme to the plot\n",
    "plt_prop_unemployed_over_time + theme_tufte_recession"
   ]
  },
  {
   "cell_type": "markdown",
   "metadata": {},
   "source": [
    "- Use theme_set() to set theme_tufte_recession as the default theme.\n",
    "- Draw the plot, plt_prop_unemployed_over_time, without explicitly adding a theme.\n",
    "- Look at the plot. Was it styled with the default theme or the new theme?*"
   ]
  },
  {
   "cell_type": "code",
   "execution_count": null,
   "metadata": {},
   "outputs": [],
   "source": [
    "theme_recession <- theme(\n",
    "  rect = element_rect(fill = \"grey92\"),\n",
    "  legend.key = element_rect(color = NA),\n",
    "  axis.ticks = element_blank(),\n",
    "  panel.grid = element_blank(),\n",
    "  panel.grid.major.y = element_line(color = \"white\", size = 0.5, linetype = \"dotted\"),\n",
    "  axis.text = element_text(color = \"grey25\"),\n",
    "  plot.title = element_text(face = \"italic\", size = 16),\n",
    "  legend.position = c(0.6, 0.1)\n",
    ")\n",
    "theme_tufte_recession <- theme_tufte() + theme_recession\n",
    "\n",
    "# Set theme_tufte_recession as the default theme\n",
    "theme_set(theme_tufte_recession)\n",
    "\n",
    "# Draw the plot (without explicitly adding a theme)\n",
    "plt_prop_unemployed_over_time"
   ]
  },
  {
   "cell_type": "markdown",
   "metadata": {},
   "source": [
    "# Publication-quality plots\n",
    "\n",
    "We've seen many examples of beautiful, publication-quality plots. Let's take a final look and put all the pieces together.\n",
    "\n",
    "plt_prop_unemployed_over_time is available.\n",
    "\n",
    "# Instructions:\n",
    "\n",
    "- Add Tufte's theme."
   ]
  },
  {
   "cell_type": "code",
   "execution_count": null,
   "metadata": {},
   "outputs": [],
   "source": [
    "plt_prop_unemployed_over_time +\n",
    "  # Add Tufte's theme\n",
    "  theme_tufte()"
   ]
  },
  {
   "cell_type": "markdown",
   "metadata": {},
   "source": [
    "- Call the function to add individual theme elements. Turn off the legend and the axis ticks."
   ]
  },
  {
   "cell_type": "code",
   "execution_count": null,
   "metadata": {},
   "outputs": [],
   "source": [
    "plt_prop_unemployed_over_time +\n",
    "  theme_tufte() +\n",
    "  # Add individual theme elements\n",
    "  theme(\n",
    "    # Turn off the legend\n",
    "    legend.position = \"none\",\n",
    "    # Turn off the axis ticks\n",
    "    axis.ticks = element_blank()\n",
    "  )"
   ]
  },
  {
   "cell_type": "markdown",
   "metadata": {},
   "source": [
    "- Set the axis title and axis text's text color to grey60."
   ]
  },
  {
   "cell_type": "code",
   "execution_count": null,
   "metadata": {},
   "outputs": [],
   "source": [
    "plt_prop_unemployed_over_time +\n",
    "  theme_tufte() +\n",
    "  theme(\n",
    "    legend.position = \"none\",\n",
    "    axis.ticks = element_blank(),\n",
    "    # Set the axis title's text color to grey60\n",
    "    axis.title = element_text(color = \"grey60\"),\n",
    "    # Set the axis text's text color to grey60\n",
    "    axis.text = element_text(color = \"grey60\")\n",
    "  )"
   ]
  },
  {
   "cell_type": "markdown",
   "metadata": {},
   "source": [
    "- Set the panel gridlines major y values. Set the color to grey60, the size to 0.25, and the line type to dotted."
   ]
  },
  {
   "cell_type": "code",
   "execution_count": null,
   "metadata": {},
   "outputs": [],
   "source": [
    "plt_prop_unemployed_over_time +\n",
    "  theme_tufte() +\n",
    "  theme(\n",
    "    legend.position = \"none\",\n",
    "    axis.ticks = element_blank(),\n",
    "    axis.title = element_text(color = \"grey60\"),\n",
    "    axis.text = element_text(color = \"grey60\"),\n",
    "    # Set the panel gridlines major y values\n",
    "    panel.grid.major.y = element_line(\n",
    "      # Set the color to grey60\n",
    "      color = \"grey60\",\n",
    "      # Set the size to 0.25\n",
    "      size = 0.25,\n",
    "      # Set the linetype to dotted\n",
    "      linetype = \"dotted\"\n",
    "    )\n",
    "  )"
   ]
  },
  {
   "cell_type": "markdown",
   "metadata": {},
   "source": [
    "# Using geoms for explanatory plots\n",
    "\n",
    "Let's focus on producing beautiful and effective explanatory plots. In the next couple of exercises, you'll create a plot that is similar to the one shown in the video using gm2007, a filtered subset of the gapminder dataset.\n",
    "\n",
    "This type of plot will be in an info-viz style, meaning that it would be similar to something you'd see in a magazine or website for a mostly lay audience.\n",
    "\n",
    "A scatterplot of lifeExp by country, colored by lifeExp, with points of size 4, is provided.\n",
    "\n",
    "# Instructions:\n",
    "\n",
    "- geom_segment() adds line segments and requires two additional aesthetics: xend and yend. To draw a horizontal line for each point, map 30 onto xend and country onto yend."
   ]
  },
  {
   "cell_type": "code",
   "execution_count": null,
   "metadata": {},
   "outputs": [],
   "source": [
    "# Add a geom_segment() layer\n",
    "ggplot(gm2007, aes(x = lifeExp, y = country, color = lifeExp)) +\n",
    "  geom_point(size = 4) +\n",
    "  geom_segment(aes(xend = 30, yend = country), size = 2)"
   ]
  },
  {
   "cell_type": "markdown",
   "metadata": {},
   "source": [
    "geom_text also needs an additional aesthetic: label. Map lifeExp onto label, and set the attributes color to \"white\" and size to 1.5."
   ]
  },
  {
   "cell_type": "code",
   "execution_count": null,
   "metadata": {},
   "outputs": [],
   "source": [
    "# Add a geom_text() layer\n",
    "ggplot(gm2007, aes(x = lifeExp, y = country, color = lifeExp)) +\n",
    "  geom_point(size = 4) +\n",
    "  geom_segment(aes(xend = 30, yend = country), size = 2) +\n",
    "  geom_text(aes(label = lifeExp), color = \"white\", size = 1.5)"
   ]
  },
  {
   "cell_type": "markdown",
   "metadata": {},
   "source": [
    "- The color scale has been set for you, but you need to clean up the scales. For the x scale:\n",
    "Set expand to c(0, 0) and limits to c(30, 90).\n",
    "Place the axis on the top of the plot with the position argument."
   ]
  },
  {
   "cell_type": "code",
   "execution_count": null,
   "metadata": {},
   "outputs": [],
   "source": [
    "# Set the color scale\n",
    "palette <- brewer.pal(5, \"RdYlBu\")[-(2:4)]\n",
    "\n",
    "# Modify the scales\n",
    "ggplot(gm2007, aes(x = lifeExp, y = country, color = lifeExp)) +\n",
    "  geom_point(size = 4) +\n",
    "  geom_segment(aes(xend = 30, yend = country), size = 2) +\n",
    "  geom_text(aes(label = round(lifeExp,1)), color = \"white\", size = 1.5) +\n",
    "  scale_x_continuous(\"\", expand = c(0, 0), limits = c(30, 90), position = \"top\") +\n",
    "  scale_color_gradientn(colors = palette)"
   ]
  },
  {
   "cell_type": "markdown",
   "metadata": {},
   "source": [
    "- Make sure to label the plot appropriately using labs():\n",
    "\n",
    "Make the title \"Highest and lowest life expectancies, 2007\".\n",
    "Add a reference by setting caption to \"Source: gapminder\"."
   ]
  },
  {
   "cell_type": "code",
   "execution_count": null,
   "metadata": {},
   "outputs": [],
   "source": [
    "# Set the color scale\n",
    "palette <- brewer.pal(5, \"RdYlBu\")[-(2:4)]\n",
    "\n",
    "# Add a title and caption\n",
    "ggplot(gm2007, aes(x = lifeExp, y = country, color = lifeExp)) +\n",
    "  geom_point(size = 4) +\n",
    "  geom_segment(aes(xend = 30, yend = country), size = 2) +\n",
    "  geom_text(aes(label = round(lifeExp,1)), color = \"white\", size = 1.5) +\n",
    "  scale_x_continuous(\"\", expand = c(0,0), limits = c(30,90), position = \"top\") +\n",
    "  scale_color_gradientn(colors = palette) +\n",
    "  labs(title = \"Highest and lowest life expectancies, 2007\", caption = \"Source: gapminder\")"
   ]
  },
  {
   "cell_type": "markdown",
   "metadata": {},
   "source": [
    "# Using annotate() for embellishments\n",
    "\n",
    "In the previous exercise, we completed our basic plot. Now let's polish it by playing with the theme and adding annotations. In this exercise, you'll use annotate() to add text and a curve to the plot.\n",
    "\n",
    "The following values have been calculated for you to assist with adding embellishments to the plot:\n",
    "\n",
    "global_mean <- mean(gm2007_full$lifeExp)\n",
    "x_start <- global_mean + 4\n",
    "y_start <- 5.5\n",
    "x_end <- global_mean\n",
    "y_end <- 7.5\n",
    "Our previous plot has been assigned to plt_country_vs_lifeExp.\n",
    "\n",
    "# Instructions:\n",
    "\n",
    "- Clean up the theme:\n",
    "\n",
    "Add a classic theme to the plot with theme_classic().\n",
    "Set axis.line.y, axis.ticks.y, and axis.title to element_blank().\n",
    "Set the axis.text color to \"black\".\n",
    "Remove the legend by setting legend.position to \"none\"."
   ]
  },
  {
   "cell_type": "code",
   "execution_count": null,
   "metadata": {},
   "outputs": [],
   "source": [
    "# Define the theme\n",
    "plt_country_vs_lifeExp +\n",
    "  theme_classic() +\n",
    "  theme(axis.line.y = element_blank(),\n",
    "        axis.ticks.y = element_blank(),\n",
    "        axis.text = element_text(color = \"black\"),\n",
    "        axis.title = element_blank(),\n",
    "        legend.position = \"none\")"
   ]
  },
  {
   "cell_type": "markdown",
   "metadata": {},
   "source": [
    "- Use geom_vline() to add a vertical line. Set xintercept to global_mean, specify the color to be \"grey40\", and set linetype to 3."
   ]
  },
  {
   "cell_type": "code",
   "execution_count": null,
   "metadata": {},
   "outputs": [],
   "source": [
    "# Add a vertical line\n",
    "plt_country_vs_lifeExp +\n",
    "  step_1_themes +\n",
    "  geom_vline(xintercept = global_mean, color = \"grey40\", linetype = 3)"
   ]
  },
  {
   "cell_type": "markdown",
   "metadata": {},
   "source": [
    "- x_start and y_start will be used as positions to place text and have been calculated for you.\n",
    "- Add a \"text\" geom as an annotation.\n",
    "- For the annotation, set x to x_start, y to y_start, and label to \"The\\nglobal\\naverage\"."
   ]
  },
  {
   "cell_type": "code",
   "execution_count": null,
   "metadata": {},
   "outputs": [],
   "source": [
    "# Add text\n",
    "plt_country_vs_lifeExp +\n",
    "  step_1_themes +\n",
    "  geom_vline(xintercept = global_mean, color = \"grey40\", linetype = 3) +\n",
    "  annotate(\n",
    "    \"text\",\n",
    "    x = x_start, y = y_start,\n",
    "    label = \"The\\nglobal\\naverage\",\n",
    "    vjust = 1, size = 3, color = \"grey40\"\n",
    "  )"
   ]
  },
  {
   "cell_type": "markdown",
   "metadata": {},
   "source": [
    "- Annotate the plot with an arrow connecting your text to the line.\n",
    "- Use a \"curve\" geom.\n",
    "- Set the arrow ends xend to x_end and yend to y_end.\n",
    "- Set the length of the arrowhead to 0.2 cm and the type to \"closed\"."
   ]
  },
  {
   "cell_type": "code",
   "execution_count": null,
   "metadata": {},
   "outputs": [],
   "source": [
    "# Add a curve\n",
    "plt_country_vs_lifeExp +  \n",
    "  step_1_themes +\n",
    "  geom_vline(xintercept = global_mean, color = \"grey40\", linetype = 3) +\n",
    "  step_3_annotation +\n",
    "  annotate(\n",
    "    \"curve\",\n",
    "    x = x_start, y = y_start,\n",
    "    xend = x_end, yend = y_end,\n",
    "    arrow = arrow(length = unit(0.2, \"cm\"), type = \"closed\"),\n",
    "    color = \"grey40\"\n",
    "  )"
   ]
  }
 ],
 "metadata": {
  "language_info": {
   "name": "python"
  }
 },
 "nbformat": 4,
 "nbformat_minor": 2
}
