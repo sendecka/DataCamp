{
 "cells": [
  {
   "cell_type": "markdown",
   "metadata": {},
   "source": [
    "# 2 Aesthetics\n",
    "\n",
    "Aesthetic mappings are the cornerstone of the grammar of graphics plotting concept. This is where the magic happens - converting continuous and categorical data into visual scales that provide access to a large amount of information in a very short time. In this chapter you’ll understand how to choose the best aesthetic mappings for your data."
   ]
  },
  {
   "cell_type": "markdown",
   "metadata": {},
   "source": [
    "# All about aesthetics: color, shape and size\n",
    "\n",
    "In the video you saw 9 visible aesthetics. Let's apply them to a categorical variable — the cylinders in mtcars, cyl.\n",
    "\n",
    "These are the aesthetics you can consider within aes() in this chapter: x, y, color, fill, size, alpha, labels and shape.\n",
    "\n",
    "One common convention is that you don't name the x and y arguments to aes(), since they almost always come first, but you do name other arguments.\n",
    "\n",
    "In the following exercise the fcyl column is categorical. It is cyl transformed into a factor.\n",
    "\n",
    "# Instructions:\n",
    "\n",
    "- Map mpg onto the x aesthetic, and fcyl onto the y."
   ]
  },
  {
   "cell_type": "code",
   "execution_count": null,
   "metadata": {},
   "outputs": [],
   "source": [
    "# Map x to mpg and y to fcyl\n",
    "ggplot(mtcars, aes(mpg, fcyl)) +\n",
    "  geom_point()"
   ]
  },
  {
   "cell_type": "markdown",
   "metadata": {},
   "source": [
    "- Swap the mappings of the first plot: fcyl onto the x aesthetic, and mpg onto the y."
   ]
  },
  {
   "cell_type": "code",
   "execution_count": null,
   "metadata": {},
   "outputs": [],
   "source": [
    "# Swap mpg and fcyl\n",
    "ggplot(mtcars, aes(fcyl, mpg)) +\n",
    "  geom_point()"
   ]
  },
  {
   "cell_type": "markdown",
   "metadata": {},
   "source": [
    "- Map wt onto x, mpg onto y, and fcyl onto color."
   ]
  },
  {
   "cell_type": "code",
   "execution_count": null,
   "metadata": {},
   "outputs": [],
   "source": [
    "# Map x to wt, y to mpg and color to fcyl\n",
    "ggplot(mtcars, aes(wt, mpg, color = fcyl)) +\n",
    "  geom_point()"
   ]
  },
  {
   "cell_type": "markdown",
   "metadata": {},
   "source": [
    "- Modify the point layer of the previous plot by changing the shape argument to 1 and increasing the size to 4."
   ]
  },
  {
   "cell_type": "code",
   "execution_count": null,
   "metadata": {},
   "outputs": [],
   "source": [
    "ggplot(mtcars, aes(wt, mpg, color = fcyl)) +\n",
    "  # Set the shape and size of the points\n",
    "  geom_point(shape = 1, size = 4)"
   ]
  },
  {
   "cell_type": "markdown",
   "metadata": {},
   "source": [
    "# All about aesthetics: color vs. fill\n",
    "\n",
    "Typically, the color aesthetic changes the outline of a geom and the fill aesthetic changes the inside. geom_point() is an exception: you use color (not fill) for the point color. However, some shapes have special behavior.\n",
    "\n",
    "The default geom_point() uses shape = 19: a solid circle. An alternative is shape = 21: a circle that allow you to use both fill for the inside and color for the outline. This is lets you to map two aesthetics to each point.\n",
    "\n",
    "All shape values are described on the points() help page.\n",
    "\n",
    "fcyl and fam are the cyl and am columns converted to factors, respectively.\n",
    "\n",
    "# Instructions:\n",
    "\n",
    "- Change the aesthetics so that fcyl maps to fill rather than color."
   ]
  },
  {
   "cell_type": "code",
   "execution_count": null,
   "metadata": {},
   "outputs": [],
   "source": [
    "# Map fcyl to fill\n",
    "ggplot(mtcars, aes(wt, mpg, fill = fcyl)) +\n",
    "  geom_point(shape = 1, size = 4)"
   ]
  },
  {
   "cell_type": "markdown",
   "metadata": {},
   "source": [
    "- In geom_point() change the shape argument to 21 and add an alpha argument set to 0.6."
   ]
  },
  {
   "cell_type": "code",
   "execution_count": null,
   "metadata": {},
   "outputs": [],
   "source": [
    "ggplot(mtcars, aes(wt, mpg, fill = fcyl)) +\n",
    "  # Change point shape; set alpha\n",
    "  geom_point(shape = 21, size = 4, alpha = 0.6)"
   ]
  },
  {
   "cell_type": "markdown",
   "metadata": {},
   "source": [
    "- In the ggplot() aesthetics, map fam to color."
   ]
  },
  {
   "cell_type": "code",
   "execution_count": null,
   "metadata": {},
   "outputs": [],
   "source": [
    "# Map color to fam\n",
    "ggplot(mtcars, aes(wt, mpg, fill = fcyl, color = fam)) +\n",
    "  geom_point(shape = 21, size = 4, alpha = 0.6)"
   ]
  },
  {
   "cell_type": "markdown",
   "metadata": {},
   "source": [
    "# All about aesthetics: comparing aesthetics\n",
    "\n",
    "Now that you've got some practice with using attributes, be careful of a major pitfall: these attributes can overwrite the aesthetics of your plot!\n",
    "\n",
    "# Instructions:\n",
    "\n",
    "- Using mtcars, create a plot base layer, plt_mpg_vs_wt. Map mpg onto y and wt onto x.\n",
    "- Add a point layer, mapping the categorical no. of cylinders, fcyl, onto size."
   ]
  },
  {
   "cell_type": "code",
   "execution_count": null,
   "metadata": {},
   "outputs": [],
   "source": [
    "# Establish the base layer\n",
    "plt_mpg_vs_wt <- ggplot(mtcars, aes(wt, mpg))\n",
    "\n",
    "# Map fcyl to size\n",
    "plt_mpg_vs_wt +\n",
    "  geom_point(aes(size = fcyl))"
   ]
  },
  {
   "cell_type": "markdown",
   "metadata": {},
   "source": [
    "- Change the mapping. This time fcyl should be mapped onto alpha."
   ]
  },
  {
   "cell_type": "code",
   "execution_count": null,
   "metadata": {},
   "outputs": [],
   "source": [
    "# Base layer\n",
    "plt_mpg_vs_wt <- ggplot(mtcars, aes(wt, mpg))\n",
    "\n",
    "# Map fcyl to alpha, not size\n",
    "plt_mpg_vs_wt +\n",
    "  geom_point(aes(alpha = fcyl))"
   ]
  },
  {
   "cell_type": "markdown",
   "metadata": {},
   "source": [
    "- Change the mapping again. This time fcyl should be mapped onto shape."
   ]
  },
  {
   "cell_type": "code",
   "execution_count": null,
   "metadata": {},
   "outputs": [],
   "source": [
    "# Base layer\n",
    "plt_mpg_vs_wt <- ggplot(mtcars, aes(wt, mpg))\n",
    "\n",
    "# Map fcyl to shape, not alpha\n",
    "plt_mpg_vs_wt +\n",
    "  geom_point(aes(shape = fcyl))"
   ]
  },
  {
   "cell_type": "markdown",
   "metadata": {},
   "source": [
    "- Swap the geom layer: change points to text.\n",
    "- Change the mapping again. This time fcyl should be mapped onto label."
   ]
  },
  {
   "cell_type": "code",
   "execution_count": null,
   "metadata": {},
   "outputs": [],
   "source": [
    "# Base layer\n",
    "plt_mpg_vs_wt <- ggplot(mtcars, aes(wt, mpg))\n",
    "\n",
    "# Use text layer and map fcyl to label\n",
    "plt_mpg_vs_wt +\n",
    "  geom_text(aes(label = fcyl))"
   ]
  },
  {
   "cell_type": "markdown",
   "metadata": {},
   "source": [
    "# Aesthetics for categorical & continuous variables\n",
    "\n",
    "Many of the aesthetics can accept either continuous or categorical variables, but some are restricted to categorical data. Which aesthetics are only applicable to categorical data?\n",
    "\n",
    "# Select one answer\n",
    "\n",
    "(x) color & fill\n",
    "\n",
    "( ) alpha & size\n",
    "\n",
    "( ) label & shape\n",
    "\n",
    "( ) alpha & label\n",
    "\n",
    "( ) x & y"
   ]
  },
  {
   "cell_type": "markdown",
   "metadata": {},
   "source": [
    "# All about attributes: color, shape, size and alpha\n",
    "\n",
    "This time you'll use these arguments to set attributes of the plot, not map variables onto aesthetics.\n",
    "\n",
    "You can specify colors in R using hex codes: a hash followed by two hexadecimal numbers each for red, green, and blue (\"#RRGGBB\"). Hexadecimal is base-16 counting. You have 0 to 9, and A representing 10 up to F representing 15. Pairs of hexadecimal numbers give you a range from 0 to 255. \"#000000\" is \"black\" (no color), \"#FFFFFF\" means \"white\", and `\"#00FFFF\" is cyan (mixed green and blue).\n",
    "\n",
    "A hexadecimal color variable, my_blue has been defined for you.\n",
    "\n",
    "# Instructions:\n",
    "\n",
    "- Set the point color to my_blue and the alpha to 0.6."
   ]
  },
  {
   "cell_type": "code",
   "execution_count": null,
   "metadata": {},
   "outputs": [],
   "source": [
    "# A hexadecimal color\n",
    "my_blue <- \"#4ABEFF\"\n",
    "\n",
    "ggplot(mtcars, aes(wt, mpg)) +\n",
    "  # Set the point color and alpha\n",
    "  geom_point(color = my_blue, alpha = 0.6)"
   ]
  },
  {
   "cell_type": "markdown",
   "metadata": {},
   "source": [
    "- Change the color mapping to a fill mapping. That is, fcyl should be mapped onto fill.\n",
    "- Set the color of the points to my_blue, point size to 10 and the point shape to 1."
   ]
  },
  {
   "cell_type": "code",
   "execution_count": null,
   "metadata": {},
   "outputs": [],
   "source": [
    "# A hexadecimal color\n",
    "my_blue <- \"#4ABEFF\"\n",
    "\n",
    "# Change the color mapping to a fill mapping\n",
    "ggplot(mtcars, aes(wt, mpg, fill = fcyl)) +\n",
    "  # Set point size and shape\n",
    "  geom_point(color = my_blue, size = 10, shape = 1)"
   ]
  },
  {
   "cell_type": "markdown",
   "metadata": {},
   "source": [
    "# All about attributes: conflicts with aesthetics\n",
    "\n",
    "In the videos you saw that you can use all the aesthetics as attributes. Let's see how this works with the aesthetics you used in the previous exercises: x, y, color, fill, size, alpha, label and shape.\n",
    "\n",
    "In this exercise you will set all kinds of attributes of the points!\n",
    "\n",
    "You will continue to work with mtcars.\n",
    "\n",
    "# Instructions:\n",
    "\n",
    "- Add a point layer, setting alpha, the transparency, to 0.5."
   ]
  },
  {
   "cell_type": "code",
   "execution_count": null,
   "metadata": {},
   "outputs": [],
   "source": [
    "ggplot(mtcars, aes(wt, mpg, color = fcyl)) +\n",
    "  # Add point layer with alpha 0.5\n",
    "  geom_point(alpha = 0.5)"
   ]
  },
  {
   "cell_type": "markdown",
   "metadata": {},
   "source": [
    "- Completed task after requesting a hint or solution\n",
    "- Add a text layer, setting the label to the rownames of the dataset mtcars, and the color to \"red\"."
   ]
  },
  {
   "cell_type": "code",
   "execution_count": null,
   "metadata": {},
   "outputs": [],
   "source": [
    "ggplot(mtcars, aes(wt, mpg, color = fcyl)) +\n",
    "  # Add text layer with label rownames(mtcars) and color red\n",
    "  geom_text(label = rownames(mtcars), color = \"red\")"
   ]
  },
  {
   "cell_type": "markdown",
   "metadata": {},
   "source": [
    "- Add a point layer, setting the shape to 24 and the color to \"yellow\"."
   ]
  },
  {
   "cell_type": "code",
   "execution_count": null,
   "metadata": {},
   "outputs": [],
   "source": [
    "ggplot(mtcars, aes(wt, mpg, color = fcyl)) +\n",
    "  # Add points layer with shape 24 and color yellow\n",
    "  geom_point(shape = 24, color = \"yellow\")"
   ]
  },
  {
   "cell_type": "markdown",
   "metadata": {},
   "source": [
    "# Going all out\n",
    "\n",
    "In this exercise, you will gradually add more aesthetics layers to the plot. You're still working with the mtcars dataset, but this time you're using more features of the cars. Each of the columns is described on the mtcars help page. Columns fcyl and fam have been added (as before) as categorical versions of cyl and am respectively.\n",
    "\n",
    "Notice that adding more aesthetic mappings to your plot is not always a good idea! You may just increase complexity and decrease readability.\n",
    "\n",
    "# Instructions:\n",
    "\n",
    "- Use mtcars to draw a plot of qsec vs. mpg, colored by fcyl.\n",
    "- Add a point layer."
   ]
  },
  {
   "cell_type": "code",
   "execution_count": null,
   "metadata": {},
   "outputs": [],
   "source": [
    "# 3 aesthetics: qsec vs. mpg, colored by fcyl\n",
    "ggplot(mtcars, aes(mpg, qsec, color = fcyl)) +\n",
    "  geom_point()"
   ]
  },
  {
   "cell_type": "markdown",
   "metadata": {},
   "source": [
    "- Add another aesthetic: map fam onto shape."
   ]
  },
  {
   "cell_type": "code",
   "execution_count": null,
   "metadata": {},
   "outputs": [],
   "source": [
    "# 4 aesthetics: add a mapping of shape to fam\n",
    "ggplot(mtcars, aes(mpg, qsec, color = fcyl, shape = fam)) +\n",
    "  geom_point()"
   ]
  },
  {
   "cell_type": "markdown",
   "metadata": {},
   "source": [
    "- Add another two aesthetics: map hp divided by wt onto size."
   ]
  },
  {
   "cell_type": "code",
   "execution_count": null,
   "metadata": {},
   "outputs": [],
   "source": [
    "# 5 aesthetics: add a mapping of size to hp / wt\n",
    "ggplot(mtcars, aes(mpg, qsec, color = fcyl, shape = fam, size = hp / wt)) +\n",
    "  geom_point()"
   ]
  },
  {
   "cell_type": "markdown",
   "metadata": {},
   "source": [
    "# Updating aesthetic labels\n",
    "\n",
    "In this exercise, you'll modify some aesthetics to make a bar plot of the number of cylinders for cars with different types of transmission.\n",
    "\n",
    "You'll also make use of some functions for improving the appearance of the plot.\n",
    "\n",
    "labs() to set the x- and y-axis labels. It takes strings for each argument.\n",
    "scale_fill_manual() defines properties of the color scale (i.e. axis). The first argument sets the legend title. values is a named vector of colors to use.\n",
    "\n",
    "# Instructions:\n",
    "\n",
    "- Set the x-axis label to \"Number of Cylinders\", and the y-axis label to \"Count\" using the x and y arguments of labs(), respectively."
   ]
  },
  {
   "cell_type": "code",
   "execution_count": null,
   "metadata": {},
   "outputs": [],
   "source": [
    "ggplot(mtcars, aes(fcyl, fill = fam)) +\n",
    "  geom_bar() +\n",
    "  # Set the axis labels\n",
    "  labs(x = \"Number of Cylinders\",\n",
    "       y = \"Count\")"
   ]
  },
  {
   "cell_type": "markdown",
   "metadata": {},
   "source": [
    "- Implement a custom fill color scale using scale_fill_manual(). Set the first argument to \"Transmission\", and values to palette."
   ]
  },
  {
   "cell_type": "code",
   "execution_count": null,
   "metadata": {},
   "outputs": [],
   "source": [
    "palette <- c(automatic = \"#377EB8\", manual = \"#E41A1C\")\n",
    "\n",
    "ggplot(mtcars, aes(fcyl, fill = fam)) +\n",
    "  geom_bar() +\n",
    "  labs(x = \"Number of Cylinders\", y = \"Count\") +\n",
    "  # Set the fill color scale\n",
    "  scale_fill_manual(\"Transmission\", values = palette)"
   ]
  },
  {
   "cell_type": "markdown",
   "metadata": {},
   "source": [
    "- Modify the code to set the position to dodge so that the bars for transmissions are displayed side by side."
   ]
  },
  {
   "cell_type": "code",
   "execution_count": null,
   "metadata": {},
   "outputs": [],
   "source": [
    "palette <- c(automatic = \"#377EB8\", manual = \"#E41A1C\")\n",
    "\n",
    "# Set the position\n",
    "ggplot(mtcars, aes(fcyl, fill = fam)) +\n",
    "  geom_bar(position = \"dodge\") +\n",
    "  labs(x = \"Number of Cylinders\", y = \"Count\") +\n",
    "  scale_fill_manual(\"Transmission\", values = palette)"
   ]
  },
  {
   "cell_type": "markdown",
   "metadata": {},
   "source": [
    "# Setting a dummy aesthetic\n",
    "\n",
    "In the last chapter you saw that all the visible aesthetics can serve as attributes and aesthetics, but I very conveniently left out x and y. That's because although you can make univariate plots (such as histograms, which you'll get to in the next chapter), a y-axis will always be provided, even if you didn't ask for it.\n",
    "\n",
    "You can make univariate plots in ggplot2, but you will need to add a fake y axis by mapping y to zero.\n",
    "\n",
    "When using setting y-axis limits, you can specify the limits as separate arguments, or as a single numeric vector. That is, ylim(lo, hi) or ylim(c(lo, hi)).\n",
    "\n",
    "# Instructions:\n",
    "\n",
    "- Using mtcars, plot 0 vs. mpg.\n",
    "- Make a scatter plot and add \"jitter\" to it."
   ]
  },
  {
   "cell_type": "code",
   "execution_count": null,
   "metadata": {},
   "outputs": [],
   "source": [
    "# Plot 0 vs. mpg\n",
    "ggplot(mtcars, aes(mpg, 0)) +\n",
    "  # Add jitter \n",
    "  geom_point(position = \"jitter\")"
   ]
  },
  {
   "cell_type": "markdown",
   "metadata": {},
   "source": [
    "- Use ylim() to set the limits on the y-axis from -2 to 2."
   ]
  },
  {
   "cell_type": "code",
   "execution_count": null,
   "metadata": {},
   "outputs": [],
   "source": [
    "ggplot(mtcars, aes(mpg, 0)) +\n",
    "  geom_jitter() +\n",
    "  # Set the y-axis limits\n",
    "  ylim(c(-2, 2))"
   ]
  },
  {
   "cell_type": "markdown",
   "metadata": {},
   "source": [
    "# Appropriate mappings\n",
    "\n",
    "Incorrect aesthetic mapping causes confusion or misleads the audience.\n",
    "\n",
    "Typically, the dependent variable is mapped onto the the y-axis and the independent variable is mapped onto the x-axis.\n",
    "\n",
    "In the ToothGrowth data set, we have three variables:\n",
    "\n",
    "Variable\tDescription\n",
    "len\tTooth length\n",
    "supp\tSupplement type (VC or OJ)\n",
    "dose\tDose in milligrams/day\n",
    "\n",
    "From the six possible ways to map three variables, one solution is shown in the viewer. Which of the options below leads to the plot shown?\n",
    "\n",
    "# Possible answers\n",
    "\n",
    "( ) x = supp, y = len, color = dose\n",
    "\n",
    "# Appropriate mappings\n",
    "\n",
    "Incorrect aesthetic mapping causes confusion or misleads the audience.\n",
    "\n",
    "Typically, the dependent variable is mapped onto the the y-axis and the independent variable is mapped onto the x-axis.\n",
    "\n",
    "In the ToothGrowth data set, we have three variables:\n",
    "\n",
    "Variable\tDescription\n",
    "len\tTooth length\n",
    "supp\tSupplement type (VC or OJ)\n",
    "dose\tDose in milligrams/day\n",
    "\n",
    "From the six possible ways to map three variables, one solution is shown in the viewer. Which of the options below leads to the plot shown?\n",
    "\n",
    "# Possible answers\n",
    "\n",
    "(x) x = supp, y = len, color = dose\n",
    "\n",
    "( ) x = dose, y = supp, color = len\n",
    "\n",
    "( ) x = len, y = dose, color = supp\n",
    "\n",
    "( ) x = len, y = supp, color = dose\n",
    "\n",
    "( ) x = supp, y = dose, color = len"
   ]
  }
 ],
 "metadata": {
  "language_info": {
   "name": "python"
  }
 },
 "nbformat": 4,
 "nbformat_minor": 2
}
