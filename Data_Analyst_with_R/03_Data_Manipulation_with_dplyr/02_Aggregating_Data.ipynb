{
 "cells": [
  {
   "cell_type": "markdown",
   "metadata": {},
   "source": [
    "# 2 Aggregating Data\n",
    "\n",
    "Now that you know how to transform your data, you'll want to know more about how to aggregate your data to make it more interpretable. You'll learn a number of functions you can use to take many observations in your data and summarize them, including count, group_by, summarize, ungroup, and slice_min/slice_max."
   ]
  },
  {
   "cell_type": "markdown",
   "metadata": {},
   "source": [
    "# Counting by region\n",
    "\n",
    "The counties dataset contains columns for region, state, population, and the number of citizens, which we selected and saved as the counties_selected table. In this exercise, you'll focus on the region column.\n",
    "\n",
    "counties_selected <- counties %>%\n",
    "  select(county, region, state, population, citizens)\n",
    "  \n",
    "# Instructions:\n",
    "\n",
    "- Use count() to find the number of counties in each region, using a second argument to sort in descending order.\n",
    "\n"
   ]
  },
  {
   "cell_type": "code",
   "execution_count": null,
   "metadata": {},
   "outputs": [],
   "source": [
    "# Use count to find the number of counties in each region\n",
    "counties_selected %>%\n",
    "  select(region, state, population, citizens)\n",
    "\n",
    "counties_selected %>%\n",
    "count(region, sort = TRUE)"
   ]
  },
  {
   "cell_type": "markdown",
   "metadata": {},
   "source": [
    "# Counting citizens by state\n",
    "\n",
    "You can weigh your count by particular variables rather than finding the number of counties. In this case, you'll find the number of citizens in each state.\n",
    "\n",
    "counties_selected <- counties %>%\n",
    "  select(county, region, state, population, citizens)\n",
    "\n",
    "# Instructions:\n",
    "\n",
    "- Count the number of counties in each state, weighted based on the citizens column, and sorted in descending order."
   ]
  },
  {
   "cell_type": "code",
   "execution_count": null,
   "metadata": {},
   "outputs": [],
   "source": [
    "# Find number of counties per state, weighted by citizens, sorted in descending order\n",
    "counties_selected %>%\n",
    "  select(region, state, population, citizens)\n",
    "\n",
    "counties_selected %>%\n",
    "count(state, wt = citizens, sort = TRUE)"
   ]
  },
  {
   "cell_type": "markdown",
   "metadata": {},
   "source": [
    "# Mutating and counting\n",
    "\n",
    "You can combine multiple verbs together to answer increasingly complicated questions of your data. For example: \"What are the US states where the most people walk to work?\"\n",
    "\n",
    "You'll use the walk column, which offers a percentage of people in each county that walk to work, to add a new column and count based on it.\n",
    "\n",
    "counties_selected <- counties %>%\n",
    "  select(county, region, state, population, walk)\n",
    "\n",
    "# Instructions:\n",
    "\n",
    "- Use mutate() to calculate and add a column called population_walk, containing the total number of people who walk to work in a county.\n",
    "- Use a (weighted and sorted) count() to find the total number of people who walk to work in each state."
   ]
  },
  {
   "cell_type": "code",
   "execution_count": null,
   "metadata": {},
   "outputs": [],
   "source": [
    "counties_selected %>%\n",
    "  # Add population_walk containing the total number of people who walk to work \n",
    "  mutate(population_walk = population * walk / 100) %>%\n",
    "  # Count weighted by the new column\n",
    "  count(state, wt = population_walk, sort = TRUE)"
   ]
  },
  {
   "cell_type": "markdown",
   "metadata": {},
   "source": [
    "# Summarizing\n",
    "\n",
    "The summarize() verb is very useful for collapsing a large dataset into a single observation.\n",
    "\n",
    "counties_selected <- counties %>%\n",
    "  select(county, population, income, unemployment)\n",
    "\n",
    "# Instructions:\n",
    "\n",
    "- Summarize the counties dataset to find the following columns: min_population (with the smallest population), max_unemployment (with the maximum unemployment), and average_income (with the mean of the income variable)."
   ]
  },
  {
   "cell_type": "code",
   "execution_count": null,
   "metadata": {},
   "outputs": [],
   "source": [
    "counties_selected %>%\n",
    "  # Summarize to find minimum population, maximum unemployment, and average income\n",
    "  summarise(min_population = min(population), max_unemployment = max(unemployment), average_income = mean(income))"
   ]
  },
  {
   "cell_type": "markdown",
   "metadata": {},
   "source": [
    "# Summarizing by \n",
    "\n",
    "Another interesting column is land_area, which shows the land area in square miles. Here, you'll summarize both population and land area by state, with the purpose of finding the density (in people per square miles).\n",
    "\n",
    "counties_selected <- counties %>%\n",
    "  select(state, county, population, land_area)\n",
    "\n",
    "# Instructions:\n",
    "\n",
    "- Group the data by state, and summarize to create the columns total_area (the total land_area in square miles) and total_population (with total population).\n",
    "\n"
   ]
  },
  {
   "cell_type": "code",
   "execution_count": null,
   "metadata": {},
   "outputs": [],
   "source": [
    "counties_selected %>%\n",
    "  # Group by state\n",
    "  group_by(state) %>%\n",
    "  # Find the total area and population\n",
    "  summarize(total_area = sum(land_area),\n",
    "            total_population = sum(population))"
   ]
  },
  {
   "cell_type": "markdown",
   "metadata": {},
   "source": [
    "- Add a density column containing the total population per square mile, using the columns you already created, then arrange in descending order."
   ]
  },
  {
   "cell_type": "code",
   "execution_count": null,
   "metadata": {},
   "outputs": [],
   "source": [
    "counties_selected %>%\n",
    "  group_by(state) %>%\n",
    "  summarize(total_area = sum(land_area),\n",
    "            total_population = sum(population)) %>%\n",
    "  # Add a density column\n",
    "  mutate(density = total_population / total_area) %>%\n",
    "  # Sort by density in descending order\n",
    "  arrange(desc(density))"
   ]
  },
  {
   "cell_type": "markdown",
   "metadata": {},
   "source": [
    "# Summarizing by state and region\n",
    "\n",
    "You can group by multiple columns instead of grouping by one. Here, you'll practice aggregating by state and region, and notice how useful it is for performing multiple aggregations in a row.\n",
    "\n",
    "counties_selected <- counties %>%\n",
    "  select(region, state, county, population)\n",
    "\n",
    "# Instructions:\n",
    "\n",
    "- Summarize to find the total population, as a column called total_pop, in each combination of region and state, grouped in that order."
   ]
  },
  {
   "cell_type": "code",
   "execution_count": null,
   "metadata": {},
   "outputs": [],
   "source": [
    "counties_selected %>%\n",
    "  # Group and summarize to find the total population\n",
    "  group_by(region, state) %>%\n",
    "  summarize(total_pop = sum(population))"
   ]
  },
  {
   "cell_type": "markdown",
   "metadata": {},
   "source": [
    "- Notice the tibble is still grouped by region; use another summarize() step to calculate two new columns: the average state population in each region (average_pop) and the median state population in each region (median_pop)."
   ]
  },
  {
   "cell_type": "code",
   "execution_count": null,
   "metadata": {},
   "outputs": [],
   "source": [
    "counties_selected %>%\n",
    "  # Group and summarize to find the total population\n",
    "  group_by(region, state) %>%\n",
    "  summarize(total_pop = sum(population)) %>%\n",
    "  # Calculate the average_pop and median_pop columns \n",
    "  summarize(average_pop = mean(total_pop),\n",
    "            median_pop = median(total_pop))"
   ]
  },
  {
   "cell_type": "markdown",
   "metadata": {},
   "source": [
    "# Selecting a county from each region\n",
    "\n",
    "Previously, you used the walk column, which offers a percentage of people in each county that walk to work, to add a new column and count to find the total number of people who walk to work in each county.\n",
    "\n",
    "Now, you're interested in finding the county within each region with the highest percentage of citizens who walk to work.\n",
    "\n",
    "counties_selected <- counties %>%\n",
    "  select(region, state, county, metro, population, walk)\n",
    "\n",
    "# Instructions:\n",
    "\n",
    "- Find the county in each region with the highest percentage of citizens who walk to work."
   ]
  },
  {
   "cell_type": "code",
   "execution_count": null,
   "metadata": {},
   "outputs": [],
   "source": [
    "counties_selected %>%\n",
    "  # Group by region\n",
    "  group_by(region) %>%\n",
    "  # Find the county with the highest percentage of people who walk to work\n",
    "  slice_max(walk, n = 1)"
   ]
  },
  {
   "cell_type": "markdown",
   "metadata": {},
   "source": [
    "# Finding the lowest-income state in each region\n",
    "\n",
    "You've been learning to combine multiple dplyr verbs together. Here, you'll combine group_by(), summarize(), and slice_min() to find the state in each region with the highest income.\n",
    "\n",
    "When you group by multiple columns and then summarize, it's important to remember that the summarize \"peels off\" one of the groups, but leaves the rest on. For example, if you group_by(X, Y) then summarize, the result will still be grouped by X.\n",
    "\n",
    "counties_selected <- counties %>%\n",
    "  select(region, state, county, population, income)\n",
    "\n",
    "# Instructions:\n",
    "\n",
    "- Calculate the average income (as average_income) of counties within each region and state (notice the group_by() has already been done for you).\n",
    "- Find the state with the lowest average_income in each region."
   ]
  },
  {
   "cell_type": "code",
   "execution_count": null,
   "metadata": {},
   "outputs": [],
   "source": [
    "counties_selected %>%\n",
    "  group_by(region, state) %>%\n",
    "  # Calculate average income\n",
    "  summarize(average_income = mean(income)) %>%\n",
    "  # Find the lowest income state in each region\n",
    "  slice_min(average_income, n = 1)"
   ]
  },
  {
   "cell_type": "markdown",
   "metadata": {},
   "source": [
    "# Using summarize, slice_max, and count together\n",
    "\n",
    "In this chapter, you've learned to use six dplyr verbs related to aggregation: count(), group_by(), summarize(), ungroup(), slice_max(), and slice_min(). In this exercise, you'll combine them to answer a question:\n",
    "\n",
    "In how many states do more people live in metro areas than non-metro areas?\n",
    "\n",
    "Recall that the metro column has one of the two values \"Metro\" (for high-density city areas) or \"Nonmetro\" (for suburban and country areas).\n",
    "\n",
    "counties_selected <- counties %>%\n",
    "  select(state, metro, population)\n",
    "\n",
    "# Instructions:\n",
    "\n",
    "- For each combination of state and metro, find the total population as total_pop.\n",
    "\n",
    "\n"
   ]
  },
  {
   "cell_type": "code",
   "execution_count": null,
   "metadata": {},
   "outputs": [],
   "source": [
    "counties_selected %>%\n",
    "  # Find the total population for each combination of state and metro\n",
    "  group_by(state, metro) %>%\n",
    "  summarize(total_pop = sum(population))"
   ]
  },
  {
   "cell_type": "markdown",
   "metadata": {},
   "source": [
    "- Extract the most populated row from each state, which will be either Metro or Nonmetro."
   ]
  },
  {
   "cell_type": "code",
   "execution_count": null,
   "metadata": {},
   "outputs": [],
   "source": [
    "counties_selected %>%\n",
    "  # Find the total population for each combination of state and metro\n",
    "  group_by(state, metro) %>%\n",
    "  summarize(total_pop = sum(population)) %>%\n",
    "  # Extract the most populated row for each state\n",
    "  slice_max(total_pop, n = 1)"
   ]
  },
  {
   "cell_type": "markdown",
   "metadata": {},
   "source": [
    "- Ungroup, then count how often Metro or Nonmetro appears to see how many states have more people living in those areas."
   ]
  },
  {
   "cell_type": "code",
   "execution_count": null,
   "metadata": {},
   "outputs": [],
   "source": [
    "counties_selected %>%\n",
    "  # Find the total population for each combination of state and metro\n",
    "  group_by(state, metro) %>%\n",
    "  summarize(total_pop = sum(population)) %>%\n",
    "  # Extract the most populated row for each state\n",
    "  slice_max(total_pop, n = 1) %>%\n",
    "  # Count the states with more people in Metro or Nonmetro areas\n",
    "  ungroup() %>% \n",
    "  count(metro)"
   ]
  }
 ],
 "metadata": {
  "language_info": {
   "name": "python"
  }
 },
 "nbformat": 4,
 "nbformat_minor": 2
}
