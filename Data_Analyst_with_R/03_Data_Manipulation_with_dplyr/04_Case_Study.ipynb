{
 "cells": [
  {
   "cell_type": "markdown",
   "metadata": {},
   "source": [
    "# 4 Case Study: The babynames Dataset\n",
    "\n",
    "Work with a new dataset that represents the names of babies born in the United States each year. Learn how to use grouped mutates and window functions to ask and answer more complex questions about your data. And use a combination of dplyr and ggplot2 to make interesting graphs to further explore your data."
   ]
  },
  {
   "cell_type": "markdown",
   "metadata": {},
   "source": [
    "# Filtering and arranging for one year\n",
    "\n",
    "The dplyr verbs you've learned are useful for exploring data. For instance, you could find out the most common names in a particular year.\n",
    "\n",
    "# Instructions:\n",
    "\n",
    "- Filter for only the year 1990.\n",
    "- Sort the table in descending order of the number of babies born."
   ]
  },
  {
   "cell_type": "code",
   "execution_count": null,
   "metadata": {},
   "outputs": [],
   "source": [
    "babynames %>%\n",
    "  # Filter for the year 1990\n",
    "  filter(year == 1990) %>%\n",
    "  # Sort the number column in descending order \n",
    "  arrange(desc(number))"
   ]
  },
  {
   "cell_type": "markdown",
   "metadata": {},
   "source": [
    "# Finding the most popular names each year\n",
    "\n",
    "You saw that you could use filter() and arrange() to find the most common names in one year. However, you could also use group_by() and slice_max() to find the most common name in every year.\n",
    "\n",
    "# Instructions:\n",
    "\n",
    "- Use group_by() and slice_max() to find the most common name for US babies in each year."
   ]
  },
  {
   "cell_type": "code",
   "execution_count": null,
   "metadata": {},
   "outputs": [],
   "source": [
    "babynames %>%\n",
    "  # Find the most common name in each year\n",
    "  group_by(year) %>%\n",
    "  top_n(1, number)"
   ]
  },
  {
   "cell_type": "markdown",
   "metadata": {},
   "source": [
    "# Visualizing names with ggplot2\n",
    "\n",
    "The dplyr package is very useful for exploring data, but it's especially useful when combined with other tidyverse packages like ggplot2.\n",
    "\n",
    "# Instructions:\n",
    "\n",
    "- Filter for only the names Steven, Thomas, and Matthew, and assign it to an object called selected_names."
   ]
  },
  {
   "cell_type": "code",
   "execution_count": null,
   "metadata": {},
   "outputs": [],
   "source": [
    "selected_names <- babynames %>%\n",
    "  # Filter for the names Steven, Thomas, and Matthew \n",
    "  filter(name %in% c(\"Steven\", \"Thomas\", \"Matthew\"))"
   ]
  },
  {
   "cell_type": "markdown",
   "metadata": {},
   "source": [
    "- Visualize those three names as a line plot over time, with each name represented by a different color."
   ]
  },
  {
   "cell_type": "code",
   "execution_count": null,
   "metadata": {},
   "outputs": [],
   "source": [
    "selected_names <- babynames %>%\n",
    "  # Filter for the names Steven, Thomas, and Matthew \n",
    "  filter(name %in% c(\"Steven\", \"Thomas\", \"Matthew\"))\n",
    "\n",
    "# Plot the names using a different color for each name\n",
    "ggplot(selected_names, aes(x = year, y = number, color = name)) +\n",
    "  geom_line()"
   ]
  },
  {
   "cell_type": "markdown",
   "metadata": {},
   "source": [
    "# Finding the year each name is most common\n",
    "\n",
    "In an earlier video, you learned how to filter for a particular name to determine the frequency of that name over time. Now, you're going to explore which year each name was the most common.\n",
    "\n",
    "To do this, you'll be combining the grouped mutate approach with a slice_max().\n",
    "\n",
    "# Instructions:\n",
    "\n",
    "- First, calculate the total number of people born in that year in this dataset as year_total.\n",
    "- Next, use year_total to calculate the fraction of people born in each year that have each name."
   ]
  },
  {
   "cell_type": "code",
   "execution_count": null,
   "metadata": {},
   "outputs": [],
   "source": [
    "# Calculate the fraction of people born each year with the same name\n",
    "babynames %>%\n",
    "  group_by(year) %>%\n",
    "  mutate(year_total = sum(number)) %>%\n",
    "  ungroup() %>%\n",
    "  mutate(fraction = number / year_total)"
   ]
  },
  {
   "cell_type": "markdown",
   "metadata": {},
   "source": [
    "- Now use your newly calculated fraction column, in combination with slice_max(), to identify the year each name was most common."
   ]
  },
  {
   "cell_type": "code",
   "execution_count": null,
   "metadata": {},
   "outputs": [],
   "source": [
    "# Calculate the fraction of people born each year with the same name\n",
    "babynames %>%\n",
    "  group_by(year) %>%\n",
    "  mutate(year_total = sum(number)) %>%\n",
    "  ungroup() %>%\n",
    "  mutate(fraction = number / year_total) %>%\n",
    "  # Find the year each name is most common\n",
    "  group_by(name) %>%\n",
    "  slice_max(fraction, n = 1)"
   ]
  },
  {
   "cell_type": "markdown",
   "metadata": {},
   "source": [
    "# Adding the total and maximum for each name\n",
    "\n",
    "In the video, you learned how you could group by the year and use mutate() to add a total for that year.\n",
    "\n",
    "In these exercises, you'll learn to normalize by a different, but also interesting metric: you'll divide each name by the maximum for that name. This means that every name will peak at 1.\n",
    "\n",
    "Once you add new columns, the result will still be grouped by name. This splits it into 48,000 groups, which actually makes later steps like mutates slower.\n",
    "\n",
    "# Instructions:\n",
    "\n",
    "- Use a grouped mutate to add two columns:\n",
    "name_total: the sum of the number of babies born with that name in the entire dataset.\n",
    "name_max: the maximum number of babies born with that name in any year."
   ]
  },
  {
   "cell_type": "code",
   "execution_count": null,
   "metadata": {},
   "outputs": [],
   "source": [
    "babynames %>%\n",
    "  # Add columns name_total and name_max for each name\n",
    "  group_by(name) %>%\n",
    "  mutate(name_total = sum(number),\n",
    "         name_max = max(number))"
   ]
  },
  {
   "cell_type": "markdown",
   "metadata": {},
   "source": [
    "- Add another step to ungroup the table.\n",
    "- Add a column called fraction_max containing the number in the year divided by name_max."
   ]
  },
  {
   "cell_type": "code",
   "execution_count": null,
   "metadata": {},
   "outputs": [],
   "source": [
    "babynames %>%\n",
    "  # Add columns name_total and name_max for each name\n",
    "  group_by(name) %>%\n",
    "  mutate(name_total = sum(number),\n",
    "         name_max = max(number)) %>%\n",
    "  # Ungroup the table \n",
    "  ungroup() %>%\n",
    "  # Add the fraction_max column containing the number by the name maximum \n",
    "  mutate(fraction_max = number / name_max)"
   ]
  },
  {
   "cell_type": "markdown",
   "metadata": {},
   "source": [
    "# Visualizing the normalized change in popularity\n",
    "\n",
    "You picked a few names and calculated each of them as a fraction of their peak. This is a type of \"normalizing\" a name, where you're focused on the relative change within each name rather than the overall popularity of the name.\n",
    "\n",
    "In this exercise, you'll visualize the normalized popularity of each name. Your work from the previous exercise, names_normalized, has been provided for you.\n",
    "\n",
    "names_normalized <- babynames %>%\n",
    "                     group_by(name) %>%\n",
    "                     mutate(name_total = sum(number),\n",
    "                            name_max = max(number)) %>%\n",
    "                     ungroup() %>%\n",
    "                     mutate(fraction_max = number / name_max)\n",
    "\n",
    "# Instructions:\n",
    "\n",
    "- Filter the names_normalized table to limit it to the three names Steven, Thomas, and Matthew.\n",
    "- Create a line plot from names_filtered to visualize fraction_max over time, colored by name."
   ]
  },
  {
   "cell_type": "code",
   "execution_count": null,
   "metadata": {},
   "outputs": [],
   "source": [
    "names_filtered <- names_normalized %>%\n",
    "  # Filter for the names Steven, Thomas, and Matthew\n",
    "  filter(name %in% c(\"Steven\", \"Thomas\", \"Matthew\"))\n",
    "\n",
    "# Visualize the names in names_filtered over time\n",
    "ggplot(names_filtered, aes(x = year, y = fraction_max, color = name)) +\n",
    "  geom_line()"
   ]
  },
  {
   "cell_type": "markdown",
   "metadata": {},
   "source": [
    "# Using ratios to describe the frequency of a name\n",
    "\n",
    "In the video, you learned how to find the difference in the frequency of a baby name between consecutive years. What if instead of finding the difference, you wanted to find the ratio?\n",
    "\n",
    "You'll start with the babynames_fraction data already, so that you can consider the popularity of each name within each year.\n",
    "\n",
    "# Instructions:\n",
    "\n",
    "- Arrange the data in ascending order of name and then year.\n",
    "- Group by name so that your mutate works within each name.\n",
    "- Add a column ratio containing the ratio (not difference) of fraction between each year."
   ]
  },
  {
   "cell_type": "code",
   "execution_count": null,
   "metadata": {},
   "outputs": [],
   "source": [
    "babynames_fraction %>%\n",
    "  # Arrange the data in order of name, then year \n",
    "  arrange(name, year) %>%\n",
    "  # Group the data by name\n",
    "  group_by(name) %>%\n",
    "  # Add a ratio column that contains the ratio of fraction between each year \n",
    "  mutate(ratio = fraction / lag(fraction))"
   ]
  },
  {
   "cell_type": "markdown",
   "metadata": {},
   "source": [
    "# Biggest jumps in a name\n",
    "\n",
    "Previously, you added a ratio column to describe the ratio of the frequency of a baby name between consecutive years to describe the changes in the popularity of a name. Now, you'll look at a subset of that data, called babynames_ratios_filtered, to look further into the names that experienced the biggest jumps in popularity in consecutive years.\n",
    "\n",
    "babynames_ratios_filtered <- babynames_fraction %>%\n",
    "                     arrange(name, year) %>%\n",
    "                     group_by(name) %>%\n",
    "                     mutate(ratio = fraction / lag(fraction)) %>%\n",
    "                     filter(fraction >= 0.00001)\n",
    "# Instructions:\n",
    "\n",
    "- From each name in the data, keep the observation (the year) with the largest ratio; note the data is already grouped by name.\n",
    "- Sort the ratio column in descending order.\n",
    "- Filter the babynames_ratios_filtered data further by filtering the fraction column to only display results greater than or equal to 0.001."
   ]
  },
  {
   "cell_type": "code",
   "execution_count": null,
   "metadata": {},
   "outputs": [],
   "source": [
    "babynames_ratios_filtered %>%\n",
    "  # Extract the largest ratio from each name \n",
    "  top_n(1, ratio) %>%\n",
    "  # Sort the ratio column in descending order \n",
    "  arrange(desc(ratio)) %>%\n",
    "  # Filter for fractions greater than or equal to 0.001\n",
    "  filter(fraction >= 0.001)"
   ]
  }
 ],
 "metadata": {
  "language_info": {
   "name": "python"
  }
 },
 "nbformat": 4,
 "nbformat_minor": 2
}
