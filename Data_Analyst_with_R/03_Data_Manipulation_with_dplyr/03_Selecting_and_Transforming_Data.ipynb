{
 "cells": [
  {
   "cell_type": "markdown",
   "metadata": {},
   "source": [
    "# 3 Selecting and Transforming Data\n",
    "\n",
    "Learn advanced methods to select and transform columns. Also, learn about select helpers, which are functions that specify criteria for columns you want to choose, as well as the rename verb."
   ]
  },
  {
   "cell_type": "markdown",
   "metadata": {},
   "source": [
    "# Selecting columns\n",
    "\n",
    "Using the select() verb, we can answer interesting questions about our dataset by focusing in on related groups of verbs. The colon (:) is useful for getting many columns at a time.\n",
    "\n",
    "# Instructions:\n",
    "\n",
    "- Use glimpse() to examine all the variables in the counties table.\n",
    "- Select the columns for state, county, population, and (using a colon) all five of those industry-related variables; there are five consecutive variables in the table related to the industry of people's work: professional, service, office, construction, and production.\n",
    "- Arrange the table in descending order of service to find which counties have the highest rates of working in the service industry."
   ]
  },
  {
   "cell_type": "code",
   "execution_count": null,
   "metadata": {},
   "outputs": [],
   "source": [
    "# Glimpse the counties table\n",
    "glimpse(counties)\n",
    "\n",
    "counties %>%\n",
    "  # Select state, county, population, and industry-related columns\n",
    "    select(state, county, population, professional:production) %>%\n",
    "  # Arrange service in descending order \n",
    "  arrange(desc(service))"
   ]
  },
  {
   "cell_type": "markdown",
   "metadata": {},
   "source": [
    "# Select helpers\n",
    "\n",
    "In the video you learned about the select helper starts_with(). Another select helper is ends_with(), which finds the columns that end with a particular string.\n",
    "\n",
    "# Instructions:\n",
    "\n",
    "- Select the columns state, county, population, and all those that end with work.\n",
    "- Filter just for the counties where at least 50% of the population is engaged in public work."
   ]
  },
  {
   "cell_type": "code",
   "execution_count": null,
   "metadata": {},
   "outputs": [],
   "source": [
    "counties %>%\n",
    "  # Select the state, county, population, and those ending with \"work\"\n",
    "  select(state, county, population, ends_with(\"work\")) %>%\n",
    "  # Filter for counties that have at least 50% of people engaged in public work\n",
    "  filter(public_work >= 50)"
   ]
  },
  {
   "cell_type": "markdown",
   "metadata": {},
   "source": [
    "# Renaming a column after count\n",
    "\n",
    "The rename() verb is often useful for changing the name of a column that comes out of another verb, such as count(). In this exercise, you'll rename the default n column generated from count() to something more descriptive.\n",
    "\n",
    "# Instructions:\n",
    "\n",
    "- Use count() to determine how many counties are in each state."
   ]
  },
  {
   "cell_type": "code",
   "execution_count": null,
   "metadata": {},
   "outputs": [],
   "source": [
    "counties %>%\n",
    "  # Count the number of counties in each state\n",
    "  count(state) "
   ]
  },
  {
   "cell_type": "markdown",
   "metadata": {},
   "source": [
    "- Notice the n column in the output; use rename() to rename that to num_counties."
   ]
  },
  {
   "cell_type": "code",
   "execution_count": null,
   "metadata": {},
   "outputs": [],
   "source": [
    "counties %>%\n",
    "  # Count the number of counties in each state\n",
    "  count(state) %>%\n",
    "  # Rename the n column to num_counties\n",
    "  rename(num_counties = n)"
   ]
  },
  {
   "cell_type": "markdown",
   "metadata": {},
   "source": [
    "# Renaming a column as part of a select\n",
    "\n",
    "rename() isn't the only way you can choose a new name for a column; you can also choose a name as part of a select().\n",
    "\n",
    "# Instructions:\n",
    "\n",
    "- Select the columns state, county, and poverty from the counties dataset; in the same step, rename the poverty column to poverty_rate.\n",
    "\n"
   ]
  },
  {
   "cell_type": "code",
   "execution_count": null,
   "metadata": {},
   "outputs": [],
   "source": [
    "counties %>%\n",
    "  # Select state, county, and poverty as poverty_rate\n",
    "  select(state, county, poverty_rate = poverty)"
   ]
  },
  {
   "cell_type": "markdown",
   "metadata": {},
   "source": [
    "# Using relocate\n",
    "\n",
    "As you learned in the video, the relocate() verb allows you to move columns around relative to other columns or its overall position in the tibble.\n",
    "\n",
    "You've been given the counties_selected tibble, which contains the columns you need for your analysis of population density, but in an order that isn't easy to read. You'll use your new-found skills to put them right!\n",
    "\n",
    "# Instructions:\n",
    "\n",
    "- Move the density column to the end of the tibble.\n",
    "- Move the population column to before the land_area column."
   ]
  },
  {
   "cell_type": "code",
   "execution_count": null,
   "metadata": {},
   "outputs": [],
   "source": [
    "counties_selected %>%\n",
    "  # Move the density column to the end\n",
    "  relocate(density, .after = last_col()) %>%\n",
    "  # Move the population column to before land_area\n",
    "  relocate(population, .before = land_area)"
   ]
  },
  {
   "cell_type": "markdown",
   "metadata": {},
   "source": [
    "# Choosing among the four verbs\n",
    "\n",
    "In this chapter you've learned about the four verbs: select(), mutate(), relocate(), and rename(). Here, you'll choose the appropriate verb for each situation. You won't need to change anything inside the parentheses.\n",
    "\n",
    "# Instructions:\n",
    "\n",
    "- Choose the right verb for changing the name of the unemployment column to unemployment_rate\n",
    "- Choose the right verb for keeping only the columns state, county, and the ones containing poverty.\n",
    "- Calculate a new column called fraction_women with the fraction of the population made up of women, without dropping any columns.\n",
    "- Keep only three columns: the state, county, and employed / population, which you'll call employment_rate."
   ]
  },
  {
   "cell_type": "code",
   "execution_count": null,
   "metadata": {},
   "outputs": [],
   "source": [
    "# Change the name of the unemployment column\n",
    "counties %>%\n",
    "  rename(unemployment_rate = unemployment)\n",
    "\n",
    "# Keep the state and county columns, and the columns containing poverty\n",
    "counties %>%\n",
    "  select(state, county, contains(\"poverty\"))\n",
    "\n",
    "# Calculate the fraction_women column without dropping the other columns\n",
    "counties %>%\n",
    "  mutate(fraction_women = women / population)\n",
    "\n",
    "# Move the region column to before state\n",
    "counties %>%\n",
    "  relocate(region, .before = state)"
   ]
  }
 ],
 "metadata": {
  "language_info": {
   "name": "python"
  }
 },
 "nbformat": 4,
 "nbformat_minor": 2
}
