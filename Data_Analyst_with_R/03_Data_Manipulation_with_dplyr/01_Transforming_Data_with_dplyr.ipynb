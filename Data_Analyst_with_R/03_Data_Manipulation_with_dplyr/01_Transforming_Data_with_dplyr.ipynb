{
 "cells": [
  {
   "cell_type": "markdown",
   "metadata": {},
   "source": [
    "# 1 Transforming Data with dplyr\n",
    "\n",
    "Learn verbs you can use to transform your data, including select, filter, arrange, and mutate. You'll use these functions to modify the counties dataset to view particular observations and answer questions about the data."
   ]
  },
  {
   "cell_type": "markdown",
   "metadata": {},
   "source": [
    "# Understanding your data\n",
    "\n",
    "Take a look at the counties dataset using the glimpse() function.\n",
    "\n",
    "What is the first value in the income variable?\n",
    "\n",
    "# Possible answers\n",
    "\n",
    "( ) 1001\n",
    "\n",
    "(x) 51281\n",
    "\n",
    "( ) 50254\n",
    "\n",
    "( ) 40725"
   ]
  },
  {
   "cell_type": "markdown",
   "metadata": {},
   "source": [
    "# Selecting columns\n",
    "\n",
    "Select the following four columns from the counties variable:\n",
    "- state\n",
    "- county\n",
    "- population\n",
    "- poverty\n",
    "You don't need to save the result to a variable.\n",
    "\n",
    "# Instructions:\n",
    "\n",
    "- Select the columns listed from the counties variable."
   ]
  },
  {
   "cell_type": "code",
   "execution_count": null,
   "metadata": {},
   "outputs": [],
   "source": [
    "counties %>%\n",
    "  # Select the columns\n",
    "select(state, county, population, poverty)"
   ]
  },
  {
   "cell_type": "markdown",
   "metadata": {},
   "source": [
    "# Arranging observations\n",
    "\n",
    "Here you see the counties_selected dataset with a few interesting variables selected. These variables: private_work, public_work, self_employed describe whether people work for the government, for private companies, or for themselves.\n",
    "\n",
    "In these exercises, you'll sort these observations to find the most interesting cases.\n",
    "\n",
    "# Instructions:\n",
    "\n",
    "- Add a verb to sort the observations of the public_work variable in descending order."
   ]
  },
  {
   "cell_type": "code",
   "execution_count": null,
   "metadata": {},
   "outputs": [],
   "source": [
    "counties_selected <- counties %>%\n",
    "  select(state, county, population, private_work, public_work, self_employed)\n",
    "\n",
    "# Add a verb to sort in descending order of public_work\n",
    "counties_selected %>%\n",
    "arrange(desc(public_work))"
   ]
  },
  {
   "cell_type": "markdown",
   "metadata": {},
   "source": [
    "# Filtering for conditions\n",
    "\n",
    "You use the filter() verb to get only observations that match a particular condition, or match multiple conditions.\n",
    "\n",
    "# Instructions:\n",
    "\n",
    "- Find only the counties that have a population above one million (1000000)."
   ]
  },
  {
   "cell_type": "code",
   "execution_count": null,
   "metadata": {},
   "outputs": [],
   "source": [
    "counties_selected <- counties %>%\n",
    "  select(state, county, population)\n",
    "\n",
    "  # Filter for counties with a population above 1000000\n",
    "  counties_selected %>%\n",
    "  filter(population > 1000000)"
   ]
  },
  {
   "cell_type": "markdown",
   "metadata": {},
   "source": [
    "- Find only the counties in the state of California that also have a population above one million (1000000)."
   ]
  },
  {
   "cell_type": "code",
   "execution_count": null,
   "metadata": {},
   "outputs": [],
   "source": [
    "counties_selected <- counties %>%\n",
    "  select(state, county, population)\n",
    "\n",
    "  # Filter for counties with a population above 1000000\n",
    "  counties_selected %>%\n",
    "filter(state == \"California\", population > 1000000)"
   ]
  },
  {
   "cell_type": "markdown",
   "metadata": {},
   "source": [
    "# Filtering and arranging\n",
    "\n",
    "We're often interested in both filtering and sorting a dataset, to focus on observations of particular interest to you. Here, you'll find counties that are extreme examples of what fraction of the population works in the private sector.\n",
    "\n",
    "# Instructions:\n",
    "\n",
    "- Filter for counties in the state of Texas that have more than ten thousand people (10000), and sort them in descending order of the percentage of people employed in private work."
   ]
  },
  {
   "cell_type": "code",
   "execution_count": null,
   "metadata": {},
   "outputs": [],
   "source": [
    "counties_selected <- counties %>%\n",
    "  select(state, county, population, private_work, public_work, self_employed)\n",
    "\n",
    "counties_selected %>%\n",
    "  # Filter for Texas and more than 10000 people\n",
    "  filter(state == \"Texas\",\n",
    "         population > 10000) %>%\n",
    "  # Sort in descending order of private_work\n",
    "  arrange(desc(private_work))"
   ]
  },
  {
   "cell_type": "markdown",
   "metadata": {},
   "source": [
    "# Calculating the number of government employees\n",
    "\n",
    "In the video, you used the unemployment variable, which is a percentage, to calculate the number of unemployed people in each county. In this exercise, you'll do the same with another percentage variable: public_work.\n",
    "\n",
    "The code provided already selects the state, county, population, and public_work columns.\n",
    "\n",
    "# Instructions:\n",
    "\n",
    "- Use mutate() to add a column called public_workers to the dataset, with the number of people employed in public (government) work."
   ]
  },
  {
   "cell_type": "code",
   "execution_count": null,
   "metadata": {},
   "outputs": [],
   "source": [
    "counties_selected <- counties %>%\n",
    "  select(state, county, population, public_work)\n",
    "\n",
    "counties_selected %>%\n",
    "  # Add a new column public_workers with the number of people employed in public work\n",
    "  mutate(public_workers = public_work * population / 100)"
   ]
  },
  {
   "cell_type": "markdown",
   "metadata": {},
   "source": [
    "- Sort the new column in descending order."
   ]
  },
  {
   "cell_type": "code",
   "execution_count": null,
   "metadata": {},
   "outputs": [],
   "source": [
    "counties_selected <- counties %>%\n",
    "  select(state, county, population, public_work)\n",
    "\n",
    "counties_selected %>%\n",
    "  mutate(public_workers = public_work * population / 100) %>%\n",
    "  # Sort in descending order of the public_workers column\n",
    "  arrange(desc(public_workers))"
   ]
  },
  {
   "cell_type": "markdown",
   "metadata": {},
   "source": [
    "# Calculating the percentage of women in a county\n",
    "\n",
    "The dataset includes columns for the total number (not percentage) of men and women in each county. You could use this, along with the population variable, to compute the fraction of men (or women) within each county.\n",
    "\n",
    "In this exercise, you'll select the relevant columns yourself.\n",
    "\n",
    "# Instructions:\n",
    "\n",
    "- Select the columns state, county, population, men, and women.\n",
    "- Add a new variable called proportion_women with the fraction of the county's population made up of women."
   ]
  },
  {
   "cell_type": "code",
   "execution_count": null,
   "metadata": {},
   "outputs": [],
   "source": [
    "counties_selected <- counties %>%\n",
    "  # Select the columns state, county, population, men, and women\n",
    "  select(state, county, population, men, women)\n",
    "\n",
    "counties_selected %>%\n",
    "  # Calculate proportion_women as the fraction of the population made up of women\n",
    "  mutate(proportion_women = women / population) "
   ]
  },
  {
   "cell_type": "markdown",
   "metadata": {},
   "source": [
    "# Mutate, filter, and arrange\n",
    "\n",
    "In this exercise, you'll put together everything you've learned in this chapter (select(), mutate(), filter() and arrange()), to find the counties with the highest proportion of men.\n",
    "\n",
    "# Instructions:\n",
    "\n",
    "- Use a single verb to add a proportion_men column with the fractional male population and also keep the state, county, and population columns.\n",
    "- Filter for counties with a population of at least ten thousand (10000).\n",
    "- Arrange counties in descending order of their proportion of men."
   ]
  },
  {
   "cell_type": "code",
   "execution_count": null,
   "metadata": {},
   "outputs": [],
   "source": [
    "counties %>%\n",
    "  # Keep state, county, and population, and add proportion_men\n",
    "  mutate(state, county, population, proportion_men = men / population, .keep = \"none\") %>%\n",
    "  # Filter for population of at least 10,000\n",
    "  filter(population >= 10000) %>% \n",
    "  # Arrange proportion of men in descending order \n",
    "  arrange(desc(proportion_men))"
   ]
  }
 ],
 "metadata": {
  "language_info": {
   "name": "python"
  }
 },
 "nbformat": 4,
 "nbformat_minor": 2
}
