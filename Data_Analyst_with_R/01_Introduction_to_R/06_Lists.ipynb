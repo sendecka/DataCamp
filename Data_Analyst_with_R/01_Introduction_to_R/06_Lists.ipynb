{
 "cells": [
  {
   "cell_type": "markdown",
   "metadata": {},
   "source": [
    "# Lists, why would you need them?\n",
    "\n",
    "Congratulations! At this point in the course you are already familiar with:\n",
    "\n",
    "Vectors (one dimensional array): can hold numeric, character or logical values. The elements in a vector all have the same data type.\n",
    "Matrices (two dimensional array): can hold numeric, character or logical values. The elements in a matrix all have the same data type.\n",
    "Data frames (two-dimensional objects): can hold numeric, character or logical values. Within a column all elements have the same data type, but different columns can be of different data type.\n",
    "Pretty sweet for an R newbie, right? ;-)"
   ]
  },
  {
   "cell_type": "markdown",
   "metadata": {},
   "source": [
    "# Lists, why would you need them? (2)\n",
    "\n",
    "A list in R is similar to your to-do list at work or school: the different items on that list most likely differ in length, characteristic, and type of activity that has to be done.\n",
    "\n",
    "A list in R allows you to gather a variety of objects under one name (that is, the name of the list) in an ordered way. These objects can be matrices, vectors, data frames, even other lists, etc. It is not even required that these objects are related to each other in any way.\n",
    "\n",
    "You could say that a list is some kind super data type: you can store practically any piece of information in it!"
   ]
  },
  {
   "cell_type": "markdown",
   "metadata": {},
   "source": [
    "# Creating a list\n",
    "\n",
    "Let us create our first list! To construct a list you use the function list():\n",
    "\n",
    "my_list <- list(comp1, comp2 ...)\n",
    "The arguments to the list function are the list components. Remember, these components can be matrices, vectors, other lists, …"
   ]
  },
  {
   "cell_type": "markdown",
   "metadata": {},
   "source": [
    "# Instructions:\n",
    "\n",
    "- Construct a list, named my_list, that contains the variables my_vector, my_matrix and my_df as list components."
   ]
  },
  {
   "cell_type": "code",
   "execution_count": null,
   "metadata": {},
   "outputs": [],
   "source": [
    "# Vector with numerics from 1 up to 10\n",
    "my_vector <- 1:10 \n",
    "\n",
    "# Matrix with numerics from 1 up to 9\n",
    "my_matrix <- matrix(1:9, ncol = 3)\n",
    "\n",
    "# First 10 elements of the built-in data frame mtcars\n",
    "my_df <- mtcars[1:10,]\n",
    "\n",
    "# Construct list with these different elements:\n",
    "my_list <- list(my_vector, my_matrix, my_df)"
   ]
  },
  {
   "cell_type": "markdown",
   "metadata": {},
   "source": [
    "# Creating a named list\n",
    "\n",
    "Well done, you're on a roll!\n",
    "\n",
    "Just like on your to-do list, you want to avoid not knowing or remembering what the components of your list stand for. That is why you should give names to them:\n",
    "\n",
    "my_list <- list(name1 = your_comp1, \n",
    "                name2 = your_comp2)\n",
    "This creates a list with components that are named name1, name2, and so on. If you want to name your lists after you've created them, you can use the names() function as you did with vectors. The following commands are fully equivalent to the assignment above:\n",
    "\n",
    "my_list <- list(your_comp1, your_comp2)\n",
    "names(my_list) <- c(\"name1\", \"name2\")"
   ]
  },
  {
   "cell_type": "markdown",
   "metadata": {},
   "source": [
    "# Instructions:\n",
    "\n",
    "- Change the code of the previous exercise (see editor) by adding names to the components. Use for my_vector the name vec, for my_matrix the name mat and for my_df the name df.\n",
    "- Print out my_list so you can inspect the output."
   ]
  },
  {
   "cell_type": "code",
   "execution_count": null,
   "metadata": {},
   "outputs": [],
   "source": [
    "# Vector with numerics from 1 up to 10\n",
    "my_vector <- 1:10 \n",
    "\n",
    "# Matrix with numerics from 1 up to 9\n",
    "my_matrix <- matrix(1:9, ncol = 3)\n",
    "\n",
    "# First 10 elements of the built-in data frame mtcars\n",
    "my_df <- mtcars[1:10,]\n",
    "\n",
    "# Adapt list() call to give the components names\n",
    "my_list <- list(vec = my_vector, mat = my_matrix, df = my_df)\n",
    "\n",
    "# Print out my_list\n",
    "my_list"
   ]
  },
  {
   "cell_type": "markdown",
   "metadata": {},
   "source": [
    "$vec\n",
    " [1]  1  2  3  4  5  6  7  8  9 10\n",
    "\n",
    "$mat\n",
    "     [,1] [,2] [,3]\n",
    "[1,]    1    4    7\n",
    "[2,]    2    5    8\n",
    "[3,]    3    6    9\n",
    "\n",
    "$df\n",
    "                   mpg cyl  disp  hp drat    wt  qsec vs am gear carb\n",
    "Mazda RX4         21.0   6 160.0 110 3.90 2.620 16.46  0  1    4    4\n",
    "Mazda RX4 Wag     21.0   6 160.0 110 3.90 2.875 17.02  0  1    4    4\n",
    "Datsun 710        22.8   4 108.0  93 3.85 2.320 18.61  1  1    4    1\n",
    "Hornet 4 Drive    21.4   6 258.0 110 3.08 3.215 19.44  1  0    3    1\n",
    "Hornet Sportabout 18.7   8 360.0 175 3.15 3.440 17.02  0  0    3    2\n",
    "Valiant           18.1   6 225.0 105 2.76 3.460 20.22  1  0    3    1\n",
    "Duster 360        14.3   8 360.0 245 3.21 3.570 15.84  0  0    3    4\n",
    "Merc 240D         24.4   4 146.7  62 3.69 3.190 20.00  1  0    4    2\n",
    "Merc 230          22.8   4 140.8  95 3.92 3.150 22.90  1  0    4    2\n",
    "Merc 280          19.2   6 167.6 123 3.92 3.440 18.30  1  0    4    4"
   ]
  },
  {
   "cell_type": "markdown",
   "metadata": {},
   "source": [
    "# Creating a named list (2)\n",
    "\n",
    "Being a huge movie fan (remember your job at LucasFilms), you decide to start storing information on good movies with the help of lists.\n",
    "\n",
    "Start by creating a list for the movie \"The Shining\". We have already created the variables mov, act and rev in your R workspace. Feel free to check them out in the console."
   ]
  },
  {
   "cell_type": "markdown",
   "metadata": {},
   "source": [
    "# Instructions:\n",
    "\n",
    "- Complete the code in the editor to create shining_list; it contains three elements:\n",
    "moviename: a character string with the movie title (stored in mov)\n",
    "actors: a vector with the main actors' names (stored in act)\n",
    "reviews: a data frame that contains some reviews (stored in rev)\n",
    "- Do not forget to name the list components accordingly (names are moviename, actors and reviews)."
   ]
  },
  {
   "cell_type": "code",
   "execution_count": null,
   "metadata": {},
   "outputs": [],
   "source": [
    "# The variables mov, act and rev are available\n",
    "\n",
    "# Finish the code to build shining_list\n",
    "shining_list <- list(moviename = mov, actors = act, reviews = rev)"
   ]
  },
  {
   "cell_type": "markdown",
   "metadata": {},
   "source": [
    "# Selecting elements from a list\n",
    "\n",
    "Your list will often be built out of numerous elements and components. Therefore, getting a single element, multiple elements, or a component out of it is not always straightforward.\n",
    "\n",
    "One way to select a component is using the numbered position of that component. For example, to \"grab\" the first component of shining_list you type\n",
    "\n",
    "shining_list[[1]]\n",
    "A quick way to check this out is typing it in the console. Important to remember: to select elements from vectors, you use single square brackets: [ ]. Don't mix them up!\n",
    "\n",
    "You can also refer to the names of the components, with [[ ]] or with the $ sign. Both will select the data frame representing the reviews:\n",
    "\n",
    "shining_list[[\"reviews\"]]\n",
    "shining_list$reviews\n",
    "Besides selecting components, you often need to select specific elements out of these components. For example, with shining_list[[2]][1] you select from the second component, actors (shining_list[[2]]), the first element ([1]). When you type this in the console, you will see the answer is Jack Nicholson."
   ]
  },
  {
   "cell_type": "markdown",
   "metadata": {},
   "source": [
    "# Instructions:\n",
    "\n",
    "- Select from shining_list the vector representing the actors. Simply print out this vector.\n",
    "- Select from shining_list the second element in the vector representing the actors. Do a printout like before."
   ]
  },
  {
   "cell_type": "code",
   "execution_count": null,
   "metadata": {},
   "outputs": [],
   "source": [
    "# shining_list is already pre-loaded in the workspace\n",
    "\n",
    "# Print out the vector representing the actors\n",
    "shining_list$actors[2]\n",
    "\n",
    "# Print the second element of the vector representing the actors\n",
    "shining_list[[2]]"
   ]
  },
  {
   "cell_type": "markdown",
   "metadata": {},
   "source": [
    "\"Shelley Duvall\"\n",
    "\n",
    "[1] \"Jack Nicholson\"   \"Shelley Duvall\"   \"Danny Lloyd\"      \"Scatman Crothers\"\n",
    "[5] \"Barry Nelson\"    "
   ]
  },
  {
   "cell_type": "markdown",
   "metadata": {},
   "source": [
    "# Creating a new list for another movie\n",
    "\n",
    "You found reviews of another, more recent, Jack Nicholson movie: The Departed!\n",
    "\n",
    "Scores\tComments\n",
    "4.6\tI would watch it again\n",
    "5\tAmazing!\n",
    "4.8\tI liked it\n",
    "5\tOne of the best movies\n",
    "4.2\tFascinating plot\n",
    "It would be useful to collect together all the pieces of information about the movie, like the title, actors, and reviews into a single variable. Since these pieces of data are different shapes, it is natural to combine them in a list variable.\n",
    "\n",
    "movie_title, containing the title of the movie, and movie_actors, containing the names of some of the actors in the movie, are available in your workspace."
   ]
  },
  {
   "cell_type": "markdown",
   "metadata": {},
   "source": [
    "# Instructions:\n",
    "\n",
    "- Create two vectors, called scores and comments, that contain the information from the reviews shown in the table.\n",
    "- Find the average of the scores vector and save it as avg_review.\n",
    "- Combine the scores and comments vectors into a data frame called reviews_df.\n",
    "- Create a list, called departed_list, that contains the movie_title, movie_actors, reviews data frame as reviews_df, and the average review score as avg_review, and print it out."
   ]
  },
  {
   "cell_type": "code",
   "execution_count": null,
   "metadata": {},
   "outputs": [],
   "source": [
    "# Use the table from the exercise to define the comments and scores vectors\n",
    "scores <- c(4.6, 5, 4.8, 5, 4.2)\n",
    "comments <- c(\"I would watch it again\", \"Amazing!\", \"I liked it\", \"One of the best movies\", \"Fascinating plot\")\n",
    "\n",
    "# Save the average of the scores vector as avg_review\n",
    "avg_review <- mean(scores)\n",
    "\n",
    "# Combine scores and comments into the reviews_df data frame\n",
    "reviews_df <- data.frame(scores, comments)\n",
    "\n",
    "# Create and print out a list, called departed_list\n",
    "departed_list <- list(movie_title, movie_actors, reviews_df, avg_review)\n",
    "departed_list"
   ]
  },
  {
   "cell_type": "markdown",
   "metadata": {},
   "source": [
    "[[1]]\n",
    "[1] \"The Departed\"\n",
    "\n",
    "[[2]]\n",
    "[1] \"Leonardo DiCaprio\" \"Matt Damon\"        \"Jack Nicholson\"   \n",
    "[4] \"Mark Wahlberg\"     \"Vera Farmiga\"      \"Martin Sheen\"     \n",
    "\n",
    "[[3]]\n",
    "  scores               comments\n",
    "1    4.6 I would watch it again\n",
    "2    5.0               Amazing!\n",
    "3    4.8             I liked it\n",
    "4    5.0 One of the best movies\n",
    "5    4.2       Fascinating plot\n",
    "\n",
    "[[4]]\n",
    "[1] 4.72"
   ]
  }
 ],
 "metadata": {
  "language_info": {
   "name": "python"
  }
 },
 "nbformat": 4,
 "nbformat_minor": 2
}
