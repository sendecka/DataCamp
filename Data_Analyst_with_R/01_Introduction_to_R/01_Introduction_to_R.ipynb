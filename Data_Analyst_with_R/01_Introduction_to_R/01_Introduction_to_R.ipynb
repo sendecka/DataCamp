{
 "cells": [
  {
   "cell_type": "markdown",
   "metadata": {},
   "source": [
    "# Introduction to R\n",
    "\n",
    "Course Description\n",
    "In this introduction to R course, you'll master the basics of this widely used open source language—including vectors, factors, lists, and data frames. With the coding skills you'll gain in this course, you'll be ready to undertake your own data analysis in R. There are millions of R users worldwide, cementing it as a leading programming language in statistics and data science. Begin your coding journey in one of DataCamp's most popular courses today!"
   ]
  },
  {
   "cell_type": "markdown",
   "metadata": {},
   "source": [
    "# 1. Intro to basics\n",
    "\n",
    "Take your first steps with R. In this chapter, you will learn how to use the console as a calculator and how to assign variables. You will also get to know the basic data types in R. Let's get started."
   ]
  },
  {
   "cell_type": "markdown",
   "metadata": {},
   "source": [
    "# How it works\n",
    "In the editor on the right you should type R code to solve the exercises. When you hit the 'Submit Answer' button, every line of code is interpreted and executed by R and you get a message whether or not your code was correct. The output of your R code is shown in the console in the lower right corner.\n",
    "\n",
    "R makes use of the # sign to add comments, so that you and others can understand what the R code is about. Just like Twitter! Comments are not run as R code, so they will not influence your result. For example, Calculate 3 + 4 in the editor on the right is a comment.\n",
    "\n",
    "You can also execute R commands straight in the console. This is a good way to experiment with R code, as your submission is not checked for correctness.#"
   ]
  },
  {
   "cell_type": "markdown",
   "metadata": {},
   "source": [
    "Instructions:\n",
    "\n",
    "- In the editor on the right there is already some sample code. Can you see which lines are actual R code and which are comments?\n",
    "- Add a line of code that calculates the sum of 6 and 12, and hit the 'Submit Answer' button."
   ]
  },
  {
   "cell_type": "code",
   "execution_count": null,
   "metadata": {},
   "outputs": [],
   "source": [
    "# Calculate 3 + 4\n",
    "3 + 4\n",
    "\n",
    "# Calculate 6 + 12\n",
    "6 + 12"
   ]
  },
  {
   "cell_type": "code",
   "execution_count": null,
   "metadata": {},
   "outputs": [],
   "source": [
    "# 7\n",
    "# 18"
   ]
  },
  {
   "cell_type": "markdown",
   "metadata": {},
   "source": [
    "# Arithmetic with R\n",
    "\n",
    "In its most basic form, R can be used as a simple calculator. Consider the following arithmetic operators:\n",
    "\n",
    "Addition: +\n",
    "Subtraction: -\n",
    "Multiplication: *\n",
    "Division: /\n",
    "Exponentiation: ^\n",
    "Modulo: %%\n",
    "The last two might need some explaining:\n",
    "\n",
    "The ^ operator raises the number to its left to the power of the number to its right: for example 3^2 is 9.\n",
    "The modulo returns the remainder of the division of the number to the left by the number on its right, for example 5 modulo 3 or 5 %% 3 is 2.\n",
    "With this knowledge, follow the instructions to complete the exercise."
   ]
  },
  {
   "cell_type": "markdown",
   "metadata": {},
   "source": [
    "# Instructions:\n",
    "\n",
    "- Type 2^5 in the editor to calculate 2 to the power 5.\n",
    "- Type 28 %% 6 to calculate 28 modulo 6.\n",
    "- Submit the answer and have a look at the R output in the console.\n",
    "- Note how the # symbol is used to add comments on the R code."
   ]
  },
  {
   "cell_type": "code",
   "execution_count": null,
   "metadata": {},
   "outputs": [],
   "source": [
    "# An addition\n",
    "5 + 5 \n",
    "\n",
    "# A subtraction\n",
    "5 - 5 \n",
    "\n",
    "# A multiplication\n",
    "3 * 5\n",
    "\n",
    " # A division\n",
    "(5 + 5) / 2 \n",
    "\n",
    "# Exponentiation\n",
    "2 ^ 5\n",
    "\n",
    "# Modulo\n",
    "28 %% 6"
   ]
  },
  {
   "cell_type": "code",
   "execution_count": null,
   "metadata": {},
   "outputs": [],
   "source": [
    "# [1] 10\n",
    "# [2] 0\n",
    "# [3] 15\n",
    "# [4] 5\n",
    "# [5] 32\n",
    "# [6] 4"
   ]
  },
  {
   "cell_type": "markdown",
   "metadata": {},
   "source": [
    "# Variable assignment\n",
    "A basic concept in (statistical) programming is called a variable.\n",
    "\n",
    "A variable allows you to store a value (e.g. 4) or an object (e.g. a function description) in R. You can then later use this variable's name to easily access the value or the object that is stored within this variable.\n",
    "\n",
    "You can assign a value 4 to a variable my_var with the command\n",
    "\n",
    "my_var <- 4"
   ]
  },
  {
   "cell_type": "markdown",
   "metadata": {},
   "source": [
    "# Instructions:\n",
    "\n",
    "- Over to you: complete the code in the editor such that it assigns the value 42 to the variable x in the editor. Submit the answer. - Notice that when you ask R to print x, the value 42 appears."
   ]
  },
  {
   "cell_type": "code",
   "execution_count": null,
   "metadata": {},
   "outputs": [],
   "source": [
    "# Assign the value 42 to x\n",
    "x <- 42\n",
    "\n",
    "# Print out the value of the variable x\n",
    "x"
   ]
  },
  {
   "cell_type": "code",
   "execution_count": null,
   "metadata": {},
   "outputs": [],
   "source": [
    "# [1] 42"
   ]
  },
  {
   "cell_type": "markdown",
   "metadata": {},
   "source": [
    "# Variable assignment (2)\n",
    "Suppose you have a fruit basket with five apples. As a data analyst in training, you want to store the number of apples in a variable with the name my_apples."
   ]
  },
  {
   "cell_type": "markdown",
   "metadata": {},
   "source": [
    "# Instructions:\n",
    "\n",
    "- Type the following code in the editor: my_apples <- 5. This will assign the value 5 to my_apples.\n",
    "- Type: my_apples below the second comment. This will print out the value of my_apples.\n",
    "- Submit your answer, and look at the output: you see that the number 5 is printed. So R now links the variable my_apples to the value 5."
   ]
  },
  {
   "cell_type": "code",
   "execution_count": null,
   "metadata": {},
   "outputs": [],
   "source": [
    "# Assign the value 5 to the variable my_apples\n",
    "my_apples <- 5\n",
    "\n",
    "# Print out the value of the variable my_apples\n",
    "my_apples"
   ]
  },
  {
   "cell_type": "code",
   "execution_count": null,
   "metadata": {},
   "outputs": [],
   "source": [
    "# [1] 5"
   ]
  },
  {
   "cell_type": "markdown",
   "metadata": {},
   "source": [
    "# Variable assignment (3)\n",
    "Every tasty fruit basket needs oranges, so you decide to add six oranges. As a data analyst, your reflex is to immediately create the variable my_oranges and assign the value 6 to it. Next, you want to calculate how many pieces of fruit you have in total. Since you have given meaningful names to these values, you can now code this in a clear way:\n",
    "\n",
    "my_apples + my_oranges"
   ]
  },
  {
   "cell_type": "markdown",
   "metadata": {},
   "source": [
    "# Instructions:\n",
    "\n",
    "- Assign to my_oranges the value 6.\n",
    "- Add the variables my_apples and my_oranges and have R simply print the result.\n",
    "- Assign the result of adding my_apples and my_oranges to a new variable my_fruit."
   ]
  },
  {
   "cell_type": "code",
   "execution_count": null,
   "metadata": {},
   "outputs": [],
   "source": [
    "# Assign a value to the variables my_apples and my_oranges\n",
    "my_apples <- 5\n",
    "my_oranges <- 6\n",
    "\n",
    "# Add these two variables together\n",
    "my_apples + my_oranges\n",
    "\n",
    "# Create the variable my_fruit\n",
    "my_fruit <- my_apples + my_oranges"
   ]
  },
  {
   "cell_type": "code",
   "execution_count": null,
   "metadata": {},
   "outputs": [],
   "source": [
    "# [1] 11"
   ]
  },
  {
   "cell_type": "markdown",
   "metadata": {},
   "source": [
    "# Apples and oranges\n",
    "\n",
    "Common knowledge tells you not to add apples and oranges. But hey, that is what you just did, no :-)? The my_apples and my_oranges variables both contained a number in the previous exercise. The + operator works with numeric variables in R. If you really tried to add \"apples\" and \"oranges\", and assigned a text value to the variable my_oranges (see the editor), you would be trying to assign the addition of a numeric and a character variable to the variable my_fruit. This is not possible."
   ]
  },
  {
   "cell_type": "markdown",
   "metadata": {},
   "source": [
    "Instructions:\n",
    "\n",
    "- Submit the answer and read the error message. Make sure to understand why this did not work.\n",
    "- Adjust the code so that R knows you have 6 oranges and thus a fruit basket with 11 pieces of fruit."
   ]
  },
  {
   "cell_type": "code",
   "execution_count": null,
   "metadata": {},
   "outputs": [],
   "source": [
    "# Assign a value to the variable my_apples\n",
    "my_apples <- 5 \n",
    "\n",
    "# Fix the assignment of my_oranges\n",
    "my_oranges <- 6 \n",
    "\n",
    "# Create the variable my_fruit and print it out\n",
    "my_fruit <- my_apples + my_oranges \n",
    "my_fruit"
   ]
  },
  {
   "cell_type": "code",
   "execution_count": null,
   "metadata": {},
   "outputs": [],
   "source": [
    "# [1] 11"
   ]
  },
  {
   "cell_type": "markdown",
   "metadata": {},
   "source": [
    "# Basic data types in R\n",
    "R works with numerous data types. Some of the most basic types to get started are:\n",
    "\n",
    "Decimal values like 4.5 are called numerics.\n",
    "Whole numbers like 4 are called integers. Integers are also numerics.\n",
    "Boolean values (TRUE or FALSE) are called logical.\n",
    "Text (or string) values are called characters.\n",
    "Note how the quotation marks in the editor indicate that \"some text\" is a string."
   ]
  },
  {
   "cell_type": "markdown",
   "metadata": {},
   "source": [
    "# Instructions:\n",
    "\n",
    "- Change the value of the:\n",
    "my_numeric variable to 42.\n",
    "my_character variable to \"universe\". Note that the quotation marks indicate that \"universe\" is a character.\n",
    "my_logical variable to FALSE.\n",
    "- Note that R is case sensitive!"
   ]
  },
  {
   "cell_type": "code",
   "execution_count": null,
   "metadata": {},
   "outputs": [],
   "source": [
    "# Change my_numeric to be 42\n",
    "my_numeric <- 42\n",
    "\n",
    "# Change my_character to be \"universe\"\n",
    "my_character <- \"universe\"\n",
    "\n",
    "# Change my_logical to be FALSE\n",
    "my_logical <- FALSE"
   ]
  },
  {
   "cell_type": "markdown",
   "metadata": {},
   "source": [
    "# What's that data type?\n",
    "Do you remember that when you added 5 + \"six\", you got an error due to a mismatch in data types? You can avoid such embarrassing situations by checking the data type of a variable beforehand. You can do this with the class() function, as the code in the editor shows."
   ]
  },
  {
   "cell_type": "markdown",
   "metadata": {},
   "source": [
    "Instructions:\n",
    "\n",
    "- Complete the code in the editor and also print out the classes of my_character and my_logical."
   ]
  },
  {
   "cell_type": "code",
   "execution_count": null,
   "metadata": {},
   "outputs": [],
   "source": [
    "# Declare variables of different types\n",
    "my_numeric <- 42\n",
    "my_character <- \"universe\"\n",
    "my_logical <- FALSE \n",
    "\n",
    "# Check class of my_numeric\n",
    "class(my_numeric)\n",
    "\n",
    "# Check class of my_character\n",
    "class(my_character)\n",
    "\n",
    "# Check class of my_logical\n",
    "class(my_logical)"
   ]
  },
  {
   "cell_type": "code",
   "execution_count": null,
   "metadata": {},
   "outputs": [],
   "source": [
    "# [1] \"numeric\"\n",
    "# [2] \"character\"\n",
    "# [3] \"logical\""
   ]
  }
 ],
 "metadata": {
  "kernelspec": {
   "display_name": "Python 3",
   "language": "python",
   "name": "python3"
  },
  "language_info": {
   "codemirror_mode": {
    "name": "ipython",
    "version": 3
   },
   "file_extension": ".py",
   "mimetype": "text/x-python",
   "name": "python",
   "nbconvert_exporter": "python",
   "pygments_lexer": "ipython3",
   "version": "3.0.0"
  }
 },
 "nbformat": 4,
 "nbformat_minor": 2
}
