{
 "cells": [
  {
   "cell_type": "markdown",
   "metadata": {},
   "source": [
    "# 4 Bootstrap Distributions\n",
    "\n",
    "Learn how to use resampling to perform bootstrapping, used to estimate variation in an unknown population. Understand the difference between sampling distributions and bootstrap distributions."
   ]
  },
  {
   "cell_type": "markdown",
   "metadata": {},
   "source": [
    "- Using the spotify_population dataset, calculate the mean duration in minutes. Call the calculated column mean_dur.\n",
    "- Using the spotify_sample dataset, perform the same calculation in another column called mean_dur.\n",
    "- Look at the two values. How different are they?"
   ]
  },
  {
   "cell_type": "markdown",
   "metadata": {},
   "source": [
    "# Principles of bootstrapping\n",
    "\n",
    "Bootstrapping is, in some sense, the opposite of sampling from a population. Sampling treats your dataset as the population, and you generate a random subset. Bootstrapping treats your dataset as a sample and uses it to build up a theoretical population."
   ]
  },
  {
   "cell_type": "markdown",
   "metadata": {},
   "source": [
    "# With or without replacement\n",
    "\n",
    "So far in the course, you've seen sampling with and without replacement. It's important to know when to use each method."
   ]
  },
  {
   "cell_type": "markdown",
   "metadata": {},
   "source": [
    "# Generating a bootstrap distribution\n",
    "\n",
    "The process for generating a bootstrap distribution is remarkably similar to the process for generating a sampling distribution; only the first step is different.\n",
    "\n",
    "To make a sampling distribution, you start with the population and sample without replacement. To make a bootstrap distribution, you start with a sample and sample that with replacement. After that, the steps are the same: calculate the summary statistic that you are interested in on that sample/resample, then replicate the process many times. In each case, you can visualize the distribution with a histogram.\n",
    "\n",
    "Here, spotify_sample is a subset of the spotify_population dataset. To make it easier to see how resampling works, a row ID column has been added, and only the artist name, song name, and danceability columns have been included.\n",
    "\n",
    "spotify_sample is available; dplyr and ggplot2 are loaded."
   ]
  },
  {
   "cell_type": "markdown",
   "metadata": {},
   "source": [
    "# Instructions:\n",
    "\n",
    "- Generate a single bootstrap resample from spotify_sample."
   ]
  },
  {
   "cell_type": "code",
   "execution_count": null,
   "metadata": {},
   "outputs": [],
   "source": [
    "# Generate 1 bootstrap resample\n",
    "spotify_1_resample <- spotify_sample %>%  slice_sample(prop = 1, replace = TRUE)\n",
    "\n",
    "\n",
    "# See the result\n",
    "spotify_1_resample"
   ]
  },
  {
   "cell_type": "markdown",
   "metadata": {},
   "source": [
    "- Summarize to calculate the mean danceability of spotify_1_resample as mean_danceability, then pull out this value to get a numeric vector of length 1."
   ]
  },
  {
   "cell_type": "code",
   "execution_count": null,
   "metadata": {},
   "outputs": [],
   "source": [
    "# From previous step\n",
    "spotify_1_resample <- spotify_sample %>% \n",
    "  slice_sample(prop = 1, replace = TRUE)\n",
    "\n",
    "# Calculate mean danceability of resample\n",
    "mean_danceability_1 <- spotify_1_resample %>% \n",
    "  summarize(mean_danceability = mean(danceability)) %>% \n",
    "  pull(mean_danceability)\n",
    "\n",
    "\n",
    "\n",
    "# See the result\n",
    "mean_danceability_1"
   ]
  },
  {
   "cell_type": "markdown",
   "metadata": {},
   "source": [
    "- Replicate the expression provided 1000 times."
   ]
  },
  {
   "cell_type": "code",
   "execution_count": null,
   "metadata": {},
   "outputs": [],
   "source": [
    "# Replicate this 1000 times\n",
    "mean_danceability_1000 <- replicate(\n",
    "  n=1000,\n",
    "  expr = {\n",
    "    spotify_1_resample <- spotify_sample %>% \n",
    "      slice_sample(prop = 1, replace = TRUE)\n",
    "    spotify_1_resample %>% \n",
    "      summarize(mean_danceability = mean(danceability)) %>% \n",
    "      pull(mean_danceability)})\n",
    "\n",
    "# See the result\n",
    "mean_danceability_1000"
   ]
  },
  {
   "cell_type": "markdown",
   "metadata": {},
   "source": [
    "- Store mean_danceability_1000 in a tibble, in a column named resample_mean.\n",
    "- Using bootstrap_distn, draw a histogram of the resample_means with binwidth 0.002."
   ]
  },
  {
   "cell_type": "code",
   "execution_count": null,
   "metadata": {},
   "outputs": [],
   "source": [
    "# From previous steps\n",
    "mean_danceability_1000 <- load_step_4()\n",
    "\n",
    "# Store the resamples in a tibble\n",
    "bootstrap_distn <- tibble(\n",
    "  resample_mean = mean_danceability_1000)\n",
    "\n",
    "# Draw a histogram of the resample means with binwidth 0.002\n",
    "ggplot(bootstrap_distn, aes(resample_mean)) + geom_histogram(binwidth = 0.002)"
   ]
  },
  {
   "cell_type": "markdown",
   "metadata": {},
   "source": [
    "# Bootstrap statistics and population statistics\n",
    "\n",
    "Bootstrap distribution statistics can be used to estimate population parameters. But can you always rely on them to give an accurate estimate of an unknown population parameter?\n",
    "\n",
    "Should the mean and the standard deviation of the bootstrap distribution both be used to estimate the corresponding values of the population?\n",
    "\n",
    "# Possible Answers\n",
    "\n",
    "(x) No, the mean of the bootstrap distribution will always be near the sample mean, which may not necessarily be very close to the population mean.\n",
    "\n",
    "( ) No, the standard deviation of the bootstrap distribution (if divided by the square root of the sample size) will tend to be near the sample standard deviation, which may not necessarily be very close to the population standard deviation.\n",
    "\n",
    "( ) Yes, both estimates should match up closely with the population values in all scenarios.\n",
    "\n",
    "( ) Yes, the variability of the sample, the population, the bootstrap distribution, and the sampling distribution will all be similar regardless of sample size selected."
   ]
  },
  {
   "cell_type": "markdown",
   "metadata": {},
   "source": [
    "# Sampling distribution vs. bootstrap distribution\n",
    "\n",
    "The sampling distribution and bootstrap distribution are closely linked. In situations where you can repeatedly sample from a population (these occasions are rare) and as you learn about both, it's helpful to generate both the sampling distribution and the bootstrap distribution, one after the other, to see how they are related.\n",
    "\n",
    "Here, the statistic you are interested in is the mean popularity score of the songs.\n",
    "\n",
    "spotify_population (the whole dataset) and spotify_sample (500 rows only representing an original sample) are available; dplyr is loaded."
   ]
  },
  {
   "cell_type": "markdown",
   "metadata": {},
   "source": [
    "# Instructions:\n",
    "\n",
    "- Generate a sampling distribution of 2000 replicates.\n",
    "- Sample 500 rows of the population without replacement.\n",
    "- Calculate the statistic of interest (the mean popularity) in the column mean_popularity.\n",
    "- Pull out the statistic so it is a single numeric value (not a tibble)."
   ]
  },
  {
   "cell_type": "code",
   "execution_count": null,
   "metadata": {},
   "outputs": [],
   "source": [
    "# Generate a sampling distribution\n",
    "mean_popularity_2000_samp <- replicate(\n",
    "  # Use 2000 replicates\n",
    "  n=2000,\n",
    "  expr = {\n",
    "    # Start with the population\n",
    "    spotify_population %>% \n",
    "      # Sample 500 rows without replacement\n",
    "      slice_sample(n = 500) %>% \n",
    "      # Calculate the mean popularity as mean_popularity\n",
    "      summarize(mean_popularity = mean(popularity)) %>% \n",
    "      # Pull out the mean popularity\n",
    "      pull(mean_popularity)})\n",
    "# See the result\n",
    "head(mean_popularity_2000_samp)"
   ]
  },
  {
   "cell_type": "markdown",
   "metadata": {},
   "source": [
    "- Generate a bootstrap distribution of 2000 replicates.\n",
    "- Sample 500 rows of the sample with replacement.\n",
    "- Calculate the statistic of interest (the mean popularity) in the column mean_popularity.\n",
    "- Pull out the statistic so it is a single numeric value (not a tibble)."
   ]
  },
  {
   "cell_type": "code",
   "execution_count": null,
   "metadata": {},
   "outputs": [],
   "source": [
    "# Generate a bootstrap distribution\n",
    "mean_popularity_2000_boot <- replicate(\n",
    "  # Use 2000 replicates\n",
    "  n = 2000,\n",
    "  expr = {\n",
    "    # Start with the sample\n",
    "    spotify_sample %>% \n",
    "      # Sample same number of rows with replacement\n",
    "      slice_sample(prop = 1, replace = TRUE) %>% \n",
    "      # Calculate the mean popularity\n",
    "      summarize(mean_popularity = mean(popularity)) %>% \n",
    "      # Pull out the mean popularity\n",
    "      pull(mean_popularity)\n",
    "  }\n",
    ")\n",
    "\n",
    "# See the result\n",
    "mean_popularity_2000_boot"
   ]
  },
  {
   "cell_type": "markdown",
   "metadata": {},
   "source": [
    "# Compare sampling and bootstrap means\n",
    "\n",
    "To make calculation easier, the distributions from the previous exercise have been included in tibbles. mean_popularity_2000_samp is in the sample_mean column of sampling_distribution, and mean_popularity_2000_boot is in the resample_mean column of bootstrap_distribution.\n",
    "\n",
    "spotify_population, spotify_sample, sampling_distribution, and bootstrap_distribution are available; dplyr is loaded.\n",
    "\n",
    "# Instructions:\n",
    "\n",
    "Calculate the mean popularity with summarize() in 4 ways.\n",
    "\n",
    "- Population: from spotify_population, take the mean of popularity.\n",
    "- Sample: from spotify_sample, take the mean of popularity.\n",
    "- Sampling distribution: from sampling_distribution, take the mean of sample_mean.\n",
    "- Bootstrap distribution: from bootstrap_distribution, take the mean of resample_mean."
   ]
  },
  {
   "cell_type": "code",
   "execution_count": null,
   "metadata": {},
   "outputs": [],
   "source": [
    "# Calculate the true population mean popularity\n",
    "pop_mean <- spotify_population %>% \n",
    "  summarize(mean(popularity))\n",
    "\n",
    "# Calculate the original sample mean popularity\n",
    "samp_mean <- spotify_sample %>% \n",
    "  summarize(mean(popularity))\n",
    "\n",
    "# Calculate the sampling dist'n estimate of mean popularity\n",
    "samp_distn_mean <- sampling_distribution %>% \n",
    "  summarize(mean(sample_mean))\n",
    "\n",
    "# Calculate the bootstrap dist'n estimate of mean popularity\n",
    "boot_distn_mean <- bootstrap_distribution %>% \n",
    "  summarize(mean(resample_mean))\n",
    "\n",
    "# See the results\n",
    "c(pop = pop_mean, samp = samp_mean, samp_distn = samp_distn_mean, boot_distn = boot_distn_mean)"
   ]
  },
  {
   "cell_type": "markdown",
   "metadata": {},
   "source": [
    "# Question\n",
    "\n",
    "Based on the four means you just calculated, which statement is true?\n",
    "\n",
    "# Possible answers\n",
    "\n",
    "( ) The sampling distribution mean is closest to the original sample mean; the bootstrap distribution mean is the best estimate of the true population mean.\n",
    "\n",
    "(x) The sampling distribution mean is the best estimate of the true population mean; the bootstrap distribution mean is closest to the original sample mean.\n",
    "\n",
    "( ) The sampling distribution mean and the bootstrap distribution mean are equally good estimates of the original sample mean.\n",
    "\n",
    "( ) The sampling distribution mean and the bootstrap distribution mean are equally good estimates of the true population mean."
   ]
  },
  {
   "cell_type": "code",
   "execution_count": null,
   "metadata": {},
   "outputs": [],
   "source": [
    "DM.result = 2"
   ]
  },
  {
   "cell_type": "markdown",
   "metadata": {},
   "source": [
    "# Compare sampling and bootstrap standard deviations\n",
    "\n",
    "In the same way that you looked at how the sampling distribution and bootstrap distribution could be used to estimate the population mean, you'll now take a look at how they can be used to estimate variation, or more specifically, the standard deviation, in the population.\n",
    "\n",
    "spotify_population, spotify_sample, sampling_distribution, and bootstrap_distribution are available; dplyr is loaded."
   ]
  },
  {
   "cell_type": "markdown",
   "metadata": {},
   "source": [
    "# Instructions:\n",
    "\n",
    "Calculate the standard deviation of popularity with summarize() in 4 ways.\n",
    "\n",
    "- Population: from spotify_population, take the standard deviation of popularity.\n",
    "- Original sample: from spotify_sample, take the standard deviation of popularity.\n",
    "- Sampling distribution: from sampling_distribution, take the standard deviation of sample_mean and multiply by the square root of the sample size (500).\n",
    "- Bootstrap distribution: from bootstrap_distribution, take the standard deviation of resample_mean and multiply by the square root of the sample size."
   ]
  },
  {
   "cell_type": "code",
   "execution_count": null,
   "metadata": {},
   "outputs": [],
   "source": [
    "# Calculate the true population std dev popularity\n",
    "pop_sd <- spotify_population %>% \n",
    "  summarize(sd(popularity))\n",
    "\n",
    "# Calculate the original sample std dev popularity\n",
    "samp_sd <- spotify_sample %>% \n",
    "  summarize(sd(popularity))\n",
    "\n",
    "# Calculate the sampling dist'n estimate of std dev popularity\n",
    "samp_distn_sd <- sampling_distribution %>% \n",
    "  summarize(sd(sample_mean) * sqrt(500))\n",
    "\n",
    "# Calculate the bootstrap dist'n estimate of std dev popularity\n",
    "boot_distn_sd <- bootstrap_distribution %>% \n",
    "  summarize(sd(resample_mean) * sqrt(500))\n",
    "\n",
    "# See the results\n",
    "c(pop = pop_sd, samp = samp_sd, sam_distn = samp_distn_sd, boot_distn = boot_distn_sd)"
   ]
  },
  {
   "cell_type": "markdown",
   "metadata": {},
   "source": [
    "# Question\n",
    "\n",
    "Based on the four results you just calculated, which statement is true?\n",
    "\n",
    "# Possible answers\n",
    "\n",
    "( ) The calculation from the sampling distribution is closest to the original sample standard deviation; the calculation from the bootstrap distribution is the best estimate of the true population standard deviation.\n",
    "\n",
    "( ) The sample standard deviation is the best estimate of the true population standard deviation; the calculation from the bootstrap distribution is closest to the original sample standard deviation.\n",
    "\n",
    "( ) The calculations from both the sampling distribution and from the bootstrap distribution are equally close to the original sample standard deviation.\n",
    "\n",
    "(x) While not the closest of the values given, the calculation from the bootstrap distribution provides a good estimate of the true population standard deviation."
   ]
  },
  {
   "cell_type": "code",
   "execution_count": null,
   "metadata": {},
   "outputs": [],
   "source": [
    "DM.result = 4"
   ]
  },
  {
   "cell_type": "markdown",
   "metadata": {},
   "source": [
    "# Confidence interval interpretation\n",
    "\n",
    "When reporting results, it is common to provide a confidence interval alongside an estimate.\n",
    "\n",
    "What does that confidence interval provide?\n",
    "\n",
    "# Possible Answers\n",
    "\n",
    "(x) A range of all values that a variable/column from a sample may take on.\n",
    "\n",
    "( ) All numbers between 0 and 1.\n",
    "\n",
    "( ) A range of plausible values for a variable measured in our population (such as popularity in spotify_population).\n",
    "\n",
    "( ) A range of plausible values for an unknown quantity."
   ]
  },
  {
   "cell_type": "markdown",
   "metadata": {},
   "source": [
    "# Calculating confidence intervals\n",
    "\n",
    "We can use the cumulative distribution function and its inverse to calculate confidence intervals in R. You'll do so with the Spotify data now.\n",
    "\n",
    "# Instructions:\n",
    "\n",
    "- Generate a 95% confidence interval using the quantile method.\n",
    "\n",
    "- Summarize to get the 0.025 quantile as lower, and the 0.975 quantile as upper."
   ]
  },
  {
   "cell_type": "code",
   "execution_count": null,
   "metadata": {},
   "outputs": [],
   "source": [
    "# Generate a 95% confidence interval using the quantile method\n",
    "conf_int_quantile <- bootstrap_distribution %>% \n",
    "  summarize(\n",
    "    lower = quantile(resample_mean, 0.025),\n",
    "    upper = quantile(resample_mean, 0.975)\n",
    "  )\n",
    "\n",
    "# See the result\n",
    "conf_int_quantile"
   ]
  },
  {
   "cell_type": "markdown",
   "metadata": {},
   "source": [
    "Generate a 95% confidence interval using the standard error method.\n",
    "\n",
    "- Calculate point_estimate as the mean of resample_mean, and standard_error as the standard deviation of resample_mean.\n",
    "- Calculate lower as the 0.025 quantile of an inv. CDF from a normal distribution with mean point_estimate and standard deviation standard_error.\n",
    "- Calculate upper as the 0.975 quantile of that same inv. CDF."
   ]
  },
  {
   "cell_type": "code",
   "execution_count": null,
   "metadata": {},
   "outputs": [],
   "source": [
    "# Generate a 95% confidence interval using the std error method\n",
    "conf_int_std_error <- bootstrap_distribution %>% \n",
    "  summarize(\n",
    "    point_estimate = mean(resample_mean),\n",
    "    standard_error = sd(resample_mean),\n",
    "    lower = qnorm(0.025, point_estimate, standard_error),\n",
    "    upper = qnorm(0.975, point_estimate, standard_error)\n",
    "  )\n",
    "\n",
    "# See the result\n",
    "conf_int_std_error"
   ]
  }
 ],
 "metadata": {
  "language_info": {
   "name": "python"
  }
 },
 "nbformat": 4,
 "nbformat_minor": 2
}
