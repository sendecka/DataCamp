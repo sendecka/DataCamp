{
 "cells": [
  {
   "cell_type": "markdown",
   "metadata": {},
   "source": [
    "# 4 Bootstrap Distributions\n",
    "\n",
    "Learn how to use resampling to perform bootstrapping, used to estimate variation in an unknown population. Understand the difference between sampling distributions and bootstrap distributions."
   ]
  },
  {
   "cell_type": "markdown",
   "metadata": {},
   "source": [
    "- Using the spotify_population dataset, calculate the mean duration in minutes. Call the calculated column mean_dur.\n",
    "- Using the spotify_sample dataset, perform the same calculation in another column called mean_dur.\n",
    "- Look at the two values. How different are they?"
   ]
  }
 ],
 "metadata": {
  "language_info": {
   "name": "python"
  }
 },
 "nbformat": 4,
 "nbformat_minor": 2
}
