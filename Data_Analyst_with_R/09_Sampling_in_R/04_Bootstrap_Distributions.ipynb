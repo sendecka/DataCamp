{
 "cells": [
  {
   "cell_type": "markdown",
   "metadata": {},
   "source": [
    "# 4 Bootstrap Distributions\n",
    "\n",
    "Learn how to use resampling to perform bootstrapping, used to estimate variation in an unknown population. Understand the difference between sampling distributions and bootstrap distributions."
   ]
  },
  {
   "cell_type": "markdown",
   "metadata": {},
   "source": [
    "# Reasons for sampling\n",
    "\n",
    "Sampling is an important technique in your statistical arsenal. It isn't always appropriate though—you need to know when to use it and when to work with the whole dataset.\n",
    "\n",
    "Which of the following is not a good scenario to use sampling?\n",
    "\n",
    "# Select one answer\n",
    "\n",
    "(x) You've been handed one terabyte of data about error logs for your company's IoT device.\n",
    "\n",
    "( ) You wish to learn information about the travel habits of all Pakistani adult citizens.\n",
    "\n",
    "( ) You've finished collecting data on a small study on the size of the wings of 10 butterflies.\n",
    "\n",
    "( ) You are working to predict customer turnover on a big data project for your marketing firm."
   ]
  },
  {
   "cell_type": "markdown",
   "metadata": {},
   "source": [
    "# Simple sampling with dplyr\n",
    "\n",
    "Throughout this chapter you'll be exploring song data from Spotify. Each row of the dataset represents a song, and there are 41656 rows. Columns include the name of the song, the artists who performed it, the release year, and attributes of the song like its duration, tempo, and danceability. We'll start by looking at the durations.\n",
    "\n",
    "Your first task is to sample the song dataset and compare a calculation on the whole population and on a sample.\n",
    "\n",
    "spotify_population is available and dplyr is loaded.\n",
    "\n",
    "# Instructions:\n",
    "\n",
    "( ) Use View() to view the spotify_population dataset. Explore it in the viewer until you are clear on what it contains.\n",
    "( ) Use dplyr to sample 1000 rows from spotify_population, assigning to spotify_sample."
   ]
  },
  {
   "cell_type": "code",
   "execution_count": null,
   "metadata": {},
   "outputs": [],
   "source": [
    "# View the whole population dataset\n",
    "head(spotify_population)\n",
    "\n",
    "# Sample 1000 rows from spotify_population\n",
    "spotify_sample <- spotify_population %>% slice_sample(n = 1000)\n",
    "\n",
    "# See the result\n",
    "spotify_sample"
   ]
  },
  {
   "cell_type": "markdown",
   "metadata": {},
   "source": [
    "- Using the spotify_population dataset, calculate the mean duration in minutes. Call the calculated column mean_dur.\n",
    "- Using the spotify_sample dataset, perform the same calculation in another column called mean_dur.\n",
    "- Look at the two values. How different are they?"
   ]
  },
  {
   "cell_type": "code",
   "execution_count": null,
   "metadata": {},
   "outputs": [],
   "source": [
    "# From previous step\n",
    "spotify_sample <- spotify_population %>% \n",
    "  slice_sample(n = 1000)\n",
    "\n",
    "# Calculate the mean duration in mins from spotify_population\n",
    "mean_dur_pop <- spotify_population %>% \n",
    "  summarize(mean_dur = mean(duration_minutes))\n",
    "\n",
    "# Calculate the mean duration in mins from spotify_sample\n",
    "mean_dur_samp <- spotify_sample %>% \n",
    "  summarize(mean_dur = mean(duration_minutes))\n",
    "\n",
    "# See the results\n",
    "mean_dur_pop"
   ]
  }
 ],
 "metadata": {
  "language_info": {
   "name": "python"
  }
 },
 "nbformat": 4,
 "nbformat_minor": 2
}
