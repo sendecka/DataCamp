{
 "cells": [
  {
   "cell_type": "markdown",
   "metadata": {},
   "source": [
    "# 1 Introduction to Sampling\n",
    "\n",
    "Learn what sampling is and why it is useful, understand the problems caused by convenience sampling, and learn about the differences between true randomness and pseudo-randomness.\n"
   ]
  },
  {
   "cell_type": "markdown",
   "metadata": {},
   "source": [
    "# Reasons for sampling\n",
    "\n",
    "Sampling is an important technique in your statistical arsenal. It isn't always appropriate though—you need to know when to use it and when to work with the whole dataset.\n",
    "\n",
    "Which of the following is not a good scenario to use sampling?\n",
    "\n",
    "# Select one answer\n",
    "\n",
    "(x) You've been handed one terabyte of data about error logs for your company's IoT device.\n",
    "\n",
    "( ) You wish to learn information about the travel habits of all Pakistani adult citizens.\n",
    "\n",
    "( ) You've finished collecting data on a small study on the size of the wings of 10 butterflies.\n",
    "\n",
    "( ) You are working to predict customer turnover on a big data project for your marketing firm."
   ]
  },
  {
   "cell_type": "markdown",
   "metadata": {},
   "source": [
    "# Simple sampling with dplyr\n",
    "\n",
    "Throughout this chapter you'll be exploring song data from Spotify. Each row of the dataset represents a song, and there are 41656 rows. Columns include the name of the song, the artists who performed it, the release year, and attributes of the song like its duration, tempo, and danceability. We'll start by looking at the durations.\n",
    "\n",
    "Your first task is to sample the song dataset and compare a calculation on the whole population and on a sample.\n",
    "\n",
    "spotify_population is available and dplyr is loaded.\n",
    "\n",
    "# Instructions:\n",
    "\n",
    "( ) Use View() to view the spotify_population dataset. Explore it in the viewer until you are clear on what it contains.\n",
    "( ) Use dplyr to sample 1000 rows from spotify_population, assigning to spotify_sample."
   ]
  },
  {
   "cell_type": "code",
   "execution_count": null,
   "metadata": {},
   "outputs": [],
   "source": [
    "# View the whole population dataset\n",
    "head(spotify_population)\n",
    "\n",
    "# Sample 1000 rows from spotify_population\n",
    "spotify_sample <- spotify_population %>% slice_sample(n = 1000)\n",
    "\n",
    "# See the result\n",
    "spotify_sample"
   ]
  },
  {
   "cell_type": "markdown",
   "metadata": {},
   "source": [
    "- Using the spotify_population dataset, calculate the mean duration in minutes. Call the calculated column mean_dur.\n",
    "- Using the spotify_sample dataset, perform the same calculation in another column called mean_dur.\n",
    "- Look at the two values. How different are they?"
   ]
  },
  {
   "cell_type": "code",
   "execution_count": null,
   "metadata": {},
   "outputs": [],
   "source": [
    "# From previous step\n",
    "spotify_sample <- spotify_population %>% \n",
    "  slice_sample(n = 1000)\n",
    "\n",
    "# Calculate the mean duration in mins from spotify_population\n",
    "mean_dur_pop <- spotify_population %>% \n",
    "  summarize(mean_dur = mean(duration_minutes))\n",
    "\n",
    "# Calculate the mean duration in mins from spotify_sample\n",
    "mean_dur_samp <- spotify_sample %>% \n",
    "  summarize(mean_dur = mean(duration_minutes))\n",
    "\n",
    "# See the results\n",
    "mean_dur_pop"
   ]
  },
  {
   "cell_type": "markdown",
   "metadata": {},
   "source": [
    "# Simple sampling with base-R\n",
    "\n",
    "While dplyr provides great tools for sampling data frames, if you want to work with vectors you can use base-R.\n",
    "\n",
    "Let's turn it up to eleven and look at the loudness property of each song.\n",
    "\n",
    "spotify_population is available.\n",
    "\n",
    "# Instructions:\n",
    "\n",
    "- Get the loudness column of spotify_population, assigning to loudness_pop.\n",
    "- Using base-R, sample loudness_pop to get 100 random values, assigning to loudness_samp."
   ]
  },
  {
   "cell_type": "code",
   "execution_count": null,
   "metadata": {},
   "outputs": [],
   "source": [
    "# Get the loudness column of spotify_population\n",
    "loudness_pop <- spotify_population$loudness\n",
    "\n",
    "# Sample 100 values of loudness_pop\n",
    "loudness_samp <- loudness_pop %>% sample(100)\n",
    "\n",
    "# See the results\n",
    "loudness_samp"
   ]
  },
  {
   "cell_type": "markdown",
   "metadata": {},
   "source": [
    "- Calculate the standard deviation of loudness_pop.\n",
    "- Calculate the standard deviation of loudness_samp.\n",
    "- Look at the two values. How different are they?"
   ]
  },
  {
   "cell_type": "code",
   "execution_count": null,
   "metadata": {},
   "outputs": [],
   "source": [
    "# From previous step\n",
    "loudness_pop <- spotify_population$loudness\n",
    "loudness_samp <- sample(loudness_pop, size = 100)\n",
    "\n",
    "# Calculate the standard deviation of loudness_pop\n",
    "sd_loudness_pop <- sd(loudness_pop)\n",
    "\n",
    "# Calculate the standard deviation of loudness_samp\n",
    "sd_loudness_samp <- sd(loudness_samp)\n",
    "\n",
    "# See the results\n",
    "sd_loudness_pop"
   ]
  },
  {
   "cell_type": "markdown",
   "metadata": {},
   "source": [
    "# Are findings from the sample generalizable?\n",
    "\n",
    "You just saw how convenience sampling—collecting data via the easiest method can result in samples that aren't representative of the whole population. Equivalently, this means findings from the sample are not generalizable to the whole population. Visualizing the distributions of the population and the sample can help determine whether or not the sample is representative of the population.\n",
    "\n",
    "The Spotify dataset contains a column named acousticness, which is a confidence measure from zero to one of whether the track is acoustic, that is, it was made with instruments that aren't plugged in. Here, you'll look at acousticness in the total population of songs, and in a sample of those songs.\n",
    "\n",
    "spotify_population and spotify_mysterious_sample are available; dplyr and ggplot2 are loaded.\n",
    "\n",
    "# Instructions:\n",
    "\n",
    "- Using spotify_population, draw a histogram of acousticness with binwidth of 0.01."
   ]
  },
  {
   "cell_type": "code",
   "execution_count": null,
   "metadata": {},
   "outputs": [],
   "source": [
    "# Visualize the distribution of acousticness as a histogram with a binwidth of 0.01\n",
    "ggplot(spotify_population, aes(acousticness)) +geom_histogram(binwidth = 0.01)\n"
   ]
  },
  {
   "cell_type": "markdown",
   "metadata": {},
   "source": [
    "- Update the histogram code to use the spotify_mysterious_sample dataset.\n",
    "- Set the x-axis limits from zero to one (for easier comparison with the previous plot)."
   ]
  },
  {
   "cell_type": "code",
   "execution_count": null,
   "metadata": {},
   "outputs": [],
   "source": [
    "# Update the histogram to use spotify_mysterious_sample with x-axis limits from 0 to 1\n",
    "ggplot(spotify_mysterious_sample, aes(acousticness)) +\n",
    "  geom_histogram(binwidth = 0.01) +\n",
    "  xlim(0, 1)"
   ]
  },
  {
   "cell_type": "markdown",
   "metadata": {},
   "source": [
    "# Question\n",
    "\n",
    "Compare the two histograms you drew. Are the acousticness values in the sample generalizable to the general population?\n",
    "\n",
    "# Possible answers\n",
    "\n",
    "( ) Yes. Any sample should lead to a generalizable result about the population.\n",
    "\n",
    "( ) Yes. The sample selected is likely a random sample of all songs in our population.\n",
    "\n",
    "( ) No. Samples can never lead to generalizable results about the population.\n",
    "\n",
    "(x) No. The acousticness samples are consistently higher than those in the general population.\n",
    "\n",
    "( ) No. The acousticness samples are consistently lower than those in the general population."
   ]
  },
  {
   "cell_type": "code",
   "execution_count": null,
   "metadata": {},
   "outputs": [],
   "source": [
    "DM.result = 4"
   ]
  },
  {
   "cell_type": "markdown",
   "metadata": {},
   "source": [
    "# Are these findings generalizable?\n",
    "\n",
    "Let's look at another sample to see if it is representative of the population. This time, you'll look at the duration_minutes column of the Spotify dataset, which contains the length of the song in minutes.\n",
    "\n",
    "spotify_population and spotify_mysterious_sample2 are available; dplyr and ggplot2 are loaded.\n",
    "\n",
    "# Instructions:\n",
    "\n",
    "- Using spotify_population, draw a histogram of duration_minutes with binwidth of 0.5.\n",
    "\n"
   ]
  },
  {
   "cell_type": "code",
   "execution_count": null,
   "metadata": {},
   "outputs": [],
   "source": [
    "# Visualize the distribution of duration_minutes as a histogram with a binwidth of 0.5\n",
    "ggplot(spotify_population, aes(duration_minutes)) +\n",
    "  geom_histogram(binwidth = 0.5)"
   ]
  },
  {
   "cell_type": "markdown",
   "metadata": {},
   "source": [
    "- Update the histogram code to use the spotify_mysterious_sample2 dataset.\n",
    "- Set the x-axis limits from zero to fifteen (for easier comparison with the previous plot)."
   ]
  },
  {
   "cell_type": "code",
   "execution_count": null,
   "metadata": {},
   "outputs": [],
   "source": [
    "# Update the histogram to use spotify_mysterious_sample2 with x-axis limits from 0 to 15\n",
    "ggplot(spotify_mysterious_sample2, aes(duration_minutes)) +\n",
    "  geom_histogram(binwidth = 0.01) +\n",
    "  xlim(0, 15)"
   ]
  },
  {
   "cell_type": "markdown",
   "metadata": {},
   "source": [
    "# Question\n",
    "\n",
    "Compare the two histograms you drew. Are the duration values in the sample generalizable to the general population?\n",
    "\n",
    "# Possible answers\n",
    "\n",
    "( ) Yes. Any sample should lead to a generalizable result about the population.\n",
    "\n",
    "(x) Yes. The sample selected is likely a random sample of all songs in our population.\n",
    "\n",
    "( ) No. Samples can never lead to generalizable results about the population.\n",
    "\n",
    "( ) No. The duration samples are consistently higher than those in the general population.\n",
    "\n",
    "( )No. The duration samples are consistently lower than those in the general population."
   ]
  },
  {
   "cell_type": "code",
   "execution_count": null,
   "metadata": {},
   "outputs": [],
   "source": [
    "DM.result = 2"
   ]
  },
  {
   "cell_type": "markdown",
   "metadata": {},
   "source": [
    "# Generating random numbers\n",
    "\n",
    "You've seen sample() and it's dplyr cousin, slice_sample() for generating pseudo-random numbers from a set of values. A related task is to generate random numbers that follow a statistical distribution, like the uniform distribution or the normal distribution.\n",
    "\n",
    "Each random number generation function has a name beginning with \"r\". It's first argument is the number of numbers to generate, but other arguments are distribution-specific. Free hint: Try args(runif) and args(rnorm) to see what arguments you need to pass to those functions.\n",
    "\n",
    "n_numbers is available and set to 5000; ggplot2 is loaded.\n",
    "\n",
    "# Instructions:\n",
    "\n",
    "- Complete the data frame of random numbers.\n",
    "- Generate n_numbers from a uniform distribution ranging from -3 to 3.\n",
    "- Generate n_numbers from a normal distribution with mean 5 and standard deviation 2."
   ]
  },
  {
   "cell_type": "code",
   "execution_count": null,
   "metadata": {},
   "outputs": [],
   "source": [
    "# Generate random numbers from ...\n",
    "randoms <- data.frame(\n",
    "  # a uniform distribution from -3 to 3\n",
    "  uniform = runif(n_numbers, min = -3, max = 3),\n",
    "  # a normal distribution with mean 5 and sd 2\n",
    "  normal = rnorm(n_numbers, mean = 5, sd = 2))"
   ]
  },
  {
   "cell_type": "markdown",
   "metadata": {},
   "source": [
    "- Using randoms, plot a histogram of the uniform column, using binwidth 0.25."
   ]
  },
  {
   "cell_type": "code",
   "execution_count": null,
   "metadata": {},
   "outputs": [],
   "source": [
    "# From previous step\n",
    "randoms <- data.frame(\n",
    "  uniform = runif(n_numbers, min = -3, max = 3),\n",
    "  normal = rnorm(n_numbers, mean = 5, sd = 2)\n",
    ")\n",
    "\n",
    "# Plot a histogram of uniform values, binwidth 0.25\n",
    "ggplot(randoms, aes(uniform)) + geom_histogram(binwidth = 0.25)"
   ]
  },
  {
   "cell_type": "markdown",
   "metadata": {},
   "source": [
    "- Using randoms, plot a histogram of the normal column, using binwidth 0.5."
   ]
  },
  {
   "cell_type": "code",
   "execution_count": null,
   "metadata": {},
   "outputs": [],
   "source": [
    "# From previous step\n",
    "randoms <- data.frame(\n",
    "  uniform = runif(n_numbers, min = -3, max = 3),\n",
    "  normal = rnorm(n_numbers, mean = 5, sd = 2)\n",
    ")\n",
    "\n",
    "# Plot a histogram of normal values, binwidth 0.5\n",
    "ggplot(randoms, aes(normal)) + geom_histogram(binwidth = 0.5)\n"
   ]
  },
  {
   "cell_type": "markdown",
   "metadata": {},
   "source": [
    "# Understanding random seeds\n",
    "\n",
    "While random numbers are important for many analyses, they create a problem: the results you get can vary slightly. This can cause awkward conversations with your boss when your script for calculating the sales forecast gives different answers each time.\n",
    "\n",
    "Setting the seed to R's random number generator helps avoid such problems by making the random number generation reproducible.\n",
    "\n",
    "# Instructions:\n",
    "\n",
    "Question\n",
    "Which statement about x and y is true?\n",
    "\n",
    "set.seed(123)\n",
    "x <- rnorm(5)\n",
    "y <- rnorm(5)\n",
    "Possible answers\n",
    "\n",
    "( ) x and y have identical values.\n",
    "\n",
    "( ) The first value of x is identical to the first value of y but other values are different.\n",
    "\n",
    "(x) The values of x are different to those of y."
   ]
  },
  {
   "cell_type": "code",
   "execution_count": null,
   "metadata": {},
   "outputs": [],
   "source": [
    "DM.result = 3"
   ]
  },
  {
   "cell_type": "markdown",
   "metadata": {},
   "source": [
    "# Which statement about x and y is true?\n",
    "\n",
    "set.seed(123)\n",
    "x <- rnorm(5)\n",
    "set.seed(123)\n",
    "y <- rnorm(5)\n",
    "\n",
    "Possible answers:\n",
    "\n",
    "(x) x and y have identical values.\n",
    "\n",
    "( ) The first value of x is identical to the first value of y but other values are different.\n",
    "\n",
    "( ) The values of x are different to those of y."
   ]
  },
  {
   "cell_type": "code",
   "execution_count": null,
   "metadata": {},
   "outputs": [],
   "source": [
    "DM.result = 1"
   ]
  },
  {
   "cell_type": "markdown",
   "metadata": {},
   "source": [
    "# Which statement about x and y is true?\n",
    "\n",
    "set.seed(123)\n",
    "x <- rnorm(5)\n",
    "set.seed(456)\n",
    "y <- rnorm(5)\n",
    "\n",
    "Possible answers: \n",
    "\n",
    "( ) x and y have identical values.\n",
    "\n",
    "( ) The first value of x is identical to the first value of y but other values are different.\n",
    "\n",
    "(x) The values of x are different to those of y.\n"
   ]
  },
  {
   "cell_type": "code",
   "execution_count": null,
   "metadata": {},
   "outputs": [],
   "source": [
    "DM.result = 3"
   ]
  },
  {
   "cell_type": "markdown",
   "metadata": {},
   "source": [
    "# Which statement about x and y is true?\n",
    "\n",
    "set.seed(123)\n",
    "x <- c(rnorm(5), rnorm(5))\n",
    "set.seed(123)\n",
    "y <- rnorm(10)\n",
    "\n",
    "Possible answers:\n",
    "\n",
    "(x) x and y have identical values.\n",
    "\n",
    "( ) The first value of x is identical to the first value of y but other values are different.\n",
    "\n",
    "( ) The values of x are different to those of y."
   ]
  },
  {
   "cell_type": "code",
   "execution_count": null,
   "metadata": {},
   "outputs": [],
   "source": [
    "DM.result = 1"
   ]
  }
 ],
 "metadata": {
  "language_info": {
   "name": "python"
  }
 },
 "nbformat": 4,
 "nbformat_minor": 2
}
