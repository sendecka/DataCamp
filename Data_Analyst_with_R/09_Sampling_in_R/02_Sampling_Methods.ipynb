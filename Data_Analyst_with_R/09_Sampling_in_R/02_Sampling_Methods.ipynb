{
 "cells": [
  {
   "cell_type": "markdown",
   "metadata": {},
   "source": [
    "# 2 Sampling Methods\n",
    "\n",
    "Learn how to and when to perform the four methods of random sampling: simple, systematic, stratified, and cluster."
   ]
  },
  {
   "cell_type": "markdown",
   "metadata": {},
   "source": [
    "# Simple random sampling\n",
    "\n",
    "The simplest method of sampling a population is the one you've seen already. It is known as simple random sampling (sometimes abbreviated to \"SRS\"), and involves picking rows at random, one at a time, where each row has the same chance of being picked as any other.\n",
    "\n",
    "To make it easier to see which rows end up in the sample, it's helpful to include a row ID column in the dataset before you take the sample.\n",
    "\n",
    "In this chapter, we'll look at sampling methods using a synthetic (fictional) employee attrition dataset from IBM, where \"attrition\" means leaving the company.\n",
    "\n",
    "attrition_pop is available; dplyr is loaded.\n",
    "\n",
    "# Instructions:\n",
    "\n",
    "- View the attrition_pop dataset. Explore it in the viewer until you are clear on what it contains.\n",
    "- Set the random seed to a value of your choosing.\n",
    "- Add a row ID column to the dataset, then use simple random sampling to get 200 rows.\n",
    "- View the sample dataset, attrition_samp. What do you notice about the row IDs?"
   ]
  },
  {
   "cell_type": "code",
   "execution_count": null,
   "metadata": {},
   "outputs": [],
   "source": [
    "# View the attrition_pop dataset\n",
    "attrition_pop\n",
    "\n",
    "# Set the seed\n",
    "set.seed(123)\n",
    "\n",
    "attrition_samp <- attrition_pop %>% \n",
    "  # Add a row ID column\n",
    "  rowid_to_column() %>% \n",
    "  # Get 200 rows using simple random sampling\n",
    "  slice_sample(n = 200)\n",
    "\n",
    "# View the attrition_samp dataset\n",
    "head(attrition_samp)"
   ]
  },
  {
   "cell_type": "markdown",
   "metadata": {},
   "source": [
    "# Systematic sampling\n",
    "\n",
    "One sampling method that avoids randomness is called systematic sampling. Here, you pick rows from the population at regular intervals.\n",
    "\n",
    "For example, if the population dataset had one thousand rows and you wanted a sample size of five, you'd pick rows 200, 400, 600, 800, and 1000.\n",
    "\n",
    "attrition_pop is available; dplyr and tibble are loaded.\n",
    "\n",
    "# Instructions:\n",
    "\n",
    "- Set the sample size to 200.\n",
    "- Get the population size from attrition_pop.\n",
    "- Calculate the interval between rows to be sampled."
   ]
  },
  {
   "cell_type": "code",
   "execution_count": null,
   "metadata": {},
   "outputs": [],
   "source": [
    "# Set the sample size to 200\n",
    "sample_size <- 200\n",
    "\n",
    "# Get the population size from attrition_pop\n",
    "pop_size <- nrow(attrition_pop)\n",
    "# Calculate the interval\n",
    "interval <- pop_size %/% sample_size"
   ]
  },
  {
   "cell_type": "markdown",
   "metadata": {},
   "source": [
    "- Get the row indexes for the sample as a numeric sequence of interval, 2 * interval, up to sample_size * interval.\n",
    "- Systematically sample attrition_pop, assigning to attrition_sys_samp.\n",
    "- Add a row ID column to attrition_pop.\n",
    "- Get the rows of the population corresponding to row_indexes."
   ]
  },
  {
   "cell_type": "code",
   "execution_count": null,
   "metadata": {},
   "outputs": [],
   "source": [
    "# From previous step\n",
    "sample_size <- 200\n",
    "pop_size <- nrow(attrition_pop)\n",
    "interval <- pop_size %/% sample_size\n",
    "\n",
    "# Get row indexes for the sample\n",
    "row_indexes <- seq_len(sample_size) * interval\n",
    "attrition_sys_samp <- attrition_pop %>% \n",
    "  # Add a row ID column\n",
    "  rowid_to_column() %>% \n",
    "  # Get 200 rows using systematic sampling\n",
    "  slice(row_indexes)\n",
    "# See the result\n",
    "head(attrition_sys_samp)"
   ]
  },
  {
   "cell_type": "markdown",
   "metadata": {},
   "source": [
    "# Is systematic sampling OK?\n",
    "\n",
    "Systematic sampling has a problem: if the data has been sorted, or there is some sort of pattern or meaning behind the row order, then the resulting sample may not be representative of the whole population. The problem can be solved by shuffling the rows, but then systematic sampling is equivalent to simple random sampling.\n",
    "\n",
    "Here you'll look at how to determine whether or not there is a problem.\n",
    "\n",
    "attrition_sys_samp is available and has been given a row ID column; dplyr and ggplot2 are loaded.\n",
    "\n",
    "# Instructions:\n",
    "\n",
    "- Add a row ID column to attrition_pop.\n",
    "- Using the attrition_pop_id dataset, plot YearsAtCompany versus rowid as a scatter plot, with a smooth trend line."
   ]
  },
  {
   "cell_type": "code",
   "execution_count": null,
   "metadata": {},
   "outputs": [],
   "source": [
    "# Add a row ID column to attrition_pop\n",
    "attrition_pop_id <- attrition_pop %>% \n",
    "  rowid_to_column()\n",
    "\n",
    "# Using attrition_pop_id, plot YearsAtCompany vs. rowid\n",
    "ggplot(attrition_pop_id, aes(rowid, YearsAtCompany)) +\n",
    "  # Make it a scatter plot\n",
    "  geom_point() +\n",
    "  # Add a smooth trend line\n",
    "  geom_smooth(method = \"lm\", se = FALSE)"
   ]
  },
  {
   "cell_type": "markdown",
   "metadata": {},
   "source": [
    "- Shuffle the rows of attrition_pop.\n",
    "- Add a row ID column to attrition_pop.\n",
    "- Repeat the plot of YearsAtCompany versus rowid with points and a smooth trend line, this time using attrition_shuffled."
   ]
  },
  {
   "cell_type": "code",
   "execution_count": null,
   "metadata": {},
   "outputs": [],
   "source": [
    "# Shuffle the rows of attrition_pop then add row IDs\n",
    "attrition_shuffled <- attrition_pop %>% slice_sample(prop = 1) %>% rowid_to_column()\n",
    "# Using attrition_shuffled, plot YearsAtCompany vs. rowid\n",
    "# Add points and a smooth trend line\n",
    "ggplot(attrition_shuffled, aes(rowid, YearsAtCompany)) +\n",
    "  geom_point() +\n",
    "  geom_smooth(method = \"lm\", se = FALSE)"
   ]
  },
  {
   "cell_type": "markdown",
   "metadata": {},
   "source": [
    "# Does a systematic sample always produce a sample similar to an simple random sample?\n",
    "\n",
    "Possible answers\n",
    "\n",
    "( ) Yes. All sampling (random or non-random) schemes will lead us to similar results.\n",
    "\n",
    "( ) Yes. We should always expect a representative sample for both systematic and simple random sampling.\n",
    "\n",
    "(x) No. This only holds if a seed has been set for both processes.\n",
    "\n",
    "( ) No. This is not true if the data is sorted in some way."
   ]
  },
  {
   "cell_type": "code",
   "execution_count": null,
   "metadata": {},
   "outputs": [],
   "source": [
    "DM.result = 3"
   ]
  },
  {
   "cell_type": "markdown",
   "metadata": {},
   "source": [
    "# Proportional stratified sampling\n",
    "\n",
    "If you are interested in subgroups within the population, then you may need to carefully control the counts of each subgroup within the population. Proportional stratified sampling results in subgroup sizes within the sample that are representative of the subgroup sizes within the population. It is equivalent to performing a simple random sample on each subgroup.\n",
    "\n",
    "attrition_pop is available; dplyr is loaded.\n",
    "\n",
    "# Instructions:\n",
    "\n",
    "- Get the counts of employees by Education level from attrition_pop, sorted by descending count\n",
    "- Add a percent column of percentages (100 times the count divided by the total count)."
   ]
  }
 ],
 "metadata": {
  "language_info": {
   "name": "python"
  }
 },
 "nbformat": 4,
 "nbformat_minor": 2
}
