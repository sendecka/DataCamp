{
 "cells": [
  {
   "cell_type": "markdown",
   "metadata": {},
   "source": [
    "# 2 Sampling Methods\n",
    "\n",
    "Learn how to and when to perform the four methods of random sampling: simple, systematic, stratified, and cluster."
   ]
  },
  {
   "cell_type": "markdown",
   "metadata": {},
   "source": [
    "# Simple random sampling\n",
    "\n",
    "The simplest method of sampling a population is the one you've seen already. It is known as simple random sampling (sometimes abbreviated to \"SRS\"), and involves picking rows at random, one at a time, where each row has the same chance of being picked as any other.\n",
    "\n",
    "To make it easier to see which rows end up in the sample, it's helpful to include a row ID column in the dataset before you take the sample.\n",
    "\n",
    "In this chapter, we'll look at sampling methods using a synthetic (fictional) employee attrition dataset from IBM, where \"attrition\" means leaving the company.\n",
    "\n",
    "attrition_pop is available; dplyr is loaded.\n",
    "\n",
    "# Instructions:\n",
    "\n",
    "- View the attrition_pop dataset. Explore it in the viewer until you are clear on what it contains.\n",
    "- Set the random seed to a value of your choosing.\n",
    "- Add a row ID column to the dataset, then use simple random sampling to get 200 rows.\n",
    "- View the sample dataset, attrition_samp. What do you notice about the row IDs?"
   ]
  },
  {
   "cell_type": "code",
   "execution_count": null,
   "metadata": {},
   "outputs": [],
   "source": [
    "# View the attrition_pop dataset\n",
    "attrition_pop\n",
    "\n",
    "# Set the seed\n",
    "set.seed(123)\n",
    "\n",
    "attrition_samp <- attrition_pop %>% \n",
    "  # Add a row ID column\n",
    "  rowid_to_column() %>% \n",
    "  # Get 200 rows using simple random sampling\n",
    "  slice_sample(n = 200)\n",
    "\n",
    "# View the attrition_samp dataset\n",
    "head(attrition_samp)"
   ]
  },
  {
   "cell_type": "markdown",
   "metadata": {},
   "source": [
    "# Systematic sampling\n",
    "\n",
    "One sampling method that avoids randomness is called systematic sampling. Here, you pick rows from the population at regular intervals.\n",
    "\n",
    "For example, if the population dataset had one thousand rows and you wanted a sample size of five, you'd pick rows 200, 400, 600, 800, and 1000.\n",
    "\n",
    "attrition_pop is available; dplyr and tibble are loaded.\n",
    "\n",
    "# Instructions:\n",
    "\n",
    "- Set the sample size to 200.\n",
    "- Get the population size from attrition_pop.\n",
    "- Calculate the interval between rows to be sampled."
   ]
  },
  {
   "cell_type": "code",
   "execution_count": null,
   "metadata": {},
   "outputs": [],
   "source": [
    "# Set the sample size to 200\n",
    "sample_size <- 200\n",
    "\n",
    "# Get the population size from attrition_pop\n",
    "pop_size <- nrow(attrition_pop)\n",
    "# Calculate the interval\n",
    "interval <- pop_size %/% sample_size"
   ]
  },
  {
   "cell_type": "markdown",
   "metadata": {},
   "source": [
    "- Get the row indexes for the sample as a numeric sequence of interval, 2 * interval, up to sample_size * interval.\n",
    "- Systematically sample attrition_pop, assigning to attrition_sys_samp.\n",
    "- Add a row ID column to attrition_pop.\n",
    "- Get the rows of the population corresponding to row_indexes."
   ]
  },
  {
   "cell_type": "code",
   "execution_count": null,
   "metadata": {},
   "outputs": [],
   "source": [
    "# From previous step\n",
    "sample_size <- 200\n",
    "pop_size <- nrow(attrition_pop)\n",
    "interval <- pop_size %/% sample_size\n",
    "\n",
    "# Get row indexes for the sample\n",
    "row_indexes <- seq_len(sample_size) * interval\n",
    "attrition_sys_samp <- attrition_pop %>% \n",
    "  # Add a row ID column\n",
    "  rowid_to_column() %>% \n",
    "  # Get 200 rows using systematic sampling\n",
    "  slice(row_indexes)\n",
    "# See the result\n",
    "head(attrition_sys_samp)"
   ]
  },
  {
   "cell_type": "markdown",
   "metadata": {},
   "source": [
    "# Is systematic sampling OK?\n",
    "\n",
    "Systematic sampling has a problem: if the data has been sorted, or there is some sort of pattern or meaning behind the row order, then the resulting sample may not be representative of the whole population. The problem can be solved by shuffling the rows, but then systematic sampling is equivalent to simple random sampling.\n",
    "\n",
    "Here you'll look at how to determine whether or not there is a problem.\n",
    "\n",
    "attrition_sys_samp is available and has been given a row ID column; dplyr and ggplot2 are loaded.\n",
    "\n",
    "# Instructions:\n",
    "\n",
    "- Add a row ID column to attrition_pop.\n",
    "- Using the attrition_pop_id dataset, plot YearsAtCompany versus rowid as a scatter plot, with a smooth trend line."
   ]
  },
  {
   "cell_type": "code",
   "execution_count": null,
   "metadata": {},
   "outputs": [],
   "source": [
    "# Add a row ID column to attrition_pop\n",
    "attrition_pop_id <- attrition_pop %>% \n",
    "  rowid_to_column()\n",
    "\n",
    "# Using attrition_pop_id, plot YearsAtCompany vs. rowid\n",
    "ggplot(attrition_pop_id, aes(rowid, YearsAtCompany)) +\n",
    "  # Make it a scatter plot\n",
    "  geom_point() +\n",
    "  # Add a smooth trend line\n",
    "  geom_smooth(method = \"lm\", se = FALSE)"
   ]
  },
  {
   "cell_type": "markdown",
   "metadata": {},
   "source": [
    "- Shuffle the rows of attrition_pop.\n",
    "- Add a row ID column to attrition_pop.\n",
    "- Repeat the plot of YearsAtCompany versus rowid with points and a smooth trend line, this time using attrition_shuffled."
   ]
  },
  {
   "cell_type": "code",
   "execution_count": null,
   "metadata": {},
   "outputs": [],
   "source": [
    "# Shuffle the rows of attrition_pop then add row IDs\n",
    "attrition_shuffled <- attrition_pop %>% slice_sample(prop = 1) %>% rowid_to_column()\n",
    "# Using attrition_shuffled, plot YearsAtCompany vs. rowid\n",
    "# Add points and a smooth trend line\n",
    "ggplot(attrition_shuffled, aes(rowid, YearsAtCompany)) +\n",
    "  geom_point() +\n",
    "  geom_smooth(method = \"lm\", se = FALSE)"
   ]
  },
  {
   "cell_type": "markdown",
   "metadata": {},
   "source": [
    "# Does a systematic sample always produce a sample similar to an simple random sample?\n",
    "\n",
    "Possible answers\n",
    "\n",
    "( ) Yes. All sampling (random or non-random) schemes will lead us to similar results.\n",
    "\n",
    "( ) Yes. We should always expect a representative sample for both systematic and simple random sampling.\n",
    "\n",
    "(x) No. This only holds if a seed has been set for both processes.\n",
    "\n",
    "( ) No. This is not true if the data is sorted in some way."
   ]
  },
  {
   "cell_type": "code",
   "execution_count": null,
   "metadata": {},
   "outputs": [],
   "source": [
    "DM.result = 3"
   ]
  },
  {
   "cell_type": "markdown",
   "metadata": {},
   "source": [
    "# Proportional stratified sampling\n",
    "\n",
    "If you are interested in subgroups within the population, then you may need to carefully control the counts of each subgroup within the population. Proportional stratified sampling results in subgroup sizes within the sample that are representative of the subgroup sizes within the population. It is equivalent to performing a simple random sample on each subgroup.\n",
    "\n",
    "attrition_pop is available; dplyr is loaded.\n",
    "\n",
    "# Instructions:\n",
    "\n",
    "- Get the counts of employees by Education level from attrition_pop, sorted by descending count\n",
    "- Add a percent column of percentages (100 times the count divided by the total count)."
   ]
  },
  {
   "cell_type": "code",
   "execution_count": null,
   "metadata": {},
   "outputs": [],
   "source": [
    "education_counts_pop <- attrition_pop %>% \n",
    "  # Count the employees by Education level, sorting by n\n",
    "  count(Education, sort = TRUE) %>% \n",
    "  # Add a percent column\n",
    "  mutate(percent = 100 * n/sum(n))\n",
    "# See the results\n",
    "education_counts_pop"
   ]
  },
  {
   "cell_type": "markdown",
   "metadata": {},
   "source": [
    "- Use proportional stratified sampling on attrition_pop to get 40% of each Education group. That is, group by Education and perform a simple random sample of proportion 0.4 on each group.\n",
    "- Ungroup the stratified sample."
   ]
  },
  {
   "cell_type": "code",
   "execution_count": null,
   "metadata": {},
   "outputs": [],
   "source": [
    "# From previous step\n",
    "attrition_strat <- attrition_pop %>% \n",
    "  group_by(Education) %>% \n",
    "  slice_sample(prop = 0.4) %>% \n",
    "  ungroup()\n",
    "# See the result\n",
    "attrition_strat"
   ]
  },
  {
   "cell_type": "markdown",
   "metadata": {},
   "source": [
    "- As you did with attrition_pop, get the counts of employees by Education level from attrition_strat, sorted by descending count, then add a percent column of percentages."
   ]
  },
  {
   "cell_type": "code",
   "execution_count": null,
   "metadata": {},
   "outputs": [],
   "source": [
    "# From previous steps\n",
    "attrition_pop %>% \n",
    "  count(Education, sort = TRUE) %>% \n",
    "  mutate(percent = 100 * n / sum(n))\n",
    "attrition_strat <- attrition_pop %>% \n",
    "  group_by(Education) %>% \n",
    "  slice_sample(prop = 0.4) %>% \n",
    "  ungroup()\n",
    "\n",
    "# Get the counts and percents from attrition_strat\n",
    "education_counts_strat <- attrition_strat %>% count(Education, sort =TRUE) %>% mutate(percent = 100 * n/sum(n))\n",
    "# See the results\n",
    "education_counts_strat"
   ]
  },
  {
   "cell_type": "markdown",
   "metadata": {},
   "source": [
    "# Equal counts stratified sampling\n",
    "\n",
    "If one subgroup is larger than another subgroup in the population, but you don't want to reflect that difference in your analysis, then you can use equal counts stratified sampling to generate samples where each subgroup has the same amount of data. For example, if you are analyzing blood types, O is the most common blood type worldwide, but you may wish to have equal amounts of O, A, B, and AB in your sample.\n",
    "\n",
    "attrition_pop is available; dplyr is loaded.\n",
    "\n",
    "# Instructions:\n",
    "\n",
    "- Use equal counts stratified sampling on attrition_pop to get 30 employees from each Education group. That is, group by Education and perform a simple random sample of size 30 on each group.\n",
    "- Ungroup the stratified sample."
   ]
  },
  {
   "cell_type": "code",
   "execution_count": null,
   "metadata": {},
   "outputs": [],
   "source": [
    "# Use equal counts stratified sampling to get 30 employees from each Education group\n",
    "attrition_eq <- attrition_pop %>% group_by(Education) %>%\n",
    "slice_sample(n = 30) %>% ungroup()\n",
    "# See the results\n",
    "attrition_eq"
   ]
  },
  {
   "cell_type": "markdown",
   "metadata": {},
   "source": [
    "- Get the counts of employees by Education level from attrition_eq, sorted by descending count.\n",
    "- Add a percent column of percentages (100 times the count divided by the total count)."
   ]
  },
  {
   "cell_type": "code",
   "execution_count": null,
   "metadata": {},
   "outputs": [],
   "source": [
    "# From previous step\n",
    "attrition_eq <- attrition_pop %>%\n",
    "  group_by(Education) %>% \n",
    "  slice_sample(n = 30) %>%\n",
    "  ungroup()\n",
    "\n",
    "# Get the counts and percents from attrition_eq\n",
    "education_counts_eq <- attrition_eq %>% \n",
    "count(Education, sort =TRUE) %>% mutate(percent = 100 * n/sum(n))\n",
    "# See the results\n",
    "education_counts_eq"
   ]
  },
  {
   "cell_type": "markdown",
   "metadata": {},
   "source": [
    "# Weighted sampling\n",
    "\n",
    "Stratified sampling provides rules about the probability of picking rows from your dataset at the subgroup level. A generalization of this is weighted sampling, which lets you specify rules about the probability of picking rows at the row level. The probability of picking any given row is proportional to the weight value for that row.\n",
    "\n",
    "attrition_pop is available; dplyr and ggplot2 are loaded.\n",
    "\n",
    "# Instructions:\n",
    "\n",
    "- Using attrition_pop, plot YearsAtCompany as a histogram with a binwidth of 1."
   ]
  },
  {
   "cell_type": "code",
   "execution_count": null,
   "metadata": {},
   "outputs": [],
   "source": [
    "# Using attrition_pop, plot YearsAtCompany as a histogram with binwidth 1\n",
    "ggplot(attrition_pop, aes(YearsAtCompany)) + geom_histogram(binwidth = 1)"
   ]
  },
  {
   "cell_type": "markdown",
   "metadata": {},
   "source": [
    "- Sample 400 employees from attrition_pop weighted by YearsAtCompany."
   ]
  },
  {
   "cell_type": "code",
   "execution_count": null,
   "metadata": {},
   "outputs": [],
   "source": [
    "# Sample 400 employees weighted by YearsAtCompany\n",
    "attrition_weight <- attrition_pop %>% \n",
    "  slice_sample(n = 400, weight_by = YearsAtCompany)\n",
    "\n",
    "# See the results\n",
    "attrition_weight"
   ]
  },
  {
   "cell_type": "markdown",
   "metadata": {},
   "source": [
    "- Using attrition_weight, plot YearsAtCompany as a histogram with binwidth 1."
   ]
  },
  {
   "cell_type": "code",
   "execution_count": null,
   "metadata": {},
   "outputs": [],
   "source": [
    "# From previous step\n",
    "attrition_weight <- attrition_pop %>% \n",
    "  slice_sample(n = 400, weight_by = YearsAtCompany)\n",
    "\n",
    "# Using attrition_weight, plot YearsAtCompany as a histogram with binwidth 1\n",
    "ggplot(attrition_weight, aes(YearsAtCompany)) + geom_histogram(binwidth = 1)"
   ]
  },
  {
   "cell_type": "markdown",
   "metadata": {},
   "source": [
    "# Question\n",
    "\n",
    "Which is higher? The weighted sample mean YearsAtCompany or the population mean YearsAtCompany.\n",
    "\n",
    "# Possible answers:\n",
    "\n",
    "(x) Sample mean.\n",
    "\n",
    "( ) Population mean.\n",
    "\n",
    "( ) Both means are identical.\n",
    "\n",
    "( ) It is impossible to calculate the two means."
   ]
  },
  {
   "cell_type": "code",
   "execution_count": null,
   "metadata": {},
   "outputs": [],
   "source": [
    "DM.result = 1"
   ]
  },
  {
   "cell_type": "markdown",
   "metadata": {},
   "source": [
    "# Benefits of clustering\n",
    "\n",
    "Cluster sampling is two-stage sampling technique that is closely related to stratified sampling. First you randomly sample which subgroups to include in the sample, then for each subgroup you randomly sample rows within that group.\n",
    "\n",
    "In which of the following situations would cluster sampling be preferable to stratified sampling?\n",
    "\n",
    "# Answer the question:\n",
    "\n",
    "(x) If the interest is on ensuring each rare group will be represented in the sample selected.\n",
    "\n",
    "( ) If cost is not a limitation and time can be spent carefully sampling from each group in the population.\n",
    "\n",
    "( ) If collecting an overall sample requires lots of travel from one group to another to collect samples within each group.\n",
    "\n",
    "( ) If the focus is on comparing particular subgroups within the population."
   ]
  },
  {
   "cell_type": "markdown",
   "metadata": {},
   "source": [
    "# Performing cluster sampling\n",
    "\n",
    "Now that you know when to use cluster sampling, it's time to put it into action. In this exercise you'll explore the JobRole column of the attrition dataset. You can think of each job role as a subgroup of the whole population of employees.\n",
    "\n",
    "attrition_pop is available; dplyr is loaded.\n",
    "\n",
    "# Instructions:\n",
    "\n",
    "- Get the unique JobRole values from attrition_pop.\n",
    "- Randomly sample four JobRole values from job_roles_pop."
   ]
  },
  {
   "cell_type": "code",
   "execution_count": null,
   "metadata": {},
   "outputs": [],
   "source": [
    "# Get unique JobRole values\n",
    "job_roles_pop <- unique(attrition_pop$JobRole)\n",
    "# Randomly sample four JobRole values\n",
    "job_roles_samp <- sample(job_roles_pop, size = 4)\n",
    "# See the result\n",
    "job_roles_samp"
   ]
  },
  {
   "cell_type": "markdown",
   "metadata": {},
   "source": [
    "- Filter attrition_pop for the sampled job roles. That is, filter for rows where JobRole is in job_roles_samp.\n",
    "- For each job role in the filtered dataset, take a random sample of ten rows."
   ]
  },
  {
   "cell_type": "code",
   "execution_count": null,
   "metadata": {},
   "outputs": [],
   "source": [
    "# From previous step\n",
    "job_roles_pop <- unique(attrition_pop$JobRole)\n",
    "job_roles_samp <- sample(job_roles_pop, size = 4)\n",
    "\n",
    "# Filter for rows where JobRole is in job_roles_samp\n",
    "attrition_filtered <- attrition_pop %>% \n",
    "  filter(JobRole %in% job_roles_samp)\n",
    "# Randomly sample 10 employees from each sampled job role\n",
    "attrition_clus <- attrition_filtered %>% \n",
    "  group_by(JobRole) %>% \n",
    "  slice_sample(n = 10)\n",
    "# See the result\n",
    "attrition_clus"
   ]
  },
  {
   "cell_type": "markdown",
   "metadata": {},
   "source": [
    "# 3 kinds of sampling\n",
    "\n",
    "Let's compare the performance of point estimates using simple, stratified, and cluster sampling. Before we do that, you'll have to set up the samples.\n",
    "\n",
    "In these exercises, we'll use the RelationshipSatisfaction column of the attrition dataset, which categorizes the employee's relationship with the company. It's an ordered factor with four levels: Low, Medium, High, and Very_High.\n",
    "\n",
    "# Instructions:\n",
    "\n",
    "- Perform simple random sampling on attrition_pop to get one quarter of the population."
   ]
  },
  {
   "cell_type": "code",
   "execution_count": null,
   "metadata": {},
   "outputs": [],
   "source": [
    "# Perform simple random sampling to get 0.25 of the population\n",
    "attrition_srs <- attrition_pop %>% slice_sample(prop = 0.25)"
   ]
  },
  {
   "cell_type": "markdown",
   "metadata": {},
   "source": [
    "- Perform stratified sampling on attrition_pop to get one quarter of the population of each RelationshipSatisfaction group. Remember to ungroup the result."
   ]
  },
  {
   "cell_type": "code",
   "execution_count": null,
   "metadata": {},
   "outputs": [],
   "source": [
    "# Perform stratified sampling to get 0.25 of each relationship group\n",
    "attrition_strat <- attrition_pop %>% \n",
    "  group_by(RelationshipSatisfaction) %>% \n",
    "  slice_sample(prop = 0.25) %>% \n",
    "  ungroup()\n"
   ]
  },
  {
   "cell_type": "markdown",
   "metadata": {},
   "source": [
    "- Get unique values of attrition_pop's RelationshipSatisfaction column.\n",
    "- Randomly sample satisfaction_unique to get two values.\n",
    "- Perform cluster sampling on the selected satisfaction groups, sampling one quarter of the population and ungrouping the result."
   ]
  },
  {
   "cell_type": "code",
   "execution_count": null,
   "metadata": {},
   "outputs": [],
   "source": [
    "# Get unique values of RelationshipSatisfaction\n",
    "satisfaction_unique <- unique(attrition_pop$RelationshipSatisfaction)\n",
    "\n",
    "# Randomly sample for 2 of the unique satisfaction values\n",
    "satisfaction_samp <- sample(satisfaction_unique, size = 2)\n",
    "\n",
    "# Perform cluster sampling on the selected group getting 0.25 of the population\n",
    "attrition_clust <- attrition_pop %>%\n",
    "  filter(RelationshipSatisfaction %in% satisfaction_samp) %>% \n",
    "  group_by(RelationshipSatisfaction) %>% \n",
    "  slice_sample(n = nrow(attrition_pop) / 4) %>% \n",
    "  ungroup()"
   ]
  },
  {
   "cell_type": "markdown",
   "metadata": {},
   "source": [
    "# Summary statistics on different kinds of sample\n",
    "\n",
    "Now you have three types of sample (simple, stratified, cluster), you can compare point estimates from each sample to the population parameter. That is, you can calculate the same summary statistic on each sample and see how it compares to the summary statistic for the population.\n",
    "\n",
    "Here, we'll look at how satisfaction with the company affects whether or not the employee leaves the company. That is, you'll calculate the proportion of employees who left the company (they have an Attrition value of \"Yes\"), for each value of RelationshipSatisfaction.\n",
    "\n",
    "attrition_pop, attrition_srs, attrition_strat, and attrition_clust are available; dplyr is loaded.\n",
    "\n",
    "# Instructions:\n",
    "\n",
    "- Group by RelationshipSatisfaction level.\n",
    "- Summarize to calculate a column named mean_attrition as the mean of the cases where Attrition is equal to \"Yes\"."
   ]
  },
  {
   "cell_type": "code",
   "execution_count": null,
   "metadata": {},
   "outputs": [],
   "source": [
    "# Use the whole population dataset \n",
    "mean_attrition_pop <- attrition_pop %>% \n",
    "  # Group by relationship satisfaction level\n",
    "  group_by(RelationshipSatisfaction) %>% \n",
    "  # Calculate the proportion of employee attrition\n",
    "  summarize(mean_attrition = mean(Attrition == \"Yes\"))\n",
    "\n",
    "# See the result\n",
    "mean_attrition_pop"
   ]
  },
  {
   "cell_type": "markdown",
   "metadata": {},
   "source": [
    "- Calculate the proportion of employee attrition for each relationship satisfaction group, this time on the simple random sample, attrition_srs."
   ]
  },
  {
   "cell_type": "code",
   "execution_count": null,
   "metadata": {},
   "outputs": [],
   "source": [
    "# Calculate the same thing for the simple random sample \n",
    "mean_attrition_srs <- attrition_srs %>% \n",
    "  group_by(RelationshipSatisfaction) %>% \n",
    "  summarize(mean_attrition = mean(Attrition == \"Yes\"))\n",
    "\n",
    "# See the result\n",
    "mean_attrition_srs"
   ]
  },
  {
   "cell_type": "markdown",
   "metadata": {},
   "source": [
    "- Calculate the proportion of employee attrition for each relationship satisfaction group, this time on the stratified sample, attrition_strat."
   ]
  },
  {
   "cell_type": "code",
   "execution_count": null,
   "metadata": {},
   "outputs": [],
   "source": [
    "# Calculate the same thing for the stratified sample \n",
    "mean_attrition_strat <- attrition_strat %>% \n",
    "  group_by(RelationshipSatisfaction) %>% \n",
    "  summarize(mean_attrition = mean(Attrition == \"Yes\"))\n",
    "\n",
    "# See the result\n",
    "mean_attrition_strat"
   ]
  },
  {
   "cell_type": "markdown",
   "metadata": {},
   "source": [
    "- Calculate the proportion of employee attrition for each relationship satisfaction group, this time on the cluster sample, attrition_clust."
   ]
  },
  {
   "cell_type": "code",
   "execution_count": null,
   "metadata": {},
   "outputs": [],
   "source": [
    "# Calculate the same thing for the cluster sample \n",
    "mean_attrition_clust <- attrition_clust %>% \n",
    "  group_by(RelationshipSatisfaction) %>% \n",
    "  summarize(mean_attrition = mean(Attrition == \"Yes\"))\n",
    "\n",
    "# See the result\n",
    "mean_attrition_clust"
   ]
  }
 ],
 "metadata": {
  "language_info": {
   "name": "python"
  }
 },
 "nbformat": 4,
 "nbformat_minor": 2
}
