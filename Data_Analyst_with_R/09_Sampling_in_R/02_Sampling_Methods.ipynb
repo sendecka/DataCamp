{
 "cells": [
  {
   "cell_type": "markdown",
   "metadata": {},
   "source": [
    "# 2 Sampling Methods\n",
    "\n",
    "Learn how to and when to perform the four methods of random sampling: simple, systematic, stratified, and cluster."
   ]
  }
 ],
 "metadata": {
  "language_info": {
   "name": "python"
  }
 },
 "nbformat": 4,
 "nbformat_minor": 2
}
