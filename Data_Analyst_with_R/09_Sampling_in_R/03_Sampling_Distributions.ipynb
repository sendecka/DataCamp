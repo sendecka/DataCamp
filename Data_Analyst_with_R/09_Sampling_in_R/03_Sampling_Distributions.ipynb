{
 "cells": [
  {
   "cell_type": "markdown",
   "metadata": {},
   "source": [
    "# 3 Sampling Distributions\n",
    "\n",
    "Learn how to quantify the accuracy of sample statistics using relative errors, and measure variation in your estimates by generating sampling distributions."
   ]
  },
  {
   "cell_type": "markdown",
   "metadata": {},
   "source": [
    "# Simple random sampling\n",
    "\n",
    "The simplest method of sampling a population is the one you've seen already. It is known as simple random sampling (sometimes abbreviated to \"SRS\"), and involves picking rows at random, one at a time, where each row has the same chance of being picked as any other.\n",
    "\n",
    "To make it easier to see which rows end up in the sample, it's helpful to include a row ID column in the dataset before you take the sample.\n",
    "\n",
    "In this chapter, we'll look at sampling methods using a synthetic (fictional) employee attrition dataset from IBM, where \"attrition\" means leaving the company.\n",
    "\n",
    "attrition_pop is available; dplyr is loaded.\n",
    "\n",
    "# Instructions:\n",
    "\n",
    "- View the attrition_pop dataset. Explore it in the viewer until you are clear on what it contains.\n",
    "- Set the random seed to a value of your choosing.\n",
    "- Add a row ID column to the dataset, then use simple random sampling to get 200 rows.\n",
    "- View the sample dataset, attrition_samp. What do you notice about the row IDs?"
   ]
  }
 ],
 "metadata": {
  "language_info": {
   "name": "python"
  }
 },
 "nbformat": 4,
 "nbformat_minor": 2
}
