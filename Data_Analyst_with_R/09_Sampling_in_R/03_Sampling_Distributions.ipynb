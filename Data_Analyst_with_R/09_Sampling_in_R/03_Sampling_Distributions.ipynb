{
 "cells": [
  {
   "cell_type": "markdown",
   "metadata": {},
   "source": [
    "# 3 Sampling Distributions\n",
    "\n",
    "Learn how to quantify the accuracy of sample statistics using relative errors, and measure variation in your estimates by generating sampling distributions."
   ]
  },
  {
   "cell_type": "markdown",
   "metadata": {},
   "source": [
    "# Calculating relative errors\n",
    "\n",
    "The size of the sample you take affects how accurately the point estimates reflect the corresponding population parameter. For example, when you calculate a sample mean, you want it to be close to the population mean. However, if your sample is too small, this might not be the case.\n",
    "\n",
    "The most common metric for assessing accuracy is relative error. This is the absolute difference between the population parameter and the point estimate, all divided by the population parameter. It is sometimes expressed as a percentage.\n",
    "\n",
    "attrition_pop and mean_attrition_pop are available; dplyr is loaded.\n",
    "\n",
    "# Instructions:\n",
    "\n",
    "- Generate a simple random sample from attrition_pop of ten rows.\n",
    "- Summarize to calculate the mean proportion of employee attrition (Attrition equals \"Yes\").\n",
    "- Calculate the relative error between mean_attrition_srs10 and mean_attrition_pop as a percentage."
   ]
  },
  {
   "cell_type": "code",
   "execution_count": null,
   "metadata": {},
   "outputs": [],
   "source": [
    "# Calculate the relative error percentage again with a sample of 100 rows\n",
    "attrition_srs100 <- attrition_pop %>% \n",
    "  slice_sample(n = 100)\n",
    "\n",
    "mean_attrition_srs100 <- attrition_srs100 %>% \n",
    "  summarize(mean_attrition = mean(Attrition == \"Yes\")) %>% \n",
    "  pull(mean_attrition)\n",
    "\n",
    "rel_error_pct100 <- 100 * abs(mean_attrition_pop - mean_attrition_srs100) / mean_attrition_pop\n",
    "\n",
    "# See the result\n",
    "rel_error_pct100"
   ]
  },
  {
   "cell_type": "markdown",
   "metadata": {},
   "source": [
    "- Calculate the relative error percentage again. This time, use a simple random sample of one hundred rows of attrition_pop."
   ]
  },
  {
   "cell_type": "code",
   "execution_count": null,
   "metadata": {},
   "outputs": [],
   "source": [
    "# Calculate the relative error percentage again with a sample of 100 rows\n",
    "attrition_srs100 <- attrition_pop %>% \n",
    "  slice_sample(n = 100)\n",
    "\n",
    "mean_attrition_srs100 <- attrition_srs100 %>% \n",
    "  summarize(mean_attrition = mean(Attrition == \"Yes\")) %>% \n",
    "  pull(mean_attrition)\n",
    "\n",
    "rel_error_pct100 <- 100 * abs(mean_attrition_pop - mean_attrition_srs100) / mean_attrition_pop\n",
    "\n",
    "# See the result\n",
    "rel_error_pct100"
   ]
  },
  {
   "cell_type": "markdown",
   "metadata": {},
   "source": [
    "# Relative error vs. sample size\n",
    "\n",
    "The plot shows the relative error in the proportion of employee attritions, using simple random sampling, for sample sizes from 2 to 1470 (the size of the population).\n",
    "\n",
    "Clicking \"Regenerate plot\" will create new samples for each sample size, and calculate the relative errors again.\n",
    "\n",
    "Which statement about relative errors and sample sizes is true?"
   ]
  },
  {
   "cell_type": "markdown",
   "metadata": {},
   "source": [
    "( ) For any given sample size, the relative error between the sample mean and the population mean is fixed at a specific value.\n",
    "\n",
    "( ) When the sample is as large as the whole population, the relative error is small, but never zero.\n",
    "\n",
    "( ) If the sample mean is greater than the population mean, the relative error can be less than zero.\n",
    "\n",
    "( ) The relative error can never be greater than 100%.\n",
    "\n",
    "(x) For small sample sizes, each additional entry in a sample can result in substantial decreases to the relative error."
   ]
  },
  {
   "cell_type": "markdown",
   "metadata": {},
   "source": [
    "# Replicating samples\n",
    "\n",
    "When you calculate a point estimate such as a sample mean, the value you calculate depends on the rows that were included in the sample. That means that there is some randomness in the answer. In order to quantify the variation caused by this randomness, you can create many samples and calculate the sample mean (or other statistic) for each sample.\n",
    "\n",
    "attrition_pop is available; dplyr and ggplot2 are loaded.\n",
    "\n",
    "# Instructions:\n",
    "\n",
    "- Replicate the provided code so that it runs 500 times. Assign the resulting vector of sample means to mean_attritions."
   ]
  },
  {
   "cell_type": "code",
   "execution_count": null,
   "metadata": {},
   "outputs": [],
   "source": [
    "# Replicate this code 500 times\n",
    "\n",
    "mean_attritions <- replicate(\n",
    "  n = 500,\n",
    "  attrition_pop %>% \n",
    "    slice_sample(n = 20) %>% \n",
    "    summarize(mean_attrition = mean(Attrition == \"Yes\")) %>% \n",
    "    pull(mean_attrition))\n",
    "# See the result\n",
    "head(mean_attritions)"
   ]
  },
  {
   "cell_type": "markdown",
   "metadata": {},
   "source": [
    "- Create a tibble with a column named sample_mean to store mean_attritions.\n",
    "- Using sample_means, draw a histogram of the sample_mean column with a binwidth of 0.05."
   ]
  },
  {
   "cell_type": "code",
   "execution_count": null,
   "metadata": {},
   "outputs": [],
   "source": [
    "# From previous step\n",
    "mean_attritions <- replicate(\n",
    "  n = 500,\n",
    "  attrition_pop %>% \n",
    "    slice_sample(n = 20) %>% \n",
    "    summarize(mean_attrition = mean(Attrition == \"Yes\")) %>% \n",
    "    pull(mean_attrition)\n",
    ")\n",
    "\n",
    "# Store mean_attritions in a tibble in a column named sample_mean\n",
    "sample_means <- tibble(sample_mean = mean_attritions)\n",
    "# Plot a histogram of the `sample_mean` column, binwidth 0.05\n",
    "ggplot(sample_means, aes(sample_mean)) +\n",
    "  geom_histogram(binwidth = 0.05)"
   ]
  },
  {
   "cell_type": "markdown",
   "metadata": {},
   "source": [
    "# Replication parameters\n",
    "\n",
    "The dashboard shows a histogram of sample mean proportions of employee attrition. There are two parameters: the size of each simple random sample, and the number of replicates. It's important to understand how each of these parameters affects the result. Use the parameter sliders to explore different values and note their effect on the histogram.\n",
    "\n",
    "Which statement about the effect of each parameter on the distribution of sample means is true?"
   ]
  },
  {
   "cell_type": "markdown",
   "metadata": {},
   "source": [
    "( ) As the sample size increases, the range of calculated sample means tends to increase.\n",
    "\n",
    "( ) As the number of replicates increase, the range of calculated sample means tends to increase.\n",
    "\n",
    "(x) As the sample size increases, the range of calculated sample means tends to decrease.\n",
    "\n",
    "( ) As the number of replicates increase, the range of calculated sample means tends to decrease."
   ]
  },
  {
   "cell_type": "markdown",
   "metadata": {},
   "source": [
    "# Exact sampling distribution\n",
    "\n",
    "To quantify how the point estimate (sample statistic) you are interested in varies, you need to know all the possible values it can take, and how often. That is, you need to know its distribution.\n",
    "\n",
    "The distribution of a sample statistic is called the sampling distribution. When we can calculate this exactly, rather than using an approximation, it is known as the exact sampling distribution.\n",
    "\n",
    "Let's take another look at the sampling distribution of dice rolls. This time, we'll look at five eight-sided dice. (These have the numbers one to eight.)\n",
    "\n"
   ]
  },
  {
   "cell_type": "markdown",
   "metadata": {},
   "source": [
    "# Instructions:\n",
    "\n",
    "- Expand a grid representing 5 8-sided dice. That is, create a tibble with five columns, named die1 to die5. The rows should contain all possibilities for throwing five dice, each numbered 1 to 8."
   ]
  },
  {
   "cell_type": "code",
   "execution_count": null,
   "metadata": {},
   "outputs": [],
   "source": [
    "# Expand a grid representing 5 8-sided dice\n",
    "dice <- expand_grid(\n",
    "  die1 = 1:8,\n",
    "  die2 = 1:8,\n",
    "  die3 = 1:8,\n",
    "  die4 = 1:8,\n",
    "  die5 = 1:8\n",
    ")\n",
    "\n",
    "# See the result\n",
    "dice"
   ]
  },
  {
   "cell_type": "markdown",
   "metadata": {},
   "source": [
    "- Add a column, mean_roll, to dice, that contains the mean of the five rolls."
   ]
  },
  {
   "cell_type": "code",
   "execution_count": null,
   "metadata": {},
   "outputs": [],
   "source": [
    "dice <- expand_grid(\n",
    "  die1 = 1:8,\n",
    "  die2 = 1:8,\n",
    "  die3 = 1:8,\n",
    "  die4 = 1:8,\n",
    "  die5 = 1:8\n",
    ") %>% \n",
    "  # Add a column of mean rolls\n",
    "  mutate(mean_roll = (die1 + die2 +die3 + die4 +die5)/5)"
   ]
  },
  {
   "cell_type": "markdown",
   "metadata": {},
   "source": [
    "- Using the dice dataset, plot mean_roll, converted to a factor, as a bar plot."
   ]
  },
  {
   "cell_type": "code",
   "execution_count": null,
   "metadata": {},
   "outputs": [],
   "source": [
    "# From previous step\n",
    "dice <- expand_grid(\n",
    "  die1 = 1:8,\n",
    "  die2 = 1:8,\n",
    "  die3 = 1:8,\n",
    "  die4 = 1:8,\n",
    "  die5 = 1:8\n",
    ") %>% \n",
    "  mutate(mean_roll = (die1 + die2 + die3 + die4 + die5) / 5)\n",
    "\n",
    "# Using dice, draw a bar plot of mean_roll as a factor\n",
    "ggplot(dice, aes(factor(mean_roll))) + geom_bar()"
   ]
  },
  {
   "cell_type": "markdown",
   "metadata": {},
   "source": [
    "# Approximate sampling distribution\n",
    "\n",
    "Calculating the exact sampling distribution is only possible in very simple situations. With just five eight-sided dice, the number of possible rolls is 8 ^ 5, which is over thirty thousand. When the dataset is more complicated, for example where a variable has hundreds or thousands or categories, the number of possible outcomes becomes too difficult to compute exactly.\n",
    "\n",
    "In this situation, you can calculate an approximate sampling distribution by simulating the exact sampling distribution. That is, you can repeat a procedure over and over again to simulate both the sampling process and the sample statistic calculation process.\n",
    "\n",
    "tibble and ggplot2 are loaded.\n",
    "\n",
    "# Instructions:\n",
    "\n",
    "- Sample one to eight, five times, with replacement. Assign to five_rolls.\n",
    "- Calculate the mean of five_rolls."
   ]
  },
  {
   "cell_type": "code",
   "execution_count": null,
   "metadata": {},
   "outputs": [],
   "source": [
    "# Sample one to eight, five times, with replacement\n",
    "five_rolls <- sample(1:8, size = 5, replace = TRUE)\n",
    "# Calculate the mean of five_rolls\n",
    "mean(five_rolls)"
   ]
  },
  {
   "cell_type": "markdown",
   "metadata": {},
   "source": [
    "- Replicate the sampling code 1000 times, assigning to sample_means_1000."
   ]
  },
  {
   "cell_type": "code",
   "execution_count": null,
   "metadata": {},
   "outputs": [],
   "source": [
    "# Replicate the sampling code 1000 times\n",
    "sample_means_1000 <- replicate(\n",
    "  n = 1000,\n",
    "  expr = {\n",
    "    five_rolls <- sample(1:8, size = 5, replace = TRUE)\n",
    "    mean(five_rolls)})\n",
    "# Wrap sample_means_1000 in the sample_mean column of a tibble\n",
    "sample_means <- tibble(\n",
    "  sample_mean = sample_means_1000\n",
    "  )\n",
    "# See the result\n",
    "sample_means"
   ]
  },
  {
   "cell_type": "markdown",
   "metadata": {},
   "source": [
    "- Create a tibble, and store sample_means_1000 in the a column named sample_mean."
   ]
  },
  {
   "cell_type": "code",
   "execution_count": null,
   "metadata": {},
   "outputs": [],
   "source": [
    "# From previous step\n",
    "sample_means_1000 <- replicate(\n",
    "  n = 1000,\n",
    "  expr = {\n",
    "    five_rolls <- sample(1:8, size = 5, replace = TRUE)\n",
    "    mean(five_rolls)})\n",
    "# Wrap sample_means_1000 in the sample_mean column of a tibble\n",
    "sample_means <- tibble(\n",
    "  sample_mean = sample_means_1000\n",
    "  )\n",
    "# See the result\n",
    "sample_means"
   ]
  },
  {
   "cell_type": "markdown",
   "metadata": {},
   "source": [
    "- Using the sample_means dataset, plot sample_mean, converted to a factor, as a bar plot."
   ]
  },
  {
   "cell_type": "code",
   "execution_count": null,
   "metadata": {},
   "outputs": [],
   "source": [
    "# From previous steps\n",
    "sample_means_1000 <- replicate(\n",
    "  n = 1000,\n",
    "  expr = {\n",
    "    five_rolls <- sample(1:8, size = 5, replace = TRUE)\n",
    "    mean(five_rolls)\n",
    "  }\n",
    ")\n",
    "sample_means <- tibble(\n",
    "  sample_mean = sample_means_1000\n",
    ")\n",
    "\n",
    "# Using sample_means, draw a bar plot of sample_mean as a factor\n",
    "ggplot(sample_means, aes(factor(sample_mean))) + geom_bar()"
   ]
  },
  {
   "cell_type": "markdown",
   "metadata": {},
   "source": [
    "# Exact vs. approximate\n",
    "\n",
    "You've seen two types of sampling distribution now (exact and approximate). You need to be clear about when each should be computed.\n",
    "\n",
    "Should we always be able to compute the exact sampling distribution directly?\n",
    "\n",
    "# Answer the question:\n",
    "\n",
    "(x) No, the computational time and resources needed to look at the population of values could be too much for our problem.\n",
    "\n",
    "( ) No, the exact sampling distribution is always unknown even for calculating the sample mean of a small number of die tosses like 2 or 3.\n",
    "\n",
    "( ) Yes, the population will always be known ahead of time so one extra calculation is no problem.\n",
    "\n",
    "( ) Yes, the exact sampling distribution can be generated using the replicate() function so it should be used in all circumstances."
   ]
  },
  {
   "cell_type": "markdown",
   "metadata": {},
   "source": [
    "# Population & sampling distribution means\n",
    "\n",
    "One of the useful features of sampling distributions is that you can quantify them. In particular, you can calculate summary statistics on them. Here, we'll look at the relationship between the mean of the sampling distribution and the population parameter that the sampling is supposed to estimate.\n",
    "\n",
    "Three sampling distributions are provided. In each case, the employee attrition dataset was sampled using simple random sampling, then the mean attrition was calculated. This was done 1000 times to get a sampling distribution of mean attritions. One sampling distribution used a sample size of 5 for each replicate, one used 50, and one used 500.\n",
    "\n",
    "attrition_pop, sampling_distribution_5, sampling_distribution_50, and sampling_distribution_500 are available; dplyr is loaded."
   ]
  },
  {
   "cell_type": "markdown",
   "metadata": {},
   "source": [
    "# Instructions:\n",
    "\n",
    "- Using sampling_distribution_5, calculate the mean across all the replicates of the mean_attritions (a mean of sample means). Store this in a column called mean_mean_attrition.\n",
    "- Do the same calculation using sampling_distribution_50 and sampling_distribution_500."
   ]
  },
  {
   "cell_type": "code",
   "execution_count": null,
   "metadata": {},
   "outputs": [],
   "source": [
    "# Calculate the mean across replicates of the mean attritions in sampling_distribution_5\n",
    "mean_of_means_5 <- sampling_distribution_5 %>%\n",
    "  summarize(mean_mean_attrition = mean(mean_attrition))\n",
    "\n",
    "# Do the same for sampling_distribution_50\n",
    "mean_of_means_50 <- sampling_distribution_50 %>%\n",
    "  summarize(mean_mean_attrition = mean(mean_attrition))\n",
    "\n",
    "# ... and for sampling_distribution_500\n",
    "mean_of_means_500 <- sampling_distribution_500 %>%\n",
    "  summarize(mean_mean_attrition = mean(mean_attrition))\n",
    "\n",
    "# See the results\n",
    "mean_of_means_5\n",
    "mean_of_means_50\n",
    "mean_of_means_500"
   ]
  },
  {
   "cell_type": "markdown",
   "metadata": {},
   "source": [
    "# Question\n",
    "How does sample size affect the mean of the sample means?\n",
    "\n",
    "( ) As the sample size increases, the mean of the sampling distribution decreases until it reaches the population mean.\n",
    "\n",
    "( ) As the sample size increases, the mean of the sampling distribution increases until it reaches the population mean.\n",
    "\n",
    "(x) Regardless of sample size, the mean of the sampling distribution is a close approximation to the population mean.\n",
    "\n",
    "( ) Regardless of sample size, the mean of the sampling distribution is biased and cannot approximate the population mean."
   ]
  },
  {
   "cell_type": "code",
   "execution_count": null,
   "metadata": {},
   "outputs": [],
   "source": [
    "DM.result = 3"
   ]
  },
  {
   "cell_type": "markdown",
   "metadata": {},
   "source": [
    "# Population and sampling distribution variation\n",
    "\n",
    "You just calculated the mean of the sampling distribution and saw how it is an estimate of the corresponding population parameter. Similarly, as a result of the central limit theorem, the standard deviation of the sampling distribution has an interesting relationship with the population parameter's standard deviation and the sample size.\n",
    "\n",
    "attrition_pop, sampling_distribution_5, sampling_distribution_50, and sampling_distribution_500 are available; dplyr is loaded.\n",
    "\n",
    "# Instructions:\n",
    "\n",
    "- Using sampling_distribution_5, calculate the standard deviation across all the replicates of the mean_attritions (a standard deviation of sample means). Store this in a column called sd_mean_attrition.\n",
    "- Do the same calculation using sampling_distribution_50 and sampling_distribution_500."
   ]
  },
  {
   "cell_type": "code",
   "execution_count": null,
   "metadata": {},
   "outputs": [],
   "source": [
    "# Calculate the standard deviation across replicates of the mean attritions in sampling_distribution_5\n",
    "sd_of_means_5 <- sampling_distribution_5 %>%\n",
    "  summarize(sd_mean_attrition = sd(mean_attrition))\n",
    "\n",
    "# Do the same for sampling_distribution_50\n",
    "sd_of_means_50 <- sampling_distribution_50 %>%\n",
    "  summarize(sd_mean_attrition = sd(mean_attrition))\n",
    "\n",
    "# ... and for sampling_distribution_500\n",
    "sd_of_means_500 <- sampling_distribution_500 %>%\n",
    "  summarize(sd_mean_attrition = sd(mean_attrition))\n",
    "\n",
    "# See the results\n",
    "sd_of_means_5\n",
    "sd_of_means_50\n",
    "sd_of_means_500"
   ]
  },
  {
   "cell_type": "markdown",
   "metadata": {},
   "source": [
    "# Question\n",
    "\n",
    "How are the standard deviations of the sampling distributions related to the population standard deviation and the sample size?\n",
    "\n",
    "Possible answers\n",
    "\n",
    "( ) The standard deviation of the sampling distribution is approximately equal to the population standard deviation, regardless of sample size.\n",
    "\n",
    "( ) The standard deviation of the sampling distribution is approximately equal to the population standard deviation multiplied by the sample size.\n",
    "\n",
    "( ) The standard deviation of the sampling distribution is approximately equal to the population standard deviation multiplied by the square root of the sample size.\n",
    "\n",
    "( ) The standard deviation of the sampling distribution is approximately equal to the population standard deviation divided by the sample size.\n",
    "\n",
    "( ) The standard deviation of the sampling distribution is approximately equal to the population standard deviation divided by the square root of the sample size."
   ]
  },
  {
   "cell_type": "code",
   "execution_count": null,
   "metadata": {},
   "outputs": [],
   "source": [
    "DM.result = 5"
   ]
  }
 ],
 "metadata": {
  "language_info": {
   "name": "python"
  }
 },
 "nbformat": 4,
 "nbformat_minor": 2
}
