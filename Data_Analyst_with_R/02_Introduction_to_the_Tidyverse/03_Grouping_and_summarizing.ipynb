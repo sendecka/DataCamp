{
 "cells": [
  {
   "cell_type": "markdown",
   "metadata": {},
   "source": [
    "# 3 Grouping and summarizing\n",
    "\n",
    "So far you've been answering questions about individual country-year pairs, but you may be interested in aggregations of the data, such as the average life expectancy of all countries within each year. Here you'll learn to use the group by and summarize verbs, which collapse large datasets into manageable summaries."
   ]
  },
  {
   "cell_type": "markdown",
   "metadata": {},
   "source": [
    "# Summarizing the median life expectancy\n",
    "\n",
    "You've seen how to find the mean life expectancy and the total population across a set of observations, but mean() and sum() are only two of the functions R provides for summarizing a collection of numbers. Here, you'll learn to use the median() function in combination with summarize().\n",
    "\n",
    "By the way, dplyr displays some messages when it's loaded that we've been hiding so far. They'll show up in red and start with:\n",
    "\n",
    "Attaching package: 'dplyr'\n",
    "\n",
    "The following objects are masked from 'package:stats':\n",
    "This will occur in future exercises each time you load dplyr: it's mentioning some built-in functions that are overwritten by dplyr. You won't need to worry about this message within this course.\n",
    "\n",
    "# Instructions:\n",
    "\n",
    "- Use the median() function within a summarize() to find the median life expectancy. Save it into a column called medianLifeExp."
   ]
  },
  {
   "cell_type": "code",
   "execution_count": null,
   "metadata": {},
   "outputs": [],
   "source": [
    "library(gapminder)\n",
    "library(dplyr)\n",
    "\n",
    "# Summarize to find the median life expectancy\n",
    "gapminder %>%\n",
    "  summarize(medianLifeExp = median(lifeExp))"
   ]
  },
  {
   "cell_type": "markdown",
   "metadata": {},
   "source": [
    "# Summarizing the median life expectancy in 1957\n",
    "\n",
    "Rather than summarizing the entire dataset, you may want to find the median life expectancy for only one particular year. In this case, you'll find the median in the year 1957.\n",
    "\n",
    "# Instructions:\n",
    "\n",
    "- Filter for the year 1957, then use the median() function within a summarize() to calculate the median life expectancy into a column called medianLifeExp."
   ]
  },
  {
   "cell_type": "code",
   "execution_count": null,
   "metadata": {},
   "outputs": [],
   "source": [
    "library(gapminder)\n",
    "library(dplyr)\n",
    "\n",
    "# Filter for 1957 then summarize the median life expectancy\n",
    "gapminder %>%\n",
    "  filter(year == 1957) %>%\n",
    "  summarize(medianLifeExp = median(lifeExp))"
   ]
  },
  {
   "cell_type": "markdown",
   "metadata": {},
   "source": [
    "# Summarizing multiple variables in 1957\n",
    "\n",
    "The summarize() verb allows you to summarize multiple variables at once. In this case, you'll use the median() function to find the median life expectancy and the max() function to find the maximum GDP per capita.\n",
    "\n",
    "# Instructions:\n",
    "\n",
    "- Find both the median life expectancy (lifeExp) and the maximum GDP per capita (gdpPercap) in the year 1957, calling them medianLifeExp and maxGdpPercap respectively. You can use the max() function to find the maximum."
   ]
  },
  {
   "cell_type": "code",
   "execution_count": null,
   "metadata": {},
   "outputs": [],
   "source": [
    "library(gapminder)\n",
    "library(dplyr)\n",
    "\n",
    "# Filter for 1957 then summarize the median life expectancy and the maximum GDP per capita\n",
    "gapminder %>%\n",
    "  filter(year == 1957) %>%\n",
    "  summarize(medianLifeExp = median(lifeExp),\n",
    "            maxGdpPercap = max(gdpPercap))"
   ]
  },
  {
   "cell_type": "markdown",
   "metadata": {},
   "source": [
    "# Summarizing by year\n",
    "\n",
    "In a previous exercise, you found the median life expectancy and the maximum GDP per capita in the year 1957. Now, you'll perform those two summaries within each year in the dataset, using the group_by verb.\n",
    "\n",
    "# Instructions:\n",
    "\n",
    "- Find the median life expectancy (lifeExp) and maximum GDP per capita (gdpPercap) within each year, saving them into medianLifeExp and maxGdpPercap, respectively."
   ]
  },
  {
   "cell_type": "code",
   "execution_count": null,
   "metadata": {},
   "outputs": [],
   "source": [
    "library(gapminder)\n",
    "library(dplyr)\n",
    "\n",
    "# Find median life expectancy and maximum GDP per capita in each year\n",
    "gapminder %>%\n",
    "  group_by(year) %>%\n",
    "  summarize(medianLifeExp = median(lifeExp),\n",
    "            maxGdpPercap = max(gdpPercap))"
   ]
  },
  {
   "cell_type": "markdown",
   "metadata": {},
   "source": [
    "# Summarizing by continent\n",
    "\n",
    "You can group by any variable in your dataset to create a summary. Rather than comparing across time, you might be interested in comparing among continents. You'll want to do that within one year of the dataset: let's use 1957.\n",
    "\n",
    "# Instructions:\n",
    "\n",
    "- Filter the gapminder data for the year 1957. Then find the median life expectancy (lifeExp) and maximum GDP per capita (gdpPercap) within each continent, saving them into medianLifeExp and maxGdpPercap, respectively."
   ]
  },
  {
   "cell_type": "code",
   "execution_count": null,
   "metadata": {},
   "outputs": [],
   "source": [
    "library(gapminder)\n",
    "library(dplyr)\n",
    "\n",
    "# Find median life expectancy and maximum GDP per capita in each continent in 1957\n",
    "gapminder %>%\n",
    "  filter(year == 1957) %>%\n",
    "  group_by(continent) %>%\n",
    "  summarize(medianLifeExp = median(lifeExp),\n",
    "            maxGdpPercap = max(gdpPercap))"
   ]
  },
  {
   "cell_type": "markdown",
   "metadata": {},
   "source": [
    "# Summarizing by continent and year\n",
    "\n",
    "Instead of grouping just by year, or just by continent, you'll now group by both continent and year to summarize within each.\n",
    "\n",
    "# Instructions:\n",
    "\n",
    "- Find the median life expectancy (lifeExp) and maximum GDP per capita (gdpPercap) within each combination of continent and year, saving them into medianLifeExp and maxGdpPercap, respectively."
   ]
  },
  {
   "cell_type": "code",
   "execution_count": null,
   "metadata": {},
   "outputs": [],
   "source": [
    "library(gapminder)\n",
    "library(dplyr)\n",
    "\n",
    "# Find median life expectancy and maximum GDP per capita in each continent/year combination\n",
    "gapminder %>%\n",
    "  group_by(continent, year) %>%\n",
    "  summarize(medianLifeExp = median(lifeExp),\n",
    "            maxGdpPercap = max(gdpPercap))"
   ]
  },
  {
   "cell_type": "markdown",
   "metadata": {},
   "source": [
    "# Visualizing median life expectancy over time\n",
    "\n",
    "In the last chapter, you summarized the gapminder data to calculate the median life expectancy within each year. This code is provided for you, and is saved (with <-) as the by_year dataset.\n",
    "\n",
    "Now you can use the ggplot2 package to turn this into a visualization of changing life expectancy over time.\n",
    "\n",
    "# Instructions:\n",
    "\n",
    "- Use the by_year dataset to create a scatter plot showing the change of median life expectancy over time, with year on the x-axis and medianLifeExp on the y-axis. Be sure to add expand_limits(y = 0) to make sure the plot's y-axis includes zero."
   ]
  },
  {
   "cell_type": "code",
   "execution_count": null,
   "metadata": {},
   "outputs": [],
   "source": [
    "library(gapminder)\n",
    "library(dplyr)\n",
    "library(ggplot2)\n",
    "\n",
    "by_year <- gapminder %>%\n",
    "  group_by(year) %>%\n",
    "  summarize(medianLifeExp = median(lifeExp),\n",
    "            maxGdpPercap = max(gdpPercap))\n",
    "\n",
    "# Create a scatter plot showing the change in medianLifeExp over time\n",
    "ggplot(by_year, aes(x = year, y = medianLifeExp)) +\n",
    "  geom_point() +\n",
    "  expand_limits(y = 0)"
   ]
  },
  {
   "cell_type": "markdown",
   "metadata": {},
   "source": [
    "# Visualizing median GDP per capita per continent over time\n",
    "\n",
    "In the last exercise you were able to see how the median life expectancy of countries changed over time. Now you'll examine the median GDP per capita instead, and see how the trend differs among continents.\n",
    "\n",
    "# Instructions:\n",
    "\n",
    "- Summarize the gapminder dataset by continent and year, finding the median GDP per capita (gdpPercap) within each and putting it into a column called medianGdpPercap. Use the assignment operator <- to save this summarized data as by_year_continent.\n",
    "- Create a scatter plot showing the change in medianGdpPercap by continent over time. Use color to distinguish between continents, and be sure to add expand_limits(y = 0) so that the y-axis starts at zero."
   ]
  },
  {
   "cell_type": "code",
   "execution_count": null,
   "metadata": {},
   "outputs": [],
   "source": [
    "library(gapminder)\n",
    "library(dplyr)\n",
    "library(ggplot2)\n",
    "\n",
    "# Summarize medianGdpPercap within each continent within each year: by_year_continent\n",
    "by_year_continent <- gapminder %>%\n",
    "  group_by(continent, year) %>%\n",
    "  summarize(medianGdpPercap = median(gdpPercap))\n",
    "\n",
    "# Plot the change in medianGdpPercap in each continent over time\n",
    "ggplot(by_year_continent, aes(x = year, y = medianGdpPercap, color = continent)) +\n",
    "  geom_point() +\n",
    "  expand_limits(y = 0)"
   ]
  },
  {
   "cell_type": "markdown",
   "metadata": {},
   "source": [
    "# Comparing median life expectancy and median GDP per continent in 2007\n",
    "\n",
    "In these exercises you've generally created plots that show change over time. But as another way of exploring your data visually, you can also use ggplot2 to plot summarized data to compare continents within a single year.\n",
    "\n",
    "# Instructions:\n",
    "\n",
    "- Filter the gapminder dataset for the year 2007, then summarize the median GDP per capita and the median life expectancy within each continent, into columns called medianLifeExp and medianGdpPercap. Save this as by_continent_2007.\n",
    "- Use the by_continent_2007 data to create a scatterplot comparing these summary statistics for continents in 2007, putting the median GDP per capita on the x-axis to the median life expectancy on the y-axis. Color the scatter plot by continent. You don't need to add expand_limits(y = 0) for this plot."
   ]
  },
  {
   "cell_type": "code",
   "execution_count": null,
   "metadata": {},
   "outputs": [],
   "source": [
    "library(gapminder)\n",
    "library(dplyr)\n",
    "library(ggplot2)\n",
    "\n",
    "# Summarize the median GDP and median life expectancy per continent in 2007\n",
    "by_continent_2007 <- gapminder %>%\n",
    "  filter(year == 2007) %>%\n",
    "  group_by(continent) %>%\n",
    "  summarize(medianGdpPercap = median(gdpPercap),\n",
    "            medianLifeExp = median(lifeExp))\n",
    "\n",
    "# Use a scatter plot to compare the median GDP and median life expectancy\n",
    "ggplot(by_continent_2007, aes(x = medianGdpPercap, y = medianLifeExp, color = continent)) +\n",
    "  geom_point()"
   ]
  }
 ],
 "metadata": {
  "language_info": {
   "name": "python"
  }
 },
 "nbformat": 4,
 "nbformat_minor": 2
}
