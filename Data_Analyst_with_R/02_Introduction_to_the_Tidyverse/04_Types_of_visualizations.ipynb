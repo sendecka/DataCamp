{
 "cells": [
  {
   "cell_type": "markdown",
   "metadata": {},
   "source": [
    "# 4 Types of visualizations\n",
    "\n",
    "In this chapter, you'll learn how to create line plots, bar plots, histograms, and boxplots. You'll see how each plot requires different methods of data manipulation and preparation, and you’ll understand how each of these plot types plays a different role in data analysis."
   ]
  },
  {
   "cell_type": "markdown",
   "metadata": {},
   "source": [
    "# Visualizing median GDP per capita over time\n",
    "\n",
    "A line plot is useful for visualizing trends over time. In this exercise, you'll examine how the median GDP per capita has changed over time.\n",
    "\n",
    "# Instructions:\n",
    "\n",
    "- Use group_by() and summarize() to find the median GDP per capita within each year, calling the output column medianGdpPercap. Use the assignment operator <- to save it to a dataset called by_year.\n",
    "- Use the by_year dataset to create a line plot showing the change in median GDP per capita over time. Be sure to use expand_limits(y = 0) to include 0 on the y-axis."
   ]
  },
  {
   "cell_type": "code",
   "execution_count": null,
   "metadata": {},
   "outputs": [],
   "source": [
    "library(gapminder)\n",
    "library(dplyr)\n",
    "library(ggplot2)\n",
    "\n",
    "# Summarize the median gdpPercap by year, then save it as by_year\n",
    "by_year <- gapminder %>%\n",
    "  group_by(year) %>%\n",
    "  summarize(medianGdpPercap = median(gdpPercap))\n",
    "\n",
    "# Create a line plot showing the change in medianGdpPercap over time\n",
    "ggplot(by_year, aes(x = year, y = medianGdpPercap)) +\n",
    "  geom_line() +\n",
    "  expand_limits(y = 0)"
   ]
  },
  {
   "cell_type": "markdown",
   "metadata": {},
   "source": [
    "# Visualizing median GDP per capita by continent over time\n",
    "\n",
    "In the last exercise you used a line plot to visualize the increase in median GDP per capita over time. Now you'll examine the change within each continent.\n",
    "\n",
    "# Instructions:\n",
    "\n",
    "- Use group_by() and summarize() to find the median GDP per capita within each year and continent, calling the output column medianGdpPercap. Use the assignment operator <- to save it to a dataset called by_year_continent.\n",
    "- Use the by_year_continent dataset to create a line plot showing the change in median GDP per capita over time, with color representing continent. Be sure to use expand_limits(y = 0) to include 0 on the y-axis."
   ]
  },
  {
   "cell_type": "code",
   "execution_count": null,
   "metadata": {},
   "outputs": [],
   "source": [
    "library(gapminder)\n",
    "library(dplyr)\n",
    "library(ggplot2)\n",
    "\n",
    "# Summarize the median gdpPercap by year & continent, save as by_year_continent\n",
    "by_year_continent <- gapminder %>%\n",
    "  group_by(year, continent) %>%\n",
    "  summarize(medianGdpPercap = median(gdpPercap))\n",
    "\n",
    "# Create a line plot showing the change in medianGdpPercap by continent over time\n",
    "ggplot(by_year_continent, aes(x = year, y = medianGdpPercap, color = continent)) +\n",
    "  geom_line() +\n",
    "  expand_limits(y = 0)"
   ]
  },
  {
   "cell_type": "markdown",
   "metadata": {},
   "source": [
    "# Visualizing median GDP per capita by continent\n",
    "\n",
    "A bar plot is useful for visualizing summary statistics, such as the median GDP in each continent.\n",
    "\n",
    "# Instructions:\n",
    "\n",
    "- Use group_by() and summarize() to find the median GDP per capita within each continent in the year 1952, calling the output column medianGdpPercap. Use the assignment operator <- to save it to a dataset called by_continent.\n",
    "- Use the by_continent dataset to create a bar plot showing the median GDP per capita in each continent."
   ]
  },
  {
   "cell_type": "code",
   "execution_count": null,
   "metadata": {},
   "outputs": [],
   "source": [
    "library(gapminder)\n",
    "library(dplyr)\n",
    "library(ggplot2)\n",
    "\n",
    "# Summarize the median gdpPercap by continent in 1952\n",
    "by_continent <- gapminder %>%\n",
    "  filter(year == 1952) %>%\n",
    "  group_by(continent) %>%\n",
    "  summarize(medianGdpPercap = median(gdpPercap))\n",
    "\n",
    "# Create a bar plot showing medianGdp by continent\n",
    "ggplot(by_continent, aes(x = continent, y = medianGdpPercap)) +\n",
    "  geom_col()"
   ]
  },
  {
   "cell_type": "markdown",
   "metadata": {},
   "source": [
    "# Visualizing GDP per capita by country in Oceania\n",
    "\n",
    "You've created a plot where each bar represents one continent, showing the median GDP per capita for each. But the x-axis of the bar plot doesn't have to be the continent: you can instead create a bar plot where each bar represents a country.\n",
    "\n",
    "In this exercise, you'll create a bar plot comparing the GDP per capita between the two countries in the Oceania continent (Australia and New Zealand).\n",
    "\n",
    "# Instructions:\n",
    "\n",
    "- Filter for observations in the Oceania continent in the year 1952. Save this as oceania_1952.\n",
    "- Use the oceania_1952 dataset to create a bar plot, with country on the x-axis and gdpPercap on the y-axis."
   ]
  },
  {
   "cell_type": "code",
   "execution_count": null,
   "metadata": {},
   "outputs": [],
   "source": [
    "library(gapminder)\n",
    "library(dplyr)\n",
    "library(ggplot2)\n",
    "\n",
    "# Filter for observations in the Oceania continent in 1952\n",
    "oceania_1952 <- gapminder %>%\n",
    "  filter(continent == \"Oceania\", year == 1952)\n",
    "\n",
    "# Create a bar plot of gdpPercap by country\n",
    "ggplot(oceania_1952, aes(x = country, y = gdpPercap)) +\n",
    "  geom_col()"
   ]
  },
  {
   "cell_type": "markdown",
   "metadata": {},
   "source": [
    "# Visualizing population\n",
    "\n",
    "A histogram is useful for examining the distribution of a numeric variable. In this exercise, you'll create a histogram showing the distribution of country populations (by millions) in the year 1952.\n",
    "\n",
    "Code for generating this dataset, gapminder_1952, is provided.\n",
    "\n",
    "# Instructions:\n",
    "\n",
    "- Use the gapminder_1952 dataset to create a histogram of country population (pop_by_mil) in the year 1952. Inside the histogram geom, set the number of bins to 50."
   ]
  },
  {
   "cell_type": "code",
   "execution_count": null,
   "metadata": {},
   "outputs": [],
   "source": [
    "library(gapminder)\n",
    "library(dplyr)\n",
    "library(ggplot2)\n",
    "\n",
    "gapminder_1952 <- gapminder %>%\n",
    "  filter(year == 1952) %>%\n",
    "  mutate(pop_by_mil = pop / 1000000)\n",
    "\n",
    "# Create a histogram of population (pop_by_mil)\n",
    "ggplot(gapminder_1952, aes(x = pop_by_mil)) +\n",
    "  geom_histogram(bins = 50)"
   ]
  },
  {
   "cell_type": "markdown",
   "metadata": {},
   "source": [
    "# Visualizing population with x-axis on a log scale\n",
    "\n",
    "In the last exercise you created a histogram of populations across countries. You might have noticed that there were several countries with a much higher population than others, which causes the distribution to be very skewed, with most of the distribution crammed into a small part of the graph. (Consider that it's hard to tell the median or the minimum population from that histogram).\n",
    "\n",
    "To make the histogram more informative, you can try putting the x-axis on a log scale.\n",
    "\n",
    "# Instructions:\n",
    "\n",
    "- Use the gapminder_1952 dataset (code is provided) to create a histogram of country population (pop) in the year 1952, putting the x-axis on a log scale with scale_x_log10()."
   ]
  },
  {
   "cell_type": "code",
   "execution_count": null,
   "metadata": {},
   "outputs": [],
   "source": [
    "library(gapminder)\n",
    "library(dplyr)\n",
    "library(ggplot2)\n",
    "\n",
    "gapminder_1952 <- gapminder %>%\n",
    "  filter(year == 1952)\n",
    "\n",
    "# Create a histogram of population (pop), with x on a log scale\n",
    "ggplot(gapminder_1952, aes(x = pop)) +\n",
    "  geom_histogram() +\n",
    "  scale_x_log10()"
   ]
  },
  {
   "cell_type": "markdown",
   "metadata": {},
   "source": [
    "# Comparing GDP per capita across continents\n",
    "\n",
    "A boxplot is useful for comparing a distribution of values across several groups. In this exercise, you'll examine the distribution of GDP per capita by continent. Since GDP per capita varies across several orders of magnitude, you'll need to put the y-axis on a log scale.\n",
    "\n",
    "# Instructions:\n",
    "\n",
    "- Use the gapminder_1952 dataset (code is provided) to create a boxplot comparing GDP per capita (gdpPercap) among continents. Put the y-axis on a log scale with scale_y_log10()."
   ]
  },
  {
   "cell_type": "code",
   "execution_count": null,
   "metadata": {},
   "outputs": [],
   "source": [
    "library(gapminder)\n",
    "library(dplyr)\n",
    "library(ggplot2)\n",
    "\n",
    "gapminder_1952 <- gapminder %>%\n",
    "  filter(year == 1952)\n",
    "\n",
    "# Create a boxplot comparing gdpPercap among continents\n",
    "ggplot(gapminder_1952, aes(x = continent, y = gdpPercap)) +\n",
    "  geom_boxplot() +\n",
    "  scale_y_log10()"
   ]
  },
  {
   "cell_type": "markdown",
   "metadata": {},
   "source": [
    "# Adding a title to your graph\n",
    "\n",
    "There are many other options for customizing a ggplot2 graph, which you can learn about in other DataCamp courses. You can also learn about them from online resources, which is an important skill to develop.\n",
    "\n",
    "As the final exercise in this course, you'll practice looking up ggplot2 instructions by completing a task we haven't shown you how to do.\n",
    "\n",
    "# Instructions:\n",
    "\n",
    "- Add a title to the graph: Comparing GDP per capita across continents. Use a search engine, such as Google or Bing, to learn how to do so.\n",
    "- After this exercise you are almost done with your course. If you enjoyed the material, feel free to send Dave a thank you via twitter. He'll appreciate it. Tweet to Dave"
   ]
  },
  {
   "cell_type": "code",
   "execution_count": null,
   "metadata": {},
   "outputs": [],
   "source": [
    "library(gapminder)\n",
    "library(dplyr)\n",
    "library(ggplot2)\n",
    "\n",
    "gapminder_1952 <- gapminder %>%\n",
    "  filter(year == 1952)\n",
    "\n",
    "# Add a title to this graph: \"Comparing GDP per capita across continents\"\n",
    "ggplot(gapminder_1952, aes(x = continent, y = gdpPercap)) +\n",
    "  geom_boxplot() +\n",
    "  scale_y_log10() +\n",
    "  ggtitle(\"Comparing GDP per capita across continents\")"
   ]
  }
 ],
 "metadata": {
  "language_info": {
   "name": "python"
  }
 },
 "nbformat": 4,
 "nbformat_minor": 2
}
