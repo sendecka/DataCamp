{
 "cells": [
  {
   "cell_type": "markdown",
   "metadata": {},
   "source": [
    "# 1 Data wrangling\n",
    "\n",
    "In this chapter, you'll learn to do three things with a table: filter for particular observations, arrange the observations in a desired order, and mutate to add or change a column. You'll see how each of these steps allows you to answer questions about your data."
   ]
  },
  {
   "cell_type": "markdown",
   "metadata": {},
   "source": [
    "# Loading the gapminder and dplyr packages\n",
    "\n",
    "Before you can work with the gapminder dataset, you'll need to load two R packages that contain the tools for working with it, then display the gapminder dataset so that you can see what it contains.\n",
    "\n",
    "To your right, you'll see two windows inside which you can enter code: The script.R window, and the R Console. All of your code to solve each exercise must go inside script.R.\n",
    "\n",
    "If you hit Submit Answer, your R script is executed and the output is shown in the R Console. DataCamp checks whether your submission is correct and gives you feedback. You can hit Submit Answer as often as you want. If you're stuck, you can ask for a hint or a solution.\n",
    "\n",
    "You can use the R Console interactively by simply typing R code and hitting Enter. When you work in the console directly, your code will not be checked for correctness so it is a great way to experiment and explore.\n",
    "\n",
    "This course introduces a lot of new concepts, so if you ever need a quick refresher, download the Tidyverse For Beginners Cheat Sheet and keep it handy!"
   ]
  },
  {
   "cell_type": "markdown",
   "metadata": {},
   "source": [
    "# Instructions:\n",
    "\n",
    "- Use the library() function to load the dplyr package, just like we've loaded the gapminder package for you.\n",
    "- Type gapminder, on its own line, to look at the gapminder dataset."
   ]
  },
  {
   "cell_type": "code",
   "execution_count": null,
   "metadata": {},
   "outputs": [],
   "source": [
    "# Load the gapminder package\n",
    "library(gapminder)\n",
    "\n",
    "# Load the dplyr package\n",
    "library(dplyr)\n",
    "\n",
    "# Look at the gapminder dataset\n",
    "gapminder"
   ]
  },
  {
   "cell_type": "markdown",
   "metadata": {},
   "source": [
    "# Understanding a data frame\n",
    "\n",
    "Now that you've loaded the gapminder dataset, you can start examining and understanding it.\n",
    "\n",
    "We've already loaded the gapminder and dplyr packages. Type gapminder in the console, to display the object.\n",
    "\n",
    "How many observations (rows) are in the dataset?\n",
    "\n",
    "# Possible answers:\n",
    "\n",
    "(x) 1704\n",
    "\n",
    "( ) 6\n",
    "\n",
    "( ) 1694\n",
    "\n",
    "( ) 1952"
   ]
  },
  {
   "cell_type": "markdown",
   "metadata": {},
   "source": [
    "# Filtering for one year\n",
    "\n",
    "The filter verb extracts particular observations based on a condition. In this exercise you'll filter for observations from a particular year.\n",
    "\n",
    "# Instructions:\n",
    "\n",
    "- Add a filter() line after the pipe (%>%) to extract only the observations from the year 1957. Remember that you use == to compare two values."
   ]
  },
  {
   "cell_type": "code",
   "execution_count": null,
   "metadata": {},
   "outputs": [],
   "source": [
    "library(gapminder)\n",
    "library(dplyr)\n",
    "\n",
    "# Filter the gapminder dataset for the year 1957\n",
    "gapminder %>%\n",
    "    filter(year == 1957)"
   ]
  },
  {
   "cell_type": "markdown",
   "metadata": {},
   "source": [
    "# Filtering for one country and one year\n",
    "\n",
    "You can also use the filter() verb to set two conditions, which could retrieve a single observation.\n",
    "\n",
    "Just like in the last exercise, you can do this in two lines of code, starting with gapminder %>% and having the filter() on the second line. Keeping one verb on each line helps keep the code readable. Note that each time, you'll put the pipe %>% at the end of the first line (like gapminder %>%); putting the pipe at the beginning of the second line will throw an error.\n",
    "\n",
    "# Instructions:\n",
    "\n",
    "- Filter the gapminder data to retrieve only the observation from China in the year 2002."
   ]
  },
  {
   "cell_type": "code",
   "execution_count": null,
   "metadata": {},
   "outputs": [],
   "source": [
    "library(gapminder)\n",
    "library(dplyr)\n",
    "\n",
    "# Filter for China in 2002\n",
    "gapminder %>%  \n",
    "    filter(year == 2002, country == 'China')"
   ]
  },
  {
   "cell_type": "markdown",
   "metadata": {},
   "source": [
    "# Arranging observations by life expectancy\n",
    "\n",
    "You use arrange() to sort observations in ascending or descending order of a particular variable. In this case, you'll sort the dataset based on the lifeExp variable.\n",
    "\n",
    "# Instructions:\n",
    "\n",
    "- Sort the gapminder dataset in ascending order of life expectancy (lifeExp).\n",
    "- Sort the gapminder dataset in descending order of life expectancy."
   ]
  },
  {
   "cell_type": "code",
   "execution_count": null,
   "metadata": {},
   "outputs": [],
   "source": [
    "library(gapminder)\n",
    "library(dplyr)\n",
    "\n",
    "# Sort in ascending order of lifeExp\n",
    "gapminder %>%  \n",
    "    arrange(lifeExp)\n",
    "  \n",
    "# Sort in descending order of lifeExp\n",
    "gapminder %>%  \n",
    "    arrange(desc(lifeExp))"
   ]
  },
  {
   "cell_type": "markdown",
   "metadata": {},
   "source": [
    "# Filtering and arranging\n",
    "\n",
    "You'll often need to use the pipe operator (%>%) to combine multiple dplyr verbs in a row. In this case, you'll combine a filter() with an arrange() to find the highest population countries in a particular year.\n",
    "\n",
    "# Instructions:\n",
    "\n",
    "- Use filter() to extract observations from just the year 1957, then use arrange() to sort in descending order of population (pop)."
   ]
  },
  {
   "cell_type": "code",
   "execution_count": null,
   "metadata": {},
   "outputs": [],
   "source": [
    "library(gapminder)\n",
    "library(dplyr)\n",
    "\n",
    "# Filter for the year 1957, then arrange in descending order of population\n",
    "gapminder %>%  \n",
    "    filter(year == 1957) %>%  \n",
    "    arrange(desc(pop))"
   ]
  },
  {
   "cell_type": "markdown",
   "metadata": {},
   "source": [
    "# Using mutate to change or create a column\n",
    "\n",
    "Suppose we want life expectancy to be measured in months instead of years: you'd have to multiply the existing value by 12. You can use the mutate() verb to change this column, or to create a new column that's calculated this way.\n",
    "\n",
    "# Instructions:\n",
    "\n",
    "- Use mutate() to change the existing lifeExp column, by multiplying it by 12: 12 * lifeExp.\n",
    "- Use mutate() to add a new column, called lifeExpMonths, calculated as 12 * lifeExp."
   ]
  },
  {
   "cell_type": "code",
   "execution_count": null,
   "metadata": {},
   "outputs": [],
   "source": [
    "library(gapminder)\n",
    "library(dplyr)\n",
    "\n",
    "# Use mutate to change lifeExp to be in months\n",
    "gapminder %>%\n",
    "  mutate(lifeExp = lifeExp * 12)\n",
    "\n",
    "# Use mutate to create a new column called lifeExpMonths\n",
    "gapminder %>%\n",
    "  mutate(lifeExpMonths = lifeExp * 12)"
   ]
  },
  {
   "cell_type": "markdown",
   "metadata": {},
   "source": [
    "# Combining filter, mutate, and arrange\n",
    "\n",
    "In this exercise, you'll combine all three of the verbs you've learned in this chapter, to find the countries with the highest life expectancy, in months, in the year 2007.\n",
    "\n",
    "# Instructions:\n",
    "\n",
    "- In one sequence of pipes on the gapminder dataset:\n",
    "- filter() for observations from the year 2007,\n",
    "- mutate() to create a column lifeExpMonths, calculated as 12 * lifeExp, and\n",
    "- arrange() in descending order of that new column"
   ]
  },
  {
   "cell_type": "code",
   "execution_count": null,
   "metadata": {},
   "outputs": [],
   "source": [
    "library(gapminder)\n",
    "library(dplyr)\n",
    "\n",
    "# Filter, mutate, and arrange the gapminder dataset\n",
    "gapminder %>%\n",
    "  filter(year == 2007) %>%\n",
    "  mutate(lifeExpMonths = 12 * lifeExp) %>%\n",
    "  arrange(desc(lifeExpMonths))"
   ]
  }
 ],
 "metadata": {
  "language_info": {
   "name": "python"
  }
 },
 "nbformat": 4,
 "nbformat_minor": 2
}
