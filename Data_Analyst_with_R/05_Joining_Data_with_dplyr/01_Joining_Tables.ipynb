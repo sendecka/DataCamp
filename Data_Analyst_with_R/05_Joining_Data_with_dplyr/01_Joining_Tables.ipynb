{
 "cells": [
  {
   "cell_type": "markdown",
   "metadata": {},
   "source": [
    "# 1 Joining Tables\n",
    "\n",
    "Get started with your first joining verb: inner-join! You'll learn to join tables together to answer questions about the LEGO dataset, which contains information across many tables about the sets, parts, themes, and colors of LEGOs over time."
   ]
  },
  {
   "cell_type": "markdown",
   "metadata": {},
   "source": [
    "# What columns would you join on?\n",
    "\n",
    "You'll be joining together the parts and part_categories tables. You can first inspect them in the console. To join these two tables together using the inner_join verb, what columns would you join from each table?\n",
    "\n",
    "Since you'll be working with dplyr throughout the course, the package will be preloaded for you in each exercise.\n",
    "\n",
    "# Possible answers\n",
    "\n",
    "( ) c(\"id\" = \"part_num\")\n",
    "\n",
    "(x) c(\"part_cat_id\" = \"id\")\n",
    "\n",
    "( ) c(\"part_num\" = \"part_cat_id\")\n",
    "\n",
    "( ) c(\"part_material_id\" = \"part_categories\")\n",
    "\n"
   ]
  },
  {
   "cell_type": "markdown",
   "metadata": {},
   "source": [
    "# Joining parts and part categories\n",
    "\n",
    "The inner_join is the key to bring tables together. To use it, you need to provide the two tables that must be joined and the columns on which they should be joined.\n",
    "\n",
    "In this exercise, you'll join a list of LEGO parts, available as parts, with these parts' corresponding categories, available as part_categories. For example, the part Sticker Sheet 1 for Set 1650-1 is from the Stickers part category. You can join these tables to see all parts' categories!\n",
    "\n",
    "# Instructions:\n",
    "\n",
    "- Add the correct joining verb, the name of the second table, and the joining column for the second table."
   ]
  },
  {
   "cell_type": "code",
   "execution_count": null,
   "metadata": {},
   "outputs": [],
   "source": [
    "# Add the correct verb, table, and joining column\n",
    "parts %>% \n",
    "  inner_join(part_categories, by = c(\"part_cat_id\" = \"id\"))"
   ]
  },
  {
   "cell_type": "markdown",
   "metadata": {},
   "source": [
    "- Now, use the suffix argument to add \"_part\" and \"_category\" suffixes to replace the name.x and name.y fields."
   ]
  },
  {
   "cell_type": "code",
   "execution_count": null,
   "metadata": {},
   "outputs": [],
   "source": [
    "# Use the suffix argument to replace .x and .y suffixes\n",
    "parts %>% \n",
    "  inner_join(part_categories, by = c(\"part_cat_id\" = \"id\"), \n",
    "                suffix = c(\"_part\", \"_category\"))"
   ]
  },
  {
   "cell_type": "markdown",
   "metadata": {},
   "source": [
    "# Joining parts and inventories\n",
    "\n",
    "The LEGO data has many tables that can be joined together. Often times, some of the things you care about may be a few tables away (we'll get to that later in the course). For now, we know that parts is a list of all LEGO parts, and a new table, inventory_parts, has some additional information about those parts, such as the color_id of each part you would find in a specific LEGO kit.\n",
    "\n",
    "Let's join these two tables together to observe how joining parts with inventory_parts increases the size of your table because of the one-to-many relationship that exists between these two tables.\n",
    "\n",
    "# Instructions:\n",
    "\n",
    "- Connect the parts and inventory_parts tables by their part numbers using an inner join."
   ]
  },
  {
   "cell_type": "code",
   "execution_count": null,
   "metadata": {},
   "outputs": [],
   "source": [
    "# Combine the parts and inventory_parts tables\n",
    "parts %>%\n",
    "  inner_join(inventory_parts, by = \"part_num\")"
   ]
  },
  {
   "cell_type": "markdown",
   "metadata": {},
   "source": [
    "# Joining in either direction\n",
    "\n",
    "An inner_join works the same way with either table in either position. The table that is specified first is arbitrary, since you will end up with the same information in the resulting table either way.\n",
    "\n",
    "Let's prove this by joining the same two tables from the last exercise in the opposite order!\n",
    "\n",
    "# Instructions:\n",
    "\n",
    "- Connect the inventory_parts and parts tables by their part numbers using an inner join."
   ]
  },
  {
   "cell_type": "code",
   "execution_count": null,
   "metadata": {},
   "outputs": [],
   "source": [
    "# Combine the parts and inventory_parts tables\n",
    "inventory_parts %>%\n",
    "  inner_join(parts, by = \"part_num\")"
   ]
  },
  {
   "cell_type": "markdown",
   "metadata": {},
   "source": [
    "# Joining three tables\n",
    "\n",
    "You can string together multiple joins with inner_join and the pipe (%>%), both with which you are already very familiar!\n",
    "\n",
    "We'll now connect sets, a table that tells us about each LEGO kit, with inventories, a table that tells us the specific version of a given set, and finally to inventory_parts, a table which tells us how many of each part is available in each LEGO kit.\n",
    "\n",
    "So if you were building a Batman LEGO set, sets would tell you the name of the set, inventories would give you IDs for each of the versions of the set, and inventory_parts would tell you how many of each part would be in each version.\n",
    "\n",
    "# Instructions:\n",
    "\n",
    "- Combine the inventories table with the sets table.\n",
    "- Next, join the inventory_parts table to the table you created in the previous join by the inventory IDs."
   ]
  },
  {
   "cell_type": "code",
   "execution_count": null,
   "metadata": {},
   "outputs": [],
   "source": [
    "sets %>%\n",
    "  # Add inventories using an inner join \n",
    "  inner_join(inventories, by = \"set_num\") %>%\n",
    "  # Add inventory_parts using an inner join \n",
    "  inner_join(inventory_parts, by = c(\"id\" = \"inventory_id\"))"
   ]
  },
  {
   "cell_type": "markdown",
   "metadata": {},
   "source": [
    "# What's the most common color?\n",
    "\n",
    "Now let's join an additional table, colors, which will tell us the color of each part in each set, so that we can answer the question, \"what is the most common color of a LEGO piece?\"\n",
    "\n",
    "# Instructions:\n",
    "\n",
    "- Inner join the colors table using the color_id column from the previous join and the id column from colors; use the suffixes \"_set\" and \"_color\"."
   ]
  },
  {
   "cell_type": "code",
   "execution_count": null,
   "metadata": {},
   "outputs": [],
   "source": [
    "# Add an inner join for the colors table\n",
    "sets %>%\n",
    "  inner_join(inventories, by = \"set_num\") %>%\n",
    "  inner_join(inventory_parts, by = c(\"id\" = \"inventory_id\")) %>%\n",
    "  inner_join(colors, by = c(\"color_id\" = \"id\"), suffix=c(\"_set\", \"_color\"))"
   ]
  },
  {
   "cell_type": "markdown",
   "metadata": {},
   "source": [
    "- Count the name_color column and sort the results so the most prominent colors appear first."
   ]
  },
  {
   "cell_type": "code",
   "execution_count": null,
   "metadata": {},
   "outputs": [],
   "source": [
    "# Count the number of colors and sort\n",
    "sets %>%\n",
    "  inner_join(inventories, by = \"set_num\") %>%\n",
    "  inner_join(inventory_parts, by = c(\"id\" = \"inventory_id\")) %>%\n",
    "  inner_join(colors, by = c(\"color_id\" = \"id\"), suffix = c(\"_set\", \"_color\")) %>%\n",
    "  count(name_color, sort = TRUE)"
   ]
  }
 ],
 "metadata": {
  "language_info": {
   "name": "python"
  }
 },
 "nbformat": 4,
 "nbformat_minor": 2
}
