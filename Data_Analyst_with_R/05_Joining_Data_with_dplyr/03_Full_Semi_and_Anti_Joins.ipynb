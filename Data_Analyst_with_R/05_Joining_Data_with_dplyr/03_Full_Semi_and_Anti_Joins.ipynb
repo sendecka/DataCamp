{
 "cells": [
  {
   "cell_type": "markdown",
   "metadata": {},
   "source": [
    "# 3 Full, Semi, and Anti Joins\n",
    "\n",
    "In this chapter, you'll cover three more joining verbs: full-join, semi-join, and anti-join. You'll then use these verbs to answer questions about the similarities and differences between a variety of LEGO sets."
   ]
  },
  {
   "cell_type": "markdown",
   "metadata": {},
   "source": [
    "# Differences between Batman and Star Wars\n",
    "\n",
    "In the video, you compared two sets. Now, you'll compare two themes, each of which is made up of many sets.\n",
    "\n",
    "First, you'll need to join in the themes. Recall that doing so requires going through the sets first. You'll use the inventory_parts_joined table from the video, which is already available to you in the console.\n",
    "\n",
    "inventory_parts_joined <- inventories %>%\n",
    "  inner_join(inventory_parts, by = c(\"id\" = \"inventory_id\")) %>%\n",
    "  arrange(desc(quantity)) %>%\n",
    "  select(-id, -version)\n",
    "\n",
    "# Instructions:\n",
    "\n",
    "- In order to join in the themes, you'll first need to combine the inventory_parts_joined and sets tables.\n",
    "- Then, combine the first join with the themes table, using the suffix argument to clarify which table each name came from (\"_set\" or \"_theme\")."
   ]
  },
  {
   "cell_type": "code",
   "execution_count": null,
   "metadata": {},
   "outputs": [],
   "source": [
    "# Start with inventory_parts_joined table\n",
    "inventory_parts_joined %>%\n",
    "  # Combine with the sets table \n",
    "  inner_join(sets, by = \"set_num\") %>%\n",
    "  # Combine with the themes table\n",
    "  inner_join(themes, by = c(\"theme_id\" = \"id\"), suffix = c(\"_set\", \"_theme\"))"
   ]
  },
  {
   "cell_type": "markdown",
   "metadata": {},
   "source": [
    "# Aggregating each theme\n",
    "\n",
    "Previously, you combined tables to compare themes. Before doing this comparison, you'll want to aggregate the data to learn more about the pieces that are a part of each theme, as well as the colors of those pieces.\n",
    "\n",
    "The table you created previously has been preloaded for you as inventory_sets_themes. It was filtered for each theme, and the objects have been saved as batman and star_wars.\n",
    "\n",
    "inventory_sets_themes <- inventory_parts_joined %>%\n",
    "  inner_join(sets, by = \"set_num\") %>%\n",
    "  inner_join(themes, by = c(\"theme_id\" = \"id\"), suffix = c(\"_set\", \"_theme\"))\n",
    "\n",
    "batman <- inventory_sets_themes %>%\n",
    "  filter(name_theme == \"Batman\")\n",
    "\n",
    "star_wars <- inventory_sets_themes %>%\n",
    "  filter(name_theme == \"Star Wars\")\n",
    "\n",
    "# Instructions:\n",
    "\n",
    "- Count the part number and color id for the parts in Batman and Star Wars, weighted by quantity."
   ]
  },
  {
   "cell_type": "code",
   "execution_count": null,
   "metadata": {},
   "outputs": [],
   "source": [
    "# Count the part number and color id, weight by quantity\n",
    "batman %>%\n",
    "  count(part_num, color_id, wt = quantity)\n",
    "\n",
    "star_wars %>%\n",
    "  count(part_num, color_id, wt = quantity)"
   ]
  },
  {
   "cell_type": "markdown",
   "metadata": {},
   "source": [
    "# Full joining Batman and Star Wars LEGO parts\n",
    "\n",
    "Now that you've got separate tables for the pieces in the batman and star_wars themes, you'll want to be able to combine them to see any similarities or differences between the two themes. The aggregating from the last exercise has been saved as batman_parts and star_wars_parts, and is preloaded for you.\n",
    "\n",
    "batman_parts <- batman %>%\n",
    "  count(part_num, color_id, wt = quantity)\n",
    "\n",
    "star_wars_parts <- star_wars %>%\n",
    "  count(part_num, color_id, wt = quantity)\n",
    "\n",
    "# Instructions:\n",
    "\n",
    "- Combine the star_wars_parts table with the batman_parts table; use the suffix argument to include the \"_batman\" and \"_star_wars\" suffixes.\n",
    "- Replace all the NA values in the n_batman and n_star_wars columns with 0s."
   ]
  },
  {
   "cell_type": "code",
   "execution_count": null,
   "metadata": {},
   "outputs": [],
   "source": [
    "batman_parts %>%\n",
    "  # Combine the star_wars_parts table \n",
    "  full_join(star_wars_parts, by = c(\"part_num\", \"color_id\"), suffix = c(\"_batman\", \"_star_wars\")) %>%\n",
    "  # Replace NAs with 0s in the n_batman and n_star_wars columns \n",
    "  replace_na(list(n_batman = 0, n_star_wars = 0))"
   ]
  },
  {
   "cell_type": "markdown",
   "metadata": {},
   "source": [
    "# Comparing Batman and Star Wars LEGO parts\n",
    "\n",
    "The table you created in the last exercise includes the part number of each piece, the color id, and the number of each piece in the Star Wars and Batman themes. However, we have more information about each of these parts that we can gain by combining this table with some of the information we have in other tables. Before we compare the themes, let's ensure that we have enough information to make our findings more interpretable. The table from the last exercise has been saved as parts_joined and is preloaded for you.\n",
    "\n",
    "parts_joined <- batman_parts %>%\n",
    "  full_join(star_wars_parts, by = c(\"part_num\", \"color_id\"), suffix = c(\"_batman\", \"_star_wars\")) %>%\n",
    "  replace_na(list(n_batman = 0, n_star_wars = 0))\n",
    "\n",
    "# Instructions:\n",
    "\n",
    "- Sort the number of star wars pieces in the parts_joined table in descending order.\n",
    "- Inner join the colors table to the parts_joined table.\n",
    "- Combine the parts table to the previous join using an inner join; add \"_color\" and \"_part\" suffixes to specify whether or not the information came from the colors table or the parts table."
   ]
  },
  {
   "cell_type": "code",
   "execution_count": null,
   "metadata": {},
   "outputs": [],
   "source": [
    "parts_joined %>%\n",
    "  # Sort the number of star wars pieces in descending order \n",
    "  arrange(desc(n_star_wars)) %>%\n",
    "  # Join the colors table to the parts_joined table\n",
    "  inner_join(colors, by = c(\"color_id\" = \"id\")) %>%\n",
    "  # Join the parts table to the previous join \n",
    "  inner_join(parts, by = \"part_num\", suffix = c(\"_color\", \"_part\"))"
   ]
  },
  {
   "cell_type": "markdown",
   "metadata": {},
   "source": [
    "# Something within one set but not another\n",
    "\n",
    "In the videos, you learned how to filter using the semi- and anti join verbs to answer questions you have about your data. Let's focus on the batwing dataset, and use our skills to determine which parts are in both the batwing and batmobile sets, and which sets are in one, but not the other. While answering these questions, we'll also be determining whether or not the parts we're looking at in both sets also have the same color in common.\n",
    "\n",
    "The batmobile and batwing datasets have been preloaded for you.\n",
    "\n",
    "batmobile <- inventory_parts_joined %>%\n",
    "  filter(set_num == \"7784-1\") %>%\n",
    "  select(-set_num)\n",
    "\n",
    "batwing <- inventory_parts_joined %>%\n",
    "  filter(set_num == \"70916-1\") %>%\n",
    "  select(-set_num)\n",
    "\n",
    "# Instructions:\n",
    "\n",
    "- Filter the batwing set for parts that are also in the batmobile, whether or not they have the same color.\n",
    "- Filter the batwing set for parts that aren't also in the batmobile, whether or not they have the same color."
   ]
  },
  {
   "cell_type": "code",
   "execution_count": null,
   "metadata": {},
   "outputs": [],
   "source": [
    "# Filter the batwing set for parts that are also in the batmobile set\n",
    "batwing %>%\n",
    "  semi_join(batmobile, by = c(\"part_num\"))\n",
    "\n",
    "# Filter the batwing set for parts that aren't in the batmobile set\n",
    "batwing %>%\n",
    "  anti_join(batmobile, by = c(\"part_num\"))"
   ]
  },
  {
   "cell_type": "markdown",
   "metadata": {},
   "source": [
    "# What colors are included in at least one set?\n",
    "\n",
    "Besides comparing two sets directly, you could also use a filtering join like semi_join to find out which colors ever appear in any inventory part. Some of the colors could be optional, meaning they aren't included in any sets.\n",
    "\n",
    "The inventory_parts and colors tables have been preloaded for you.\n",
    "\n",
    "# Instructions:\n",
    "\n",
    "- Use the inventory_parts table to find the colors that are included in at least one set."
   ]
  },
  {
   "cell_type": "code",
   "execution_count": null,
   "metadata": {},
   "outputs": [],
   "source": [
    "# Use inventory_parts to find colors included in at least one set\n",
    "colors %>%\n",
    "  semi_join(inventory_parts, by = c(\"id\" = \"color_id\")) "
   ]
  },
  {
   "cell_type": "markdown",
   "metadata": {},
   "source": [
    "# Which set is missing version 1?\n",
    "\n",
    "Each set included in the LEGO data has an associated version number. We want to understand the version we are looking at to learn more about the parts that are included. Before doing that, we should confirm that there aren't any sets that are missing a particular version.\n",
    "\n",
    "Let's start by looking at the first version of each set to see if there are any sets that don't include a first version.\n",
    "\n",
    "# Instructions:\n",
    "\n",
    "- Use filter() to extract version 1 from the inventories table; save the filter to version_1_inventories.\n",
    "- Use anti_join to combine version_1_inventories with sets to determine which set is missing a version 1."
   ]
  },
  {
   "cell_type": "code",
   "execution_count": null,
   "metadata": {},
   "outputs": [],
   "source": [
    "# Use filter() to extract version 1 \n",
    "version_1_inventories <- inventories %>%\n",
    "  filter(version == 1)\n",
    "\n",
    "# Use anti_join() to find which set is missing a version 1\n",
    "sets %>%\n",
    "  anti_join(version_1_inventories, by = \"set_num\")"
   ]
  },
  {
   "cell_type": "markdown",
   "metadata": {},
   "source": [
    "# Aggregating sets to look at their differences\n",
    "\n",
    "To compare two individual sets, and the kinds of LEGO pieces that comprise them, we'll need to aggregate the data into separate themes. Additionally, as we saw in the video, we'll want to add a column so that we can understand the fractions of specific pieces that are part of each set, rather than looking at the numbers of pieces alone.\n",
    "\n",
    "The inventory_parts_themes table has been preloaded for you.\n",
    "\n",
    "inventory_parts_themes <- inventories %>%\n",
    "  inner_join(inventory_parts, by = c(\"id\" = \"inventory_id\")) %>%\n",
    "  arrange(desc(quantity)) %>%\n",
    "  select(-id, -version) %>%\n",
    "  inner_join(sets, by = \"set_num\") %>%\n",
    "  inner_join(themes, by = c(\"theme_id\" = \"id\"), suffix = c(\"_set\", \"_theme\"))\n",
    "\n",
    "# Instructions:\n",
    "\n",
    "- Add a filter for the \"Batman\" theme to create the batman_colors object.\n",
    "- Add a fraction column to batman_colors that displays the total divided by the sum of the total.\n",
    "- Repeat the steps to filter and aggregate the \"Star Wars\" set data to create the star_wars_colors object.\n",
    "- Add a fraction column to star_wars_colors to display the fraction of the total."
   ]
  },
  {
   "cell_type": "code",
   "execution_count": null,
   "metadata": {},
   "outputs": [],
   "source": [
    "batman_colors <- inventory_parts_themes %>%\n",
    "  # Filter the inventory_parts_themes table for the Batman theme\n",
    "  filter(name_theme == \"Batman\") %>%\n",
    "  group_by(color_id) %>%\n",
    "  summarize(total = sum(quantity)) %>%\n",
    "  # Add a percent column of the total divided by the sum of the total \n",
    "  mutate(percent = total / sum(total))\n",
    "\n",
    "# Filter and aggregate the Star Wars set data; add a fraction column\n",
    "star_wars_colors <- inventory_parts_themes %>%\n",
    "  filter(name_theme == \"Star Wars\") %>%\n",
    "  group_by(color_id) %>%\n",
    "  summarize(total = sum(quantity)) %>%\n",
    "  mutate(percent = total / sum(total))"
   ]
  },
  {
   "cell_type": "markdown",
   "metadata": {},
   "source": [
    "# Combining sets\n",
    "\n",
    "The data you aggregated in the last exercise has been preloaded for you as batman_colors and star_wars_colors. Prior to visualizing the data, you'll want to combine these tables to be able to directly compare the themes' colors.\n",
    "\n",
    "batman_colors <- inventory_parts_themes %>%\n",
    "  filter(name_theme == \"Batman\") %>%\n",
    "  group_by(color_id) %>%\n",
    "  summarize(total = sum(quantity)) %>%\n",
    "  mutate(fraction = total / sum(total))\n",
    "star_wars_colors <- inventory_parts_themes %>%\n",
    "  filter(name_theme == \"Star Wars\") %>%\n",
    "  group_by(color_id) %>%\n",
    "  summarize(total = sum(quantity)) %>%\n",
    "  mutate(fraction = total / sum(total))\n",
    "\n",
    "# Instructions::\n",
    "\n",
    "- Join the batman_colors and star_wars_colors tables; be sure to include all observations from both tables.\n",
    "- Replace the NAs in the total_batman and total_star_wars columns."
   ]
  },
  {
   "cell_type": "code",
   "execution_count": null,
   "metadata": {},
   "outputs": [],
   "source": [
    "batman_colors %>%\n",
    "  # Join the Batman and Star Wars colors\n",
    "  full_join(star_wars_colors, by = \"color_id\", suffix = c(\"_batman\", \"_star_wars\")) %>%\n",
    "  # Replace NAs in the total_batman and total_star_wars columns\n",
    "  replace_na(list(total_batman = 0, total_star_wars = 0)) %>%\n",
    "  inner_join(colors, by = c(\"color_id\" = \"id\")) "
   ]
  },
  {
   "cell_type": "markdown",
   "metadata": {},
   "source": [
    "- Add a difference column which is the difference between fraction_batman and fraction_star_wars, and a total column, which is the sum of total_batman and total_star_wars.\n",
    "- Add a filter to select observations where total is at least 200."
   ]
  },
  {
   "cell_type": "code",
   "execution_count": null,
   "metadata": {},
   "outputs": [],
   "source": [
    "batman_colors %>%\n",
    "  full_join(star_wars_colors, by = \"color_id\", suffix = c(\"_batman\", \"_star_wars\")) %>%\n",
    "  replace_na(list(total_batman = 0, total_star_wars = 0)) %>%\n",
    "  inner_join(colors, by = c(\"color_id\" = \"id\")) %>%\n",
    "  # Create the difference and total columns\n",
    "  mutate(difference = fraction_batman - fraction_star_wars,\n",
    "         total = total_batman + total_star_wars) %>%\n",
    "  # Filter for totals greater than 200\n",
    "  filter(total >= 200)"
   ]
  },
  {
   "cell_type": "markdown",
   "metadata": {},
   "source": [
    "# Visualizing the difference: Batman and Star Wars\n",
    "\n",
    "In the last exercise, you created colors_joined. Now you'll create a bar plot with one bar for each color (name), showing the difference in fractions.\n",
    "\n",
    "Because factors and visualization are beyond the scope of this course, we've done some processing for you: here is the code that created the colors_joined table that will be used in the video.\n",
    "\n",
    "colors_joined <- batman_colors %>%\n",
    "  full_join(star_wars_colors, by = \"color_id\", suffix = c(\"_batman\", \"_star_wars\")) %>%\n",
    "  replace_na(list(total_batman = 0, total_star_wars = 0)) %>%\n",
    "  inner_join(colors, by = c(\"color_id\" = \"id\")) %>%\n",
    "  mutate(difference = fraction_batman - fraction_star_wars,\n",
    "         total = total_batman + total_star_wars) %>%\n",
    "  filter(total >= 200) %>%\n",
    "  mutate(name = fct_reorder(name, difference)) \n",
    "\n",
    "# Instructions:\n",
    "\n",
    "- Create a bar plot using the colors_joined table to display the most prominent colors in the Batman and Star Wars themes, with the bars colored by their name."
   ]
  },
  {
   "cell_type": "code",
   "execution_count": null,
   "metadata": {},
   "outputs": [],
   "source": [
    "# Create a bar plot using colors_joined and the name and difference columns\n",
    "ggplot(colors_joined, aes(name, difference, fill = name)) +\n",
    "  geom_col() +\n",
    "  coord_flip() +\n",
    "  scale_fill_manual(values = color_palette, guide = \"none\") +\n",
    "  labs(y = \"Difference: Batman - Star Wars\")"
   ]
  }
 ],
 "metadata": {
  "language_info": {
   "name": "python"
  }
 },
 "nbformat": 4,
 "nbformat_minor": 2
}
