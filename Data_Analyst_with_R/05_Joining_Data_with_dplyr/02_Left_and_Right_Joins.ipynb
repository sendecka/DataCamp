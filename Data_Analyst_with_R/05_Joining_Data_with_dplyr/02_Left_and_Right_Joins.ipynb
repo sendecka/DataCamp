{
 "cells": [
  {
   "cell_type": "markdown",
   "metadata": {},
   "source": [
    "# 2 Left and Right Joins\n",
    "\n",
    "Learn two more mutating joins, the left and right join, which are mirror images of each other! You'll learn use cases for each type of join as you explore parts and colors of LEGO themes. Then, you'll explore how to join tables to themselves to understand the hierarchy of LEGO themes in the data."
   ]
  },
  {
   "cell_type": "markdown",
   "metadata": {},
   "source": [
    "# Left joining two sets by part and color\n",
    "\n",
    "In the video, you learned how to left join two LEGO sets. Now you'll practice your ability to do this looking at two new sets: the Millennium Falcon and Star Destroyer sets. We've created these for you and they have been preloaded for you:\n",
    "\n",
    "millennium_falcon <- inventory_parts_joined %>%\n",
    "  filter(set_num == \"7965-1\")\n",
    "star_destroyer <- inventory_parts_joined %>%\n",
    "  filter(set_num == \"75190-1\")\n",
    "\n",
    "# Instructions:\n",
    "\n",
    "- Left join the star_destroyer and millennium_falcon tables on the part_num and color_id columns with the suffixes _falcon and _star_destroyer."
   ]
  },
  {
   "cell_type": "code",
   "execution_count": null,
   "metadata": {},
   "outputs": [],
   "source": [
    "# Combine the star_destroyer and millennium_falcon tables\n",
    "millennium_falcon %>%\n",
    "  left_join(star_destroyer, by = c(\"part_num\", \"color_id\"), suffix = c(\"_falcon\", \"_star_destroyer\"))"
   ]
  },
  {
   "cell_type": "markdown",
   "metadata": {},
   "source": [
    "# Left joining two sets by color\n",
    "\n",
    "In the videos and the last exercise, you joined two sets based on their part and color. What if you joined the datasets by color alone? As with the last exercise, the Millennium Falcon and Star Destroyer sets have been created and preloaded for you:\n",
    "\n",
    "millennium_falcon <- inventory_parts_joined %>%\n",
    "  filter(set_num == \"7965-1\")\n",
    "star_destroyer <- inventory_parts_joined %>%\n",
    "  filter(set_num == \"75190-1\")\n",
    "\n",
    "# Instructions:\n",
    "\n",
    "- Sum the quantity column by color_id in the Millennium Falcon dataset."
   ]
  },
  {
   "cell_type": "code",
   "execution_count": null,
   "metadata": {},
   "outputs": [],
   "source": [
    "# Aggregate Millennium Falcon for the total quantity in each part\n",
    "millennium_falcon_colors <- millennium_falcon %>%\n",
    "  group_by(color_id) %>%\n",
    "  summarize(total_quantity = sum(quantity))"
   ]
  },
  {
   "cell_type": "markdown",
   "metadata": {},
   "source": [
    "- Now, sum the quantity column by color_id in the Star Destroyer dataset."
   ]
  },
  {
   "cell_type": "code",
   "execution_count": null,
   "metadata": {},
   "outputs": [],
   "source": [
    "# Aggregate Millennium Falcon for the total quantity in each part\n",
    "millennium_falcon_colors <- millennium_falcon %>%\n",
    "  group_by(color_id) %>%\n",
    "  summarize(total_quantity = sum(quantity))\n",
    "\n",
    "# Aggregate Star Destroyer for the total quantity in each part\n",
    "star_destroyer_colors <- star_destroyer %>%\n",
    "  group_by(color_id) %>%\n",
    "  summarize(total_quantity = sum(quantity))"
   ]
  },
  {
   "cell_type": "markdown",
   "metadata": {},
   "source": [
    "- Left join the two datasets, millennium_falcon_colors and star_destroyer_colors, using the color_id column and the _falcon and _star_destroyer suffixes."
   ]
  },
  {
   "cell_type": "code",
   "execution_count": null,
   "metadata": {},
   "outputs": [],
   "source": [
    "# Aggregate Millennium Falcon for the total quantity in each part\n",
    "millennium_falcon_colors <- millennium_falcon %>%\n",
    "  group_by(color_id) %>%\n",
    "  summarize(total_quantity = sum(quantity))\n",
    "\n",
    "# Aggregate Star Destroyer for the total quantity in each part\n",
    "star_destroyer_colors <- star_destroyer %>%\n",
    "  group_by(color_id) %>%\n",
    "  summarize(total_quantity = sum(quantity))\n",
    "\n",
    "# Left join the Millennium Falcon colors to the Star Destroyer colors\n",
    "millennium_falcon_colors %>%\n",
    "  left_join(star_destroyer_colors, by = \"color_id\", suffix= c(\"_falcon\", \"_star_destroyer\"))"
   ]
  },
  {
   "cell_type": "markdown",
   "metadata": {},
   "source": [
    "# Finding an observation that doesn't have a match\n",
    "\n",
    "Left joins are really great for testing your assumptions about a data set and ensuring your data has integrity.\n",
    "\n",
    "For example, the inventories table has a version column, for when a LEGO kit gets some kind of change or upgrade. It would be fair to assume that all sets (which joins well with inventories) would have at least a version 1. But let's test this assumption out in the following exercise.\n",
    "\n",
    "# Instructions:\n",
    "\n",
    "- Use a left_join to join together sets and inventory_version_1 using their common column.\n",
    "filter for where the version column is NA using is.na."
   ]
  },
  {
   "cell_type": "code",
   "execution_count": null,
   "metadata": {},
   "outputs": [],
   "source": [
    "inventory_version_1 <- inventories %>%\n",
    "  filter(version == 1)\n",
    "\n",
    "# Join versions to sets\n",
    "sets %>%\n",
    "  left_join(inventory_version_1, by = \"set_num\") %>%\n",
    "  # Filter for where version is na\n",
    "  filter(is.na(version))"
   ]
  },
  {
   "cell_type": "markdown",
   "metadata": {},
   "source": [
    "# Counting part colors\n",
    "\n",
    "Sometimes you'll want to do some processing before you do a join, and prioritize keeping the second (right) table's rows instead. In this case, a right join is for you.\n",
    "\n",
    "In this exercise, we'll count the part_cat_id from parts, before using a right_join to join with part_categories. The reason we do this is because we don't only want to know the count of part_cat_id in parts, but we also want to know if there are any part_cat_ids not present in parts.\n",
    "\n",
    "# Instructions:\n",
    "\n",
    "- Use the count verb to count each part_cat_id in the parts table.\n",
    "- Use a right_join to join part_categories. You'll need to use the part_cat_id from the count and the id column from part_categories."
   ]
  },
  {
   "cell_type": "code",
   "execution_count": null,
   "metadata": {},
   "outputs": [],
   "source": [
    "parts %>%\n",
    "  # Count the part_cat_id\n",
    "  count(part_cat_id) %>%\n",
    "  # Right join part_categories\n",
    "  right_join(part_categories, by = c(\"part_cat_id\" = \"id\"))"
   ]
  },
  {
   "cell_type": "markdown",
   "metadata": {},
   "source": [
    "- filter for where the column n is NA."
   ]
  },
  {
   "cell_type": "code",
   "execution_count": null,
   "metadata": {},
   "outputs": [],
   "source": [
    "parts %>%\n",
    "  count(part_cat_id) %>%\n",
    "  right_join(part_categories, by = c(\"part_cat_id\" = \"id\")) %>%\n",
    "  # Filter for NA\n",
    "  filter(is.na(n))"
   ]
  },
  {
   "cell_type": "markdown",
   "metadata": {},
   "source": [
    "# Cleaning up your count\n",
    "\n",
    "In both left and right joins, there is the opportunity for there to be NA values in the resulting table. Fortunately, the replace_na function can turn those NAs into meaningful values.\n",
    "\n",
    "In the last exercise, we saw that the n column had NAs after the right_join. Let's use the replace_na column, which takes a list of column names and the values with which NAs should be replaced, to clean up our table.\n",
    "\n",
    "# Instructions:\n",
    "\n",
    "- Use replace_na to replace NAs in the n column with the value 0."
   ]
  },
  {
   "cell_type": "code",
   "execution_count": null,
   "metadata": {},
   "outputs": [],
   "source": [
    "parts %>%\n",
    "  count(part_cat_id) %>%\n",
    "  right_join(part_categories, by = c(\"part_cat_id\" = \"id\")) %>%\n",
    "  # Use replace_na to replace missing values in the n column\n",
    "  replace_na(list(n = 0))"
   ]
  },
  {
   "cell_type": "markdown",
   "metadata": {},
   "source": [
    "# Joining themes to their children\n",
    "\n",
    "Tables can be joined to themselves!\n",
    "\n",
    "In the themes table, which is available for you to inspect in the console, you'll notice there is both an id column and a parent_id column. Keeping that in mind, you can join the themes table to itself to determine the parent-child relationships that exist for different themes.\n",
    "\n",
    "In the videos, you saw themes joined to their own parents. In this exercise, you'll try a similar approach of joining themes to their own children, which is similar but reversed. Let's try this out to discover what children the theme \"Harry Potter\" has.\n",
    "\n",
    "# Instructions:\n",
    "\n",
    "- Inner join themes to their own children, resulting in the suffixes \"_parent\" and \"_child\", respectively.\n",
    "- Filter this table to find the children of the \"Harry Potter\" theme."
   ]
  },
  {
   "cell_type": "code",
   "execution_count": null,
   "metadata": {},
   "outputs": [],
   "source": [
    "themes %>% \n",
    "  # Inner join the themes table\n",
    "  inner_join(themes, by = c(\"id\" = \"parent_id\"), suffix = c(\"_parent\", \"_child\")) %>% \n",
    "  # Filter for the \"Harry Potter\" parent name \n",
    "  filter(name_parent == \"Harry Potter\")"
   ]
  },
  {
   "cell_type": "markdown",
   "metadata": {},
   "source": [
    "# Joining themes to their grandchildren\n",
    "\n",
    "We can go a step further than looking at themes and their children. Some themes actually have grandchildren: their children's children.\n",
    "\n",
    "Here, we can inner join themes to a filtered version of itself again to establish a connection between our last join's children and their children.\n",
    "\n",
    "# Instructions:\n",
    "\n",
    "- Use another inner join to combine themes again with itself.\n",
    "- Be sure to use the suffixes \"_parent\" and \"_grandchild\" so the columns in the resulting table are clear.\n",
    "- Update the by argument to specify the correct columns to join on. If you're unsure of what columns to join on, it might help to look at the result of the first join to get a feel for it."
   ]
  },
  {
   "cell_type": "code",
   "execution_count": null,
   "metadata": {},
   "outputs": [],
   "source": [
    "# Join themes to itself again to find the grandchild relationships\n",
    "themes %>% \n",
    "  inner_join(themes, by = c(\"id\" = \"parent_id\"), suffix = c(\"_parent\", \"_child\")) %>%\n",
    "  inner_join(themes, by = c(\"id_child\" = \"parent_id\"), suffix = c(\"_parent\", \"_grandchild\"))"
   ]
  },
  {
   "cell_type": "markdown",
   "metadata": {},
   "source": [
    "# Left joining a table to itself\n",
    "\n",
    "So far, you've been inner joining a table to itself in order to find the children of themes like \"Harry Potter\" or \"The Lord of the Rings\".\n",
    "\n",
    "But some themes might not have any children at all, which means they won't be included in the inner join. As you've learned in this chapter, you can identify those with a left_join and a filter().\n",
    "\n",
    "# Instructions:\n",
    "\n",
    "- Left join the themes table to its own children, with the suffixes _parent and _child respectively.\n",
    "- Filter the result of the join to find themes that have no children."
   ]
  },
  {
   "cell_type": "code",
   "execution_count": null,
   "metadata": {},
   "outputs": [],
   "source": [
    "themes %>% \n",
    "  # Left join the themes table to its own children\n",
    "  left_join(themes, by = c(\"id\" = \"parent_id\"), suffix = c(\"_parent\", \"_child\")) %>%\n",
    "  # Filter for themes that have no child themes\n",
    "  filter(is.na(name_child))"
   ]
  }
 ],
 "metadata": {
  "language_info": {
   "name": "python"
  }
 },
 "nbformat": 4,
 "nbformat_minor": 2
}
