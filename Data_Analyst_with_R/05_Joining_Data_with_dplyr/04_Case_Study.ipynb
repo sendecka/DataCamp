{
 "cells": [
  {
   "cell_type": "markdown",
   "metadata": {},
   "source": [
    "# 4 Case Study: Joins on Stack Overflow Data\n",
    "\n",
    "Put together all the types of join you learned in this course to analyze a new dataset: Stack Overflow questions, answers, and tags. This includes calculating and visualizing trends for some notable tags like dplyr and ggplot2. You'll also master one more method for combining tables, the bind_rows verb, which stacks tables on top of each other."
   ]
  },
  {
   "cell_type": "markdown",
   "metadata": {},
   "source": [
    "# Left joining questions and tags\n",
    "\n",
    "Three of the Stack Overflow survey datasets are questions, question_tags, and tags:\n",
    "\n",
    "questions: an ID and the score, or how many times the question has been upvoted; the data only includes R-based questions\n",
    "question_tags: a tag ID for each question and the question's id\n",
    "tags: a tag id and the tag's name, which can be used to identify the subject of each question, such as ggplot2 or dplyr\n",
    "In this exercise, we'll be stitching together these datasets and replacing NAs in important fields.\n",
    "\n",
    "Note that we'll be using left_joins in this exercise to ensure we keep all questions, even those without a corresponding tag. However, since we know the questions data is all R data, we'll want to manually tag these as R questions with replace_na.\n",
    "\n",
    "# Instructions:\n",
    "\n",
    "- Join together questions and question_tags using the id and question_id columns, respectively."
   ]
  },
  {
   "cell_type": "code",
   "execution_count": null,
   "metadata": {},
   "outputs": [],
   "source": [
    "# Join the questions and question_tags tables\n",
    "questions %>%\n",
    "  left_join(question_tags, by = c(\"id\" = \"question_id\"))"
   ]
  },
  {
   "cell_type": "markdown",
   "metadata": {},
   "source": [
    "- Use another join to add in the tags table."
   ]
  },
  {
   "cell_type": "code",
   "execution_count": null,
   "metadata": {},
   "outputs": [],
   "source": [
    "# Join in the tags table\n",
    "questions %>%\n",
    "  left_join(question_tags, by = c(\"id\" = \"question_id\")) %>%\n",
    "  left_join(tags, by = c(\"tag_id\" = \"id\"))"
   ]
  },
  {
   "cell_type": "markdown",
   "metadata": {},
   "source": [
    "- Use replace_na to change the NAs in the tag_name column to \"only-r\"."
   ]
  },
  {
   "cell_type": "code",
   "execution_count": null,
   "metadata": {},
   "outputs": [],
   "source": [
    "# Replace the NAs in the tag_name column\n",
    "questions %>%\n",
    "  left_join(question_tags, by = c(\"id\" = \"question_id\")) %>%\n",
    "  left_join(tags, by = c(\"tag_id\" = \"id\")) %>%\n",
    "  replace_na(list(tag_name = \"only-r\"))"
   ]
  },
  {
   "cell_type": "markdown",
   "metadata": {},
   "source": [
    "# Comparing scores across tags\n",
    "\n",
    "The complete dataset you created in the last exercise is available to you as questions_with_tags. Let's do a quick bit of analysis on it! You'll use familiar dplyr verbs like group_by, summarize, arrange, and n to find out the average score of the most asked questions.\n",
    "\n",
    "# Instructions:\n",
    "\n",
    "- Aggregate by the tag_name.\n",
    "- Summarize to get the mean score for each question, score, as well as the total number of questions, num_questions.\n",
    "- Arrange num_questions in descending order to sort the answers by the most asked questions."
   ]
  },
  {
   "cell_type": "code",
   "execution_count": null,
   "metadata": {},
   "outputs": [],
   "source": [
    "questions_with_tags %>% \n",
    "  # Group by tag_name\n",
    "  group_by(tag_name) %>%\n",
    "  # Get mean score and num_questions\n",
    "  summarize(score = mean(score),\n",
    "            num_questions = n()) %>%\n",
    "  # Sort num_questions in descending order\n",
    "  arrange(desc(num_questions))"
   ]
  },
  {
   "cell_type": "markdown",
   "metadata": {},
   "source": [
    "# What tags never appear on R questions?\n",
    "\n",
    "The tags table includes all Stack Overflow tags, but some have nothing to do with R. How could you filter for just the tags that never appear on an R question? The tags and question_tags tables have been preloaded for you.\n",
    "\n",
    "# Instructions:\n",
    "\n",
    "- Use a join to determine which tags never appear on an R question."
   ]
  },
  {
   "cell_type": "code",
   "execution_count": null,
   "metadata": {},
   "outputs": [],
   "source": [
    "# Using a join, filter for tags that are never on an R question\n",
    "tags %>%\n",
    "  anti_join(question_tags, by = c(\"id\" = \"tag_id\"))"
   ]
  },
  {
   "cell_type": "markdown",
   "metadata": {},
   "source": [
    "# Finding gaps between questions and answers\n",
    "\n",
    "Now we'll join together questions with answers so we can measure the time between questions and answers.\n",
    "\n",
    "Make sure to explore the tables and columns in the console before starting the exercise. Can you tell how are questions identified in the questions table? How can you identify which answer corresponds to which question using the answers table?\n",
    "\n",
    "# Instructions:\n",
    "\n",
    "- Use an inner join to combine the questions and answers tables using the suffixes \"_question\" and \"_answer\", respectively.\n",
    "- Subtract creation_date_question from creation_date_answer within the as.integer() function to create the gap column."
   ]
  },
  {
   "cell_type": "code",
   "execution_count": null,
   "metadata": {},
   "outputs": [],
   "source": [
    "questions %>%\n",
    "  # Inner join questions and answers with proper suffixes\n",
    "  inner_join(answers, by = c(\"id\" = \"question_id\"), suffix = c(\"_question\", \"_answer\")) %>%\n",
    "  # Subtract creation_date_question from creation_date_answer to create gap\n",
    "  mutate(gap = as.integer(creation_date_answer - creation_date_question)) "
   ]
  },
  {
   "cell_type": "markdown",
   "metadata": {},
   "source": [
    "# Joining question and answer counts\n",
    "\n",
    "We can also determine how many questions actually yield answers. If we count the number of answers for each question, we can then join the answers counts with the questions table.\n",
    "\n",
    "# Instructions:\n",
    "\n",
    "- Count and sort the question_id column in the answers table to create the answer_counts table.\n",
    "- Join the questions table with the answer_counts table and include all observations from the questions table.\n",
    "- Replace the NA values in the n column with 0s."
   ]
  },
  {
   "cell_type": "code",
   "execution_count": null,
   "metadata": {},
   "outputs": [],
   "source": [
    "# Count and sort the question id column in the answers table\n",
    "answer_counts <- answers %>%\n",
    "  count(question_id, sort = TRUE)\n",
    "\n",
    "# Combine the answer_counts and questions tables\n",
    "questions %>%\n",
    "  left_join(answer_counts, by = c(\"id\" = \"question_id\")) %>%\n",
    "  # Replace the NAs in the n column\n",
    "  replace_na(list(n = 0))"
   ]
  },
  {
   "cell_type": "markdown",
   "metadata": {},
   "source": [
    "# Joining questions, answers, and tags\n",
    "\n",
    "Let's build on the last exercise by adding the tags table to our previous joins. This will allow us to do a better job of identifying which R topics get the most traction on Stack Overflow. The tables you created in the last exercise have been preloaded for you as answer_counts and question_answer_counts.\n",
    "\n",
    "answer_counts <- answers %>%\n",
    "    count(question_id, sort = TRUE)\n",
    "\n",
    "question_answer_counts <- questions %>%\n",
    "    left_join(answer_counts, by = c(\"id\" = \"question_id\")) %>%\n",
    "    replace_na(list(n = 0))\n",
    "\n",
    "# Instructions:\n",
    "\n",
    "- Combine the question_tags table with question_answer_counts using an inner_join.\n",
    "- Now, use another inner_join to add the tags table."
   ]
  },
  {
   "cell_type": "code",
   "execution_count": null,
   "metadata": {},
   "outputs": [],
   "source": [
    "question_answer_counts %>%\n",
    "  # Join the question_tags tables\n",
    "  inner_join(question_tags, by = c(\"id\" = \"question_id\")) %>%\n",
    "  # Join the tags table\n",
    "  inner_join(tags, by = c(\"tag_id\" = \"id\"))"
   ]
  },
  {
   "cell_type": "markdown",
   "metadata": {},
   "source": [
    "# Average answers by question\n",
    "\n",
    "The table you created in the last exercise has been preloaded for you as tagged_answers. You can use this table to determine, on average, how many answers each questions gets.\n",
    "\n",
    "tagged_answers <- question_answer_counts %>%\n",
    "    inner_join(question_tags, by = c(\"id\" = \"question_id\")) %>%\n",
    "    inner_join(tags, by = c(\"tag_id\" = \"id\"))\n",
    "Some of the important variables from this table include: n, the number of answers for each question, and tag_name, the name of each tag associated with each question.\n",
    "\n",
    "Let's use some of our favorite dplyr verbs to find out how many answers each question gets on average.\n",
    "\n",
    "# Instructions:\n",
    "\n",
    "- Aggregate the tagged_answers table by tag_name.\n",
    "- Summarize tagged_answers to get the count of questions and the average_answers.\n",
    "- Sort the resulting questions column in descending order."
   ]
  },
  {
   "cell_type": "code",
   "execution_count": null,
   "metadata": {},
   "outputs": [],
   "source": [
    "tagged_answers %>%\n",
    "  # Aggregate by tag_name\n",
    "  group_by(tag_name) %>%\n",
    "  # Summarize questions and average_answers\n",
    "  summarize(questions = n(),\n",
    "            average_answers = mean(n)) %>%\n",
    "  # Sort the questions in descending order\n",
    "  arrange(desc(questions))  "
   ]
  },
  {
   "cell_type": "markdown",
   "metadata": {},
   "source": [
    "# Joining questions and answers with tags\n",
    "\n",
    "To learn more about the questions and answers tables, you'll want to use the question_tags table to understand the tags associated with each question that was asked, and each answer that was provided. You'll be able to combine these tables using two inner joins on both the questions table and the answers table.\n",
    "\n",
    "# Instructions:\n",
    "\n",
    "- Use two inner joins to combine the question_tags and tags tables with the questions table.\n",
    "- Now, use two inner joins to combine the question_tags and tags tables with the answers table."
   ]
  },
  {
   "cell_type": "code",
   "execution_count": null,
   "metadata": {},
   "outputs": [],
   "source": [
    "# Inner join the question_tags and tags tables with the questions table\n",
    "questions %>%\n",
    "  inner_join(question_tags, by = c(\"id\" = \"question_id\")) %>%\n",
    "  inner_join(tags, by = c(\"tag_id\" = \"id\"))\n",
    "\n",
    "# Inner join the question_tags and tags tables with the answers table\n",
    "answers %>%\n",
    "  inner_join(question_tags, by = \"question_id\") %>%\n",
    "  inner_join(tags, by = c(\"tag_id\" = \"id\"))"
   ]
  },
  {
   "cell_type": "markdown",
   "metadata": {},
   "source": [
    "# Binding and counting posts with tags\n",
    "\n",
    "The tables you created in the previous exercise have been preloaded as questions_with_tags and answers_with_tags. First, you'll want to combine these tables into a single table called posts_with_tags. Once the information is consolidated into a single table, you can add more information by creating a date variable using the lubridate package, which has been preloaded for you.\n",
    "\n",
    "questions_with_tags <- questions %>%\n",
    "  inner_join(question_tags, by = c(\"id\" = \"question_id\")) %>%\n",
    "  inner_join(tags, by = c(\"tag_id\" = \"id\"))\n",
    "answers_with_tags <- answers %>%\n",
    "  inner_join(question_tags, by = \"question_id\") %>%\n",
    "  inner_join(tags, by = c(\"tag_id\" = \"id\"))\n",
    "\n",
    "# Instructions:\n",
    "\n",
    "- Combine the questions_with_tags and answers_with_tags tables into posts_with_tags.\n",
    "- Add a year column to the posts_with_tags table, then count posts by type, year, and tag_name."
   ]
  },
  {
   "cell_type": "code",
   "execution_count": null,
   "metadata": {},
   "outputs": [],
   "source": [
    "# Combine the two tables into posts_with_tags\n",
    "posts_with_tags <- bind_rows(questions_with_tags %>% mutate(type = \"question\"),\n",
    "                              answers_with_tags %>% mutate(type = \"answer\"))\n",
    "\n",
    "# Add a year column, then count by type, year, and tag_name\n",
    "posts_with_tags %>%\n",
    "  mutate(year = year(creation_date)) %>%\n",
    "  count(type, year, tag_name)\n"
   ]
  },
  {
   "cell_type": "markdown",
   "metadata": {},
   "source": [
    "# Visualizing questions and answers in tags\n",
    "\n",
    "In the last exercise, you modified the posts_with_tags table to add a year column, and aggregated by type, year, and tag_name. The modified table has been preloaded for you as by_type_year_tag, and has one observation for each type (question/answer), year, and tag. Let's create a plot to examine the information that the table contains about questions and answers for the dplyr and ggplot2 tags. The ggplot2 package has been preloaded for you.\n",
    "\n",
    "by_type_year_tag <- posts_with_tags %>%\n",
    "  mutate(year = year(creation_date)) %>%\n",
    "  count(type, year, tag_name)\n",
    "\n",
    "# Instructions:\n",
    "\n",
    "- Filter the by_type_year_tag table for the dplyr and ggplot2 tags.\n",
    "- Create a line plot with that filtered table that plots the frequency (n) over time, colored by question/answer and faceted by tag."
   ]
  },
  {
   "cell_type": "code",
   "execution_count": null,
   "metadata": {},
   "outputs": [],
   "source": [
    "# Filter for the dplyr and ggplot2 tag names \n",
    "by_type_year_tag_filtered <- by_type_year_tag %>%\n",
    "  filter(tag_name %in% c(\"dplyr\", \"ggplot2\"))\n",
    "\n",
    "# Create a line plot faceted by the tag name \n",
    "ggplot(by_type_year_tag_filtered, aes(year, n, color = type)) +\n",
    "  geom_line() +\n",
    "  facet_wrap(~ tag_name)"
   ]
  }
 ],
 "metadata": {
  "language_info": {
   "name": "python"
  }
 },
 "nbformat": 4,
 "nbformat_minor": 2
}
