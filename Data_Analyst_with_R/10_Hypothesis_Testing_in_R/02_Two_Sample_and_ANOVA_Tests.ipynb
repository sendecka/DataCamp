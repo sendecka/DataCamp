{
 "cells": [
  {
   "cell_type": "markdown",
   "metadata": {},
   "source": [
    "# 2 Two-Sample and ANOVA Tests\n",
    "\n",
    "Learn how to test for differences in means between two groups using t-tests, and how to extend this to more than two groups using ANOVA and pairwise t-tests."
   ]
  },
  {
   "cell_type": "markdown",
   "metadata": {},
   "source": [
    "# Hypothesis testing workflow\n",
    "\n",
    "You've seen the hypothesis testing workflow for the one sample case where you compared a sample mean to a hypothesized value, and the two sample case where you compared two sample means. In both cases, the workflow shared common steps."
   ]
  },
  {
   "cell_type": "markdown",
   "metadata": {},
   "source": [
    "# Two sample mean test statistic\n",
    "\n",
    "The hypothesis test for determining if there is a difference between the means of two populations uses a different type of test statistic to the z-scores you saw in Chapter one. It's called \"t\", and can be calculated from three values from each sample using this equation.\n",
    "\n",
    "While trying to determine why some shipments are late, you may wonder if the weight of the shipments that were late is different from the weight of the shipments that were on time. The late_shipments dataset has been split into a \"yes\" group, where late == \"Yes\" and a \"no\" group where late == \"No\". The weight of the shipment is given in the weight_kilograms variable.\n",
    "\n",
    "For convenience, the sample means for the two groups are available as xbar_no and xbar_yes. The sample standard deviations are s_no and s_yes. The sample sizes are n_no and n_yes.\n",
    "\n",
    "# Instructions:\n",
    "\n",
    "- Calculate the numerator of the test statistic.\n",
    "- Calculate the denominator of the test statistic.\n",
    "- Use those two numbers to calculate the test statistic."
   ]
  },
  {
   "cell_type": "code",
   "execution_count": null,
   "metadata": {},
   "outputs": [],
   "source": [
    "# Calculate the numerator of the test statistic\n",
    "numerator <- xbar_no - xbar_yes\n",
    "\n",
    "# Calculate the denominator of the test statistic\n",
    "denominator <- sqrt(s_no ^ 2 / n_no + s_yes ^ 2 / n_yes)\n",
    "\n",
    "# Calculate the test statistic\n",
    "t_stat <- numerator / denominator\n",
    "\n",
    "# See the result\n",
    "t_stat"
   ]
  },
  {
   "cell_type": "markdown",
   "metadata": {},
   "source": [
    "# Why is t needed?\n",
    "\n",
    "The process for calculating p-values is to start with the sample statistic, standardize it to get a test statistic, then transform it via a cumulative distribution function. In Chapter 1, that final transformation was denoted z, and the CDF transformation used the (standard normal) z-distribution. In the last video, the test statistic was denoted t, and the transformation used the t-distribution.\n",
    "\n",
    "In which hypothesis testing scenario is a t-distribution needed instead of the z-distribution?\n",
    "\n",
    "# Possible Answers\n",
    "\n",
    "(x) The t-distribution is just another name for the z-distribution so they can be used interchangeably.\n",
    "\n",
    "( ) The t-distribution is the same thing as the z-distribution for very small sample sizes.\n",
    "\n",
    "( ) When a sample standard deviation is used in estimating a standard error.\n",
    "\n",
    "( ) When you are comparing the means of two samples, rather than comparing a single sample mean to a value."
   ]
  },
  {
   "cell_type": "markdown",
   "metadata": {},
   "source": [
    "# The t-distribution\n",
    "\n",
    "The t-distribution is used to calculate the p-value from the test statistic, and having a sense of how the PDF and CDF look can help you understand this calculation. It has two parameters: the degrees of freedom, and the non-centrality parameter.\n",
    "\n",
    "The plots show the PDF and CDF for a t-distribution (solid black line), and for comparison show a standard normal distribution with mean 0 and variance 1 (gray dotted line).\n",
    "\n",
    "Which statement about the the t-distribution is true?\n",
    "\n",
    "# Instructions:\n",
    "\n",
    "( ) Like the normal distribution, the PDF of a distribution is always symmetric.\n",
    "\n",
    "( ) As you increase the degrees of freedom, the tails of the t-distribution get fatter.\n",
    "\n",
    "(x) As you increase the degrees of freedom, the t-distribution PDF and CDF curves get closer to those of a normal distribution.\n",
    "\n",
    "( ) As you increase the non-centrality, the t-distribution PDF and CDF curves get closer to those of a normal distribution."
   ]
  },
  {
   "cell_type": "markdown",
   "metadata": {},
   "source": [
    "# From t to p\n",
    "\n",
    "Previously, you calculated the test statistic for the two-sample problem of whether the mean weight of shipments is lower for shipments that weren't late (late == \"No\") compared to shipments that were late (late == \"Yes\"). In order to make decisions about it, you need to transform the test statistic with a cumulative distribution function to get a p-value.\n",
    "\n",
    "Recall the hypotheses:\n",
    "\n",
    ": The mean weight of shipments that weren't late is the same as the mean weight of shipments that were late.\n",
    "\n",
    ": The mean weight of shipments that weren't late is less than the mean weight of shipments that were late.\n",
    "\n",
    "The test statistic, t_stat, is available, as are the samples sizes for each group, n_no and n_yes. Use a significance level of alpha = 0.05.\n",
    "\n",
    "# Instructions:\n",
    "\n",
    "Question\n",
    "What type of test does the alternative hypothesis indicate that we need?\n",
    "\n",
    "(x) Two-tailed\n",
    "\n",
    "( ) Left-tailed\n",
    "\n",
    "( ) Right-tailed"
   ]
  },
  {
   "cell_type": "code",
   "execution_count": null,
   "metadata": {},
   "outputs": [],
   "source": [
    "DM.result = 2"
   ]
  },
  {
   "cell_type": "markdown",
   "metadata": {},
   "source": [
    "- Calculate the degrees of freedom for the test.\n",
    "- Use the test statistic, t_stat, to calculate the p-value."
   ]
  },
  {
   "cell_type": "code",
   "execution_count": null,
   "metadata": {},
   "outputs": [],
   "source": [
    "# Calculate the degrees of freedom\n",
    "degrees_of_freedom <- n_no + n_yes - 2\n",
    "\n",
    "# Calculate the p-value from the test stat\n",
    "p_value <- pt(t_stat, df = degrees_of_freedom)\n",
    "\n",
    "# See the result\n",
    "p_value"
   ]
  },
  {
   "cell_type": "markdown",
   "metadata": {},
   "source": [
    "# Question\n",
    "\n",
    "What decision should you make based on the results of the hypothesis test?\n",
    "\n",
    "# Possible answers\n",
    "\n",
    "(x) Fail to reject the null hypothesis.\n",
    "\n",
    "( ) Reject the null hypothesis.\n",
    "\n",
    "( ) You can't conclude anything from this hypothesis test.\n"
   ]
  },
  {
   "cell_type": "code",
   "execution_count": null,
   "metadata": {},
   "outputs": [],
   "source": [
    "DM.result = 1"
   ]
  },
  {
   "cell_type": "markdown",
   "metadata": {},
   "source": [
    "# Is pairing needed?\n",
    "\n",
    "t-tests are used to compare two sample means. However, the test involves different calculations depending upon whether the two samples are paired or not. To make sure you use the correct version of the t-test, you need to be able to identify pairing."
   ]
  },
  {
   "cell_type": "markdown",
   "metadata": {},
   "source": [
    "# Visualizing the difference\n",
    "\n",
    "Before you start running hypothesis tests, it's a great idea to perform some exploratory data analysis. That is, calculating summary statistics and visualizing distributions.\n",
    "\n",
    "Here, you'll look at the proportion of county-level votes for the Democratic candidate in 2012 and 2016, dem_votes_potus_12_16. Since the counties are the same in both years, these samples are paired. The columns containing the samples are dem_percent_12 and dem_percent_16.\n",
    "\n",
    "dem_votes_potus_12_16 is available; dplyr and ggplot2 are loaded.\n",
    "\n",
    "# Instructions:\n",
    "\n",
    "- View the dem_votes_potus_12_16 dataset.\n",
    "- Mutate dem_votes_potus_12_16 to add a diff column containing the percentage of votes for the democratic candidate in 2012 minus the votes for the democratic candidate in 2016."
   ]
  },
  {
   "cell_type": "code",
   "execution_count": null,
   "metadata": {},
   "outputs": [],
   "source": [
    "# View the dem_votes_potus_12_16 dataset\n",
    "View(dem_votes_potus_12_16)\n",
    "\n",
    "# Calculate the differences from 2012 to 2016\n",
    "sample_dem_data <- dem_votes_potus_12_16 %>% \n",
    "  mutate(diff = dem_percent_12 - dem_percent_16)\n",
    "\n",
    "# See the result\n",
    "sample_dem_data"
   ]
  },
  {
   "cell_type": "markdown",
   "metadata": {},
   "source": [
    "- Summarize sample_dem_data to calculate the mean of the diff column as xbar_diff and the standard deviation of that column as s_diff."
   ]
  },
  {
   "cell_type": "code",
   "execution_count": null,
   "metadata": {},
   "outputs": [],
   "source": [
    "# From previous step\n",
    "sample_dem_data <- dem_votes_potus_12_16 %>% \n",
    "  mutate(diff = dem_percent_12 - dem_percent_16)\n",
    "\n",
    "# Find mean and standard deviation of differences\n",
    "diff_stats <- sample_dem_data %>% \n",
    "  summarize(\n",
    "    xbar_diff = mean(diff),\n",
    "    s_diff = sd(diff)\n",
    "  )\n",
    "\n",
    "# See the result\n",
    "diff_stats"
   ]
  },
  {
   "cell_type": "markdown",
   "metadata": {},
   "source": [
    "- Using sample_dem_data, plot diff as a histogram with binwidth 1."
   ]
  },
  {
   "cell_type": "code",
   "execution_count": null,
   "metadata": {},
   "outputs": [],
   "source": [
    "# From previous step\n",
    "sample_dem_data <- dem_votes_potus_12_16 %>% \n",
    "  mutate(diff = dem_percent_12 - dem_percent_16)\n",
    "\n",
    "# Using sample_dem_data, plot diff as a histogram\n",
    "ggplot(sample_dem_data, aes(x = diff)) +\n",
    "  geom_histogram(binwidth = 1)"
   ]
  },
  {
   "cell_type": "markdown",
   "metadata": {},
   "source": [
    "# Using t.test()\n",
    "\n",
    "Manually calculating test statistics and transforming them with a CDF to get a p-value is a lot of effort to do every time you need to compare two sample means. The comparison of two sample means is called a t-test, and R has a t.test() function to accomplish it. This function provides some flexibility in how you perform the test.\n",
    "\n",
    "As in the previous exercise, you'll explore the difference between the proportion of county-level votes for the Democratic candidate in 2012 and 2016.\n",
    "\n",
    "sample_dem_data is available, and has columns diff, dem_percent_12, and dem_percent_16.\n",
    "\n",
    "# Instructions:\n",
    "\n",
    "- Conduct a t-test on the sample differences (the diff column of sample_dem_data). Use an appropriate alternative hypothesis chosen from \"two.sided\", \"less\", and \"greater\"."
   ]
  },
  {
   "cell_type": "code",
   "execution_count": null,
   "metadata": {},
   "outputs": [],
   "source": [
    "# Conduct a t-test on diff\n",
    "test_results <- t.test(sample_dem_data$diff, alternative = \"greater\")\n",
    "\n",
    "# See the results\n",
    "test_results"
   ]
  },
  {
   "cell_type": "markdown",
   "metadata": {},
   "source": [
    "- Conduct a paired test on the democratic votes in 2012 and 2016 (the dem_percent_12 and dem_percent_16 columns of sample_dem_data). Use an appropriate alternative hypothesis."
   ]
  },
  {
   "cell_type": "code",
   "execution_count": null,
   "metadata": {},
   "outputs": [],
   "source": [
    "# Conduct a paired t-test on dem_percent_12 and dem_percent_16\n",
    "test_results <- t.test(\n",
    "  x = sample_dem_data$dem_percent_12,\n",
    "  y = sample_dem_data$dem_percent_16,\n",
    "  paired = TRUE,\n",
    "  alternative = \"greater\"\n",
    ")\n",
    "\n",
    "# See the results\n",
    "test_results"
   ]
  },
  {
   "cell_type": "markdown",
   "metadata": {},
   "source": [
    "# Question\n",
    "\n",
    "What's the correct decision from the t-test, assuming ?\n",
    "\n",
    "# Possible answers\n",
    "\n",
    "( ) Fail to reject the null hypothesis.\n",
    "\n",
    "(x) Reject the null hypothesis.\n",
    "\n",
    "( ) You can't conclude anything from this hypothesis test."
   ]
  },
  {
   "cell_type": "code",
   "execution_count": null,
   "metadata": {},
   "outputs": [],
   "source": [
    "DM.result = 2"
   ]
  },
  {
   "cell_type": "markdown",
   "metadata": {},
   "source": [
    "# Question\n",
    "\n",
    "Compare the paired t-test to an (inappropriate) unpaired test on the same data. How does the p-value change?\n",
    "\n",
    "# Possible answers\n",
    "\n",
    "( ) The p-value from the unpaired test is smaller than the p-value from the paired test.\n",
    "\n",
    "( ) The p-value from the unpaired test is equal to the p-value from the paired test.\n",
    "\n",
    "(x) The p-value from the unpaired test is greater than than the p-value from the paired test.\n"
   ]
  },
  {
   "cell_type": "code",
   "execution_count": null,
   "metadata": {},
   "outputs": [],
   "source": [
    "DM.result = 3"
   ]
  },
  {
   "cell_type": "markdown",
   "metadata": {},
   "source": [
    "# Visualizing many categories\n",
    "\n",
    "So far in this chapter, we've only considered the case of differences in a numeric variable between two categories. Of course, many datasets contain more categories. Before you get to conducting tests on many categories, it's often helpful to perform exploratory data analysis. That is, calculating summary statistics for each group and visualizing the distributions of the numeric variable for each category using box plots.\n",
    "\n",
    "Here, we'll return to the late shipments data, and how the price of each package (pack_price) varies between the three shipment modes (shipment_mode): \"Air\", \"Air Charter\", and \"Ocean\".\n",
    "\n",
    "late_shipments is available; dplyr and ggplot2 are loaded.\n",
    "\n",
    "# Instructions:\n",
    "\n",
    "( ) Using the late_shipments dataset, group by shipment_mode.\n",
    "( ) Summarize to calculate the mean of pack_price as xbar_pack_price and the standard deviation of pack_price as s_pack_price."
   ]
  },
  {
   "cell_type": "code",
   "execution_count": null,
   "metadata": {},
   "outputs": [],
   "source": [
    "# Using late_shipments, group by shipment mode, and calculate the mean and std dev of pack price\n",
    "late_shipments %>% \n",
    "  group_by(shipment_mode) %>% \n",
    "  summarize(\n",
    "    xbar_pack_price = mean(pack_price),\n",
    "    s_pack_price = sd(pack_price)\n",
    "  )"
   ]
  },
  {
   "cell_type": "markdown",
   "metadata": {},
   "source": [
    "- Using late_shipments, plot pack_price versus shipment_mode as a box plot with flipped x and y coordinates."
   ]
  },
  {
   "cell_type": "code",
   "execution_count": null,
   "metadata": {},
   "outputs": [],
   "source": [
    "# Using late_shipments, plot pack_price vs. shipment_mode\n",
    "# as a box plot with flipped x and y coordinates\n",
    "ggplot(late_shipments, aes(x = shipment_mode, y = pack_price)) +\n",
    "  geom_boxplot() +\n",
    "  coord_flip()"
   ]
  },
  {
   "cell_type": "markdown",
   "metadata": {},
   "source": [
    "# Conducting an ANOVA test\n",
    "\n",
    "The box plots made it look like the distribution of pack price was different for each of the three shipment modes. However, it didn't tell us whether the mean pack price was different in each category. To determine that, we can use an ANOVA test. The null and alternative hypotheses can be written as follows.\n",
    "\n",
    ": Pack prices for every category of shipment mode are the same. \n",
    ": Pack prices for some categories of shipment mode are different.\n",
    "\n",
    "We'll set a significance level of 0.1.\n",
    "\n",
    "late_shipments is available.\n",
    "\n",
    "# Instructions:\n",
    "\n",
    "- Run a linear regression of pack_price versus shipment_mode using the late_shipments dataset. The formula takes the form response ~ explanatory."
   ]
  },
  {
   "cell_type": "code",
   "execution_count": null,
   "metadata": {},
   "outputs": [],
   "source": [
    "# Run a linear regression of pack price vs. shipment mode \n",
    "mdl_pack_price_vs_shipment_mode <- lm(pack_price ~ shipment_mode, data = late_shipments)\n",
    "\n",
    "# See the results\n",
    "summary(mdl_pack_price_vs_shipment_mode)"
   ]
  },
  {
   "cell_type": "markdown",
   "metadata": {},
   "source": [
    "- Perform ANOVA on mdl_pack_price_vs_shipment_mode."
   ]
  },
  {
   "cell_type": "code",
   "execution_count": null,
   "metadata": {},
   "outputs": [],
   "source": [
    "# From previous step\n",
    "mdl_pack_price_vs_shipment_mode <- lm(pack_price ~ shipment_mode, data = late_shipments)\n",
    "\n",
    "# Perform ANOVA on the regression model\n",
    "anova(mdl_pack_price_vs_shipment_mode)"
   ]
  },
  {
   "cell_type": "markdown",
   "metadata": {},
   "source": [
    "# Question\n",
    "\n",
    "Assuming a significance level of 0.1, should you reject the null hypothesis that there is a difference between pack prices between the shipment modes?\n",
    "\n",
    "# Possible answers\n",
    "\n",
    "( ) Yes. The p-value is greater than or equal to the significance level, so the null hypothesis should be rejected.\n",
    "\n",
    "(x) Yes. The p-value is less than or equal to the significance level, so the null hypothesis should be rejected.\n",
    "\n",
    "( ) No. The p-value is greater than or equal to the significance level, so the null hypothesis should fail to be rejected.\n",
    "\n",
    "( ) No. The p-value is less than or equal to the significance level, so the null hypothesis should fail to be rejected.\n"
   ]
  },
  {
   "cell_type": "code",
   "execution_count": null,
   "metadata": {},
   "outputs": [],
   "source": [
    "DM.result = 2"
   ]
  },
  {
   "cell_type": "markdown",
   "metadata": {},
   "source": [
    "# Pairwise t-tests\n",
    "\n",
    "The ANOVA test didn't tell us which categories of shipment mode had significant differences in pack prices. To pinpoint which categories had differences, we could instead use pairwise t-tests.\n",
    "\n",
    "late_shipments is available.\n",
    "\n",
    "# Instructions:\n",
    "\n",
    "- Perform pairwise t-tests on late_shipments's pack_price variable, grouped by shipment_mode. Don't do any p-value adjustment, and keep the default \"two.sided\" alternative hypothesis specification."
   ]
  },
  {
   "cell_type": "code",
   "execution_count": null,
   "metadata": {},
   "outputs": [],
   "source": [
    "# Perform pairwise t-tests on pack price, grouped by shipment mode, no p-value adjustment\n",
    "test_results <- pairwise.t.test(\n",
    "  late_shipments$pack_price,\n",
    "  late_shipments$shipment_mode,\n",
    "  p.adjust.method = \"none\"\n",
    ")\n",
    "\n",
    "# See the results\n",
    "test_results"
   ]
  },
  {
   "cell_type": "markdown",
   "metadata": {},
   "source": [
    "- Modify the pairwise t-tests to use Bonferroni p-value adjustment."
   ]
  },
  {
   "cell_type": "code",
   "execution_count": null,
   "metadata": {},
   "outputs": [],
   "source": [
    "# Modify the pairwise t-tests to use Bonferroni p-value adjustment\n",
    "test_results <- pairwise.t.test(\n",
    "  late_shipments$pack_price,\n",
    "  late_shipments$shipment_mode,\n",
    "  p.adjust.method = \"bonferroni\"\n",
    ")\n",
    "\n",
    "# See the results\n",
    "test_results"
   ]
  },
  {
   "cell_type": "markdown",
   "metadata": {},
   "source": [
    "# Question\n",
    "\n",
    "Assuming a significance level of 0.1, for which pairs of shipment modes should you reject the null hypothesis that the pack prices are equal?\n",
    "\n",
    "# Possible answers\n",
    "\n",
    "( ) \"Ocean\" and \"Air Charter\"; \"Air Charter\" and \"Air\".\n",
    "\n",
    "( ) \"Ocean\" and \"Air\"; \"Air Charter\" and \"Air\".\n",
    "\n",
    "(x) \"Ocean\" and \"Air\" only.\n",
    "\n",
    "( ) \"Ocean\" and \"Air Charter\" only.\n"
   ]
  },
  {
   "cell_type": "code",
   "execution_count": null,
   "metadata": {},
   "outputs": [],
   "source": [
    "DM.result = 3"
   ]
  }
 ],
 "metadata": {
  "language_info": {
   "name": "python"
  }
 },
 "nbformat": 4,
 "nbformat_minor": 2
}
