{
 "cells": [
  {
   "cell_type": "markdown",
   "metadata": {},
   "source": [
    "# 1 Introduction to Hypothesis Testing\n",
    "\n",
    "Learn why hypothesis testing is useful, and step through the workflow for a one sample proportion test. In doing so, you'll encounter important concepts like z-scores, p-p-values, and false negative and false positive errors. The Stack Overflow survey and late medical shipments datasets are introduced."
   ]
  },
  {
   "cell_type": "markdown",
   "metadata": {},
   "source": [
    "# Uses of A/B testing\n",
    "\n",
    "In the video, you saw how Electronic Arts used A/B testing on their website when launching SimCity 5. One version of the page showed an advertisement for a discount, and one version did not. Half the users saw one version of the page, and the other half saw the second version of the page.\n",
    "\n",
    "What is the main reason to use an A/B test?\n",
    "\n",
    "# Possible Answers\n",
    "\n",
    "(x) It lets users vote on their preferred web page.\n",
    "\n",
    "( ) It allows you to only give discounts to half your users.\n",
    "\n",
    "( ) It is a method used to directly determine the sample size needed for your analysis.\n",
    "\n",
    "( ) It provides a way to check outcomes of competing scenarios and decide which way to proceed.\n",
    "\n",
    "( ) It reduces the number of errors in production."
   ]
  },
  {
   "cell_type": "markdown",
   "metadata": {},
   "source": [
    "# Calculating the sample mean\n",
    "\n",
    "The late_shipments dataset contains supply chain data on the delivery of medical supplies. Each row represents one delivery of a part. The late columns denotes whether or not the part was delivered late. A value of \"Yes\" means that the part was delivered late, and a value of \"No\" means the part was delivered on time.\n",
    "\n",
    "Let's begin our analysis by calculating a point estimate (sample statistic), namely the proportion of late shipments.\n",
    "\n",
    "late_shipments is available; dplyr is loaded.\n",
    "\n",
    "# Instructions:\n",
    "\n",
    "- Use View() to view the late_shipments dataset.\n",
    "- Calculate the proportion of late shipments in the sample. That is, the mean cases where the late column is \"Yes\"."
   ]
  },
  {
   "cell_type": "code",
   "execution_count": null,
   "metadata": {},
   "outputs": [],
   "source": [
    "# View the late_shipments dataset\n",
    "View(late_shipments)\n",
    "\n",
    "# Calculate the proportion of late shipments\n",
    "late_prop_samp <- late_shipments %>% \n",
    "  summarize(prop_late_shipments = mean(late == \"Yes\")) %>% \n",
    "  pull(prop_late_shipments)\n",
    "# See the results\n",
    "late_prop_samp"
   ]
  },
  {
   "cell_type": "markdown",
   "metadata": {},
   "source": [
    "# Calculating a z-score\n",
    "\n",
    "Since variables have arbitrary ranges and units, we need to standardize them. For example, it would be silly if a hypothesis test gave a different answer if your variables were in Euros instead of US dollars. Standardization avoids that.\n",
    "\n",
    "One standardized value of interest in a hypothesis test is called a z-score. To calculate it, we need three numbers: the sample statistic (point estimate), the hypothesized statistic, and the standard error of the statistic (which we estimate from the bootstrap distribution).\n",
    "\n",
    "The sample statistic is late_prop_samp.\n",
    "\n",
    "late_shipments_boot_distn is a bootstrap distribution of the proportion of late shipments. The proportion of late shipments statistic is in the late_prop column.\n",
    "\n",
    "late_prop_samp and late_shipments_boot_distn are available; dplyr is loaded.\n",
    "\n",
    "# Instructions:\n",
    "\n",
    "- Hypothesize that the proportion of late shipments is 6%.\n",
    "- Calculate the standard error. That is, the standard deviation of the bootstrap distribution.\n",
    "- Calculate the z-score."
   ]
  },
  {
   "cell_type": "code",
   "execution_count": null,
   "metadata": {},
   "outputs": [],
   "source": [
    "# Hypothesize that the proportion is 6%\n",
    "late_prop_hyp <- 0.06\n",
    "\n",
    "# Calculate the standard error\n",
    "std_error <- late_shipments_boot_distn %>%\n",
    "  summarise(sd = sd(late_prop)) %>%\n",
    "  pull(sd)\n",
    "\n",
    "# Find z-score of late_prop_samp\n",
    "z_score <- (late_prop_samp - late_prop_hyp) / std_error\n",
    "\n",
    "# See the results\n",
    "z_score"
   ]
  },
  {
   "cell_type": "markdown",
   "metadata": {},
   "source": [
    "# Criminal trials and hypothesis tests\n",
    "\n",
    "In the video, you saw how hypothesis testing follows a similar process to criminal trials.\n",
    "\n",
    "Which of the following correctly matches up a criminal trial with properties of a hypothesis test?\n",
    "\n",
    "# Possible Answers\n",
    "\n",
    "(x) Just as with criminal trials, there are more than two possible results at the conclusion of a hypothesis test.\n",
    "\n",
    "( ) Just as the defendant is initially assumed not guilty, the null hypothesis is first assumed to be true.\n",
    "\n",
    "( ) The defendant can be both guilty and not guilty for the crime charged and both the null and alternative hypotheses can be chosen at the end of the test.\n",
    "\n",
    "( ) Just as a court can decline to give a verdict, it's possible for neither the null hypothesis nor the alternative hypothesis to be chosen at the end of the test.\n",
    "\n",
    "( ) Just as the defendant is initially assumed guilty, the alternative hypothesis is first assumed to be true."
   ]
  },
  {
   "cell_type": "markdown",
   "metadata": {},
   "source": [
    "# Left tail, right tail, two tails\n",
    "\n",
    "Hypothesis tests are used to determine whether the sample statistic lies in the tails of the null distribution. However, the way that the alternative hypothesis is phrased affects which tail(s) we are interested in."
   ]
  },
  {
   "cell_type": "markdown",
   "metadata": {},
   "source": [
    "# Calculating p-values\n",
    "\n",
    "In order to determine whether to choose the null hypothesis or the alternative hypothesis, you need to calculate a p-value from the z-score.\n",
    "\n",
    "Let's return to the late shipments dataset and the proportion of late shipments.\n",
    "\n",
    "The null hypothesis, \n",
    ", is that the proportion of late shipments is six percent.\n",
    "\n",
    "The alternative hypothesis, \n",
    ", is that the proportion of late shipments is greater than six percent.\n",
    "\n",
    "The observed sample statistic, late_prop_samp, the null hypothesis statistic, late_prop_hyp (6%), and the bootstrap standard error, std_error are available.\n",
    "\n",
    "# Instructions:\n",
    "\n",
    "Question\n",
    "What type of test should be used for this alternative hypothesis?\n",
    "\n",
    "( ) Two-tailed\n",
    "\n",
    "( ) Left-tailed\n",
    "\n",
    "(x) Right-tailed\n",
    "\n",
    "( ) It doesn't matter; any one will do.\n",
    "\n",
    "( ) A hypothesis test isn't appropriate to answer this question.\n"
   ]
  },
  {
   "cell_type": "code",
   "execution_count": null,
   "metadata": {},
   "outputs": [],
   "source": [
    "DM.result = 3"
   ]
  },
  {
   "cell_type": "markdown",
   "metadata": {},
   "source": [
    "- Calculate the z-score of late_prop_samp.\n",
    "- Calculate the p-value for the z-score, assuming a right-tailed test."
   ]
  },
  {
   "cell_type": "code",
   "execution_count": null,
   "metadata": {},
   "outputs": [],
   "source": [
    "# Calculate the z-score of late_prop_samp\n",
    "z_score <- (late_prop_samp - late_prop_hyp) / std_error\n",
    "\n",
    "# Calculate the p-value\n",
    "p_value <- pnorm(z_score, lower.tail = FALSE)\n",
    "\n",
    "# See the result \n",
    "p_value  "
   ]
  },
  {
   "cell_type": "markdown",
   "metadata": {},
   "source": [
    "# Calculating confidence intervals\n",
    "\n",
    "If you give a single estimate of a sample statistic, you are bound to be wrong by some amount. For example, the hypothesized proportion of late shipments was 6%. Even if evidence suggests the null hypothesis that the proportion of late shipments is equal to this, for any new sample of shipments, the proportion is likely to be a little different. Consequently, it's a good idea to state a confidence interval. That is, you say \"we are 95% 'confident' the proportion of late shipments is between A and B\" (for some value of A and B).\n",
    "\n",
    "Sampling in R demonstrated two methods for calculating confidence intervals. Here, you'll use quantiles of the bootstrap distribution to calculate the confidence interval.\n",
    "\n",
    "late_prop_samp and late_shipments_boot_distn are available; dplyr is loaded.\n",
    "\n",
    "# Instructions:\n",
    "\n",
    "- Summarize the prop_late_shipments column of late_shipments_boot_distn to calculate the 95% confidence interval using the quantile method. Label the lower and upper CI values lower and upper."
   ]
  },
  {
   "cell_type": "code",
   "execution_count": null,
   "metadata": {},
   "outputs": [],
   "source": [
    "# Calculate 95% confidence interval using quantile method\n",
    "conf_int_quantile <- late_shipments_boot_distn %>%\n",
    "  summarise(lower = quantile(prop_late_shipments, 0.025), \n",
    "            upper = quantile(prop_late_shipments, 0.975))\n",
    "\n",
    "# See the result\n",
    "conf_int_quantile"
   ]
  },
  {
   "cell_type": "markdown",
   "metadata": {},
   "source": [
    "# Question\n",
    "\n",
    "Does the confidence interval match up with the conclusion to stick with the original assumption that 6% is a reasonable value for the unknown population parameter?\n",
    "\n",
    "# Possible answers\n",
    "\n",
    "(x) Yes, since 0.06 is included in the 95% confidence interval and we failed to reject \n",
    " due to a large p-value, the results are similar.\n",
    "\n",
    "( ) No, since 0.06 is included in the 95% confidence interval and we should have rejected \n",
    " due to a large p-value, the results do not match.\n",
    "\n",
    "( ) No, there is no relationship between confidence intervals and hypothesis tests."
   ]
  },
  {
   "cell_type": "code",
   "execution_count": null,
   "metadata": {},
   "outputs": [],
   "source": [
    "DM.result = 1"
   ]
  },
  {
   "cell_type": "markdown",
   "metadata": {},
   "source": [
    "# Type I and type II errors\n",
    "\n",
    "For hypothesis tests and for criminal trials, there are two states of truth, and two possible outcomes. Two combinations are correct test outcomes verdicts, and there are two ways it can go wrong.\n",
    "\n",
    "The errors are known as false positives (or \"type I errors\"), and false negatives (or \"type II errors\")."
   ]
  }
 ],
 "metadata": {
  "language_info": {
   "name": "python"
  }
 },
 "nbformat": 4,
 "nbformat_minor": 2
}
