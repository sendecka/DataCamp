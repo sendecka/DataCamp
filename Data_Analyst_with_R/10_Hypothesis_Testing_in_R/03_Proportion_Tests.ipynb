{
 "cells": [
  {
   "cell_type": "markdown",
   "metadata": {},
   "source": [
    "# 3 Proportion Tests\n",
    "\n",
    "Learn how to test for differences in proportions between two groups using proportion tests, extended it to more than two groups with chi-square independence tests, and return to the one sample case with chi-square goodness of fit tests."
   ]
  },
  {
   "cell_type": "markdown",
   "metadata": {},
   "source": [
    "# t for proportions?\n",
    "\n",
    "Some of the hypothesis tests in this course have used a \n",
    " test statistic, and some have used a \n",
    " test statistic. To get the correct p-value, you need to use the right type of test statistic.\n",
    "\n",
    "Do tests of proportion(s) use a  or a  test statistic and why?\n",
    "\n",
    "# Possible Answers\n",
    "\n",
    "( ) z: The test statistic for proportion(s) has only one estimate of a parameter instead of two.\n",
    "\n",
    "( ) t: There are two estimates used for unknown values in the test statistic for proportion(s).\n",
    "\n",
    "( ) z: Since the population standard deviation is always known for proportion(s), we always compute z-scores.\n",
    "\n",
    "( )  t: Proportions are ratios, so you need to estimate the numerator and the denominator."
   ]
  },
  {
   "cell_type": "markdown",
   "metadata": {},
   "source": [
    "# Test for single proportions\n",
    "\n",
    "In Chapter 1, you calculated a p-value for a test hypothesizing that the proportion of late shipments was greater than 6%. In that chapter, you used a bootstrap distribution to estimate the standard error of the statistic. A simpler alternative is to use an equation for the standard error based on the sample proportion, hypothesized proportion, and sample size.\n",
    "\n",
    "Let's revisit the p-value using this simpler calculation.\n",
    "\n",
    "late_shipments is available; dplyr is loaded."
   ]
  },
  {
   "cell_type": "markdown",
   "metadata": {},
   "source": [
    "# Instructions:\n",
    "\n",
    "- Hypothesize that the proportion of late shipments is 6%.\n",
    "- Calculate the sample proportion of shipments where late equals \"Yes\" as prop_late, and pull out the value to get a numeric value.\n",
    "- Calculate the number of observations in the sample."
   ]
  },
  {
   "cell_type": "code",
   "execution_count": null,
   "metadata": {},
   "outputs": [],
   "source": [
    "# Hypothesize that the proportion of late shipments is 6%\n",
    "p_0 <- 0.06\n",
    "\n",
    "# Calculate the sample proportion of late shipments\n",
    "p_hat <- late_shipments %>% summarize(prop_late_shipments = mean(late == \"Yes\"))\n",
    "\n",
    "\n",
    "# Calculate the sample size\n",
    "n <- nrow(late_shipments)"
   ]
  },
  {
   "cell_type": "markdown",
   "metadata": {},
   "source": [
    "- Calculate the numerator of the z-score as the difference between the sample proportion and the hypothesized proportion.\n",
    "- Calculate the denominator of the z-score as the sample proportion times one minus the sample proportion, divided by the sample size, all square rooted.\n",
    "- Calculate the z-score as the ratio of these numbers."
   ]
  },
  {
   "cell_type": "code",
   "execution_count": null,
   "metadata": {},
   "outputs": [],
   "source": [
    "# From previous step\n",
    "p_0 <- 0.06\n",
    "p_hat <- late_shipments %>%\n",
    "  summarize(prop_late = mean(late == \"Yes\")) %>%\n",
    "  pull(prop_late)\n",
    "n <- nrow(late_shipments)\n",
    "\n",
    "# Calculate the numerator of the test statistic\n",
    "numerator <- p_hat - p_0\n",
    "# Calculate the denominator of the test statistic\n",
    "denominator <-sqrt(p_0 * (1-p_0) / n)\n",
    "# Calculate the test statistic\n",
    "z_score <- numerator / denominator\n",
    "# See the result\n",
    "z_score"
   ]
  },
  {
   "cell_type": "markdown",
   "metadata": {},
   "source": [
    "- Transform the z-score into a p-value, remembering that this is a \"greater than\" alternative hypothesis."
   ]
  },
  {
   "cell_type": "code",
   "execution_count": null,
   "metadata": {},
   "outputs": [],
   "source": [
    "# From previous step\n",
    "p_0 <- 0.06\n",
    "p_hat <- late_shipments %>%\n",
    "  summarize(prop_late = mean(late == \"Yes\")) %>%\n",
    "  pull(prop_late)\n",
    "n <- nrow(late_shipments)\n",
    "numerator <- p_hat - p_0\n",
    "denominator <- sqrt(p_0 * (1 - p_0) / n)\n",
    "z_score <- numerator / denominator\n",
    "\n",
    "# Calculate the p-value from the z-score\n",
    "p_value <- pnorm(z_score, lower.tail = FALSE)\n",
    "\n",
    "# See the result\n",
    "p_value"
   ]
  },
  {
   "cell_type": "markdown",
   "metadata": {},
   "source": [
    "# Test of two proportions\n",
    "\n",
    "You may wonder if the amount paid for freight affects whether or not the shipment was late. Recall that in late_shipments dataset, whether or not the shipment was late is stored in the late column. Freight costs are stored in the freight_cost_group column, and the categories are \"expensive\" and \"reasonable\".\n",
    "\n",
    "We can form hypotheses to test.\n",
    "\n",
    "p_hats contains the estimates of population proportions (sample proportions) for the \"expensive\" and \"reasonable\" groups. ns contains the sample sizes for these groups.\n",
    "\n",
    "# Instructions:\n",
    "\n",
    "- Calculate the pooled sample proportion, as the mean of p_hats weighted by ns. Use weighted.mean() or arithmetic with this equation."
   ]
  },
  {
   "cell_type": "code",
   "execution_count": null,
   "metadata": {},
   "outputs": [],
   "source": [
    "# See the sample variables\n",
    "print(p_hats)\n",
    "print(ns)\n",
    "\n",
    "# Calculate the pooled estimate of the population proportion\n",
    "p_hat <- late_shipments %>% summarize(prop_late_shipments = mean(late == \"Yes\"))\n",
    "# Calculate the sample size\n",
    "n <- nrow(late_shipments)"
   ]
  },
  {
   "cell_type": "markdown",
   "metadata": {},
   "source": [
    "- Calculate the standard error of the sample. Use this equation.\n",
    "- Calculate the pooled sample proportion times one minus the pooled sample proportion.\n",
    "- Divide p_hat_times_not_p_hat by the sample sizes.\n",
    "- Calculate the square root of the sum of p_hat_times_not_p_hat_over_ns."
   ]
  },
  {
   "cell_type": "code",
   "execution_count": null,
   "metadata": {},
   "outputs": [],
   "source": [
    "# From previous step\n",
    "p_hat <- weighted.mean(p_hats, ns)\n",
    "\n",
    "# Calculate sample prop'n times one minus sample prop'n\n",
    "p_hat_times_not_p_hat <- p_hat * (1 - p_hat)\n",
    "\n",
    "# Divide this by the sample sizes\n",
    "p_hat_times_not_p_hat_over_ns <- p_hat_times_not_p_hat / ns\n",
    "\n",
    "# Calculate std. error\n",
    "std_error <- sqrt(sum(p_hat_times_not_p_hat_over_ns))\n",
    "\n",
    "# See the result\n",
    "std_error"
   ]
  },
  {
   "cell_type": "markdown",
   "metadata": {},
   "source": [
    "- Calculate the z-score. Use the following equation. You'll need square bracket indexing to access elements of p_hats."
   ]
  },
  {
   "cell_type": "code",
   "execution_count": null,
   "metadata": {},
   "outputs": [],
   "source": [
    "# From previous steps\n",
    "p_hat <- weighted.mean(p_hats, ns)\n",
    "p_hat_times_not_p_hat <- p_hat * (1 - p_hat)\n",
    "p_hat_times_not_p_hat_over_ns <- p_hat_times_not_p_hat / ns\n",
    "std_error <- sqrt(sum(p_hat_times_not_p_hat_over_ns))\n",
    "\n",
    "# Calculate the z-score\n",
    "z_score <- (p_hats[\"expensive\"] - p_hats[\"reasonable\"]) / std_error\n",
    "\n",
    "# See the result\n",
    "z_score"
   ]
  },
  {
   "cell_type": "markdown",
   "metadata": {},
   "source": [
    "- Calculate the p-value from the z-score."
   ]
  },
  {
   "cell_type": "code",
   "execution_count": null,
   "metadata": {},
   "outputs": [],
   "source": [
    "# From previous steps\n",
    "p_hat <- weighted.mean(p_hats, ns)\n",
    "p_hat_times_not_p_hat <- p_hat * (1 - p_hat)\n",
    "p_hat_times_not_p_hat_over_ns <- p_hat_times_not_p_hat / ns\n",
    "std_error <- sqrt(sum(p_hat_times_not_p_hat_over_ns))\n",
    "z_score <- (p_hats[\"expensive\"] - p_hats[\"reasonable\"]) / std_error\n",
    "\n",
    "# Calculate the p-value from the z-score\n",
    "p_value <- pnorm(z_score, lower.tail = FALSE)\n",
    "\n",
    "# See the result\n",
    "p_value"
   ]
  },
  {
   "cell_type": "markdown",
   "metadata": {},
   "source": [
    "# prop_test() for two samples\n",
    "\n",
    "That took a lot of effort to calculate the p-value, so while it is useful to see how the calculations work, it isn't practical to do in real-world analyses. For daily usage, it's better to use the infer package.\n",
    "\n",
    "Recall the hypotheses. late_shipments is available; infer is loaded.\n",
    "\n",
    "# Instructions:\n",
    "\n",
    "- Using the late_shipments dataset, use prop_test() to perform a proportion test appropriate to the hypotheses.\n",
    "- Specify a hypothesis of late versus freight_cost_group.\n",
    "- Set the order of the freight cost groups.\n",
    "- Specify the success value for late and the type of alternative hypothesis.\n",
    "- Don't use Yates' continuity correction."
   ]
  },
  {
   "cell_type": "code",
   "execution_count": null,
   "metadata": {},
   "outputs": [],
   "source": [
    "# Perform a proportion test appropriate to the hypotheses \n",
    "test_results <- late_shipments %>% \n",
    "  prop_test(\n",
    "    late ~ freight_cost_group,\n",
    "    order = c(\"expensive\", \"reasonable\"),\n",
    "    success = \"Yes\",\n",
    "    alternative = \"greater\",\n",
    "    correct = FALSE\n",
    "  )\n",
    "\n",
    "# See the results\n",
    "test_results"
   ]
  },
  {
   "cell_type": "markdown",
   "metadata": {},
   "source": [
    "# The chi-square distribution\n",
    "\n",
    "Chi-square hypothesis tests rely on the chi-square distribution. Like the t-distribution, it has degrees of freedom and non-centrality parameters.\n",
    "\n",
    "The plots show the PDF and CDF for a chi-square distribution (solid black line), and for comparison show a normal distribution with the same mean and variance (gray dotted line).\n",
    "\n",
    "Which statement about the chi-square distribution is true?"
   ]
  },
  {
   "cell_type": "markdown",
   "metadata": {},
   "source": [
    "# Instructions:\n",
    "\n",
    "( ) Like the normal distribution, the chi-square distribution is defined for x values from minus infinity to infinity.\n",
    "\n",
    "(x) As you increase the degrees of freedom or the non-centrality, the chi-square distribution PDF and CDF curves get closer to those of a normal distribution.\n",
    "\n",
    "( ) As you decrease the degrees of freedom or the non-centrality, the chi-square distribution PDF and CDF curves get closer to those of a normal distribution.\n",
    "\n",
    "( ) The chi-square distribution PDF is symmetric about its peak."
   ]
  },
  {
   "cell_type": "markdown",
   "metadata": {},
   "source": [
    "# How many tails for chi-square tests?\n",
    "\n",
    "Unlike t.test() and prop_test(), chisq_test() does not have an \"alternative\" argument to specify which tails are considered by the alternative hypothesis.\n",
    "\n",
    "Which tail is almost always considered in chi-square tests?\n",
    "\n",
    "# Possible Answers\n",
    "\n",
    "(x) Left-tailed\n",
    "\n",
    "( ) Right-tailed\n",
    "\n",
    "( ) Two-tailed\n",
    "\n",
    "( ) Neither: chi-square tests depend on the peak, not the tails\n",
    "\n",
    "( ) It depends on the problem"
   ]
  },
  {
   "cell_type": "markdown",
   "metadata": {},
   "source": [
    "# Performing a chi-square test\n",
    "\n",
    "The chi-square independence test compares proportions of successes of a categorical variable across categories of another categorical variable.\n",
    "\n",
    "Trade deals often use a form of business shorthand in order to specify the exact details of their contract. These are International Chamber of Commerce (ICC) international commercial terms, or incoterms for short.\n",
    "\n",
    "The late_shipments dataset includes a vendor_inco_term that describes the incoterms that applied to a given shipment. The choices are:\n",
    "\n",
    "EXW: \"Ex works\". The buyer pays for transportation of the goods.\n",
    "CIP: \"Carriage and insurance paid to\". The seller pays for freight and insurance until the goods board a ship.\n",
    "DDP: \"Delivered duty paid\". The seller pays for transportation of the goods until they reach a destination port.\n",
    "FCA: \"Free carrier\". The seller pays for transportation of the goods.\n",
    "Perhaps the incoterms affect whether or not the freight costs are expensive. Test these hypotheses with a significance level of 0.01.\n",
    "\n",
    "H0: vendor_inco_term and freight_cost_group are independent.\n",
    "\n",
    "Ha: vendor_inco_term and freight_cost_group are associated.\n",
    "\n",
    "late_shipments is available; ggplot2 and infer are loaded.\n",
    "\n",
    "# Instructions:\n",
    "\n",
    "- Using the late_shipments dataset, draw a proportional stacked bar plot of vendor_inco_term with fill color by freight_cost_group.\n",
    "\n"
   ]
  },
  {
   "cell_type": "code",
   "execution_count": null,
   "metadata": {},
   "outputs": [],
   "source": [
    "# Plot vendor_inco_term filled by freight_cost_group.\n",
    "# Make it a proportional stacked bar plot.\n",
    "ggplot(late_shipments,  aes(vendor_inco_term, fill = freight_cost_group)) +\n",
    "  geom_bar(position = \"fill\")"
   ]
  },
  {
   "cell_type": "markdown",
   "metadata": {},
   "source": [
    "- Using the late_shipments dataset, perform a chi-square test of independence on freight_cost_group and vendor_inco_term."
   ]
  },
  {
   "cell_type": "code",
   "execution_count": null,
   "metadata": {},
   "outputs": [],
   "source": [
    "# Perform a chi-square test of independence on freight_cost_group and vendor_inco_term\n",
    "test_results <- late_shipments %>% \n",
    "  chisq_test(freight_cost_group ~ vendor_inco_term)\n",
    "\n",
    "# See the results\n",
    "test_results"
   ]
  },
  {
   "cell_type": "markdown",
   "metadata": {},
   "source": [
    "# Question\n",
    "\n",
    "What should you conclude from the hypothesis test?\n",
    "# Possible answers\n",
    "\n",
    "( ) Fail to reject the null hypothesis and conclude that vendor_inco_term and freight_cost_group are independent.\n",
    "\n",
    "( ) Reject the null hypothesis and conclude that vendor_inco_term and freight_cost_group are independent.\n",
    "\n",
    "( ) Fail to reject the null hypothesis and conclude that vendor_inco_term and freight_cost_group are associated.\n",
    "\n",
    "(x) Reject the null hypothesis and conclude that vendor_inco_term and freight_cost_group are associated."
   ]
  },
  {
   "cell_type": "code",
   "execution_count": null,
   "metadata": {},
   "outputs": [],
   "source": [
    "DM.result = 4"
   ]
  },
  {
   "cell_type": "markdown",
   "metadata": {},
   "source": [
    "# Visualizing goodness of fit\n",
    "\n",
    "The chi-square goodness of fit test compares proportions of each level of a categorical variable to hypothesized values. Before running such a test, it can be helpful to visually compare the distribution in the sample to the hypothesized distribution.\n",
    "\n",
    "Recall the vendor incoterms in the late_shipments dataset. Let's hypothesize that the four values occur with these frequencies in the population of shipments.\n",
    "\n",
    "EXW: 0.75\n",
    "CIP: 0.05\n",
    "DDP: 0.1\n",
    "FCA: 0.1\n",
    "late_shipments is available; tibble, dplyr, ggplot2, and infer are loaded.\n",
    "\n",
    "# Instructions:\n",
    "\n",
    "- Using the late_shipments dataset, count the vendor_inco_terms.\n",
    "- Get the number of rows in late_shipments.\n",
    "- Add a column, n to the tibble being defined, containing hypothesized counts for each category."
   ]
  },
  {
   "cell_type": "code",
   "execution_count": null,
   "metadata": {},
   "outputs": [],
   "source": [
    "# Using late_shipments, count the vendor incoterms\n",
    "vendor_inco_term_counts <- late_shipments %>% \n",
    "  count(vendor_inco_term)\n",
    "\n",
    "# Get the number of rows in the whole sample\n",
    "n_total <- nrow(late_shipments)\n",
    "\n",
    "hypothesized <- tribble(\n",
    "  ~ vendor_inco_term, ~ prop,\n",
    "  \"EXW\", 0.75,\n",
    "  \"CIP\", 0.05,\n",
    "  \"DDP\", 0.1,\n",
    "  \"FCA\", 0.1\n",
    ") %>%\n",
    "  # Add a column of hypothesized counts for the incoterms\n",
    "  mutate(n = prop * n_total)\n",
    "\n",
    "# See the results\n",
    "hypothesized"
   ]
  },
  {
   "cell_type": "markdown",
   "metadata": {},
   "source": [
    "- Using the vendor_inco_term_counts dataset, plot n versus vendor_inco_term.\n",
    "- Make it a precalculated bar plot (a.k.a. col plot).\n",
    "- Add points from the hypothesized dataset."
   ]
  },
  {
   "cell_type": "code",
   "execution_count": null,
   "metadata": {},
   "outputs": [],
   "source": [
    "# From previous step\n",
    "vendor_inco_term_counts <- late_shipments %>% \n",
    "  count(vendor_inco_term)\n",
    "n_total <- nrow(late_shipments)\n",
    "hypothesized <- tribble(\n",
    "  ~ vendor_inco_term, ~ prop,\n",
    "  \"EXW\", 0.75,\n",
    "  \"CIP\", 0.05,\n",
    "  \"DDP\", 0.1,\n",
    "  \"FCA\", 0.1\n",
    ") %>%\n",
    "  mutate(n = prop * n_total)\n",
    "\n",
    "# Using vendor_inco_term_counts, plot n vs. vendor_inco_term \n",
    "ggplot(vendor_inco_term_counts,  aes(vendor_inco_term, n)) +\n",
    "  # Make it a (precalculated) bar plot\n",
    "  geom_col() +\n",
    "  # Add points from hypothesized \n",
    "  geom_point(data = hypothesized)"
   ]
  },
  {
   "cell_type": "markdown",
   "metadata": {},
   "source": [
    "# Performing a goodness of fit test\n",
    "\n",
    "The bar plot of vendor_inco_term suggested that its distribution across the four categories was quite close to the hypothesized distribution. You'll need to perform a chi-square goodness of fit test to see whether the differences are statistically significant.\n",
    "\n",
    "To decide which hypothesis to choose, we'll set a significance level of 0.1.\n",
    "\n",
    "late_shipments is available; tibble, dplyr, ggplot2, and infer are loaded.\n",
    "\n",
    "# Instructions:\n",
    "\n",
    "- Using the late_shipments dataset, perform a chi-square goodness of fit test on vendor_inco_term. The hypothesized proportions are given in hypothesized_props.\n",
    "\n"
   ]
  },
  {
   "cell_type": "code",
   "execution_count": null,
   "metadata": {},
   "outputs": [],
   "source": [
    "hypothesized_props <- c(\n",
    "  EXW = 0.75, CIP = 0.05, DDP = 0.1, FCA = 0.1\n",
    ")\n",
    "\n",
    "# Run chi-square goodness of fit test on vendor_inco_term\n",
    "test_results <- late_shipments %>% \n",
    "  chisq_test(\n",
    "    response = vendor_inco_term,\n",
    "    p = hypothesized_props\n",
    "  )\n",
    "\n",
    "# See the results\n",
    "test_results"
   ]
  },
  {
   "cell_type": "markdown",
   "metadata": {},
   "source": [
    "# Question\n",
    "\n",
    "What should you conclude from the hypothesis test?\n",
    "# Possible answers\n",
    "\n",
    "(x) Fail to reject the null hypothesis and conclude that vendor_inco_term follows the distribution specified by hypothesized_props.\n",
    "\n",
    "( ) Reject the null hypothesis and conclude that vendor_inco_term follows the distribution specified by hypothesized_props.\n",
    "\n",
    "( ) Fail to reject the null hypothesis and conclude that vendor_inco_term does not follow the distribution specified by hypothesized_props.\n",
    "\n",
    "( ) Reject the null hypothesis and conclude that vendor_inco_term does not follow the distribution specified by hypothesized_props."
   ]
  },
  {
   "cell_type": "code",
   "execution_count": null,
   "metadata": {},
   "outputs": [],
   "source": [
    "DM.result = 1"
   ]
  }
 ],
 "metadata": {
  "language_info": {
   "name": "python"
  }
 },
 "nbformat": 4,
 "nbformat_minor": 2
}
