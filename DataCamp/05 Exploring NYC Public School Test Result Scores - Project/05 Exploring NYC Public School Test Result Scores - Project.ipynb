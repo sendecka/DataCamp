{
 "cells": [
  {
   "cell_type": "markdown",
   "metadata": {},
   "source": [
    "Exploring NYC Public School Test Result Scores\n",
    "Use data manipulation and summary statistics to analyze test scores across New York City's public schools!"
   ]
  },
  {
   "cell_type": "markdown",
   "metadata": {},
   "source": [
    "Project Description\n",
    "Every year, school test results impact the college admissions fate of millions of students.\n",
    "\n",
    "In this project, you will use standardized test performance data from NYC's public schools to identify the schools with top math results, look at how performance varies by borough, and find the city's top ten performing schools!"
   ]
  },
  {
   "cell_type": "markdown",
   "metadata": {},
   "source": [
    "What NYC schools have the best math results?\n",
    "\n",
    "- The best math results are at least 80% of the *maximum possible score* for math.\n",
    "- Save your results in a pandas DataFrame called best_math_schools, including \"school_name\" and \"average_math\" columns, sorted by \"average_math\" in descending order.\n",
    "- What are the top 10 performing schools based on the combined SAT scores?\n",
    "- Save your results as a pandas DataFrame called top_10_schools containing the \"school_name\" and a new column named \"total_SAT\", with results ordered by \"total_SAT\" in descending order.\n",
    "- What borough has the largest standard deviation in the combined SAT score?\n",
    "- Save your results as a pandas DataFrame called largest_std_dev.\n",
    "- The DataFrame should contain \"borough\" as the index, and the following columns:\n",
    "\"num_schools\" for the number of schools in the borough.\n",
    "\"average_SAT\" for the mean of \"total_SAT\".\n",
    "\"std_SAT\" for the standard deviation of \"total_SAT\".\n",
    "- Round all numeric values to two decimal places."
   ]
  },
  {
   "cell_type": "markdown",
   "metadata": {},
   "source": [
    "Guides:\n",
    "- How to approach the project\n",
    "1. Finding schools with the best math scores\n",
    "2. Identifying the top 10 performing schools\n",
    "3. Locating the NYC borough with the largest standard deviation in SAT performance.\n",
    "- Finding schools with the best math scores\n",
    "1. Subset the data to find the schools with math scores of at least 80%, considering the maximum possible score is 800 and save this as a pandas DataFrame called best_math_schools.\n",
    "- Identifying the top 10 performing schools\n",
    "1. Find the 10 best performing schools based on the total score across the three SAT sections.\n",
    "- Locating the NYC borough with the largest standard deviation in SAT performance\n",
    "1. Find out the number of schools, average SAT, and standard deviation of SAT for the NYC borough with the largest standard deviation, rounded to two decimal places.\n",
    "\n",
    "\n"
   ]
  },
  {
   "cell_type": "markdown",
   "metadata": {},
   "source": [
    "Every year, American high school students take SATs, which are standardized tests intended to measure literacy, numeracy, and writing skills. There are three sections - reading, math, and writing, each with a maximum score of 800 points. These tests are extremely important for students and colleges, as they play a pivotal role in the admissions process.\n",
    "\n",
    "Analyzing the performance of schools is important for a variety of stakeholders, including policy and education professionals, researchers, government, and even parents considering which school their children should attend.\n",
    "\n",
    "You have been provided with a dataset called schools.csv, which is previewed below.\n",
    "\n",
    "You have been tasked with answering three key questions about New York City (NYC) public school SAT performance."
   ]
  },
  {
   "cell_type": "code",
   "execution_count": null,
   "metadata": {},
   "outputs": [],
   "source": [
    "# Re-run this cell \n",
    "import pandas as pd\n",
    "\n",
    "# Read in the data\n",
    "schools = pd.read_csv(\"schools.csv\")\n",
    "\n",
    "# Preview the data\n",
    "print(schools.head())\n",
    "\n",
    "# Start coding here...\n",
    "\n",
    "# Which schools are best for math?\n",
    "best_math_schools = schools[schools[\"average_math\"] >= 640][[\"school_name\", \"average_math\"]].sort_values(\"average_math\", ascending=False)\n",
    "\n",
    "# Calculate total_SAT per school\n",
    "schools[\"total_SAT\"] = schools[\"average_math\"] + schools[\"average_reading\"] + schools[\"average_writing\"]\n",
    "\n",
    "# Who are the top 10 performing schools?\n",
    "top_10_schools = schools.groupby(\"school_name\", as_index=False)[\"total_SAT\"].mean().sort_values(\"total_SAT\", ascending=False).head(10)\n",
    "\n",
    "# Which NYC borough has the highest standard deviation for total_SAT?\n",
    "boroughs = schools.groupby(\"borough\")[\"total_SAT\"].agg([\"count\", \"mean\", \"std\"]).round(2)\n",
    "\n",
    "# Filter for max std and reset index so borough is a column\n",
    "largest_std_dev = boroughs[boroughs[\"std\"] == boroughs[\"std\"].max()]\n",
    "\n",
    "# Rename the columns for clarity\n",
    "largest_std_dev = largest_std_dev.rename(columns={\"count\": \"num_schools\", \"mean\": \"average_SAT\", \"std\": \"std_SAT\"})"
   ]
  }
 ],
 "metadata": {
  "language_info": {
   "name": "python"
  }
 },
 "nbformat": 4,
 "nbformat_minor": 2
}
