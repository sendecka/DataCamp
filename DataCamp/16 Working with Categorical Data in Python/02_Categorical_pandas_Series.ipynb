{
 "cells": [
  {
   "cell_type": "markdown",
   "metadata": {},
   "source": [
    "# 2 Categorical pandas Series"
   ]
  },
  {
   "cell_type": "markdown",
   "metadata": {},
   "source": [
    "Now it’s time to learn how to set, add, and remove categories from a Series. You’ll also explore how to update, rename, collapse, and reorder categories, before applying your new skills to clean and access other data within your DataFrame."
   ]
  },
  {
   "cell_type": "markdown",
   "metadata": {},
   "source": [
    "# Setting categories\n",
    "\n",
    "After exploring the pandas Series \"size\" from the adoptable dogs dataset, you have decided that it should be an ordinal categorical variable. Creating such a variable takes a few steps. If these steps are performed out of order, you may not be able to access or use the necessary methods. The goal is to convert the \"size\" column from the dogs dataset into a ordered categorical pandas Series with the following categories: [\"small\", \"medium\", \"large\"]."
   ]
  },
  {
   "cell_type": "markdown",
   "metadata": {},
   "source": [
    "# Adding categories\n",
    "\n",
    "The owner of a local dog adoption agency has listings for almost 3,000 dogs. One of the most common questions they have been receiving lately is: \"What type of area was the dog previously kept in?\". You are setting up a pipeline to do some analysis and want to look into what information is available regarding the \"keep_in\" variable. Both pandas, as pd, and the dogs dataset have been preloaded."
   ]
  },
  {
   "cell_type": "markdown",
   "metadata": {},
   "source": [
    "# Instructions:\n",
    "\n",
    "- Print the frequency of the responses in the \"keep_in\" variable and make sure the count of NaN values are shown."
   ]
  },
  {
   "cell_type": "code",
   "execution_count": 7,
   "metadata": {},
   "outputs": [
    {
     "name": "stdout",
     "output_type": "stream",
     "text": [
      "both flat and garden    1224\n",
      "NaN                     1021\n",
      "garden                   510\n",
      "flat                     182\n",
      "Name: keep_in, dtype: int64\n"
     ]
    }
   ],
   "source": [
    "import pandas as pd\n",
    "dogs = pd.read_csv(\"ShelterDogs.csv\")\n",
    "\n",
    "# Check frequency counts while also printing the NaN count\n",
    "print(dogs[\"keep_in\"].value_counts(dropna=False))"
   ]
  },
  {
   "cell_type": "markdown",
   "metadata": {},
   "source": [
    "- Convert the \"keep_in\" variable to a categorical Series."
   ]
  },
  {
   "cell_type": "code",
   "execution_count": 8,
   "metadata": {},
   "outputs": [
    {
     "name": "stdout",
     "output_type": "stream",
     "text": [
      "both flat and garden    1224\n",
      "NaN                     1021\n",
      "garden                   510\n",
      "flat                     182\n",
      "Name: keep_in, dtype: int64\n"
     ]
    }
   ],
   "source": [
    "# Check frequency counts while also printing the NaN count\n",
    "print(dogs[\"keep_in\"].value_counts(dropna=False))\n",
    "\n",
    "# Switch to a categorical variable\n",
    "dogs[\"keep_in\"] = dogs[\"keep_in\"].astype(\"category\")"
   ]
  },
  {
   "cell_type": "markdown",
   "metadata": {},
   "source": [
    "- Add the list of new categories provided by the adoption agency, new_categories, to the \"keep_in\" column."
   ]
  },
  {
   "cell_type": "code",
   "execution_count": 9,
   "metadata": {},
   "outputs": [
    {
     "name": "stdout",
     "output_type": "stream",
     "text": [
      "both flat and garden    1224\n",
      "NaN                     1021\n",
      "garden                   510\n",
      "flat                     182\n",
      "Name: keep_in, dtype: int64\n"
     ]
    }
   ],
   "source": [
    "# Check frequency counts while also printing the NaN count\n",
    "print(dogs[\"keep_in\"].value_counts(dropna=False))\n",
    "\n",
    "# Switch to a categorical variable\n",
    "dogs[\"keep_in\"] = dogs[\"keep_in\"].astype(\"category\")\n",
    "\n",
    "# Add new categories\n",
    "new_categories = [\"Unknown History\", \"Open Yard (Countryside)\"]\n",
    "dogs[\"keep_in\"] = dogs[\"keep_in\"].cat.add_categories(\n",
    "    new_categories = [\"Unknown History\", \"Open Yard (Countryside)\"]\n",
    ")"
   ]
  },
  {
   "cell_type": "markdown",
   "metadata": {},
   "source": [
    "- Print the frequency counts of the keep_in column and do not drop NaN values."
   ]
  },
  {
   "cell_type": "code",
   "execution_count": null,
   "metadata": {},
   "outputs": [],
   "source": [
    "# Check frequency counts while also printing the NaN count\n",
    "print(dogs[\"keep_in\"].value_counts(dropna=False))\n",
    "\n",
    "# Switch to a categorical variable\n",
    "dogs[\"keep_in\"] = dogs[\"keep_in\"].astype(\"category\")\n",
    "\n",
    "# Add new categories\n",
    "new_categories = [\"Unknown History\", \"Open Yard (Countryside)\"]\n",
    "dogs[\"keep_in\"] = dogs[\"keep_in\"].cat.add_categories(new_categories)\n",
    "\n",
    "# Check frequency counts one more time\n",
    "print(dogs[\"keep_in\"].value_counts(dropna=False))"
   ]
  },
  {
   "cell_type": "markdown",
   "metadata": {},
   "source": [
    "# Removing categories\n",
    "\n",
    "Before adopting dogs, parents might want to know whether or not a new dog likes children. When looking at the adoptable dogs dataset, dogs, you notice that the frequency of responses for the categorical Series \"likes_children\" looks like this:\n",
    "\n",
    "maybe     1718\n",
    "yes       1172\n",
    "no          47\n",
    "The owner of the data wants to convert all \"maybe\" responses to \"no\", as it would be unsafe to let a family adapt a dog if it doesn't like children. The code to convert all \"maybe\" to \"no\" is provided in Step 1. However, the option for \"maybe\" still remains as a category."
   ]
  },
  {
   "cell_type": "markdown",
   "metadata": {},
   "source": [
    "# Instructions:\n",
    "\n",
    "- Print out the categories of the categorical Series dogs[\"likes_children\"]."
   ]
  },
  {
   "cell_type": "code",
   "execution_count": null,
   "metadata": {},
   "outputs": [],
   "source": [
    "# Set \"maybe\" to be \"no\"\n",
    "dogs.loc[dogs[\"likes_children\"] == \"maybe\", \"likes_children\"] = \"no\"\n",
    "\n",
    "# Print out categories\n",
    "print(dogs[\"likes_children\"].cat.categories)"
   ]
  },
  {
   "cell_type": "markdown",
   "metadata": {},
   "source": [
    "- Print out the frequency table for \"likes_children\" to see if any \"maybe\" responses remain."
   ]
  },
  {
   "cell_type": "code",
   "execution_count": null,
   "metadata": {},
   "outputs": [],
   "source": [
    "# Set \"maybe\" to be \"no\"\n",
    "dogs.loc[dogs[\"likes_children\"] == \"maybe\", \"likes_children\"] = \"no\"\n",
    "\n",
    "# Print out categories\n",
    "print(dogs[\"likes_children\"].cat.categories)\n",
    "\n",
    "# Print the frequency table\n",
    "print(dogs[\"likes_children\"].value_counts())"
   ]
  },
  {
   "cell_type": "markdown",
   "metadata": {},
   "source": [
    "- Remove the \"maybe\" category from the Series."
   ]
  },
  {
   "cell_type": "code",
   "execution_count": null,
   "metadata": {},
   "outputs": [],
   "source": [
    "# Set \"maybe\" to be \"no\"\n",
    "dogs.loc[dogs[\"likes_children\"] == \"maybe\", \"likes_children\"] = \"no\"\n",
    "\n",
    "# Print out categories\n",
    "print(dogs[\"likes_children\"].cat.categories)\n",
    "\n",
    "# Print the frequency table\n",
    "print(dogs[\"likes_children\"].value_counts())\n",
    "\n",
    "# Remove the \"maybe\" category\n",
    "dogs[\"likes_children\"] = dogs[\"likes_children\"].cat.remove_categories(removals=[\"maybe\"])\n",
    "print(dogs[\"likes_children\"].value_counts())"
   ]
  },
  {
   "cell_type": "markdown",
   "metadata": {},
   "source": [
    "- Print out the categories of \"likes_children\" one more time."
   ]
  },
  {
   "cell_type": "code",
   "execution_count": null,
   "metadata": {},
   "outputs": [],
   "source": [
    "# Set \"maybe\" to be \"no\"\n",
    "dogs.loc[dogs[\"likes_children\"] == \"maybe\", \"likes_children\"] = \"no\"\n",
    "\n",
    "# Print out categories\n",
    "print(dogs[\"likes_children\"].cat.categories)\n",
    "\n",
    "# Print the frequency table\n",
    "print(dogs[\"likes_children\"].value_counts())\n",
    "\n",
    "# Remove the `\"maybe\" category\n",
    "dogs[\"likes_children\"] = dogs[\"likes_children\"].cat.remove_categories([\"maybe\"])\n",
    "print(dogs[\"likes_children\"].value_counts())\n",
    "\n",
    "# Print the categories one more time\n",
    "print(dogs[\"likes_children\"].cat.categories)"
   ]
  },
  {
   "cell_type": "markdown",
   "metadata": {},
   "source": [
    "# Renaming categories\n",
    "\n",
    "The likes_children column of the adoptable dogs dataset needs an update. Here are the current frequency counts:\n",
    "\n",
    "Maybe?    1718\n",
    "yes       1172\n",
    "no          47\n",
    "Two things that stick out are the differences in capitalization and the ? found in the Maybe? category. The data should be cleaner than this and you are being asked to make a few changes."
   ]
  },
  {
   "cell_type": "markdown",
   "metadata": {},
   "source": [
    "# Instructions:\n",
    "\n",
    "- Create a dictionary called my_changes that will update the Maybe? category to Maybe.\n",
    "- Rename the categories in likes_children using the my_changes dictionary.\n",
    "- Update the categories one more time so that all categories are uppercase using the .upper() method.\n",
    "- Print out the categories of the updated likes_children Series."
   ]
  },
  {
   "cell_type": "code",
   "execution_count": null,
   "metadata": {},
   "outputs": [],
   "source": [
    "# Create the my_changes dictionary\n",
    "my_changes = {\"Maybe?\": \"Maybe\"}\n",
    "\n",
    "# Rename the categories listed in the my_changes dictionary\n",
    "dogs[\"likes_children\"] = dogs[\"likes_children\"].cat.rename_categories(my_changes)\n",
    "\n",
    "# Use a lambda function to convert all categories to uppercase using upper()\n",
    "dogs[\"likes_children\"] =  dogs[\"likes_children\"].cat.rename_categories(lambda c: c.upper())\n",
    "\n",
    "# Print the list of categories\n",
    "print(dogs[\"likes_children\"].cat.categories)"
   ]
  },
  {
   "cell_type": "markdown",
   "metadata": {},
   "source": [
    "# Collapsing categories\n",
    "\n",
    "One problem that users of a local dog adoption website have voiced is that there are too many options. As they look through the different types of dogs, they are getting lost in the overwhelming amount of choice. To simplify some of the data, you are going through each column and collapsing data if appropriate. To preserve the original data, you are going to make new updated columns in the dogs dataset. You will start with the coat column. The frequency table is listed here:\n",
    "\n",
    "short          1969\n",
    "medium          565\n",
    "wirehaired      220\n",
    "long            180\n",
    "medium-long       3"
   ]
  },
  {
   "cell_type": "markdown",
   "metadata": {},
   "source": [
    "# Instructions:\n",
    "\n",
    "Create a dictionary named update_coats to map both wirehaired and medium-long to medium.\n",
    "Collapse the categories listed in this new dictionary and save this as a new column, coat_collapsed.\n",
    "Convert this new column into a categorical Series.\n",
    "Print the frequency table of this new Series."
   ]
  },
  {
   "cell_type": "code",
   "execution_count": 15,
   "metadata": {},
   "outputs": [
    {
     "name": "stdout",
     "output_type": "stream",
     "text": [
      "short     1972\n",
      "medium     785\n",
      "long       180\n",
      "Name: coat_collapsed, dtype: int64\n"
     ]
    }
   ],
   "source": [
    "# Create the update_coats dictionary\n",
    "update_coats = {\n",
    "  \"wirehaired\": \"medium\",\n",
    "  \"medium-long\": \"medium\"\n",
    "}\n",
    "\n",
    "# Create a new column, coat_collapsed\n",
    "dogs[\"coat_collapsed\"] = dogs[\"coat\"].replace(update_coats)\n",
    "\n",
    "# Convert the column to categorical\n",
    "dogs[\"coat_collapsed\"] = dogs[\"coat_collapsed\"].astype(\"category\")\n",
    "\n",
    "# Print the frequency table\n",
    "print(dogs[\"coat_collapsed\"].value_counts())"
   ]
  },
  {
   "cell_type": "markdown",
   "metadata": {},
   "source": [
    "# Reordering categories in a Series\n",
    "\n",
    "The owner of a local dog adoption agency has asked you take a look at her data on adoptable dogs. She is specifically interested in the size of the dogs in her dataset and wants to know if there are differences in other variables, given a dog's size. The adoptable dogs dataset has been loaded as dogs and the \"size\" variable has already been saved as a categorical column."
   ]
  },
  {
   "cell_type": "markdown",
   "metadata": {},
   "source": [
    "# Instructions:\n",
    "\n",
    "- Print out the current categories of the \"size\" pandas Series."
   ]
  },
  {
   "cell_type": "code",
   "execution_count": null,
   "metadata": {},
   "outputs": [],
   "source": [
    "# Print out the current categories of the size variable\n",
    "print(dogs['size'].cat.categories)"
   ]
  },
  {
   "cell_type": "markdown",
   "metadata": {},
   "source": [
    "- Reorder categories in the \"size\" column using the categories \"small\", \"medium\", \"large\", do not set the ordered parameter."
   ]
  },
  {
   "cell_type": "code",
   "execution_count": null,
   "metadata": {},
   "outputs": [],
   "source": [
    "# Print out the current categories of the size variable\n",
    "print(dogs[\"size\"].cat.categories)\n",
    "\n",
    "# Reorder the categories using the list provided\n",
    "dogs[\"size\"] = dogs[\"size\"].cat.reorder_categories(\n",
    "    new_categories =[\"small\", \"medium\", \"large\"], ordered=True\n",
    ")\n"
   ]
  },
  {
   "cell_type": "markdown",
   "metadata": {},
   "source": [
    "- Update the reorder_categories() method so that pandas knows the variable has a natural order."
   ]
  },
  {
   "cell_type": "code",
   "execution_count": null,
   "metadata": {},
   "outputs": [],
   "source": [
    "# Print out the current categories of the size variable\n",
    "print(dogs[\"size\"].cat.categories)\n",
    "\n",
    "# Reorder the categories, specifying the Series is ordinal\n",
    "dogs[\"size\"] = dogs[\"size\"].cat.reorder_categories(\n",
    "  new_categories=[\"small\", \"medium\", \"large\"],\n",
    "  ordered=True\n",
    ")"
   ]
  },
  {
   "cell_type": "markdown",
   "metadata": {},
   "source": [
    "- Add a argument to the method so that the \"size\" column is updated without needing to save it to itself."
   ]
  },
  {
   "cell_type": "code",
   "execution_count": null,
   "metadata": {},
   "outputs": [],
   "source": [
    "# Print out the current categories of the size variable\n",
    "print(dogs[\"size\"].cat.categories)\n",
    "\n",
    "# Reorder the categories, specifying the Series is ordinal, and overwriting the original series\n",
    "dogs[\"size\"].cat.reorder_categories(\n",
    "  new_categories=[\"small\", \"medium\", \"large\"],\n",
    "  ordered=True,\n",
    "  inplace=True\n",
    ")"
   ]
  },
  {
   "cell_type": "markdown",
   "metadata": {},
   "source": [
    "# Using .groupby() after reordering\n",
    "\n",
    "It is now time to run some analyses on the adoptable dogs dataset that is focused on the \"size\" of the dog. You have already developed some code to reorder the categories. In this exercise, you will develop two similar .groupby() statements to help better understand the effect of \"size\" on other variables. dogs has been preloaded for you."
   ]
  },
  {
   "cell_type": "markdown",
   "metadata": {},
   "source": [
    "# Instructions:\n",
    "\n",
    "- Print out the frequency table of \"sex\" for each category of the \"size\" column.\n",
    "- Print out the frequency table of \"keep_in\" for each category of the \"size\" column."
   ]
  },
  {
   "cell_type": "code",
   "execution_count": null,
   "metadata": {},
   "outputs": [],
   "source": [
    "# Previous code\n",
    "dogs[\"size\"].cat.reorder_categories(\n",
    "  new_categories=[\"small\", \"medium\", \"large\"],\n",
    "  ordered=True,\n",
    "  inplace=True\n",
    ")\n",
    "\n",
    "# How many Male/Female dogs are available of each size?\n",
    "print(dogs.groupby(by=\"size\")[\"sex\"].value_counts())\n",
    "\n",
    "# Do larger dogs need more room to roam?\n",
    "print(dogs.groupby(by=\"size\")[\"keep_in\"].value_counts())"
   ]
  },
  {
   "cell_type": "markdown",
   "metadata": {},
   "source": [
    "# Cleaning variables\n",
    "\n",
    "Users of an online entry system used to have the ability to freely type in responses to questions. This is causing issues when trying to analyze the adoptable dogs dataset, dogs. Here is the current frequency table of the \"sex\" column:\n",
    "\n",
    "male      1672\n",
    "female    1249\n",
    " MALE        10\n",
    " FEMALE       5\n",
    "Malez        1\n",
    "Now that the system only takes responses of \"female\" and \"male\", you want this variable to match the updated system."
   ]
  },
  {
   "cell_type": "markdown",
   "metadata": {},
   "source": [
    "# Instructions:\n",
    "\n",
    "- Update the misspelled response \"Malez\" to be \"male\" by creating the replacement map, replace_map."
   ]
  },
  {
   "cell_type": "code",
   "execution_count": 21,
   "metadata": {},
   "outputs": [],
   "source": [
    "# Fix the misspelled word \n",
    "replace_map = dogs[\"sex\"].str.title()"
   ]
  },
  {
   "cell_type": "markdown",
   "metadata": {},
   "source": [
    "- Replace all occurrences of \"Malez\" with \"male\" by using replace_map."
   ]
  },
  {
   "cell_type": "code",
   "execution_count": 22,
   "metadata": {},
   "outputs": [
    {
     "name": "stdout",
     "output_type": "stream",
     "text": [
      "male      1681\n",
      "female    1256\n",
      "Name: sex, dtype: int64\n"
     ]
    }
   ],
   "source": [
    "# Fix the misspelled word \n",
    "replace_map = {\"Malez\": \"male\"}\n",
    "\n",
    "# Update the sex column using the created map\n",
    "dogs[\"sex\"] = dogs[\"sex\"].replace(replace_map)\n",
    "\n",
    "print(dogs[\"sex\"].value_counts())"
   ]
  },
  {
   "cell_type": "markdown",
   "metadata": {},
   "source": [
    "- Remove the leading spaces of the \" MALE\" and \" FEMALE\" responses."
   ]
  },
  {
   "cell_type": "code",
   "execution_count": 23,
   "metadata": {},
   "outputs": [
    {
     "name": "stdout",
     "output_type": "stream",
     "text": [
      "male      1681\n",
      "female    1256\n",
      "Name: sex, dtype: int64\n"
     ]
    }
   ],
   "source": [
    "# Fix the misspelled word\n",
    "replace_map = {\"Malez\": \"male\"}\n",
    "\n",
    "# Update the sex column using the created map\n",
    "dogs[\"sex\"] = dogs[\"sex\"].replace(replace_map)\n",
    "\n",
    "# Strip away leading whitespace\n",
    "dogs[\"sex\"] = dogs[\"sex\"].str.strip()\n",
    "\n",
    "print(dogs[\"sex\"].value_counts())"
   ]
  },
  {
   "cell_type": "markdown",
   "metadata": {},
   "source": [
    "- Convert all responses to be strictly lowercase."
   ]
  },
  {
   "cell_type": "code",
   "execution_count": 24,
   "metadata": {},
   "outputs": [
    {
     "name": "stdout",
     "output_type": "stream",
     "text": [
      "male      1681\n",
      "female    1256\n",
      "Name: sex, dtype: int64\n"
     ]
    }
   ],
   "source": [
    "# Fix the misspelled word\n",
    "replace_map = {\"Malez\": \"male\"}\n",
    "\n",
    "# Update the sex column using the created map\n",
    "dogs[\"sex\"] = dogs[\"sex\"].replace(replace_map)\n",
    "\n",
    "# Strip away leading whitespace\n",
    "dogs[\"sex\"] = dogs[\"sex\"].str.strip()\n",
    "\n",
    "# Make all responses lowercase\n",
    "dogs[\"sex\"] = dogs[\"sex\"].str.lower()\n",
    "\n",
    "print(dogs[\"sex\"].value_counts())"
   ]
  },
  {
   "cell_type": "markdown",
   "metadata": {},
   "source": [
    "- Convert the \"sex\" column to a categorical pandas Series."
   ]
  },
  {
   "cell_type": "code",
   "execution_count": 25,
   "metadata": {},
   "outputs": [
    {
     "name": "stdout",
     "output_type": "stream",
     "text": [
      "male      1681\n",
      "female    1256\n",
      "Name: sex, dtype: int64\n"
     ]
    }
   ],
   "source": [
    "# Fix the misspelled word\n",
    "replace_map = {\"Malez\": \"male\"}\n",
    "\n",
    "# Update the sex column using the created map\n",
    "dogs[\"sex\"] = dogs[\"sex\"].replace(replace_map)\n",
    "\n",
    "# Strip away leading whitespace\n",
    "dogs[\"sex\"] = dogs[\"sex\"].str.strip()\n",
    "\n",
    "# Make all responses lowercase\n",
    "dogs[\"sex\"] = dogs[\"sex\"].str.lower()\n",
    "\n",
    "# Convert to a categorical Series\n",
    "dogs[\"sex\"] = dogs[\"sex\"].astype(\"category\")\n",
    "\n",
    "print(dogs[\"sex\"].value_counts())"
   ]
  },
  {
   "cell_type": "markdown",
   "metadata": {},
   "source": [
    "# Accessing and filtering data\n",
    "\n",
    "You are working on a Python application to display information about the dogs available for adoption at your local animal shelter. Some of the variables of interest, such as \"breed\", \"size\", and \"coat\", are saved as categorical variables. In order for this application to work properly, you need to be able to access and filter data using these columns.\n",
    "\n",
    "The ID variable has been set as the index of the pandas DataFrame dogs."
   ]
  },
  {
   "cell_type": "markdown",
   "metadata": {},
   "source": [
    "- Print the \"coat\" value for the dog with an ID of 23807."
   ]
  },
  {
   "cell_type": "code",
   "execution_count": null,
   "metadata": {},
   "outputs": [],
   "source": [
    "# Print the category of the coat for ID 23807\n",
    "print(dogs.loc[23807, \"coat\"])"
   ]
  },
  {
   "cell_type": "markdown",
   "metadata": {},
   "source": [
    "short"
   ]
  },
  {
   "cell_type": "markdown",
   "metadata": {},
   "source": [
    "- For dogs with a long \"coat\", print the number of each \"sex\"."
   ]
  },
  {
   "cell_type": "code",
   "execution_count": 27,
   "metadata": {},
   "outputs": [
    {
     "name": "stdout",
     "output_type": "stream",
     "text": [
      "male      124\n",
      "female     56\n",
      "Name: sex, dtype: int64\n"
     ]
    }
   ],
   "source": [
    "# Find the count of male and female dogs who have a \"long\" coat\n",
    "print(dogs.loc[dogs[\"coat\"] == \"long\", \"sex\"].value_counts())"
   ]
  },
  {
   "cell_type": "markdown",
   "metadata": {},
   "source": [
    "- Print the average age of dogs with a \"breed\" of \"English Cocker Spaniel\"."
   ]
  },
  {
   "cell_type": "code",
   "execution_count": 28,
   "metadata": {},
   "outputs": [
    {
     "name": "stdout",
     "output_type": "stream",
     "text": [
      "8.186153846153847\n"
     ]
    }
   ],
   "source": [
    "# Print the mean age of dogs with a breed of \"English Cocker Spaniel\"\n",
    "print(dogs.loc[dogs[\"breed\"] == \"English Cocker Spaniel\", \"age\"].mean())"
   ]
  },
  {
   "cell_type": "markdown",
   "metadata": {},
   "source": [
    "- Filter to the dogs with \"English\" in their \"breed\" name using the .contains() method."
   ]
  },
  {
   "cell_type": "code",
   "execution_count": 29,
   "metadata": {},
   "outputs": [
    {
     "name": "stdout",
     "output_type": "stream",
     "text": [
      "35\n"
     ]
    }
   ],
   "source": [
    "# Count the number of dogs that have \"English\" in their breed name\n",
    "print(dogs[dogs[\"breed\"].str.contains(\"English\", regex=False)].shape[0])"
   ]
  }
 ],
 "metadata": {
  "kernelspec": {
   "display_name": "Python 3",
   "language": "python",
   "name": "python3"
  },
  "language_info": {
   "codemirror_mode": {
    "name": "ipython",
    "version": 3
   },
   "file_extension": ".py",
   "mimetype": "text/x-python",
   "name": "python",
   "nbconvert_exporter": "python",
   "pygments_lexer": "ipython3",
   "version": "3.10.13"
  }
 },
 "nbformat": 4,
 "nbformat_minor": 2
}
