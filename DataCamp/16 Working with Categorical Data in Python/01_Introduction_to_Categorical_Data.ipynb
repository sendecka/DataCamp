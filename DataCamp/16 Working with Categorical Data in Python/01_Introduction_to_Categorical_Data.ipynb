{
 "cells": [
  {
   "cell_type": "markdown",
   "metadata": {},
   "source": [
    "# 1. Introduction to Categorical Data\n",
    "\n",
    "Almost every dataset contains categorical information—and often it’s an unexplored goldmine of information. In this chapter, you’ll learn how pandas handles categorical columns using the data type category. You’ll also discover how to group data by categories to unearth great summary statistics."
   ]
  },
  {
   "cell_type": "markdown",
   "metadata": {},
   "source": [
    "# Exploring a target variable\n",
    "\n",
    "You have been asked to build a machine learning model to predict whether or not a person makes over $50,000 in a year. To understand the target variable, Above/Below 50k, you decide to explore the variable in more detail.\n",
    "\n",
    "The Python package pandas will be used throughout this course and will be loaded as pd throughout. The adult census income dataset, adult, has also been preloaded for you."
   ]
  },
  {
   "cell_type": "markdown",
   "metadata": {},
   "source": [
    "# Instructions:\n",
    "\n",
    "- Explore the Above/Below 50k variable by printing out a description of the variable's contents."
   ]
  },
  {
   "cell_type": "code",
   "execution_count": 2,
   "metadata": {},
   "outputs": [
    {
     "name": "stdout",
     "output_type": "stream",
     "text": [
      "count      32561\n",
      "unique         2\n",
      "top        <=50K\n",
      "freq       24720\n",
      "Name: Above/Below 50k, dtype: object\n"
     ]
    }
   ],
   "source": [
    "import pandas as pd\n",
    "import numpy as np\n",
    "adult = pd.read_csv(\"adult.csv\")\n",
    "# Explore the Above/Below 50k variable\n",
    "print(adult[\"Above/Below 50k\"].describe())"
   ]
  },
  {
   "cell_type": "markdown",
   "metadata": {},
   "source": [
    "- Explore the Above/Below 50k variable by printing out a frequency table of the values found in this column."
   ]
  },
  {
   "cell_type": "code",
   "execution_count": 3,
   "metadata": {},
   "outputs": [
    {
     "name": "stdout",
     "output_type": "stream",
     "text": [
      "count      32561\n",
      "unique         2\n",
      "top        <=50K\n",
      "freq       24720\n",
      "Name: Above/Below 50k, dtype: object\n",
      " <=50K    24720\n",
      " >50K      7841\n",
      "Name: Above/Below 50k, dtype: int64\n"
     ]
    }
   ],
   "source": [
    "# Explore the Above/Below 50k variable\n",
    "print(adult[\"Above/Below 50k\"].describe())\n",
    "\n",
    "# Print a frequency table of \"Above/Below 50k\"\n",
    "print(adult[\"Above/Below 50k\"].value_counts())"
   ]
  },
  {
   "cell_type": "markdown",
   "metadata": {},
   "source": [
    "- Rerun .value_counts(), but this time print out the relative frequency values instead of the counts."
   ]
  },
  {
   "cell_type": "code",
   "execution_count": 4,
   "metadata": {},
   "outputs": [
    {
     "name": "stdout",
     "output_type": "stream",
     "text": [
      "count      32561\n",
      "unique         2\n",
      "top        <=50K\n",
      "freq       24720\n",
      "Name: Above/Below 50k, dtype: object\n",
      " <=50K    24720\n",
      " >50K      7841\n",
      "Name: Above/Below 50k, dtype: int64\n",
      " <=50K    0.75919\n",
      " >50K     0.24081\n",
      "Name: Above/Below 50k, dtype: float64\n"
     ]
    }
   ],
   "source": [
    "# Explore the Above/Below 50k variable\n",
    "print(adult[\"Above/Below 50k\"].describe())\n",
    "\n",
    "# Print a frequency table of \"Above/Below 50k\"\n",
    "print(adult[\"Above/Below 50k\"].value_counts())\n",
    "\n",
    "# Print relative frequency values\n",
    "print(adult[\"Above/Below 50k\"].value_counts(normalize = True))"
   ]
  },
  {
   "cell_type": "markdown",
   "metadata": {},
   "source": [
    "# Question\n",
    "Given the output from the previous steps, do more people make more or less than $50,000?\n",
    "# Possible answers\n",
    "\n",
    "( ) More than $50,000\n",
    "\n",
    "(x) Less than $50,000"
   ]
  },
  {
   "cell_type": "markdown",
   "metadata": {},
   "source": [
    "# Setting dtypes and saving memory\n",
    "\n",
    "A colleague of yours is exploring a list of occupations and how they relate to salary. She has given you a list of these occupations, list_of_occupations, and has a few simple questions such as \"How many different titles are there?\" and \"Which position is the most common?\"."
   ]
  },
  {
   "cell_type": "markdown",
   "metadata": {},
   "source": [
    "# Instructions:\n",
    "\n",
    "- Create a pandas Series, series1, using the list_of_occupations (do not set the dtype)."
   ]
  },
  {
   "cell_type": "code",
   "execution_count": 5,
   "metadata": {},
   "outputs": [
    {
     "ename": "NameError",
     "evalue": "name 'list_of_occupations' is not defined",
     "output_type": "error",
     "traceback": [
      "\u001b[0;31m---------------------------------------------------------------------------\u001b[0m",
      "\u001b[0;31mNameError\u001b[0m                                 Traceback (most recent call last)",
      "Cell \u001b[0;32mIn[5], line 2\u001b[0m\n\u001b[1;32m      1\u001b[0m \u001b[38;5;66;03m# Create a Series, default dtype\u001b[39;00m\n\u001b[0;32m----> 2\u001b[0m series1 \u001b[38;5;241m=\u001b[39m pd\u001b[38;5;241m.\u001b[39mSeries(\u001b[43mlist_of_occupations\u001b[49m)\n",
      "\u001b[0;31mNameError\u001b[0m: name 'list_of_occupations' is not defined"
     ]
    }
   ],
   "source": [
    "# Create a Series, default dtype\n",
    "series1 = pd.Series(list_of_occupations)"
   ]
  },
  {
   "cell_type": "markdown",
   "metadata": {},
   "source": [
    "- Print both the data type and number of bytes used of this new Series."
   ]
  },
  {
   "cell_type": "code",
   "execution_count": null,
   "metadata": {},
   "outputs": [],
   "source": [
    "# Create a Series, default dtype\n",
    "series1 = pd.Series(list_of_occupations)\n",
    "\n",
    "# Print out the data type and number of bytes for series1\n",
    "print(\"series1 data type:\", series1.dtype)\n",
    "print(\"series1 number of bytes:\", series1.nbytes)"
   ]
  },
  {
   "cell_type": "markdown",
   "metadata": {},
   "source": [
    "- Create a second pandas Series, series2, using the list_of_occupations and set the dtype to \"category\"."
   ]
  },
  {
   "cell_type": "code",
   "execution_count": null,
   "metadata": {},
   "outputs": [],
   "source": [
    "# Create a Series, default dtype\n",
    "series1 = pd.Series(list_of_occupations)\n",
    "\n",
    "# Print out the data type and number of bytes for series1\n",
    "print(\"series1 data type:\", series1.dtype)\n",
    "print(\"series1 number of bytes:\", series1.nbytes)\n",
    "\n",
    "# Create a Series, \"category\" dtype\n",
    "series2 = pd.Series(list_of_occupations, dtype=\"category\")"
   ]
  },
  {
   "cell_type": "markdown",
   "metadata": {},
   "source": [
    "- Print both the data type and number of bytes used of this new Series."
   ]
  },
  {
   "cell_type": "code",
   "execution_count": null,
   "metadata": {},
   "outputs": [],
   "source": [
    "# Create a Series, default dtype\n",
    "series1 = pd.Series(list_of_occupations)\n",
    "\n",
    "# Print out the data type and number of bytes for series1\n",
    "print(\"series1 data type:\", series1.dtype)\n",
    "print(\"series1 number of bytes:\", series1.nbytes)\n",
    "\n",
    "# Create a Series, \"category\" dtype\n",
    "series2 = pd.Series(list_of_occupations, dtype=\"category\")\n",
    "\n",
    "# Print out the data type and number of bytes for series2\n",
    "print(\"series2 data type:\", series2.dtype)\n",
    "print(\"series2 number of bytes:\", series2.nbytes)"
   ]
  },
  {
   "cell_type": "markdown",
   "metadata": {},
   "source": [
    "# Creating a categorical pandas Series\n",
    "\n",
    "Another colleague at work has collected information on the number of \"Gold\", \"Silver\", and \"Bronze\" medals won by the USA at the Summer & Winter Olympics since 1896. She has provided this as a list, medals_won. Before taking a look at the total number of each medal won, you want to create a categorical pandas Series. However, you know that these medals have a specific order to them and that Gold is better than Silver, but Silver is better than Bronze. Use the object, medals_won, to help."
   ]
  },
  {
   "cell_type": "markdown",
   "metadata": {},
   "source": [
    "# Instructions:\n",
    "\n",
    "- Create a categorical pandas Series without using pd.Series().\n",
    "- Specify the three known medal categories such that \"Bronze\" < \"Silver\" < \"Gold\".\n",
    "- Specify that the order of the categories is important when creating this Series."
   ]
  },
  {
   "cell_type": "code",
   "execution_count": null,
   "metadata": {},
   "outputs": [],
   "source": [
    "# Create a categorical Series and specify the categories (let pandas know the order matters!)\n",
    "medals = pd.Categorical(medals_won, categories=[\"Bronze\", \"Silver\", \"Gold\"], ordered=True)\n",
    "print(medals)"
   ]
  },
  {
   "cell_type": "markdown",
   "metadata": {},
   "source": [
    "# Setting dtype when reading data\n",
    "\n",
    "You are preparing to create a machine learning model to predict a person's income category using the adult census income dataset. You don't have access to any cloud resources and you want to make sure that your laptop will be able to load the full dataset and process its contents. You have read in the first five rows of the dataset adult to help you understand what kind of columns are available."
   ]
  },
  {
   "cell_type": "markdown",
   "metadata": {},
   "source": [
    "# Instructions:\n",
    "\n",
    "-Call the correct attribute on the adult DataFrame to review the data types."
   ]
  },
  {
   "cell_type": "code",
   "execution_count": null,
   "metadata": {},
   "outputs": [],
   "source": [
    "# Check the dtypes\n",
    "print(adult.dtypes)"
   ]
  }
 ],
 "metadata": {
  "kernelspec": {
   "display_name": "Python 3",
   "language": "python",
   "name": "python3"
  },
  "language_info": {
   "codemirror_mode": {
    "name": "ipython",
    "version": 3
   },
   "file_extension": ".py",
   "mimetype": "text/x-python",
   "name": "python",
   "nbconvert_exporter": "python",
   "pygments_lexer": "ipython3",
   "version": "3.10.13"
  }
 },
 "nbformat": 4,
 "nbformat_minor": 2
}
