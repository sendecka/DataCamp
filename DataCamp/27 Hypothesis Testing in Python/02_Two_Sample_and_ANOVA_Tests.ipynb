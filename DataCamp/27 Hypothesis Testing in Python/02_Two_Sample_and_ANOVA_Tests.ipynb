{
 "cells": [
  {
   "cell_type": "markdown",
   "metadata": {},
   "source": [
    "# 2 Two-Sample and ANOVA Tests\n",
    "\n",
    "In this chapter, you’ll learn how to test for differences in means between two groups using t-tests and extend this to more than two groups using ANOVA and pairwise t-tests."
   ]
  },
  {
   "cell_type": "markdown",
   "metadata": {},
   "source": [
    "# Two sample mean test statistic\n",
    "\n",
    "The hypothesis test for determining if there is a difference between the means of two populations uses a different type of test statistic to the z-scores you saw in Chapter 1. It's called \"t\", and it can be calculated from three values from each sample using this equation.\n",
    " \n",
    " While trying to determine why some shipments are late, you may wonder if the weight of the shipments that were on time is less than the weight of the shipments that were late. The late_shipments dataset has been split into a \"yes\" group, where late == \"Yes\" and a \"no\" group where late == \"No\". The weight of the shipment is given in the weight_kilograms variable.\n",
    "\n",
    "The sample means for the two groups are available as xbar_no and xbar_yes. The sample standard deviations are s_no and s_yes. The sample sizes are n_no and n_yes. numpy is also loaded as np."
   ]
  },
  {
   "cell_type": "markdown",
   "metadata": {},
   "source": [
    "# Instructions:\n",
    "\n",
    "- Calculate the numerator of the \n",
    " test statistic.\n",
    "- Calculate the denominator of the \n",
    " test statistic.\n",
    "- Use those two numbers to calculate the \n",
    " test statistic."
   ]
  },
  {
   "cell_type": "code",
   "execution_count": null,
   "metadata": {},
   "outputs": [],
   "source": [
    "# Calculate the numerator of the test statistic\n",
    "numerator = xbar_no - xbar_yes\n",
    "\n",
    "# Calculate the denominator of the test statistic\n",
    "denominator = np.sqrt(s_no ** 2 / n_no + s_yes ** 2 / n_yes)\n",
    "\n",
    "# Calculate the test statistic\n",
    "t_stat = numerator / denominator\n",
    "\n",
    "# Print the test statistic\n",
    "print(t_stat)"
   ]
  },
  {
   "cell_type": "markdown",
   "metadata": {},
   "source": [
    "# Why is t needed?\n",
    "\n",
    "The process for calculating p-values is to start with the sample statistic, standardize it to get a test statistic, then transform it via a cumulative distribution function. In Chapter 1, that final transformation was denoted z, and the CDF transformation used the (standard normal) z-distribution. In the last video, the test statistic was denoted t, and the transformation used the t-distribution.\n",
    "\n",
    "In which hypothesis testing scenario is a t-distribution needed instead of the z-distribution?\n",
    "\n",
    "# Possible Answers\n",
    "\n",
    "(x) The t-distribution is just another name for the z-distribution, so they can be used interchangeably.\n",
    "\n",
    "( ) The t-distribution is the same thing as the z-distribution for very small sample sizes.\n",
    "\n",
    "( ) When a sample standard deviation is used in estimating a standard error.\n",
    "\n",
    "( ) When you are comparing the means of three or more samples, rather than comparing a single sample mean to a value."
   ]
  },
  {
   "cell_type": "markdown",
   "metadata": {},
   "source": [
    "# The t-distribution\n",
    "\n",
    "The t-distribution is used to calculate the p-value from the \n",
    " test statistic, and having a sense of how the PDF and CDF look can help you understand this calculation. It has two parameters: the degrees of freedom, and the non-centrality parameter.\n",
    "\n",
    "The plots show the PDF and CDF for a t-distribution (solid black line), and for comparison show a standard normal distribution with mean 0 and variance 1 (gray dotted line).\n",
    "\n",
    "Which statement about the the t-distribution is true?"
   ]
  },
  {
   "cell_type": "markdown",
   "metadata": {},
   "source": [
    "( ) Like the normal distribution, the PDF of a central t-distribution is always symmetric.\n",
    "\n",
    "( ) As you increase the degrees of freedom, the tails of the t-distribution get fatter.\n",
    "\n",
    "(x) As you increase the degrees of freedom, the t-distribution PDF and CDF curves get closer to those of a normal distribution.\n",
    "\n",
    "( ) As you increase the non-centrality, the t-distribution PDF and CDF curves get closer to those of a normal distribution."
   ]
  },
  {
   "cell_type": "markdown",
   "metadata": {},
   "source": [
    "# From t to p\n",
    "\n",
    "Previously, you calculated the test statistic for the two-sample problem of whether the mean weight of shipments is smaller for shipments that weren't late (late == \"No\") compared to shipments that were late (late == \"Yes\"). In order to make decisions about it, you need to transform the test statistic with a cumulative distribution function to get a p-value.\n",
    "\n",
    "Recall the hypotheses:\n",
    "\n",
    "h0: The mean weight of shipments that weren't late is the same as the mean weight of shipments that were late.\n",
    "\n",
    "ha: The mean weight of shipments that weren't late is less than the mean weight of shipments that were late.\n",
    "\n",
    "The test statistic, t_stat, is available, as are the samples sizes for each group, n_no and n_yes. Use a significance level of alpha = 0.05.\n",
    "\n",
    "t has also been imported from scipy.stats."
   ]
  },
  {
   "cell_type": "markdown",
   "metadata": {},
   "source": [
    "# Question\n",
    "What type of test does the alternative hypothesis indicate that we need?\n",
    "\n",
    "# Possible answers\n",
    "\n",
    "(x) Two-tailed\n",
    "\n",
    "( ) Left-tailed\n",
    "\n",
    "( ) Right-tailed"
   ]
  },
  {
   "cell_type": "markdown",
   "metadata": {},
   "source": [
    "- Calculate the degrees of freedom for the test.\n",
    "- Compute the p-value using the test statistic, t_stat."
   ]
  },
  {
   "cell_type": "code",
   "execution_count": null,
   "metadata": {},
   "outputs": [],
   "source": [
    "# Calculate the degrees of freedom\n",
    "degrees_of_freedom = n_no + n_yes - 2\n",
    "\n",
    "# Calculate the p-value from the test stat\n",
    "p_value = t.cdf(t_stat, df=degrees_of_freedom)\n",
    "\n",
    "# Print the p_value\n",
    "print(p_value)"
   ]
  },
  {
   "cell_type": "markdown",
   "metadata": {},
   "source": [
    "# Question\n",
    "What decision should you make based on the results of the hypothesis test?\n",
    "\n",
    "# Possible answers\n",
    "\n",
    "( ) Fail to reject the null hypothesis.\n",
    "\n",
    "(x) Reject the null hypothesis.\n",
    "\n",
    "( ) You can't conclude anything from this hypothesis test."
   ]
  },
  {
   "cell_type": "markdown",
   "metadata": {},
   "source": [
    "# Visualizing the difference\n",
    "\n",
    "Before you start running hypothesis tests, it's a great idea to perform some exploratory data analysis; that is, calculating summary statistics and visualizing distributions.\n",
    "\n",
    "Here, you'll look at the proportion of county-level votes for the Democratic candidate in 2012 and 2016, sample_dem_data. Since the counties are the same in both years, these samples are paired. The columns containing the samples are dem_percent_12 and dem_percent_16.\n",
    "\n",
    "dem_votes_potus_12_16 is available as sample_dem_data. pandas and matplotlib.pyplot are loaded with their usual aliases."
   ]
  },
  {
   "cell_type": "markdown",
   "metadata": {},
   "source": [
    "# Instructions:\n",
    "\n",
    "- Create a new diff column containing the percentage of votes for the democratic candidate in 2012 minus the percentage of votes for the democratic candidate in 2016."
   ]
  },
  {
   "cell_type": "code",
   "execution_count": null,
   "metadata": {},
   "outputs": [],
   "source": [
    "# Calculate the differences from 2012 to 2016\n",
    "sample_dem_data['diff'] = sample_dem_data['dem_percent_12'] - sample_dem_data['dem_percent_16']\n",
    "\n",
    "# Print sample_dem_data\n",
    "print(sample_dem_data)"
   ]
  },
  {
   "cell_type": "markdown",
   "metadata": {},
   "source": [
    "- Calculate the mean of the diff column as xbar_diff."
   ]
  },
  {
   "cell_type": "code",
   "execution_count": null,
   "metadata": {},
   "outputs": [],
   "source": [
    "# Calculate the differences from 2012 to 2016\n",
    "sample_dem_data['diff'] = sample_dem_data['dem_percent_12'] - sample_dem_data['dem_percent_16']\n",
    "\n",
    "# Find the mean of the diff column\n",
    "xbar_diff = sample_dem_data['diff'].mean()\n",
    "\n",
    "# Print xbar_diff\n",
    "print(xbar_diff)"
   ]
  },
  {
   "cell_type": "markdown",
   "metadata": {},
   "source": [
    "- Calculate the standard deviation of the diff column as s_diff."
   ]
  },
  {
   "cell_type": "code",
   "execution_count": null,
   "metadata": {},
   "outputs": [],
   "source": [
    "# Calculate the differences from 2012 to 2016\n",
    "sample_dem_data['diff'] = sample_dem_data['dem_percent_12'] - sample_dem_data['dem_percent_16']\n",
    "\n",
    "# Find the mean of the diff column\n",
    "xbar_diff = sample_dem_data['diff'].mean()\n",
    "\n",
    "# Find the standard deviation of the diff column\n",
    "s_diff = sample_dem_data['diff'].std()\n",
    "\n",
    "# Print s_diff\n",
    "print(s_diff)"
   ]
  },
  {
   "cell_type": "markdown",
   "metadata": {},
   "source": [
    "- Plot a histogram of the diff column with 20 bins."
   ]
  },
  {
   "cell_type": "code",
   "execution_count": null,
   "metadata": {},
   "outputs": [],
   "source": [
    "# Calculate the differences from 2012 to 2016\n",
    "sample_dem_data['diff'] = sample_dem_data['dem_percent_12'] - sample_dem_data['dem_percent_16']\n",
    "\n",
    "# Find the mean of the diff column\n",
    "xbar_diff = sample_dem_data['diff'].mean()\n",
    "\n",
    "# Find the standard deviation of the diff column\n",
    "s_diff = sample_dem_data['diff'].std()\n",
    "\n",
    "# Plot a histogram of diff with 20 bins\n",
    "sample_dem_data['diff'].hist(bins=20)\n",
    "plt.show()"
   ]
  },
  {
   "cell_type": "markdown",
   "metadata": {},
   "source": [
    "# Using ttest()\n",
    "\n",
    "Manually calculating test statistics and transforming them with a CDF to get a p-value is a lot of effort to compare two sample means. The comparison of two sample means is called a t-test, and the pingouin Python package has a .ttest() method to accomplish it. This method provides some flexibility in how you perform the test.\n",
    "\n",
    "As in the previous exercise, you'll explore the difference between the proportion of county-level votes for the Democratic candidate in 2012 and 2016 to identify if the difference is significant. The hypotheses are as follows:\n",
    "\n",
    ": The proportion of democratic votes in 2012 and 2016 were the same. \n",
    ": The proportion of democratic votes in 2012 and 2016 were different.\n",
    "\n",
    "sample_dem_data is available and has the columns diff, dem_percent_12, and dem_percent_16 in addition to the state and county names. pingouin and has been loaded along with pandas as pd."
   ]
  },
  {
   "cell_type": "markdown",
   "metadata": {},
   "source": [
    "# Instructions:\n",
    "\n",
    "- Conduct a t-test on the sample differences (the diff column of sample_dem_data), using an appropriate alternative hypothesis chosen from \"two-sided\", \"less\", and \"greater\"."
   ]
  },
  {
   "cell_type": "code",
   "execution_count": null,
   "metadata": {},
   "outputs": [],
   "source": [
    "# Conduct a t-test on diff\n",
    "test_results = pingouin.ttest(x=sample_dem_data['diff'], \n",
    "                              y=0, \n",
    "                              alternative=\"two-sided\")\n",
    "                              \n",
    "# Print the test results\n",
    "print(test_results)"
   ]
  },
  {
   "cell_type": "markdown",
   "metadata": {},
   "source": [
    "- Conduct a paired test on the democratic votes in 2012 and 2016 (the dem_percent_12 and dem_percent_16 columns of sample_dem_data), using an appropriate alternative hypothesis."
   ]
  },
  {
   "cell_type": "code",
   "execution_count": null,
   "metadata": {},
   "outputs": [],
   "source": [
    "# Conduct a t-test on diff\n",
    "test_results = pingouin.ttest(x=sample_dem_data['diff'], \n",
    "                              y=0, \n",
    "                              alternative=\"two-sided\")\n",
    "\n",
    "# Conduct a paired t-test on dem_percent_12 and dem_percent_16\n",
    "paired_test_results = pingouin.ttest(x=sample_dem_data['dem_percent_12'], \n",
    "                                     y=sample_dem_data['dem_percent_16'],\n",
    "                                     paired=True,\n",
    "                                     alternative=\"two-sided\")\n",
    "                              \n",
    "# Print the paired test results\n",
    "print(paired_test_results)"
   ]
  },
  {
   "cell_type": "markdown",
   "metadata": {},
   "source": [
    "# Visualizing many categories\n",
    "\n",
    "So far in this chapter, we've only considered the case of differences in a numeric variable between two categories. Of course, many datasets contain more categories. Before you get to conducting tests on many categories, it's often helpful to perform exploratory data analysis (EDA), calculating summary statistics for each group and visualizing the distributions of the numeric variable for each category using box plots.\n",
    "\n",
    "Here, we'll return to the late shipments data, and how the price of each package (pack_price) varies between the three shipment modes (shipment_mode): \"Air\", \"Air Charter\", and \"Ocean\".\n",
    "\n",
    "late_shipments is available; pandas and matplotlib.pyplot are loaded with their standard aliases, and seaborn is loaded as sns."
   ]
  },
  {
   "cell_type": "markdown",
   "metadata": {},
   "source": [
    "# Instructions:\n",
    "\n",
    "- Group late_shipments by shipment_mode and calculate the mean pack_price for each group, storing the result in xbar_pack_by_mode."
   ]
  },
  {
   "cell_type": "code",
   "execution_count": null,
   "metadata": {},
   "outputs": [],
   "source": [
    "# Calculate the mean pack_price for each shipment_mode\n",
    "xbar_pack_by_mode = late_shipments.groupby(\"shipment_mode\")['pack_price'].mean()\n",
    "\n",
    "# Print the grouped means\n",
    "print(xbar_pack_by_mode)"
   ]
  },
  {
   "cell_type": "markdown",
   "metadata": {},
   "source": [
    "- Group late_shipments by shipment_mode and calculate the standard deviation pack_price for each group, storing the result in s_pack_by_mode."
   ]
  },
  {
   "cell_type": "code",
   "execution_count": null,
   "metadata": {},
   "outputs": [],
   "source": [
    "# Calculate the mean pack_price for each shipment_mode\n",
    "xbar_pack_by_mode = late_shipments.groupby(\"shipment_mode\")['pack_price'].mean()\n",
    "\n",
    "# Calculate the standard deviation of the pack_price for each shipment_mode\n",
    "s_pack_by_mode = late_shipments.groupby(\"shipment_mode\")['pack_price'].std()\n",
    "\n",
    "# Print the grouped standard deviations\n",
    "print(s_pack_by_mode)"
   ]
  },
  {
   "cell_type": "markdown",
   "metadata": {},
   "source": [
    "- Create a boxplot from late_shipments with \"pack_price\" as x and \"shipment_mode\" as y."
   ]
  },
  {
   "cell_type": "code",
   "execution_count": null,
   "metadata": {},
   "outputs": [],
   "source": [
    "# Calculate the mean pack_price for each shipment_mode\n",
    "xbar_pack_by_mode = late_shipments.groupby(\"shipment_mode\")['pack_price'].mean()\n",
    "\n",
    "# Calculate the standard deviation of the pack_price for each shipment_mode\n",
    "s_pack_by_mode = late_shipments.groupby(\"shipment_mode\")['pack_price'].std()\n",
    "\n",
    "# Boxplot of shipment_mode vs. pack_price\n",
    "sns.boxplot(x=\"pack_price\", y=\"shipment_mode\", data=late_shipments)\n",
    "plt.show()"
   ]
  },
  {
   "cell_type": "markdown",
   "metadata": {},
   "source": [
    "# Conducting an ANOVA test\n",
    "\n",
    "The box plots made it look like the distribution of pack price was different for each of the three shipment modes. However, it didn't tell us whether the mean pack price was different in each category. To determine that, we can use an ANOVA test. The null and alternative hypotheses can be written as follows.\n",
    "\n",
    ": Pack prices for every category of shipment mode are the same.\n",
    "\n",
    ": Pack prices for some categories of shipment mode are different.\n",
    "\n",
    "Use a significance level of 0.1.\n",
    "\n",
    "late_shipments is available and pingouin has been loaded."
   ]
  },
  {
   "cell_type": "markdown",
   "metadata": {},
   "source": [
    "# Instructions:\n",
    "\n",
    "- Run an ANOVA on late_shipments investigating 'pack_price' (the dependent variable) between the groups of 'shipment_mode'."
   ]
  },
  {
   "cell_type": "code",
   "execution_count": null,
   "metadata": {},
   "outputs": [],
   "source": [
    "# Run an ANOVA for pack_price across shipment_mode\n",
    "anova_results = pingouin.anova(data=late_shipments,\n",
    "                               dv=\"pack_price\",\n",
    "                               between=\"shipment_mode\")\n",
    "\n",
    "# Print anova_results\n",
    "print(anova_results)"
   ]
  },
  {
   "cell_type": "markdown",
   "metadata": {},
   "source": [
    "# Question\n",
    "Assuming a significance level of 0.1, should you reject the null hypothesis that there is no difference in pack prices between shipment modes?\n",
    "\n",
    "# Possible answers\n",
    "\n",
    "( ) Yes. The p-value is greater than or equal to the significance level, so the null hypothesis should be rejected.\n",
    "\n",
    "(x) Yes. The p-value is less than or equal to the significance level, so the null hypothesis should be rejected.\n",
    "\n",
    "( ) No. The p-value is greater than or equal to the significance level, so the null hypothesis should fail to be rejected.\n",
    "\n",
    "( ) No. The p-value is less than or equal to the significance level, so the null hypothesis should fail to be rejected."
   ]
  },
  {
   "cell_type": "markdown",
   "metadata": {},
   "source": [
    "# Pairwise t-tests\n",
    "\n",
    "The ANOVA test didn't tell you which categories of shipment mode had significant differences in pack prices. To pinpoint which categories had differences, you could instead use pairwise t-tests.\n",
    "\n",
    "late_shipments is available and pingouin has been loaded."
   ]
  },
  {
   "cell_type": "markdown",
   "metadata": {},
   "source": [
    "# Instructions:\n",
    "\n",
    "- Perform pairwise t-tests on late_shipments's pack_price variable, grouped by shipment_mode, without doing any p-value adjustment."
   ]
  },
  {
   "cell_type": "code",
   "execution_count": null,
   "metadata": {},
   "outputs": [],
   "source": [
    "# Perform a pairwise t-test on pack price, grouped by shipment mode\n",
    "pairwise_results = pingouin.pairwise_tests(data=late_shipments, \n",
    "                                           dv=\"pack_price\",\n",
    "                                           between=\"shipment_mode\",\n",
    "                                           padjust=\"none\")\n",
    "\n",
    "# Print pairwise_results\n",
    "print(pairwise_results)"
   ]
  },
  {
   "cell_type": "markdown",
   "metadata": {},
   "source": [
    "- Modify the pairwise t-tests to use the Bonferroni p-value adjustment."
   ]
  },
  {
   "cell_type": "code",
   "execution_count": null,
   "metadata": {},
   "outputs": [],
   "source": [
    "# Modify the pairwise t-tests to use Bonferroni p-value adjustment\n",
    "pairwise_results = pingouin.pairwise_tests(data=late_shipments, \n",
    "                                           dv=\"pack_price\",\n",
    "                                           between=\"shipment_mode\",\n",
    "                                           padjust=\"bonf\")\n",
    "\n",
    "# Print pairwise_results\n",
    "print(pairwise_results)"
   ]
  },
  {
   "cell_type": "markdown",
   "metadata": {},
   "source": [
    "# Question\n",
    "Using the Bonferroni correction results and assuming a significance level of 0.1, for which pairs of shipment modes should you reject the null hypothesis that the pack prices are equal?\n",
    "\n",
    "# Possible answers\n",
    "\n",
    "(x) \"Ocean\" and \"Air Charter\"; \"Ocean\" and \"Air\"; \"Air Charter\" and \"Air\".\n",
    "\n",
    "( ) \"Ocean\" and \"Air\" and also \"Air Charter\" and \"Air\".\n",
    "\n",
    "( ) \"Ocean\" and \"Air\" only.\n",
    "\n",
    "( ) \"Ocean\" and \"Air Charter\" only."
   ]
  }
 ],
 "metadata": {
  "language_info": {
   "name": "python"
  }
 },
 "nbformat": 4,
 "nbformat_minor": 2
}
