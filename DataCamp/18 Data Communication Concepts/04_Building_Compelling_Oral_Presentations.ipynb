{
 "cells": [
  {
   "cell_type": "markdown",
   "metadata": {},
   "source": [
    "# 4 Building Compelling Oral Presentations"
   ]
  },
  {
   "cell_type": "markdown",
   "metadata": {},
   "source": [
    "# Is this the plan?\n",
    "\n",
    "You need to present your findings on software development sector salaries for San Francisco employees and the predictive model you used, which you worked on in Chapter 2, to the executive team.\n",
    "\n",
    "You open your computer and start drafting slides. But then, you recall the course you took on communicating with data. You feel that you are missing something. So you write down the facts you remember to build a compelling oral presentation.\n",
    "\n",
    "Can you identify which of the following statements is correct?"
   ]
  },
  {
   "cell_type": "markdown",
   "metadata": {},
   "source": [
    "# An effective plan!\n",
    "\n",
    "Well done! You identified which statements were correct. Now, you know how to plan your slides on salaries for San Francisco employees. It's time to determine which sections you will include in your presentation.\n",
    "\n",
    "Can you put in order the topics for the sections of your oral presentation?"
   ]
  },
  {
   "cell_type": "markdown",
   "metadata": {},
   "source": [
    "# A color building\n",
    "\n",
    "You have planned the presentation for your findings on software development sector salaries for San Francisco employees. Now, it's time to build the slides. After putting your slide deck together, you ask your coworker to give you feedback. She makes comments on the different slides.\n",
    "\n",
    "You start by reviewing the following graph slide.\n",
    "\n",
    "graphs\n",
    "\n",
    "One of the comments she wrote about the slide is not correct. Can you select which one it is?"
   ]
  },
  {
   "cell_type": "markdown",
   "metadata": {},
   "source": [
    "# Possible Answers\n",
    "Select one answer\n",
    "\n",
    "(x) The headline looks stylish. Even though the spacing between the letters is small, the font adds originality to the slide.\n",
    "\n",
    "( ) The amount of graphs displayed is adequate. The two full-size graphs can be properly seen and compared.\n",
    "\n",
    "( ) It's a good idea using the red square to emphasize one of the graphs. It will make the audience focus on what graph you are explaining."
   ]
  },
  {
   "cell_type": "markdown",
   "metadata": {},
   "source": [
    "# Too much text\n",
    "\n",
    "Your coworker also gives you feedback on slides that only have text. She feels like the slide can be improved a lot. She gives you some options on how you can improve the slide.\n",
    "\n",
    "text\n",
    "\n",
    "One of the following statements is not correct. Can you select which one is it?"
   ]
  },
  {
   "cell_type": "markdown",
   "metadata": {},
   "source": [
    "# Possible Answers\n",
    "Select one answer\n",
    "\n",
    "(x) Instead of writing all the text in paragraphs, convert each concise main idea to bullet points.\n",
    "\n",
    "( ) The headline is well formated using big letters. Also, it is specific and concise.\n",
    "\n",
    "( ) Highlight the keywords in the text using red, green, yellow, blue, and magenta. Using several colors will help catch the audience's attention.\n",
    "\n",
    "( ) It would be a good idea to break the slide into two slides. In the first one, put the second paragraph in gray. Reveal the text in the second slide."
   ]
  },
  {
   "cell_type": "markdown",
   "metadata": {},
   "source": [
    "# The right building\n",
    "\n",
    "Well done building a text slide! Now, you need to review the rest of the comments from your coworker. She left you the feedback in two stacks of notes: one stack for best practices and one stack for what you should avoid. However, the stacks fell during your lunch break and are all mixed up.\n",
    "\n",
    "Can you classify which of the following comments are best practice in building a presentation, and which ones should be avoided?"
   ]
  },
  {
   "cell_type": "markdown",
   "metadata": {},
   "source": [
    "# Put it into practice\n",
    "\n",
    "Excellent job creating those slides for the project on software development sector salaries for San Francisco employees!\n",
    "\n",
    "Now that you have your slide deck ready, it's time to deliver your presentation. Your project manager sends you an email. She asks you if you can have the meeting at the end of the afternoon. You are unsure because you need to practice. So you ask for some time for rehearsal. To convince your manager, you make a list of the advantages of practicing and rehearsing a presentation.\n",
    "\n",
    "Can you decide which examples you wrote are correct and which ones are incorrect?"
   ]
  },
  {
   "cell_type": "markdown",
   "metadata": {},
   "source": [
    "# Best practice\n",
    "\n",
    "Your rehearsal went very well! You are ready to present to the stakeholders.\n",
    "\n",
    "However, you feel nervous. You know this is completely normal but you don't want to look like you are unsure of your content. You take three big breaths and remember your training. There are some key points that will help you deliver the presentation effectively.\n",
    "\n",
    "Can you identify which of these statements are suitable points to consider, and which ones are not?"
   ]
  },
  {
   "cell_type": "markdown",
   "metadata": {},
   "source": [
    "# The true mistake\n",
    "\n",
    "Your coworker asks you to help him practice for his presentation. He wants your feedback so he can be prepared to deliver an important project to the company's CEO.\n",
    "\n",
    "He gives you a list of best practices he should observe during his speech. But you notice that some of them are not correct.\n",
    "\n",
    "Can you identify which statements are wrong?"
   ]
  },
  {
   "cell_type": "markdown",
   "metadata": {},
   "source": [
    "# Do's and don'ts\n",
    "\n",
    "It's the day before the presentation for your project on customer churn. Your team lead arrives and tells you that the CEO will be there to listen to your results. You start getting nervous.\n",
    "\n",
    "You have planned your presentation. You built the slides focusing on a non-tech audience. You have practiced and rehearsed with some colleagues. But you really want to avoid making any common mistakes during your talk. So you decide to practice one more time.\n",
    "\n",
    "To achieve your goal, you need to remember best practices so you can implement them. Also, you should make a list of common errors so you can avoid them."
   ]
  }
 ],
 "metadata": {
  "language_info": {
   "name": "python"
  }
 },
 "nbformat": 4,
 "nbformat_minor": 2
}
