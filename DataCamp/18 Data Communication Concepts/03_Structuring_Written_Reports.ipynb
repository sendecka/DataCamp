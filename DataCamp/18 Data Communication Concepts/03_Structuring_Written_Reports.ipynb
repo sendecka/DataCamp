{
 "cells": [
  {
   "cell_type": "markdown",
   "metadata": {},
   "source": [
    "# 3 Structuring Written Reports"
   ]
  },
  {
   "cell_type": "markdown",
   "metadata": {},
   "source": [
    "Now that you understand how to prepare for communicating findings, it’s time to learn how to structure your reports. You'll also learn the importance of reproducibility (work smarter, not harder) and how to get to the point when describing your findings. You’ll then get to apply all you’ve learned to a real-world use case as you create a compelling report on credit risk."
   ]
  },
  {
   "cell_type": "markdown",
   "metadata": {},
   "source": [
    "# Something to report\n",
    "\n",
    "You need to present a report regarding your findings about customer churn and the predictive model you used, which you worked on in Chapter 1. Your project manager asks you to write it according to industry standards. You're aware that this requires you to follow a strict structure. Your manager also specifies that the report will be shared with technical stakeholders.\n",
    "\n",
    "First, you write the sections separately: it's easier to handle that way. Then comes the time to bring all the sections together.\n",
    "\n",
    "Can you organize the sections you wrote for the report in the correct order?"
   ]
  },
  {
   "cell_type": "markdown",
   "metadata": {},
   "source": [
    "# In summary\n",
    "\n",
    "Well done ordering the sections in your technical stakeholder report. Your project lead asks you to write a report to send to the directory board. They are non-technical stakeholders. You will revisit your previous report and tailor it as a summary report. But first, you want to refresh how a final report and a summary report differ.\n",
    "\n",
    "Can you correctly classify the statements as characteristics of a final or summary report?"
   ]
  },
  {
   "cell_type": "markdown",
   "metadata": {},
   "source": [
    "# Replicate me\n",
    "\n",
    "Your manager asks you to write a report on your customer churn project for your peers at the New York office. She mentions that the team wants to replicate your work. After wrapping up the report, you add a link to your code repository. She looks confused and asks you why you did that.\n",
    "\n",
    "You explain: If the New York team wants to replicate my work, then they should have access to the same ___ and the same ___ I used. However, if they want to achieve ___ , they can use their own set of tools.\n",
    "\n",
    "Fill in the blank spaces by choosing the correct word combination from the options."
   ]
  },
  {
   "cell_type": "markdown",
   "metadata": {},
   "source": [
    "# Possible Answers\n",
    "Select one answer\n",
    "\n",
    "(x) data, code, replicability\n",
    "\n",
    "( ) team, code, reproducibility\n",
    "\n",
    "( ) data, code, reproducibility\n",
    "\n",
    "( ) team, data, replicability"
   ]
  },
  {
   "cell_type": "markdown",
   "metadata": {},
   "source": [
    "# Same results\n",
    "\n",
    "Your manager is very interested in learning more about reproducibility. She asks you to give a short presentation at the weekly meeting. You're going to introduce the best practices to create reproducible data science results.\n",
    "\n",
    "You prepare a slide presenting bad practices, and another one highlighting best practices.\n",
    "\n",
    "Which of the following statements are considered best practices in reproducibility, and which should be avoided?"
   ]
  },
  {
   "cell_type": "markdown",
   "metadata": {},
   "source": [
    "# Half-empty glass\n",
    "\n",
    "Your coworker, whom you helped with a project on price predictions in Chapter 2, asks you now to read his report. He wants your feedback as the report is designed for the executive team. Particularly, you should focus on fixing any empty or fat phrase, or colloquialism.\n",
    "\n",
    "Can you help him identify improvable sentences, and suggest a better alternative?"
   ]
  },
  {
   "cell_type": "markdown",
   "metadata": {},
   "source": [
    "# Strong words\n",
    "\n",
    "Your coworker is very satisfied with your feedback. He now asks you to look at another report he wrote for technical stakeholders. You noticed that the writing style is confusing and verbose. You decide to help him use more concrete nouns, and to fix redundant adjectives and run-on sentences.\n",
    "\n",
    "Can you classify which of the following examples are intelligible, and which ones can be improved?"
   ]
  },
  {
   "cell_type": "markdown",
   "metadata": {},
   "source": [
    "# Credit me\n",
    "\n",
    "You are about to leave the office when you get a call from the operation director. She tells you that you need to write a report on the credit score to present to the advisory board. She explains: \"They want to understand your analysis to help plan a strategy to pre-select customers for loans\".\n",
    "\n",
    "Which of the following reports is the most suitable to write in this case?"
   ]
  },
  {
   "cell_type": "markdown",
   "metadata": {},
   "source": [
    "# Possible Answers\n",
    "Select one answer\n",
    "\n",
    "(x) An analytic report including a heatmap with correlation between all predictive variables, technical details about your random forest model, and final recommendations.\n",
    "\n",
    "( ) A short report showing a barplot with the financial risks involved if loans are given to defaulted and not defaulted customers.\n",
    "\n",
    "( ) An analytic report with boxplots displaying the relationship between loan and customer traits, and a barplot of most important predictors."
   ]
  },
  {
   "cell_type": "markdown",
   "metadata": {},
   "source": [
    "# Report my credit\n",
    "\n",
    "Your analytic report on the credit score project was a success. Your project manager was very satisfied with your work. Now, it's time to write the summary report for the financial department director. You want her to understand the key findings. Particularly, that the most important features for predicting a loan default are income, age, and employment length.\n",
    "\n",
    "Can you put in order the sections of your summary report?"
   ]
  }
 ],
 "metadata": {
  "language_info": {
   "name": "python"
  }
 },
 "nbformat": 4,
 "nbformat_minor": 2
}
