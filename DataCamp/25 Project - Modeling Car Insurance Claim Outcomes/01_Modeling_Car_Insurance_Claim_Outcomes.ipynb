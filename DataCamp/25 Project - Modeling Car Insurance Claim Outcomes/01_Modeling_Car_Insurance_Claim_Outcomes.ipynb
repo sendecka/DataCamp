{
 "cells": [
  {
   "cell_type": "markdown",
   "metadata": {},
   "source": [
    "# Modeling Car Insurance Claim Outcomes"
   ]
  },
  {
   "cell_type": "markdown",
   "metadata": {},
   "source": [
    "# Project Description\n",
    "\n",
    "Machine learning is very popular in the insurance market, which has long been renowned for being data-driven.\n",
    "\n",
    "Working on behalf of On the Road car insurance, you'll investigate their customer data to identify the feature that produces the most accurate logistic regression model for them to predict whether a claim will be made against a policy!"
   ]
  },
  {
   "cell_type": "markdown",
   "metadata": {},
   "source": [
    "- Identify the single feature of the data that is the best predictor of whether a customer will put in a claim (the \"outcome\" column), excluding the \"id\" column.\n",
    "\n",
    "- Store as a DataFrame called best_feature_df, containing columns named \"best_feature\" and \"best_accuracy\" with the name of the feature with the highest accuracy, and the respective accuracy score."
   ]
  },
  {
   "cell_type": "markdown",
   "metadata": {},
   "source": [
    "Insurance companies invest a lot of time and money into optimizing their pricing and accurately estimating the likelihood that customers will make a claim. In many countries insurance it is a legal requirement to have car insurance in order to drive a vehicle on public roads, so the market is very large!\n",
    "\n",
    "Knowing all of this, On the Road car insurance have requested your services in building a model to predict whether a customer will make a claim on their insurance during the policy period. As they have very little expertise and infrastructure for deploying and monitoring machine learning models, they've asked you to identify the single feature that results in the best performing model, as measured by accuracy, so they can start with a simple model in production.\n",
    "\n",
    "They have supplied you with their customer data as a csv file called car_insurance.csv, along with a table detailing the column names and descriptions below."
   ]
  },
  {
   "cell_type": "code",
   "execution_count": null,
   "metadata": {},
   "outputs": [],
   "source": [
    "# Import required modules\n",
    "import pandas as pd\n",
    "import numpy as np\n",
    "from statsmodels.formula.api import logit"
   ]
  },
  {
   "cell_type": "code",
   "execution_count": null,
   "metadata": {},
   "outputs": [],
   "source": [
    "# Read in dataset\n",
    "cars = pd.read_csv(\"car_insurance.csv\")\n",
    "\n",
    "# Check for missing values\n",
    "cars.info()"
   ]
  },
  {
   "cell_type": "code",
   "execution_count": null,
   "metadata": {},
   "outputs": [],
   "source": [
    "# Fill missing values with the mean\n",
    "cars[\"credit_score\"].fillna(cars[\"credit_score\"].mean(), inplace=True)\n",
    "cars[\"annual_mileage\"].fillna(cars[\"annual_mileage\"].mean(), inplace=True)\n",
    "\n",
    "# Empty list to store model results\n",
    "models = []"
   ]
  },
  {
   "cell_type": "code",
   "execution_count": null,
   "metadata": {},
   "outputs": [],
   "source": [
    "# Feature columns\n",
    "features = cars.drop(columns=[\"id\", \"outcome\"]).columns\n",
    "\n",
    "# Loop through features\n",
    "for col in features:\n",
    "    # Create a model\n",
    "    model = logit(f\"outcome ~ {col}\", data=cars).fit()\n",
    "    # Add each model to the models list\n",
    "    models.append(model)\n",
    "\n",
    "# Empty list to store accuracies\n",
    "accuracies = []"
   ]
  },
  {
   "cell_type": "code",
   "execution_count": null,
   "metadata": {},
   "outputs": [],
   "source": [
    "# Loop through models\n",
    "for feature in range(0, len(models)):\n",
    "    # Compute the confusion matrix\n",
    "    conf_matrix = models[feature].pred_table()\n",
    "    # True negatives\n",
    "    tn = conf_matrix[0,0]\n",
    "    # True positives\n",
    "    tp = conf_matrix[1,1]\n",
    "    # False negatives\n",
    "    fn = conf_matrix[1,0]\n",
    "    # False positives\n",
    "    fp = conf_matrix[0,1]\n",
    "    # Compute accuracy\n",
    "    acc = (tn + tp) / (tn + fn + fp + tp)\n",
    "    accuracies.append(acc)\n",
    "\n",
    "# Find the feature with the largest accuracy\n",
    "best_feature = features[accuracies.index(max(accuracies))]\n",
    "\n",
    "# Create best_feature_df\n",
    "best_feature_df = pd.DataFrame({\"best_feature\": best_feature,\n",
    "                                \"best_accuracy\": max(accuracies)},\n",
    "                                index=[0])\n",
    "best_feature_df"
   ]
  }
 ],
 "metadata": {
  "kernelspec": {
   "display_name": "Python 3",
   "language": "python",
   "name": "python3"
  },
  "language_info": {
   "codemirror_mode": {
    "name": "ipython",
    "version": 3
   },
   "file_extension": ".py",
   "mimetype": "text/x-python",
   "name": "python",
   "nbconvert_exporter": "python",
   "pygments_lexer": "ipython3",
   "version": "3.10.13"
  }
 },
 "nbformat": 4,
 "nbformat_minor": 2
}
