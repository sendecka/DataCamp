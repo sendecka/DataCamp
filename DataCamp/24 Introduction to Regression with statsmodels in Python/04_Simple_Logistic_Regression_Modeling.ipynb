{
 "cells": [
  {
   "cell_type": "markdown",
   "metadata": {},
   "source": [
    "# 4 Simple Logistic Regression Modeling\n",
    "\n",
    "Learn to fit logistic regression models. Using real-world data, you’ll predict the likelihood of a customer closing their bank account as probabilities of success and odds ratios, and quantify model performance using confusion matrices."
   ]
  },
  {
   "cell_type": "markdown",
   "metadata": {},
   "source": [
    "# Exploring the explanatory variables\n",
    "\n",
    "When the response variable is logical, all the points lie on the \n",
    " and \n",
    " lines, making it difficult to see what is happening. In the video, until you saw the trend line, it wasn't clear how the explanatory variable was distributed on each line. This can be solved with a histogram of the explanatory variable, grouped by the response.\n",
    "\n",
    "You will use these histograms to get to know the financial services churn dataset seen in the video.\n",
    "\n",
    "churn is available as a pandas DataFrame."
   ]
  },
  {
   "cell_type": "markdown",
   "metadata": {},
   "source": [
    "# Instructions:\n",
    "\n",
    "- In a sns.displot() call on the churn data, plot time_since_last_purchase as two histograms, split for each has_churned value."
   ]
  },
  {
   "cell_type": "code",
   "execution_count": null,
   "metadata": {},
   "outputs": [],
   "source": [
    "# Create the histograms of time_since_last_purchase split by has_churned\n",
    "sns.displot(data=churn,\n",
    "            x=\"time_since_last_purchase\",\n",
    "            col=\"has_churned\")\n",
    "\n",
    "plt.show()"
   ]
  },
  {
   "cell_type": "markdown",
   "metadata": {},
   "source": [
    "- Redraw the histograms using the time_since_first_purchase column, split for each has_churned value."
   ]
  },
  {
   "cell_type": "code",
   "execution_count": null,
   "metadata": {},
   "outputs": [],
   "source": [
    "# Redraw the plot with time_since_first_purchase\n",
    "sns.displot(data=churn,\n",
    "            x=\"time_since_first_purchase\",\n",
    "            col=\"has_churned\")\n",
    "\n",
    "plt.show()"
   ]
  },
  {
   "cell_type": "markdown",
   "metadata": {},
   "source": [
    "# Visualizing linear and logistic models\n",
    "\n",
    "As with linear regressions, regplot() will draw model predictions for a logistic regression without you having to worry about the modeling code yourself. To see how the predictions differ for linear and logistic regressions, try drawing both trend lines side by side. Spoiler: you should see a linear (straight line) trend from the linear model, and a logistic (S-shaped) trend from the logistic model.\n",
    "\n",
    "churn is available."
   ]
  },
  {
   "cell_type": "markdown",
   "metadata": {},
   "source": [
    "# Instructions:\n",
    "\n",
    "- Using churn, plot has_churned versus time_since_first_purchase as a scatter plot with a red linear regression trend line (without a standard error ribbon)."
   ]
  },
  {
   "cell_type": "code",
   "execution_count": null,
   "metadata": {},
   "outputs": [],
   "source": [
    "# Draw a linear regression trend line and a scatter plot of time_since_first_purchase vs. has_churned\n",
    "sns.regplot(data = churn, x='time_since_first_purchase',y='has_churned',\n",
    "            line_kws={\"color\": \"red\"})\n",
    "\n",
    "plt.show()"
   ]
  },
  {
   "cell_type": "markdown",
   "metadata": {},
   "source": [
    "- Using churn, plot has_churned versus time_since_first_purchase as a scatter plot with a blue logistic regression trend line (without a standard error ribbon)."
   ]
  },
  {
   "cell_type": "code",
   "execution_count": null,
   "metadata": {},
   "outputs": [],
   "source": [
    "# Draw a linear regression trend line and a scatter plot of time_since_first_purchase vs. has_churned\n",
    "sns.regplot(x=\"time_since_first_purchase\",\n",
    "            y=\"has_churned\",\n",
    "            data=churn, \n",
    "            ci=None,\n",
    "            line_kws={\"color\": \"red\"})\n",
    "\n",
    "# Draw a logistic regression trend line and a scatter plot of time_since_first_purchase vs. has_churned\n",
    "sns.regplot(x=\"time_since_first_purchase\",\n",
    "            y=\"has_churned\",\n",
    "            data=churn,\n",
    "            ci=None,\n",
    "            logistic=True,\n",
    "            line_kws={\"color\": \"blue\"})\n",
    "\n",
    "plt.show()"
   ]
  },
  {
   "cell_type": "markdown",
   "metadata": {},
   "source": [
    "# Logistic regression with logit()\n",
    "\n",
    "Logistic regression requires another function from statsmodels.formula.api: logit(). It takes the same arguments as ols(): a formula and data argument. You then use .fit() to fit the model to the data.\n",
    "\n",
    "Here, you'll model how the length of relationship with a customer affects churn.\n",
    "\n",
    "churn is available."
   ]
  },
  {
   "cell_type": "markdown",
   "metadata": {},
   "source": [
    "# Instructions:\n",
    "\n",
    "- Import the logit() function from statsmodels.formula.api.\n",
    "- Fit a logistic regression of has_churned versus time_since_first_purchase using the churn dataset. Assign to mdl_churn_vs_relationship.\n",
    "- Print the parameters of the fitted model."
   ]
  },
  {
   "cell_type": "code",
   "execution_count": null,
   "metadata": {},
   "outputs": [],
   "source": [
    "# Import logit\n",
    "from statsmodels.formula.api import logit\n",
    "\n",
    "# Fit a logistic regression of churn vs. \n",
    "# length of relationship using the churn dataset\n",
    "mdl_churn_vs_relationship = logit('has_churned~time_since_first_purchase', data=churn).fit()\n",
    "\n",
    "# Print the parameters of the fitted model\n",
    "print(mdl_churn_vs_relationship.params)"
   ]
  },
  {
   "cell_type": "markdown",
   "metadata": {},
   "source": [
    "# Probabilities\n",
    "\n",
    "There are four main ways of expressing the prediction from a logistic regression model – we'll look at each of them over the next four exercises. Firstly, since the response variable is either \"yes\" or \"no\", you can make a prediction of the probability of a \"yes\". Here, you'll calculate and visualize these probabilities.\n",
    "\n",
    "Two variables are available:\n",
    "\n",
    "mdl_churn_vs_relationship is the fitted logistic regression model of has_churned versus time_since_first_purchase.\n",
    "explanatory_data is a DataFrame of explanatory values."
   ]
  },
  {
   "cell_type": "markdown",
   "metadata": {},
   "source": [
    "# Instructions:\n",
    "\n",
    "- Create a DataFrame, prediction_data, by assigning a column has_churned to explanatory_data.\n",
    "- In the has_churned column, store the predictions of the probability of churning: use the model, mdl_churn_vs_relationship, and the explanatory data, explanatory_data.\n",
    "- Print the first five lines of the prediction DataFrame."
   ]
  },
  {
   "cell_type": "code",
   "execution_count": null,
   "metadata": {},
   "outputs": [],
   "source": [
    "# Create prediction_data\n",
    "prediction_data = explanatory_data.assign(\n",
    "  has_churned = mdl_churn_vs_relationship.predict(explanatory_data)\n",
    ")\n",
    "\n",
    "# Print the head\n",
    "print(prediction_data.head())"
   ]
  },
  {
   "cell_type": "markdown",
   "metadata": {},
   "source": [
    "- Create a scatter plot with a logistic trend line of has_churned versus time_since_first_purchase.\n",
    "- Overlay the plot with the points from prediction_data, colored red."
   ]
  },
  {
   "cell_type": "code",
   "execution_count": null,
   "metadata": {},
   "outputs": [],
   "source": [
    "# Create prediction_data\n",
    "prediction_data = explanatory_data.assign(\n",
    "    has_churned = mdl_churn_vs_relationship.predict(explanatory_data)\n",
    ")\n",
    "\n",
    "fig = plt.figure()\n",
    "\n",
    "# Create a scatter plot with logistic trend line\n",
    "sns.regplot(x=\"time_since_first_purchase\",\n",
    "            y=\"has_churned\",\n",
    "            data=churn,\n",
    "            ci=None,\n",
    "            logistic=True)\n",
    "\n",
    "# Overlay with prediction_data, colored red\n",
    "sns.scatterplot(x=\"time_since_first_purchase\",\n",
    "                y=\"has_churned\",\n",
    "                data=prediction_data,\n",
    "                color=\"darkred\")\n",
    "\n",
    "# Show the plot\n",
    "plt.show()"
   ]
  },
  {
   "cell_type": "markdown",
   "metadata": {},
   "source": [
    "# Most likely outcome\n",
    "\n",
    "When explaining your results to a non-technical audience, you may wish to side-step talking about probabilities and simply explain the most likely outcome. That is, rather than saying there is a 60% chance of a customer churning, you say that the most likely outcome is that the customer will churn. The trade-off here is easier interpretation at the cost of nuance.\n",
    "\n",
    "mdl_churn_vs_relationship, explanatory_data, and prediction_data are available from the previous exercise."
   ]
  },
  {
   "cell_type": "markdown",
   "metadata": {},
   "source": [
    "# Instructions:\n",
    "\n",
    "- Update prediction_data to add a column of the most likely churn outcome, most_likely_outcome.\n",
    "- Print the first five lines of prediction_data."
   ]
  },
  {
   "cell_type": "code",
   "execution_count": null,
   "metadata": {},
   "outputs": [],
   "source": [
    "# Update prediction data by adding most_likely_outcome\n",
    "prediction_data[\"most_likely_outcome\"] = np.round(prediction_data[\"has_churned\"])\n",
    "\n",
    "# Print the head\n",
    "print(prediction_data.head())"
   ]
  },
  {
   "cell_type": "markdown",
   "metadata": {},
   "source": [
    "- The code for creating a scatter plot with logistic trend line has been added from a previous exercise.\n",
    "- Overlay the plot with prediction_data with red data points, with most_likely_outcome on the y-axis."
   ]
  },
  {
   "cell_type": "code",
   "execution_count": null,
   "metadata": {},
   "outputs": [],
   "source": [
    "# Update prediction data by adding most_likely_outcome\n",
    "prediction_data[\"most_likely_outcome\"] = np.round(prediction_data[\"has_churned\"])\n",
    "\n",
    "fig = plt.figure()\n",
    "\n",
    "# Create a scatter plot with logistic trend line (from previous exercise)\n",
    "sns.regplot(x=\"time_since_first_purchase\",\n",
    "            y=\"has_churned\",\n",
    "            data=churn,\n",
    "            ci=None,\n",
    "            logistic=True)\n",
    "\n",
    "# Overlay with prediction_data, colored red\n",
    "sns.scatterplot(x=\"time_since_first_purchase\",\n",
    "                y=\"most_likely_outcome\",\n",
    "                data=prediction_data,\n",
    "                color=\"red\")\n",
    "\n",
    "# Show the plot\n",
    "plt.show()"
   ]
  },
  {
   "cell_type": "markdown",
   "metadata": {},
   "source": [
    "# Odds ratio\n",
    "\n",
    "Odds ratios compare the probability of something happening with the probability of it not happening. This is sometimes easier to reason about than probabilities, particularly when you want to make decisions about choices. For example, if a customer has a 20% chance of churning, it may be more intuitive to say \"the chance of them not churning is four times higher than the chance of them churning\".\n",
    "\n",
    "mdl_churn_vs_relationship, explanatory_data, and prediction_data are available from the previous exercise."
   ]
  },
  {
   "cell_type": "markdown",
   "metadata": {},
   "source": [
    "# Instructions:\n",
    "\n",
    "- Update prediction_data to add a column, odds_ratio, of the odds ratios.\n",
    "- Print the first five lines of prediction_data."
   ]
  },
  {
   "cell_type": "code",
   "execution_count": null,
   "metadata": {},
   "outputs": [],
   "source": [
    "# Update prediction data with odds_ratio\n",
    "prediction_data[\"odds_ratio\"] = prediction_data[\"has_churned\"] / (1 - prediction_data[\"has_churned\"])\n",
    "\n",
    "# Print the head\n",
    "print(prediction_data.head())"
   ]
  },
  {
   "cell_type": "markdown",
   "metadata": {},
   "source": [
    "- Using prediction_data, draw a line plot of odds_ratio versus time_since_first_purchase.\n",
    "- Some code for preparing the final plot has already been added."
   ]
  },
  {
   "cell_type": "code",
   "execution_count": null,
   "metadata": {},
   "outputs": [],
   "source": [
    "# Update prediction data with odds_ratio\n",
    "prediction_data[\"odds_ratio\"] = prediction_data[\"has_churned\"] / (1 - prediction_data[\"has_churned\"])\n",
    "\n",
    "fig = plt.figure()\n",
    "\n",
    "# Create a line plot of odds_ratio vs time_since_first_purchase\n",
    "sns.lineplot(x='time_since_first_purchase', y='odds_ratio', data = prediction_data)\n",
    "\n",
    "# Add a dotted horizontal line at odds_ratio = 1\n",
    "plt.axhline(y=1, linestyle=\"dotted\")\n",
    "\n",
    "# Show the plot\n",
    "plt.show()"
   ]
  },
  {
   "cell_type": "markdown",
   "metadata": {},
   "source": [
    "# Log odds ratio\n",
    "\n",
    "One downside to probabilities and odds ratios for logistic regression predictions is that the prediction lines for each are curved. This makes it harder to reason about what happens to the prediction when you make a change to the explanatory variable. The logarithm of the odds ratio (the \"log odds ratio\" or \"logit\") does have a linear relationship between predicted response and explanatory variable. That means that as the explanatory variable changes, you don't see dramatic changes in the response metric - only linear changes.\n",
    "\n",
    "Since the actual values of log odds ratio are less intuitive than (linear) odds ratio, for visualization purposes it's usually better to plot the odds ratio and apply a log transformation to the y-axis scale.\n",
    "\n",
    "mdl_churn_vs_relationship, explanatory_data, and prediction_data are available from the previous exercise."
   ]
  },
  {
   "cell_type": "markdown",
   "metadata": {},
   "source": [
    "# Instructions:\n",
    "\n",
    "- Update prediction_data to add a log_odds_ratio column derived from odds_ratio.\n",
    "- Print the first five lines of prediction_data."
   ]
  },
  {
   "cell_type": "code",
   "execution_count": null,
   "metadata": {},
   "outputs": [],
   "source": [
    "# Update prediction data with log_odds_ratio\n",
    "prediction_data[\"log_odds_ratio\"] = np.log(prediction_data['odds_ratio'])\n",
    "\n",
    "# Print the head\n",
    "print(prediction_data.head())"
   ]
  },
  {
   "cell_type": "markdown",
   "metadata": {},
   "source": [
    "- Update the code for the line plot to plot log_odds_ratio versus time_since_first_purchase."
   ]
  },
  {
   "cell_type": "code",
   "execution_count": null,
   "metadata": {},
   "outputs": [],
   "source": [
    "# Update prediction data with log_odds_ratio\n",
    "prediction_data[\"log_odds_ratio\"] = np.log(prediction_data[\"odds_ratio\"])\n",
    "\n",
    "# Create a new figure\n",
    "fig = plt.figure()\n",
    "\n",
    "# Update the line plot: log_odds_ratio vs time_since_first_purchase\n",
    "sns.lineplot(x=\"time_since_first_purchase\",\n",
    "             y=\"log_odds_ratio\",\n",
    "             data=prediction_data)\n",
    "\n",
    "# Add a dotted horizontal line at log_odds_ratio = 0\n",
    "plt.axhline(y=0, linestyle=\"dotted\")\n",
    "\n",
    "# Show the plot\n",
    "plt.show()"
   ]
  },
  {
   "cell_type": "markdown",
   "metadata": {},
   "source": [
    "# Calculating the confusion matrix\n",
    "\n",
    "A confusion matrix (occasionally called a confusion table) is the basis of all performance metrics for models with a categorical response (such as a logistic regression). It contains the counts of each actual response-predicted response pair. In this case, where there are two possible responses (churn or not churn), there are four overall outcomes.\n",
    "\n",
    "True positive: The customer churned and the model predicted they would.\n",
    "False positive: The customer didn't churn, but the model predicted they would.\n",
    "True negative: The customer didn't churn and the model predicted they wouldn't.\n",
    "False negative: The customer churned, but the model predicted they wouldn't.\n",
    "churn and mdl_churn_vs_relationship are available."
   ]
  },
  {
   "cell_type": "markdown",
   "metadata": {},
   "source": [
    "# Instructions:\n",
    "\n",
    "- Get the actual responses by subsetting the has_churned column of the dataset. Assign to actual_response.\n",
    "- Get the \"most likely\" predicted responses from the model. Assign to predicted_response.\n",
    "- Create a DataFrame from actual_response and predicted_response. Assign to outcomes.\n",
    "- Print outcomes as a table of counts, representing the confusion matrix. This has been done for you."
   ]
  },
  {
   "cell_type": "code",
   "execution_count": null,
   "metadata": {},
   "outputs": [],
   "source": [
    "# Get the actual responses\n",
    "actual_response = churn[\"has_churned\"]\n",
    "\n",
    "# Get the predicted responses\n",
    "predicted_response = np.round(mdl_churn_vs_relationship.predict())\n",
    "\n",
    "# Create outcomes as a DataFrame of both Series\n",
    "outcomes = pd.DataFrame({\"actual_response\": actual_response,\n",
    "                         \"predicted_response\": predicted_response})\n",
    "\n",
    "print(type(outcomes))\n",
    "print(outcomes.columns)\n",
    "# Print the outcomes\n",
    "# print(outcomes.value_counts(sort = False))\n",
    "# print(pd.value_counts(outcomes.values.flatten()))\n",
    "conf_matrix = pd.crosstab(outcomes['actual_response'], outcomes['predicted_response'], rownames=['Actual'], colnames=['Predicted'])\n",
    "print(conf_matrix)"
   ]
  },
  {
   "cell_type": "markdown",
   "metadata": {},
   "source": [
    "# Drawing a mosaic plot of the confusion matrix\n",
    "\n",
    "While calculating the performance matrix might be fun, it would become tedious if you needed multiple confusion matrices of different models. Luckily, the .pred_table() method can calculate the confusion matrix for you.\n",
    "\n",
    "Additionally, you can use the output from the .pred_table() method to visualize the confusion matrix, using the mosaic() function.\n",
    "\n",
    "churn and mdl_churn_vs_relationship are available."
   ]
  },
  {
   "cell_type": "markdown",
   "metadata": {},
   "source": [
    "# Instructions:\n",
    "\n",
    "- Import the mosaic() function from statsmodels.graphics.mosaicplot.\n",
    "- Create conf_matrix using the .pred_table() method and print it.\n",
    "- Draw a mosaic plot of the confusion matrix."
   ]
  },
  {
   "cell_type": "code",
   "execution_count": null,
   "metadata": {},
   "outputs": [],
   "source": [
    "# Import mosaic from statsmodels.graphics.mosaicplot\n",
    "from statsmodels.graphics.mosaicplot import mosaic\n",
    "\n",
    "# Calculate the confusion matrix conf_matrix\n",
    "conf_matrix = mdl_churn_vs_relationship.pred_table()\n",
    "\n",
    "# Print it\n",
    "print(conf_matrix)\n",
    "\n",
    "# Draw a mosaic plot of conf_matrix\n",
    "mosaic(conf_matrix)\n",
    "plt.show()"
   ]
  },
  {
   "cell_type": "markdown",
   "metadata": {},
   "source": [
    "# Measuring logistic model performance\n",
    "\n",
    "As you know by now, several metrics exist for measuring the performance of a logistic regression model. In this last exercise, you'll manually calculate accuracy, sensitivity, and specificity. Recall the following definitions:\n",
    "\n",
    "Accuracy is the proportion of predictions that are correct.\n",
    " \n",
    "Sensitivity is the proportion of true observations that are correctly predicted by the model as being true.\n",
    " \n",
    "\n",
    "Specificity is the proportion of false observations that are correctly predicted by the model as being false.\n",
    " \n",
    "\n",
    "churn, mdl_churn_vs_relationship, and conf_matrix are available."
   ]
  },
  {
   "cell_type": "markdown",
   "metadata": {},
   "source": [
    "# Instructions:\n",
    "\n",
    "- Extract the number of true positives (TP), true negatives (TN), false positives (FP), and false negatives (FN) from conf_matrix.\n",
    "- Calculate the accuracy of the model.\n",
    "- Calculate the sensitivity of the model.\n",
    "- Calculate the specificity of the model."
   ]
  },
  {
   "cell_type": "code",
   "execution_count": null,
   "metadata": {},
   "outputs": [],
   "source": [
    "# Extract TN, TP, FN and FP from conf_matrix\n",
    "TN = conf_matrix[0,0]\n",
    "TP = conf_matrix[1,1]\n",
    "FN = conf_matrix[1,0]\n",
    "FP = conf_matrix[0,1]\n",
    "\n",
    "# Calculate and print the accuracy\n",
    "accuracy = (TN + TP) / (TN + FN + FP + TP)\n",
    "print(\"accuracy: \", accuracy)\n",
    "\n",
    "# Calculate and print the sensitivity\n",
    "sensitivity = TP / (TP + FN)\n",
    "print(\"sensitivity: \", sensitivity)\n",
    "\n",
    "# Calculate and print the specificity\n",
    "specificity = TN / (TN + FP)\n",
    "print(\"specificity: \", specificity)"
   ]
  }
 ],
 "metadata": {
  "language_info": {
   "name": "python"
  }
 },
 "nbformat": 4,
 "nbformat_minor": 2
}
