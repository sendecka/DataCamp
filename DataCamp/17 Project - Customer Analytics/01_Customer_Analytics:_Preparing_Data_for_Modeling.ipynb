{
 "cells": [
  {
   "cell_type": "markdown",
   "metadata": {},
   "source": [
    "# Customer Analytics: Preparing Data for Modeling"
   ]
  },
  {
   "cell_type": "markdown",
   "metadata": {},
   "source": [
    "### Project Description\n",
    "\n",
    "Being able to create predictive models is very cool, but translating fancy models into real business value is a major challenge if the training data isn't stored efficiently.\n",
    "\n",
    "You've been hired by a major online data science training provider to store their data much more efficiently, so they can create a model that predicts if course enrollees are looking for a job. You'll convert data types, create ordered categories, and filter ordered categorical data so the data is ready for modeling."
   ]
  },
  {
   "cell_type": "markdown",
   "metadata": {},
   "source": [
    "The Head Data Scientist at Training Data Ltd. has asked you to create a DataFrame called ds_jobs_clean that stores the data in customer_train.csv much more efficiently. Specifically, they have set the following requirements:\n",
    "\n",
    "Columns containing integers must be stored as 32-bit integers (int32).\n",
    "Columns containing floats must be stored as 16-bit floats (float16).\n",
    "Columns containing nominal categorical data must be stored as the category data type.\n",
    "Columns containing ordinal categorical data must be stored as ordered categories, and not mapped to numerical values, with an order that reflects the natural order of the column.\n",
    "The columns of ds_jobs_clean must be in the same order as the original dataset.\n",
    "The DataFrame should be filtered to only contain students with 10 or more years of experience at companies with at least 1000 employees, as their recruiter base is suited to more experienced professionals at enterprise companies.\n",
    "If you call .info() or .memory_usage() methods on ds_jobs and ds_jobs_clean after you've preprocessed it, you should notice a substantial decrease in memory usage."
   ]
  },
  {
   "cell_type": "markdown",
   "metadata": {},
   "source": [
    "A common problem when creating models to generate business value from data is that the datasets can be so large that it can take days for the model to generate predictions. Ensuring that your dataset is stored as efficiently as possible is crucial for allowing these models to run on a more reasonable timescale without having to reduce the size of the dataset.\n",
    "\n",
    "You've been hired by a major online data science training provider called Training Data Ltd. to clean up one of their largest customer datasets. This dataset will eventually be used to predict whether their students are looking for a new job or not, information that they will then use to direct them to prospective recruiters.\n",
    "\n",
    "You've been given access to customer_train.csv, which is a subset of their entire customer dataset, so you can create a proof-of-concept of a much more efficient storage solution. The dataset contains anonymized student information, and whether they were looking for a new job or not during training:"
   ]
  },
  {
   "cell_type": "markdown",
   "metadata": {},
   "source": [
    "\n",
    "| Column       | Description                                  |\n",
    "|------------- |--------------------------------------------- |\n",
    "| `student_id`   | A unique ID for each student.                 |\n",
    "| `city`  | A code for the city the student lives in.  |\n",
    "| `city_development_index` | A scaled development index for the city.       |\n",
    "| `gender` | The student's gender.       |\n",
    "| `relevant_experience` | An indicator of the student's work relevant experience.       |\n",
    "| `enrolled_university` | The type of university course enrolled in (if any).       |\n",
    "| `education_level` | The student's education level.       |\n",
    "| `major_discipline` | The educational discipline of the student.       |\n",
    "| `experience` | The student's total work experience (in years).       |\n",
    "| `company_size` | The number of employees at the student's current employer.       |\n",
    "| `last_new_job` | The number of years between the student's current and previous jobs.       |\n",
    "| `training_hours` | The number of hours of training completed.       |\n",
    "| `job_change` | An indicator of whether the student is looking for a new job (`1`) or not (`0`).       |"
   ]
  },
  {
   "cell_type": "code",
   "execution_count": 1,
   "metadata": {},
   "outputs": [],
   "source": [
    "# Start your code here!\n",
    "import pandas as pd"
   ]
  },
  {
   "cell_type": "code",
   "execution_count": 2,
   "metadata": {},
   "outputs": [],
   "source": [
    "# Load the dataset\n",
    "ds_jobs = pd.read_csv(\"customer_train.csv\")"
   ]
  },
  {
   "cell_type": "code",
   "execution_count": 3,
   "metadata": {},
   "outputs": [],
   "source": [
    "# Copy the DataFrame for cleaning\n",
    "ds_jobs_clean = ds_jobs.copy()\n",
    "\n",
    "# Create a dictionary of columns containing ordered categorical data\n",
    "ordered_cats = {\n",
    "    'relevant_experience': ['No relevant experience', 'Has relevant experience'],\n",
    "    'enrolled_university': ['no_enrollment', 'Part time course', 'Full time course'],\n",
    "    'education_level': ['Primary School', 'High School', 'Graduate', 'Masters', 'Phd'],\n",
    "    'experience': ['<1'] + list(map(str, range(1, 21))) + ['>20'],\n",
    "    'company_size': ['<10', '10-49', '50-99', '100-499', '500-999', '1000-4999', '5000-9999', '10000+'],\n",
    "    'last_new_job': ['never', '1', '2', '3', '4', '>4']\n",
    "}"
   ]
  },
  {
   "cell_type": "code",
   "execution_count": 5,
   "metadata": {},
   "outputs": [],
   "source": [
    "# Loop through DataFrame columns to efficiently change data types\n",
    "for col in ds_jobs_clean:\n",
    "    \n",
    "    # Convert integer columns to int32\n",
    "    if ds_jobs_clean[col].dtype == 'int':\n",
    "        ds_jobs_clean[col] = ds_jobs_clean[col].astype('int32')\n",
    "    \n",
    "    # Convert float columns to float16\n",
    "    elif ds_jobs_clean[col].dtype == 'float':\n",
    "        ds_jobs_clean[col] = ds_jobs_clean[col].astype('float16')\n",
    "        \n",
    "     # Convert columns containing ordered categorical data to ordered categories using dict\n",
    "    elif col in ordered_cats.keys():\n",
    "        category = pd.CategoricalDtype(ordered_cats[col], ordered=True)\n",
    "        ds_jobs_clean[col] = ds_jobs_clean[col].astype(category)\n",
    "    \n",
    "    # Convert remaining columns to standard categories\n",
    "    else:\n",
    "        ds_jobs_clean[col] = ds_jobs_clean[col].astype('category')\n",
    "        "
   ]
  },
  {
   "cell_type": "code",
   "execution_count": null,
   "metadata": {},
   "outputs": [],
   "source": [
    "# Filter students with 10 or more years experience at companies with at least 1000 employees\n",
    "ds_jobs_clean = ds_jobs_clean[(ds_jobs_clean['experience'] >= '10') & (ds_jobs_clean['company_size'] >= '1000-4999')]"
   ]
  }
 ],
 "metadata": {
  "kernelspec": {
   "display_name": "Python 3",
   "language": "python",
   "name": "python3"
  },
  "language_info": {
   "codemirror_mode": {
    "name": "ipython",
    "version": 3
   },
   "file_extension": ".py",
   "mimetype": "text/x-python",
   "name": "python",
   "nbconvert_exporter": "python",
   "pygments_lexer": "ipython3",
   "version": "3.10.13"
  }
 },
 "nbformat": 4,
 "nbformat_minor": 2
}
