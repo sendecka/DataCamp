{
 "cells": [
  {
   "cell_type": "markdown",
   "metadata": {},
   "source": [
    "# Exploring Airbnb Market Trends"
   ]
  },
  {
   "cell_type": "markdown",
   "metadata": {},
   "source": [
    "# Project Description\n",
    "\n",
    "New York City has a variety of Airbnb listings to meet the high demand for temporary lodging for travelers, with several different price levels, room types, and locations.\n",
    "\n",
    "In this project, you'll be able to practice your skills in importing and cleaning data and data manipulation to help you report insights to a real estate start-up!"
   ]
  },
  {
   "cell_type": "markdown",
   "metadata": {},
   "source": [
    "As a consultant working for a real estate start-up, you have collected Airbnb listing data from various sources to investigate the short-term rental market in New York. You'll analyze this data to provide insights on private rooms to the real estate company.\n",
    "\n",
    "There are three files in the data folder: airbnb_price.csv, airbnb_room_type.xlsx, airbnb_last_review.tsv.\n",
    "\n",
    "What are the dates of the earliest and most recent reviews? Store these values as two separate variables with your preferred names.\n",
    "How many of the listings are private rooms? Save this into any variable.\n",
    "What is the average listing price? Round to the nearest penny and save into a variable.\n",
    "Combine the new variables into one DataFrame called review_dates with four columns in the following order: first_reviewed, last_reviewed, nb_private_rooms, and avg_price. The DataFrame should only contain one row of values."
   ]
  },
  {
   "cell_type": "markdown",
   "metadata": {},
   "source": [
    "Welcome to New York City, one of the most-visited cities in the world. There are many Airbnb listings in New York City to meet the high demand for temporary lodging for travelers, which can be anywhere between a few nights to many months. In this project, we will take a closer look at the New York Airbnb market by combining data from multiple file types like .csv, .tsv, and .xlsx.\n",
    "\n",
    "Recall that CSV, TSV, and Excel files are three common formats for storing data. Three files containing data on 2019 Airbnb listings are available to you:\n",
    "\n",
    "data/airbnb_price.csv This is a CSV file containing data on Airbnb listing prices and locations.\n",
    "\n",
    "listing_id: unique identifier of listing\n",
    "price: nightly listing price in USD\n",
    "nbhood_full: name of borough and neighborhood where listing is located\n",
    "data/airbnb_room_type.xlsx This is an Excel file containing data on Airbnb listing descriptions and room types.\n",
    "\n",
    "listing_id: unique identifier of listing\n",
    "description: listing description\n",
    "room_type: Airbnb has three types of rooms: shared rooms, private rooms, and entire homes/apartments\n",
    "data/airbnb_last_review.tsv This is a TSV file containing data on Airbnb host names and review dates.\n",
    "\n",
    "listing_id: unique identifier of listing\n",
    "host_name: name of listing host\n",
    "last_review: date when the listing was last reviewed"
   ]
  },
  {
   "cell_type": "code",
   "execution_count": 1,
   "metadata": {},
   "outputs": [],
   "source": [
    "# Import necessary packages\n",
    "import pandas as pd\n",
    "import numpy as np"
   ]
  },
  {
   "cell_type": "code",
   "execution_count": 2,
   "metadata": {},
   "outputs": [],
   "source": [
    "# Import CSV for prices\n",
    "airbnb_price = pd.read_csv('airbnb_price.csv')"
   ]
  },
  {
   "cell_type": "code",
   "execution_count": null,
   "metadata": {},
   "outputs": [],
   "source": [
    "# Import Excel file for room types\n",
    "airbnb_room_type = pd.read_excel('airbnb_room_type.xlsx')\n",
    "\n",
    "# Import TSV for review dates\n",
    "airbnb_last_review = pd.read_csv('airbnb_last_review.tsv', sep='\\t')"
   ]
  },
  {
   "cell_type": "code",
   "execution_count": null,
   "metadata": {},
   "outputs": [],
   "source": [
    "# Join the three data frames together into one\n",
    "listings = pd.merge(airbnb_price, airbnb_room_type, on='listing_id')\n",
    "listings = pd.merge(listings, airbnb_last_review, on='listing_id')"
   ]
  },
  {
   "cell_type": "code",
   "execution_count": null,
   "metadata": {},
   "outputs": [],
   "source": [
    "# What are the dates of the earliest and most recent reviews?\n",
    "# To use a function like max()/min() on last_review date column, it needs to be converted to datetime type\n",
    "listings['last_review_date'] = pd.to_datetime(listings['last_review'], format='%B %d %Y')\n",
    "first_reviewed = listings['last_review_date'].min()\n",
    "last_reviewed = listings['last_review_date'].max()"
   ]
  },
  {
   "cell_type": "code",
   "execution_count": null,
   "metadata": {},
   "outputs": [],
   "source": [
    "# How many of the listings are private rooms?\n",
    "# Since there are differences in capitalization, make capitalization consistent\n",
    "listings['room_type'] = listings['room_type'].str.lower()\n",
    "private_room_count = listings[listings['room_type'] == 'private room'].shape[0]"
   ]
  },
  {
   "cell_type": "code",
   "execution_count": null,
   "metadata": {},
   "outputs": [],
   "source": [
    "# What is the average listing price?\n",
    "# To convert price to numeric, remove \" dollars\" from each value\n",
    "listings['price_clean'] = listings['price'].str.replace(' dollars', '').astype(float)\n",
    "avg_price = listings['price_clean'].mean()\n",
    "\n",
    "review_dates = pd.DataFrame({\n",
    "    'first_reviewed': [first_reviewed],\n",
    "    'last_reviewed': [last_reviewed],\n",
    "    'nb_private_rooms': [private_room_count],\n",
    "    'avg_price': [round(avg_price, 2)]\n",
    "})\n",
    "\n",
    "print(review_dates)"
   ]
  }
 ],
 "metadata": {
  "kernelspec": {
   "display_name": "Python 3",
   "language": "python",
   "name": "python3"
  },
  "language_info": {
   "codemirror_mode": {
    "name": "ipython",
    "version": 3
   },
   "file_extension": ".py",
   "mimetype": "text/x-python",
   "name": "python",
   "nbconvert_exporter": "python",
   "pygments_lexer": "ipython3",
   "version": "3.10.13"
  }
 },
 "nbformat": 4,
 "nbformat_minor": 2
}
