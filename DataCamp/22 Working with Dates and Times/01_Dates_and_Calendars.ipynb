{
 "cells": [
  {
   "cell_type": "markdown",
   "metadata": {},
   "source": [
    "# 1 Dates and Calendars"
   ]
  },
  {
   "cell_type": "markdown",
   "metadata": {},
   "source": [
    "Hurricanes (also known as cyclones or typhoons) hit the U.S. state of Florida several times per year. To start off this course, you'll learn how to work with date objects in Python, starting with the dates of every hurricane to hit Florida since 1950. You'll learn how Python handles dates, common date operations, and the right way to format dates to avoid confusion."
   ]
  },
  {
   "cell_type": "markdown",
   "metadata": {},
   "source": [
    "# Which day of the week?\n",
    "\n",
    "Hurricane Andrew, which hit Florida on August 24, 1992, was one of the costliest and deadliest hurricanes in US history. Which day of the week did it make landfall?\n",
    "\n",
    "Let's walk through all of the steps to figure this out."
   ]
  },
  {
   "cell_type": "markdown",
   "metadata": {},
   "source": [
    "# Instructions:\n",
    "\n",
    "- Import date from datetime."
   ]
  },
  {
   "cell_type": "code",
   "execution_count": 13,
   "metadata": {},
   "outputs": [],
   "source": [
    "# Import date from datetime\n",
    "from datetime import date"
   ]
  },
  {
   "cell_type": "markdown",
   "metadata": {},
   "source": [
    "- Create a date object for August 24, 1992."
   ]
  },
  {
   "cell_type": "code",
   "execution_count": 14,
   "metadata": {},
   "outputs": [],
   "source": [
    "# Import date from datetime\n",
    "from datetime import date\n",
    "\n",
    "# Create a date object\n",
    "hurricane_andrew = date(1992, 8, 24)"
   ]
  },
  {
   "cell_type": "markdown",
   "metadata": {},
   "source": [
    "- Now ask Python what day of the week Hurricane Andrew hit (remember that Python counts days of the week starting from Monday as 0, Tuesday as 1, and so on)."
   ]
  },
  {
   "cell_type": "code",
   "execution_count": 15,
   "metadata": {},
   "outputs": [
    {
     "name": "stdout",
     "output_type": "stream",
     "text": [
      "0\n"
     ]
    }
   ],
   "source": [
    "# Import date from datetime\n",
    "from datetime import date\n",
    "\n",
    "# Create a date object\n",
    "hurricane_andrew = date(1992, 8, 24)\n",
    "\n",
    "# Which day of the week is the date?\n",
    "print(hurricane_andrew.weekday())"
   ]
  },
  {
   "cell_type": "markdown",
   "metadata": {},
   "source": [
    "# How many hurricanes come early?\n",
    "\n",
    "In this chapter, you will work with a list of the hurricanes that made landfall in Florida from 1950 to 2017. There were 235 in total. Check out the variable florida_hurricane_dates, which has all of these dates.\n",
    "\n",
    "Atlantic hurricane season officially begins on June 1. How many hurricanes since 1950 have made landfall in Florida before the official start of hurricane season?"
   ]
  },
  {
   "cell_type": "markdown",
   "metadata": {},
   "source": [
    "# Instructions:\n",
    "\n",
    "- Complete the for loop to iterate through florida_hurricane_dates.\n",
    "- Complete the if statement to increment the counter (early_hurricanes) if the hurricane made landfall before June."
   ]
  },
  {
   "cell_type": "code",
   "execution_count": 16,
   "metadata": {},
   "outputs": [],
   "source": [
    "import pickle\n",
    "\n",
    "with open('florida_hurricane_dates.pkl', 'rb') as f:\n",
    "    florida_hurricane_dates = pickle.load(f)"
   ]
  },
  {
   "cell_type": "code",
   "execution_count": 17,
   "metadata": {},
   "outputs": [
    {
     "name": "stdout",
     "output_type": "stream",
     "text": [
      "10\n"
     ]
    }
   ],
   "source": [
    "# Counter for how many before June 1\n",
    "early_hurricanes = 0\n",
    "\n",
    "# We loop over the dates\n",
    "for hurricane in florida_hurricane_dates:\n",
    "  # Check if the month is before June (month number 6)\n",
    "  if hurricane.month < 6:\n",
    "    early_hurricanes = early_hurricanes + 1\n",
    "    \n",
    "print(early_hurricanes)"
   ]
  },
  {
   "cell_type": "markdown",
   "metadata": {},
   "source": [
    "# Subtracting dates\n",
    "\n",
    "Python date objects let us treat calendar dates as something similar to numbers: we can compare them, sort them, add, and even subtract them. This lets us do math with dates in a way that would be a pain to do by hand.\n",
    "\n",
    "The 2007 Florida hurricane season was one of the busiest on record, with 8 hurricanes in one year. The first one hit on May 9th, 2007, and the last one hit on December 13th, 2007. How many days elapsed between the first and last hurricane in 2007?"
   ]
  },
  {
   "cell_type": "markdown",
   "metadata": {},
   "source": [
    "# Instructions:\n",
    "\n",
    "- Import date from datetime.\n",
    "- Create a date object for May 9th, 2007, and assign it to the start variable.\n",
    "- Create a date object for December 13th, 2007, and assign it to the end variable.\n",
    "- Subtract start from end, to print the number of days in the resulting timedelta object."
   ]
  },
  {
   "cell_type": "code",
   "execution_count": 18,
   "metadata": {},
   "outputs": [
    {
     "name": "stdout",
     "output_type": "stream",
     "text": [
      "218\n"
     ]
    }
   ],
   "source": [
    "# Import date\n",
    "from datetime import date\n",
    "\n",
    "# Create a date object for May 9th, 2007\n",
    "start = date(2007, 5, 9)\n",
    "\n",
    "# Create a date object for December 13th, 2007\n",
    "end = date(2007, 12, 13)\n",
    "\n",
    "# Subtract the two dates and print the number of days\n",
    "print((end - start).days)"
   ]
  },
  {
   "cell_type": "markdown",
   "metadata": {},
   "source": [
    "# Counting events per calendar month\n",
    "\n",
    "Hurricanes can make landfall in Florida throughout the year. As we've already discussed, some months are more hurricane-prone than others.\n",
    "\n",
    "Using florida_hurricane_dates, let's see how hurricanes in Florida were distributed across months throughout the year.\n",
    "\n",
    "We've created a dictionary called hurricanes_each_month to hold your counts and set the initial counts to zero. You will loop over the list of hurricanes, incrementing the correct month in hurricanes_each_month as you go, and then print the result."
   ]
  },
  {
   "cell_type": "markdown",
   "metadata": {},
   "source": [
    "# Instructions:\n",
    "\n",
    "- Within the for loop:\n",
    "- Assign month to be the month of that hurricane.\n",
    "- Increment hurricanes_each_month for the relevant month by 1."
   ]
  },
  {
   "cell_type": "code",
   "execution_count": 19,
   "metadata": {},
   "outputs": [
    {
     "name": "stdout",
     "output_type": "stream",
     "text": [
      "{1: 0, 2: 1, 3: 0, 4: 1, 5: 8, 6: 32, 7: 21, 8: 49, 9: 70, 10: 43, 11: 9, 12: 1}\n"
     ]
    }
   ],
   "source": [
    "# A dictionary to count hurricanes per calendar month\n",
    "hurricanes_each_month = {1: 0, 2: 0, 3: 0, 4: 0, 5: 0, 6:0,\n",
    "\t\t  \t\t\t\t 7: 0, 8:0, 9:0, 10:0, 11:0, 12:0}\n",
    "\n",
    "# Loop over all hurricanes\n",
    "for hurricane in florida_hurricane_dates:\n",
    "  # Pull out the month\n",
    "  month = hurricane.month\n",
    "  # Increment the count in your dictionary by one\n",
    "  hurricanes_each_month[month] += 1\n",
    "  \n",
    "print(hurricanes_each_month)"
   ]
  },
  {
   "cell_type": "markdown",
   "metadata": {},
   "source": [
    "# Putting a list of dates in order\n",
    "\n",
    "Much like numbers and strings, date objects in Python can be put in order. Earlier dates come before later ones, and so we can sort a list of date objects from earliest to latest.\n",
    "\n",
    "What if our Florida hurricane dates had been scrambled? We've gone ahead and shuffled them so they're in random order and saved the results as dates_scrambled. Your job is to put them back in chronological order, and then print the first and last dates from this sorted list."
   ]
  },
  {
   "cell_type": "markdown",
   "metadata": {},
   "source": [
    "# Instructions:\n",
    "\n",
    "- Print the first and last dates in dates_scrambled."
   ]
  },
  {
   "cell_type": "code",
   "execution_count": 24,
   "metadata": {},
   "outputs": [
    {
     "ename": "NameError",
     "evalue": "name 'datetime' is not defined",
     "output_type": "error",
     "traceback": [
      "\u001b[0;31m---------------------------------------------------------------------------\u001b[0m",
      "\u001b[0;31mNameError\u001b[0m                                 Traceback (most recent call last)",
      "Cell \u001b[0;32mIn[24], line 1\u001b[0m\n\u001b[0;32m----> 1\u001b[0m dates_scrambled \u001b[38;5;241m=\u001b[39m [\u001b[43mdatetime\u001b[49m\u001b[38;5;241m.\u001b[39mdate(\u001b[38;5;241m1988\u001b[39m, \u001b[38;5;241m8\u001b[39m, \u001b[38;5;241m4\u001b[39m), datetime\u001b[38;5;241m.\u001b[39mdate(\u001b[38;5;241m1990\u001b[39m, \u001b[38;5;241m10\u001b[39m, \u001b[38;5;241m12\u001b[39m), datetime\u001b[38;5;241m.\u001b[39mdate(\u001b[38;5;241m2003\u001b[39m, \u001b[38;5;241m4\u001b[39m, \u001b[38;5;241m20\u001b[39m), datetime\u001b[38;5;241m.\u001b[39mdate(\u001b[38;5;241m1971\u001b[39m, \u001b[38;5;241m9\u001b[39m, \u001b[38;5;241m1\u001b[39m), datetime\u001b[38;5;241m.\u001b[39mdate(\u001b[38;5;241m1988\u001b[39m, \u001b[38;5;241m8\u001b[39m, \u001b[38;5;241m23\u001b[39m), datetime\u001b[38;5;241m.\u001b[39mdate(\u001b[38;5;241m1994\u001b[39m, \u001b[38;5;241m8\u001b[39m, \u001b[38;5;241m15\u001b[39m), datetime\u001b[38;5;241m.\u001b[39mdate(\u001b[38;5;241m2002\u001b[39m, \u001b[38;5;241m8\u001b[39m, \u001b[38;5;241m4\u001b[39m), datetime\u001b[38;5;241m.\u001b[39mdate(\u001b[38;5;241m1988\u001b[39m, \u001b[38;5;241m5\u001b[39m, \u001b[38;5;241m30\u001b[39m), datetime\u001b[38;5;241m.\u001b[39mdate(\u001b[38;5;241m2003\u001b[39m, \u001b[38;5;241m9\u001b[39m, \u001b[38;5;241m13\u001b[39m), datetime\u001b[38;5;241m.\u001b[39mdate(\u001b[38;5;241m2009\u001b[39m, \u001b[38;5;241m8\u001b[39m, \u001b[38;5;241m21\u001b[39m), datetime\u001b[38;5;241m.\u001b[39mdate(\u001b[38;5;241m1978\u001b[39m, \u001b[38;5;241m6\u001b[39m, \u001b[38;5;241m22\u001b[39m), datetime\u001b[38;5;241m.\u001b[39mdate(\u001b[38;5;241m1969\u001b[39m, \u001b[38;5;241m6\u001b[39m, \u001b[38;5;241m9\u001b[39m), datetime\u001b[38;5;241m.\u001b[39mdate(\u001b[38;5;241m1976\u001b[39m, \u001b[38;5;241m6\u001b[39m, \u001b[38;5;241m11\u001b[39m), datetime\u001b[38;5;241m.\u001b[39mdate(\u001b[38;5;241m1976\u001b[39m, \u001b[38;5;241m8\u001b[39m, \u001b[38;5;241m19\u001b[39m), datetime\u001b[38;5;241m.\u001b[39mdate(\u001b[38;5;241m1966\u001b[39m, \u001b[38;5;241m6\u001b[39m, \u001b[38;5;241m9\u001b[39m), datetime\u001b[38;5;241m.\u001b[39mdate(\u001b[38;5;241m1968\u001b[39m, \u001b[38;5;241m7\u001b[39m, \u001b[38;5;241m5\u001b[39m), datetime\u001b[38;5;241m.\u001b[39mdate(\u001b[38;5;241m1987\u001b[39m, \u001b[38;5;241m11\u001b[39m, \u001b[38;5;241m4\u001b[39m), datetime\u001b[38;5;241m.\u001b[39mdate(\u001b[38;5;241m1988\u001b[39m, \u001b[38;5;241m8\u001b[39m, \u001b[38;5;241m13\u001b[39m), datetime\u001b[38;5;241m.\u001b[39mdate(\u001b[38;5;241m2007\u001b[39m, \u001b[38;5;241m12\u001b[39m, \u001b[38;5;241m13\u001b[39m), datetime\u001b[38;5;241m.\u001b[39mdate(\u001b[38;5;241m1994\u001b[39m, \u001b[38;5;241m11\u001b[39m, \u001b[38;5;241m16\u001b[39m), datetime\u001b[38;5;241m.\u001b[39mdate(\u001b[38;5;241m2003\u001b[39m, \u001b[38;5;241m9\u001b[39m, \u001b[38;5;241m6\u001b[39m), datetime\u001b[38;5;241m.\u001b[39mdate(\u001b[38;5;241m1971\u001b[39m, \u001b[38;5;241m8\u001b[39m, \u001b[38;5;241m13\u001b[39m), datetime\u001b[38;5;241m.\u001b[39mdate(\u001b[38;5;241m1981\u001b[39m, \u001b[38;5;241m8\u001b[39m, \u001b[38;5;241m17\u001b[39m), datetime\u001b[38;5;241m.\u001b[39mdate(\u001b[38;5;241m1998\u001b[39m, \u001b[38;5;241m9\u001b[39m, \u001b[38;5;241m25\u001b[39m), datetime\u001b[38;5;241m.\u001b[39mdate(\u001b[38;5;241m1968\u001b[39m, \u001b[38;5;241m9\u001b[39m, \u001b[38;5;241m26\u001b[39m), datetime\u001b[38;5;241m.\u001b[39mdate(\u001b[38;5;241m1968\u001b[39m, \u001b[38;5;241m6\u001b[39m, \u001b[38;5;241m4\u001b[39m), datetime\u001b[38;5;241m.\u001b[39mdate(\u001b[38;5;241m1998\u001b[39m, \u001b[38;5;241m11\u001b[39m, \u001b[38;5;241m5\u001b[39m), datetime\u001b[38;5;241m.\u001b[39mdate(\u001b[38;5;241m2008\u001b[39m, \u001b[38;5;241m8\u001b[39m, \u001b[38;5;241m18\u001b[39m), datetime\u001b[38;5;241m.\u001b[39mdate(\u001b[38;5;241m1987\u001b[39m, \u001b[38;5;241m8\u001b[39m, \u001b[38;5;241m14\u001b[39m), datetime\u001b[38;5;241m.\u001b[39mdate(\u001b[38;5;241m1988\u001b[39m, \u001b[38;5;241m11\u001b[39m, \u001b[38;5;241m23\u001b[39m), datetime\u001b[38;5;241m.\u001b[39mdate(\u001b[38;5;241m2010\u001b[39m, \u001b[38;5;241m9\u001b[39m, \u001b[38;5;241m29\u001b[39m), datetime\u001b[38;5;241m.\u001b[39mdate(\u001b[38;5;241m1985\u001b[39m, \u001b[38;5;241m7\u001b[39m, \u001b[38;5;241m23\u001b[39m), datetime\u001b[38;5;241m.\u001b[39mdate(\u001b[38;5;241m2017\u001b[39m, \u001b[38;5;241m7\u001b[39m, \u001b[38;5;241m31\u001b[39m), datetime\u001b[38;5;241m.\u001b[39mdate(\u001b[38;5;241m1955\u001b[39m, \u001b[38;5;241m8\u001b[39m, \u001b[38;5;241m21\u001b[39m), datetime\u001b[38;5;241m.\u001b[39mdate(\u001b[38;5;241m1986\u001b[39m, \u001b[38;5;241m6\u001b[39m, \u001b[38;5;241m26\u001b[39m), datetime\u001b[38;5;241m.\u001b[39mdate(\u001b[38;5;241m1963\u001b[39m, \u001b[38;5;241m10\u001b[39m, \u001b[38;5;241m21\u001b[39m), datetime\u001b[38;5;241m.\u001b[39mdate(\u001b[38;5;241m2011\u001b[39m, \u001b[38;5;241m10\u001b[39m, \u001b[38;5;241m28\u001b[39m), datetime\u001b[38;5;241m.\u001b[39mdate(\u001b[38;5;241m2011\u001b[39m, \u001b[38;5;241m11\u001b[39m, \u001b[38;5;241m9\u001b[39m), datetime\u001b[38;5;241m.\u001b[39mdate(\u001b[38;5;241m1997\u001b[39m, \u001b[38;5;241m7\u001b[39m, \u001b[38;5;241m19\u001b[39m), datetime\u001b[38;5;241m.\u001b[39mdate(\u001b[38;5;241m2007\u001b[39m, \u001b[38;5;241m6\u001b[39m, \u001b[38;5;241m2\u001b[39m), datetime\u001b[38;5;241m.\u001b[39mdate(\u001b[38;5;241m2002\u001b[39m, \u001b[38;5;241m9\u001b[39m, \u001b[38;5;241m14\u001b[39m), datetime\u001b[38;5;241m.\u001b[39mdate(\u001b[38;5;241m1992\u001b[39m, \u001b[38;5;241m9\u001b[39m, \u001b[38;5;241m29\u001b[39m), datetime\u001b[38;5;241m.\u001b[39mdate(\u001b[38;5;241m1971\u001b[39m, \u001b[38;5;241m10\u001b[39m, \u001b[38;5;241m13\u001b[39m), datetime\u001b[38;5;241m.\u001b[39mdate(\u001b[38;5;241m1962\u001b[39m, \u001b[38;5;241m8\u001b[39m, \u001b[38;5;241m26\u001b[39m), datetime\u001b[38;5;241m.\u001b[39mdate(\u001b[38;5;241m1964\u001b[39m, \u001b[38;5;241m8\u001b[39m, \u001b[38;5;241m27\u001b[39m), datetime\u001b[38;5;241m.\u001b[39mdate(\u001b[38;5;241m1984\u001b[39m, \u001b[38;5;241m9\u001b[39m, \u001b[38;5;241m27\u001b[39m), datetime\u001b[38;5;241m.\u001b[39mdate(\u001b[38;5;241m1973\u001b[39m, \u001b[38;5;241m9\u001b[39m, \u001b[38;5;241m25\u001b[39m), datetime\u001b[38;5;241m.\u001b[39mdate(\u001b[38;5;241m1969\u001b[39m, \u001b[38;5;241m10\u001b[39m, \u001b[38;5;241m21\u001b[39m), datetime\u001b[38;5;241m.\u001b[39mdate(\u001b[38;5;241m1994\u001b[39m, \u001b[38;5;241m7\u001b[39m, \u001b[38;5;241m3\u001b[39m), datetime\u001b[38;5;241m.\u001b[39mdate(\u001b[38;5;241m1958\u001b[39m, \u001b[38;5;241m9\u001b[39m, \u001b[38;5;241m4\u001b[39m), datetime\u001b[38;5;241m.\u001b[39mdate(\u001b[38;5;241m1985\u001b[39m, \u001b[38;5;241m11\u001b[39m, \u001b[38;5;241m21\u001b[39m), datetime\u001b[38;5;241m.\u001b[39mdate(\u001b[38;5;241m2011\u001b[39m, \u001b[38;5;241m9\u001b[39m, \u001b[38;5;241m3\u001b[39m), datetime\u001b[38;5;241m.\u001b[39mdate(\u001b[38;5;241m1972\u001b[39m, \u001b[38;5;241m6\u001b[39m, \u001b[38;5;241m19\u001b[39m), datetime\u001b[38;5;241m.\u001b[39mdate(\u001b[38;5;241m1991\u001b[39m, \u001b[38;5;241m6\u001b[39m, \u001b[38;5;241m30\u001b[39m), datetime\u001b[38;5;241m.\u001b[39mdate(\u001b[38;5;241m2004\u001b[39m, \u001b[38;5;241m8\u001b[39m, \u001b[38;5;241m12\u001b[39m), datetime\u001b[38;5;241m.\u001b[39mdate(\u001b[38;5;241m2007\u001b[39m, \u001b[38;5;241m9\u001b[39m, \u001b[38;5;241m8\u001b[39m), datetime\u001b[38;5;241m.\u001b[39mdate(\u001b[38;5;241m1952\u001b[39m, \u001b[38;5;241m2\u001b[39m, \u001b[38;5;241m3\u001b[39m), datetime\u001b[38;5;241m.\u001b[39mdate(\u001b[38;5;241m1965\u001b[39m, \u001b[38;5;241m9\u001b[39m, \u001b[38;5;241m30\u001b[39m), datetime\u001b[38;5;241m.\u001b[39mdate(\u001b[38;5;241m2000\u001b[39m, \u001b[38;5;241m9\u001b[39m, \u001b[38;5;241m22\u001b[39m), datetime\u001b[38;5;241m.\u001b[39mdate(\u001b[38;5;241m2002\u001b[39m, \u001b[38;5;241m9\u001b[39m, \u001b[38;5;241m26\u001b[39m), datetime\u001b[38;5;241m.\u001b[39mdate(\u001b[38;5;241m1950\u001b[39m, \u001b[38;5;241m9\u001b[39m, \u001b[38;5;241m5\u001b[39m), datetime\u001b[38;5;241m.\u001b[39mdate(\u001b[38;5;241m1966\u001b[39m, \u001b[38;5;241m10\u001b[39m, \u001b[38;5;241m4\u001b[39m), datetime\u001b[38;5;241m.\u001b[39mdate(\u001b[38;5;241m1970\u001b[39m, \u001b[38;5;241m5\u001b[39m, \u001b[38;5;241m25\u001b[39m), datetime\u001b[38;5;241m.\u001b[39mdate(\u001b[38;5;241m1979\u001b[39m, \u001b[38;5;241m9\u001b[39m, \u001b[38;5;241m24\u001b[39m), datetime\u001b[38;5;241m.\u001b[39mdate(\u001b[38;5;241m1960\u001b[39m, \u001b[38;5;241m9\u001b[39m, \u001b[38;5;241m23\u001b[39m), datetime\u001b[38;5;241m.\u001b[39mdate(\u001b[38;5;241m2007\u001b[39m, \u001b[38;5;241m8\u001b[39m, \u001b[38;5;241m23\u001b[39m), datetime\u001b[38;5;241m.\u001b[39mdate(\u001b[38;5;241m2009\u001b[39m, \u001b[38;5;241m8\u001b[39m, \u001b[38;5;241m16\u001b[39m), datetime\u001b[38;5;241m.\u001b[39mdate(\u001b[38;5;241m1996\u001b[39m, \u001b[38;5;241m10\u001b[39m, \u001b[38;5;241m18\u001b[39m), datetime\u001b[38;5;241m.\u001b[39mdate(\u001b[38;5;241m2012\u001b[39m, \u001b[38;5;241m10\u001b[39m, \u001b[38;5;241m25\u001b[39m), datetime\u001b[38;5;241m.\u001b[39mdate(\u001b[38;5;241m2011\u001b[39m, \u001b[38;5;241m8\u001b[39m, \u001b[38;5;241m25\u001b[39m), datetime\u001b[38;5;241m.\u001b[39mdate(\u001b[38;5;241m1951\u001b[39m, \u001b[38;5;241m5\u001b[39m, \u001b[38;5;241m18\u001b[39m), datetime\u001b[38;5;241m.\u001b[39mdate(\u001b[38;5;241m1980\u001b[39m, \u001b[38;5;241m8\u001b[39m, \u001b[38;5;241m7\u001b[39m), datetime\u001b[38;5;241m.\u001b[39mdate(\u001b[38;5;241m1979\u001b[39m, \u001b[38;5;241m9\u001b[39m, \u001b[38;5;241m3\u001b[39m), datetime\u001b[38;5;241m.\u001b[39mdate(\u001b[38;5;241m1953\u001b[39m, \u001b[38;5;241m9\u001b[39m, \u001b[38;5;241m26\u001b[39m), datetime\u001b[38;5;241m.\u001b[39mdate(\u001b[38;5;241m1968\u001b[39m, \u001b[38;5;241m10\u001b[39m, \u001b[38;5;241m19\u001b[39m), datetime\u001b[38;5;241m.\u001b[39mdate(\u001b[38;5;241m2009\u001b[39m, \u001b[38;5;241m11\u001b[39m, \u001b[38;5;241m9\u001b[39m), datetime\u001b[38;5;241m.\u001b[39mdate(\u001b[38;5;241m1999\u001b[39m, \u001b[38;5;241m8\u001b[39m, \u001b[38;5;241m29\u001b[39m), datetime\u001b[38;5;241m.\u001b[39mdate(\u001b[38;5;241m2015\u001b[39m, \u001b[38;5;241m10\u001b[39m, \u001b[38;5;241m1\u001b[39m), datetime\u001b[38;5;241m.\u001b[39mdate(\u001b[38;5;241m2008\u001b[39m, \u001b[38;5;241m9\u001b[39m, \u001b[38;5;241m2\u001b[39m), datetime\u001b[38;5;241m.\u001b[39mdate(\u001b[38;5;241m2004\u001b[39m, \u001b[38;5;241m10\u001b[39m, \u001b[38;5;241m10\u001b[39m), datetime\u001b[38;5;241m.\u001b[39mdate(\u001b[38;5;241m2004\u001b[39m, \u001b[38;5;241m9\u001b[39m, \u001b[38;5;241m16\u001b[39m), datetime\u001b[38;5;241m.\u001b[39mdate(\u001b[38;5;241m1992\u001b[39m, \u001b[38;5;241m8\u001b[39m, \u001b[38;5;241m24\u001b[39m), datetime\u001b[38;5;241m.\u001b[39mdate(\u001b[38;5;241m2000\u001b[39m, \u001b[38;5;241m9\u001b[39m, \u001b[38;5;241m9\u001b[39m), datetime\u001b[38;5;241m.\u001b[39mdate(\u001b[38;5;241m1971\u001b[39m, \u001b[38;5;241m9\u001b[39m, \u001b[38;5;241m16\u001b[39m), datetime\u001b[38;5;241m.\u001b[39mdate(\u001b[38;5;241m1996\u001b[39m, \u001b[38;5;241m9\u001b[39m, \u001b[38;5;241m2\u001b[39m), datetime\u001b[38;5;241m.\u001b[39mdate(\u001b[38;5;241m1998\u001b[39m, \u001b[38;5;241m9\u001b[39m, \u001b[38;5;241m3\u001b[39m), datetime\u001b[38;5;241m.\u001b[39mdate(\u001b[38;5;241m1951\u001b[39m, \u001b[38;5;241m10\u001b[39m, \u001b[38;5;241m2\u001b[39m), datetime\u001b[38;5;241m.\u001b[39mdate(\u001b[38;5;241m1979\u001b[39m, \u001b[38;5;241m9\u001b[39m, \u001b[38;5;241m12\u001b[39m), datetime\u001b[38;5;241m.\u001b[39mdate(\u001b[38;5;241m2007\u001b[39m, \u001b[38;5;241m10\u001b[39m, \u001b[38;5;241m31\u001b[39m), datetime\u001b[38;5;241m.\u001b[39mdate(\u001b[38;5;241m1953\u001b[39m, \u001b[38;5;241m10\u001b[39m, \u001b[38;5;241m9\u001b[39m), datetime\u001b[38;5;241m.\u001b[39mdate(\u001b[38;5;241m1952\u001b[39m, \u001b[38;5;241m8\u001b[39m, \u001b[38;5;241m30\u001b[39m), datetime\u001b[38;5;241m.\u001b[39mdate(\u001b[38;5;241m1969\u001b[39m, \u001b[38;5;241m9\u001b[39m, \u001b[38;5;241m7\u001b[39m), datetime\u001b[38;5;241m.\u001b[39mdate(\u001b[38;5;241m2015\u001b[39m, \u001b[38;5;241m8\u001b[39m, \u001b[38;5;241m30\u001b[39m), datetime\u001b[38;5;241m.\u001b[39mdate(\u001b[38;5;241m1959\u001b[39m, \u001b[38;5;241m10\u001b[39m, \u001b[38;5;241m8\u001b[39m), datetime\u001b[38;5;241m.\u001b[39mdate(\u001b[38;5;241m2002\u001b[39m, \u001b[38;5;241m7\u001b[39m, \u001b[38;5;241m13\u001b[39m), datetime\u001b[38;5;241m.\u001b[39mdate(\u001b[38;5;241m1961\u001b[39m, \u001b[38;5;241m10\u001b[39m, \u001b[38;5;241m29\u001b[39m), datetime\u001b[38;5;241m.\u001b[39mdate(\u001b[38;5;241m2007\u001b[39m, \u001b[38;5;241m5\u001b[39m, \u001b[38;5;241m9\u001b[39m), datetime\u001b[38;5;241m.\u001b[39mdate(\u001b[38;5;241m2016\u001b[39m, \u001b[38;5;241m10\u001b[39m, \u001b[38;5;241m7\u001b[39m), datetime\u001b[38;5;241m.\u001b[39mdate(\u001b[38;5;241m1964\u001b[39m, \u001b[38;5;241m9\u001b[39m, \u001b[38;5;241m20\u001b[39m), datetime\u001b[38;5;241m.\u001b[39mdate(\u001b[38;5;241m1979\u001b[39m, \u001b[38;5;241m7\u001b[39m, \u001b[38;5;241m11\u001b[39m), datetime\u001b[38;5;241m.\u001b[39mdate(\u001b[38;5;241m1950\u001b[39m, \u001b[38;5;241m10\u001b[39m, \u001b[38;5;241m18\u001b[39m), datetime\u001b[38;5;241m.\u001b[39mdate(\u001b[38;5;241m2008\u001b[39m, \u001b[38;5;241m8\u001b[39m, \u001b[38;5;241m31\u001b[39m), datetime\u001b[38;5;241m.\u001b[39mdate(\u001b[38;5;241m2012\u001b[39m, \u001b[38;5;241m8\u001b[39m, \u001b[38;5;241m25\u001b[39m), datetime\u001b[38;5;241m.\u001b[39mdate(\u001b[38;5;241m1966\u001b[39m, \u001b[38;5;241m7\u001b[39m, \u001b[38;5;241m24\u001b[39m), datetime\u001b[38;5;241m.\u001b[39mdate(\u001b[38;5;241m2010\u001b[39m, \u001b[38;5;241m8\u001b[39m, \u001b[38;5;241m10\u001b[39m), datetime\u001b[38;5;241m.\u001b[39mdate(\u001b[38;5;241m2005\u001b[39m, \u001b[38;5;241m8\u001b[39m, \u001b[38;5;241m25\u001b[39m), datetime\u001b[38;5;241m.\u001b[39mdate(\u001b[38;5;241m2003\u001b[39m, \u001b[38;5;241m6\u001b[39m, \u001b[38;5;241m30\u001b[39m), datetime\u001b[38;5;241m.\u001b[39mdate(\u001b[38;5;241m1956\u001b[39m, \u001b[38;5;241m7\u001b[39m, \u001b[38;5;241m6\u001b[39m), datetime\u001b[38;5;241m.\u001b[39mdate(\u001b[38;5;241m1974\u001b[39m, \u001b[38;5;241m9\u001b[39m, \u001b[38;5;241m8\u001b[39m), datetime\u001b[38;5;241m.\u001b[39mdate(\u001b[38;5;241m1966\u001b[39m, \u001b[38;5;241m6\u001b[39m, \u001b[38;5;241m30\u001b[39m), datetime\u001b[38;5;241m.\u001b[39mdate(\u001b[38;5;241m2016\u001b[39m, \u001b[38;5;241m9\u001b[39m, \u001b[38;5;241m14\u001b[39m), datetime\u001b[38;5;241m.\u001b[39mdate(\u001b[38;5;241m1968\u001b[39m, \u001b[38;5;241m6\u001b[39m, \u001b[38;5;241m18\u001b[39m), datetime\u001b[38;5;241m.\u001b[39mdate(\u001b[38;5;241m1982\u001b[39m, \u001b[38;5;241m9\u001b[39m, \u001b[38;5;241m11\u001b[39m), datetime\u001b[38;5;241m.\u001b[39mdate(\u001b[38;5;241m1976\u001b[39m, \u001b[38;5;241m9\u001b[39m, \u001b[38;5;241m13\u001b[39m), datetime\u001b[38;5;241m.\u001b[39mdate(\u001b[38;5;241m1975\u001b[39m, \u001b[38;5;241m7\u001b[39m, \u001b[38;5;241m29\u001b[39m), datetime\u001b[38;5;241m.\u001b[39mdate(\u001b[38;5;241m2007\u001b[39m, \u001b[38;5;241m9\u001b[39m, \u001b[38;5;241m13\u001b[39m), datetime\u001b[38;5;241m.\u001b[39mdate(\u001b[38;5;241m1970\u001b[39m, \u001b[38;5;241m9\u001b[39m, \u001b[38;5;241m27\u001b[39m), datetime\u001b[38;5;241m.\u001b[39mdate(\u001b[38;5;241m1969\u001b[39m, \u001b[38;5;241m10\u001b[39m, \u001b[38;5;241m2\u001b[39m), datetime\u001b[38;5;241m.\u001b[39mdate(\u001b[38;5;241m2010\u001b[39m, \u001b[38;5;241m8\u001b[39m, \u001b[38;5;241m31\u001b[39m), datetime\u001b[38;5;241m.\u001b[39mdate(\u001b[38;5;241m1995\u001b[39m, \u001b[38;5;241m10\u001b[39m, \u001b[38;5;241m4\u001b[39m), datetime\u001b[38;5;241m.\u001b[39mdate(\u001b[38;5;241m1969\u001b[39m, \u001b[38;5;241m8\u001b[39m, \u001b[38;5;241m29\u001b[39m), datetime\u001b[38;5;241m.\u001b[39mdate(\u001b[38;5;241m1984\u001b[39m, \u001b[38;5;241m10\u001b[39m, \u001b[38;5;241m26\u001b[39m), datetime\u001b[38;5;241m.\u001b[39mdate(\u001b[38;5;241m1973\u001b[39m, \u001b[38;5;241m9\u001b[39m, \u001b[38;5;241m3\u001b[39m), datetime\u001b[38;5;241m.\u001b[39mdate(\u001b[38;5;241m1976\u001b[39m, \u001b[38;5;241m5\u001b[39m, \u001b[38;5;241m23\u001b[39m), datetime\u001b[38;5;241m.\u001b[39mdate(\u001b[38;5;241m2001\u001b[39m, \u001b[38;5;241m11\u001b[39m, \u001b[38;5;241m5\u001b[39m), datetime\u001b[38;5;241m.\u001b[39mdate(\u001b[38;5;241m2010\u001b[39m, \u001b[38;5;241m6\u001b[39m, \u001b[38;5;241m30\u001b[39m), datetime\u001b[38;5;241m.\u001b[39mdate(\u001b[38;5;241m1985\u001b[39m, \u001b[38;5;241m10\u001b[39m, \u001b[38;5;241m10\u001b[39m), datetime\u001b[38;5;241m.\u001b[39mdate(\u001b[38;5;241m1970\u001b[39m, \u001b[38;5;241m7\u001b[39m, \u001b[38;5;241m22\u001b[39m), datetime\u001b[38;5;241m.\u001b[39mdate(\u001b[38;5;241m1972\u001b[39m, \u001b[38;5;241m5\u001b[39m, \u001b[38;5;241m28\u001b[39m), datetime\u001b[38;5;241m.\u001b[39mdate(\u001b[38;5;241m1982\u001b[39m, \u001b[38;5;241m6\u001b[39m, \u001b[38;5;241m18\u001b[39m), datetime\u001b[38;5;241m.\u001b[39mdate(\u001b[38;5;241m2001\u001b[39m, \u001b[38;5;241m8\u001b[39m, \u001b[38;5;241m6\u001b[39m), datetime\u001b[38;5;241m.\u001b[39mdate(\u001b[38;5;241m1953\u001b[39m, \u001b[38;5;241m8\u001b[39m, \u001b[38;5;241m29\u001b[39m), datetime\u001b[38;5;241m.\u001b[39mdate(\u001b[38;5;241m1965\u001b[39m, \u001b[38;5;241m9\u001b[39m, \u001b[38;5;241m8\u001b[39m), datetime\u001b[38;5;241m.\u001b[39mdate(\u001b[38;5;241m1964\u001b[39m, \u001b[38;5;241m9\u001b[39m, \u001b[38;5;241m10\u001b[39m), datetime\u001b[38;5;241m.\u001b[39mdate(\u001b[38;5;241m1959\u001b[39m, \u001b[38;5;241m10\u001b[39m, \u001b[38;5;241m18\u001b[39m), datetime\u001b[38;5;241m.\u001b[39mdate(\u001b[38;5;241m1957\u001b[39m, \u001b[38;5;241m6\u001b[39m, \u001b[38;5;241m8\u001b[39m), datetime\u001b[38;5;241m.\u001b[39mdate(\u001b[38;5;241m1988\u001b[39m, \u001b[38;5;241m9\u001b[39m, \u001b[38;5;241m10\u001b[39m), datetime\u001b[38;5;241m.\u001b[39mdate(\u001b[38;5;241m2005\u001b[39m, \u001b[38;5;241m6\u001b[39m, \u001b[38;5;241m11\u001b[39m), datetime\u001b[38;5;241m.\u001b[39mdate(\u001b[38;5;241m1953\u001b[39m, \u001b[38;5;241m6\u001b[39m, \u001b[38;5;241m6\u001b[39m), datetime\u001b[38;5;241m.\u001b[39mdate(\u001b[38;5;241m2003\u001b[39m, \u001b[38;5;241m8\u001b[39m, \u001b[38;5;241m30\u001b[39m), datetime\u001b[38;5;241m.\u001b[39mdate(\u001b[38;5;241m2002\u001b[39m, \u001b[38;5;241m10\u001b[39m, \u001b[38;5;241m3\u001b[39m), datetime\u001b[38;5;241m.\u001b[39mdate(\u001b[38;5;241m1968\u001b[39m, \u001b[38;5;241m8\u001b[39m, \u001b[38;5;241m10\u001b[39m), datetime\u001b[38;5;241m.\u001b[39mdate(\u001b[38;5;241m1999\u001b[39m, \u001b[38;5;241m10\u001b[39m, \u001b[38;5;241m15\u001b[39m), datetime\u001b[38;5;241m.\u001b[39mdate(\u001b[38;5;241m2002\u001b[39m, \u001b[38;5;241m9\u001b[39m, \u001b[38;5;241m4\u001b[39m), datetime\u001b[38;5;241m.\u001b[39mdate(\u001b[38;5;241m2001\u001b[39m, \u001b[38;5;241m6\u001b[39m, \u001b[38;5;241m12\u001b[39m), datetime\u001b[38;5;241m.\u001b[39mdate(\u001b[38;5;241m2017\u001b[39m, \u001b[38;5;241m9\u001b[39m, \u001b[38;5;241m10\u001b[39m), datetime\u001b[38;5;241m.\u001b[39mdate(\u001b[38;5;241m2005\u001b[39m, \u001b[38;5;241m10\u001b[39m, \u001b[38;5;241m5\u001b[39m), datetime\u001b[38;5;241m.\u001b[39mdate(\u001b[38;5;241m2005\u001b[39m, \u001b[38;5;241m7\u001b[39m, \u001b[38;5;241m10\u001b[39m), datetime\u001b[38;5;241m.\u001b[39mdate(\u001b[38;5;241m1973\u001b[39m, \u001b[38;5;241m6\u001b[39m, \u001b[38;5;241m7\u001b[39m), datetime\u001b[38;5;241m.\u001b[39mdate(\u001b[38;5;241m1999\u001b[39m, \u001b[38;5;241m9\u001b[39m, \u001b[38;5;241m15\u001b[39m), datetime\u001b[38;5;241m.\u001b[39mdate(\u001b[38;5;241m2005\u001b[39m, \u001b[38;5;241m9\u001b[39m, \u001b[38;5;241m20\u001b[39m), datetime\u001b[38;5;241m.\u001b[39mdate(\u001b[38;5;241m1995\u001b[39m, \u001b[38;5;241m6\u001b[39m, \u001b[38;5;241m5\u001b[39m), datetime\u001b[38;5;241m.\u001b[39mdate(\u001b[38;5;241m2003\u001b[39m, \u001b[38;5;241m7\u001b[39m, \u001b[38;5;241m25\u001b[39m), datetime\u001b[38;5;241m.\u001b[39mdate(\u001b[38;5;241m2004\u001b[39m, \u001b[38;5;241m9\u001b[39m, \u001b[38;5;241m13\u001b[39m), datetime\u001b[38;5;241m.\u001b[39mdate(\u001b[38;5;241m1964\u001b[39m, \u001b[38;5;241m6\u001b[39m, \u001b[38;5;241m6\u001b[39m), datetime\u001b[38;5;241m.\u001b[39mdate(\u001b[38;5;241m1973\u001b[39m, \u001b[38;5;241m6\u001b[39m, \u001b[38;5;241m23\u001b[39m), datetime\u001b[38;5;241m.\u001b[39mdate(\u001b[38;5;241m2005\u001b[39m, \u001b[38;5;241m9\u001b[39m, \u001b[38;5;241m12\u001b[39m), datetime\u001b[38;5;241m.\u001b[39mdate(\u001b[38;5;241m2012\u001b[39m, \u001b[38;5;241m6\u001b[39m, \u001b[38;5;241m23\u001b[39m), datetime\u001b[38;5;241m.\u001b[39mdate(\u001b[38;5;241m1961\u001b[39m, \u001b[38;5;241m9\u001b[39m, \u001b[38;5;241m11\u001b[39m), datetime\u001b[38;5;241m.\u001b[39mdate(\u001b[38;5;241m1990\u001b[39m, \u001b[38;5;241m5\u001b[39m, \u001b[38;5;241m25\u001b[39m), datetime\u001b[38;5;241m.\u001b[39mdate(\u001b[38;5;241m2017\u001b[39m, \u001b[38;5;241m6\u001b[39m, \u001b[38;5;241m21\u001b[39m), datetime\u001b[38;5;241m.\u001b[39mdate(\u001b[38;5;241m1975\u001b[39m, \u001b[38;5;241m6\u001b[39m, \u001b[38;5;241m27\u001b[39m), datetime\u001b[38;5;241m.\u001b[39mdate(\u001b[38;5;241m1959\u001b[39m, \u001b[38;5;241m6\u001b[39m, \u001b[38;5;241m18\u001b[39m), datetime\u001b[38;5;241m.\u001b[39mdate(\u001b[38;5;241m2004\u001b[39m, \u001b[38;5;241m9\u001b[39m, \u001b[38;5;241m5\u001b[39m), datetime\u001b[38;5;241m.\u001b[39mdate(\u001b[38;5;241m1987\u001b[39m, \u001b[38;5;241m10\u001b[39m, \u001b[38;5;241m12\u001b[39m), datetime\u001b[38;5;241m.\u001b[39mdate(\u001b[38;5;241m1995\u001b[39m, \u001b[38;5;241m7\u001b[39m, \u001b[38;5;241m27\u001b[39m), datetime\u001b[38;5;241m.\u001b[39mdate(\u001b[38;5;241m1964\u001b[39m, \u001b[38;5;241m10\u001b[39m, \u001b[38;5;241m14\u001b[39m), datetime\u001b[38;5;241m.\u001b[39mdate(\u001b[38;5;241m1970\u001b[39m, \u001b[38;5;241m8\u001b[39m, \u001b[38;5;241m6\u001b[39m), datetime\u001b[38;5;241m.\u001b[39mdate(\u001b[38;5;241m1969\u001b[39m, \u001b[38;5;241m10\u001b[39m, \u001b[38;5;241m1\u001b[39m), datetime\u001b[38;5;241m.\u001b[39mdate(\u001b[38;5;241m1996\u001b[39m, \u001b[38;5;241m10\u001b[39m, \u001b[38;5;241m8\u001b[39m), datetime\u001b[38;5;241m.\u001b[39mdate(\u001b[38;5;241m1968\u001b[39m, \u001b[38;5;241m8\u001b[39m, \u001b[38;5;241m28\u001b[39m), datetime\u001b[38;5;241m.\u001b[39mdate(\u001b[38;5;241m1956\u001b[39m, \u001b[38;5;241m10\u001b[39m, \u001b[38;5;241m15\u001b[39m), datetime\u001b[38;5;241m.\u001b[39mdate(\u001b[38;5;241m1975\u001b[39m, \u001b[38;5;241m9\u001b[39m, \u001b[38;5;241m23\u001b[39m), datetime\u001b[38;5;241m.\u001b[39mdate(\u001b[38;5;241m1970\u001b[39m, \u001b[38;5;241m9\u001b[39m, \u001b[38;5;241m13\u001b[39m), datetime\u001b[38;5;241m.\u001b[39mdate(\u001b[38;5;241m1975\u001b[39m, \u001b[38;5;241m10\u001b[39m, \u001b[38;5;241m16\u001b[39m), datetime\u001b[38;5;241m.\u001b[39mdate(\u001b[38;5;241m1990\u001b[39m, \u001b[38;5;241m10\u001b[39m, \u001b[38;5;241m9\u001b[39m), datetime\u001b[38;5;241m.\u001b[39mdate(\u001b[38;5;241m2005\u001b[39m, \u001b[38;5;241m10\u001b[39m, \u001b[38;5;241m24\u001b[39m), datetime\u001b[38;5;241m.\u001b[39mdate(\u001b[38;5;241m1950\u001b[39m, \u001b[38;5;241m8\u001b[39m, \u001b[38;5;241m31\u001b[39m), datetime\u001b[38;5;241m.\u001b[39mdate(\u001b[38;5;241m2000\u001b[39m, \u001b[38;5;241m10\u001b[39m, \u001b[38;5;241m3\u001b[39m), datetime\u001b[38;5;241m.\u001b[39mdate(\u001b[38;5;241m2002\u001b[39m, \u001b[38;5;241m10\u001b[39m, \u001b[38;5;241m11\u001b[39m), datetime\u001b[38;5;241m.\u001b[39mdate(\u001b[38;5;241m1983\u001b[39m, \u001b[38;5;241m8\u001b[39m, \u001b[38;5;241m28\u001b[39m), datetime\u001b[38;5;241m.\u001b[39mdate(\u001b[38;5;241m1960\u001b[39m, \u001b[38;5;241m7\u001b[39m, \u001b[38;5;241m29\u001b[39m), datetime\u001b[38;5;241m.\u001b[39mdate(\u001b[38;5;241m1950\u001b[39m, \u001b[38;5;241m10\u001b[39m, \u001b[38;5;241m21\u001b[39m), datetime\u001b[38;5;241m.\u001b[39mdate(\u001b[38;5;241m1995\u001b[39m, \u001b[38;5;241m8\u001b[39m, \u001b[38;5;241m2\u001b[39m), datetime\u001b[38;5;241m.\u001b[39mdate(\u001b[38;5;241m1956\u001b[39m, \u001b[38;5;241m9\u001b[39m, \u001b[38;5;241m24\u001b[39m), datetime\u001b[38;5;241m.\u001b[39mdate(\u001b[38;5;241m2016\u001b[39m, \u001b[38;5;241m9\u001b[39m, \u001b[38;5;241m1\u001b[39m), datetime\u001b[38;5;241m.\u001b[39mdate(\u001b[38;5;241m1993\u001b[39m, \u001b[38;5;241m6\u001b[39m, \u001b[38;5;241m1\u001b[39m), datetime\u001b[38;5;241m.\u001b[39mdate(\u001b[38;5;241m1987\u001b[39m, \u001b[38;5;241m9\u001b[39m, \u001b[38;5;241m7\u001b[39m), datetime\u001b[38;5;241m.\u001b[39mdate(\u001b[38;5;241m2012\u001b[39m, \u001b[38;5;241m5\u001b[39m, \u001b[38;5;241m28\u001b[39m), datetime\u001b[38;5;241m.\u001b[39mdate(\u001b[38;5;241m1995\u001b[39m, \u001b[38;5;241m8\u001b[39m, \u001b[38;5;241m23\u001b[39m), datetime\u001b[38;5;241m.\u001b[39mdate(\u001b[38;5;241m1969\u001b[39m, \u001b[38;5;241m8\u001b[39m, \u001b[38;5;241m18\u001b[39m), datetime\u001b[38;5;241m.\u001b[39mdate(\u001b[38;5;241m2001\u001b[39m, \u001b[38;5;241m9\u001b[39m, \u001b[38;5;241m14\u001b[39m), datetime\u001b[38;5;241m.\u001b[39mdate(\u001b[38;5;241m2000\u001b[39m, \u001b[38;5;241m8\u001b[39m, \u001b[38;5;241m23\u001b[39m), datetime\u001b[38;5;241m.\u001b[39mdate(\u001b[38;5;241m1974\u001b[39m, \u001b[38;5;241m10\u001b[39m, \u001b[38;5;241m7\u001b[39m), datetime\u001b[38;5;241m.\u001b[39mdate(\u001b[38;5;241m1986\u001b[39m, \u001b[38;5;241m8\u001b[39m, \u001b[38;5;241m13\u001b[39m), datetime\u001b[38;5;241m.\u001b[39mdate(\u001b[38;5;241m1977\u001b[39m, \u001b[38;5;241m8\u001b[39m, \u001b[38;5;241m27\u001b[39m), datetime\u001b[38;5;241m.\u001b[39mdate(\u001b[38;5;241m2008\u001b[39m, \u001b[38;5;241m7\u001b[39m, \u001b[38;5;241m16\u001b[39m), datetime\u001b[38;5;241m.\u001b[39mdate(\u001b[38;5;241m1996\u001b[39m, \u001b[38;5;241m7\u001b[39m, \u001b[38;5;241m11\u001b[39m), datetime\u001b[38;5;241m.\u001b[39mdate(\u001b[38;5;241m1988\u001b[39m, \u001b[38;5;241m9\u001b[39m, \u001b[38;5;241m4\u001b[39m), datetime\u001b[38;5;241m.\u001b[39mdate(\u001b[38;5;241m1975\u001b[39m, \u001b[38;5;241m10\u001b[39m, \u001b[38;5;241m1\u001b[39m), datetime\u001b[38;5;241m.\u001b[39mdate(\u001b[38;5;241m2003\u001b[39m, \u001b[38;5;241m8\u001b[39m, \u001b[38;5;241m14\u001b[39m), datetime\u001b[38;5;241m.\u001b[39mdate(\u001b[38;5;241m1957\u001b[39m, \u001b[38;5;241m9\u001b[39m, \u001b[38;5;241m8\u001b[39m), datetime\u001b[38;5;241m.\u001b[39mdate(\u001b[38;5;241m2005\u001b[39m, \u001b[38;5;241m7\u001b[39m, \u001b[38;5;241m6\u001b[39m), datetime\u001b[38;5;241m.\u001b[39mdate(\u001b[38;5;241m1960\u001b[39m, \u001b[38;5;241m9\u001b[39m, \u001b[38;5;241m15\u001b[39m), datetime\u001b[38;5;241m.\u001b[39mdate(\u001b[38;5;241m1974\u001b[39m, \u001b[38;5;241m9\u001b[39m, \u001b[38;5;241m27\u001b[39m), datetime\u001b[38;5;241m.\u001b[39mdate(\u001b[38;5;241m1965\u001b[39m, \u001b[38;5;241m6\u001b[39m, \u001b[38;5;241m15\u001b[39m), datetime\u001b[38;5;241m.\u001b[39mdate(\u001b[38;5;241m1999\u001b[39m, \u001b[38;5;241m9\u001b[39m, \u001b[38;5;241m21\u001b[39m), datetime\u001b[38;5;241m.\u001b[39mdate(\u001b[38;5;241m2004\u001b[39m, \u001b[38;5;241m8\u001b[39m, \u001b[38;5;241m13\u001b[39m), datetime\u001b[38;5;241m.\u001b[39mdate(\u001b[38;5;241m1994\u001b[39m, \u001b[38;5;241m10\u001b[39m, \u001b[38;5;241m2\u001b[39m), datetime\u001b[38;5;241m.\u001b[39mdate(\u001b[38;5;241m1971\u001b[39m, \u001b[38;5;241m8\u001b[39m, \u001b[38;5;241m10\u001b[39m), datetime\u001b[38;5;241m.\u001b[39mdate(\u001b[38;5;241m2008\u001b[39m, \u001b[38;5;241m7\u001b[39m, \u001b[38;5;241m22\u001b[39m), datetime\u001b[38;5;241m.\u001b[39mdate(\u001b[38;5;241m2000\u001b[39m, \u001b[38;5;241m9\u001b[39m, \u001b[38;5;241m18\u001b[39m), datetime\u001b[38;5;241m.\u001b[39mdate(\u001b[38;5;241m1960\u001b[39m, \u001b[38;5;241m9\u001b[39m, \u001b[38;5;241m10\u001b[39m), datetime\u001b[38;5;241m.\u001b[39mdate(\u001b[38;5;241m2006\u001b[39m, \u001b[38;5;241m6\u001b[39m, \u001b[38;5;241m13\u001b[39m), datetime\u001b[38;5;241m.\u001b[39mdate(\u001b[38;5;241m2017\u001b[39m, \u001b[38;5;241m10\u001b[39m, \u001b[38;5;241m29\u001b[39m), datetime\u001b[38;5;241m.\u001b[39mdate(\u001b[38;5;241m1972\u001b[39m, \u001b[38;5;241m9\u001b[39m, \u001b[38;5;241m5\u001b[39m), datetime\u001b[38;5;241m.\u001b[39mdate(\u001b[38;5;241m1964\u001b[39m, \u001b[38;5;241m10\u001b[39m, \u001b[38;5;241m5\u001b[39m), datetime\u001b[38;5;241m.\u001b[39mdate(\u001b[38;5;241m1991\u001b[39m, \u001b[38;5;241m10\u001b[39m, \u001b[38;5;241m16\u001b[39m), datetime\u001b[38;5;241m.\u001b[39mdate(\u001b[38;5;241m1969\u001b[39m, \u001b[38;5;241m9\u001b[39m, \u001b[38;5;241m21\u001b[39m), datetime\u001b[38;5;241m.\u001b[39mdate(\u001b[38;5;241m1998\u001b[39m, \u001b[38;5;241m9\u001b[39m, \u001b[38;5;241m20\u001b[39m), datetime\u001b[38;5;241m.\u001b[39mdate(\u001b[38;5;241m1977\u001b[39m, \u001b[38;5;241m9\u001b[39m, \u001b[38;5;241m5\u001b[39m), datetime\u001b[38;5;241m.\u001b[39mdate(\u001b[38;5;241m1988\u001b[39m, \u001b[38;5;241m9\u001b[39m, \u001b[38;5;241m13\u001b[39m), datetime\u001b[38;5;241m.\u001b[39mdate(\u001b[38;5;241m1974\u001b[39m, \u001b[38;5;241m6\u001b[39m, \u001b[38;5;241m25\u001b[39m), datetime\u001b[38;5;241m.\u001b[39mdate(\u001b[38;5;241m2010\u001b[39m, \u001b[38;5;241m7\u001b[39m, \u001b[38;5;241m23\u001b[39m), datetime\u001b[38;5;241m.\u001b[39mdate(\u001b[38;5;241m2007\u001b[39m, \u001b[38;5;241m9\u001b[39m, \u001b[38;5;241m22\u001b[39m), datetime\u001b[38;5;241m.\u001b[39mdate(\u001b[38;5;241m1984\u001b[39m, \u001b[38;5;241m9\u001b[39m, \u001b[38;5;241m9\u001b[39m), datetime\u001b[38;5;241m.\u001b[39mdate(\u001b[38;5;241m1989\u001b[39m, \u001b[38;5;241m9\u001b[39m, \u001b[38;5;241m22\u001b[39m), datetime\u001b[38;5;241m.\u001b[39mdate(\u001b[38;5;241m1992\u001b[39m, \u001b[38;5;241m6\u001b[39m, \u001b[38;5;241m25\u001b[39m), datetime\u001b[38;5;241m.\u001b[39mdate(\u001b[38;5;241m1971\u001b[39m, \u001b[38;5;241m8\u001b[39m, \u001b[38;5;241m29\u001b[39m), datetime\u001b[38;5;241m.\u001b[39mdate(\u001b[38;5;241m1953\u001b[39m, \u001b[38;5;241m9\u001b[39m, \u001b[38;5;241m20\u001b[39m), datetime\u001b[38;5;241m.\u001b[39mdate(\u001b[38;5;241m1985\u001b[39m, \u001b[38;5;241m8\u001b[39m, \u001b[38;5;241m15\u001b[39m), datetime\u001b[38;5;241m.\u001b[39mdate(\u001b[38;5;241m2016\u001b[39m, \u001b[38;5;241m6\u001b[39m, \u001b[38;5;241m6\u001b[39m), datetime\u001b[38;5;241m.\u001b[39mdate(\u001b[38;5;241m2006\u001b[39m, \u001b[38;5;241m8\u001b[39m, \u001b[38;5;241m30\u001b[39m), datetime\u001b[38;5;241m.\u001b[39mdate(\u001b[38;5;241m1980\u001b[39m, \u001b[38;5;241m11\u001b[39m, \u001b[38;5;241m18\u001b[39m), datetime\u001b[38;5;241m.\u001b[39mdate(\u001b[38;5;241m2011\u001b[39m, \u001b[38;5;241m7\u001b[39m, \u001b[38;5;241m18\u001b[39m)]\n",
      "\u001b[0;31mNameError\u001b[0m: name 'datetime' is not defined"
     ]
    }
   ],
   "source": [
    "dates_scrambled = [datetime.date(1988, 8, 4), datetime.date(1990, 10, 12), datetime.date(2003, 4, 20), datetime.date(1971, 9, 1), datetime.date(1988, 8, 23), datetime.date(1994, 8, 15), datetime.date(2002, 8, 4), datetime.date(1988, 5, 30), datetime.date(2003, 9, 13), datetime.date(2009, 8, 21), datetime.date(1978, 6, 22), datetime.date(1969, 6, 9), datetime.date(1976, 6, 11), datetime.date(1976, 8, 19), datetime.date(1966, 6, 9), datetime.date(1968, 7, 5), datetime.date(1987, 11, 4), datetime.date(1988, 8, 13), datetime.date(2007, 12, 13), datetime.date(1994, 11, 16), datetime.date(2003, 9, 6), datetime.date(1971, 8, 13), datetime.date(1981, 8, 17), datetime.date(1998, 9, 25), datetime.date(1968, 9, 26), datetime.date(1968, 6, 4), datetime.date(1998, 11, 5), datetime.date(2008, 8, 18), datetime.date(1987, 8, 14), datetime.date(1988, 11, 23), datetime.date(2010, 9, 29), datetime.date(1985, 7, 23), datetime.date(2017, 7, 31), datetime.date(1955, 8, 21), datetime.date(1986, 6, 26), datetime.date(1963, 10, 21), datetime.date(2011, 10, 28), datetime.date(2011, 11, 9), datetime.date(1997, 7, 19), datetime.date(2007, 6, 2), datetime.date(2002, 9, 14), datetime.date(1992, 9, 29), datetime.date(1971, 10, 13), datetime.date(1962, 8, 26), datetime.date(1964, 8, 27), datetime.date(1984, 9, 27), datetime.date(1973, 9, 25), datetime.date(1969, 10, 21), datetime.date(1994, 7, 3), datetime.date(1958, 9, 4), datetime.date(1985, 11, 21), datetime.date(2011, 9, 3), datetime.date(1972, 6, 19), datetime.date(1991, 6, 30), datetime.date(2004, 8, 12), datetime.date(2007, 9, 8), datetime.date(1952, 2, 3), datetime.date(1965, 9, 30), datetime.date(2000, 9, 22), datetime.date(2002, 9, 26), datetime.date(1950, 9, 5), datetime.date(1966, 10, 4), datetime.date(1970, 5, 25), datetime.date(1979, 9, 24), datetime.date(1960, 9, 23), datetime.date(2007, 8, 23), datetime.date(2009, 8, 16), datetime.date(1996, 10, 18), datetime.date(2012, 10, 25), datetime.date(2011, 8, 25), datetime.date(1951, 5, 18), datetime.date(1980, 8, 7), datetime.date(1979, 9, 3), datetime.date(1953, 9, 26), datetime.date(1968, 10, 19), datetime.date(2009, 11, 9), datetime.date(1999, 8, 29), datetime.date(2015, 10, 1), datetime.date(2008, 9, 2), datetime.date(2004, 10, 10), datetime.date(2004, 9, 16), datetime.date(1992, 8, 24), datetime.date(2000, 9, 9), datetime.date(1971, 9, 16), datetime.date(1996, 9, 2), datetime.date(1998, 9, 3), datetime.date(1951, 10, 2), datetime.date(1979, 9, 12), datetime.date(2007, 10, 31), datetime.date(1953, 10, 9), datetime.date(1952, 8, 30), datetime.date(1969, 9, 7), datetime.date(2015, 8, 30), datetime.date(1959, 10, 8), datetime.date(2002, 7, 13), datetime.date(1961, 10, 29), datetime.date(2007, 5, 9), datetime.date(2016, 10, 7), datetime.date(1964, 9, 20), datetime.date(1979, 7, 11), datetime.date(1950, 10, 18), datetime.date(2008, 8, 31), datetime.date(2012, 8, 25), datetime.date(1966, 7, 24), datetime.date(2010, 8, 10), datetime.date(2005, 8, 25), datetime.date(2003, 6, 30), datetime.date(1956, 7, 6), datetime.date(1974, 9, 8), datetime.date(1966, 6, 30), datetime.date(2016, 9, 14), datetime.date(1968, 6, 18), datetime.date(1982, 9, 11), datetime.date(1976, 9, 13), datetime.date(1975, 7, 29), datetime.date(2007, 9, 13), datetime.date(1970, 9, 27), datetime.date(1969, 10, 2), datetime.date(2010, 8, 31), datetime.date(1995, 10, 4), datetime.date(1969, 8, 29), datetime.date(1984, 10, 26), datetime.date(1973, 9, 3), datetime.date(1976, 5, 23), datetime.date(2001, 11, 5), datetime.date(2010, 6, 30), datetime.date(1985, 10, 10), datetime.date(1970, 7, 22), datetime.date(1972, 5, 28), datetime.date(1982, 6, 18), datetime.date(2001, 8, 6), datetime.date(1953, 8, 29), datetime.date(1965, 9, 8), datetime.date(1964, 9, 10), datetime.date(1959, 10, 18), datetime.date(1957, 6, 8), datetime.date(1988, 9, 10), datetime.date(2005, 6, 11), datetime.date(1953, 6, 6), datetime.date(2003, 8, 30), datetime.date(2002, 10, 3), datetime.date(1968, 8, 10), datetime.date(1999, 10, 15), datetime.date(2002, 9, 4), datetime.date(2001, 6, 12), datetime.date(2017, 9, 10), datetime.date(2005, 10, 5), datetime.date(2005, 7, 10), datetime.date(1973, 6, 7), datetime.date(1999, 9, 15), datetime.date(2005, 9, 20), datetime.date(1995, 6, 5), datetime.date(2003, 7, 25), datetime.date(2004, 9, 13), datetime.date(1964, 6, 6), datetime.date(1973, 6, 23), datetime.date(2005, 9, 12), datetime.date(2012, 6, 23), datetime.date(1961, 9, 11), datetime.date(1990, 5, 25), datetime.date(2017, 6, 21), datetime.date(1975, 6, 27), datetime.date(1959, 6, 18), datetime.date(2004, 9, 5), datetime.date(1987, 10, 12), datetime.date(1995, 7, 27), datetime.date(1964, 10, 14), datetime.date(1970, 8, 6), datetime.date(1969, 10, 1), datetime.date(1996, 10, 8), datetime.date(1968, 8, 28), datetime.date(1956, 10, 15), datetime.date(1975, 9, 23), datetime.date(1970, 9, 13), datetime.date(1975, 10, 16), datetime.date(1990, 10, 9), datetime.date(2005, 10, 24), datetime.date(1950, 8, 31), datetime.date(2000, 10, 3), datetime.date(2002, 10, 11), datetime.date(1983, 8, 28), datetime.date(1960, 7, 29), datetime.date(1950, 10, 21), datetime.date(1995, 8, 2), datetime.date(1956, 9, 24), datetime.date(2016, 9, 1), datetime.date(1993, 6, 1), datetime.date(1987, 9, 7), datetime.date(2012, 5, 28), datetime.date(1995, 8, 23), datetime.date(1969, 8, 18), datetime.date(2001, 9, 14), datetime.date(2000, 8, 23), datetime.date(1974, 10, 7), datetime.date(1986, 8, 13), datetime.date(1977, 8, 27), datetime.date(2008, 7, 16), datetime.date(1996, 7, 11), datetime.date(1988, 9, 4), datetime.date(1975, 10, 1), datetime.date(2003, 8, 14), datetime.date(1957, 9, 8), datetime.date(2005, 7, 6), datetime.date(1960, 9, 15), datetime.date(1974, 9, 27), datetime.date(1965, 6, 15), datetime.date(1999, 9, 21), datetime.date(2004, 8, 13), datetime.date(1994, 10, 2), datetime.date(1971, 8, 10), datetime.date(2008, 7, 22), datetime.date(2000, 9, 18), datetime.date(1960, 9, 10), datetime.date(2006, 6, 13), datetime.date(2017, 10, 29), datetime.date(1972, 9, 5), datetime.date(1964, 10, 5), datetime.date(1991, 10, 16), datetime.date(1969, 9, 21), datetime.date(1998, 9, 20), datetime.date(1977, 9, 5), datetime.date(1988, 9, 13), datetime.date(1974, 6, 25), datetime.date(2010, 7, 23), datetime.date(2007, 9, 22), datetime.date(1984, 9, 9), datetime.date(1989, 9, 22), datetime.date(1992, 6, 25), datetime.date(1971, 8, 29), datetime.date(1953, 9, 20), datetime.date(1985, 8, 15), datetime.date(2016, 6, 6), datetime.date(2006, 8, 30), datetime.date(1980, 11, 18), datetime.date(2011, 7, 18)]\n"
   ]
  },
  {
   "cell_type": "code",
   "execution_count": 23,
   "metadata": {},
   "outputs": [
    {
     "ename": "NameError",
     "evalue": "name 'dates_scrambled' is not defined",
     "output_type": "error",
     "traceback": [
      "\u001b[0;31m---------------------------------------------------------------------------\u001b[0m",
      "\u001b[0;31mNameError\u001b[0m                                 Traceback (most recent call last)",
      "Cell \u001b[0;32mIn[23], line 2\u001b[0m\n\u001b[1;32m      1\u001b[0m \u001b[38;5;66;03m# Print the first and last scrambled dates\u001b[39;00m\n\u001b[0;32m----> 2\u001b[0m \u001b[38;5;28mprint\u001b[39m(\u001b[43mdates_scrambled\u001b[49m[\u001b[38;5;241m0\u001b[39m])\n\u001b[1;32m      3\u001b[0m \u001b[38;5;28mprint\u001b[39m(dates_scrambled[\u001b[38;5;241m-\u001b[39m\u001b[38;5;241m1\u001b[39m])\n",
      "\u001b[0;31mNameError\u001b[0m: name 'dates_scrambled' is not defined"
     ]
    }
   ],
   "source": [
    "# Print the first and last scrambled dates\n",
    "print(dates_scrambled[0])\n",
    "print(dates_scrambled[-1])"
   ]
  }
 ],
 "metadata": {
  "kernelspec": {
   "display_name": "Python 3",
   "language": "python",
   "name": "python3"
  },
  "language_info": {
   "codemirror_mode": {
    "name": "ipython",
    "version": 3
   },
   "file_extension": ".py",
   "mimetype": "text/x-python",
   "name": "python",
   "nbconvert_exporter": "python",
   "pygments_lexer": "ipython3",
   "version": "3.10.13"
  }
 },
 "nbformat": 4,
 "nbformat_minor": 2
}
