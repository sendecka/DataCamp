{
 "cells": [
  {
   "cell_type": "markdown",
   "metadata": {},
   "source": [
    "# 4 Easy and Powerful: Dates and Times in Pandas"
   ]
  },
  {
   "cell_type": "markdown",
   "metadata": {},
   "source": [
    "To conclude this course, you'll apply everything you've learned about working with dates and times in standard Python to working with dates and times in Pandas. With additional information about each bike ride, such as what station it started and stopped at and whether or not the rider had a yearly membership, you'll be able to dig much more deeply into the bike trip data. In this chapter, you'll cover powerful Pandas operations, such as grouping and plotting results by time."
   ]
  },
  {
   "cell_type": "markdown",
   "metadata": {},
   "source": [
    "# Loading a csv file in Pandas\n",
    "\n",
    "The capital_onebike.csv file covers the October, November and December rides of the Capital Bikeshare bike W20529.\n",
    "\n",
    "Here are the first two columns:\n",
    "\n",
    "Start date\tEnd date\t...\n",
    "2017-10-01 15:23:25\t2017-10-01 15:26:26\t...\n",
    "2017-10-01 15:42:57\t2017-10-01 17:49:59\t...\n"
   ]
  },
  {
   "cell_type": "markdown",
   "metadata": {},
   "source": [
    "# Instructions:\n",
    "\n",
    "- Import Pandas.\n",
    "- Complete the call to read_csv() so that it correctly parses the date columns Start date and End date."
   ]
  },
  {
   "cell_type": "code",
   "execution_count": null,
   "metadata": {},
   "outputs": [],
   "source": [
    "# Import pandas\n",
    "import pandas as pd\n",
    "\n",
    "# Load CSV into the rides variable\n",
    "rides = pd.read_csv('capital-onebike.csv', \n",
    "                    parse_dates = ['Start date', 'End date'])\n",
    "\n",
    "# Print the initial (0th) row\n",
    "print(rides.iloc[0])"
   ]
  },
  {
   "cell_type": "markdown",
   "metadata": {},
   "source": [
    "# Making timedelta columns\n",
    "\n",
    "Earlier in this course, you wrote a loop to subtract datetime objects and determine how long our sample bike had been out of the docks. Now you'll do the same thing with Pandas.\n",
    "\n",
    "rides has already been loaded for you."
   ]
  },
  {
   "cell_type": "markdown",
   "metadata": {},
   "source": [
    "# Instructions:\n",
    "\n",
    "- Subtract the Start date column from the End date column to get a Series of timedeltas; assign the result to ride_durations.\n",
    "- Convert ride_durations into seconds and assign the result to the 'Duration' column of rides."
   ]
  },
  {
   "cell_type": "code",
   "execution_count": null,
   "metadata": {},
   "outputs": [],
   "source": [
    "# Subtract the start date from the end date\n",
    "ride_durations = rides['End date'] - rides['Start date']\n",
    "\n",
    "# Convert the results to seconds\n",
    "rides['Duration'] = ride_durations.dt.total_seconds()\n",
    "\n",
    "print(rides['Duration'].head())"
   ]
  },
  {
   "cell_type": "markdown",
   "metadata": {},
   "source": [
    "# How many joyrides?\n",
    "\n",
    "Suppose you have a theory that some people take long bike rides before putting their bike back in the same dock. Let's call these rides \"joyrides\".\n",
    "\n",
    "You only have data on one bike, so while you can't draw any bigger conclusions, it's certainly worth a look.\n",
    "\n",
    "Are there many joyrides? How long were they in our data set? Use the median instead of the mean, because we know there are some very long trips in our data set that might skew the answer, and the median is less sensitive to outliers."
   ]
  },
  {
   "cell_type": "markdown",
   "metadata": {},
   "source": [
    "# Instructions:\n",
    "\n",
    "- Create a Pandas Series which is True when Start station and End station are the same, and assign the result to joyrides.\n",
    "- Calculate the median duration of all rides.\n",
    "- Calculate the median duration of joyrides."
   ]
  },
  {
   "cell_type": "code",
   "execution_count": null,
   "metadata": {},
   "outputs": [],
   "source": [
    "# Create joyrides\n",
    "joyrides = (rides['Start station'] == rides['End station'])\n",
    "\n",
    "# Total number of joyrides\n",
    "print(\"{} rides were joyrides\".format(joyrides.sum()))\n",
    "\n",
    "# Median of all rides\n",
    "print(\"The median duration overall was {:.2f} seconds\"\\\n",
    "      .format(rides['Duration'].median()))\n",
    "\n",
    "# Median of joyrides\n",
    "print(\"The median duration for joyrides was {:.2f} seconds\"\\\n",
    "      .format(rides[joyrides]['Duration'].median()))"
   ]
  },
  {
   "cell_type": "markdown",
   "metadata": {},
   "source": [
    "# It's getting cold outside, W20529\n",
    "\n",
    "Washington, D.C. has mild weather overall, but the average high temperature in October (68ºF / 20ºC) is certainly higher than the average high temperature in December (47ºF / 8ºC). People also travel more in December, and they work fewer days so they commute less.\n",
    "\n",
    "How might the weather or the season have affected the length of bike trips?"
   ]
  },
  {
   "cell_type": "markdown",
   "metadata": {},
   "source": [
    "# Instructions:\n",
    "\n",
    "- Resample rides to the daily level, based on the Start date column.\n",
    "- Plot the .size() of each result."
   ]
  },
  {
   "cell_type": "code",
   "execution_count": null,
   "metadata": {},
   "outputs": [],
   "source": [
    "# Import matplotlib\n",
    "import matplotlib.pyplot as plt\n",
    "\n",
    "# Resample rides to daily, take the size, plot the results\n",
    "rides.resample('D', on = 'Start date')\\\n",
    "  .size()\\\n",
    "  .plot(ylim = [0, 15])\n",
    "\n",
    "# Show the results\n",
    "plt.show()"
   ]
  },
  {
   "cell_type": "markdown",
   "metadata": {},
   "source": [
    "- Since the daily time series is so noisy for this one bike, change the resampling to be monthly."
   ]
  },
  {
   "cell_type": "code",
   "execution_count": null,
   "metadata": {},
   "outputs": [],
   "source": [
    "# Import matplotlib\n",
    "import matplotlib.pyplot as plt\n",
    "\n",
    "# Resample rides to monthly, take the size, plot the results\n",
    "rides.resample('M', on = 'Start date')\\\n",
    "  .size()\\\n",
    "  .plot(ylim = [0, 150])\n",
    "\n",
    "# Show the results\n",
    "plt.show()"
   ]
  },
  {
   "cell_type": "markdown",
   "metadata": {},
   "source": [
    "# Members vs casual riders over time\n",
    "\n",
    "Riders can either be \"Members\", meaning they pay yearly for the ability to take a bike at any time, or \"Casual\", meaning they pay at the kiosk attached to the bike dock.\n",
    "\n",
    "Do members and casual riders drop off at the same rate over October to December, or does one drop off faster than the other?\n",
    "\n",
    "As before, rides has been loaded for you. You're going to use the Pandas method .value_counts(), which returns the number of instances of each value in a Series. In this case, the counts of \"Member\" or \"Casual\"."
   ]
  },
  {
   "cell_type": "markdown",
   "metadata": {},
   "source": [
    "# Instructions:\n",
    "\n",
    "- Set monthly_rides to be a resampled version of rides, by month, based on start date.\n",
    "- Use the method .value_counts() to find out how many Member and Casual rides there were, and divide them by the total number of rides per month."
   ]
  },
  {
   "cell_type": "code",
   "execution_count": null,
   "metadata": {},
   "outputs": [],
   "source": [
    "# Resample rides to be monthly on the basis of Start date\n",
    "monthly_rides = rides.resample('M', on ='Start date')['Member type']\n",
    "\n",
    "# Take the ratio of the .value_counts() over the total number of rides\n",
    "print(monthly_rides.value_counts() / monthly_rides.size())"
   ]
  },
  {
   "cell_type": "markdown",
   "metadata": {},
   "source": [
    "# Combining groupby() and resample()\n",
    "\n",
    "A very powerful method in Pandas is .groupby(). Whereas .resample() groups rows by some time or date information, .groupby() groups rows based on the values in one or more columns. For example, rides.groupby('Member type').size() would tell us how many rides there were by member type in our entire DataFrame.\n",
    "\n",
    ".resample() can be called after .groupby(). For example, how long was the median ride by month, and by Membership type?"
   ]
  },
  {
   "cell_type": "markdown",
   "metadata": {},
   "source": [
    "# Instructions:\n",
    "\n",
    "- Complete the .groupby() call to group by 'Member type', and the .resample() call to resample according to 'Start date', by month.\n",
    "- Print the median Duration for each group."
   ]
  },
  {
   "cell_type": "code",
   "execution_count": null,
   "metadata": {},
   "outputs": [],
   "source": [
    "# Group rides by member type, and resample to the month\n",
    "grouped = rides.groupby('Member type')\\\n",
    "  .resample('M', on = 'Start date')\n",
    "\n",
    "# Print the median duration for each group\n",
    "print(grouped['Duration'].median())"
   ]
  },
  {
   "cell_type": "markdown",
   "metadata": {},
   "source": [
    "# Timezones in Pandas\n",
    "\n",
    "Earlier in this course, you assigned a timezone to each datetime in a list. Now with Pandas you can do that with a single method call.\n",
    "\n",
    "(Note that, just as before, your data set actually includes some ambiguous datetimes on account of daylight saving; for now, we'll tell Pandas to not even try on those ones. Figuring them out would require more work.)"
   ]
  },
  {
   "cell_type": "markdown",
   "metadata": {},
   "source": [
    "# Instructions:\n",
    "\n",
    "- Make the Start date column timezone aware by localizing it to 'America/New_York' while ignoring any ambiguous datetimes."
   ]
  },
  {
   "cell_type": "code",
   "execution_count": null,
   "metadata": {},
   "outputs": [],
   "source": [
    "# Localize the Start date column to America/New_York\n",
    "rides['Start date'] = rides['Start date'].dt.tz_localize('America/New_York', \n",
    "                                \t\t\t\t\t\t ambiguous='NaT')\n",
    "\n",
    "# Print first value\n",
    "print(rides['Start date'].iloc[0])"
   ]
  },
  {
   "cell_type": "markdown",
   "metadata": {},
   "source": [
    "- Now switch the Start date column to the timezone 'Europe/London' using the .dt.tz_convert() method."
   ]
  },
  {
   "cell_type": "code",
   "execution_count": null,
   "metadata": {},
   "outputs": [],
   "source": [
    "# Localize the Start date column to America/New_York\n",
    "rides['Start date'] = rides['Start date'].dt.tz_localize('America/New_York', \n",
    "                                \t\t\t\t\t\t ambiguous='NaT')\n",
    "\n",
    "# Print first value\n",
    "print(rides['Start date'].iloc[0])\n",
    "\n",
    "# Convert the Start date column to Europe/London\n",
    "rides['Start date'] = rides['Start date'].dt.tz_convert('Europe/London')\n",
    "\n",
    "# Print the new value\n",
    "print(rides['Start date'].iloc[0])"
   ]
  },
  {
   "cell_type": "markdown",
   "metadata": {},
   "source": [
    "# How long per weekday?\n",
    "\n",
    "Pandas has a number of datetime-related attributes within the .dt accessor. Many of them are ones you've encountered before, like .dt.month. Others are convenient and save time compared to standard Python, like .dt.day_name()."
   ]
  },
  {
   "cell_type": "markdown",
   "metadata": {},
   "source": [
    "# Instructions:\n",
    "\n",
    "- Add a new column to rides called 'Ride start weekday', which is the weekday of the Start date.\n",
    "- Print the median ride duration for each weekday."
   ]
  },
  {
   "cell_type": "code",
   "execution_count": null,
   "metadata": {},
   "outputs": [],
   "source": [
    "# Add a column for the weekday of the start of the ride\n",
    "rides['Ride start weekday'] = rides['Start date'].dt.day_name()\n",
    "\n",
    "# Print the median trip time per weekday\n",
    "print(rides.groupby('Ride start weekday')['Duration'].median())"
   ]
  },
  {
   "cell_type": "markdown",
   "metadata": {},
   "source": [
    "# How long between rides?\n",
    "\n",
    "For your final exercise, let's take advantage of Pandas indexing to do something interesting. How much time elapsed between rides?"
   ]
  },
  {
   "cell_type": "markdown",
   "metadata": {},
   "source": [
    "# Instructions:\n",
    "\n",
    "- Calculate the difference in the Start date of the current row and the End date of the previous row and assign it to rides['Time since'].\n",
    "- Convert rides['Time since'] to seconds to make it easier to work with.\n",
    "- Resample rides to be in monthly buckets according to the Start date.\n",
    "- Divide the average by (60*60) to get the number of hours on average that W20529 waited in the dock before being picked up again."
   ]
  },
  {
   "cell_type": "code",
   "execution_count": null,
   "metadata": {},
   "outputs": [],
   "source": [
    "# Shift the index of the end date up one; now subract it from the start date\n",
    "rides['Time since'] = rides['Start date'] - (rides['End date'].shift(1))\n",
    "\n",
    "# Move from a timedelta to a number of seconds, which is easier to work with\n",
    "rides['Time since'] = rides['Time since'].dt.total_seconds()\n",
    "\n",
    "# Resample to the month\n",
    "monthly = rides.resample('M', on = 'Start date')\n",
    "\n",
    "# Print the average hours between rides each month\n",
    "print(monthly['Time since'].mean()/(60*60))"
   ]
  }
 ],
 "metadata": {
  "language_info": {
   "name": "python"
  }
 },
 "nbformat": 4,
 "nbformat_minor": 2
}
