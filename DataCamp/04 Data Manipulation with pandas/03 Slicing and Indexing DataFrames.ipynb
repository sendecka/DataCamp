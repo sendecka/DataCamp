{
 "cells": [
  {
   "cell_type": "markdown",
   "metadata": {},
   "source": [
    "# 3. Slicing and Indexing DataFrames\n",
    "Indexes are supercharged row and column names. Learn how they can be combined with slicing for powerful DataFrame subsetting."
   ]
  },
  {
   "cell_type": "markdown",
   "metadata": {},
   "source": [
    "Setting and removing indexes\n",
    "pandas allows you to designate columns as an index. This enables cleaner code when taking subsets (as well as providing more efficient lookup under some circumstances).\n",
    "\n",
    "In this chapter, you'll be exploring temperatures, a DataFrame of average temperatures in cities around the world. pandas is loaded as pd."
   ]
  },
  {
   "cell_type": "markdown",
   "metadata": {},
   "source": [
    "Instructions:\n",
    "- Look at temperatures.\n",
    "- Set the index of temperatures to \"city\", assigning to temperatures_ind.\n",
    "- Look at temperatures_ind. How is it different from temperatures?\n",
    "- Reset the index of temperatures_ind, keeping its contents.\n",
    "- Reset the index of temperatures_ind, dropping its contents."
   ]
  },
  {
   "cell_type": "code",
   "execution_count": 2,
   "metadata": {},
   "outputs": [
    {
     "name": "stdout",
     "output_type": "stream",
     "text": [
      "        date     city         country  avg_temp_c\n",
      "0 2000-01-01  Abidjan  CĂ´te D'Ivoire      27.293\n",
      "1 2000-02-01  Abidjan  CĂ´te D'Ivoire      27.685\n",
      "2 2000-03-01  Abidjan  CĂ´te D'Ivoire      29.061\n",
      "3 2000-04-01  Abidjan  CĂ´te D'Ivoire      28.162\n",
      "4 2000-05-01  Abidjan  CĂ´te D'Ivoire      27.547\n",
      "              date         country  avg_temp_c\n",
      "city                                          \n",
      "Abidjan 2000-01-01  CĂ´te D'Ivoire      27.293\n",
      "Abidjan 2000-02-01  CĂ´te D'Ivoire      27.685\n",
      "Abidjan 2000-03-01  CĂ´te D'Ivoire      29.061\n",
      "Abidjan 2000-04-01  CĂ´te D'Ivoire      28.162\n",
      "Abidjan 2000-05-01  CĂ´te D'Ivoire      27.547\n",
      "          city       date         country  avg_temp_c\n",
      "0      Abidjan 2000-01-01  CĂ´te D'Ivoire      27.293\n",
      "1      Abidjan 2000-02-01  CĂ´te D'Ivoire      27.685\n",
      "2      Abidjan 2000-03-01  CĂ´te D'Ivoire      29.061\n",
      "3      Abidjan 2000-04-01  CĂ´te D'Ivoire      28.162\n",
      "4      Abidjan 2000-05-01  CĂ´te D'Ivoire      27.547\n",
      "...        ...        ...             ...         ...\n",
      "16495     Xian 2013-05-01           China      18.979\n",
      "16496     Xian 2013-06-01           China      23.522\n",
      "16497     Xian 2013-07-01           China      25.251\n",
      "16498     Xian 2013-08-01           China      24.528\n",
      "16499     Xian 2013-09-01           China         NaN\n",
      "\n",
      "[16500 rows x 4 columns]\n",
      "            date         country  avg_temp_c\n",
      "0     2000-01-01  CĂ´te D'Ivoire      27.293\n",
      "1     2000-02-01  CĂ´te D'Ivoire      27.685\n",
      "2     2000-03-01  CĂ´te D'Ivoire      29.061\n",
      "3     2000-04-01  CĂ´te D'Ivoire      28.162\n",
      "4     2000-05-01  CĂ´te D'Ivoire      27.547\n",
      "...          ...             ...         ...\n",
      "16495 2013-05-01           China      18.979\n",
      "16496 2013-06-01           China      23.522\n",
      "16497 2013-07-01           China      25.251\n",
      "16498 2013-08-01           China      24.528\n",
      "16499 2013-09-01           China         NaN\n",
      "\n",
      "[16500 rows x 3 columns]\n"
     ]
    }
   ],
   "source": [
    "import pandas as pd\n",
    "temperatures = pd.read_csv('temperatures.csv', index_col=0)\n",
    "temperatures['date'] =  pd.to_datetime(temperatures['date'], infer_datetime_format=True)\n",
    "# Look at temperatures\n",
    "print(temperatures.head())\n",
    "\n",
    "# Set the index of temperatures to city\n",
    "temperatures_ind = temperatures.set_index(\"city\")\n",
    "\n",
    "# Look at temperatures_ind\n",
    "print(temperatures_ind.head())\n",
    "\n",
    "# Reset the temperatures_ind index, keeping its contents\n",
    "print(temperatures_ind.reset_index())\n",
    "\n",
    "# Reset the temperatures_ind index, dropping its contents\n",
    "print(temperatures_ind.reset_index(drop=True))"
   ]
  },
  {
   "cell_type": "markdown",
   "metadata": {},
   "source": [
    "Subsetting with .loc[]\n",
    "The killer feature for indexes is .loc[]: a subsetting method that accepts index values. When you pass it a single argument, it will take a subset of rows.\n",
    "\n",
    "The code for subsetting using .loc[] can be easier to read than standard square bracket subsetting, which can make your code less burdensome to maintain.\n",
    "\n",
    "pandas is loaded as pd. temperatures and temperatures_ind are available; the latter is indexed by city."
   ]
  },
  {
   "cell_type": "markdown",
   "metadata": {},
   "source": [
    "Instructions:\n",
    "- Create a list called cities that contains \"Moscow\" and \"Saint Petersburg\".\n",
    "- Use [] subsetting to filter temperatures for rows where the city column takes a value in the cities list.\n",
    "- Use .loc[] subsetting to filter temperatures_ind for rows where the city is in the cities list."
   ]
  },
  {
   "cell_type": "code",
   "execution_count": 3,
   "metadata": {},
   "outputs": [
    {
     "name": "stdout",
     "output_type": "stream",
     "text": [
      "            date              city country  avg_temp_c\n",
      "10725 2000-01-01            Moscow  Russia      -7.313\n",
      "10726 2000-02-01            Moscow  Russia      -3.551\n",
      "10727 2000-03-01            Moscow  Russia      -1.661\n",
      "10728 2000-04-01            Moscow  Russia      10.096\n",
      "10729 2000-05-01            Moscow  Russia      10.357\n",
      "...          ...               ...     ...         ...\n",
      "13360 2013-05-01  Saint Petersburg  Russia      12.355\n",
      "13361 2013-06-01  Saint Petersburg  Russia      17.185\n",
      "13362 2013-07-01  Saint Petersburg  Russia      17.234\n",
      "13363 2013-08-01  Saint Petersburg  Russia      17.153\n",
      "13364 2013-09-01  Saint Petersburg  Russia         NaN\n",
      "\n",
      "[330 rows x 4 columns]\n",
      "                       date country  avg_temp_c\n",
      "city                                           \n",
      "Moscow           2000-01-01  Russia      -7.313\n",
      "Moscow           2000-02-01  Russia      -3.551\n",
      "Moscow           2000-03-01  Russia      -1.661\n",
      "Moscow           2000-04-01  Russia      10.096\n",
      "Moscow           2000-05-01  Russia      10.357\n",
      "...                     ...     ...         ...\n",
      "Saint Petersburg 2013-05-01  Russia      12.355\n",
      "Saint Petersburg 2013-06-01  Russia      17.185\n",
      "Saint Petersburg 2013-07-01  Russia      17.234\n",
      "Saint Petersburg 2013-08-01  Russia      17.153\n",
      "Saint Petersburg 2013-09-01  Russia         NaN\n",
      "\n",
      "[330 rows x 3 columns]\n"
     ]
    }
   ],
   "source": [
    "# Make a list of cities to subset on\n",
    "cities = [\"Moscow\", \"Saint Petersburg\"]\n",
    "\n",
    "# Subset temperatures using square brackets\n",
    "print(temperatures[temperatures[\"city\"].isin(cities)])\n",
    "\n",
    "# Subset temperatures_ind using .loc[]\n",
    "print(temperatures_ind.loc[cities])"
   ]
  },
  {
   "cell_type": "markdown",
   "metadata": {},
   "source": [
    "Setting multi-level indexes\n",
    "Indexes can also be made out of multiple columns, forming a multi-level index (sometimes called a hierarchical index). There is a trade-off to using these.\n",
    "\n",
    "The benefit is that multi-level indexes make it more natural to reason about nested categorical variables. For example, in a clinical trial, you might have control and treatment groups. Then each test subject belongs to one or another group, and we can say that a test subject is nested inside the treatment group. Similarly, in the temperature dataset, the city is located in the country, so we can say a city is nested inside the country.\n",
    "\n",
    "The main downside is that the code for manipulating indexes is different from the code for manipulating columns, so you have to learn two syntaxes and keep track of how your data is represented.\n",
    "\n",
    "pandas is loaded as pd. temperatures is available."
   ]
  },
  {
   "cell_type": "markdown",
   "metadata": {},
   "source": [
    "Instructions:\n",
    "- Set the index of temperatures to the \"country\" and \"city\" columns, and assign this to temperatures_ind.\n",
    "- Specify two country/city pairs to keep: \"Brazil\"/\"Rio De Janeiro\" and \"Pakistan\"/\"Lahore\", assigning to rows_to_keep.\n",
    "- Print and subset temperatures_ind for rows_to_keep using .loc[]."
   ]
  },
  {
   "cell_type": "code",
   "execution_count": 4,
   "metadata": {},
   "outputs": [
    {
     "name": "stdout",
     "output_type": "stream",
     "text": [
      "                              date  avg_temp_c\n",
      "country  city                                 \n",
      "Brazil   Rio De Janeiro 2000-01-01      25.974\n",
      "         Rio De Janeiro 2000-02-01      26.699\n",
      "         Rio De Janeiro 2000-03-01      26.270\n",
      "         Rio De Janeiro 2000-04-01      25.750\n",
      "         Rio De Janeiro 2000-05-01      24.356\n",
      "...                            ...         ...\n",
      "Pakistan Lahore         2013-05-01      33.457\n",
      "         Lahore         2013-06-01      34.456\n",
      "         Lahore         2013-07-01      33.279\n",
      "         Lahore         2013-08-01      31.511\n",
      "         Lahore         2013-09-01         NaN\n",
      "\n",
      "[330 rows x 2 columns]\n"
     ]
    }
   ],
   "source": [
    "# Index temperatures by country & city\n",
    "temperatures_ind = temperatures.set_index([\"country\", \"city\"])\n",
    "\n",
    "# List of tuples: Brazil, Rio De Janeiro & Pakistan, Lahore\n",
    "rows_to_keep = [(\"Brazil\", \"Rio De Janeiro\"), (\"Pakistan\", \"Lahore\")]\n",
    "\n",
    "# Subset for rows to keep\n",
    "print(temperatures_ind.loc[rows_to_keep])"
   ]
  },
  {
   "cell_type": "markdown",
   "metadata": {},
   "source": [
    "Sorting by index values\n",
    "Previously, you changed the order of the rows in a DataFrame by calling .sort_values(). It's also useful to be able to sort by elements in the index. For this, you need to use .sort_index().\n",
    "\n",
    "pandas is loaded as pd. temperatures_ind has a multi-level index of country and city, and is available."
   ]
  },
  {
   "cell_type": "markdown",
   "metadata": {},
   "source": [
    "Instructions:\n",
    "- Sort temperatures_ind by the index values.\n",
    "- Sort temperatures_ind by the index values at the \"city\" level.\n",
    "- Sort temperatures_ind by ascending country then descending city."
   ]
  },
  {
   "cell_type": "code",
   "execution_count": 5,
   "metadata": {},
   "outputs": [
    {
     "name": "stdout",
     "output_type": "stream",
     "text": [
      "                         date  avg_temp_c\n",
      "country     city                         \n",
      "Afghanistan Kabul  2000-01-01       3.326\n",
      "            Kabul  2000-02-01       3.454\n",
      "            Kabul  2000-03-01       9.612\n",
      "            Kabul  2000-04-01      17.925\n",
      "            Kabul  2000-05-01      24.658\n",
      "...                       ...         ...\n",
      "Zimbabwe    Harare 2013-05-01      18.298\n",
      "            Harare 2013-06-01      17.020\n",
      "            Harare 2013-07-01      16.299\n",
      "            Harare 2013-08-01      19.232\n",
      "            Harare 2013-09-01         NaN\n",
      "\n",
      "[16500 rows x 2 columns]\n",
      "                             date  avg_temp_c\n",
      "country        city                          \n",
      "CĂ´te D'Ivoire Abidjan 2000-01-01      27.293\n",
      "               Abidjan 2000-02-01      27.685\n",
      "               Abidjan 2000-03-01      29.061\n",
      "               Abidjan 2000-04-01      28.162\n",
      "               Abidjan 2000-05-01      27.547\n",
      "...                           ...         ...\n",
      "China          Xian    2013-05-01      18.979\n",
      "               Xian    2013-06-01      23.522\n",
      "               Xian    2013-07-01      25.251\n",
      "               Xian    2013-08-01      24.528\n",
      "               Xian    2013-09-01         NaN\n",
      "\n",
      "[16500 rows x 2 columns]\n",
      "                         date  avg_temp_c\n",
      "country     city                         \n",
      "Afghanistan Kabul  2000-01-01       3.326\n",
      "            Kabul  2000-02-01       3.454\n",
      "            Kabul  2000-03-01       9.612\n",
      "            Kabul  2000-04-01      17.925\n",
      "            Kabul  2000-05-01      24.658\n",
      "...                       ...         ...\n",
      "Zimbabwe    Harare 2013-05-01      18.298\n",
      "            Harare 2013-06-01      17.020\n",
      "            Harare 2013-07-01      16.299\n",
      "            Harare 2013-08-01      19.232\n",
      "            Harare 2013-09-01         NaN\n",
      "\n",
      "[16500 rows x 2 columns]\n"
     ]
    }
   ],
   "source": [
    "# Sort temperatures_ind by index values\n",
    "print(temperatures_ind.sort_index())\n",
    "\n",
    "# Sort temperatures_ind by index values at the city level\n",
    "print(temperatures_ind.sort_index(level=[\"city\",\"country\"]))\n",
    "\n",
    "# Sort temperatures_ind by country then descending city\n",
    "print(temperatures_ind.sort_index(level=[\"country\", \"city\"], ascending=[True, False]))"
   ]
  },
  {
   "cell_type": "markdown",
   "metadata": {},
   "source": [
    "Slicing index values\n",
    "Slicing lets you select consecutive elements of an object using first:last syntax. DataFrames can be sliced by index values or by row/column number; we'll start with the first case. This involves slicing inside the .loc[] method.\n",
    "\n",
    "Compared to slicing lists, there are a few things to remember.\n",
    "\n",
    "You can only slice an index if the index is sorted (using .sort_index()).\n",
    "To slice at the outer level, first and last can be strings.\n",
    "To slice at inner levels, first and last should be tuples.\n",
    "If you pass a single slice to .loc[], it will slice the rows.\n",
    "pandas is loaded as pd. temperatures_ind has country and city in the index, and is available."
   ]
  },
  {
   "cell_type": "markdown",
   "metadata": {},
   "source": [
    "Instructions:\n",
    "- Sort the index of temperatures_ind.\n",
    "- Use slicing with .loc[] to get these subsets:\n",
    "from Pakistan to Russia.\n",
    "from Lahore to Moscow. (This will return nonsense.)\n",
    "from Pakistan, Lahore to Russia, Moscow."
   ]
  },
  {
   "cell_type": "code",
   "execution_count": 6,
   "metadata": {},
   "outputs": [
    {
     "name": "stdout",
     "output_type": "stream",
     "text": [
      "                                date  avg_temp_c\n",
      "country  city                                   \n",
      "Pakistan Faisalabad       2000-01-01      12.792\n",
      "         Faisalabad       2000-02-01      14.339\n",
      "         Faisalabad       2000-03-01      20.309\n",
      "         Faisalabad       2000-04-01      29.072\n",
      "         Faisalabad       2000-05-01      34.845\n",
      "...                              ...         ...\n",
      "Russia   Saint Petersburg 2013-05-01      12.355\n",
      "         Saint Petersburg 2013-06-01      17.185\n",
      "         Saint Petersburg 2013-07-01      17.234\n",
      "         Saint Petersburg 2013-08-01      17.153\n",
      "         Saint Petersburg 2013-09-01         NaN\n",
      "\n",
      "[1155 rows x 2 columns]\n",
      "                         date  avg_temp_c\n",
      "country city                             \n",
      "Mexico  Mexico     2000-01-01      12.694\n",
      "        Mexico     2000-02-01      14.677\n",
      "        Mexico     2000-03-01      17.376\n",
      "        Mexico     2000-04-01      18.294\n",
      "        Mexico     2000-05-01      18.562\n",
      "...                       ...         ...\n",
      "Morocco Casablanca 2013-05-01      19.217\n",
      "        Casablanca 2013-06-01      23.649\n",
      "        Casablanca 2013-07-01      27.488\n",
      "        Casablanca 2013-08-01      27.952\n",
      "        Casablanca 2013-09-01         NaN\n",
      "\n",
      "[330 rows x 2 columns]\n",
      "                      date  avg_temp_c\n",
      "country  city                         \n",
      "Pakistan Lahore 2000-01-01      12.792\n",
      "         Lahore 2000-02-01      14.339\n",
      "         Lahore 2000-03-01      20.309\n",
      "         Lahore 2000-04-01      29.072\n",
      "         Lahore 2000-05-01      34.845\n",
      "...                    ...         ...\n",
      "Russia   Moscow 2013-05-01      16.152\n",
      "         Moscow 2013-06-01      18.718\n",
      "         Moscow 2013-07-01      18.136\n",
      "         Moscow 2013-08-01      17.485\n",
      "         Moscow 2013-09-01         NaN\n",
      "\n",
      "[660 rows x 2 columns]\n"
     ]
    }
   ],
   "source": [
    "# Sort the index of temperatures_ind\n",
    "temperatures_srt = temperatures_ind.sort_index()\n",
    "\n",
    "# Subset rows from Pakistan to Russia\n",
    "print(temperatures_srt.loc[\"Pakistan\":\"Russia\"])\n",
    "\n",
    "# Try to subset rows from Lahore to Moscow\n",
    "print(temperatures_srt.loc[\"Lahore\":\"Moscow\"])\n",
    "\n",
    "# Subset rows from Pakistan, Lahore to Russia, Moscow\n",
    "print(temperatures_srt.loc[(\"Pakistan\",\"Lahore\"):(\"Russia\",\"Moscow\")])"
   ]
  },
  {
   "cell_type": "markdown",
   "metadata": {},
   "source": [
    "Slicing in both directions\n",
    "You've seen slicing DataFrames by rows and by columns, but since DataFrames are two-dimensional objects, it is often natural to slice both dimensions at once. That is, by passing two arguments to .loc[], you can subset by rows and columns in one go.\n",
    "\n",
    "pandas is loaded as pd. temperatures_srt is indexed by country and city, has a sorted index, and is available."
   ]
  },
  {
   "cell_type": "markdown",
   "metadata": {},
   "source": [
    "Instructions:\n",
    "- Use .loc[] slicing to subset rows from India, Hyderabad to Iraq, Baghdad.\n",
    "- Use .loc[] slicing to subset columns from date to avg_temp_c.\n",
    "- Slice in both directions at once from Hyderabad to Baghdad, and date to avg_temp_c."
   ]
  },
  {
   "cell_type": "code",
   "execution_count": 7,
   "metadata": {},
   "outputs": [
    {
     "name": "stdout",
     "output_type": "stream",
     "text": [
      "                        date  avg_temp_c\n",
      "country city                            \n",
      "India   Hyderabad 2000-01-01      23.779\n",
      "        Hyderabad 2000-02-01      25.826\n",
      "        Hyderabad 2000-03-01      28.821\n",
      "        Hyderabad 2000-04-01      32.698\n",
      "        Hyderabad 2000-05-01      32.438\n",
      "...                      ...         ...\n",
      "Iraq    Baghdad   2013-05-01      28.673\n",
      "        Baghdad   2013-06-01      33.803\n",
      "        Baghdad   2013-07-01      36.392\n",
      "        Baghdad   2013-08-01      35.463\n",
      "        Baghdad   2013-09-01         NaN\n",
      "\n",
      "[2145 rows x 2 columns]\n",
      "                         date  avg_temp_c\n",
      "country     city                         \n",
      "Afghanistan Kabul  2000-01-01       3.326\n",
      "            Kabul  2000-02-01       3.454\n",
      "            Kabul  2000-03-01       9.612\n",
      "            Kabul  2000-04-01      17.925\n",
      "            Kabul  2000-05-01      24.658\n",
      "...                       ...         ...\n",
      "Zimbabwe    Harare 2013-05-01      18.298\n",
      "            Harare 2013-06-01      17.020\n",
      "            Harare 2013-07-01      16.299\n",
      "            Harare 2013-08-01      19.232\n",
      "            Harare 2013-09-01         NaN\n",
      "\n",
      "[16500 rows x 2 columns]\n",
      "                        date  avg_temp_c\n",
      "country city                            \n",
      "India   Hyderabad 2000-01-01      23.779\n",
      "        Hyderabad 2000-02-01      25.826\n",
      "        Hyderabad 2000-03-01      28.821\n",
      "        Hyderabad 2000-04-01      32.698\n",
      "        Hyderabad 2000-05-01      32.438\n",
      "...                      ...         ...\n",
      "Iraq    Baghdad   2013-05-01      28.673\n",
      "        Baghdad   2013-06-01      33.803\n",
      "        Baghdad   2013-07-01      36.392\n",
      "        Baghdad   2013-08-01      35.463\n",
      "        Baghdad   2013-09-01         NaN\n",
      "\n",
      "[2145 rows x 2 columns]\n"
     ]
    }
   ],
   "source": [
    "# Subset rows from India, Hyderabad to Iraq, Baghdad\n",
    "print(temperatures_srt.loc[(\"India\",\"Hyderabad\"):(\"Iraq\",\"Baghdad\")])\n",
    "\n",
    "# Subset columns from date to avg_temp_c\n",
    "print(temperatures_srt.loc[:,\"date\":\"avg_temp_c\"])\n",
    "\n",
    "# Subset in both directions at once\n",
    "print(temperatures_srt.loc[(\"India\",\"Hyderabad\"):(\"Iraq\",\"Baghdad\"),\"date\":\"avg_temp_c\"])"
   ]
  },
  {
   "cell_type": "markdown",
   "metadata": {},
   "source": [
    "Slicing time series\n",
    "Slicing is particularly useful for time series since it's a common thing to want to filter for data within a date range. Add the date column to the index, then use .loc[] to perform the subsetting. The important thing to remember is to keep your dates in ISO 8601 format, that is, \"yyyy-mm-dd\" for year-month-day, \"yyyy-mm\" for year-month, and \"yyyy\" for year.\n",
    "\n",
    "Recall from Chapter 1 that you can combine multiple Boolean conditions using logical operators, such as &. To do so in one line of code, you'll need to add parentheses () around each condition.\n",
    "\n",
    "pandas is loaded as pd and temperatures, with no index, is available."
   ]
  },
  {
   "cell_type": "markdown",
   "metadata": {},
   "source": [
    "Instructions:\n",
    "- Use Boolean conditions, not .isin() or .loc[], and the full date \"yyyy-mm-dd\", to subset temperatures for rows in 2010 and 2011 and print the results.\n",
    "- Set the index of temperatures to the date column and sort it.\n",
    "- Use .loc[] to subset temperatures_ind for rows in 2010 and 2011.\n",
    "- Use .loc[] to subset temperatures_ind for rows from Aug 2010 to Feb 2011."
   ]
  },
  {
   "cell_type": "code",
   "execution_count": 8,
   "metadata": {},
   "outputs": [
    {
     "name": "stdout",
     "output_type": "stream",
     "text": [
      "            date     city         country  avg_temp_c\n",
      "120   2010-01-01  Abidjan  CĂ´te D'Ivoire      28.270\n",
      "121   2010-02-01  Abidjan  CĂ´te D'Ivoire      29.262\n",
      "122   2010-03-01  Abidjan  CĂ´te D'Ivoire      29.596\n",
      "123   2010-04-01  Abidjan  CĂ´te D'Ivoire      29.068\n",
      "124   2010-05-01  Abidjan  CĂ´te D'Ivoire      28.258\n",
      "...          ...      ...             ...         ...\n",
      "16474 2011-08-01     Xian           China      23.069\n",
      "16475 2011-09-01     Xian           China      16.775\n",
      "16476 2011-10-01     Xian           China      12.587\n",
      "16477 2011-11-01     Xian           China       7.543\n",
      "16478 2011-12-01     Xian           China      -0.490\n",
      "\n",
      "[2400 rows x 4 columns]\n",
      "                  city    country  avg_temp_c\n",
      "date                                         \n",
      "2010-01-01  Faisalabad   Pakistan      11.810\n",
      "2010-01-01   Melbourne  Australia      20.016\n",
      "2010-01-01   Chongqing      China       7.921\n",
      "2010-01-01  SĂŁo Paulo     Brazil      23.738\n",
      "2010-01-01   Guangzhou      China      14.136\n",
      "...                ...        ...         ...\n",
      "2011-12-01      Nagoya      Japan       6.476\n",
      "2011-12-01   Hyderabad      India      23.613\n",
      "2011-12-01        Cali   Colombia      21.559\n",
      "2011-12-01        Lima       Peru      18.293\n",
      "2011-12-01     Bangkok   Thailand      25.021\n",
      "\n",
      "[2400 rows x 3 columns]\n",
      "                city        country  avg_temp_c\n",
      "date                                           \n",
      "2010-08-01  Calcutta          India      30.226\n",
      "2010-08-01      Pune          India      24.941\n",
      "2010-08-01     Izmir         Turkey      28.352\n",
      "2010-08-01   Tianjin          China      25.543\n",
      "2010-08-01    Manila    Philippines      27.101\n",
      "...              ...            ...         ...\n",
      "2011-02-01     Kabul    Afghanistan       3.914\n",
      "2011-02-01   Chicago  United States       0.276\n",
      "2011-02-01    Aleppo          Syria       8.246\n",
      "2011-02-01     Delhi          India      18.136\n",
      "2011-02-01   Rangoon          Burma      26.631\n",
      "\n",
      "[700 rows x 3 columns]\n"
     ]
    }
   ],
   "source": [
    "# Use Boolean conditions to subset temperatures for rows in 2010 and 2011\n",
    "temperatures_bool = temperatures[(temperatures[\"date\"] >= \"2010-01-01\") & (temperatures[\"date\"] <= \"2011-12-31\")]\n",
    "print(temperatures_bool)\n",
    "\n",
    "# Set date as an index and sort the index\n",
    "temperatures_ind = temperatures.set_index(\"date\").sort_index()\n",
    "\n",
    "# Use .loc[] to subset temperatures_ind for rows in 2010 and 2011\n",
    "print(temperatures_ind.loc[\"2010\":\"2011\"])\n",
    "\n",
    "# Use .loc[] to subset temperatures_ind for rows from Aug 2010 to Feb 2011\n",
    "print(temperatures_ind.loc[\"2010-08\":\"2011-02\"])"
   ]
  },
  {
   "cell_type": "markdown",
   "metadata": {},
   "source": [
    "Subsetting by row/column number\n",
    "The most common ways to subset rows are the ways we've previously discussed: using a Boolean condition or by index labels. However, it is also occasionally useful to pass row numbers.\n",
    "\n",
    "This is done using .iloc[], and like .loc[], it can take two arguments to let you subset by rows and columns.\n",
    "\n",
    "pandas is loaded as pd. temperatures (without an index) is available."
   ]
  },
  {
   "cell_type": "markdown",
   "metadata": {},
   "source": [
    "Instructions:\n",
    "- Use .iloc[] on temperatures to take subsets.\n",
    "- Get the 23rd row, 2nd column (index positions 22 and 1).\n",
    "- Get the first 5 rows (index positions 0 to 5).\n",
    "- Get all rows, columns 3 and 4 (index positions 2 to 4).\n",
    "- Get the first 5 rows, columns 3 and 4."
   ]
  },
  {
   "cell_type": "code",
   "execution_count": 9,
   "metadata": {},
   "outputs": [
    {
     "name": "stdout",
     "output_type": "stream",
     "text": [
      "Abidjan\n",
      "        date     city         country  avg_temp_c\n",
      "0 2000-01-01  Abidjan  CĂ´te D'Ivoire      27.293\n",
      "1 2000-02-01  Abidjan  CĂ´te D'Ivoire      27.685\n",
      "2 2000-03-01  Abidjan  CĂ´te D'Ivoire      29.061\n",
      "3 2000-04-01  Abidjan  CĂ´te D'Ivoire      28.162\n",
      "4 2000-05-01  Abidjan  CĂ´te D'Ivoire      27.547\n",
      "              country  avg_temp_c\n",
      "0      CĂ´te D'Ivoire      27.293\n",
      "1      CĂ´te D'Ivoire      27.685\n",
      "2      CĂ´te D'Ivoire      29.061\n",
      "3      CĂ´te D'Ivoire      28.162\n",
      "4      CĂ´te D'Ivoire      27.547\n",
      "...               ...         ...\n",
      "16495           China      18.979\n",
      "16496           China      23.522\n",
      "16497           China      25.251\n",
      "16498           China      24.528\n",
      "16499           China         NaN\n",
      "\n",
      "[16500 rows x 2 columns]\n",
      "          country  avg_temp_c\n",
      "0  CĂ´te D'Ivoire      27.293\n",
      "1  CĂ´te D'Ivoire      27.685\n",
      "2  CĂ´te D'Ivoire      29.061\n",
      "3  CĂ´te D'Ivoire      28.162\n",
      "4  CĂ´te D'Ivoire      27.547\n"
     ]
    }
   ],
   "source": [
    "# Get 23rd row, 2nd column (index 22, 1)\n",
    "print(temperatures.iloc[22,1])\n",
    "\n",
    "# Use slicing to get the first 5 rows\n",
    "print(temperatures.iloc[:5])\n",
    "\n",
    "# Use slicing to get columns 3 to 4\n",
    "print(temperatures.iloc[:,2:4])\n",
    "\n",
    "# Use slicing in both directions at once\n",
    "print(temperatures.iloc[:5,2:4])"
   ]
  },
  {
   "cell_type": "markdown",
   "metadata": {},
   "source": [
    "Pivot temperature by city and year\n",
    "It's interesting to see how temperatures for each city change over time—looking at every month results in a big table, which can be tricky to reason about. Instead, let's look at how temperatures change by year.\n",
    "\n",
    "You can access the components of a date (year, month and day) using code of the form dataframe[\"column\"].dt.component. For example, the month component is dataframe[\"column\"].dt.month, and the year component is dataframe[\"column\"].dt.year.\n",
    "\n",
    "Once you have the year column, you can create a pivot table with the data aggregated by city and year, which you'll explore in the coming exercises.\n",
    "\n",
    "pandas is loaded as pd. temperatures is available."
   ]
  },
  {
   "cell_type": "markdown",
   "metadata": {},
   "source": [
    "Instructions:\n",
    "- Add a year column to temperatures, from the year component of the date column.\n",
    "- Make a pivot table of the avg_temp_c column, with country and city as rows, and year as columns. Assign to temp_by_country_city_vs_year, and look at the result."
   ]
  },
  {
   "cell_type": "code",
   "execution_count": 10,
   "metadata": {},
   "outputs": [
    {
     "name": "stdout",
     "output_type": "stream",
     "text": [
      "year                                 2000       2001       2002       2003  \\\n",
      "country       city                                                           \n",
      "Afghanistan   Kabul             15.822667  15.847917  15.714583  15.132583   \n",
      "Angola        Luanda            24.410333  24.427083  24.790917  24.867167   \n",
      "Australia     Melbourne         14.320083  14.180000  14.075833  13.985583   \n",
      "              Sydney            17.567417  17.854500  17.733833  17.592333   \n",
      "Bangladesh    Dhaka             25.905250  25.931250  26.095000  25.927417   \n",
      "...                                   ...        ...        ...        ...   \n",
      "United States Chicago           11.089667  11.703083  11.532083  10.481583   \n",
      "              Los Angeles       16.643333  16.466250  16.430250  16.944667   \n",
      "              New York           9.969083  10.931000  11.252167   9.836000   \n",
      "Vietnam       Ho Chi Minh City  27.588917  27.831750  28.064750  27.827667   \n",
      "Zimbabwe      Harare            20.283667  20.861000  21.079333  20.889167   \n",
      "\n",
      "year                                 2004       2005       2006       2007  \\\n",
      "country       city                                                           \n",
      "Afghanistan   Kabul             16.128417  14.847500  15.798500  15.518000   \n",
      "Angola        Luanda            24.216167  24.414583  24.138417  24.241583   \n",
      "Australia     Melbourne         13.742083  14.378500  13.991083  14.991833   \n",
      "              Sydney            17.869667  18.028083  17.749500  18.020833   \n",
      "Bangladesh    Dhaka             26.136083  26.193333  26.440417  25.951333   \n",
      "...                                   ...        ...        ...        ...   \n",
      "United States Chicago           10.943417  11.583833  11.870500  11.448333   \n",
      "              Los Angeles       16.552833  16.431417  16.623083  16.699917   \n",
      "              New York          10.389500  10.681417  11.519250  10.627333   \n",
      "Vietnam       Ho Chi Minh City  27.686583  27.884000  28.044000  27.866667   \n",
      "Zimbabwe      Harare            20.307667  21.487417  20.699750  20.746250   \n",
      "\n",
      "year                                 2008       2009       2010       2011  \\\n",
      "country       city                                                           \n",
      "Afghanistan   Kabul             15.479250  15.093333  15.676000  15.812167   \n",
      "Angola        Luanda            24.266333  24.325083  24.440250  24.150750   \n",
      "Australia     Melbourne         14.110583  14.647417  14.231667  14.190917   \n",
      "              Sydney            17.321083  18.175833  17.999000  17.713333   \n",
      "Bangladesh    Dhaka             26.004500  26.535583  26.648167  25.803250   \n",
      "...                                   ...        ...        ...        ...   \n",
      "United States Chicago           10.242417  10.298333  11.815917  11.214250   \n",
      "              Los Angeles       17.014750  16.677000  15.887000  15.874833   \n",
      "              New York          10.641667  10.141833  11.357583  11.272250   \n",
      "Vietnam       Ho Chi Minh City  27.611417  27.853333  28.281750  27.675417   \n",
      "Zimbabwe      Harare            20.680500  20.523833  21.165833  20.781750   \n",
      "\n",
      "year                                 2012       2013  \n",
      "country       city                                    \n",
      "Afghanistan   Kabul             14.510333  16.206125  \n",
      "Angola        Luanda            24.240083  24.553875  \n",
      "Australia     Melbourne         14.268667  14.741500  \n",
      "              Sydney            17.474333  18.089750  \n",
      "Bangladesh    Dhaka             26.283583  26.587000  \n",
      "...                                   ...        ...  \n",
      "United States Chicago           12.821250  11.586889  \n",
      "              Los Angeles       17.089583  18.120667  \n",
      "              New York          11.971500  12.163889  \n",
      "Vietnam       Ho Chi Minh City  28.248750  28.455000  \n",
      "Zimbabwe      Harare            20.523333  19.756500  \n",
      "\n",
      "[100 rows x 14 columns]\n"
     ]
    }
   ],
   "source": [
    "# Add a year column to temperatures\n",
    "temperatures[\"year\"] = temperatures[\"date\"].dt.year\n",
    "\n",
    "# Pivot avg_temp_c by country and city vs year\n",
    "temp_by_country_city_vs_year = temperatures.pivot_table(values=\"avg_temp_c\", index=[\"country\",\"city\"], columns=\"year\")\n",
    "\n",
    "# See the result\n",
    "print(temp_by_country_city_vs_year)"
   ]
  },
  {
   "cell_type": "markdown",
   "metadata": {},
   "source": [
    "Subsetting pivot tables\n",
    "A pivot table is just a DataFrame with sorted indexes, so the techniques you have learned already can be used to subset them. In particular, the .loc[] + slicing combination is often helpful.\n",
    "\n",
    "pandas is loaded as pd. temp_by_country_city_vs_year is available."
   ]
  },
  {
   "cell_type": "markdown",
   "metadata": {},
   "source": [
    "Instructions:\n",
    "- Use .loc[] on temp_by_country_city_vs_year to take subsets.\n",
    "\n",
    "- From Egypt to India.\n",
    "- From Egypt, Cairo to India, Delhi.\n",
    "- From Egypt, Cairo to India, Delhi, and 2005 to 2010."
   ]
  },
  {
   "cell_type": "code",
   "execution_count": 11,
   "metadata": {},
   "outputs": [
    {
     "data": {
      "text/html": [
       "<div>\n",
       "<style scoped>\n",
       "    .dataframe tbody tr th:only-of-type {\n",
       "        vertical-align: middle;\n",
       "    }\n",
       "\n",
       "    .dataframe tbody tr th {\n",
       "        vertical-align: top;\n",
       "    }\n",
       "\n",
       "    .dataframe thead th {\n",
       "        text-align: right;\n",
       "    }\n",
       "</style>\n",
       "<table border=\"1\" class=\"dataframe\">\n",
       "  <thead>\n",
       "    <tr style=\"text-align: right;\">\n",
       "      <th></th>\n",
       "      <th>year</th>\n",
       "      <th>2005</th>\n",
       "      <th>2006</th>\n",
       "      <th>2007</th>\n",
       "      <th>2008</th>\n",
       "      <th>2009</th>\n",
       "      <th>2010</th>\n",
       "    </tr>\n",
       "    <tr>\n",
       "      <th>country</th>\n",
       "      <th>city</th>\n",
       "      <th></th>\n",
       "      <th></th>\n",
       "      <th></th>\n",
       "      <th></th>\n",
       "      <th></th>\n",
       "      <th></th>\n",
       "    </tr>\n",
       "  </thead>\n",
       "  <tbody>\n",
       "    <tr>\n",
       "      <th rowspan=\"2\" valign=\"top\">Egypt</th>\n",
       "      <th>Cairo</th>\n",
       "      <td>22.006500</td>\n",
       "      <td>22.050000</td>\n",
       "      <td>22.361000</td>\n",
       "      <td>22.644500</td>\n",
       "      <td>22.625000</td>\n",
       "      <td>23.718250</td>\n",
       "    </tr>\n",
       "    <tr>\n",
       "      <th>Gizeh</th>\n",
       "      <td>22.006500</td>\n",
       "      <td>22.050000</td>\n",
       "      <td>22.361000</td>\n",
       "      <td>22.644500</td>\n",
       "      <td>22.625000</td>\n",
       "      <td>23.718250</td>\n",
       "    </tr>\n",
       "    <tr>\n",
       "      <th>Ethiopia</th>\n",
       "      <th>Addis Abeba</th>\n",
       "      <td>18.312833</td>\n",
       "      <td>18.427083</td>\n",
       "      <td>18.142583</td>\n",
       "      <td>18.165000</td>\n",
       "      <td>18.765333</td>\n",
       "      <td>18.298250</td>\n",
       "    </tr>\n",
       "    <tr>\n",
       "      <th>France</th>\n",
       "      <th>Paris</th>\n",
       "      <td>11.552917</td>\n",
       "      <td>11.788500</td>\n",
       "      <td>11.750833</td>\n",
       "      <td>11.278250</td>\n",
       "      <td>11.464083</td>\n",
       "      <td>10.409833</td>\n",
       "    </tr>\n",
       "    <tr>\n",
       "      <th>Germany</th>\n",
       "      <th>Berlin</th>\n",
       "      <td>9.919083</td>\n",
       "      <td>10.545333</td>\n",
       "      <td>10.883167</td>\n",
       "      <td>10.657750</td>\n",
       "      <td>10.062500</td>\n",
       "      <td>8.606833</td>\n",
       "    </tr>\n",
       "    <tr>\n",
       "      <th rowspan=\"5\" valign=\"top\">India</th>\n",
       "      <th>Ahmadabad</th>\n",
       "      <td>26.828083</td>\n",
       "      <td>27.282833</td>\n",
       "      <td>27.511167</td>\n",
       "      <td>27.048500</td>\n",
       "      <td>28.095833</td>\n",
       "      <td>28.017833</td>\n",
       "    </tr>\n",
       "    <tr>\n",
       "      <th>Bangalore</th>\n",
       "      <td>25.476500</td>\n",
       "      <td>25.418250</td>\n",
       "      <td>25.464333</td>\n",
       "      <td>25.352583</td>\n",
       "      <td>25.725750</td>\n",
       "      <td>25.705250</td>\n",
       "    </tr>\n",
       "    <tr>\n",
       "      <th>Bombay</th>\n",
       "      <td>27.035750</td>\n",
       "      <td>27.381500</td>\n",
       "      <td>27.634667</td>\n",
       "      <td>27.177750</td>\n",
       "      <td>27.844500</td>\n",
       "      <td>27.765417</td>\n",
       "    </tr>\n",
       "    <tr>\n",
       "      <th>Calcutta</th>\n",
       "      <td>26.729167</td>\n",
       "      <td>26.986250</td>\n",
       "      <td>26.584583</td>\n",
       "      <td>26.522333</td>\n",
       "      <td>27.153250</td>\n",
       "      <td>27.288833</td>\n",
       "    </tr>\n",
       "    <tr>\n",
       "      <th>Delhi</th>\n",
       "      <td>25.716083</td>\n",
       "      <td>26.365917</td>\n",
       "      <td>26.145667</td>\n",
       "      <td>25.675000</td>\n",
       "      <td>26.554250</td>\n",
       "      <td>26.520250</td>\n",
       "    </tr>\n",
       "  </tbody>\n",
       "</table>\n",
       "</div>"
      ],
      "text/plain": [
       "year                       2005       2006       2007       2008       2009  \\\n",
       "country  city                                                                 \n",
       "Egypt    Cairo        22.006500  22.050000  22.361000  22.644500  22.625000   \n",
       "         Gizeh        22.006500  22.050000  22.361000  22.644500  22.625000   \n",
       "Ethiopia Addis Abeba  18.312833  18.427083  18.142583  18.165000  18.765333   \n",
       "France   Paris        11.552917  11.788500  11.750833  11.278250  11.464083   \n",
       "Germany  Berlin        9.919083  10.545333  10.883167  10.657750  10.062500   \n",
       "India    Ahmadabad    26.828083  27.282833  27.511167  27.048500  28.095833   \n",
       "         Bangalore    25.476500  25.418250  25.464333  25.352583  25.725750   \n",
       "         Bombay       27.035750  27.381500  27.634667  27.177750  27.844500   \n",
       "         Calcutta     26.729167  26.986250  26.584583  26.522333  27.153250   \n",
       "         Delhi        25.716083  26.365917  26.145667  25.675000  26.554250   \n",
       "\n",
       "year                       2010  \n",
       "country  city                    \n",
       "Egypt    Cairo        23.718250  \n",
       "         Gizeh        23.718250  \n",
       "Ethiopia Addis Abeba  18.298250  \n",
       "France   Paris        10.409833  \n",
       "Germany  Berlin        8.606833  \n",
       "India    Ahmadabad    28.017833  \n",
       "         Bangalore    25.705250  \n",
       "         Bombay       27.765417  \n",
       "         Calcutta     27.288833  \n",
       "         Delhi        26.520250  "
      ]
     },
     "execution_count": 11,
     "metadata": {},
     "output_type": "execute_result"
    }
   ],
   "source": [
    "# Subset for Egypt to India\n",
    "temp_by_country_city_vs_year.loc[\"Egypt\":\"India\"]\n",
    "\n",
    "# Subset for Egypt, Cairo to India, Delhi\n",
    "temp_by_country_city_vs_year.loc[(\"Egypt\",\"Cairo\"):(\"India\",\"Delhi\")]\n",
    "\n",
    "# Subset in both directions at once\n",
    "temp_by_country_city_vs_year.loc[(\"Egypt\",\"Cairo\"):(\"India\",\"Delhi\"),\"2005\":\"2010\"]"
   ]
  },
  {
   "cell_type": "markdown",
   "metadata": {},
   "source": [
    "Calculating on a pivot table\n",
    "Pivot tables are filled with summary statistics, but they are only a first step to finding something insightful. Often you'll need to perform further calculations on them. A common thing to do is to find the rows or columns where the highest or lowest value occurs.\n",
    "\n",
    "Recall from Chapter 1 that you can easily subset a Series or DataFrame to find rows of interest using a logical condition inside of square brackets. For example: series[series > value].\n",
    "\n",
    "pandas is loaded as pd and the DataFrame temp_by_country_city_vs_year is available."
   ]
  },
  {
   "cell_type": "markdown",
   "metadata": {},
   "source": [
    "Instructions:\n",
    "- Calculate the mean temperature for each year, assigning to mean_temp_by_year.\n",
    "- Filter mean_temp_by_year for the year that had the highest mean temperature.\n",
    "- Calculate the mean temperature for each city (across columns), assigning to mean_temp_by_city.\n",
    "- Filter mean_temp_by_city for the city that had the lowest mean temperature."
   ]
  },
  {
   "cell_type": "code",
   "execution_count": 12,
   "metadata": {},
   "outputs": [
    {
     "name": "stdout",
     "output_type": "stream",
     "text": [
      "year\n",
      "2013    20.312285\n",
      "dtype: float64\n",
      "country  city  \n",
      "China    Harbin    4.876551\n",
      "dtype: float64\n"
     ]
    }
   ],
   "source": [
    "# Get the worldwide mean temp by year\n",
    "mean_temp_by_year = temp_by_country_city_vs_year.mean(axis=\"index\")\n",
    "\n",
    "# Filter for the year that had the highest mean temp\n",
    "print(mean_temp_by_year[mean_temp_by_year == max(mean_temp_by_year)])\n",
    "\n",
    "# Get the mean temp by city\n",
    "mean_temp_by_city = temp_by_country_city_vs_year.mean(axis=\"columns\")\n",
    "\n",
    "# Filter for the city that had the lowest mean temp\n",
    "print(mean_temp_by_city[mean_temp_by_city == min(mean_temp_by_city)])"
   ]
  }
 ],
 "metadata": {
  "kernelspec": {
   "display_name": "Python 3",
   "language": "python",
   "name": "python3"
  },
  "language_info": {
   "codemirror_mode": {
    "name": "ipython",
    "version": 3
   },
   "file_extension": ".py",
   "mimetype": "text/x-python",
   "name": "python",
   "nbconvert_exporter": "python",
   "pygments_lexer": "ipython3",
   "version": "3.10.13"
  }
 },
 "nbformat": 4,
 "nbformat_minor": 2
}
