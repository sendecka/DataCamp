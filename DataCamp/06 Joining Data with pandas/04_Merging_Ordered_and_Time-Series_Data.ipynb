{
 "cells": [
  {
   "cell_type": "markdown",
   "metadata": {},
   "source": [
    "# 4. Merging Ordered and Time-Series Data\n",
    "\n",
    "In this final chapter, you’ll step up a gear and learn to apply pandas' specialized methods for merging time-series and ordered data together with real-world financial and economic data from the city of Chicago. You’ll also learn how to query resulting tables using a SQL-style format, and unpivot data using the melt method.\n"
   ]
  },
  {
   "cell_type": "markdown",
   "metadata": {},
   "source": [
    "# Correlation between GDP and S&P500\n",
    "\n",
    "In this exercise, you want to analyze stock returns from the S&P 500. You believe there may be a relationship between the returns of the S&P 500 and the GDP of the US. Merge the different datasets together to compute the correlation.\n",
    "\n",
    "Two tables have been provided for you, named sp500, and gdp. As always, pandas has been imported for you as pd"
   ]
  },
  {
   "cell_type": "markdown",
   "metadata": {},
   "source": [
    "# Instructions:\n",
    "\n",
    "- Use merge_ordered() to merge gdp and sp500 using a left join on year and date. Save the results as gdp_sp500.\n",
    "- Print gdp_sp500 and look at the returns for the year 2018."
   ]
  },
  {
   "cell_type": "code",
   "execution_count": 3,
   "metadata": {},
   "outputs": [
    {
     "name": "stdout",
     "output_type": "stream",
     "text": [
      "     country name country code     indicator name  year           gdp    date  \\\n",
      "0           China          CHN  GDP (current US$)  2010  6.087160e+12  2010.0   \n",
      "1         Germany          DEU  GDP (current US$)  2010  3.417090e+12  2010.0   \n",
      "2           Japan          JPN  GDP (current US$)  2010  5.700100e+12  2010.0   \n",
      "3   United States          USA  GDP (current US$)  2010  1.499210e+13  2010.0   \n",
      "4           China          CHN  GDP (current US$)  2011  7.551500e+12  2011.0   \n",
      "5         Germany          DEU  GDP (current US$)  2011  3.757700e+12  2011.0   \n",
      "6           Japan          JPN  GDP (current US$)  2011  6.157460e+12  2011.0   \n",
      "7   United States          USA  GDP (current US$)  2011  1.554260e+13  2011.0   \n",
      "8           China          CHN  GDP (current US$)  2012  8.532230e+12  2012.0   \n",
      "9         Germany          DEU  GDP (current US$)  2012  3.543980e+12  2012.0   \n",
      "10          Japan          JPN  GDP (current US$)  2012  6.203210e+12  2012.0   \n",
      "11  United States          USA  GDP (current US$)  2012  1.619700e+13  2012.0   \n",
      "12          China          CHN  GDP (current US$)  2012  8.532230e+12  2012.0   \n",
      "13        Germany          DEU  GDP (current US$)  2012  3.543980e+12  2012.0   \n",
      "14          Japan          JPN  GDP (current US$)  2012  6.203210e+12  2012.0   \n",
      "15  United States          USA  GDP (current US$)  2012  1.619700e+13  2012.0   \n",
      "16          China          CHN  GDP (current US$)  2013  9.570410e+12  2013.0   \n",
      "17        Germany          DEU  GDP (current US$)  2013  3.752510e+12  2013.0   \n",
      "18          Japan          JPN  GDP (current US$)  2013  5.155720e+12  2013.0   \n",
      "19  United States          USA  GDP (current US$)  2013  1.678480e+13  2013.0   \n",
      "20          China          CHN  GDP (current US$)  2014  1.043850e+13  2014.0   \n",
      "21        Germany          DEU  GDP (current US$)  2014  3.898730e+12  2014.0   \n",
      "22          Japan          JPN  GDP (current US$)  2014  4.850410e+12  2014.0   \n",
      "23  United States          USA  GDP (current US$)  2014  1.752170e+13  2014.0   \n",
      "24          China          CHN  GDP (current US$)  2015  1.101550e+13  2015.0   \n",
      "25        Germany          DEU  GDP (current US$)  2015  3.381390e+12  2015.0   \n",
      "26          Japan          JPN  GDP (current US$)  2015  4.389480e+12  2015.0   \n",
      "27  United States          USA  GDP (current US$)  2015  1.821930e+13  2015.0   \n",
      "28          China          CHN  GDP (current US$)  2016  1.113790e+13  2016.0   \n",
      "29        Germany          DEU  GDP (current US$)  2016  3.495160e+12  2016.0   \n",
      "30          Japan          JPN  GDP (current US$)  2016  4.926670e+12  2016.0   \n",
      "31  United States          USA  GDP (current US$)  2016  1.870720e+13  2016.0   \n",
      "32          China          CHN  GDP (current US$)  2017  1.214350e+13  2017.0   \n",
      "33        Germany          DEU  GDP (current US$)  2017  3.693200e+12  2017.0   \n",
      "34          Japan          JPN  GDP (current US$)  2017  4.859950e+12  2017.0   \n",
      "35  United States          USA  GDP (current US$)  2017  1.948540e+13  2017.0   \n",
      "36          China          CHN  GDP (current US$)  2018  1.360820e+13     NaN   \n",
      "37        Germany          DEU  GDP (current US$)  2018  3.996760e+12     NaN   \n",
      "38          Japan          JPN  GDP (current US$)  2018  4.970920e+12     NaN   \n",
      "39  United States          USA  GDP (current US$)  2018  2.049410e+13     NaN   \n",
      "\n",
      "    returns  \n",
      "0     12.78  \n",
      "1     12.78  \n",
      "2     12.78  \n",
      "3     12.78  \n",
      "4      0.00  \n",
      "5      0.00  \n",
      "6      0.00  \n",
      "7      0.00  \n",
      "8     13.41  \n",
      "9     13.41  \n",
      "10    13.41  \n",
      "11    13.41  \n",
      "12    13.41  \n",
      "13    13.41  \n",
      "14    13.41  \n",
      "15    13.41  \n",
      "16    29.60  \n",
      "17    29.60  \n",
      "18    29.60  \n",
      "19    29.60  \n",
      "20    11.39  \n",
      "21    11.39  \n",
      "22    11.39  \n",
      "23    11.39  \n",
      "24    -0.73  \n",
      "25    -0.73  \n",
      "26    -0.73  \n",
      "27    -0.73  \n",
      "28     9.54  \n",
      "29     9.54  \n",
      "30     9.54  \n",
      "31     9.54  \n",
      "32    19.42  \n",
      "33    19.42  \n",
      "34    19.42  \n",
      "35    19.42  \n",
      "36      NaN  \n",
      "37      NaN  \n",
      "38      NaN  \n",
      "39      NaN  \n"
     ]
    }
   ],
   "source": [
    "import pandas as pd\n",
    "gdp = pd.read_csv('gdp1.csv')\n",
    "gdp.columns = gdp.columns.str.lower()\n",
    "sp500 = pd.read_csv('S&P500.csv')\n",
    "sp500.columns = sp500.columns.str.lower()\n",
    "\n",
    "# Use merge_ordered() to merge gdp and sp500 on year and date\n",
    "gdp_sp500 = pd.merge_ordered(gdp, sp500, left_on='year', right_on='date', how='left')\n",
    "\n",
    "# Print gdp_sp500\n",
    "print(gdp_sp500)"
   ]
  },
  {
   "cell_type": "markdown",
   "metadata": {},
   "source": [
    "- Use merge_ordered(), again similar to before, to merge gdp and sp500 use the function's ability to interpolate missing data to forward fill the missing value for returns, assigning this table to the variable gdp_sp500."
   ]
  },
  {
   "cell_type": "code",
   "execution_count": 4,
   "metadata": {},
   "outputs": [
    {
     "name": "stdout",
     "output_type": "stream",
     "text": [
      "     country name country code     indicator name  year           gdp  date  \\\n",
      "0           China          CHN  GDP (current US$)  2010  6.087160e+12  2010   \n",
      "1         Germany          DEU  GDP (current US$)  2010  3.417090e+12  2010   \n",
      "2           Japan          JPN  GDP (current US$)  2010  5.700100e+12  2010   \n",
      "3   United States          USA  GDP (current US$)  2010  1.499210e+13  2010   \n",
      "4           China          CHN  GDP (current US$)  2011  7.551500e+12  2011   \n",
      "5         Germany          DEU  GDP (current US$)  2011  3.757700e+12  2011   \n",
      "6           Japan          JPN  GDP (current US$)  2011  6.157460e+12  2011   \n",
      "7   United States          USA  GDP (current US$)  2011  1.554260e+13  2011   \n",
      "8           China          CHN  GDP (current US$)  2012  8.532230e+12  2012   \n",
      "9         Germany          DEU  GDP (current US$)  2012  3.543980e+12  2012   \n",
      "10          Japan          JPN  GDP (current US$)  2012  6.203210e+12  2012   \n",
      "11  United States          USA  GDP (current US$)  2012  1.619700e+13  2012   \n",
      "12          China          CHN  GDP (current US$)  2012  8.532230e+12  2012   \n",
      "13        Germany          DEU  GDP (current US$)  2012  3.543980e+12  2012   \n",
      "14          Japan          JPN  GDP (current US$)  2012  6.203210e+12  2012   \n",
      "15  United States          USA  GDP (current US$)  2012  1.619700e+13  2012   \n",
      "16          China          CHN  GDP (current US$)  2013  9.570410e+12  2013   \n",
      "17        Germany          DEU  GDP (current US$)  2013  3.752510e+12  2013   \n",
      "18          Japan          JPN  GDP (current US$)  2013  5.155720e+12  2013   \n",
      "19  United States          USA  GDP (current US$)  2013  1.678480e+13  2013   \n",
      "20          China          CHN  GDP (current US$)  2014  1.043850e+13  2014   \n",
      "21        Germany          DEU  GDP (current US$)  2014  3.898730e+12  2014   \n",
      "22          Japan          JPN  GDP (current US$)  2014  4.850410e+12  2014   \n",
      "23  United States          USA  GDP (current US$)  2014  1.752170e+13  2014   \n",
      "24          China          CHN  GDP (current US$)  2015  1.101550e+13  2015   \n",
      "25        Germany          DEU  GDP (current US$)  2015  3.381390e+12  2015   \n",
      "26          Japan          JPN  GDP (current US$)  2015  4.389480e+12  2015   \n",
      "27  United States          USA  GDP (current US$)  2015  1.821930e+13  2015   \n",
      "28          China          CHN  GDP (current US$)  2016  1.113790e+13  2016   \n",
      "29        Germany          DEU  GDP (current US$)  2016  3.495160e+12  2016   \n",
      "30          Japan          JPN  GDP (current US$)  2016  4.926670e+12  2016   \n",
      "31  United States          USA  GDP (current US$)  2016  1.870720e+13  2016   \n",
      "32          China          CHN  GDP (current US$)  2017  1.214350e+13  2017   \n",
      "33        Germany          DEU  GDP (current US$)  2017  3.693200e+12  2017   \n",
      "34          Japan          JPN  GDP (current US$)  2017  4.859950e+12  2017   \n",
      "35  United States          USA  GDP (current US$)  2017  1.948540e+13  2017   \n",
      "36          China          CHN  GDP (current US$)  2018  1.360820e+13  2017   \n",
      "37        Germany          DEU  GDP (current US$)  2018  3.996760e+12  2017   \n",
      "38          Japan          JPN  GDP (current US$)  2018  4.970920e+12  2017   \n",
      "39  United States          USA  GDP (current US$)  2018  2.049410e+13  2017   \n",
      "\n",
      "    returns  \n",
      "0     12.78  \n",
      "1     12.78  \n",
      "2     12.78  \n",
      "3     12.78  \n",
      "4      0.00  \n",
      "5      0.00  \n",
      "6      0.00  \n",
      "7      0.00  \n",
      "8     13.41  \n",
      "9     13.41  \n",
      "10    13.41  \n",
      "11    13.41  \n",
      "12    13.41  \n",
      "13    13.41  \n",
      "14    13.41  \n",
      "15    13.41  \n",
      "16    29.60  \n",
      "17    29.60  \n",
      "18    29.60  \n",
      "19    29.60  \n",
      "20    11.39  \n",
      "21    11.39  \n",
      "22    11.39  \n",
      "23    11.39  \n",
      "24    -0.73  \n",
      "25    -0.73  \n",
      "26    -0.73  \n",
      "27    -0.73  \n",
      "28     9.54  \n",
      "29     9.54  \n",
      "30     9.54  \n",
      "31     9.54  \n",
      "32    19.42  \n",
      "33    19.42  \n",
      "34    19.42  \n",
      "35    19.42  \n",
      "36    19.42  \n",
      "37    19.42  \n",
      "38    19.42  \n",
      "39    19.42  \n"
     ]
    }
   ],
   "source": [
    "# Use merge_ordered() to merge gdp and sp500, interpolate missing value\n",
    "gdp_sp500 = pd.merge_ordered(gdp, sp500, left_on='year', right_on='date', how='left',  fill_method='ffill')\n",
    "\n",
    "\n",
    "# Print gdp_sp500\n",
    "print (gdp_sp500)"
   ]
  },
  {
   "cell_type": "markdown",
   "metadata": {},
   "source": [
    "- Subset the gdp_sp500 table, select the gdp and returns columns, and save as gdp_returns.\n",
    "- Print the correlation matrix of the gdp_returns table using the .corr() method."
   ]
  },
  {
   "cell_type": "code",
   "execution_count": 5,
   "metadata": {},
   "outputs": [
    {
     "name": "stdout",
     "output_type": "stream",
     "text": [
      "              gdp   returns\n",
      "gdp      1.000000  0.040669\n",
      "returns  0.040669  1.000000\n"
     ]
    }
   ],
   "source": [
    "# Use merge_ordered() to merge gdp and sp500, interpolate missing value\n",
    "gdp_sp500 = pd.merge_ordered(gdp, sp500, left_on='year', right_on='date', \n",
    "                             how='left',  fill_method='ffill')\n",
    "\n",
    "# Subset the gdp and returns columns\n",
    "gdp_returns = gdp_sp500[['gdp','returns']]\n",
    "gdp_returns = gdp_returns.astype(float)\n",
    "\n",
    "# Print gdp_returns correlation\n",
    "print(gdp_returns.corr())"
   ]
  },
  {
   "cell_type": "markdown",
   "metadata": {},
   "source": [
    "# Phillips curve using merge_ordered()\n",
    "\n",
    "There is an economic theory developed by A. W. Phillips which states that inflation and unemployment have an inverse relationship. The theory claims that with economic growth comes inflation, which in turn should lead to more jobs and less unemployment.\n",
    "\n",
    "You will take two tables of data from the U.S. Bureau of Labor Statistics, containing unemployment and inflation data over different periods, and create a Phillips curve. The tables have different frequencies. One table has a data entry every six months, while the other has a data entry every month. You will need to use the entries where you have data within both tables.\n",
    "\n",
    "The tables unemployment and inflation have been loaded for you."
   ]
  },
  {
   "cell_type": "markdown",
   "metadata": {},
   "source": [
    "# Instructions:\n",
    "\n",
    "- Use merge_ordered() to merge the inflation and unemployment tables on date with an inner join, and save the results as inflation_unemploy.\n",
    "- Print the inflation_unemploy variable.\n",
    "- Using inflation_unemploy, create a scatter plot with unemployment_rate on the horizontal axis and cpi (inflation) on the vertical axis."
   ]
  },
  {
   "cell_type": "code",
   "execution_count": 8,
   "metadata": {},
   "outputs": [
    {
     "name": "stdout",
     "output_type": "stream",
     "text": [
      "         date      cpi     seriesid                  data_type  \\\n",
      "0  2014-01-01  235.288  CUSR0000SA0  SEASONALLY ADJUSTED INDEX   \n",
      "1  2014-06-01  237.231  CUSR0000SA0  SEASONALLY ADJUSTED INDEX   \n",
      "2  2015-01-01  234.718  CUSR0000SA0  SEASONALLY ADJUSTED INDEX   \n",
      "3  2015-06-01  237.684  CUSR0000SA0  SEASONALLY ADJUSTED INDEX   \n",
      "4  2016-01-01  237.833  CUSR0000SA0  SEASONALLY ADJUSTED INDEX   \n",
      "5  2016-06-01  240.167  CUSR0000SA0  SEASONALLY ADJUSTED INDEX   \n",
      "6  2017-01-01  243.780  CUSR0000SA0  SEASONALLY ADJUSTED INDEX   \n",
      "7  2017-06-01  244.182  CUSR0000SA0  SEASONALLY ADJUSTED INDEX   \n",
      "8  2018-01-01  248.884  CUSR0000SA0  SEASONALLY ADJUSTED INDEX   \n",
      "9  2018-06-01  251.134  CUSR0000SA0  SEASONALLY ADJUSTED INDEX   \n",
      "\n",
      "   unemployment_rate  \n",
      "0                6.7  \n",
      "1                6.1  \n",
      "2                5.6  \n",
      "3                5.3  \n",
      "4                5.0  \n",
      "5                4.9  \n",
      "6                4.7  \n",
      "7                4.3  \n",
      "8                4.1  \n",
      "9                4.0  \n"
     ]
    },
    {
     "data": {
      "image/png": "[encoded data removed]",
      "text/plain": [
       "<Figure size 640x480 with 1 Axes>"
      ]
     },
     "metadata": {},
     "output_type": "display_data"
    }
   ],
   "source": [
    "import matplotlib.pyplot as plt\n",
    "inflation = pd.read_csv('inflation.csv')\n",
    "unemployment = pd.read_csv('unemployment.csv')\n",
    "\n",
    "# Use merge_ordered() to merge inflation, unemployment with inner join\n",
    "inflation_unemploy = pd.merge_ordered(inflation, unemployment, \n",
    "                                      on='date', how='inner')\n",
    "# Print inflation_unemploy \n",
    "print(inflation_unemploy)\n",
    "\n",
    "\n",
    "# Plot a scatter plot of unemployment_rate vs cpi of inflation_unemploy\n",
    "inflation_unemploy.plot(kind='scatter', x='unemployment_rate', y='cpi')\n",
    "plt.show()"
   ]
  },
  {
   "cell_type": "markdown",
   "metadata": {},
   "source": [
    "# merge_ordered() caution, multiple columns\n",
    "\n",
    "When using merge_ordered() to merge on multiple columns, the order is important when you combine it with the forward fill feature. The function sorts the merge on columns in the order provided. In this exercise, we will merge GDP and population data from the World Bank for the Australia and Sweden, reversing the order of the merge on columns. The frequency of the series are different, the GDP values are quarterly, and the population is yearly. Use the forward fill feature to fill in the missing data. Depending on the order provided, the fill forward will use unintended data to fill in the missing values.\n",
    "\n",
    "The tables gdp and pop have been loaded."
   ]
  },
  {
   "cell_type": "markdown",
   "metadata": {},
   "source": [
    "# Instructions:\n",
    "\n",
    "- Use merge_ordered() on gdp and pop, merging on columns date and country with the fill feature, save to ctry_date."
   ]
  },
  {
   "cell_type": "code",
   "execution_count": 10,
   "metadata": {},
   "outputs": [
    {
     "name": "stdout",
     "output_type": "stream",
     "text": [
      "          date    country         gdp  series_code_x       pop series_code_y\n",
      "0   1990-01-01  Australia  158051.132  NYGDPMKTPSAKD  17065100   SP.POP.TOTL\n",
      "1   1990-01-01     Sweden   79837.846  NYGDPMKTPSAKD   8558835   SP.POP.TOTL\n",
      "2   1990-04-01  Australia  158263.582  NYGDPMKTPSAKD   8558835   SP.POP.TOTL\n",
      "3   1990-04-01     Sweden   80582.286  NYGDPMKTPSAKD   8558835   SP.POP.TOTL\n",
      "4   1990-07-01  Australia  157329.279  NYGDPMKTPSAKD   8558835   SP.POP.TOTL\n",
      "5   1990-07-01     Sweden   79974.360  NYGDPMKTPSAKD   8558835   SP.POP.TOTL\n",
      "6   1990-09-01  Australia  158240.678  NYGDPMKTPSAKD   8558835   SP.POP.TOTL\n",
      "7   1990-09-01     Sweden   80106.497  NYGDPMKTPSAKD   8558835   SP.POP.TOTL\n",
      "8   1991-01-01  Australia  156195.954  NYGDPMKTPSAKD  17284000   SP.POP.TOTL\n",
      "9   1991-01-01     Sweden   79524.242  NYGDPMKTPSAKD   8617375   SP.POP.TOTL\n",
      "10  1991-04-01  Australia  155989.033  NYGDPMKTPSAKD   8617375   SP.POP.TOTL\n",
      "11  1991-04-01     Sweden   79073.059  NYGDPMKTPSAKD   8617375   SP.POP.TOTL\n",
      "12  1991-07-01  Australia  156635.858  NYGDPMKTPSAKD   8617375   SP.POP.TOTL\n",
      "13  1991-07-01     Sweden   79084.770  NYGDPMKTPSAKD   8617375   SP.POP.TOTL\n",
      "14  1991-09-01  Australia  156744.057  NYGDPMKTPSAKD   8617375   SP.POP.TOTL\n",
      "15  1991-09-01     Sweden   79740.606  NYGDPMKTPSAKD   8617375   SP.POP.TOTL\n",
      "16  1992-01-01  Australia  157916.081  NYGDPMKTPSAKD  17495000   SP.POP.TOTL\n",
      "17  1992-01-01     Sweden   79390.922  NYGDPMKTPSAKD   8668067   SP.POP.TOTL\n",
      "18  1992-04-01  Australia  159047.827  NYGDPMKTPSAKD   8668067   SP.POP.TOTL\n",
      "19  1992-04-01     Sweden   79060.283  NYGDPMKTPSAKD   8668067   SP.POP.TOTL\n",
      "20  1992-07-01  Australia  160658.176  NYGDPMKTPSAKD   8668067   SP.POP.TOTL\n",
      "21  1992-07-01     Sweden   78904.605  NYGDPMKTPSAKD   8668067   SP.POP.TOTL\n",
      "22  1992-09-01  Australia  163960.221  NYGDPMKTPSAKD   8668067   SP.POP.TOTL\n",
      "23  1992-09-01     Sweden   76996.837  NYGDPMKTPSAKD   8668067   SP.POP.TOTL\n",
      "24  1993-01-01  Australia  165097.495  NYGDPMKTPSAKD  17667000   SP.POP.TOTL\n",
      "25  1993-01-01     Sweden   75783.588  NYGDPMKTPSAKD   8718561   SP.POP.TOTL\n",
      "26  1993-04-01  Australia  166027.059  NYGDPMKTPSAKD   8718561   SP.POP.TOTL\n",
      "27  1993-04-01     Sweden   76708.548  NYGDPMKTPSAKD   8718561   SP.POP.TOTL\n",
      "28  1993-07-01  Australia  166203.179  NYGDPMKTPSAKD   8718561   SP.POP.TOTL\n",
      "29  1993-07-01     Sweden   77662.018  NYGDPMKTPSAKD   8718561   SP.POP.TOTL\n",
      "30  1993-09-01  Australia  169279.348  NYGDPMKTPSAKD   8718561   SP.POP.TOTL\n",
      "31  1993-09-01     Sweden   77703.304  NYGDPMKTPSAKD   8718561   SP.POP.TOTL\n"
     ]
    }
   ],
   "source": [
    "gdp = pd.read_csv('gdp2.csv')\n",
    "pop = pd.read_csv('pop1.csv')\n",
    "\n",
    "# Merge gdp and pop on date and country with fill and notice rows 2 and 3\n",
    "ctry_date = pd.merge_ordered(gdp, pop, on=['date','country'], fill_method='ffill')\n",
    "\n",
    "\n",
    "# Print ctry_date\n",
    "print(ctry_date)"
   ]
  }
 ],
 "metadata": {
  "kernelspec": {
   "display_name": "Python 3",
   "language": "python",
   "name": "python3"
  },
  "language_info": {
   "codemirror_mode": {
    "name": "ipython",
    "version": 3
   },
   "file_extension": ".py",
   "mimetype": "text/x-python",
   "name": "python",
   "nbconvert_exporter": "python",
   "pygments_lexer": "ipython3",
   "version": "3.10.13"
  }
 },
 "nbformat": 4,
 "nbformat_minor": 2
}
