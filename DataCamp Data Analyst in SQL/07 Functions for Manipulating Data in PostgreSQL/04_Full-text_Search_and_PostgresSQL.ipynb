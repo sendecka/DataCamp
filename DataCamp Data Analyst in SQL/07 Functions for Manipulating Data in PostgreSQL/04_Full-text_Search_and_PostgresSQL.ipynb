{
 "cells": [
  {
   "cell_type": "markdown",
   "metadata": {},
   "source": [
    "# 4 Full-text Search and PostgresSQL Extensions\n",
    "\n",
    "An introduction into some more advanced capabilities of PostgreSQL like full-text search and extensions."
   ]
  },
  {
   "cell_type": "markdown",
   "metadata": {},
   "source": [
    "# A review of the LIKE operator\n",
    "\n",
    "The LIKE operator allows us to filter our queries by matching one or more characters in text data. By using the % wildcard we can match one or more characters in a string. This is useful when you want to return a result set that matches certain characteristics and can also be very helpful during exploratory data analysis or data cleansing tasks.\n",
    "\n",
    "Let's explore how different usage of the % wildcard will return different results by looking at the film table of the Sakila DVD Rental database.\n",
    "\n",
    "# Instructions:\n",
    "\n",
    "- Select all columns for all records that begin with the word GOLD.\n",
    "\n",
    "- Now select all records that end with the word GOLD.\n",
    "\n",
    "- Finally, select all records that contain the word 'GOLD'."
   ]
  },
  {
   "cell_type": "code",
   "execution_count": null,
   "metadata": {
    "vscode": {
     "languageId": "sql"
    }
   },
   "outputs": [],
   "source": [
    "-- Select all columns\n",
    "SELECT *\n",
    "FROM film\n",
    "-- Select only records that begin with the word 'GOLD'\n",
    "WHERE title LIKE 'GOLD%';"
   ]
  },
  {
   "cell_type": "code",
   "execution_count": null,
   "metadata": {
    "vscode": {
     "languageId": "sql"
    }
   },
   "outputs": [],
   "source": [
    "SELECT *\n",
    "FROM film\n",
    "-- Select only records that end with the word 'GOLD'\n",
    "WHERE title LIKE '%GOLD';"
   ]
  },
  {
   "cell_type": "code",
   "execution_count": null,
   "metadata": {
    "vscode": {
     "languageId": "sql"
    }
   },
   "outputs": [],
   "source": [
    "SELECT *\n",
    "FROM film\n",
    "-- Select only records that contain the word 'GOLD'\n",
    "WHERE title LIKE '%GOLD%';"
   ]
  },
  {
   "cell_type": "markdown",
   "metadata": {},
   "source": [
    "# What is a tsvector?\n",
    "\n",
    "You saw how to convert strings to tsvector and tsquery in the video and, in this exercise, we are going to dive deeper into what these functions actually return after converting a string to a tsvector. In this example, you will convert a text column from the film table to a tsvector and inspect the results. Understanding how full-text search works is the first step in more advanced machine learning and data science concepts like natural language processing.\n",
    "\n",
    "# Instructions:\n",
    "\n",
    "- Select the film description and convert it to a tsvector data type."
   ]
  },
  {
   "cell_type": "code",
   "execution_count": null,
   "metadata": {
    "vscode": {
     "languageId": "sql"
    }
   },
   "outputs": [],
   "source": [
    "-- Select the film description as a tsvector\n",
    "SELECT to_tsvector(description)\n",
    "FROM film;"
   ]
  },
  {
   "cell_type": "markdown",
   "metadata": {},
   "source": [
    "# Basic full-text search\n",
    "\n",
    "Searching text will become something you do repeatedly when building applications or exploring data sets for data science. Full-text search is helpful when performing exploratory data analysis for a natural language processing model or building a search feature into your application.\n",
    "\n",
    "In this exercise, you will practice searching a text column and match it against a string. The search will return the same result as a query that uses the LIKE operator with the % wildcard at the beginning and end of the string, but will perform much better and provide you with a foundation for more advanced full-text search queries. Let's dive in.\n",
    "\n",
    "# Instructions:\n",
    "\n",
    "- Select the title and description columns from the film table.\n",
    "- Perform a full-text search on the title column for the word elf."
   ]
  },
  {
   "cell_type": "code",
   "execution_count": null,
   "metadata": {
    "vscode": {
     "languageId": "sql"
    }
   },
   "outputs": [],
   "source": [
    "-- Select the title and description\n",
    "SELECT title, description\n",
    "FROM film\n",
    "-- Convert the title to a tsvector and match it against the tsquery \n",
    "WHERE to_tsvector(title) @@ to_tsquery('elf');"
   ]
  },
  {
   "cell_type": "markdown",
   "metadata": {},
   "source": [
    "# User-defined data types\n",
    "\n",
    "ENUM or enumerated data types are great options to use in your database when you have a column where you want to store a fixed list of values that rarely change. Examples of when it would be appropriate to use an ENUM include days of the week and states or provinces in a country.\n",
    "\n",
    "Another example can be the directions on a compass (i.e., north, south, east and west.) In this exercise, you are going to create a new ENUM data type called compass_position.\n",
    "\n",
    "# Instructions:\n",
    "\n",
    "- Create a new enumerated data type called compass_position.\n",
    "- Use the four positions of a compass as the values."
   ]
  },
  {
   "cell_type": "code",
   "execution_count": null,
   "metadata": {
    "vscode": {
     "languageId": "sql"
    }
   },
   "outputs": [],
   "source": [
    "-- Create an enumerated data type, compass_position\n",
    "CREATE TYPE compass_position AS ENUM (\n",
    "  \t-- Use the four cardinal directions\n",
    "  \t'north', 'south', 'east', 'west'\n",
    ");"
   ]
  },
  {
   "cell_type": "markdown",
   "metadata": {},
   "source": [
    "- Verify that the new data type has been created by looking in the pg_type system table."
   ]
  },
  {
   "cell_type": "code",
   "execution_count": null,
   "metadata": {
    "vscode": {
     "languageId": "sql"
    }
   },
   "outputs": [],
   "source": [
    "-- Create an enumerated data type, compass_position\n",
    "CREATE TYPE compass_position AS ENUM (\n",
    "  \t-- Use the four cardinal directions\n",
    "  \t'North', \n",
    "  \t'South',\n",
    "  \t'East', \n",
    "  \t'West'\n",
    ");\n",
    "-- Confirm the new data type is in the pg_type system table\n",
    "SELECT typname\n",
    "FROM pg_type\n",
    "WHERE typname='compass_position';"
   ]
  },
  {
   "cell_type": "markdown",
   "metadata": {},
   "source": [
    "# Getting info about user-defined data types\n",
    "\n",
    "The Sakila database has a user-defined enum data type called mpaa_rating. The rating column in the film table is an mpaa_rating type and contains the familiar rating for that film like PG or R. This is a great example of when an enumerated data type comes in handy. Film ratings have a limited number of standard values that rarely change.\n",
    "\n",
    "When you want to learn about a column or data type in your database the best place to start is the INFORMATION_SCHEMA. You can find information about the rating column that can help you learn about the type of data you can expect to find. For enum data types, you can also find the specific values that are valid for a particular enum by looking in the pg_enum system table. Let's dive into the exercises and learn more.\n",
    "\n",
    "# Instructions:\n",
    "\n",
    "- Select the column_name, data_type, udt_name.\n",
    "- Filter for the rating column in the film table."
   ]
  },
  {
   "cell_type": "code",
   "execution_count": null,
   "metadata": {
    "vscode": {
     "languageId": "sql"
    }
   },
   "outputs": [],
   "source": [
    "-- Select the column name, data type and udt name columns\n",
    "SELECT column_name, data_type, udt_name\n",
    "FROM INFORMATION_SCHEMA.COLUMNS \n",
    "-- Filter by the rating column in the film table\n",
    "WHERE table_name = 'film' AND column_name = 'rating';"
   ]
  },
  {
   "cell_type": "markdown",
   "metadata": {},
   "source": [
    "- Select all columns from the pg_type table where the type name is equal to mpaa_rating."
   ]
  },
  {
   "cell_type": "code",
   "execution_count": null,
   "metadata": {
    "vscode": {
     "languageId": "sql"
    }
   },
   "outputs": [],
   "source": [
    "SELECT *\n",
    "FROM pg_type \n",
    "WHERE typname = 'mpaa_rating'"
   ]
  },
  {
   "cell_type": "markdown",
   "metadata": {},
   "source": [
    "# User-defined functions in Sakila\n",
    "\n",
    "If you were running a real-life DVD Rental store, there are many questions that you may need to answer repeatedly like whether a film is in stock at a particular store or the outstanding balance for a particular customer. These types of scenarios are where user-defined functions will come in very handy. The Sakila database has several user-defined functions pre-defined. These functions are available out-of-the-box and can be used in your queries like many of the built-in functions we've learned about in this course.\n",
    "\n",
    "In this exercise, you will build a query step-by-step that can be used to produce a report to determine which film title is currently held by which customer using the inventory_held_by_customer() function.\n",
    "\n",
    "# Instructions:\n",
    "\n",
    "- Select the title and inventory_id columns from the film and inventory tables in the database."
   ]
  },
  {
   "cell_type": "code",
   "execution_count": null,
   "metadata": {
    "vscode": {
     "languageId": "sql"
    }
   },
   "outputs": [],
   "source": [
    "-- Select the film title and inventory ids\n",
    "SELECT \n",
    "\tf.title, i.inventory_id\n",
    "FROM film AS f \n",
    "\t-- Join the film table to the inventory table\n",
    "\tINNER JOIN inventory AS i ON f.film_id = i.film_id"
   ]
  },
  {
   "cell_type": "markdown",
   "metadata": {},
   "source": [
    "- inventory_id is currently held by a customer and alias the column as held_by_cust"
   ]
  },
  {
   "cell_type": "code",
   "execution_count": null,
   "metadata": {
    "vscode": {
     "languageId": "sql"
    }
   },
   "outputs": [],
   "source": [
    "-- Select the film title, rental and inventory ids\n",
    "SELECT \n",
    "\tf.title, \n",
    "    i.inventory_id,\n",
    "    -- Determine whether the inventory is held by a customer\n",
    "    inventory_held_by_customer(i.inventory_id) AS held_by_cust \n",
    "FROM film as f \n",
    "\t-- Join the film table to the inventory table\n",
    "\tINNER JOIN inventory AS i ON f.film_id=i.film_id "
   ]
  },
  {
   "cell_type": "markdown",
   "metadata": {},
   "source": [
    "- Now filter your query to only return records where the inventory_held_by_customer() function returns a non-null value."
   ]
  },
  {
   "cell_type": "code",
   "execution_count": null,
   "metadata": {
    "vscode": {
     "languageId": "sql"
    }
   },
   "outputs": [],
   "source": [
    "-- Select the film title and inventory ids\n",
    "SELECT \n",
    "\tf.title, \n",
    "    i.inventory_id,\n",
    "    -- Determine whether the inventory is held by a customer\n",
    "    inventory_held_by_customer(i.inventory_id) as held_by_cust\n",
    "FROM film as f \n",
    "\tINNER JOIN inventory AS i ON f.film_id=i.film_id \n",
    "WHERE\n",
    "\t-- Only include results where the held_by_cust is not null\n",
    "    inventory_held_by_customer(i.inventory_id) IS NOT NULL;"
   ]
  },
  {
   "cell_type": "markdown",
   "metadata": {},
   "source": [
    "# Enabling extensions\n",
    "\n",
    "Before you can use the capabilities of an extension it must be enabled. As you have previously learned, most PostgreSQL distributions come pre-bundled with many useful extensions to help extend the native features of your database. You will be working with fuzzystrmatch and pg_trgm in upcoming exercises but before you can practice using the capabilities of these extensions you will need to first make sure they are enabled in our database. In this exercise you will enable the pg_trgm extension and confirm that the fuzzystrmatch extension, which was enabled in the video, is still enabled by querying the pg_extension system table.\n",
    "\n",
    "# Instructions:\n",
    "\n",
    "- Enable the pg_trgm extension"
   ]
  },
  {
   "cell_type": "code",
   "execution_count": null,
   "metadata": {
    "vscode": {
     "languageId": "sql"
    }
   },
   "outputs": [],
   "source": [
    "-- Enable the pg_trgm extension\n",
    "CREATE EXTENSION IF NOT EXISTS pg_trgm;"
   ]
  },
  {
   "cell_type": "markdown",
   "metadata": {},
   "source": [
    "- Now confirm that both fuzzystrmatch and pg_trgm are enabled by selecting all rows from the appropriate system table."
   ]
  },
  {
   "cell_type": "code",
   "execution_count": null,
   "metadata": {
    "vscode": {
     "languageId": "sql"
    }
   },
   "outputs": [],
   "source": [
    "-- Select all rows extensions\n",
    "SELECT * \n",
    "FROM pg_extension;"
   ]
  },
  {
   "cell_type": "markdown",
   "metadata": {},
   "source": [
    "# Measuring similarity between two strings\n",
    "\n",
    "Now that you have enabled the fuzzystrmatch and pg_trgm extensions you can begin to explore their capabilities. First, we will measure the similarity between the title and description from the film table of the Sakila database.\n",
    "\n",
    "# Instructions:\n",
    "\n",
    "- Select the film title and description.\n",
    "- Calculate the similarity between the title and description."
   ]
  },
  {
   "cell_type": "code",
   "execution_count": null,
   "metadata": {
    "vscode": {
     "languageId": "sql"
    }
   },
   "outputs": [],
   "source": [
    "-- Select the title and description columns\n",
    "SELECT \n",
    "  title, \n",
    "  description, \n",
    "  -- Calculate the similarity\n",
    "  similarity(title, description)\n",
    "FROM \n",
    "  film"
   ]
  },
  {
   "cell_type": "markdown",
   "metadata": {},
   "source": [
    "# Levenshtein distance \n",
    "\n",
    "Now let's take a closer look at how we can use the levenshtein function to match strings against text data. If you recall, the levenshtein distance represents the number of edits required to convert one string to another string being compared.\n",
    "\n",
    "In a search application or when performing data analysis on any data that contains manual user input, you will always want to account for typos or incorrect spellings. The levenshtein function provides a great method for performing this task. In this exercise, we will perform a query against the film table using a search string with a misspelling and use the results from levenshtein to determine a match. Let's check it out.\n",
    "\n",
    "# Instructions:\n",
    "\n",
    "- Select the film title and film description.\n",
    "- Calculate the levenshtein distance for the film title with the string JET NEIGHBOR."
   ]
  },
  {
   "cell_type": "code",
   "execution_count": null,
   "metadata": {
    "vscode": {
     "languageId": "sql"
    }
   },
   "outputs": [],
   "source": [
    "-- Select the title and description columns\n",
    "SELECT  \n",
    "  title,\n",
    "  description, \n",
    "  -- Calculate the levenshtein distance\n",
    "  levenshtein(title, 'JET NEIGHBOR') AS distance\n",
    "FROM \n",
    "  film\n",
    "ORDER BY 3"
   ]
  },
  {
   "cell_type": "markdown",
   "metadata": {},
   "source": [
    "# Putting it all together\n",
    "\n",
    "In this exercise, we are going to use many of the techniques and concepts we learned throughout the course to generate a data set that we could use to predict whether the words and phrases used to describe a film have an impact on the number of rentals.\n",
    "\n",
    "First, you need to create a tsvector from the description column in the film table. You will match against a tsquery to determine if the phrase \"Astounding Drama\" leads to more rentals per month. Next, create a new column using the similarity function to rank the film descriptions based on this phrase.\n",
    "\n",
    "# Instructions:\n",
    "\n",
    "- Select the title and description for all DVDs from the film table.\n",
    "- Perform a full-text search by converting the description to a tsvector and match it to the phrase 'Astounding & Drama' using a tsquery in the WHERE clause."
   ]
  },
  {
   "cell_type": "code",
   "execution_count": null,
   "metadata": {
    "vscode": {
     "languageId": "sql"
    }
   },
   "outputs": [],
   "source": [
    "-- Select the title and description columns\n",
    "SELECT  \n",
    "  title, \n",
    "  description \n",
    "FROM \n",
    "  film\n",
    "WHERE \n",
    "  -- Match \"Astounding Drama\" in the description\n",
    "  to_tsvector(description) @@ \n",
    "  to_tsquery('Astounding & Drama');"
   ]
  },
  {
   "cell_type": "markdown",
   "metadata": {},
   "source": [
    "- Add a new column that calculates the similarity of the description with the phrase 'Astounding Drama'.\n",
    "- Sort the results by the new similarity column in descending order."
   ]
  },
  {
   "cell_type": "code",
   "execution_count": null,
   "metadata": {
    "vscode": {
     "languageId": "sql"
    }
   },
   "outputs": [],
   "source": [
    "SELECT \n",
    "  title, \n",
    "  description, \n",
    "  -- Calculate the similarity\n",
    "  similarity(description, 'Astounding & Drama')\n",
    "FROM \n",
    "  film \n",
    "WHERE \n",
    "  to_tsvector(description) @@ \n",
    "  to_tsquery('Astounding & Drama') \n",
    "ORDER BY \n",
    "\tsimilarity(description, 'Astounding & Drama') DESC;"
   ]
  }
 ],
 "metadata": {
  "language_info": {
   "name": "python"
  }
 },
 "nbformat": 4,
 "nbformat_minor": 2
}
