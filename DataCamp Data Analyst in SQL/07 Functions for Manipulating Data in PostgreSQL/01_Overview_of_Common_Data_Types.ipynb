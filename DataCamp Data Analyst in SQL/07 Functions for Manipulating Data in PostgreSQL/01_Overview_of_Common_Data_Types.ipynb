{
 "cells": [
  {
   "cell_type": "markdown",
   "metadata": {},
   "source": [
    "# 1 Overview of Common Data Types\n",
    "\n",
    "Learn about the properties and characteristics of common data types including strings, numerics and arrays and how to retrieve information about your database."
   ]
  },
  {
   "cell_type": "markdown",
   "metadata": {},
   "source": [
    "# Text data types\n",
    "You learned about some of the common data types that you'll work within PostgreSQL, some characteristics of these types, and how to determine the data type of a column in an existing table. Think back to the video and answer the following question:\n",
    "\n",
    "Which of the following is not a valid text data type in PostgreSQL?\n",
    "\n",
    "(x) TEXT\n",
    "\n",
    "( ) STRING\n",
    "\n",
    "( ) CHAR\n",
    "\n",
    "( ) VARCHAR"
   ]
  },
  {
   "cell_type": "markdown",
   "metadata": {},
   "source": [
    "# Getting information about your database\n",
    "\n",
    "As we saw in the video, PostgreSQL has a system database called INFORMATION_SCHEMA that allows us to extract information about objects, including tables, in our database.\n",
    "\n",
    "In this exercise we will look at how to query the tables table of the INFORMATION_SCHEMA database to discover information about tables in the DVD Rentals database including the name, type, schema, and catalog of all tables and views and then how to use the results to get additional information about columns in our tables.\n",
    "\n",
    "# Instructions:\n",
    "\n",
    "- Select all columns from the INFORMATION_SCHEMA.TABLES system database. Limit results that have a public table_schema."
   ]
  },
  {
   "cell_type": "code",
   "execution_count": null,
   "metadata": {
    "vscode": {
     "languageId": "sql"
    }
   },
   "outputs": [],
   "source": [
    " -- Select all columns from the TABLES system database\n",
    " SELECT * \n",
    " FROM INFORMATION_SCHEMA.TABLES\n",
    " -- Filter by schema\n",
    " WHERE table_schema = 'public';"
   ]
  },
  {
   "cell_type": "markdown",
   "metadata": {},
   "source": [
    "- Select all columns from the INFORMATION_SCHEMA.COLUMNS system database. Limit by table_name to actor"
   ]
  },
  {
   "cell_type": "code",
   "execution_count": null,
   "metadata": {
    "vscode": {
     "languageId": "sql"
    }
   },
   "outputs": [],
   "source": [
    " -- Select all columns from the COLUMNS system database\n",
    " SELECT * \n",
    " FROM INFORMATION_SCHEMA.COLUMNS\n",
    " WHERE table_name = 'actor';"
   ]
  },
  {
   "cell_type": "markdown",
   "metadata": {},
   "source": [
    "# Determining data types\n",
    "\n",
    "The columns table of the INFORMATION_SCHEMA database also allows us to extract information about the data types of columns in a table. We can extract information like the character or string length of a CHAR or VARCHAR column or the precision of a DECIMAL or NUMERIC floating point type.\n",
    "\n",
    "Using the techniques you learned in the lesson, let's explore the customer table of our DVD Rental database.\n",
    "\n",
    "# Instructions:\n",
    "\n",
    "- Select the column name and data type from the INFORMATION_SCHEMA.COLUMNS system database.\n",
    "- Limit results to only include the customer table."
   ]
  },
  {
   "cell_type": "code",
   "execution_count": null,
   "metadata": {
    "vscode": {
     "languageId": "sql"
    }
   },
   "outputs": [],
   "source": [
    "-- Get the column name and data type\n",
    "SELECT\n",
    " \tCOLUMN_NAME, \n",
    "    DATA_TYPE\n",
    "-- From the system database information schema\n",
    "FROM INFORMATION_SCHEMA.COLUMNS \n",
    "-- For the customer table\n",
    "WHERE table_name = 'customer';"
   ]
  },
  {
   "cell_type": "markdown",
   "metadata": {},
   "source": [
    "# Properties of date and time data types\n",
    "\n",
    "Which of the following is NOT correct?\n",
    "\n",
    "(x) TIMESTAMP data types contain both date and time values.\n",
    "\n",
    "( ) DATE data types use an yyyy-mm-dd format.\n",
    "\n",
    "( ) INTERVAL types are representations of periods of time.\n",
    "\n",
    "( ) TIME data types are stored with a timezone by default."
   ]
  },
  {
   "cell_type": "markdown",
   "metadata": {},
   "source": [
    "# Interval data types\n",
    "\n",
    "INTERVAL data types provide you with a very useful tool for performing arithmetic on date and time data types. For example, let's say our rental policy requires a DVD to be returned within 3 days. We can calculate the expected_return_date for a given DVD rental by adding an INTERVAL of 3 days to the rental_date from the rental table. We can then compare this result to the actual return_date to determine if the DVD was returned late.\n",
    "\n",
    "Let's try this example in the exercise.\n",
    "\n",
    "# Instructions:\n",
    "\n",
    "- Select the rental date and return date from the rental table.\n",
    "- Add an INTERVAL of 3 days to the rental_date to calculate the expected return date`."
   ]
  },
  {
   "cell_type": "code",
   "execution_count": null,
   "metadata": {
    "vscode": {
     "languageId": "sql"
    }
   },
   "outputs": [],
   "source": [
    "SELECT\n",
    " \t-- Select the rental and return dates\n",
    "\trental_date,\n",
    "\treturn_date,\n",
    " \t-- Calculate the expected_return_date\n",
    "\trental_date + INTERVAL '3 days' AS expected_return_date\n",
    "FROM rental;"
   ]
  },
  {
   "cell_type": "markdown",
   "metadata": {},
   "source": [
    "# Accessing data in an ARRAY\n",
    "\n",
    "In our DVD Rentals database, the film table contains an ARRAY for special_features which has a type of TEXT[]. Much like any ARRAY data type in PostgreSQL, a TEXT[] array can store an array of TEXT values. This comes in handy when you want to store things like phone numbers or email addresses as we saw in the lesson.\n",
    "\n",
    "Let's take a look at the special_features column and also practice accessing data in the ARRAY.\n",
    "\n",
    "# Instructions:\n",
    "\n",
    "- Select the title and special features from the film table and compare the results between the two columns."
   ]
  },
  {
   "cell_type": "code",
   "execution_count": null,
   "metadata": {
    "vscode": {
     "languageId": "sql"
    }
   },
   "outputs": [],
   "source": [
    "-- Select the title and special features column \n",
    "SELECT \n",
    "  title, \n",
    "  special_features \n",
    "FROM film;"
   ]
  },
  {
   "cell_type": "markdown",
   "metadata": {},
   "source": [
    "- Select all films that have a special feature Trailers by filtering on the first index of the special_features ARRAY."
   ]
  },
  {
   "cell_type": "code",
   "execution_count": null,
   "metadata": {
    "vscode": {
     "languageId": "sql"
    }
   },
   "outputs": [],
   "source": [
    "-- Select the title and special features column \n",
    "SELECT \n",
    "  title, \n",
    "  special_features \n",
    "FROM film\n",
    "-- Use the array index of the special_features column\n",
    "WHERE special_features[1] = 'Trailers';"
   ]
  },
  {
   "cell_type": "markdown",
   "metadata": {},
   "source": [
    "- Now let's select all films that have Deleted Scenes in the second index of the special_features ARRAY."
   ]
  },
  {
   "cell_type": "code",
   "execution_count": null,
   "metadata": {
    "vscode": {
     "languageId": "sql"
    }
   },
   "outputs": [],
   "source": [
    "-- Select the title and special features column \n",
    "SELECT \n",
    "  title, \n",
    "  special_features \n",
    "FROM film\n",
    "-- Use the array index of the special_features column\n",
    "WHERE special_features[2] = 'Deleted Scenes';"
   ]
  },
  {
   "cell_type": "markdown",
   "metadata": {},
   "source": [
    "# Searching an ARRAY with ANY\n",
    "\n",
    "As we saw in the video, PostgreSQL also provides the ability to filter results by searching for values in an ARRAY. The ANY function allows you to search for a value in any index position of an ARRAY. Here's an example.\n",
    "\n",
    "WHERE 'search text' = ANY(array_name)\n",
    "When using the ANY function, the value you are filtering on appears on the left side of the equation with the name of the ARRAY column as the parameter in the ANY function.\n",
    "\n",
    "# Instructions:\n",
    "\n",
    "- Match 'Trailers' in any index of the special_features ARRAY regardless of position."
   ]
  },
  {
   "cell_type": "code",
   "execution_count": null,
   "metadata": {
    "vscode": {
     "languageId": "sql"
    }
   },
   "outputs": [],
   "source": [
    "SELECT\n",
    "  title, \n",
    "  special_features \n",
    "FROM film \n",
    "-- Modify the query to use the ANY function \n",
    "WHERE 'Trailers' = ANY(special_features);"
   ]
  },
  {
   "cell_type": "markdown",
   "metadata": {},
   "source": [
    "# Searching an ARRAY with @>\n",
    "\n",
    "The contains operator @> operator is alternative syntax to the ANY function and matches data in an ARRAY using the following syntax.\n",
    "\n",
    "WHERE array_name @> ARRAY['search text'] :: type[]\n",
    "So let's practice using this operator in the exercise.\n",
    "\n",
    "# Instructions:\n",
    "\n",
    "- Use the contains operator to match the text Deleted Scenes in the special_features column."
   ]
  },
  {
   "cell_type": "code",
   "execution_count": null,
   "metadata": {
    "vscode": {
     "languageId": "sql"
    }
   },
   "outputs": [],
   "source": [
    "SELECT \n",
    "  title, \n",
    "  special_features \n",
    "FROM film \n",
    "-- Filter where special_features contains 'Deleted Scenes'\n",
    "WHERE special_features @> ARRAY['Deleted Scenes'];"
   ]
  }
 ],
 "metadata": {
  "language_info": {
   "name": "python"
  }
 },
 "nbformat": 4,
 "nbformat_minor": 2
}
