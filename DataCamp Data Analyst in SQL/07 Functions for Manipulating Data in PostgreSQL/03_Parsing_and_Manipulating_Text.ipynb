{
 "cells": [
  {
   "cell_type": "markdown",
   "metadata": {},
   "source": [
    "# 3 Parsing and Manipulating Text\n",
    "\n",
    "Learn how to manipulate string and text data by transforming case, parsing and truncating text and extracting substrings from larger strings."
   ]
  },
  {
   "cell_type": "markdown",
   "metadata": {},
   "source": [
    "# Concatenating strings\n",
    "\n",
    "In this exercise and the ones that follow, we are going to derive new fields from columns within the customer and film tables of the DVD rental database.\n",
    "\n",
    "We'll start with the customer table and create a query to return the customers name and email address formatted such that we could use it as a \"To\" field in an email script or program. This format will look like the following:\n",
    "\n",
    "Brian Piccolo <bpiccolo@datacamp.com>\n",
    "\n",
    "In the first step of the exercise, use the || operator to do the string concatenation and in the second step, use the CONCAT() functions.\n",
    "\n",
    "# Instructions:\n",
    "\n",
    "- Concatenate the first_name and last_name columns separated by a single space followed by email surrounded by < and >."
   ]
  },
  {
   "cell_type": "code",
   "execution_count": null,
   "metadata": {
    "vscode": {
     "languageId": "sql"
    }
   },
   "outputs": [],
   "source": [
    "-- Concatenate the first_name and last_name and email \n",
    "SELECT CONCAT(first_name, ' ', last_name, ' <', email, '>') AS full_email\n",
    "FROM customer"
   ]
  },
  {
   "cell_type": "markdown",
   "metadata": {},
   "source": [
    "- Now use the CONCAT() function to do the same operation as the previous step."
   ]
  },
  {
   "cell_type": "code",
   "execution_count": null,
   "metadata": {
    "vscode": {
     "languageId": "sql"
    }
   },
   "outputs": [],
   "source": [
    "-- Concatenate the first_name and last_name and email\n",
    "SELECT CONCAT(first_name, ' ', last_name, ' <', email, '>') AS full_email \n",
    "FROM customer"
   ]
  },
  {
   "cell_type": "markdown",
   "metadata": {},
   "source": [
    "# Changing the case of string data\n",
    "\n",
    "Now you are going to use the film and category tables to create a new field called film_category by concatenating the category name with the film's title. You will also format the result using functions you learned about in the video to transform the case of the fields you are selecting in the query; for example, the INITCAP() function which converts a string to title case.\n",
    "\n",
    "# Instructions:\n",
    "\n",
    "- Convert the film category name to uppercase.\n",
    "- Convert the first letter of each word in the film's title to upper case.\n",
    "- Concatenate the converted category name and film title separated by a colon.\n",
    "- Convert the description column to lowercase."
   ]
  },
  {
   "cell_type": "code",
   "execution_count": null,
   "metadata": {
    "vscode": {
     "languageId": "sql"
    }
   },
   "outputs": [],
   "source": [
    "SELECT \n",
    "  -- Concatenate the category name to coverted to uppercase\n",
    "  -- to the film title converted to title case\n",
    "  UPPER(c.name)  || ': ' || INITCAP(f.title) AS film_category, \n",
    "  -- Convert the description column to lowercase\n",
    "  LOWER(description) AS description\n",
    "FROM \n",
    "  film AS f \n",
    "  INNER JOIN film_category AS fc \n",
    "  \tON f.film_id = fc.film_id \n",
    "  INNER JOIN category AS c \n",
    "  \tON fc.category_id = c.category_id;"
   ]
  },
  {
   "cell_type": "markdown",
   "metadata": {},
   "source": [
    "# Replacing string data\n",
    "\n",
    "Sometimes you will need to make sure that the data you are extracting does not contain any whitespace. There are many different approaches you can take to cleanse and prepare your data for these situations. A common technique is to replace any whitespace with an underscore.\n",
    "\n",
    "In this example, we are going to practice finding and replacing whitespace characters in the title column of the film table using the REPLACE() function.\n",
    "\n",
    "# Instructions:\n",
    "\n",
    "- Replace all whitespace with an underscore."
   ]
  },
  {
   "cell_type": "code",
   "execution_count": null,
   "metadata": {
    "vscode": {
     "languageId": "sql"
    }
   },
   "outputs": [],
   "source": [
    "SELECT \n",
    "  -- Replace whitespace in the film title with an underscore\n",
    "  REPLACE(title, ' ', '_') AS title\n",
    "FROM film; "
   ]
  },
  {
   "cell_type": "markdown",
   "metadata": {},
   "source": [
    "# Determining the length of strings\n",
    "\n",
    "Determining the number of characters in a string is something that you will use frequently when working with data in a SQL database. Many situations will require you to find the length of a string stored in your database. For example, you may need to limit the number of characters that are displayed in an application or you may need to ensure that a column in your dataset contains values that are all the same length. In this example, we are going to determine the length of the description column in the film table of the DVD Rental database.\n",
    "\n",
    "# Instructions:\n",
    "\n",
    "- Select the title and description columns from the film table.\n",
    "- Find the number of characters in the description column with the alias desc_len."
   ]
  },
  {
   "cell_type": "code",
   "execution_count": null,
   "metadata": {
    "vscode": {
     "languageId": "sql"
    }
   },
   "outputs": [],
   "source": [
    "SELECT \n",
    "  -- Select the title and description columns\n",
    "  title,\n",
    "  description,\n",
    "  -- Determine the length of the description column\n",
    "  LENGTH(description) AS desc_len\n",
    "FROM film;"
   ]
  },
  {
   "cell_type": "markdown",
   "metadata": {},
   "source": [
    "# Truncating strings\n",
    "\n",
    "In the previous exercise, you calculated the length of the description column and noticed that the number of characters varied but most of the results were over 75 characters. There will be many times when you need to truncate a text column to a certain length to meet specific criteria for an application. In this exercise, we will practice getting the first 50 characters of the description column.\n",
    "\n",
    "# Instructions:\n",
    "\n",
    "- Select the first 50 characters of the description column with the alias short_desc"
   ]
  },
  {
   "cell_type": "code",
   "execution_count": null,
   "metadata": {
    "vscode": {
     "languageId": "sql"
    }
   },
   "outputs": [],
   "source": [
    "SELECT \n",
    "  -- Select the first 50 characters of description\n",
    "  SUBSTRING(description, 1, 50) AS short_desc\n",
    "FROM \n",
    "  film AS f; "
   ]
  },
  {
   "cell_type": "markdown",
   "metadata": {},
   "source": [
    "# Extracting substrings from text data\n",
    "\n",
    "In this exercise, you are going to practice how to extract substrings from text columns. The Sakila database contains the address table which stores the street address for all the rental store locations. You need a list of all the street names where the stores are located but the address column also contains the street number. You'll use several functions that you've learned about in the video to manipulate the address column and return only the street address.\n",
    "\n",
    "# Instructions:\n",
    "\n",
    "- Extract only the street address without the street number from the address column.\n",
    "- Use functions to determine the starting and ending position parameters."
   ]
  },
  {
   "cell_type": "code",
   "execution_count": null,
   "metadata": {
    "vscode": {
     "languageId": "sql"
    }
   },
   "outputs": [],
   "source": [
    "SELECT \n",
    "  -- Select only the street name from the address table\n",
    "  SUBSTRING(address FROM POSITION(' ' IN address)+1 FOR LENGTH(address))\n",
    "FROM \n",
    "  address;"
   ]
  },
  {
   "cell_type": "markdown",
   "metadata": {},
   "source": [
    "# Combining functions for string manipulation\n",
    "\n",
    "In the next example, we are going to break apart the email column from the customer table into three new derived fields. Parsing a single column into multiple columns can be useful when you need to work with certain subsets of data. Email addresses have embedded information stored in them that can be parsed out to derive additional information about our data. For example, we can use the techniques we learned about in the video to determine how many of our customers use an email from a specific domain.\n",
    "\n",
    "# Instructions:\n",
    "\n",
    "- Extract the characters to the left of the @ of the email column in the customer table and alias it as username.\n",
    "- Now use SUBSTRING to extract the characters after the @ of the email column and alias the new derived field as domain."
   ]
  },
  {
   "cell_type": "code",
   "execution_count": null,
   "metadata": {
    "vscode": {
     "languageId": "sql"
    }
   },
   "outputs": [],
   "source": [
    "SELECT\n",
    "  -- Extract the characters to the left of the '@'\n",
    "  LEFT(email, POSITION('@' IN email)-1) AS username,\n",
    "  -- Extract the characters to the right of the '@'\n",
    "  SUBSTRING(email FROM POSITION('@' IN email)+1 FOR LENGTH(email)) AS domain\n",
    "FROM customer;"
   ]
  },
  {
   "cell_type": "markdown",
   "metadata": {},
   "source": [
    "# Padding\n",
    "\n",
    "Padding strings is useful in many real-world situations. Earlier in this course, we learned about string concatenation and how to combine the customer's first and last name separated by a single blank space and also combined the customer's full name with their email address.\n",
    "\n",
    "The padding functions that we learned about in the video are an alternative approach to do this task. To use this approach, you will need to combine and nest functions to determine the length of a string to produce the desired result. Remember when calculating the length of a string you often need to adjust the integer returned to get the proper length or position of a string.\n",
    "\n",
    "Let's revisit the string concatenation exercise but use padding functions.\n",
    "\n",
    "# Instructions:\n",
    "\n",
    "- Add a single space to the end or right of the first_name column using a padding function.\n",
    "- Use the || operator to concatenate the padded first_name to the last_name column."
   ]
  },
  {
   "cell_type": "code",
   "execution_count": null,
   "metadata": {
    "vscode": {
     "languageId": "sql"
    }
   },
   "outputs": [],
   "source": [
    "-- Concatenate the padded first_name and last_name \n",
    "SELECT \n",
    "\tRPAD(first_name, LENGTH(first_name)+1) || last_name AS full_name\n",
    "FROM customer;"
   ]
  },
  {
   "cell_type": "markdown",
   "metadata": {},
   "source": [
    "- Now add a single space to the left or beginning of the last_name column using a different padding function than the first step.\n",
    "- Use the || operator to concatenate the first_name column to the padded last_name."
   ]
  },
  {
   "cell_type": "code",
   "execution_count": null,
   "metadata": {
    "vscode": {
     "languageId": "sql"
    }
   },
   "outputs": [],
   "source": [
    "-- Concatenate the first_name and last_name \n",
    "SELECT \n",
    "\tfirst_name || LPAD(last_name, LENGTH(last_name)+1) AS full_name\n",
    "FROM customer; "
   ]
  },
  {
   "cell_type": "markdown",
   "metadata": {},
   "source": [
    "- Add a single space to the right or end of the first_name column.\n",
    "- Add the characters < to the right or end of last_name column.\n",
    "- Finally, add the characters > to the right or end of the email column."
   ]
  },
  {
   "cell_type": "code",
   "execution_count": null,
   "metadata": {
    "vscode": {
     "languageId": "sql"
    }
   },
   "outputs": [],
   "source": [
    "-- Concatenate the first_name and last_name \n",
    "SELECT \n",
    "\tRPAD(first_name, LENGTH(first_name)+1) \n",
    "    || RPAD(last_name, LENGTH(last_name)+2, ' <') \n",
    "    || RPAD(email, LENGTH(email)+1, '>') AS full_email\n",
    "FROM customer; "
   ]
  },
  {
   "cell_type": "markdown",
   "metadata": {},
   "source": [
    "# The TRIM function\n",
    "\n",
    "In this exercise, we are going to revisit and combine a couple of exercises from earlier in this chapter. If you recall, you used the LEFT() function to truncate the description column to 50 characters but saw that some words were cut off and/or had trailing whitespace. We can use trimming functions to eliminate the whitespace at the end of the string after it's been truncated.\n",
    "\n",
    "# Instructions:\n",
    "\n",
    "- Convert the film category name to uppercase and use the CONCAT() concatenate it with the title.\n",
    "- Truncate the description to the first 50 characters and make sure there is no leading or trailing whitespace after truncating."
   ]
  },
  {
   "cell_type": "code",
   "execution_count": null,
   "metadata": {
    "vscode": {
     "languageId": "sql"
    }
   },
   "outputs": [],
   "source": [
    "-- Concatenate the uppercase category name and film title\n",
    "SELECT \n",
    "  CONCAT(UPPER(name), ': ', title) AS film_category, \n",
    "  -- Truncate the description remove trailing whitespace\n",
    "  TRIM(LEFT(description, 50)) AS film_desc\n",
    "FROM \n",
    "  film AS f \n",
    "  INNER JOIN film_category AS fc \n",
    "  \tON f.film_id = fc.film_id \n",
    "  INNER JOIN category AS c \n",
    "  \tON fc.category_id = c.category_id;"
   ]
  },
  {
   "cell_type": "markdown",
   "metadata": {},
   "source": [
    "# Putting it all together\n",
    "\n",
    "In this exercise, we are going to use the film and category tables to create a new field called film_category by concatenating the category name with the film's title. You will also practice how to truncate text fields like the film table's description column without cutting off a word.\n",
    "\n",
    "To accomplish this we will use the REVERSE() function to help determine the position of the last whitespace character in the description before we reach 50 characters. This technique can be used to determine the position of the last character that you want to truncate and ensure that it is less than or equal to 50 characters AND does not cut off a word.\n",
    "\n",
    "This is an advanced technique but I know you can do it! Let's dive in.\n",
    "\n",
    "# Instructions:\n",
    "\n",
    "- Get the first 50 characters of the description column\n",
    "- Determine the position of the last whitespace character of the truncated description column and subtract it from the number 50 as the second parameter in the first function above."
   ]
  },
  {
   "cell_type": "code",
   "execution_count": null,
   "metadata": {
    "vscode": {
     "languageId": "sql"
    }
   },
   "outputs": [],
   "source": [
    "SELECT \n",
    "  UPPER(c.name) || ': ' || f.title AS film_category, \n",
    "  -- Truncate the description without cutting off a word\n",
    "  LEFT(description, 50 - \n",
    "    -- Subtract the position of the first whitespace character\n",
    "    POSITION(\n",
    "      ' ' IN REVERSE(LEFT(description, 50))\n",
    "    )\n",
    "  ) \n",
    "FROM \n",
    "  film AS f \n",
    "  INNER JOIN film_category AS fc \n",
    "  \tON f.film_id = fc.film_id \n",
    "  INNER JOIN category AS c \n",
    "  \tON fc.category_id = c.category_id;"
   ]
  }
 ],
 "metadata": {
  "language_info": {
   "name": "python"
  }
 },
 "nbformat": 4,
 "nbformat_minor": 2
}
