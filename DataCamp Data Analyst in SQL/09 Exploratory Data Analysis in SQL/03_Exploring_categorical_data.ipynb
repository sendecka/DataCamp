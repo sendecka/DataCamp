{
 "cells": [
  {
   "cell_type": "markdown",
   "metadata": {},
   "source": [
    "# 3 Exploring categorical data and unstructured text\n",
    "\n",
    "Text, or character, data can get messy, but you'll learn how to deal with inconsistencies in case, spacing, and delimiters. Learn how to use a temporary table to recode messy categorical data to standardized values you can count and aggregate. Extract new variables from unstructured text as you explore help requests submitted to the city of Evanston, IL."
   ]
  },
  {
   "cell_type": "markdown",
   "metadata": {},
   "source": [
    "# Count the categories\n",
    "\n",
    "In this chapter, we'll be working mostly with the Evanston 311 data in table evanston311. This is data on help requests submitted to the city of Evanston, IL.\n",
    "\n",
    "This data has several character columns. Start by examining the most frequent values in some of these columns to get familiar with the common categories.\n",
    "\n",
    "# Instructions:\n",
    "\n",
    "- How many rows does each priority level have?"
   ]
  },
  {
   "cell_type": "code",
   "execution_count": null,
   "metadata": {
    "vscode": {
     "languageId": "sql"
    }
   },
   "outputs": [],
   "source": [
    "-- Select the count of each level of priority\n",
    "SELECT priority, COUNT(*)\n",
    "  FROM evanston311\n",
    " GROUP BY priority;"
   ]
  },
  {
   "cell_type": "markdown",
   "metadata": {},
   "source": [
    "- How many distinct values of zip appear in at least 100 rows?"
   ]
  },
  {
   "cell_type": "code",
   "execution_count": null,
   "metadata": {
    "vscode": {
     "languageId": "sql"
    }
   },
   "outputs": [],
   "source": [
    "-- Find values of zip that appear in at least 100 rows\n",
    "-- Also get the count of each value\n",
    "SELECT zip, COUNT(*)\n",
    "  FROM evanston311\n",
    " GROUP BY zip\n",
    "HAVING count(*) >=100; "
   ]
  },
  {
   "cell_type": "markdown",
   "metadata": {},
   "source": [
    "- How many distinct values of source appear in at least 100 rows?"
   ]
  },
  {
   "cell_type": "code",
   "execution_count": null,
   "metadata": {
    "vscode": {
     "languageId": "sql"
    }
   },
   "outputs": [],
   "source": [
    "-- Find values of source that appear in at least 100 rows\n",
    "-- Also get the count of each value\n",
    "SELECT source, COUNT(*)\n",
    "  FROM evanston311\n",
    "GROUP BY source\n",
    "HAVING COUNT(*) >= 100;"
   ]
  },
  {
   "cell_type": "markdown",
   "metadata": {},
   "source": [
    "- Select the five most common values of street and the count of each."
   ]
  },
  {
   "cell_type": "code",
   "execution_count": null,
   "metadata": {
    "vscode": {
     "languageId": "sql"
    }
   },
   "outputs": [],
   "source": [
    "-- Find the 5 most common values of street and the count of each\n",
    "SELECT street, COUNT(*)\n",
    "  FROM evanston311\n",
    " GROUP BY street\n",
    "ORDER BY COUNT(*) DESC\n",
    "LIMIT 5;"
   ]
  },
  {
   "cell_type": "markdown",
   "metadata": {},
   "source": [
    "# Spotting character data problems\n",
    "\n",
    "Explore the distinct values of the street column. Select each street value and the count of the number of rows with that value. Sort the results by street to see similar values near each other.\n",
    "\n",
    "Look at the results.\n",
    "\n",
    "Which of the following is NOT an issue you see with the values of street?\n",
    "\n",
    "# Instructions:\n",
    "\n",
    "Possible answers\n",
    "\n",
    "( ) The street suffix (e.g. Street, Avenue) is sometimes abbreviated\n",
    "\n",
    "(x) There are sometimes extra spaces at the beginning and end of values\n",
    "\n",
    "( ) House/street numbers sometimes appear in the column\n",
    "\n",
    "( ) Capitalization is not consistent across values\n",
    "\n",
    "( ) All of the above are potential problems"
   ]
  },
  {
   "cell_type": "markdown",
   "metadata": {},
   "source": [
    "# Trimming\n",
    "\n",
    "Some of the street values in evanston311 include house numbers with # or / in them. In addition, some street values end in a ..\n",
    "\n",
    "Remove the house numbers, extra punctuation, and any spaces from the beginning and end of the street values as a first attempt at cleaning up the values.\n",
    "\n",
    "# Instructions:\n",
    "\n",
    "- Trim digits 0-9, #, /, ., and spaces from the beginning and end of street.\n",
    "- Select distinct original street value and the corrected street value.\n",
    "- Order the results by the original street value."
   ]
  },
  {
   "cell_type": "code",
   "execution_count": null,
   "metadata": {
    "vscode": {
     "languageId": "sql"
    }
   },
   "outputs": [],
   "source": [
    "SELECT distinct street,\n",
    "       -- Trim off unwanted characters from street\n",
    "       trim(street, '0123456789 #/.') AS cleaned_street\n",
    "  FROM evanston311\n",
    " ORDER BY street;"
   ]
  },
  {
   "cell_type": "markdown",
   "metadata": {},
   "source": [
    "# Exploring unstructured text\n",
    "\n",
    "The description column of evanston311 has the details of the inquiry, while the category column groups inquiries into different types. How well does the category capture what's in the description?\n",
    "\n",
    "LIKE and ILIKE queries will help you find relevant descriptions and categories. Remember that with LIKE queries, you can include a % on each side of a word to find values that contain the word. For example:\n",
    "\n",
    "SELECT category\n",
    "  FROM evanston311\n",
    " WHERE category LIKE '%Taxi%';\n",
    "% matches 0 or more characters.\n",
    "\n",
    "Building up the query through the steps below, find inquires that mention trash or garbage in the description without trash or garbage being in the category. What are the most frequent categories for such inquiries?\n",
    "\n",
    "# Instructions:\n",
    "\n",
    "- Use ILIKE to count rows in evanston311 where the description contains 'trash' or 'garbage' regardless of case."
   ]
  },
  {
   "cell_type": "code",
   "execution_count": null,
   "metadata": {
    "vscode": {
     "languageId": "sql"
    }
   },
   "outputs": [],
   "source": [
    "-- Count rows\n",
    "SELECT COUNT(*)\n",
    "  FROM evanston311\n",
    " -- Where description includes trash or garbage\n",
    " WHERE description ILIKE '%trash%' OR description ILIKE '%garbage%';"
   ]
  },
  {
   "cell_type": "markdown",
   "metadata": {},
   "source": [
    "- category values are in title case. Use LIKE to find category values with 'Trash' or 'Garbage' in them."
   ]
  },
  {
   "cell_type": "code",
   "execution_count": null,
   "metadata": {
    "vscode": {
     "languageId": "sql"
    }
   },
   "outputs": [],
   "source": [
    "-- Select categories containing Trash or Garbage\n",
    "SELECT category\n",
    "  FROM evanston311\n",
    " -- Use LIKE\n",
    " WHERE category LIKE '%Trash%' OR category LIKE '%Garbage%';"
   ]
  },
  {
   "cell_type": "markdown",
   "metadata": {},
   "source": [
    "- Count rows where the description includes 'trash' or 'garbage' but the category does not."
   ]
  },
  {
   "cell_type": "code",
   "execution_count": null,
   "metadata": {
    "vscode": {
     "languageId": "sql"
    }
   },
   "outputs": [],
   "source": [
    "-- Count rows\n",
    "SELECT count(*)\n",
    "  FROM evanston311 \n",
    " -- description contains trash or garbage\n",
    " WHERE (description ILIKE '%trash%'\n",
    "    OR description ILIKE '%garbage%') \n",
    " -- category does not contain Trash or Garbage\n",
    "   AND category NOT LIKE '%Trash%'\n",
    "   AND category NOT LIKE '%Garbage%';"
   ]
  },
  {
   "cell_type": "markdown",
   "metadata": {},
   "source": [
    "- Find the most common categories for rows with a description about trash that don't have a trash-related category."
   ]
  },
  {
   "cell_type": "code",
   "execution_count": null,
   "metadata": {
    "vscode": {
     "languageId": "sql"
    }
   },
   "outputs": [],
   "source": [
    "-- Count rows with each category\n",
    "SELECT category, COUNT(*)\n",
    "  FROM evanston311 \n",
    " WHERE (description ILIKE '%trash%'\n",
    "    OR description ILIKE '%garbage%') \n",
    "   AND category NOT LIKE '%Trash%'\n",
    "   AND category NOT LIKE '%Garbage%'\n",
    " -- What are you counting?\n",
    " GROUP BY category\n",
    " --- order by most frequent values\n",
    " ORDER BY COUNT(*) DESC\n",
    " LIMIT 10;"
   ]
  },
  {
   "cell_type": "markdown",
   "metadata": {},
   "source": [
    "# Concatenate strings\n",
    "\n",
    "House number (house_num) and street are in two separate columns in evanston311. Concatenate them together with concat() with a space in between the values.\n",
    "\n",
    "# Instructions:\n",
    "\n",
    "- Concatenate house_num, a space ' ', and street into a single value using the concat().\n",
    "- Use a trim function to remove any spaces from the start of the concatenated value."
   ]
  },
  {
   "cell_type": "code",
   "execution_count": null,
   "metadata": {
    "vscode": {
     "languageId": "sql"
    }
   },
   "outputs": [],
   "source": [
    "-- Concatenate house_num, a space, and street\n",
    "-- and trim spaces from the start of the result\n",
    "SELECT TRIM(CONCAT(house_num, ' ', street)) AS address\n",
    "  FROM evanston311;"
   ]
  },
  {
   "cell_type": "markdown",
   "metadata": {},
   "source": [
    "# Split strings on a delimiter\n",
    "\n",
    "The street suffix is the part of the street name that gives the type of street, such as Avenue, Road, or Street. In the Evanston 311 data, sometimes the street suffix is the full word, while other times it is the abbreviation.\n",
    "\n",
    "Extract just the first word of each street value to find the most common streets regardless of the suffix.\n",
    "\n",
    "To do this, use\n",
    "\n",
    "split_part(string_to_split, delimiter, part_number)\n",
    "\n",
    "# Instructions:\n",
    "\n",
    "- Use split_part() to select the first word in street; alias the result as street_name.\n",
    "- Also select the count of each value of street_name."
   ]
  },
  {
   "cell_type": "code",
   "execution_count": null,
   "metadata": {
    "vscode": {
     "languageId": "sql"
    }
   },
   "outputs": [],
   "source": [
    "-- Select the first word of the street value\n",
    "SELECT SPLIT_PART(street, ' ', 1) AS street_name, \n",
    "       count(*)\n",
    "  FROM evanston311\n",
    " GROUP BY street_name\n",
    " ORDER BY count DESC\n",
    " LIMIT 20;"
   ]
  },
  {
   "cell_type": "markdown",
   "metadata": {},
   "source": [
    "# Shorten long strings\n",
    "\n",
    "The description column of evanston311 can be very long. You can get the length of a string with the length() function.\n",
    "\n",
    "For displaying or quickly reviewing the data, you might want to only display the first few characters. You can use the left() function to get a specified number of characters at the start of each value.\n",
    "\n",
    "To indicate that more data is available, concatenate '...' to the end of any shortened description. To do this, you can use a CASE WHEN statement to add '...' only when the string length is greater than 50.\n",
    "\n",
    "Select the first 50 characters of description when description starts with the word \"I\".\n",
    "\n",
    "# Instructions:\n",
    "\n",
    "- Select the first 50 characters of description with '...' concatenated on the end where the length() of the description is greater than 50 characters. Otherwise just select the description as is.\n",
    "\n",
    "- Select only descriptions that begin with the word 'I' and not the letter 'I'.\n",
    "\n",
    "- For example, you would want to select \"I like using SQL!\", but would not want to select \"In this course we use SQL!\"."
   ]
  },
  {
   "cell_type": "code",
   "execution_count": null,
   "metadata": {
    "vscode": {
     "languageId": "sql"
    }
   },
   "outputs": [],
   "source": [
    "-- Select the first 50 chars when length is greater than 50\n",
    "SELECT CASE WHEN length(description) > 50\n",
    "            THEN left(description, 50) || '...'\n",
    "       -- otherwise just select description\n",
    "       ELSE description\n",
    "       END\n",
    "  FROM evanston311\n",
    " -- limit to descriptions that start with the word I\n",
    " WHERE description LIKE 'I %'\n",
    " ORDER BY description;"
   ]
  },
  {
   "cell_type": "markdown",
   "metadata": {},
   "source": [
    "# Group and recode values\n",
    "\n",
    "There are almost 150 distinct values of evanston311.category. But some of these categories are similar, with the form \"Main Category - Details\". We can get a better sense of what requests are common if we aggregate by the main category.\n",
    "\n",
    "To do this, create a temporary table recode mapping distinct category values to new, standardized values. Make the standardized values the part of the category before a dash ('-'). Extract this value with the split_part() function:\n",
    "\n",
    "split_part(string text, delimiter text, field int)\n",
    "You'll also need to do some additional cleanup of a few cases that don't fit this pattern.\n",
    "\n",
    "Then the evanston311 table can be joined to recode to group requests by the new standardized category values.\n",
    "\n",
    "# Instructions:\n",
    "\n",
    "- Create recode with a standardized column; use split_part() and then rtrim() to remove any remaining whitespace on the result of split_part()."
   ]
  },
  {
   "cell_type": "code",
   "execution_count": null,
   "metadata": {
    "vscode": {
     "languageId": "sql"
    }
   },
   "outputs": [],
   "source": [
    "-- Fill in the command below with the name of the temp table\n",
    "DROP TABLE IF EXISTS recode;\n",
    "\n",
    "-- Create and name the temporary table\n",
    "CREATE TEMP TABLE recode AS\n",
    "-- Write the select query to generate the table \n",
    "-- with distinct values of category and standardized values\n",
    "  SELECT DISTINCT category, \n",
    "         RTRIM(SPLIT_PART(category, '-', 1)) AS standardized\n",
    "    -- What table are you selecting the above values from?\n",
    "    FROM evanston311;\n",
    "    \n",
    "-- Look at a few values before the next step\n",
    "SELECT DISTINCT standardized \n",
    "  FROM recode\n",
    " WHERE standardized LIKE 'Trash%Cart'\n",
    "    OR standardized LIKE 'Snow%Removal%';"
   ]
  },
  {
   "cell_type": "markdown",
   "metadata": {},
   "source": [
    "- UPDATE standardized values LIKE 'Trash%Cart' to 'Trash Cart'.\n",
    "- UPDATE standardized values of 'Snow Removal/Concerns' and 'Snow/Ice/Hazard Removal' to 'Snow Removal'."
   ]
  },
  {
   "cell_type": "code",
   "execution_count": null,
   "metadata": {
    "vscode": {
     "languageId": "sql"
    }
   },
   "outputs": [],
   "source": [
    "-- Code from previous step\n",
    "DROP TABLE IF EXISTS recode;\n",
    "\n",
    "CREATE TEMP TABLE recode AS\n",
    "  SELECT DISTINCT category, \n",
    "         rtrim(split_part(category, '-', 1)) AS standardized\n",
    "    FROM evanston311;\n",
    "\n",
    "-- Update to group trash cart values\n",
    "UPDATE recode \n",
    "   SET standardized='Trash Cart' \n",
    " WHERE standardized LIKE 'Trash%Cart';\n",
    "\n",
    "-- Update to group snow removal values\n",
    "UPDATE recode \n",
    "   SET standardized='Snow Removal' \n",
    " WHERE standardized LIKE 'Snow%Removal%';\n",
    "    \n",
    "-- Examine effect of updates\n",
    "SELECT DISTINCT standardized \n",
    "  FROM recode\n",
    " WHERE standardized LIKE 'Trash%Cart'\n",
    "    OR standardized LIKE 'Snow%Removal%';"
   ]
  },
  {
   "cell_type": "markdown",
   "metadata": {},
   "source": [
    "- UPDATE recode by setting standardized values of 'THIS REQUEST IS INACTIVE…Trash Cart', '(DO NOT USE) Water Bill', 'DO NOT USE Trash', and 'NO LONGER IN USE' to 'UNUSED'."
   ]
  },
  {
   "cell_type": "code",
   "execution_count": null,
   "metadata": {
    "vscode": {
     "languageId": "sql"
    }
   },
   "outputs": [],
   "source": [
    "-- Code from previous step\n",
    "DROP TABLE IF EXISTS recode;\n",
    "\n",
    "CREATE TEMP TABLE recode AS\n",
    "  SELECT DISTINCT category, \n",
    "         rtrim(split_part(category, '-', 1)) AS standardized\n",
    "    FROM evanston311;\n",
    "  \n",
    "UPDATE recode SET standardized='Trash Cart' \n",
    " WHERE standardized LIKE 'Trash%Cart';\n",
    "\n",
    "UPDATE recode SET standardized='Snow Removal' \n",
    " WHERE standardized LIKE 'Snow%Removal%';\n",
    "\n",
    "-- Update to group unused/inactive values\n",
    "UPDATE recode \n",
    "   SET standardized='UNUSED' \n",
    " WHERE standardized IN ('THIS REQUEST IS INACTIVE...Trash Cart', \n",
    "               '(DO NOT USE) Water Bill',\n",
    "               'DO NOT USE Trash', \n",
    "               'NO LONGER IN USE');\n",
    "\n",
    "-- Examine effect of updates\n",
    "SELECT DISTINCT standardized \n",
    "  FROM recode\n",
    " ORDER BY standardized;"
   ]
  },
  {
   "cell_type": "markdown",
   "metadata": {},
   "source": [
    "- Now, join the evanston311 and recode tables to count the number of requests with each of the standardized values\n",
    "- List the most common standardized values first."
   ]
  },
  {
   "cell_type": "code",
   "execution_count": null,
   "metadata": {
    "vscode": {
     "languageId": "sql"
    }
   },
   "outputs": [],
   "source": [
    "-- Code from previous step\n",
    "DROP TABLE IF EXISTS recode;\n",
    "CREATE TEMP TABLE recode AS\n",
    "  SELECT DISTINCT category, \n",
    "         rtrim(split_part(category, '-', 1)) AS standardized\n",
    "  FROM evanston311;\n",
    "UPDATE recode SET standardized='Trash Cart' \n",
    " WHERE standardized LIKE 'Trash%Cart';\n",
    "UPDATE recode SET standardized='Snow Removal' \n",
    " WHERE standardized LIKE 'Snow%Removal%';\n",
    "UPDATE recode SET standardized='UNUSED' \n",
    " WHERE standardized IN ('THIS REQUEST IS INACTIVE...Trash Cart', \n",
    "               '(DO NOT USE) Water Bill',\n",
    "               'DO NOT USE Trash', 'NO LONGER IN USE');\n",
    "\n",
    "-- Select the recoded categories and the count of each\n",
    "SELECT standardized, count(*) \n",
    "-- From the original table and table with recoded values\n",
    "  FROM evanston311 \n",
    "       LEFT JOIN recode \n",
    "       -- What column do they have in common?\n",
    "       ON evanston311.category=recode.category \n",
    " -- What do you need to group by to count?\n",
    " GROUP BY standardized\n",
    " -- Display the most common val values first\n",
    " ORDER BY count DESC;"
   ]
  },
  {
   "cell_type": "markdown",
   "metadata": {},
   "source": [
    "# Create a table with indicator variables\n",
    "\n",
    "Determine whether medium and high priority requests in the evanston311 data are more likely to contain requesters' contact information: an email address or phone number.\n",
    "\n",
    "Emails contain an @.\n",
    "Phone numbers have the pattern of three characters, dash, three characters, dash, four characters. For example: 555-555-1212.\n",
    "Use LIKE to match these patterns. Remember % matches any number of characters (even 0), and _ matches a single character. Enclosing a pattern in % (i.e. before and after your pattern) allows you to locate it within other text.\n",
    "\n",
    "For example, '%___.com%'would allow you to search for a reference to a website with the top-level domain '.com' and at least three characters preceding it.\n",
    "\n",
    "Create and store indicator variables for email and phone in a temporary table. LIKE produces True or False as a result, but casting a boolean (True or False) as an integer converts True to 1 and False to 0. This makes the values easier to summarize later.\n",
    "\n",
    "Instructions:\n",
    "\n",
    "-Create a temp table indicators from evanston311 with three columns: id, email, and phone.\n",
    "\n",
    "-Use LIKE comparisons to detect the email and phone patterns that are in the description, and cast the result as an integer with CAST().\n",
    "\n",
    "-Your phone indicator should use a combination of underscores _ and dashes - to represent a standard 10-digit phone number format.\n",
    "Remember to start and end your patterns with % so that you can locate the pattern within other text!"
   ]
  },
  {
   "cell_type": "code",
   "execution_count": null,
   "metadata": {
    "vscode": {
     "languageId": "sql"
    }
   },
   "outputs": [],
   "source": [
    "-- To clear table if it already exists\n",
    "DROP TABLE IF EXISTS indicators;\n",
    "\n",
    "-- Create the indicators temp table\n",
    "CREATE TEMP TABLE indicators AS\n",
    "  -- Select id\n",
    "  SELECT id, \n",
    "         -- Create the email indicator (find @)\n",
    "         CAST (description LIKE '%@%' AS integer) AS email,\n",
    "         -- Create the phone indicator\n",
    "         CAST(description LIKE '%___-___-____%' AS integer) AS phone \n",
    "    -- What table contains the data? \n",
    "    FROM evanston311;\n",
    "\n",
    "-- Inspect the contents of the new temp table\n",
    "SELECT *\n",
    "  FROM indicators;"
   ]
  },
  {
   "cell_type": "markdown",
   "metadata": {},
   "source": [
    "- Join the indicators table to evanston311, selecting the proportion of reports including an email or phone grouped by priority.\n",
    "- Include adjustments to account for issues arising from integer division."
   ]
  },
  {
   "cell_type": "code",
   "execution_count": null,
   "metadata": {
    "vscode": {
     "languageId": "sql"
    }
   },
   "outputs": [],
   "source": [
    "-- To clear table if it already exists\n",
    "DROP TABLE IF EXISTS indicators;\n",
    "\n",
    "-- Create the temp table\n",
    "CREATE TEMP TABLE indicators AS\n",
    "  SELECT id, \n",
    "         CAST (description LIKE '%@%' AS integer) AS email,\n",
    "         CAST (description LIKE '%___-___-____%' AS integer) AS phone \n",
    "    FROM evanston311;\n",
    "  \n",
    "-- Select the column you'll group by\n",
    "SELECT priority,\n",
    "       -- Compute the proportion of rows with each indicator\n",
    "       SUM(email)/count(*)::numeric AS email_prop, \n",
    "       SUM(phone)/count(*)::numeric AS phone_prop\n",
    "  -- Tables to select from\n",
    "  FROM evanston311 \n",
    "       LEFT JOIN indicators \n",
    "       -- Joining condition\n",
    "       ON evanston311.id = indicators.id\n",
    " -- What are you grouping by?\n",
    " GROUP BY priority;"
   ]
  }
 ],
 "metadata": {
  "language_info": {
   "name": "python"
  }
 },
 "nbformat": 4,
 "nbformat_minor": 2
}
