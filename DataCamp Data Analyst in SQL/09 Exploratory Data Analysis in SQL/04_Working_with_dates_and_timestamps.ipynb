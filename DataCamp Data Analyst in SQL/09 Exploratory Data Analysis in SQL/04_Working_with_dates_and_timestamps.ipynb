{
 "cells": [
  {
   "cell_type": "markdown",
   "metadata": {},
   "source": [
    "# 4 Working with dates and timestamps\n",
    "\n",
    "What time is it? In this chapter, you'll learn how to find out. You'll aggregate date/time data by hour, day, month, or year and practice both constructing time series and finding gaps in them."
   ]
  },
  {
   "cell_type": "markdown",
   "metadata": {},
   "source": [
    "# Date comparisons\n",
    "\n",
    "When working with timestamps, sometimes you want to find all observations on a given day. However, if you specify only a date in a comparison, you may get unexpected results. This query:\n",
    "\n",
    "SELECT count(*) \n",
    "  FROM evanston311\n",
    " WHERE date_created = '2018-01-02';\n",
    "returns 0, even though there were 49 requests on January 2, 2018.\n",
    "\n",
    "This is because dates are automatically converted to timestamps when compared to a timestamp. The time fields are all set to zero:\n",
    "\n",
    "SELECT '2018-01-02'::timestamp;\n",
    " 2018-01-02 00:00:00\n",
    "When working with both timestamps and dates, you'll need to keep this in mind.\n",
    "\n",
    "# Instructions:\n",
    "\n",
    "- Count the number of Evanston 311 requests created on January 31, 2017 by casting date_created to a date."
   ]
  },
  {
   "cell_type": "code",
   "execution_count": null,
   "metadata": {
    "vscode": {
     "languageId": "sql"
    }
   },
   "outputs": [],
   "source": [
    "-- Count requests created on January 31, 2017\n",
    "SELECT count(*) \n",
    "  FROM evanston311\n",
    " WHERE date_created::date = '2017-01-31';"
   ]
  },
  {
   "cell_type": "markdown",
   "metadata": {},
   "source": [
    "- Count the number of Evanston 311 requests created on February 29, 2016 by using >= and < operators."
   ]
  },
  {
   "cell_type": "code",
   "execution_count": null,
   "metadata": {
    "vscode": {
     "languageId": "sql"
    }
   },
   "outputs": [],
   "source": [
    "-- Count requests created on February 29, 2016\n",
    "SELECT count(*)\n",
    "  FROM evanston311 \n",
    " WHERE date_created >= '2016-02-29' \n",
    "   AND date_created < '2016-03-01';"
   ]
  },
  {
   "cell_type": "markdown",
   "metadata": {},
   "source": [
    "- Count the number of requests created on March 13, 2017.\n",
    "- Specify the upper bound by adding 1 to the lower bound."
   ]
  },
  {
   "cell_type": "code",
   "execution_count": null,
   "metadata": {
    "vscode": {
     "languageId": "sql"
    }
   },
   "outputs": [],
   "source": [
    "-- Count requests created on March 13, 2017\n",
    "SELECT count(*)\n",
    "  FROM evanston311\n",
    " WHERE date_created >= '2017-03-13'\n",
    "   AND date_created < '2017-03-13'::date + interval '1 day';"
   ]
  },
  {
   "cell_type": "markdown",
   "metadata": {},
   "source": [
    "# Date arithmetic\n",
    "\n",
    "You can subtract dates or timestamps from each other.\n",
    "\n",
    "You can add time to dates or timestamps using intervals. An interval is specified with a number of units and the name of a datetime field. For example:\n",
    "\n",
    "'3 days'::interval\n",
    "'6 months'::interval\n",
    "'1 month 2 years'::interval\n",
    "'1 hour 30 minutes'::interval\n",
    "Practice date arithmetic with the Evanston 311 data and now().\n",
    "\n",
    "# Instructions:\n",
    "\n",
    "- Subtract the minimum date_created from the maximum date_created."
   ]
  },
  {
   "cell_type": "code",
   "execution_count": null,
   "metadata": {
    "vscode": {
     "languageId": "sql"
    }
   },
   "outputs": [],
   "source": [
    "-- Subtract the min date_created from the max\n",
    "SELECT MAX(date_created) - MIN(date_created)\n",
    "  FROM evanston311;"
   ]
  },
  {
   "cell_type": "markdown",
   "metadata": {},
   "source": [
    "- Using now(), find out how old the most recent evanston311 request was created."
   ]
  },
  {
   "cell_type": "code",
   "execution_count": null,
   "metadata": {
    "vscode": {
     "languageId": "sql"
    }
   },
   "outputs": [],
   "source": [
    "-- How old is the most recent request?\n",
    "SELECT now() - MAX(date_created)\n",
    "  FROM evanston311;"
   ]
  },
  {
   "cell_type": "markdown",
   "metadata": {},
   "source": [
    "- Add 100 days to the current timestamp."
   ]
  },
  {
   "cell_type": "code",
   "execution_count": null,
   "metadata": {
    "vscode": {
     "languageId": "sql"
    }
   },
   "outputs": [],
   "source": [
    "-- Add 100 days to the current timestamp\n",
    "SELECT now() + '100 days'::interval;"
   ]
  },
  {
   "cell_type": "markdown",
   "metadata": {},
   "source": [
    "- Select the current timestamp and the current timestamp plus 5 minutes."
   ]
  },
  {
   "cell_type": "code",
   "execution_count": null,
   "metadata": {
    "vscode": {
     "languageId": "sql"
    }
   },
   "outputs": [],
   "source": [
    "-- Select the current timestamp, \n",
    "-- and the current timestamp + 5 minutes\n",
    "SELECT now() + INTERVAL '5 minutes' AS timestamp_plus_5_minutes;"
   ]
  },
  {
   "cell_type": "markdown",
   "metadata": {},
   "source": [
    "# Completion time by category\n",
    "\n",
    "The evanston311 data includes a date_created timestamp from when each request was created and a date_completed timestamp for when it was completed. The difference between these tells us how long a request was open.\n",
    "\n",
    "Which category of Evanston 311 requests takes the longest to complete?\n",
    "\n",
    "# Instructions:\n",
    "\n",
    "- Compute the average difference between the completion timestamp and the creation timestamp by category.\n",
    "- Order the results with the largest average time to complete the request first."
   ]
  },
  {
   "cell_type": "code",
   "execution_count": null,
   "metadata": {
    "vscode": {
     "languageId": "sql"
    }
   },
   "outputs": [],
   "source": [
    "-- Select the category and the average completion time by category\n",
    "SELECT category, \n",
    "       AVG(date_completed - date_created) AS completion_time\n",
    "  FROM evanston311\n",
    " GROUP BY category\n",
    "-- Order the results\n",
    " ORDER BY completion_time DESC;"
   ]
  },
  {
   "cell_type": "markdown",
   "metadata": {},
   "source": [
    "# Date parts\n",
    "\n",
    "The date_part() function is useful when you want to aggregate data by a unit of time across multiple larger units of time. For example, aggregating data by month across different years, or aggregating by hour across different days.\n",
    "\n",
    "Recall that you use date_part() as:\n",
    "\n",
    "SELECT date_part('field', timestamp);\n",
    "In this exercise, you'll use date_part() to gain insights about when Evanston 311 requests are submitted and completed."
   ]
  },
  {
   "cell_type": "markdown",
   "metadata": {},
   "source": [
    "# Instructions:\n",
    "\n",
    "- How many requests are created in each of the 12 months during 2016-2017?"
   ]
  },
  {
   "cell_type": "code",
   "execution_count": null,
   "metadata": {
    "vscode": {
     "languageId": "sql"
    }
   },
   "outputs": [],
   "source": [
    "-- Extract the month from date_created and count requests\n",
    "SELECT date_part('month', date_created) AS month, \n",
    "       COUNT(*)\n",
    "  FROM evanston311\n",
    " -- Limit the date range\n",
    " WHERE date_created >= '2016-01-01' AND date_created < '2018-01-01'\n",
    " -- Group by what to get monthly counts?\n",
    " GROUP BY month;"
   ]
  },
  {
   "cell_type": "markdown",
   "metadata": {},
   "source": [
    "- What is the most common hour of the day for requests to be created?"
   ]
  },
  {
   "cell_type": "code",
   "execution_count": null,
   "metadata": {
    "vscode": {
     "languageId": "sql"
    }
   },
   "outputs": [],
   "source": [
    "-- Get the hour and count requests\n",
    "SELECT date_part('hour', date_created) AS hour,\n",
    "       count(*)\n",
    "  FROM evanston311\n",
    " GROUP BY hour\n",
    " -- Order results to select most common\n",
    " ORDER BY count DESC\n",
    " LIMIT 1;"
   ]
  },
  {
   "cell_type": "markdown",
   "metadata": {},
   "source": [
    "- During what hours are requests usually completed? Count requests completed by hour.\n",
    "- Order the results by hour."
   ]
  },
  {
   "cell_type": "code",
   "execution_count": null,
   "metadata": {
    "vscode": {
     "languageId": "sql"
    }
   },
   "outputs": [],
   "source": [
    "-- Count requests completed by hour\n",
    "SELECT date_part('hour', date_completed) AS hour,\n",
    "       COUNT(*)\n",
    "  FROM evanston311\n",
    "GROUP BY hour\n",
    "ORDER BY hour;"
   ]
  },
  {
   "cell_type": "markdown",
   "metadata": {},
   "source": [
    "# Variation by day of week\n",
    "\n",
    "Does the time required to complete a request vary by the day of the week on which the request was created?\n",
    "\n",
    "We can get the name of the day of the week by converting a timestamp to character data:\n",
    "\n",
    "to_char(date_created, 'day') \n",
    "But character names for the days of the week sort in alphabetical, not chronological, order. To get the chronological order of days of the week with an integer value for each day, we can use:\n",
    "\n",
    "EXTRACT(DOW FROM date_created)\n",
    "DOW stands for \"day of week.\"\n",
    "\n",
    "# Instructions:\n",
    "\n",
    "- Select the name of the day of the week the request was created (date_created) as day.\n",
    "- Select the mean time between the request completion (date_completed) and request creation as duration.\n",
    "- Group by day (the name of the day of the week) and the integer value for the day of the week (use a function).\n",
    "- Order by the integer value of the day of the week using the same function used in GROUP BY."
   ]
  },
  {
   "cell_type": "code",
   "execution_count": null,
   "metadata": {
    "vscode": {
     "languageId": "sql"
    }
   },
   "outputs": [],
   "source": [
    "-- Select name of the day of the week the request was created \n",
    "SELECT TO_CHAR(date_created, 'day') AS day, \n",
    "       -- Select avg time between request creation and completion\n",
    "       AVG(date_completed - date_created) AS duration\n",
    "  FROM evanston311 \n",
    " -- Group by the name of the day of the week and \n",
    " -- integer value of day of week the request was created\n",
    " GROUP BY day, EXTRACT(DOW FROM date_created)\n",
    " -- Order by integer value of the day of the week \n",
    " -- the request was created\n",
    " ORDER BY EXTRACT(DOW FROM date_created);"
   ]
  },
  {
   "cell_type": "markdown",
   "metadata": {},
   "source": [
    "# Date truncation\n",
    "\n",
    "Unlike date_part() or EXTRACT(), date_trunc() keeps date/time units larger than the field you specify as part of the date. So instead of just extracting one component of a timestamp, date_trunc() returns the specified unit and all larger ones as well.\n",
    "\n",
    "Recall the syntax:\n",
    "\n",
    "date_trunc('field', timestamp)\n",
    "Using date_trunc(), find the average number of Evanston 311 requests created per day for each month of the data. Ignore days with no requests when taking the average.\n",
    "\n",
    "# Instructions:\n",
    "\n",
    "- Write a subquery to count the number of requests created per day.\n",
    "- Select the month and average count per month from the daily_count subquery."
   ]
  },
  {
   "cell_type": "code",
   "execution_count": null,
   "metadata": {
    "vscode": {
     "languageId": "sql"
    }
   },
   "outputs": [],
   "source": [
    "-- Aggregate daily counts by month\n",
    "SELECT date_trunc('month', day) AS month,\n",
    "        avg(count)\n",
    "  -- Subquery to compute daily counts\n",
    "  FROM (SELECT DATE_TRUNC('day', date_created) AS day,\n",
    "               COUNT(*) AS count\n",
    "          FROM evanston311\n",
    "         GROUP BY day) AS daily_count\n",
    " GROUP BY month\n",
    " ORDER BY month;"
   ]
  },
  {
   "cell_type": "markdown",
   "metadata": {},
   "source": [
    "# Find missing dates\n",
    "\n",
    "The generate_series() function can be useful for identifying missing dates.\n",
    "\n",
    "Recall:\n",
    "\n",
    "generate_series(from, to, interval)\n",
    "where from and to are dates or timestamps, and interval can be specified as a string with a number and a unit of time, such as '1 month'.\n",
    "\n",
    "Are there any days in the Evanston 311 data where no requests were created?\n",
    "\n",
    "# Instructions:\n",
    "\n",
    "- Write a subquery using generate_series() to get all dates between the min() and max() date_created in evanston311.\n",
    "- Write another subquery to select all values of date_created as dates from evanston311.\n",
    "- Both subqueries should produce values of type date (look for the ::).\n",
    "- Select dates (day) from the first subquery that are NOT IN the results of the second subquery. This gives you days that are not in date_created."
   ]
  },
  {
   "cell_type": "code",
   "execution_count": null,
   "metadata": {
    "vscode": {
     "languageId": "sql"
    }
   },
   "outputs": [],
   "source": [
    "SELECT day\n",
    "-- 1) Subquery to generate all dates\n",
    "-- from min to max date_created\n",
    "  FROM (SELECT generate_series(MIN(date_created),\n",
    "                               MAX(date_created),\n",
    "                               '1 day')::date AS day\n",
    "          -- What table is date_created in?\n",
    "          FROM evanston311) AS all_dates\n",
    "-- 4) Select dates (day from above) that are NOT IN the subquery\n",
    " WHERE day NOT IN \n",
    "       -- 2) Subquery to select all date_created values as dates\n",
    "       (SELECT date_created::date\n",
    "          FROM evanston311);"
   ]
  },
  {
   "cell_type": "markdown",
   "metadata": {},
   "source": [
    "# Custom aggregation periods\n",
    "\n",
    "Find the median number of Evanston 311 requests per day in each six month period from 2016-01-01 to 2018-06-30. Build the query following the three steps below.\n",
    "\n",
    "Recall that to aggregate data by non-standard date/time intervals, such as six months, you can use generate_series() to create bins with lower and upper bounds of time, and then summarize observations that fall in each bin.\n",
    "\n",
    "Remember: you can access the slides with an example of this type of query using the PDF icon link in the upper right corner of the screen.\n",
    "\n",
    "# Instructions:\n",
    "\n",
    "- Use generate_series() to create bins of 6 month intervals. Recall that the upper bin values are exclusive, so the values need to be one day greater than the last day to be included in the bin.\n",
    "\n",
    "- Notice how in the sample code, the first bin value of the upper bound is July 1st, and not June 30th.\n",
    "Use the same approach when creating the last bin values of the lower and upper bounds (i.e. for 2018).\n",
    "\n"
   ]
  },
  {
   "cell_type": "code",
   "execution_count": null,
   "metadata": {
    "vscode": {
     "languageId": "sql"
    }
   },
   "outputs": [],
   "source": [
    "-- Generate 6 month bins covering 2016-01-01 to 2018-06-30\n",
    "\n",
    "-- Create lower bounds of bins\n",
    "SELECT generate_series('2016-01-01',  -- First bin lower value\n",
    "                       '2018-01-01',  -- Last bin lower value\n",
    "                       '6 months'::interval) AS lower,\n",
    "-- Create upper bounds of bins\n",
    "       generate_series('2016-07-01',  -- First bin upper value\n",
    "                       '2018-07-01',  -- Last bin upper value\n",
    "                       '6 months'::interval) AS upper;"
   ]
  },
  {
   "cell_type": "markdown",
   "metadata": {},
   "source": [
    "- Count the number of requests created per day. Remember to not count *, or you will risk counting NULL values.\n",
    "\n",
    "- Include days with no requests by joining evanston311 to a daily series from 2016-01-01 to 2018-06-30."
   ]
  },
  {
   "cell_type": "code",
   "execution_count": null,
   "metadata": {
    "vscode": {
     "languageId": "sql"
    }
   },
   "outputs": [],
   "source": [
    "-- Count number of requests made per day\n",
    "SELECT day, COUNT(id) AS count\n",
    "-- Use a daily series from 2016-01-01 to 2018-06-30 \n",
    "-- to include days with no requests\n",
    "  FROM (SELECT generate_series('2016-01-01'::date,  -- series start date\n",
    "                               '2018-06-30'::date,  -- series end date\n",
    "                               '1 day'::interval)::date AS day) AS daily_series\n",
    "       LEFT JOIN evanston311\n",
    "       -- match day from above (which is a date) to date_created\n",
    "       ON day = date_created::date \n",
    "GROUP BY day;"
   ]
  },
  {
   "cell_type": "markdown",
   "metadata": {},
   "source": [
    "- Assign each daily count to a single 6 month bin by joining bins to daily_counts.\n",
    "- Compute the median value per bin using percentile_disc()."
   ]
  },
  {
   "cell_type": "code",
   "execution_count": null,
   "metadata": {
    "vscode": {
     "languageId": "sql"
    }
   },
   "outputs": [],
   "source": [
    "-- Bins from Step 1\n",
    "WITH bins AS (\n",
    "\t SELECT generate_series('2016-01-01',\n",
    "                            '2018-01-01',\n",
    "                            '6 months'::interval) AS lower,\n",
    "            generate_series('2016-07-01',\n",
    "                            '2018-07-01',\n",
    "                            '6 months'::interval) AS upper),\n",
    "-- Daily counts from Step 2\n",
    "     daily_counts AS (\n",
    "     SELECT day, count(date_created) AS count\n",
    "       FROM (SELECT generate_series('2016-01-01',\n",
    "                                    '2018-06-30',\n",
    "                                    '1 day'::interval)::date AS day) AS daily_series\n",
    "            LEFT JOIN evanston311\n",
    "            ON day = date_created::date\n",
    "      GROUP BY day)\n",
    "-- Select bin bounds\n",
    "SELECT lower, \n",
    "       upper, \n",
    "       -- Compute median of count for each bin\n",
    "       percentile_disc(0.5) WITHIN GROUP (ORDER BY count) AS median\n",
    "  -- Join bins and daily_counts\n",
    "  FROM bins\n",
    "       LEFT JOIN daily_counts\n",
    "       -- Where the day is between the bin bounds\n",
    "       ON day >= lower\n",
    "          AND day < upper\n",
    " -- Group by bin bounds\n",
    " GROUP BY lower, upper\n",
    " ORDER BY lower;"
   ]
  },
  {
   "cell_type": "markdown",
   "metadata": {},
   "source": [
    "# Monthly average with missing dates\n",
    "\n",
    "Find the average number of Evanston 311 requests created per day for each month of the data.\n",
    "\n",
    "This time, do not ignore dates with no requests.\n",
    "\n",
    "# Instructions:\n",
    "\n",
    "- Generate a series of dates from 2016-01-01 to 2018-06-30.\n",
    "- Join the series to a subquery to count the number of requests created per day.\n",
    "- Use date_trunc() to get months from date, which has all dates, NOT day.\n",
    "- Use coalesce() to replace NULL count values with 0. Compute the average of this value."
   ]
  },
  {
   "cell_type": "code",
   "execution_count": null,
   "metadata": {
    "vscode": {
     "languageId": "sql"
    }
   },
   "outputs": [],
   "source": [
    "-- generate series with all days from 2016-01-01 to 2018-06-30\n",
    "WITH all_days AS \n",
    "     (SELECT generate_series(___,\n",
    "                             ___,\n",
    "                             ___::___) AS date),\n",
    "     -- Subquery to compute daily counts\n",
    "     daily_count AS \n",
    "     (SELECT date_trunc('day', date_created) AS day,\n",
    "             count(*) AS count\n",
    "        FROM evanston311\n",
    "       GROUP BY day)\n",
    "-- Aggregate daily counts by month using date_trunc\n",
    "SELECT ___ AS month,\n",
    "       -- Use coalesce to replace NULL count values with 0\n",
    "       avg(coalesce(___, ___)) AS average\n",
    "  FROM all_days\n",
    "       LEFT JOIN daily_count\n",
    "       -- Joining condition\n",
    "       ON all_days.___=daily_count.___\n",
    " GROUP BY month\n",
    " ORDER BY month; "
   ]
  },
  {
   "cell_type": "markdown",
   "metadata": {},
   "source": [
    "# Longest gap\n",
    "\n",
    "What is the longest time between Evanston 311 requests being submitted?\n",
    "\n",
    "Recall the syntax for lead() and lag():\n",
    "\n",
    "lag(column_to_adjust) OVER (ORDER BY ordering_column)\n",
    "lead(column_to_adjust) OVER (ORDER BY ordering_column)\n",
    "# Instructions:\n",
    "\n",
    "- Select date_created and the date_created of the previous request using lead() or lag() as appropriate.\n",
    "- Compute the gap between each request and the previous request.\n",
    "- Select the row with the maximum gap."
   ]
  },
  {
   "cell_type": "code",
   "execution_count": null,
   "metadata": {
    "vscode": {
     "languageId": "sql"
    }
   },
   "outputs": [],
   "source": [
    "-- Compute the gaps\n",
    "WITH request_gaps AS (\n",
    "        SELECT date_created,\n",
    "               -- lead or lag\n",
    "               LAG(date_created) OVER (ORDER BY date_created) AS previous,\n",
    "               -- compute gap as date_created minus lead or lag\n",
    "               date_created - LAG(date_created) OVER (ORDER BY date_created) AS gap\n",
    "          FROM evanston311)\n",
    "-- Select the row with the maximum gap\n",
    "SELECT *\n",
    "  FROM request_gaps\n",
    "-- Subquery to select maximum gap from request_gaps\n",
    " WHERE gap = (SELECT MAX(gap)\n",
    "                FROM request_gaps);"
   ]
  },
  {
   "cell_type": "markdown",
   "metadata": {},
   "source": [
    "# Rats!\n",
    "\n",
    "Requests in category \"Rodents- Rats\" average over 64 days to resolve. Why?\n",
    "\n",
    "Investigate in 4 steps:\n",
    "\n",
    "Why is the average so high? Check the distribution of completion times. Hint: date_trunc() can be used on intervals.\n",
    "\n",
    "See how excluding outliers influences average completion times.\n",
    "\n",
    "Do requests made in busy months take longer to complete? Check the correlation between the average completion time and requests per month.\n",
    "\n",
    "Compare the number of requests created per month to the number completed.\n",
    "\n",
    "Remember: the time to resolve, or completion time, is date_completed - date_created.\n",
    "\n",
    "# Instructions:\n",
    "\n",
    "- Use date_trunc() to examine the distribution of rat request completion times by number of days."
   ]
  },
  {
   "cell_type": "code",
   "execution_count": null,
   "metadata": {
    "vscode": {
     "languageId": "sql"
    }
   },
   "outputs": [],
   "source": [
    "-- Truncate the time to complete requests to the day\n",
    "SELECT date_trunc('day', date_completed - date_created) AS completion_time,\n",
    "-- Count requests with each truncated time\n",
    "       COUNT(*)\n",
    "  FROM evanston311\n",
    "-- Where category is rats\n",
    " WHERE category = 'Rodents- Rats'\n",
    "-- Group and order by the variable of interest\n",
    " GROUP BY completion_time\n",
    " ORDER BY completion_time;"
   ]
  },
  {
   "cell_type": "markdown",
   "metadata": {},
   "source": [
    "- Compute average completion time per category excluding the longest 5% of requests (outliers)."
   ]
  },
  {
   "cell_type": "code",
   "execution_count": null,
   "metadata": {
    "vscode": {
     "languageId": "sql"
    }
   },
   "outputs": [],
   "source": [
    "SELECT category, \n",
    "       -- Compute average completion time per category\n",
    "       avg(date_completed - date_created) AS avg_completion_time\n",
    "  FROM evanston311\n",
    "-- Where completion time is less than the 95th percentile value\n",
    " WHERE date_completed - date_created < \n",
    "-- Compute the 95th percentile of completion time in a subquery\n",
    "         (SELECT percentile_disc(0.95) WITHIN GROUP (ORDER BY date_completed - date_created)\n",
    "            FROM evanston311)\n",
    " GROUP BY category\n",
    "-- Order the results\n",
    " ORDER BY avg_completion_time DESC;"
   ]
  },
  {
   "cell_type": "markdown",
   "metadata": {},
   "source": [
    "- Get corr() between avg. completion time and monthly requests. EXTRACT(epoch FROM interval) returns seconds in interval."
   ]
  },
  {
   "cell_type": "code",
   "execution_count": null,
   "metadata": {
    "vscode": {
     "languageId": "sql"
    }
   },
   "outputs": [],
   "source": [
    "-- Compute correlation (corr) between \n",
    "-- avg_completion time and count from the subquery\n",
    "SELECT corr(avg_completion, count)\n",
    "  -- Convert date_created to its month with date_trunc\n",
    "  FROM (SELECT date_trunc('month', date_created) AS month, \n",
    "               -- Compute average completion time in number of seconds           \n",
    "               avg(EXTRACT(epoch FROM date_completed - date_created)) AS avg_completion, \n",
    "               -- Count requests per month\n",
    "               count(*) AS count\n",
    "          FROM evanston311\n",
    "         -- Limit to rodents\n",
    "         WHERE category='Rodents- Rats' \n",
    "         -- Group by month, created above\n",
    "         GROUP BY month) \n",
    "         -- Required alias for subquery \n",
    "         AS monthly_avgs;"
   ]
  },
  {
   "cell_type": "markdown",
   "metadata": {},
   "source": [
    "- Select the number of requests created and number of requests completed per month."
   ]
  },
  {
   "cell_type": "code",
   "execution_count": null,
   "metadata": {
    "vscode": {
     "languageId": "sql"
    }
   },
   "outputs": [],
   "source": [
    "-- Compute monthly counts of requests created\n",
    "WITH created AS (\n",
    "       SELECT DATE_TRUNC('month', date_created) AS month,\n",
    "              count(*) AS created_count\n",
    "         FROM evanston311\n",
    "        WHERE category='Rodents- Rats'\n",
    "        GROUP BY month),\n",
    "-- Compute monthly counts of requests completed\n",
    "      completed AS (\n",
    "       SELECT date_trunc('month', date_completed) AS month,\n",
    "              count(*) AS completed_count\n",
    "         FROM evanston311\n",
    "        WHERE category='Rodents- Rats'\n",
    "        GROUP BY month)\n",
    "-- Join monthly created and completed counts\n",
    "SELECT created.month, \n",
    "       created_count, \n",
    "       completed_count\n",
    "  FROM created\n",
    "       INNER JOIN completed\n",
    "       ON created.month=completed.month\n",
    " ORDER BY created.month;"
   ]
  }
 ],
 "metadata": {
  "language_info": {
   "name": "python"
  }
 },
 "nbformat": 4,
 "nbformat_minor": 2
}
