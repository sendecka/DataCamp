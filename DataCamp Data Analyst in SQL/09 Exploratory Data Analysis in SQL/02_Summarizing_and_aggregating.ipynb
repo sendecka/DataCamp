{
 "cells": [
  {
   "cell_type": "markdown",
   "metadata": {},
   "source": [
    "# 2 Summarizing and aggregating numeric data\n",
    "\n",
    "You'll build on functions like min and max to summarize numeric data in new ways. Add average, variance, correlation, and percentile functions to your toolkit, and learn how to truncate and round numeric values too. Build complex queries and save your results by creating temporary tables."
   ]
  },
  {
   "cell_type": "markdown",
   "metadata": {},
   "source": [
    "# Division\n",
    "\n",
    "Compute the average revenue per employee for Fortune 500 companies by sector.\n",
    "\n",
    "# Instructions:\n",
    "\n",
    "- Compute revenue per employee by dividing revenues by employees; use casting to produce a numeric result.\n",
    "- Take the average of revenue per employee with avg(); alias this as avg_rev_employee.\n",
    "- Group by sector.\n",
    "- Order by the average revenue per employee."
   ]
  },
  {
   "cell_type": "code",
   "execution_count": null,
   "metadata": {
    "vscode": {
     "languageId": "sql"
    }
   },
   "outputs": [],
   "source": [
    "-- Select average revenue per employee by sector\n",
    "SELECT \n",
    "    sector,\n",
    "    AVG(revenues/employees::numeric) AS avg_rev_employee\n",
    "FROM \n",
    "    fortune500\n",
    "GROUP BY \n",
    "    sector\n",
    "-- Use the column alias to order the results\n",
    "ORDER BY \n",
    "    avg_rev_employee;"
   ]
  },
  {
   "cell_type": "markdown",
   "metadata": {},
   "source": [
    "# Explore with division\n",
    "\n",
    "In exploring a new database, it can be unclear what the data means and how columns are related to each other.\n",
    "\n",
    "What information does the unanswered_pct column in the stackoverflow table contain? Is it the percent of questions with the tag that are unanswered (unanswered ?s with tag/all ?s with tag)? Or is it something else, such as the percent of all unanswered questions on the site with the tag (unanswered ?s with tag/all unanswered ?s)?\n",
    "\n",
    "Divide unanswered_count (unanswered ?s with tag) by question_count (all ?s with tag) to see if the value matches that of unanswered_pct to determine the answer.\n",
    "\n",
    "# Instructions:\n",
    "\n",
    "- Exclude rows where question_count is 0 to avoid a divide by zero error.\n",
    "- Limit the result to 10 rows."
   ]
  },
  {
   "cell_type": "code",
   "execution_count": null,
   "metadata": {
    "vscode": {
     "languageId": "sql"
    }
   },
   "outputs": [],
   "source": [
    "-- Divide unanswered_count by question_count\n",
    "SELECT unanswered_count/question_count::numeric AS computed_pct, \n",
    "       -- What are you comparing the above quantity to?\n",
    "       unanswered_pct\n",
    "  FROM stackoverflow\n",
    " -- Select rows where question_count is not 0\n",
    " WHERE question_count > 0\n",
    " LIMIT \n",
    "    10;"
   ]
  },
  {
   "cell_type": "markdown",
   "metadata": {},
   "source": [
    "# Summarize numeric columns\n",
    "\n",
    "Summarize the profit column in the fortune500 table using the functions you've learned.\n",
    "\n",
    "You can access the course slides for reference using the PDF icon in the upper right corner of the screen.\n",
    "\n",
    "# Instructions:\n",
    "\n",
    "- Compute the min(), avg(), max(), and stddev() of profits."
   ]
  },
  {
   "cell_type": "code",
   "execution_count": null,
   "metadata": {
    "vscode": {
     "languageId": "sql"
    }
   },
   "outputs": [],
   "source": [
    "-- Select min, avg, max, and stddev of fortune500 profits\n",
    "SELECT\n",
    "    min(profits),\n",
    "    avg(profits),\n",
    "    max(profits),\n",
    "    STDDEV(profits)\n",
    "FROM\n",
    "    fortune500;"
   ]
  },
  {
   "cell_type": "markdown",
   "metadata": {},
   "source": [
    "- Now repeat step 1, but summarize profits by sector.\n",
    "- Order the results by the average profits for each sector."
   ]
  },
  {
   "cell_type": "code",
   "execution_count": null,
   "metadata": {
    "vscode": {
     "languageId": "sql"
    }
   },
   "outputs": [],
   "source": [
    "-- Select sector and summary measures of fortune500 profits\n",
    "SELECT sector,\n",
    "       min(profits),\n",
    "       avg(profits),\n",
    "       max(profits),\n",
    "       stddev(profits)\n",
    "  FROM fortune500\n",
    " -- What to group by?\n",
    " GROUP BY sector\n",
    " -- Order by the average profits\n",
    " ORDER BY avg;"
   ]
  },
  {
   "cell_type": "markdown",
   "metadata": {},
   "source": [
    "# Summarize group statistics\n",
    "\n",
    "Sometimes you want to understand how a value varies across groups. For example, how does the maximum value per group vary across groups?\n",
    "\n",
    "To find out, first summarize by group, and then compute summary statistics of the group results. One way to do this is to compute group values in a subquery, and then summarize the results of the subquery.\n",
    "\n",
    "For this exercise, what is the standard deviation across tags in the maximum number of Stack Overflow questions per day? What about the mean, min, and max of the maximums as well?\n",
    "\n",
    "# Instructions:\n",
    "\n",
    "- Start by writing a subquery to compute the max() of question_count per tag; alias the subquery result as maxval.\n",
    "- Then compute the standard deviation of maxval with stddev().\n",
    "- Compute the min(), max(), and avg() of maxval too."
   ]
  },
  {
   "cell_type": "code",
   "execution_count": null,
   "metadata": {
    "vscode": {
     "languageId": "sql"
    }
   },
   "outputs": [],
   "source": [
    "-- Compute standard deviation of maximum values\n",
    "SELECT STDDEV(maxval),\n",
    "\t   -- min\n",
    "       MIN(maxval),\n",
    "       -- max\n",
    "       MAX(maxval),\n",
    "       -- avg\n",
    "       AVG(maxval)\n",
    "  -- Subquery to compute max of question_count by tag\n",
    "  FROM (SELECT MAX(question_count) AS maxval\n",
    "          FROM stackoverflow\n",
    "         -- Compute max by...\n",
    "         GROUP BY tag) AS max_results; -- alias for subquery"
   ]
  },
  {
   "cell_type": "markdown",
   "metadata": {},
   "source": [
    "# Truncate\n",
    "\n",
    "Use trunc() to examine the distributions of attributes of the Fortune 500 companies.\n",
    "\n",
    "Remember that trunc() truncates numbers by replacing lower place value digits with zeros:\n",
    "\n",
    "trunc(value_to_truncate, places_to_truncate)\n",
    "Negative values for places_to_truncate indicate digits to the left of the decimal to replace, while positive values indicate digits to the right of the decimal to keep.\n",
    "\n",
    "# Instructions:\n",
    "\n",
    "- Use trunc() to truncate employees to the 100,000s (5 zeros).\n",
    "- Count the number of observations with each truncated value."
   ]
  },
  {
   "cell_type": "code",
   "execution_count": null,
   "metadata": {
    "vscode": {
     "languageId": "sql"
    }
   },
   "outputs": [],
   "source": [
    "-- Truncate employees\n",
    "SELECT TRUNC(employees, -5) AS employee_bin,\n",
    "       -- Count number of companies with each truncated value\n",
    "       COUNT(*)\n",
    "  FROM fortune500\n",
    " -- Use alias to group\n",
    " GROUP BY TRUNC(employees, -5)\n",
    " -- Use alias to order\n",
    " ORDER BY employee_bin;"
   ]
  },
  {
   "cell_type": "markdown",
   "metadata": {},
   "source": [
    "- Repeat step 1 for companies with < 100,000 employees (most common).\n",
    "- This time, truncate employees to the 10,000s place."
   ]
  },
  {
   "cell_type": "code",
   "execution_count": null,
   "metadata": {
    "vscode": {
     "languageId": "sql"
    }
   },
   "outputs": [],
   "source": [
    "-- Truncate employees\n",
    "SELECT TRUNC(employees, -4) AS employee_bin,\n",
    "       -- Count number of companies with each truncated value\n",
    "       COUNT(*)\n",
    "  FROM fortune500\n",
    " -- Limit to which companies?\n",
    " WHERE employees < 100000\n",
    " -- Use alias to group\n",
    " GROUP BY employee_bin\n",
    " -- Use alias to order\n",
    " ORDER BY employee_bin;"
   ]
  },
  {
   "cell_type": "markdown",
   "metadata": {},
   "source": [
    "# Generate series\n",
    "\n",
    "Summarize the distribution of the number of questions with the tag \"dropbox\" on Stack Overflow per day by binning the data.\n",
    "\n",
    "Recall:\n",
    "\n",
    "generate_series(from, to, step)\n",
    "You can reference the slides using the PDF icon in the upper right corner of the screen.\n",
    "\n",
    "# Instructions:\n",
    "\n",
    "- Start by selecting the minimum and maximum of the question_count column for the tag 'dropbox' so you know the range of values to cover with the bins."
   ]
  },
  {
   "cell_type": "code",
   "execution_count": null,
   "metadata": {
    "vscode": {
     "languageId": "sql"
    }
   },
   "outputs": [],
   "source": [
    "-- Select the min and max of question_count\n",
    "SELECT MIN(question_count), \n",
    "       MAX(question_count)\n",
    "  -- From what table?\n",
    "  FROM stackoverflow\n",
    " -- For tag dropbox\n",
    " WHERE\n",
    "    tag = 'dropbox';"
   ]
  },
  {
   "cell_type": "markdown",
   "metadata": {},
   "source": [
    "- Next, use generate_series() to create bins of size 50 from 2200 to 3100.\n",
    "\n",
    "- To do this, you need an upper and lower bound to define a bin.\n",
    "\n",
    "- This will require you to modify the stopping value of the lower bound and the starting value of the upper bound by the bin width."
   ]
  },
  {
   "cell_type": "code",
   "execution_count": null,
   "metadata": {
    "vscode": {
     "languageId": "sql"
    }
   },
   "outputs": [],
   "source": [
    "-- Create lower and upper bounds of bins\n",
    "SELECT generate_series(2200, 3050, 50) AS lower,\n",
    "       generate_series(2250, 3100, 50) AS upper;"
   ]
  },
  {
   "cell_type": "markdown",
   "metadata": {},
   "source": [
    "- Select lower and upper from bins, along with the count of values within each bin bounds.\n",
    "\n",
    "- To do this, you'll need to join 'dropbox', which contains the question_count for tag \"dropbox\", to the bins created by generate_series().\n",
    "\n",
    "- The join should occur where the count is greater than or equal to the lower bound, and strictly less than the upper bound."
   ]
  },
  {
   "cell_type": "code",
   "execution_count": null,
   "metadata": {
    "vscode": {
     "languageId": "sql"
    }
   },
   "outputs": [],
   "source": [
    "-- Bins created in Step 2\n",
    "WITH bins AS (\n",
    "      SELECT generate_series(2200, 3050, 50) AS lower,\n",
    "             generate_series(2250, 3100, 50) AS upper),\n",
    "     -- Subset stackoverflow to just tag dropbox (Step 1)\n",
    "     dropbox AS (\n",
    "      SELECT question_count \n",
    "        FROM stackoverflow\n",
    "       WHERE tag='dropbox') \n",
    "-- Select columns for result\n",
    "-- What column are you counting to summarize?\n",
    "SELECT lower, upper, count(question_count) \n",
    "  FROM bins  -- Created above\n",
    "       -- Join to dropbox (created above), \n",
    "       -- keeping all rows from the bins table in the join\n",
    "       LEFT JOIN dropbox\n",
    "       -- Compare question_count to lower and upper\n",
    "         ON dropbox.question_count >= lower \n",
    "        AND dropbox.question_count < upper\n",
    " -- Group by lower and upper to count values in each bin\n",
    " GROUP BY lower, upper\n",
    " -- Order by lower to put bins in order\n",
    " ORDER BY lower;"
   ]
  },
  {
   "cell_type": "markdown",
   "metadata": {},
   "source": [
    "# Correlation\n",
    "\n",
    "What's the relationship between a company's revenue and its other financial attributes? Compute the correlation between revenues and other financial variables with the corr() function.\n",
    "\n",
    "# Instructions:\n",
    "\n",
    "- Compute the correlation between revenues and profits.\n",
    "- Compute the correlation between revenues and assets.\n",
    "- Compute the correlation between revenues and equity."
   ]
  },
  {
   "cell_type": "code",
   "execution_count": null,
   "metadata": {
    "vscode": {
     "languageId": "sql"
    }
   },
   "outputs": [],
   "source": [
    "-- Correlation between revenues and profit\n",
    "SELECT corr(revenues, profits) AS rev_profits,\n",
    "\t   -- Correlation between revenues and assets\n",
    "       corr(revenues, assets) AS rev_assets,\n",
    "       -- Correlation between revenues and equity\n",
    "       corr(revenues, equity) AS rev_equity \n",
    "  FROM fortune500;"
   ]
  },
  {
   "cell_type": "markdown",
   "metadata": {},
   "source": [
    "# Mean and Median\n",
    "\n",
    "Compute the mean (avg()) and median assets of Fortune 500 companies by sector.\n",
    "\n",
    "Use the percentile_disc() function to compute the median:\n",
    "\n",
    "percentile_disc(0.5) \n",
    "WITHIN GROUP (ORDER BY column_name)\n",
    "\n",
    "# Instructions:\n",
    "\n",
    "- Select the mean and median of assets.\n",
    "- Group by sector.\n",
    "- Order the results by the mean."
   ]
  },
  {
   "cell_type": "code",
   "execution_count": null,
   "metadata": {
    "vscode": {
     "languageId": "sql"
    }
   },
   "outputs": [],
   "source": [
    "-- What groups are you computing statistics by?\n",
    "SELECT sector,\n",
    "       -- Select the mean of assets with the avg function\n",
    "       AVG(assets) AS mean,\n",
    "       -- Select the median\n",
    "       PERCENTILE_DISC(0.5) WITHIN GROUP (ORDER BY assets) AS median\n",
    "  FROM fortune500\n",
    " -- Computing statistics for each what?\n",
    " GROUP BY sector\n",
    " -- Order results by a value of interest\n",
    " ORDER BY mean;"
   ]
  },
  {
   "cell_type": "markdown",
   "metadata": {},
   "source": [
    "# Create a temp table\n",
    "\n",
    "Find the Fortune 500 companies that have profits in the top 20% for their sector (compared to other Fortune 500 companies).\n",
    "\n",
    "To do this, first, find the 80th percentile of profit for each sector with\n",
    "\n",
    "percentile_disc(fraction) \n",
    "WITHIN GROUP (ORDER BY sort_expression)\n",
    "and save the results in a temporary table.\n",
    "\n",
    "Then join fortune500 to the temporary table to select companies with profits greater than the 80th percentile cut-off.\n",
    "\n",
    "# Instructions:\n",
    "\n",
    "- Create a temporary table called profit80 containing the sector and 80th percentile of profits for each sector.\n",
    "- Alias the percentile column as pct80."
   ]
  },
  {
   "cell_type": "code",
   "execution_count": null,
   "metadata": {
    "vscode": {
     "languageId": "sql"
    }
   },
   "outputs": [],
   "source": [
    "-- To clear table if it already exists;\n",
    "-- fill in name of temp table\n",
    "DROP TABLE IF EXISTS profit80;\n",
    "\n",
    "-- Create the temporary table\n",
    "CREATE TEMP TABLE profit80 AS \n",
    "  -- Select the two columns you need; alias as needed\n",
    "  SELECT sector, \n",
    "         PERCENTILE_DISC(0.8) WITHIN GROUP (ORDER BY profits) AS pct80\n",
    "    -- What table are you getting the data from?\n",
    "    FROM \n",
    "    fortune500\n",
    "   -- What do you need to group by?\n",
    "   GROUP BY \n",
    "    sector;\n",
    "   \n",
    "-- See what you created: select all columns and rows \n",
    "-- from the table you created\n",
    "SELECT * \n",
    "  FROM profit80;"
   ]
  },
  {
   "cell_type": "markdown",
   "metadata": {},
   "source": [
    "- Using the profit80 table you created in step 1, select companies that have profits greater than pct80.\n",
    "- Select the title, sector, profits from fortune500, as well as the ratio of the company's profits to the 80th percentile profit."
   ]
  },
  {
   "cell_type": "code",
   "execution_count": null,
   "metadata": {
    "vscode": {
     "languageId": "sql"
    }
   },
   "outputs": [],
   "source": [
    "-- Code from previous step\n",
    "DROP TABLE IF EXISTS profit80;\n",
    "\n",
    "CREATE TEMP TABLE profit80 AS\n",
    "  SELECT sector, \n",
    "         percentile_disc(0.8) WITHIN GROUP (ORDER BY profits) AS pct80\n",
    "    FROM fortune500 \n",
    "   GROUP BY sector;\n",
    "\n",
    "-- Select columns, aliasing as needed\n",
    "SELECT title, fortune500.sector, \n",
    "       profits, profits / pct80 AS ratio\n",
    "-- What tables do you need to join?  \n",
    "  FROM fortune500 \n",
    "       LEFT JOIN profit80 \n",
    "-- How are the tables joined?\n",
    "       ON fortune500.sector = profit80.sector\n",
    "-- What rows do you want to select?\n",
    " WHERE profits > pct80;"
   ]
  },
  {
   "cell_type": "markdown",
   "metadata": {},
   "source": [
    "# Create a temp table to simplify a query\n",
    "\n",
    "The Stack Overflow data contains daily question counts through 2018-09-25 for all tags, but each tag has a different starting date in the data.\n",
    "\n",
    "Find out how many questions had each tag on the first date for which data for the tag is available, as well as how many questions had the tag on the last day. Also, compute the difference between these two values.\n",
    "\n",
    "To do this, first compute the minimum date for each tag.\n",
    "\n",
    "Then use the minimum dates to select the question_count on both the first and last day. To do this, join the temp table startdates to two different copies of the stackoverflow table: one for each column - first day and last day - aliased with different names.\n",
    "\n",
    "# Instructions:\n",
    "\n",
    "- First, create a temporary table called startdates with each tag and the min() date for the tag in stackoverflow."
   ]
  },
  {
   "cell_type": "code",
   "execution_count": null,
   "metadata": {
    "vscode": {
     "languageId": "sql"
    }
   },
   "outputs": [],
   "source": [
    "-- To clear table if it already exists\n",
    "DROP TABLE IF EXISTS startdates;\n",
    "\n",
    "-- Create temp table syntax\n",
    "CREATE TEMP TABLE startdates AS\n",
    "-- Compute the minimum date for each what?\n",
    "SELECT tag,\n",
    "       MIN(date) AS mindate\n",
    "  FROM stackoverflow\n",
    " -- What do you need to compute the min date for each tag?\n",
    " GROUP BY\n",
    "    tag;\n",
    " \n",
    " -- Look at the table you created\n",
    " SELECT * \n",
    "   FROM startdates;"
   ]
  },
  {
   "cell_type": "markdown",
   "metadata": {},
   "source": [
    "- Join startdates to stackoverflow twice using different table aliases.\n",
    "- For each tag, select mindate, question_count on the mindate, and question_count on 2018-09-25 (the max date).\n",
    "- Compute the change in question_count over time."
   ]
  },
  {
   "cell_type": "code",
   "execution_count": null,
   "metadata": {
    "vscode": {
     "languageId": "sql"
    }
   },
   "outputs": [],
   "source": [
    "-- To clear table if it already exists\n",
    "DROP TABLE IF EXISTS startdates;\n",
    "\n",
    "CREATE TEMP TABLE startdates AS\n",
    "SELECT tag, min(date) AS mindate\n",
    "  FROM stackoverflow\n",
    " GROUP BY tag;\n",
    " \n",
    "-- Select tag (Remember the table name!) and mindate\n",
    "SELECT startdates.tag, \n",
    "       mindate, \n",
    "       -- Select question count on the min and max days\n",
    "\t   so_min.question_count AS min_date_question_count,\n",
    "       so_max.question_count AS max_date_question_count,\n",
    "       -- Compute the change in question_count (max- min)\n",
    "       so_max.question_count - so_min.question_count AS change\n",
    "  FROM startdates\n",
    "       -- Join startdates to stackoverflow with alias so_min\n",
    "       INNER JOIN stackoverflow  AS so_min\n",
    "          -- What needs to match between tables?\n",
    "          ON startdates.tag = so_min.tag\n",
    "         AND startdates.mindate = so_min.date\n",
    "       -- Join to stackoverflow again with alias so_max\n",
    "       INNER JOIN stackoverflow AS so_max\n",
    "       \t  -- Again, what needs to match between tables?\n",
    "          ON startdates.tag = so_max.tag\n",
    "         AND so_max.date = '2018-09-25';"
   ]
  },
  {
   "cell_type": "markdown",
   "metadata": {},
   "source": [
    "# Insert into a temp table\n",
    "\n",
    "While you can join the results of multiple similar queries together with UNION, sometimes it's easier to break a query down into steps. You can do this by creating a temporary table and inserting rows into it.\n",
    "\n",
    "Compute the correlations between each pair of profits, profits_change, and revenues_change from the Fortune 500 data.\n",
    "\n",
    "The resulting temporary table should have the following structure:\n",
    "\n",
    "measure\tprofits\tprofits_change\trevenues_change\n",
    "profits\t1.00\t#\t#\n",
    "profits_change\t#\t1.00\t#\n",
    "revenues_change\t#\t#\t1.00\n",
    "Recall the round() function to make the results more readable:\n",
    "\n",
    "round(column_name::numeric, decimal_places)\n",
    "Note that Steps 1 and 2 do not produce output. It is normal for the query result pane to say \"Your query did not generate any results.\"\n",
    "\n",
    "# Instructions:\n",
    "\n",
    "- Create a temp table correlations.\n",
    "\n",
    "- Compute the correlation between profits and each of the three variables (i.e. correlate profits with profits, profits with profits_change, etc).\n",
    "- Alias columns by the name of the variable for which the correlation with profits is being computed."
   ]
  },
  {
   "cell_type": "code",
   "execution_count": null,
   "metadata": {
    "vscode": {
     "languageId": "sql"
    }
   },
   "outputs": [],
   "source": [
    "DROP TABLE IF EXISTS correlations;\n",
    "\n",
    "-- Create temp table \n",
    "CREATE TEMP TABLE correlations AS\n",
    "-- Select each correlation\n",
    "SELECT 'profits'::varchar AS measure,\n",
    "       -- Compute correlations\n",
    "       corr(profits, profits) AS profits,\n",
    "       corr(profits, profits_change) AS profits_change,\n",
    "       corr(profits, revenues_change) AS revenues_change\n",
    "  FROM fortune500;"
   ]
  },
  {
   "cell_type": "markdown",
   "metadata": {},
   "source": [
    "- Insert rows into the correlations table for profits_change and revenues_change."
   ]
  },
  {
   "cell_type": "code",
   "execution_count": null,
   "metadata": {
    "vscode": {
     "languageId": "sql"
    }
   },
   "outputs": [],
   "source": [
    "DROP TABLE IF EXISTS correlations;\n",
    "\n",
    "CREATE TEMP TABLE correlations AS\n",
    "SELECT 'profits'::varchar AS measure,\n",
    "       corr(profits, profits) AS profits,\n",
    "       corr(profits, profits_change) AS profits_change,\n",
    "       corr(profits, revenues_change) AS revenues_change\n",
    "  FROM fortune500;\n",
    "\n",
    "-- Add a row for profits_change\n",
    "-- Insert into what table?\n",
    "INSERT INTO correlations\n",
    "-- Follow the pattern of the select statement above\n",
    "-- Using profits_change instead of profits\n",
    "SELECT 'profits_change'::varchar AS measure,\n",
    "       corr(profits_change, profits) AS profits,\n",
    "       corr(profits_change, profits_change) AS profits_change,\n",
    "       corr(profits_change, revenues_change) AS revenues_change\n",
    "  FROM fortune500;\n",
    "\n",
    "-- Repeat the above, but for revenues_change\n",
    "INSERT INTO correlations\n",
    "SELECT 'revenues_change'::varchar AS measure,\n",
    "       corr(revenues_change, profits) AS profits,\n",
    "       corr(revenues_change, profits_change) AS profits_change,\n",
    "       corr(revenues_change, revenues_change) AS revenues_change\n",
    "  FROM fortune500;"
   ]
  },
  {
   "cell_type": "markdown",
   "metadata": {},
   "source": [
    "- Select all rows and columns from the correlations table to view the correlation matrix.\n",
    "\n",
    "- First, you will need to round each correlation to 2 decimal places.\n",
    "- The output of corr() is of type double precision, so you will need to also cast columns to numeric."
   ]
  },
  {
   "cell_type": "code",
   "execution_count": null,
   "metadata": {
    "vscode": {
     "languageId": "sql"
    }
   },
   "outputs": [],
   "source": [
    "DROP TABLE IF EXISTS correlations;\n",
    "\n",
    "CREATE TEMP TABLE correlations AS\n",
    "SELECT 'profits'::varchar AS measure,\n",
    "       corr(profits, profits) AS profits,\n",
    "       corr(profits, profits_change) AS profits_change,\n",
    "       corr(profits, revenues_change) AS revenues_change\n",
    "  FROM fortune500;\n",
    "\n",
    "INSERT INTO correlations\n",
    "SELECT 'profits_change'::varchar AS measure,\n",
    "       corr(profits_change, profits) AS profits,\n",
    "       corr(profits_change, profits_change) AS profits_change,\n",
    "       corr(profits_change, revenues_change) AS revenues_change\n",
    "  FROM fortune500;\n",
    "\n",
    "INSERT INTO correlations\n",
    "SELECT 'revenues_change'::varchar AS measure,\n",
    "       corr(revenues_change, profits) AS profits,\n",
    "       corr(revenues_change, profits_change) AS profits_change,\n",
    "       corr(revenues_change, revenues_change) AS revenues_change\n",
    "  FROM fortune500;\n",
    "\n",
    "-- Select each column, rounding the correlations\n",
    "SELECT measure, \n",
    "       ROUND(profits::numeric, 2) AS profits,\n",
    "       ROUND(profits_change::numeric, 2) AS profits_change,\n",
    "       ROUND(revenues_change::numeric, 2) AS revenues_change\n",
    "  FROM correlations;"
   ]
  }
 ],
 "metadata": {
  "language_info": {
   "name": "python"
  }
 },
 "nbformat": 4,
 "nbformat_minor": 2
}
