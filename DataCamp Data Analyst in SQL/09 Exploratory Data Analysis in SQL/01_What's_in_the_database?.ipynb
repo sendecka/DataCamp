{
 "cells": [
  {
   "cell_type": "markdown",
   "metadata": {},
   "source": [
    "# 1 What's in the database?\n",
    "\n",
    "Start exploring a database by identifying the tables and the foreign keys that link them. Look for missing values, count the number of observations, and join tables to understand how they're related. Learn about coalescing and casting data along the way."
   ]
  },
  {
   "cell_type": "markdown",
   "metadata": {},
   "source": [
    "# Explore table sizes\n",
    "\n",
    "Let's start by exploring five related tables:\n",
    "\n",
    "stackoverflow: questions asked on Stack Overflow with certain tags\n",
    "company: information on companies related to tags in stackoverflow\n",
    "tag_company: links stackoverflow to company\n",
    "tag_type: type categories applied to tags in stackoverflow\n",
    "fortune500: information on top US companies\n",
    "Count the number of rows in a table with\n",
    "\n",
    "SELECT count(*) \n",
    "  FROM tablename;\n",
    "Count the number of columns in a table by selecting a few rows and manually counting the columns in the result.\n",
    "\n",
    "## Which table has the most rows? Which table has the most columns?"
   ]
  },
  {
   "cell_type": "markdown",
   "metadata": {},
   "source": [
    "## Possible answers\n",
    "\n",
    "( ) stackoverflow has the most rows; company has the most columns\n",
    "\n",
    "( ) tag_company has the most rows; company has the most columns\n",
    "\n",
    "( ) stackoverflow has the most rows; fortune500 has the most columns\n",
    "\n",
    "( ) tag_type has the most rows; fortune500 has the most columns"
   ]
  },
  {
   "cell_type": "markdown",
   "metadata": {},
   "source": [
    "# Count missing values\n",
    "\n",
    "Which column of fortune500 has the most missing values? To find out, you'll need to check each column individually, although here we'll check just three.\n",
    "\n",
    "Course Note: While you're unlikely to encounter this issue during this exercise, note that if you run a query that takes more than a few seconds to execute, your session may expire or you may be disconnected from the server. You will not have this issue with any of the exercise solutions, so if your session expires or disconnects, there's an error with your query."
   ]
  },
  {
   "cell_type": "markdown",
   "metadata": {},
   "source": [
    "# Instructions:\n",
    "\n",
    "- First, figure out how many rows are in fortune500 by counting them."
   ]
  },
  {
   "cell_type": "code",
   "execution_count": null,
   "metadata": {
    "vscode": {
     "languageId": "sql"
    }
   },
   "outputs": [],
   "source": [
    "-- Select the count of the number of rows\n",
    "SELECT COUNT(*)\n",
    "  FROM fortune500;"
   ]
  },
  {
   "cell_type": "markdown",
   "metadata": {},
   "source": [
    "- Subtract the count of the non-NULL ticker values from the total number of rows; alias the difference as missing."
   ]
  },
  {
   "cell_type": "code",
   "execution_count": null,
   "metadata": {
    "vscode": {
     "languageId": "sql"
    }
   },
   "outputs": [],
   "source": [
    "-- Select the count of ticker, \n",
    "-- subtract from the total number of rows, \n",
    "-- and alias as missing\n",
    "SELECT count(*) - count(ticker) AS missing\n",
    "  FROM fortune500;"
   ]
  },
  {
   "cell_type": "markdown",
   "metadata": {},
   "source": [
    "- Repeat for the profits_change column."
   ]
  },
  {
   "cell_type": "code",
   "execution_count": null,
   "metadata": {
    "vscode": {
     "languageId": "sql"
    }
   },
   "outputs": [],
   "source": [
    "-- Select the count of profits_change, \n",
    "-- subtract from total number of rows, and alias as missing\n",
    "SELECT count(*) - count(profits_change) AS missing\n",
    "  FROM fortune500;"
   ]
  },
  {
   "cell_type": "markdown",
   "metadata": {},
   "source": [
    "- Repeat for the industry column."
   ]
  },
  {
   "cell_type": "code",
   "execution_count": null,
   "metadata": {
    "vscode": {
     "languageId": "sql"
    }
   },
   "outputs": [],
   "source": [
    "-- Select the count of industry, \n",
    "-- subtract from total number of rows, and alias as missing\n",
    "SELECT count(*) - count(industry) AS missing\n",
    "  FROM fortune500;"
   ]
  },
  {
   "cell_type": "markdown",
   "metadata": {},
   "source": [
    "# Join tables\n",
    "Part of exploring a database is figuring out how tables relate to each other. The company and fortune500 tables don't have a formal relationship between them in the database, but this doesn't prevent you from joining them.\n",
    "\n",
    "To join the tables, you need to find a column that they have in common where the values are consistent across the tables. Remember: just because two tables have a column with the same name, it doesn't mean those columns necessarily contain compatible data. If you find more than one pair of columns with similar data, you may need to try joining with each in turn to see if you get the same number of results.\n",
    "\n",
    "Reference the entity relationship diagram if needed."
   ]
  },
  {
   "cell_type": "markdown",
   "metadata": {},
   "source": [
    "# Instructions:\n",
    "\n",
    "- Look at the contents of the company and fortune500 tables. Find a column that they have in common where the values for each company are the same in both tables.\n",
    "- Join the company and fortune500 tables with an INNER JOIN.\n",
    "- Select only company.name for companies that appear in both tables."
   ]
  },
  {
   "cell_type": "code",
   "execution_count": null,
   "metadata": {
    "vscode": {
     "languageId": "sql"
    }
   },
   "outputs": [],
   "source": [
    "SELECT company.name\n",
    "-- Table(s) to select from\n",
    "  FROM company\n",
    "       INNER  JOIN fortune500\n",
    "       ON company.ticker=fortune500.ticker;"
   ]
  },
  {
   "cell_type": "markdown",
   "metadata": {},
   "source": [
    "# Foreign keys\n",
    "\n",
    "Recall that foreign keys reference another row in the database via a unique ID. Values in a foreign key column are restricted to values in the referenced column OR NULL.\n",
    "\n",
    "Using what you know about foreign keys, why can't the tag column in the tag_type table be a foreign key that references the tag column in the stackoverflow table?\n",
    "\n",
    "Remember, you can reference the slides using the icon in the upper right of the screen to review the requirements for a foreign key."
   ]
  },
  {
   "cell_type": "markdown",
   "metadata": {},
   "source": [
    "# Possible answers\n",
    "\n",
    "( ) stackoverflow.tag is not a primary key\n",
    "\n",
    "( ) tag_type.tag contains NULL values\n",
    "\n",
    "(x) stackoverflow.tag contains duplicate values\n",
    "\n",
    "( ) tag_type.tag does not contain all the values in stackoverflow.tag"
   ]
  },
  {
   "cell_type": "markdown",
   "metadata": {},
   "source": [
    "# Read an entity relationship diagram\n",
    "\n",
    "The information you need is sometimes split across multiple tables in the database.\n",
    "\n",
    "What is the most common stackoverflow tag_type? What companies have a tag of that type?\n",
    "\n",
    "To generate a list of such companies, you'll need to join three tables together.\n",
    "\n",
    "Reference the entity relationship diagram as needed when determining which columns to use when joining tables."
   ]
  },
  {
   "cell_type": "markdown",
   "metadata": {},
   "source": [
    "# Instructions:\n",
    "\n",
    "- First, using the tag_type table, count the number of tags with each type.\n",
    "- Order the results to find the most common tag type."
   ]
  },
  {
   "cell_type": "code",
   "execution_count": null,
   "metadata": {
    "vscode": {
     "languageId": "sql"
    }
   },
   "outputs": [],
   "source": [
    "-- Count the number of tags with each type\n",
    "SELECT type, COUNT(*) AS count\n",
    "  FROM tag_type\n",
    " -- To get the count for each type, what do you need to do?\n",
    " GROUP BY type\n",
    " -- Order the results with the most common\n",
    " -- tag types listed first\n",
    " ORDER BY count DESC;"
   ]
  },
  {
   "cell_type": "markdown",
   "metadata": {},
   "source": [
    "- Join the tag_company, company, and tag_type tables, keeping only mutually occurring records.\n",
    "- Select company.name, tag_type.tag, and tag_type.type for tags with the most common type from the previous step."
   ]
  },
  {
   "cell_type": "code",
   "execution_count": null,
   "metadata": {
    "vscode": {
     "languageId": "sql"
    }
   },
   "outputs": [],
   "source": [
    "-- Select the 3 columns desired\n",
    "SELECT name, tag_type.tag, tag_type.type\n",
    "  FROM company\n",
    "  \t   -- Join to the tag_company table\n",
    "       INNER JOIN tag_company \n",
    "       ON company.id = tag_company.company_id\n",
    "       -- Join to the tag_type table\n",
    "       Inner JOIN tag_type\n",
    "       ON tag_company.tag = tag_type.tag\n",
    "  -- Filter to most common type\n",
    "  WHERE type='cloud';"
   ]
  },
  {
   "cell_type": "markdown",
   "metadata": {},
   "source": [
    "# Coalesce\n",
    "\n",
    "The coalesce() function can be useful for specifying a default or backup value when a column contains NULL values.\n",
    "\n",
    "coalesce() checks arguments in order and returns the first non-NULL value, if one exists.\n",
    "\n",
    "coalesce(NULL, 1, 2) = 1\n",
    "coalesce(NULL, NULL) = NULL\n",
    "coalesce(2, 3, NULL) = 2\n",
    "In the fortune500 data, industry contains some missing values. Use coalesce() to use the value of sector as the industry when industry is NULL. Then find the most common industry.\n",
    "\n",
    "# Instructions:\n",
    "\n",
    "- Use coalesce() to select the first non-NULL value from industry, sector, or 'Unknown' as a fallback value.\n",
    "- Alias the result of the call to coalesce() as industry2.\n",
    "- Count the number of rows with each industry2 value.\n",
    "- Find the most common value of industry2."
   ]
  },
  {
   "cell_type": "code",
   "execution_count": null,
   "metadata": {
    "vscode": {
     "languageId": "sql"
    }
   },
   "outputs": [],
   "source": [
    "-- Use coalesce\n",
    "SELECT COALESCE(industry, sector, 'Unknown') AS industry2,\n",
    "       -- Don't forget to count!\n",
    "       COUNT(*) AS count \n",
    "  FROM fortune500 \n",
    "-- Group by what? (What are you counting by?)\n",
    " GROUP BY industry2\n",
    "-- Order results to see most common first\n",
    " ORDER BY count DESC\n",
    "-- Limit results to get just the one value you want\n",
    " LIMIT 1;"
   ]
  },
  {
   "cell_type": "markdown",
   "metadata": {},
   "source": [
    "# Coalesce with a self-join\n",
    "\n",
    "You previously joined the company and fortune500 tables to find out which companies are in both tables. Now, also include companies from company that are subsidiaries of Fortune 500 companies as well.\n",
    "\n",
    "To include subsidiaries, you will need to join company to itself to associate a subsidiary with its parent company's information. To do this self-join, use two different aliases for company.\n",
    "\n",
    "coalesce will help you combine the two ticker columns in the result of the self-join to join to fortune500.\n",
    "\n",
    "# Instructions:\n",
    "\n",
    "- Join company to itself to add information about a company's parent to the original company's information.\n",
    "- Use coalesce to get the parent company ticker if available and the original company ticker otherwise.\n",
    "- INNER JOIN to fortune500 using the ticker.\n",
    "- Select original company name, fortune500 title and rank."
   ]
  },
  {
   "cell_type": "code",
   "execution_count": null,
   "metadata": {
    "vscode": {
     "languageId": "sql"
    }
   },
   "outputs": [],
   "source": [
    "SELECT company_original.___, ___, ___\n",
    "  -- Start with original company information\n",
    "  FROM ___ AS company_original\n",
    "       -- Join to another copy of company with parent\n",
    "       -- company information\n",
    "\t   LEFT JOIN ___ AS company_parent\n",
    "       ON company_original.___ = company_parent.___ \n",
    "       -- Join to fortune500, only keep rows that match\n",
    "       ___ JOIN fortune500 \n",
    "       -- Use parent ticker if there is one, \n",
    "       -- otherwise original ticker\n",
    "       ON coalesce(___.ticker, \n",
    "                   ___.ticker) = \n",
    "             fortune500.ticker\n",
    " -- For clarity, order by rank\n",
    " ORDER BY rank; "
   ]
  },
  {
   "cell_type": "markdown",
   "metadata": {},
   "source": [
    "# Effects of casting\n",
    "When you cast data from one type to another, information can be lost or changed. See how the casting changes values and practice casting data using the CAST() function and the :: syntax.\n",
    "\n",
    "SELECT CAST(value AS new_type);\n",
    "\n",
    "SELECT value::new_type;\n",
    "\n",
    "# Instructions:\n",
    "\n",
    "- Select profits_change and profits_change cast as integer from fortune500.\n",
    "- Look at how the values were converted."
   ]
  },
  {
   "cell_type": "code",
   "execution_count": null,
   "metadata": {
    "vscode": {
     "languageId": "sql"
    }
   },
   "outputs": [],
   "source": [
    "-- Select the original value\n",
    "SELECT profits_change, \n",
    "\t   -- Cast profits_change\n",
    "       CAST(profits_change AS INTEGER) AS profits_change_int\n",
    "  FROM fortune500;"
   ]
  },
  {
   "cell_type": "markdown",
   "metadata": {},
   "source": [
    "- Compare the results of casting of dividing the integer value 10 by 3 to the result of dividing the numeric value 10 by 3."
   ]
  },
  {
   "cell_type": "code",
   "execution_count": null,
   "metadata": {
    "vscode": {
     "languageId": "sql"
    }
   },
   "outputs": [],
   "source": [
    "-- Divide 10 by 3\n",
    "SELECT 10 / 3, \n",
    "       -- Cast 10 as numeric and divide by 3\n",
    "       10::numeric/3;"
   ]
  },
  {
   "cell_type": "markdown",
   "metadata": {},
   "source": [
    "- Now cast numbers that appear as text as numeric.\n",
    "- Note: 1e3 is scientific notation."
   ]
  },
  {
   "cell_type": "code",
   "execution_count": null,
   "metadata": {
    "vscode": {
     "languageId": "sql"
    }
   },
   "outputs": [],
   "source": [
    "SELECT '3.2'::numeric,\n",
    "       '-123'::numeric,\n",
    "       '1e3'::numeric,\n",
    "       '1e-3'::numeric,\n",
    "       '02314'::numeric,\n",
    "       '0002'::numeric;"
   ]
  },
  {
   "cell_type": "markdown",
   "metadata": {},
   "source": [
    "# Summarize the distribution of numeric values\n",
    "\n",
    "Was 2017 a good or bad year for revenue of Fortune 500 companies? Examine how revenue changed from 2016 to 2017 by first looking at the distribution of revenues_change and then counting companies whose revenue increased.\n",
    "\n",
    "# Instructions:\n",
    "\n",
    "- Use GROUP BY and count() to examine the values of revenues_change.\n",
    "- Order the results by revenues_change to see the distribution."
   ]
  },
  {
   "cell_type": "code",
   "execution_count": null,
   "metadata": {
    "vscode": {
     "languageId": "sql"
    }
   },
   "outputs": [],
   "source": [
    "-- Select the count of each value of revenues_change\n",
    "SELECT revenues_change, COUNT(*)\n",
    "  FROM fortune500\n",
    " GROUP BY revenues_change\n",
    " -- order by the values of revenues_change\n",
    " ORDER BY revenues_change;"
   ]
  },
  {
   "cell_type": "markdown",
   "metadata": {},
   "source": [
    "- Repeat step 1, but this time, cast revenues_change as an integer to reduce the number of different values."
   ]
  },
  {
   "cell_type": "code",
   "execution_count": null,
   "metadata": {
    "vscode": {
     "languageId": "sql"
    }
   },
   "outputs": [],
   "source": [
    "-- Select the count of each revenues_change integer value\n",
    "SELECT revenues_change::integer, count(*) \n",
    "  FROM fortune500\n",
    " GROUP BY revenues_change::integer \n",
    " -- order by the values of revenues_change\n",
    " ORDER BY revenues_change;"
   ]
  },
  {
   "cell_type": "markdown",
   "metadata": {},
   "source": [
    "- How many of the Fortune 500 companies had revenues increase in 2017 compared to 2016? To find out, count the rows of fortune500 where revenues_change indicates an increase."
   ]
  },
  {
   "cell_type": "code",
   "execution_count": null,
   "metadata": {
    "vscode": {
     "languageId": "sql"
    }
   },
   "outputs": [],
   "source": [
    "-- Count rows \n",
    "SELECT COUNT(*)\n",
    "  FROM fortune500\n",
    " -- Where...\n",
    " WHERE revenues_change > 0;"
   ]
  }
 ],
 "metadata": {
  "language_info": {
   "name": "python"
  }
 },
 "nbformat": 4,
 "nbformat_minor": 2
}
