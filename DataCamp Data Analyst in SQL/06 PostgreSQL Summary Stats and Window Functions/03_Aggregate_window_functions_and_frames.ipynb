{
 "cells": [
  {
   "cell_type": "markdown",
   "metadata": {},
   "source": [
    "# 3 Aggregate window functions and frames\n",
    "\n",
    "In this chapter, you'll learn how to use aggregate functions you're familiar with, like `AVG()` and `SUM()`, as window functions, as well as how to define frames to change a window function's output."
   ]
  },
  {
   "cell_type": "markdown",
   "metadata": {},
   "source": [
    "# Running totals of athlete medals\n",
    "\n",
    "The running total (or cumulative sum) of a column helps you determine what each row's contribution is to the total sum.\n",
    "\n",
    "# Instructions:\n",
    "\n",
    "- Return the athletes, the number of medals they earned, and the medals running total, ordered by the athletes' names in alphabetical order."
   ]
  },
  {
   "cell_type": "code",
   "execution_count": null,
   "metadata": {
    "vscode": {
     "languageId": "sql"
    }
   },
   "outputs": [],
   "source": [
    "WITH Athlete_Medals AS (\n",
    "  SELECT\n",
    "    Athlete, COUNT(*) AS Medals\n",
    "  FROM Summer_Medals\n",
    "  WHERE\n",
    "    Country = 'USA' AND Medal = 'Gold'\n",
    "    AND Year >= 2000\n",
    "  GROUP BY Athlete)\n",
    "\n",
    "SELECT\n",
    "  -- Calculate the running total of athlete medals\n",
    "  Athlete,\n",
    "  Medals,\n",
    "  SUM(Medals) OVER (ORDER BY Athlete ASC) AS Max_Medals\n",
    "FROM Athlete_Medals\n",
    "ORDER BY Athlete ASC;"
   ]
  },
  {
   "cell_type": "markdown",
   "metadata": {},
   "source": [
    "# Maximum country medals by year\n",
    "\n",
    "Getting the maximum of a country's earned medals so far helps you determine whether a country has broken its medals record by comparing the current year's earned medals and the maximum so far.\n",
    "\n",
    "# Instructions:\n",
    "\n",
    "- Return the year, country, medals, and the maximum medals earned so far for each country, ordered by year in ascending order."
   ]
  },
  {
   "cell_type": "code",
   "execution_count": null,
   "metadata": {
    "vscode": {
     "languageId": "sql"
    }
   },
   "outputs": [],
   "source": [
    "WITH Country_Medals AS (\n",
    "  SELECT\n",
    "    Year, Country, COUNT(*) AS Medals\n",
    "  FROM Summer_Medals\n",
    "  WHERE\n",
    "    Country IN ('CHN', 'KOR', 'JPN')\n",
    "    AND Medal = 'Gold' AND Year >= 2000\n",
    "  GROUP BY Year, Country)\n",
    "\n",
    "SELECT\n",
    "  -- Return the max medals earned so far per country\n",
    "  Year,\n",
    "  Country,\n",
    "  Medals,\n",
    "  MAX(Medals) OVER (PARTITION BY Country\n",
    "                ORDER BY Year ASC) AS Max_Medals\n",
    "FROM Country_Medals\n",
    "ORDER BY Country ASC, Year ASC;"
   ]
  },
  {
   "cell_type": "markdown",
   "metadata": {},
   "source": [
    "# Minimum country medals by year\n",
    "\n",
    "So far, you've seen MAX and SUM, aggregate functions normally used with GROUP BY, being used as window functions. You can also use the other aggregate functions, like MIN, as window functions.\n",
    "\n",
    "# Instructions:\n",
    "\n",
    "- Return the year, medals earned, and minimum medals earned so far."
   ]
  },
  {
   "cell_type": "code",
   "execution_count": null,
   "metadata": {
    "vscode": {
     "languageId": "sql"
    }
   },
   "outputs": [],
   "source": [
    "WITH France_Medals AS (\n",
    "  SELECT\n",
    "    Year, COUNT(*) AS Medals\n",
    "  FROM Summer_Medals\n",
    "  WHERE\n",
    "    Country = 'FRA'\n",
    "    AND Medal = 'Gold' AND Year >= 2000\n",
    "  GROUP BY Year)\n",
    "\n",
    "SELECT\n",
    "  Year,\n",
    "  Medals,\n",
    "  MIN(Medals) OVER (ORDER BY Year ASC) AS Min_Medals\n",
    "FROM France_Medals\n",
    "ORDER BY Year ASC;"
   ]
  },
  {
   "cell_type": "markdown",
   "metadata": {},
   "source": [
    "# Moving maximum of Scandinavian athletes' medals\n",
    "\n",
    "Frames allow you to restrict the rows passed as input to your window function to a sliding window for you to define the start and finish.\n",
    "\n",
    "Adding a frame to your window function allows you to calculate \"moving\" metrics, inputs of which slide from row to row.\n",
    "\n",
    "# Instructions:\n",
    "\n",
    "- Return the year, medals earned, and the maximum medals earned, comparing only the current year and the next year."
   ]
  },
  {
   "cell_type": "code",
   "execution_count": null,
   "metadata": {
    "vscode": {
     "languageId": "sql"
    }
   },
   "outputs": [],
   "source": [
    "WITH Scandinavian_Medals AS (\n",
    "  SELECT\n",
    "    Year, COUNT(*) AS Medals\n",
    "  FROM Summer_Medals\n",
    "  WHERE\n",
    "    Country IN ('DEN', 'NOR', 'FIN', 'SWE', 'ISL')\n",
    "    AND Medal = 'Gold'\n",
    "  GROUP BY Year)\n",
    "\n",
    "SELECT\n",
    "  -- Select each year's medals\n",
    "  Year,\n",
    "  Medals,\n",
    "  -- Get the max of the current and next years'  medals\n",
    "  MAX(Medals) OVER (ORDER BY Year ASC\n",
    "             ROWS BETWEEN CURRENT ROW\n",
    "             AND 1 FOLLOWING) AS Max_Medals\n",
    "FROM Scandinavian_Medals\n",
    "ORDER BY Year ASC;"
   ]
  },
  {
   "cell_type": "markdown",
   "metadata": {},
   "source": [
    "# Moving maximum of Chinese athletes' medals\n",
    "\n",
    "Frames allow you to \"peek\" forwards or backward without first using the relative fetching functions, LAG and LEAD, to fetch previous rows' values into the current row.\n",
    "\n",
    "# Instructions:\n",
    "\n",
    "- Return the athletes, medals earned, and the maximum medals earned, comparing only the last two and current athletes, ordering by athletes' names in alphabetical order."
   ]
  },
  {
   "cell_type": "code",
   "execution_count": null,
   "metadata": {
    "vscode": {
     "languageId": "sql"
    }
   },
   "outputs": [],
   "source": [
    "WITH Chinese_Medals AS (\n",
    "  SELECT\n",
    "    Athlete, COUNT(*) AS Medals\n",
    "  FROM Summer_Medals\n",
    "  WHERE\n",
    "    Country = 'CHN' AND Medal = 'Gold'\n",
    "    AND Year >= 2000\n",
    "  GROUP BY Athlete)\n",
    "\n",
    "SELECT\n",
    "  -- Select the athletes and the medals they've earned\n",
    "  Athlete,\n",
    "  Medals,\n",
    "  -- Get the max of the last two and current rows' medals \n",
    "  MAX(Medals) OVER (ORDER BY Athlete ASC\n",
    "            ROWS BETWEEN 2 PRECEDING\n",
    "            AND CURRENT ROW) AS Max_Medals\n",
    "FROM Chinese_Medals\n",
    "ORDER BY Athlete ASC;"
   ]
  },
  {
   "cell_type": "markdown",
   "metadata": {},
   "source": [
    "# Moving average of Russian medals\n",
    "\n",
    "Using frames with aggregate window functions allow you to calculate many common metrics, including moving averages and totals. These metrics track the change in performance over time.\n",
    "\n",
    "# Instructions:\n",
    "\n",
    "- Calculate the 3-year moving average of medals earned.\n",
    "\n"
   ]
  },
  {
   "cell_type": "code",
   "execution_count": null,
   "metadata": {
    "vscode": {
     "languageId": "sql"
    }
   },
   "outputs": [],
   "source": [
    "WITH Russian_Medals AS (\n",
    "  SELECT\n",
    "    Year, COUNT(*) AS Medals\n",
    "  FROM Summer_Medals\n",
    "  WHERE\n",
    "    Country = 'RUS'\n",
    "    AND Medal = 'Gold'\n",
    "    AND Year >= 1980\n",
    "  GROUP BY Year)\n",
    "\n",
    "SELECT\n",
    "  Year, Medals,\n",
    "  --- Calculate the 3-year moving average of medals earned\n",
    "  AVG(Medals) OVER\n",
    "    (ORDER BY Year ASC\n",
    "     ROWS BETWEEN\n",
    "     2 PRECEDING AND CURRENT ROW) AS Medals_MA\n",
    "FROM Russian_Medals\n",
    "ORDER BY Year ASC;"
   ]
  },
  {
   "cell_type": "markdown",
   "metadata": {},
   "source": [
    "# Moving total of countries' medals\n",
    "\n",
    "What if your data is split into multiple groups spread over one or more columns in the table? Even with a defined frame, if you can't somehow separate the groups' data, one group's values will affect the average of another group's values.\n",
    "\n",
    "# Instructions:\n",
    "\n",
    "- Calculate the 3-year moving sum of medals earned per country."
   ]
  },
  {
   "cell_type": "code",
   "execution_count": null,
   "metadata": {
    "vscode": {
     "languageId": "sql"
    }
   },
   "outputs": [],
   "source": [
    "WITH Country_Medals AS (\n",
    "  SELECT\n",
    "    Year, Country, COUNT(*) AS Medals\n",
    "  FROM Summer_Medals\n",
    "  GROUP BY Year, Country)\n",
    "\n",
    "SELECT\n",
    "  Year, Country, Medals,\n",
    "  -- Calculate each country's 3-game moving total\n",
    "  SUM(Medals) OVER\n",
    "    (PARTITION BY Country\n",
    "     ORDER BY Year ASC\n",
    "     ROWS BETWEEN\n",
    "     2 PRECEDING AND CURRENT ROW) AS Medals_MA\n",
    "FROM Country_Medals\n",
    "ORDER BY Country ASC, Year ASC;"
   ]
  }
 ],
 "metadata": {
  "language_info": {
   "name": "python"
  }
 },
 "nbformat": 4,
 "nbformat_minor": 2
}
