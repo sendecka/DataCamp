{
 "cells": [
  {
   "cell_type": "markdown",
   "metadata": {},
   "source": [
    "# 2 Fetching, ranking, and paging\n",
    "\n",
    "In this chapter, you'll learn three practical applications of window functions: fetching values from different parts of the table, ranking rows according to their values, and binning rows into different tables."
   ]
  },
  {
   "cell_type": "markdown",
   "metadata": {},
   "source": [
    "# Future gold medalists\n",
    "\n",
    "Fetching functions allow you to get values from different parts of the table into one row. If you have time-ordered data, you can \"peek into the future\" with the LEAD fetching function. This is especially useful if you want to compare a current value to a future value.\n",
    "\n",
    "# Instructions:\n",
    "\n",
    "- For each year, fetch the current gold medalist and the gold medalist 3 competitions ahead of the current row."
   ]
  },
  {
   "cell_type": "code",
   "execution_count": null,
   "metadata": {
    "vscode": {
     "languageId": "sql"
    }
   },
   "outputs": [],
   "source": [
    "WITH Discus_Medalists AS (\n",
    "  SELECT DISTINCT\n",
    "    Year,\n",
    "    Athlete\n",
    "  FROM Summer_Medals\n",
    "  WHERE Medal = 'Gold'\n",
    "    AND Event = 'Discus Throw'\n",
    "    AND Gender = 'Women'\n",
    "    AND Year >= 2000)\n",
    "\n",
    "SELECT\n",
    "  -- For each year, fetch the current and future medalists\n",
    "  Year,\n",
    "  Athlete,\n",
    "  LEAD(Athlete, 3) OVER (ORDER BY year ASC) AS Future_Champion\n",
    "FROM Discus_Medalists\n",
    "ORDER BY Year ASC;"
   ]
  },
  {
   "cell_type": "markdown",
   "metadata": {},
   "source": [
    "# First athlete by name\n",
    "\n",
    "It's often useful to get the first or last value in a dataset to compare all other values to it. With absolute fetching functions like FIRST_VALUE, you can fetch a value at an absolute position in the table, like its beginning or end.\n",
    "\n",
    "# Instructions:\n",
    "\n",
    "- Return all athletes and the first athlete ordered by alphabetical order."
   ]
  },
  {
   "cell_type": "markdown",
   "metadata": {},
   "source": [
    "# Last country by name\n",
    "\n",
    "Just like you can get the first row's value in a dataset, you can get the last row's value. This is often useful when you want to compare the most recent value to previous values.\n",
    "\n",
    "# Instructions:\n",
    "\n",
    "- Return the year and the city in which each Olympic games were held.\n",
    "- Fetch the last city in which the Olympic games were held."
   ]
  },
  {
   "cell_type": "code",
   "execution_count": null,
   "metadata": {
    "vscode": {
     "languageId": "sql"
    }
   },
   "outputs": [],
   "source": [
    "WITH Hosts AS (\n",
    "  SELECT DISTINCT Year, City\n",
    "    FROM Summer_Medals)\n",
    "\n",
    "SELECT\n",
    "  Year,\n",
    "  City,\n",
    "  -- Get the last city in which the Olympic games were held\n",
    "  LAST_VALUE(City) OVER (\n",
    "   ORDER BY Year ASC\n",
    "   RANGE BETWEEN\n",
    "     UNBOUNDED PRECEDING AND\n",
    "     UNBOUNDED FOLLOWING\n",
    "  ) AS Last_City\n",
    "FROM Hosts\n",
    "ORDER BY Year ASC;"
   ]
  },
  {
   "cell_type": "markdown",
   "metadata": {},
   "source": [
    "# Ranking athletes by medals earned\n",
    "\n",
    "In chapter 1, you used ROW_NUMBER to rank athletes by awarded medals. However, ROW_NUMBER assigns different numbers to athletes with the same count of awarded medals, so it's not a useful ranking function; if two athletes earned the same number of medals, they should have the same rank.\n",
    "\n",
    "# Instructions:\n",
    "\n",
    "- Rank each athlete by the number of medals they've earned -- the higher the count, the higher the rank -- with identical numbers in case of identical values."
   ]
  },
  {
   "cell_type": "code",
   "execution_count": null,
   "metadata": {
    "vscode": {
     "languageId": "sql"
    }
   },
   "outputs": [],
   "source": [
    "WITH Athlete_Medals AS (\n",
    "  SELECT\n",
    "    Athlete,\n",
    "    COUNT(*) AS Medals\n",
    "  FROM Summer_Medals\n",
    "  GROUP BY Athlete)\n",
    "\n",
    "SELECT\n",
    "  Athlete,\n",
    "  Medals,\n",
    "  -- Rank athletes by the medals they've won\n",
    "  RANK() OVER (ORDER BY Medals DESC) AS Rank_N\n",
    "FROM Athlete_Medals\n",
    "ORDER BY Medals DESC;"
   ]
  },
  {
   "cell_type": "markdown",
   "metadata": {},
   "source": [
    "# Ranking athletes from multiple countries\n",
    "\n",
    "In the previous exercise, you used RANK to assign rankings to one group of athletes. In real-world data, however, you'll often find numerous groups within your data. Without partitioning your data, one group's values will influence the rankings of the others.\n",
    "\n",
    "Also, while RANK skips numbers in case of identical values, the most natural way to assign rankings is not to skip numbers. If two countries are tied for second place, the country after them is considered to be third by most people.\n",
    "\n",
    "# Instructions:\n",
    "\n",
    "- Rank each country's athletes by the count of medals they've earned -- the higher the count, the higher the rank -- without skipping numbers in case of identical values."
   ]
  },
  {
   "cell_type": "code",
   "execution_count": null,
   "metadata": {
    "vscode": {
     "languageId": "sql"
    }
   },
   "outputs": [],
   "source": [
    "WITH Athlete_Medals AS (\n",
    "  SELECT\n",
    "    Country, Athlete, COUNT(*) AS Medals\n",
    "  FROM Summer_Medals\n",
    "  WHERE\n",
    "    Country IN ('JPN', 'KOR')\n",
    "    AND Year >= 2000\n",
    "  GROUP BY Country, Athlete\n",
    "  HAVING COUNT(*) > 1)\n",
    "\n",
    "SELECT\n",
    "  Country,\n",
    "  -- Rank athletes in each country by the medals they've won\n",
    "  Athlete,\n",
    "  DENSE_RANK() OVER (PARTITION BY Country\n",
    "                ORDER BY Medals DESC) AS Rank_N\n",
    "FROM Athlete_Medals\n",
    "ORDER BY Country ASC, RANK_N ASC;"
   ]
  },
  {
   "cell_type": "markdown",
   "metadata": {},
   "source": [
    "# Paging events\n",
    "\n",
    "There are exactly 666 unique events in the Summer Medals Olympics dataset. If you want to chunk them up to analyze them piece by piece, you'll need to split the events into groups of approximately equal size.\n",
    "\n",
    "# Instructions:\n",
    "\n",
    "- Split the distinct events into exactly 111 groups, ordered by event in alphabetical order."
   ]
  },
  {
   "cell_type": "code",
   "execution_count": null,
   "metadata": {
    "vscode": {
     "languageId": "sql"
    }
   },
   "outputs": [],
   "source": [
    "WITH Events AS (\n",
    "  SELECT DISTINCT Event\n",
    "  FROM Summer_Medals)\n",
    "  \n",
    "SELECT\n",
    "  --- Split up the distinct events into 111 unique groups\n",
    "  DISTINCT event,\n",
    "  NTILE(111) OVER (ORDER BY event ASC) AS Page\n",
    "FROM Events\n",
    "ORDER BY Event ASC;"
   ]
  },
  {
   "cell_type": "markdown",
   "metadata": {},
   "source": [
    "# Top, middle, and bottom thirds\n",
    "\n",
    "Splitting your data into thirds or quartiles is often useful to understand how the values in your dataset are spread. Getting summary statistics (averages, sums, standard deviations, etc.) of the top, middle, and bottom thirds can help you determine what distribution your values follow.\n",
    "\n",
    "# Instructions:\n",
    "\n",
    "- Split the athletes into top, middle, and bottom thirds based on their count of medals."
   ]
  },
  {
   "cell_type": "code",
   "execution_count": null,
   "metadata": {
    "vscode": {
     "languageId": "sql"
    }
   },
   "outputs": [],
   "source": [
    "WITH Athlete_Medals AS (\n",
    "  SELECT Athlete, COUNT(*) AS Medals\n",
    "  FROM Summer_Medals\n",
    "  GROUP BY Athlete\n",
    "  HAVING COUNT(*) > 1)\n",
    "  \n",
    "SELECT\n",
    "  Athlete,\n",
    "  Medals,\n",
    "  -- Split athletes into thirds by their earned medals\n",
    "  NTILE(3) OVER (ORDER BY Medals DESC) AS Third\n",
    "FROM Athlete_Medals\n",
    "ORDER BY Medals DESC, Athlete ASC;"
   ]
  },
  {
   "cell_type": "markdown",
   "metadata": {},
   "source": [
    "- Return the average of each third."
   ]
  },
  {
   "cell_type": "code",
   "execution_count": null,
   "metadata": {
    "vscode": {
     "languageId": "sql"
    }
   },
   "outputs": [],
   "source": [
    "WITH Athlete_Medals AS (\n",
    "  SELECT Athlete, COUNT(*) AS Medals\n",
    "  FROM Summer_Medals\n",
    "  GROUP BY Athlete\n",
    "  HAVING COUNT(*) > 1),\n",
    "  \n",
    "  Thirds AS (\n",
    "  SELECT\n",
    "    Athlete,\n",
    "    Medals,\n",
    "    NTILE(3) OVER (ORDER BY Medals DESC) AS Third\n",
    "  FROM Athlete_Medals)\n",
    "  \n",
    "SELECT\n",
    "  -- Get the average medals earned in each third\n",
    "  Third,\n",
    "  AVG(Medals) AS Avg_Medals\n",
    "FROM Thirds\n",
    "GROUP BY Third\n",
    "ORDER BY Third ASC;"
   ]
  }
 ],
 "metadata": {
  "language_info": {
   "name": "python"
  }
 },
 "nbformat": 4,
 "nbformat_minor": 2
}
