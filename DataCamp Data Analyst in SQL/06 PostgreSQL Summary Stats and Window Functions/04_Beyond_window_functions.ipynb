{
 "cells": [
  {
   "cell_type": "markdown",
   "metadata": {},
   "source": [
    "# 4 Beyond window functions\n",
    "\n",
    "In this last chapter, you'll learn some techniques and functions that are useful when used together with window functions."
   ]
  },
  {
   "cell_type": "markdown",
   "metadata": {},
   "source": [
    "# A basic pivot\n",
    "\n",
    "You have the following table of Pole Vault gold medalist countries by gender in 2008 and 2012.\n",
    "\n",
    "| Gender | Year | Country |\n",
    "|--------|------|---------|\n",
    "| Men    | 2008 | AUS     |\n",
    "| Men    | 2012 | FRA     |\n",
    "| Women  | 2008 | RUS     |\n",
    "| Women  | 2012 | USA     |\n",
    "Pivot it by Year to get the following reshaped, cleaner table.\n",
    "\n",
    "| Gender | 2008 | 2012 |\n",
    "|--------|------|------|\n",
    "| Men    | AUS  | FRA  |\n",
    "| Women  | RUS  | USA  |\n",
    "\n",
    "# Instructions:\n",
    "\n",
    "- Create the correct extension.\n",
    "- Fill in the column names of the pivoted table."
   ]
  },
  {
   "cell_type": "code",
   "execution_count": null,
   "metadata": {
    "vscode": {
     "languageId": "sql"
    }
   },
   "outputs": [],
   "source": [
    "-- Create the correct extension to enable CROSSTAB\n",
    "CREATE EXTENSION IF NOT EXISTS tablefunc;\n",
    "\n",
    "SELECT * FROM CROSSTAB($$\n",
    "  SELECT\n",
    "    Gender, Year, Country\n",
    "  FROM Summer_Medals\n",
    "  WHERE\n",
    "    Year IN (2008, 2012)\n",
    "    AND Medal = 'Gold'\n",
    "    AND Event = 'Pole Vault'\n",
    "  ORDER By Gender ASC, Year ASC;\n",
    "-- Fill in the correct column names for the pivoted table\n",
    "$$) AS ct (Gender VARCHAR,\n",
    "           \"2008\" VARCHAR,\n",
    "           \"2012\" VARCHAR)\n",
    "\n",
    "ORDER BY Gender ASC;"
   ]
  },
  {
   "cell_type": "markdown",
   "metadata": {},
   "source": [
    "# Pivoting with ranking\n",
    "\n",
    "You want to produce an easy scannable table of the rankings of the three most populous EU countries by how many gold medals they've earned in the 2004 through 2012 Olympic games. The table needs to be in this format:\n",
    "\n",
    "| Country | 2004 | 2008 | 2012 |\n",
    "|---------|------|------|------|\n",
    "| FRA     | ...  | ...  | ...  |\n",
    "| GBR     | ...  | ...  | ...  |\n",
    "| GER     | ...  | ...  | ...  |\n",
    "You'll need to count the gold medals each country has earned, produce the ranks of each country by medals earned, then pivot the table to this shape.\n",
    "\n",
    "# Instructions:\n",
    "\n",
    "- Count the gold medals that France (FRA), the UK (GBR), and Germany (GER) have earned per country and year."
   ]
  },
  {
   "cell_type": "code",
   "execution_count": null,
   "metadata": {
    "vscode": {
     "languageId": "sql"
    }
   },
   "outputs": [],
   "source": [
    "-- Count the gold medals per country and year\n",
    "SELECT\n",
    "  Country,\n",
    "  Year,\n",
    "  COUNT(*) AS Awards\n",
    "FROM Summer_Medals\n",
    "WHERE\n",
    "  Country IN ('FRA', 'GBR', 'GER')\n",
    "  AND Year IN (2004, 2008, 2012)\n",
    "  AND Medal = 'Gold'\n",
    "GROUP BY Country, Year\n",
    "ORDER BY Country ASC, Year ASC;"
   ]
  },
  {
   "cell_type": "markdown",
   "metadata": {},
   "source": [
    "- Select the country and year columns, then rank the three countries by how many gold medals they earned per year."
   ]
  },
  {
   "cell_type": "code",
   "execution_count": null,
   "metadata": {
    "vscode": {
     "languageId": "sql"
    }
   },
   "outputs": [],
   "source": [
    "WITH Country_Awards AS (\n",
    "  SELECT\n",
    "    Country,\n",
    "    Year,\n",
    "    COUNT(*) AS Awards\n",
    "  FROM Summer_Medals\n",
    "  WHERE\n",
    "    Country IN ('FRA', 'GBR', 'GER')\n",
    "    AND Year IN (2004, 2008, 2012)\n",
    "    AND Medal = 'Gold'\n",
    "  GROUP BY Country, Year)\n",
    "\n",
    "SELECT\n",
    "  -- Select Country and Year\n",
    "  Country,\n",
    "  YEAR,\n",
    "  -- Rank by gold medals earned per year\n",
    "  RANK() OVER(PARTITION BY Year ORDER BY Awards DESC) :: INTEGER AS rank\n",
    "FROM Country_Awards\n",
    "ORDER BY Country ASC, Year ASC;"
   ]
  },
  {
   "cell_type": "markdown",
   "metadata": {},
   "source": [
    "- Pivot the query's results by Year by filling in the new table's correct column names."
   ]
  },
  {
   "cell_type": "code",
   "execution_count": null,
   "metadata": {
    "vscode": {
     "languageId": "sql"
    }
   },
   "outputs": [],
   "source": [
    "CREATE EXTENSION IF NOT EXISTS tablefunc;\n",
    "\n",
    "SELECT * FROM CROSSTAB($$\n",
    "  WITH Country_Awards AS (\n",
    "    SELECT\n",
    "      Country,\n",
    "      Year,\n",
    "      COUNT(*) AS Awards\n",
    "    FROM Summer_Medals\n",
    "    WHERE\n",
    "      Country IN ('FRA', 'GBR', 'GER')\n",
    "      AND Year IN (2004, 2008, 2012)\n",
    "      AND Medal = 'Gold'\n",
    "    GROUP BY Country, Year)\n",
    "\n",
    "  SELECT\n",
    "    Country,\n",
    "    Year,\n",
    "    RANK() OVER\n",
    "      (PARTITION BY Year\n",
    "       ORDER BY Awards DESC) :: INTEGER AS rank\n",
    "  FROM Country_Awards\n",
    "  ORDER BY Country ASC, Year ASC;\n",
    "-- Fill in the correct column names for the pivoted table\n",
    "$$) AS ct (Country VARCHAR,\n",
    "           \"2004\" INTEGER,\n",
    "           \"2008\" INTEGER,\n",
    "           \"2012\" INTEGER)\n",
    "\n",
    "Order by Country ASC;"
   ]
  },
  {
   "cell_type": "markdown",
   "metadata": {},
   "source": [
    "# Country-level subtotals\n",
    "\n",
    "You want to look at three Scandinavian countries' earned gold medals per country and gender in the year 2004. You're also interested in Country-level subtotals to get the total medals earned for each country, but Gender-level subtotals don't make much sense in this case, so disregard them.\n",
    "\n",
    "# Instructions:\n",
    "\n",
    "- Count the gold medals awarded per country and gender.\n",
    "- Generate Country-level gold award counts."
   ]
  },
  {
   "cell_type": "code",
   "execution_count": null,
   "metadata": {
    "vscode": {
     "languageId": "sql"
    }
   },
   "outputs": [],
   "source": [
    "-- Count the gold medals per country and gender\n",
    "SELECT\n",
    "  Country,\n",
    "  Gender,\n",
    "  COUNT(*) AS Gold_Awards\n",
    "FROM Summer_Medals\n",
    "WHERE\n",
    "  Year = 2004\n",
    "  AND Medal = 'Gold'\n",
    "  AND Country IN ('DEN', 'NOR', 'SWE')\n",
    "-- Generate Country-level subtotals\n",
    "GROUP BY Country, ROLLUP(Gender)\n",
    "ORDER BY Country ASC, Gender ASC;"
   ]
  },
  {
   "cell_type": "markdown",
   "metadata": {},
   "source": [
    "# All group-level subtotals\n",
    "\n",
    "You want to break down all medals awarded to Russia in the 2012 Olympic games per gender and medal type. Since the medals all belong to one country, Russia, it makes sense to generate all possible subtotals (Gender- and Medal-level subtotals), as well as a grand total.\n",
    "\n",
    "Generate a breakdown of the medals awarded to Russia per country and medal type, including all group-level subtotals and a grand total.\n",
    "\n",
    "# Instructions:\n",
    "\n",
    "- Count the medals awarded per gender and medal type.\n",
    "- Generate all possible group-level counts (per gender and medal type subtotals and the grand total)."
   ]
  },
  {
   "cell_type": "code",
   "execution_count": null,
   "metadata": {
    "vscode": {
     "languageId": "sql"
    }
   },
   "outputs": [],
   "source": [
    "-- Count the medals per gender and medal type\n",
    "SELECT\n",
    "  Gender,\n",
    "  Medal,\n",
    "  COUNT(*) AS Awards\n",
    "FROM Summer_Medals\n",
    "WHERE\n",
    "  Year = 2012\n",
    "  AND Country = 'RUS'\n",
    "-- Get all possible group-level subtotals\n",
    "GROUP BY CUBE(Gender, Medal)\n",
    "ORDER BY Gender ASC, Medal ASC;"
   ]
  },
  {
   "cell_type": "markdown",
   "metadata": {},
   "source": [
    "# Cleaning up results\n",
    "\n",
    "Returning to the breakdown of Scandinavian awards you previously made, you want to clean up the results by replacing the nulls with meaningful text.\n",
    "\n",
    "# Instructions:\n",
    "\n",
    "- Turn the nulls in the Country column to All countries, and the nulls in the Gender column to All genders."
   ]
  },
  {
   "cell_type": "code",
   "execution_count": null,
   "metadata": {
    "vscode": {
     "languageId": "sql"
    }
   },
   "outputs": [],
   "source": [
    "SELECT\n",
    "  -- Replace the nulls in the columns with meaningful text\n",
    "  COALESCE(Country, 'All countries') AS Country,\n",
    "  COALESCE(Gender, 'All genders') AS Gender,\n",
    "  COUNT(*) AS Awards\n",
    "FROM Summer_Medals\n",
    "WHERE\n",
    "  Year = 2004\n",
    "  AND Medal = 'Gold'\n",
    "  AND Country IN ('DEN', 'NOR', 'SWE')\n",
    "GROUP BY ROLLUP(Country, Gender)\n",
    "ORDER BY Country ASC, Gender ASC;"
   ]
  },
  {
   "cell_type": "markdown",
   "metadata": {},
   "source": [
    "# Summarizing results\n",
    "\n",
    "After ranking each country in the 2000 Olympics by gold medals awarded, you want to return the top 3 countries in one row, as a comma-separated string. In other words, turn this:\n",
    "\n",
    "| Country | Rank |\n",
    "|---------|------|\n",
    "| USA     | 1    |\n",
    "| RUS     | 2    |\n",
    "| AUS     | 3    |\n",
    "| ...     | ...  |\n",
    "into this:\n",
    "\n",
    "USA, RUS, AUS\n",
    "\n",
    "# Instructions:\n",
    "\n",
    "- Rank countries by the medals they've been awarded."
   ]
  },
  {
   "cell_type": "code",
   "execution_count": null,
   "metadata": {
    "vscode": {
     "languageId": "sql"
    }
   },
   "outputs": [],
   "source": [
    "WITH Country_Medals AS (\n",
    "  SELECT\n",
    "    Country,\n",
    "    COUNT(*) AS Medals\n",
    "  FROM Summer_Medals\n",
    "  WHERE Year = 2000\n",
    "    AND Medal = 'Gold'\n",
    "  GROUP BY Country)\n",
    "\n",
    "  SELECT\n",
    "    Country,\n",
    "    -- Rank countries by the medals awarded\n",
    "    RANK() OVER(ORDER BY Medals DESC) AS Rank\n",
    "  FROM Country_Medals\n",
    "  ORDER BY Rank ASC;"
   ]
  },
  {
   "cell_type": "markdown",
   "metadata": {},
   "source": [
    "- Return the top 3 countries by medals awarded as one comma-separated string."
   ]
  },
  {
   "cell_type": "code",
   "execution_count": null,
   "metadata": {
    "vscode": {
     "languageId": "sql"
    }
   },
   "outputs": [],
   "source": [
    "WITH Country_Medals AS (\n",
    "  SELECT\n",
    "    Country,\n",
    "    COUNT(*) AS Medals\n",
    "  FROM Summer_Medals\n",
    "  WHERE Year = 2000\n",
    "    AND Medal = 'Gold'\n",
    "  GROUP BY Country),\n",
    "\n",
    "  Country_Ranks AS (\n",
    "  SELECT\n",
    "    Country,\n",
    "    RANK() OVER (ORDER BY Medals DESC) AS Rank\n",
    "  FROM Country_Medals\n",
    "  ORDER BY Rank ASC)\n",
    "\n",
    "-- Compress the countries column\n",
    "SELECT STRING_AGG(Country, ', ')\n",
    "FROM Country_Ranks\n",
    "-- Select only the top three ranks\n",
    "WHERE Rank <= 3;"
   ]
  }
 ],
 "metadata": {
  "language_info": {
   "name": "python"
  }
 },
 "nbformat": 4,
 "nbformat_minor": 2
}
