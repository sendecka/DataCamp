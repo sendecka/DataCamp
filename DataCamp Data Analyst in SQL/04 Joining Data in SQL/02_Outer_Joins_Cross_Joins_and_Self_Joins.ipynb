{
 "cells": [
  {
   "cell_type": "markdown",
   "metadata": {},
   "source": [
    "# 2 Outer Joins, Cross Joins and Self Joins\n",
    "\n",
    "After familiarizing yourself with inner joins, you will come to grips with different kinds of outer joins. Next, you will learn about cross joins. Finally, you will learn about situations in which you might join a table with itself."
   ]
  },
  {
   "cell_type": "markdown",
   "metadata": {},
   "source": [
    "# This is a LEFT JOIN, right?\n",
    "\n",
    "Nice work getting to grips with the structure of joins! In this exercise, you'll explore the differences between INNER JOIN and LEFT JOIN. This will help you decide which type of join to use.\n",
    "\n",
    "As before, you will be using the cities and countries tables.\n",
    "\n",
    "You'll begin with an INNER JOIN with the cities table (left) and countries table (right). This helps if you are interested only in records where a country is present in both tables.\n",
    "\n",
    "You'll then change to a LEFT JOIN. This helps if you're interested in returning all countries in the cities table, whether or not they have a match in the countries table.\n",
    "\n",
    "# Instructions:\n",
    "\n",
    "- Perform an inner join with cities AS c1 on the left and countries as c2 on the right.\n",
    "- Use code as the field to merge your tables on."
   ]
  },
  {
   "cell_type": "code",
   "execution_count": null,
   "metadata": {
    "vscode": {
     "languageId": "sql"
    }
   },
   "outputs": [],
   "source": [
    "SELECT \n",
    "    c1.name AS city,\n",
    "    code,\n",
    "    c2.name AS country,\n",
    "    region,\n",
    "    city_proper_pop\n",
    "FROM cities AS c1\n",
    "-- Perform an inner join with cities as c1 and countries as c2 on country code\n",
    "INNER JOIN countries AS c2\n",
    "ON c1.country_code = c2.code\n",
    "ORDER BY code DESC;"
   ]
  },
  {
   "cell_type": "markdown",
   "metadata": {},
   "source": [
    "- Change the code to perform a LEFT JOIN instead of an INNER JOIN.\n",
    "- After executing this query, have a look at how many records the query result contains."
   ]
  },
  {
   "cell_type": "code",
   "execution_count": null,
   "metadata": {
    "vscode": {
     "languageId": "sql"
    }
   },
   "outputs": [],
   "source": [
    "SELECT \n",
    "\tc1.name AS city, \n",
    "    code, \n",
    "    c2.name AS country,\n",
    "    region, \n",
    "    city_proper_pop\n",
    "FROM cities AS c1\n",
    "-- Join right table (with alias)\n",
    "LEFT JOIN countries AS c2\n",
    "ON c1.country_code = c2.code\n",
    "ORDER BY code DESC;"
   ]
  },
  {
   "cell_type": "markdown",
   "metadata": {},
   "source": [
    "# Building on your LEFT JOIN\n",
    "\n",
    "You'll now revisit the use of the AVG() function introduced in a previous course.\n",
    "\n",
    "Being able to build more than one SQL function into your query will enable you to write compact, supercharged queries.\n",
    "\n",
    "You will use AVG() in combination with a LEFT JOIN to determine the average gross domestic product (GDP) per capita by region in 2010.\n",
    "\n",
    "# Instructions:\n",
    "\n",
    "- Complete the LEFT JOIN with the countries table on the left and the economies table on the right on the code field.\n",
    "- Filter the records from the year 2010."
   ]
  },
  {
   "cell_type": "code",
   "execution_count": null,
   "metadata": {
    "vscode": {
     "languageId": "sql"
    }
   },
   "outputs": [],
   "source": [
    "SELECT name, region, gdp_percapita\n",
    "FROM countries AS c\n",
    "LEFT JOIN economies AS e\n",
    "-- Match on code fields\n",
    "USING(code)\n",
    "-- Filter for the year 2010\n",
    "\n",
    "WHERE year = 2010;"
   ]
  },
  {
   "cell_type": "markdown",
   "metadata": {},
   "source": [
    "- To calculate per capita GDP per region, begin by grouping by region.\n",
    "- After your GROUP BY, choose region in your SELECT statement, followed by average GDP per capita using the AVG() function, with AS avg_gdp as your alias."
   ]
  },
  {
   "cell_type": "code",
   "execution_count": null,
   "metadata": {
    "vscode": {
     "languageId": "sql"
    }
   },
   "outputs": [],
   "source": [
    "-- Select region, and average gdp_percapita as avg_gdp\n",
    "SELECT region, AVG(gdp_percapita) AS avg_gdp\n",
    "FROM countries AS c\n",
    "LEFT JOIN economies AS e\n",
    "USING(code)\n",
    "WHERE year = 2010\n",
    "-- Group by region\n",
    "GROUP BY region;"
   ]
  },
  {
   "cell_type": "markdown",
   "metadata": {},
   "source": [
    "- Order the result set by the average GDP per capita from highest to lowest.\n",
    "- Return only the first 10 records in your result."
   ]
  },
  {
   "cell_type": "code",
   "execution_count": null,
   "metadata": {
    "vscode": {
     "languageId": "sql"
    }
   },
   "outputs": [],
   "source": [
    "SELECT region, AVG(gdp_percapita) AS avg_gdp\n",
    "FROM countries AS c\n",
    "LEFT JOIN economies AS e\n",
    "USING(code)\n",
    "WHERE year = 2010\n",
    "GROUP BY region\n",
    "-- Order by descending avg_gdp\n",
    "ORDER BY avg_gdp DESC\n",
    "-- Return only first 10 records\n",
    "LIMIT 10;"
   ]
  },
  {
   "cell_type": "markdown",
   "metadata": {},
   "source": [
    "# Is this RIGHT?\n",
    "\n",
    "You learned that right joins are not used as commonly as left joins. A key reason for this is that right joins can always be re-written as left joins, and because joins are typically typed from left to right, joining from the left feels more intuitive when constructing queries.\n",
    "\n",
    "It can be tricky to wrap one's head around when left and right joins return equivalent results. You'll explore this in this exercise!\n",
    "\n",
    "# Instructions:\n",
    "\n",
    "- Write a new query using RIGHT JOIN that produces an identical result to the LEFT JOIN provided."
   ]
  },
  {
   "cell_type": "code",
   "execution_count": null,
   "metadata": {
    "vscode": {
     "languageId": "sql"
    }
   },
   "outputs": [],
   "source": [
    "-- Modify this query to use RIGHT JOIN instead of LEFT JOIN\n",
    "SELECT countries.name AS country, languages.name AS language, percent\n",
    "FROM countries\n",
    "LEFT JOIN languages\n",
    "USING(code)\n",
    "ORDER BY language;"
   ]
  },
  {
   "cell_type": "markdown",
   "metadata": {},
   "source": [
    "# Comparing joins\n",
    "\n",
    "In this exercise, you'll examine how results can differ when performing a full join compared to a left join and inner join by joining the countries and currencies tables. You'll be focusing on the North American region and records where the name of the country is missing.\n",
    "\n",
    "You'll begin with a full join with countries on the left and currencies on the right. Recall the workings of a full join with the diagram below!\n",
    "\n",
    "You'll then complete a similar left join and conclude with an inner join, observing the results you see along the way.\n",
    "\n",
    "# Instructions:\n",
    "\n",
    "- Perform a full join with countries (left) and currencies (right).\n",
    "- Filter for the North America region or NULL country names."
   ]
  },
  {
   "cell_type": "code",
   "execution_count": null,
   "metadata": {
    "vscode": {
     "languageId": "sql"
    }
   },
   "outputs": [],
   "source": [
    "SELECT name AS country, code, region, basic_unit\n",
    "FROM countries\n",
    "-- Join to currencies\n",
    "FULL JOIN currencies\n",
    "USING (code)\n",
    "-- Where region is North America or name is null\n",
    "WHERE region = 'North America' OR region IS NULL\n",
    "ORDER BY region;"
   ]
  },
  {
   "cell_type": "markdown",
   "metadata": {},
   "source": [
    "- Repeat the same query as before, turning your full join into a left join with the currencies table.\n",
    "- Have a look at what has changed in the output by comparing it to the full join result."
   ]
  },
  {
   "cell_type": "code",
   "execution_count": null,
   "metadata": {
    "vscode": {
     "languageId": "sql"
    }
   },
   "outputs": [],
   "source": [
    "SELECT name AS country, code, region, basic_unit\n",
    "FROM countries\n",
    "-- Join to currencies\n",
    "left JOIN currencies \n",
    "USING (code)\n",
    "WHERE region = 'North America' \n",
    "\tOR name IS NULL\n",
    "ORDER BY region;"
   ]
  },
  {
   "cell_type": "markdown",
   "metadata": {},
   "source": [
    "- Repeat the same query again, this time performing an inner join of countries with currencies.\n",
    "- Have a look at what has changed in the output by comparing it to the full join and left join results!"
   ]
  },
  {
   "cell_type": "code",
   "execution_count": null,
   "metadata": {
    "vscode": {
     "languageId": "sql"
    }
   },
   "outputs": [],
   "source": [
    "SELECT name AS country, code, region, basic_unit\n",
    "FROM countries\n",
    "-- Join to currencies\n",
    "inner JOIN currencies \n",
    "USING (code)\n",
    "WHERE region = 'North America' \n",
    "\tOR name IS NULL\n",
    "ORDER BY region;"
   ]
  },
  {
   "cell_type": "markdown",
   "metadata": {},
   "source": [
    "# Chaining FULL JOINs\n",
    "\n",
    "As you have seen in the previous chapter on INNER JOIN, it is possible to chain joins in SQL, such as when looking to connect data from more than two tables.\n",
    "\n",
    "Suppose you are doing some research on Melanesia and Micronesia, and are interested in pulling information about languages and currencies into the data we see for these regions in the countries table. Since languages and currencies exist in separate tables, this will require two consecutive full joins involving the countries, languages and currencies tables.\n",
    "\n",
    "# Instructions:\n",
    "\n",
    "- Complete the FULL JOIN with countries as c1 on the left and languages as l on the right, using code to perform this join.\n",
    "- Next, chain this join with another FULL JOIN, placing currencies on the right, joining on code again."
   ]
  },
  {
   "cell_type": "code",
   "execution_count": null,
   "metadata": {
    "vscode": {
     "languageId": "sql"
    }
   },
   "outputs": [],
   "source": [
    "SELECT \n",
    "\tc1.name AS country, \n",
    "    region, \n",
    "    l.name AS language,\n",
    "\tbasic_unit, \n",
    "    frac_unit\n",
    "FROM countries as c1 \n",
    "-- Full join with languages (alias as l)\n",
    "FULL JOIN languages AS l\n",
    "USING (code) \n",
    "-- Full join with currencies (alias as c2)\n",
    "FULL JOIN currencies AS c2\n",
    "USING (code) \n",
    "WHERE region LIKE 'M%esia';"
   ]
  },
  {
   "cell_type": "markdown",
   "metadata": {},
   "source": [
    "# Histories and languages\n",
    "\n",
    "Well done getting to know all about CROSS JOIN! As you have learned, CROSS JOIN can be incredibly helpful when asking questions that involve looking at all possible combinations or pairings between two sets of data.\n",
    "\n",
    "Imagine you are a researcher interested in the languages spoken in two countries: Pakistan and India. You are interested in asking:\n",
    "\n",
    "What are the languages presently spoken in the two countries?\n",
    "Given the shared history between the two countries, what languages could potentially have been spoken in either country over the course of their history?\n",
    "In this exercise, we will explore how INNER JOIN and CROSS JOIN can help us answer these two questions, respectively.\n",
    "\n",
    "# Instructions:\n",
    "\n",
    "- Complete the code to perform an INNER JOIN of countries AS c with languages AS l using the code field to obtain the languages currently spoken in the two countries."
   ]
  },
  {
   "cell_type": "code",
   "execution_count": null,
   "metadata": {
    "vscode": {
     "languageId": "sql"
    }
   },
   "outputs": [],
   "source": [
    "SELECT c.name AS country, l.name AS language\n",
    "-- Inner join countries as c with languages as l on code\n",
    "FROM countries AS c\n",
    "INNER JOIN languages AS l\n",
    "USING(code) \n",
    "WHERE c.code IN ('PAK','IND')\n",
    "\tAND l.code in ('PAK','IND');"
   ]
  },
  {
   "cell_type": "markdown",
   "metadata": {},
   "source": [
    "- Change your INNER JOIN to a different kind of join to look at possible combinations of languages that could have been spoken in the two countries given their history.\n",
    "- Observe the differences in output for both joins."
   ]
  },
  {
   "cell_type": "code",
   "execution_count": null,
   "metadata": {
    "vscode": {
     "languageId": "sql"
    }
   },
   "outputs": [],
   "source": [
    "SELECT c.name AS country, l.name AS language\n",
    "FROM countries AS c        \n",
    "-- Perform a cross join to languages (alias as l)\n",
    "CROSS JOIN languages AS l\n",
    "WHERE c.code in ('PAK','IND')\n",
    "\tAND l.code in ('PAK','IND');"
   ]
  },
  {
   "cell_type": "markdown",
   "metadata": {},
   "source": [
    "# Choosing your join\n",
    "\n",
    "Now that you're fully equipped to use joins, try a challenge problem to test your knowledge!\n",
    "\n",
    "You will determine the names of the five countries and their respective regions with the lowest life expectancy for the year 2010. Use your knowledge about joins, filtering, sorting and limiting to create this list!\n",
    "\n",
    "# Instructions:\n",
    "\n",
    "- Complete the join of countries AS c with populations as p.\n",
    "- Filter on the year 2010.\n",
    "- Sort your results by life expectancy in ascending order.\n",
    "- Limit the result to five countries."
   ]
  },
  {
   "cell_type": "code",
   "execution_count": null,
   "metadata": {
    "vscode": {
     "languageId": "sql"
    }
   },
   "outputs": [],
   "source": [
    "SELECT \n",
    "\tc.name AS country,\n",
    "    region,\n",
    "    life_expectancy AS life_exp\n",
    "FROM countries AS c\n",
    "-- Join to populations (alias as p) using an appropriate join\n",
    "LEFT JOIN populations AS p \n",
    "ON c.code = p.country_code\n",
    "-- Filter for only results in the year 2010\n",
    "WHERE p.year = 2010\n",
    "-- Sort by life_exp\n",
    "ORDER BY life_exp ASC\n",
    "-- Limit to five records\n",
    "LIMIT 5;"
   ]
  },
  {
   "cell_type": "markdown",
   "metadata": {},
   "source": [
    "# Comparing a country to itself\n",
    "\n",
    "Self joins are very useful for comparing data from one part of a table with another part of the same table. Suppose you are interested in finding out how much the populations for each country changed from 2010 to 2015. You can visualize this change by performing a self join.\n",
    "\n",
    "In this exercise, you'll work to answer this question by joining the populations table with itself. Recall that, with self joins, tables must be aliased. Use this as an opportunity to practice your aliasing!\n",
    "\n",
    "Since you'll be joining the populations table to itself, you can alias populations first as p1 and again as p2. This is good practice whenever you are aliasing tables with the same first letter.\n",
    "\n",
    "# Instructions:\n",
    "\n",
    "- Perform an inner join of populations with itself ON country_code, aliased p1 and p2 respectively.\n",
    "- Select the country_code from p1 and the size field from both p1 and p2, aliasing p1.size as size2010 and p2.size as size2015 (in that order)."
   ]
  },
  {
   "cell_type": "code",
   "execution_count": null,
   "metadata": {
    "vscode": {
     "languageId": "sql"
    }
   },
   "outputs": [],
   "source": [
    "-- Select aliased fields from populations as p1\n",
    "SELECT p1.country_Code, p1.size AS size2010, p2.size AS size2015\n",
    "\n",
    "-- Join populations as p1 to itself, alias as p2, on country code\n",
    "FROM populations AS p1\n",
    "INNER JOIN populations AS p2\n",
    "ON p1.country_code = p2.country_code;"
   ]
  },
  {
   "cell_type": "markdown",
   "metadata": {},
   "source": [
    "- Since you want to compare records from 2010 and 2015, eliminate unwanted records by extending the WHERE statement to include only records where the p1.year matches p2.year - 5."
   ]
  },
  {
   "cell_type": "code",
   "execution_count": null,
   "metadata": {
    "vscode": {
     "languageId": "sql"
    }
   },
   "outputs": [],
   "source": [
    "SELECT \n",
    "\tp1.country_code, \n",
    "    p1.size AS size2010, \n",
    "    p2.size AS size2015\n",
    "FROM populations AS p1\n",
    "INNER JOIN populations AS p2\n",
    "USING(country_code)\n",
    "WHERE p1.year = 2010\n",
    "-- Filter such that p1.year is always five years before p2.year\n",
    "    AND p1.year = p2.year - 5;"
   ]
  }
 ],
 "metadata": {
  "language_info": {
   "name": "python"
  }
 },
 "nbformat": 4,
 "nbformat_minor": 2
}
