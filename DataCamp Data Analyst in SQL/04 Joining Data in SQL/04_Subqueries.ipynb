{
 "cells": [
  {
   "cell_type": "markdown",
   "metadata": {},
   "source": [
    "# 4 Subqueries\n",
    "\n",
    "In this closing chapter, you’ll begin by investigating semi-joins and anti-joins. Next, you'll learn how to use nested queries. Last but not least, you’ll wrap up the course with some challenges!"
   ]
  },
  {
   "cell_type": "markdown",
   "metadata": {},
   "source": [
    "# Semi join\n",
    "\n",
    "Great job getting acquainted with semi joins and anti joins! You are now going to practice using semi joins.\n",
    "\n",
    "Let's say you are interested in identifying languages spoken in the Middle East. The languages table contains information about languages and countries, but it does not tell you what region the countries belong to. You can build up a semi join by filtering the countries table by a particular region, and then using this to further filter the languages table.\n",
    "\n",
    "You'll build up your semi join as you did in the video exercise, block by block, starting with a selection of countries from the countries table, and then leveraging a WHERE clause to filter the languages table by this selection.\n",
    "\n",
    "# Instructions:\n",
    "\n",
    "- Select country code as a single field from the countries table, filtering for countries in the 'Middle East' region.\n",
    "\n"
   ]
  },
  {
   "cell_type": "code",
   "execution_count": null,
   "metadata": {
    "vscode": {
     "languageId": "sql"
    }
   },
   "outputs": [],
   "source": [
    "-- Select country code for countries in the Middle East\n",
    "SELECT code\n",
    "FROM countries\n",
    "WHERE region = 'Middle East';"
   ]
  },
  {
   "cell_type": "markdown",
   "metadata": {},
   "source": [
    "- Write a second query to SELECT the name of each unique language appearing in the languages table; do not use column aliases here.\n",
    "- Order the result set by name in ascending order."
   ]
  },
  {
   "cell_type": "code",
   "execution_count": null,
   "metadata": {
    "vscode": {
     "languageId": "sql"
    }
   },
   "outputs": [],
   "source": [
    "-- Select unique language names\n",
    "SELECT DISTINCT name\n",
    "FROM languages\n",
    "-- Order by the name of the language\n",
    "ORDER BY name;"
   ]
  },
  {
   "cell_type": "markdown",
   "metadata": {},
   "source": [
    "- Create a semi join out of the two queries you've written, which filters unique languages returned in the first query for only those languages spoken in the 'Middle East'."
   ]
  },
  {
   "cell_type": "code",
   "execution_count": null,
   "metadata": {
    "vscode": {
     "languageId": "sql"
    }
   },
   "outputs": [],
   "source": [
    "SELECT DISTINCT name\n",
    "FROM languages\n",
    "-- Add syntax to use bracketed subquery below as a filter\n",
    "WHERE code IN\n",
    "  (SELECT code\n",
    "  FROM countries\n",
    "  WHERE region = 'Middle East')\n",
    "ORDER BY name;"
   ]
  },
  {
   "cell_type": "markdown",
   "metadata": {},
   "source": [
    "# Diagnosing problems using anti join\n",
    "\n",
    "Nice work on semi joins! The anti join is a related and powerful joining tool. It can be particularly useful for identifying whether an incorrect number of records appears in a join.\n",
    "\n",
    "Say you are interested in identifying currencies of Oceanian countries. You have written the following INNER JOIN, which returns 15 records. Now, you want to ensure that all Oceanian countries from the countries table are included in this result. You'll do this in the first step."
   ]
  },
  {
   "cell_type": "code",
   "execution_count": null,
   "metadata": {
    "vscode": {
     "languageId": "sql"
    }
   },
   "outputs": [],
   "source": [
    "SELECT c1.code, name, basic_unit AS currency\n",
    "FROM countries AS c1\n",
    "INNER JOIN currencies AS c2\n",
    "ON c1.code = c2.code\n",
    "WHERE c1.continent = 'Oceania';"
   ]
  },
  {
   "cell_type": "markdown",
   "metadata": {},
   "source": [
    "If there are any Oceanian countries excluded in this INNER JOIN, you want to return the names of these countries. You'll write an anti join to this in the second step!\n",
    "\n",
    "# Instructions:\n",
    "\n",
    "- Begin by writing a query to return the code and name (in order, not aliased) for all countries in the continent of Oceania from the countries table.\n",
    "- Observe the number of records returned and compare this with the provided INNER JOIN, which returns 15 records."
   ]
  },
  {
   "cell_type": "code",
   "execution_count": null,
   "metadata": {
    "vscode": {
     "languageId": "sql"
    }
   },
   "outputs": [],
   "source": [
    "-- Select code and name of countries from Oceania\n",
    "SELECT code, name\n",
    "FROM countries\n",
    "WHERE continent = 'Oceania';"
   ]
  },
  {
   "cell_type": "markdown",
   "metadata": {},
   "source": [
    "- Now, build on your query to complete your anti join, by adding an additional filter to return every country code that is not included in the currencies table."
   ]
  },
  {
   "cell_type": "code",
   "execution_count": null,
   "metadata": {
    "vscode": {
     "languageId": "sql"
    }
   },
   "outputs": [],
   "source": [
    "SELECT code, name\n",
    "FROM countries\n",
    "WHERE continent = 'Oceania'\n",
    "-- Filter for countries not included in the bracketed subquery\n",
    "  AND code NOT IN\n",
    "    (SELECT code\n",
    "    FROM currencies);"
   ]
  },
  {
   "cell_type": "markdown",
   "metadata": {},
   "source": [
    "# Subquery inside WHERE\n",
    "\n",
    "The video pointed out that subqueries inside WHERE can either be from the same table or a different table. In this exercise, you will nest a subquery from the populations table inside another query from the same table, populations. Your goal is to figure out which countries had high average life expectancies in 2015.\n",
    "\n",
    "You can use SQL to do calculations for you. Suppose you only want records from 2015 with life_expectancy above 1.15 * avg_life_expectancy. You could use the following SQL query."
   ]
  },
  {
   "cell_type": "code",
   "execution_count": null,
   "metadata": {
    "vscode": {
     "languageId": "sql"
    }
   },
   "outputs": [],
   "source": [
    "SELECT *\n",
    "FROM populations\n",
    "WHERE life_expectancy > 1.15 * avg_life_expectancy\n",
    "  AND year = 2015;"
   ]
  },
  {
   "cell_type": "markdown",
   "metadata": {},
   "source": [
    "In the first step, you'll write a query to calculate a value for avg_life_expectancy. In the second step, you will nest this calculation into another query.\n",
    "\n",
    "# Instructions:\n",
    "\n",
    "- Begin by calculating the average life expectancy from the populations table.\n",
    "- Filter your answer to use records from 2015 only."
   ]
  },
  {
   "cell_type": "code",
   "execution_count": null,
   "metadata": {
    "vscode": {
     "languageId": "sql"
    }
   },
   "outputs": [],
   "source": [
    "-- Select average life_expectancy from the populations table\n",
    "SELECT AVG(life_expectancy) \n",
    "FROM populations\n",
    "-- Filter for the year 2015\n",
    "WHERE year = 2015;"
   ]
  },
  {
   "cell_type": "markdown",
   "metadata": {},
   "source": [
    "- The answer from your query has now been nested into another query; use this calculation to filter populations for all records where life_expectancy is 1.15 times higher than average."
   ]
  },
  {
   "cell_type": "code",
   "execution_count": null,
   "metadata": {
    "vscode": {
     "languageId": "sql"
    }
   },
   "outputs": [],
   "source": [
    "SELECT *\n",
    "FROM populations\n",
    "-- Filter for only those populations where life expectancy is 1.15 times higher than average\n",
    "WHERE life_expectancy > 1.15 *\n",
    "  (SELECT AVG(life_expectancy)\n",
    "   FROM populations\n",
    "   WHERE year = 2015) \n",
    "    AND year = 2015;"
   ]
  },
  {
   "cell_type": "markdown",
   "metadata": {},
   "source": [
    "# WHERE do people live?\n",
    "\n",
    "In this exercise, you will strengthen your knowledge of subquerying by identifying capital cities in order of largest to smallest population.\n",
    "\n",
    "Follow the instructions below to get the urban area population for capital cities only. You'll use the countries and cities tables displayed in the console to help identify columns of interest as you build your query.\n",
    "\n",
    "# Instructions:\n",
    "\n",
    "- Return the name, country_code and urbanarea_pop for all capital cities (not aliased)."
   ]
  },
  {
   "cell_type": "code",
   "execution_count": null,
   "metadata": {
    "vscode": {
     "languageId": "sql"
    }
   },
   "outputs": [],
   "source": [
    "-- Select relevant fields from cities table\n",
    "SELECT name, country_code, urbanarea_pop\n",
    "FROM cities\n",
    "-- Filter using a subquery on the countries table\n",
    "WHERE name IN\n",
    "  (SELECT capital\n",
    "   FROM countries)\n",
    "ORDER BY urbanarea_pop DESC;"
   ]
  },
  {
   "cell_type": "markdown",
   "metadata": {},
   "source": [
    "# Subquery inside SELECT\n",
    "\n",
    "As explored in the video, there are often multiple ways to produce the same result in SQL. You saw that subqueries can provide an alternative to joins to obtain the same result.\n",
    "\n",
    "In this exercise, you'll go further in exploring how some queries can be written using either a join or a subquery.\n",
    "\n",
    "In Step 1, you'll begin with a LEFT JOIN combined with a GROUP BY to select the nine countries with the most cities appearing in the cities table, along with the counts of these cities. In Step 2, you'll write a query that returns the same result as the join, but leveraging a nested query instead.\n",
    "\n",
    "# Instructions:\n",
    "\n",
    "- Write a LEFT JOIN with countries on the left and the cities on the right, joining on country code.\n",
    "- In the SELECT statement of your join, include country names as country, and count the cities in each country, aliased as cities_num.\n",
    "- Sort by cities_num (descending), and country (ascending), limiting to the first nine records."
   ]
  },
  {
   "cell_type": "code",
   "execution_count": null,
   "metadata": {
    "vscode": {
     "languageId": "sql"
    }
   },
   "outputs": [],
   "source": [
    "-- Find top nine countries with the most cities\n",
    "SELECT countries.name AS country, COUNT(*) AS cities_num\n",
    "FROM countries\n",
    "LEFT JOIN cities\n",
    "ON countries.code = cities.country_code\n",
    "GROUP BY country\n",
    "-- Order by count of cities as cities_num\n",
    "ORDER BY cities_num DESC, country\n",
    "LIMIT 9;"
   ]
  },
  {
   "cell_type": "markdown",
   "metadata": {},
   "source": [
    "- Complete the subquery to return a result equivalent to your LEFT JOIN, counting all cities in the cities table as cities_num.\n",
    "- Use the WHERE clause to enable the correct country codes to be matched in the cities and countries columns."
   ]
  },
  {
   "cell_type": "code",
   "execution_count": null,
   "metadata": {
    "vscode": {
     "languageId": "sql"
    }
   },
   "outputs": [],
   "source": [
    "SELECT countries.name AS country,\n",
    "-- Subquery that provides the count of cities   \n",
    "  (SELECT COUNT(*)\n",
    "   FROM cities\n",
    "   WHERE cities.country_code = countries.code) AS cities_num\n",
    "FROM countries\n",
    "ORDER BY cities_num DESC, country\n",
    "LIMIT 9;"
   ]
  },
  {
   "cell_type": "markdown",
   "metadata": {},
   "source": [
    "# Subquery inside FROM\n",
    "\n",
    "Subqueries inside FROM can help select columns from multiple tables in a single query.\n",
    "\n",
    "Say you are interested in determining the number of languages spoken for each country. You want to present this information alongside each country's local_name, which is a field only present in the countries table and not in the languages table. You'll use a subquery inside FROM to bring information from these two tables together!\n",
    "\n",
    "# Instructions:\n",
    "\n",
    "- Begin with a query that groups by each country code from languages, and counts the languages spoken in each country as lang_num.\n",
    "- In your SELECT statement, return code and lang_num (in that order)."
   ]
  },
  {
   "cell_type": "code",
   "execution_count": null,
   "metadata": {
    "vscode": {
     "languageId": "sql"
    }
   },
   "outputs": [],
   "source": [
    "-- Select code, and language count as lang_num\n",
    "SELECT code, COUNT(*) AS lang_num\n",
    "FROM languages\n",
    "GROUP BY code;"
   ]
  },
  {
   "cell_type": "markdown",
   "metadata": {},
   "source": [
    "- Select local_name from countries, with the aliased lang_num from your subquery (which has been nested and aliased for you as sub).\n",
    "- Use WHERE to match the code field from countries and sub."
   ]
  },
  {
   "cell_type": "code",
   "execution_count": null,
   "metadata": {
    "vscode": {
     "languageId": "sql"
    }
   },
   "outputs": [],
   "source": [
    "-- Select local_name and lang_num from appropriate tables\n",
    "SELECT local_name, sub.lang_num\n",
    "FROM countries,\n",
    "    (SELECT code, COUNT(*) AS lang_num\n",
    "     FROM languages\n",
    "     GROUP BY code) AS sub\n",
    "-- Where codes match    \n",
    "WHERE countries.code = sub.code\n",
    "ORDER BY lang_num DESC;"
   ]
  },
  {
   "cell_type": "markdown",
   "metadata": {},
   "source": [
    "# Subquery challenge\n",
    "\n",
    "You're near the finish line! Test your understanding of subquerying with a challenge problem.\n",
    "\n",
    "Suppose you're interested in analyzing inflation and unemployment rate for certain countries in 2015. You are not interested in countries with \"Republic\" or \"Monarchy\" as their form of government, but are interested in all other forms of government, such as emirate federations, socialist states, and commonwealths.\n",
    "\n",
    "You will use the field gov_form to filter for these two conditions, which represents a country's form of government. You can review the different entries for gov_form in the countries table.\n",
    "\n",
    "# Instructions:\n",
    "\n",
    "- Select country code, inflation_rate, and unemployment_rate from economies.\n",
    "- Filter code for the set of countries which do not contain the words \"Republic\" or \"Monarchy\" in their gov_form."
   ]
  },
  {
   "cell_type": "code",
   "execution_count": null,
   "metadata": {
    "vscode": {
     "languageId": "sql"
    }
   },
   "outputs": [],
   "source": [
    "-- Select relevant fields\n",
    "___\n",
    "WHERE year = 2015 \n",
    "  AND code NOT IN\n",
    "-- Subquery returning country codes filtered on gov_form\n",
    "\t(___)\n",
    "ORDER BY inflation_rate;"
   ]
  },
  {
   "cell_type": "markdown",
   "metadata": {},
   "source": [
    "# Final challenge\n",
    "\n",
    "You've made it to the final challenge problem! Get ready to tackle this step-by-step.\n",
    "\n",
    "Your task is to determine the top 10 capital cities in Europe and the Americas by city_perc, a metric you'll calculate. city_perc is a percentage that calculates the \"proper\" population in a city as a percentage of the total population in the wider metro area, as follows:\n",
    "\n",
    "city_proper_pop / metroarea_pop * 100\n",
    "\n",
    "Do not use table aliasing in this exercise.\n",
    "\n",
    "# Instructions:\n",
    "\n",
    "- From cities, select the city name, country code, proper population, and metro area population, as well as the field city_perc, which calculates the proper population as a percentage of metro area population for each city (using the formula provided).\n",
    "- Filter city name with a subquery that selects capital cities from countries in 'Europe' or continents with 'America' at the end of their name.\n",
    "- Exclude NULL values in metroarea_pop.\n",
    "- Order by city_perc (descending) and return only the first 10 rows."
   ]
  },
  {
   "cell_type": "code",
   "execution_count": null,
   "metadata": {
    "vscode": {
     "languageId": "sql"
    }
   },
   "outputs": [],
   "source": [
    "-- Select fields from cities\n",
    "SELECT \n",
    "\tname, \n",
    "    country_code, \n",
    "    city_proper_pop, \n",
    "    metroarea_pop,\n",
    "    city_proper_pop / metroarea_pop * 100 AS city_perc\n",
    "FROM cities\n",
    "-- Use subquery to filter city name\n",
    "WHERE name IN\n",
    "  (SELECT capital\n",
    "   FROM countries\n",
    "   WHERE (continent = 'Europe'\n",
    "   OR continent LIKE '%America'))\n",
    "-- Add filter condition such that metroarea_pop does not have null values\n",
    "\t  AND metroarea_pop IS NOT NULL\n",
    "-- Sort and limit the result\n",
    "ORDER BY city_perc DESC\n",
    "LIMIT 10;"
   ]
  }
 ],
 "metadata": {
  "language_info": {
   "name": "python"
  }
 },
 "nbformat": 4,
 "nbformat_minor": 2
}
