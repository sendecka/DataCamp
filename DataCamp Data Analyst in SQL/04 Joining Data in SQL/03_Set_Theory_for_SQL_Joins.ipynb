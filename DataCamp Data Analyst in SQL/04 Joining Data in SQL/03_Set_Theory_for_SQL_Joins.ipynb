{
 "cells": [
  {
   "cell_type": "markdown",
   "metadata": {},
   "source": [
    "# 3 Set Theory for SQL Joins\n",
    "\n",
    "In this chapter, you will learn about using set theory operations in SQL, with an introduction to UNION, UNION ALL, INTERSECT, and EXCEPT clauses. You’ll explore the predominant ways in which set theory operations differ from join operations."
   ]
  },
  {
   "cell_type": "markdown",
   "metadata": {},
   "source": [
    "# UNION vs. UNION ALL\n",
    "\n",
    "Nice work learning all about UNION and UNION ALL!\n",
    "\n",
    "Two tables, languages and currencies, are provided. Run the queries provided in the console and select the correct answer for the multiple-choice questions in this exercise.\n",
    "\n",
    "# Instructions:\n",
    "\n",
    "## Question\n",
    "What result will the following SQL query produce?"
   ]
  },
  {
   "cell_type": "code",
   "execution_count": null,
   "metadata": {
    "vscode": {
     "languageId": "sql"
    }
   },
   "outputs": [],
   "source": [
    "SELECT * \n",
    "FROM languages\n",
    "UNION\n",
    "SELECT * \n",
    "FROM currencies;\n",
    "Possible answers"
   ]
  },
  {
   "cell_type": "markdown",
   "metadata": {},
   "source": [
    "( ) All records from both tables, dropping duplicate records (if any)\n",
    "\n",
    "(x) A SQL error, because languages and currencies do not have the same number of fields\n",
    "\n",
    "( ) A SQL error, because languages and currencies do not have the same number of records"
   ]
  },
  {
   "cell_type": "markdown",
   "metadata": {},
   "source": [
    "##  Question\n",
    "What result will the following SQL query produce?"
   ]
  },
  {
   "cell_type": "code",
   "execution_count": null,
   "metadata": {
    "vscode": {
     "languageId": "sql"
    }
   },
   "outputs": [],
   "source": [
    "SELECT code FROM\n",
    "languages\n",
    "UNION ALL\n",
    "SELECT code FROM \n",
    "currencies;"
   ]
  },
  {
   "cell_type": "markdown",
   "metadata": {},
   "source": [
    "( ) An ordered list of each country code in languages and currencies, including duplicates\n",
    "\n",
    "( ) An ordered list of each unique country code in languages and currencies\n",
    "\n",
    "(x) An unordered list of each country code in languages and currencies, including duplicates\n",
    "\n",
    "( ) An unordered list of each unique country code in languages and currencies"
   ]
  },
  {
   "cell_type": "markdown",
   "metadata": {},
   "source": [
    "## Question\n",
    "What will the following SQL query produce?"
   ]
  },
  {
   "cell_type": "code",
   "execution_count": null,
   "metadata": {
    "vscode": {
     "languageId": "sql"
    }
   },
   "outputs": [],
   "source": [
    "SELECT code \n",
    "FROM languages\n",
    "UNION\n",
    "SELECT curr_id \n",
    "FROM currencies;"
   ]
  },
  {
   "cell_type": "markdown",
   "metadata": {},
   "source": [
    "( ) An empty result\n",
    "\n",
    "( ) A stacked list of every curr_id from currencies and every code from languages\n",
    "\n",
    "(x) A SQL error, because code and curr_id are not of the same data type\n",
    "\n",
    "( ) A SQL error, because code and curr_id do not have the same name"
   ]
  },
  {
   "cell_type": "markdown",
   "metadata": {},
   "source": [
    "# Comparing global economies\n",
    "\n",
    "Are you ready to perform your first set operation?\n",
    "\n",
    "In this exercise, you have two tables, economies2015 and economies2019, available to you under the tabs in the console. You'll perform a set operation to stack all records in these two tables on top of each other, excluding duplicates.\n",
    "\n",
    "When drafting queries containing set operations, it is often helpful to write the queries on either side of the operation first, and then call the set operator. The instructions are ordered accordingly.\n",
    "\n",
    "# Instructions:\n",
    "\n",
    "- Begin your query by selecting all fields from economies2015.\n",
    "- Create a second query that selects all fields from economies2019.\n",
    "- Perform a set operation to combine the two queries you just created, ensuring you do not return duplicates."
   ]
  },
  {
   "cell_type": "code",
   "execution_count": null,
   "metadata": {
    "vscode": {
     "languageId": "sql"
    }
   },
   "outputs": [],
   "source": [
    "-- Select all fields from economies2015\n",
    "SELECT *  \n",
    "FROM economies2015     \n",
    "-- Set operation\n",
    "UNION\n",
    "-- Select all fields from economies2019\n",
    "SELECT *\n",
    "FROM economies2019\n",
    "ORDER BY code, year;"
   ]
  },
  {
   "cell_type": "markdown",
   "metadata": {},
   "source": [
    "# Comparing two set operations\n",
    "\n",
    "You learned in the video exercise that UNION ALL returns duplicates, whereas UNION does not. In this exercise, you will dive deeper into this, looking at cases for when UNION is appropriate compared to UNION ALL.\n",
    "\n",
    "You will be looking at combinations of country code and year from the economies and populations tables.\n",
    "\n",
    "# Instructions:\n",
    "\n",
    "- Perform an appropriate set operation that determines all pairs of country code and year (in that order) from economies and populations, excluding duplicates.\n",
    "- Order by country code and year."
   ]
  },
  {
   "cell_type": "code",
   "execution_count": null,
   "metadata": {
    "vscode": {
     "languageId": "sql"
    }
   },
   "outputs": [],
   "source": [
    "-- Query that determines all pairs of code and year from economies and populations, without duplicates\n",
    "SELECT code, year\n",
    "FROM economies\n",
    "UNION \n",
    "SELECT country_code, year\n",
    "FROM populations\n",
    "ORDER BY code, year;"
   ]
  },
  {
   "cell_type": "markdown",
   "metadata": {},
   "source": [
    "- Amend the query to return all combinations (including duplicates) of country code and year in the economies or the populations tables."
   ]
  },
  {
   "cell_type": "code",
   "execution_count": null,
   "metadata": {
    "vscode": {
     "languageId": "sql"
    }
   },
   "outputs": [],
   "source": [
    "SELECT code, year\n",
    "FROM economies\n",
    "-- Set theory clause\n",
    "UNION ALL\n",
    "SELECT country_code, year\n",
    "FROM populations\n",
    "ORDER BY code, year;"
   ]
  },
  {
   "cell_type": "markdown",
   "metadata": {},
   "source": [
    "# NTERSECT\n",
    "Well done getting through the material on INTERSECT!\n",
    "\n",
    "Let's say you are interested in those countries that share names with cities. Use this task as an opportunity to show off your knowledge of set theory in SQL!\n",
    "\n",
    "# Instructions:\n",
    "\n",
    "- Return all city names that"
   ]
  },
  {
   "cell_type": "code",
   "execution_count": null,
   "metadata": {
    "vscode": {
     "languageId": "sql"
    }
   },
   "outputs": [],
   "source": [
    "-- Return all cities with the same name as a country\n",
    "SELECT name\n",
    "FROM cities\n",
    "INTERSECT\n",
    "SELECT name\n",
    "FROM countries;"
   ]
  },
  {
   "cell_type": "markdown",
   "metadata": {},
   "source": [
    "# Review UNION and INTERSECT\n",
    "\n",
    "Which of the following definitions of set operations is correct?\n",
    "\n",
    "# Possible Answers\n",
    "\n",
    "(x) UNION: returns all records (potentially duplicates) in both tables\n",
    "\n",
    "( ) UNION ALL: returns only unique records\n",
    "\n",
    "( ) INTERSECT: returns only records appearing in both tables\n",
    "\n",
    "( ) None of the above definitions are correct."
   ]
  },
  {
   "cell_type": "markdown",
   "metadata": {},
   "source": [
    "# You've got it, EXCEPT...\n",
    "\n",
    "Just as you were able to leverage INTERSECT to find the names of cities with the same names as countries, you can also do the reverse, using EXCEPT.\n",
    "\n",
    "In this exercise, you will find the names of cities that do not have the same names as their countries.\n",
    "\n",
    "# Instructions:\n",
    "\n",
    "- Return all cities that do not have the same name as a country."
   ]
  },
  {
   "cell_type": "code",
   "execution_count": null,
   "metadata": {
    "vscode": {
     "languageId": "sql"
    }
   },
   "outputs": [],
   "source": [
    "-- Return all cities that do not have the same name as a country\n",
    "SELECT name \n",
    "FROM cities\n",
    "EXCEPT\n",
    "SELECT name\n",
    "FROM countries\n",
    "ORDER BY name;"
   ]
  }
 ],
 "metadata": {
  "language_info": {
   "name": "python"
  }
 },
 "nbformat": 4,
 "nbformat_minor": 2
}
