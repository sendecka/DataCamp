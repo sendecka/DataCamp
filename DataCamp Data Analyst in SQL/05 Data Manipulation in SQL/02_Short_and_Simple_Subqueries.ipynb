{
 "cells": [
  {
   "cell_type": "markdown",
   "metadata": {},
   "source": [
    "# 2 Short and Simple Subqueries\n",
    "\n",
    "In this chapter, you will learn about subqueries in the SELECT, FROM, and WHERE clauses. You will gain an understanding of when subqueries are necessary to construct your dataset and where to best include them in your queries."
   ]
  },
  {
   "cell_type": "markdown",
   "metadata": {},
   "source": [
    "# Filtering using scalar subqueries\n",
    "\n",
    "Subqueries are incredibly powerful for performing complex filters and transformations. You can filter data based on single, scalar values using a subquery in ways you cannot by using WHERE statements or joins. Subqueries can also be used for more advanced manipulation of your data set. You will likely encounter subqueries in any real-world setting that uses relational databases.\n",
    "\n",
    "In this exercise, you will generate a list of matches where the total goals scored (for both teams in total) is more than 3 times the average for games in the matches_2013_2014 table, which includes all games played in the 2013/2014 season.\n",
    "\n",
    "# Instructions:\n",
    "\n",
    "- Calculate triple the average home + away goals scored across all matches. This will become your subquery in the next step. Note that this column does not have an alias, so it will be called ?column? in your results."
   ]
  },
  {
   "cell_type": "code",
   "execution_count": null,
   "metadata": {
    "vscode": {
     "languageId": "sql"
    }
   },
   "outputs": [],
   "source": [
    "-- Select the average of home + away goals, multiplied by 3\n",
    "SELECT \n",
    "\t3 * AVG(home_goal + away_goal)\n",
    "FROM matches_2013_2014;"
   ]
  },
  {
   "cell_type": "markdown",
   "metadata": {},
   "source": [
    "- Select the date, home goals, and away goals in the main query.\n",
    "- Filter the main query for matches where the total goals scored exceed the value in the subquery."
   ]
  },
  {
   "cell_type": "code",
   "execution_count": null,
   "metadata": {
    "vscode": {
     "languageId": "sql"
    }
   },
   "outputs": [],
   "source": [
    "SELECT \n",
    "\t-- Select the date, home goals, and away goals scored\n",
    "    date,\n",
    "\thome_goal,\n",
    "\taway_goal\n",
    "FROM  matches_2013_2014\n",
    "-- Filter for matches where total goals exceeds 3x the average\n",
    "WHERE (home_goal + away_goal) > \n",
    "       (SELECT 3 * AVG(home_goal + away_goal)\n",
    "        FROM matches_2013_2014); "
   ]
  },
  {
   "cell_type": "markdown",
   "metadata": {},
   "source": [
    "# Filtering using a subquery with a list\n",
    "\n",
    "Your goal in this exercise is to generate a list of teams that never played a game in their home city. Using a subquery, you will generate a list of unique hometeam_ID values from the unfiltered match table to exclude in the team table's team_api_ID column.\n",
    "\n",
    "In addition to filtering using a single-value (scalar) subquery, you can create a list of values in a subquery to filter data based on a complex set of conditions. This type of subquery generates a one column reference list for the main query. As long as the values in your list match a column in your main query's table, you don't need to use a join -- even if the list is from a separate table.\n",
    "\n",
    "# Instructions:\n",
    "\n",
    "- Create a subquery in the WHERE clause that retrieves all unique hometeam_ID values from the match table.\n",
    "- Select the team_long_name and team_short_name from the team table. Exclude all values from the subquery in the main query."
   ]
  },
  {
   "cell_type": "code",
   "execution_count": null,
   "metadata": {
    "vscode": {
     "languageId": "sql"
    }
   },
   "outputs": [],
   "source": [
    "SELECT \n",
    "\t-- Select the team long and short names\n",
    "\tteam_long_name,\n",
    "\tteam_short_name\n",
    "FROM team \n",
    "-- Exclude all values from the subquery\n",
    "WHERE team_api_id NOT IN\n",
    "     (SELECT DISTINCT hometeam_id  FROM match);"
   ]
  },
  {
   "cell_type": "markdown",
   "metadata": {},
   "source": [
    "# Joining Subqueries in FROM\n",
    "\n",
    "The match table in the European Soccer Database does not contain country or team names. You can get this information by joining it to the country table, and use this to aggregate information, such as the number of matches played in each country.\n",
    "\n",
    "If you're interested in filtering data from one of these tables, you can also create a subquery from one of the tables, and then join it to an existing table in the database. A subquery in FROM is an effective way of answering detailed questions that requires filtering or transforming data before including it in your final results.\n",
    "\n",
    "Your goal in this exercise is to generate a subquery using the match table, and then join that subquery to the country table to calculate information about matches with 10 or more goals in total!\n",
    "\n",
    "# Instructions:\n",
    "\n",
    "- Create the subquery to be used in the next step, which selects the country ID and match ID (id) from the match table.\n",
    "- Filter the query for matches with greater than or equal to 10 goals."
   ]
  },
  {
   "cell_type": "code",
   "execution_count": null,
   "metadata": {
    "vscode": {
     "languageId": "sql"
    }
   },
   "outputs": [],
   "source": [
    "SELECT \n",
    "\t-- Select the country ID and match ID\n",
    "\tid, \n",
    "    country_id \n",
    "FROM match\n",
    "-- Filter for matches with 10 or more goals in total\n",
    "WHERE (home_goal + away_goal) >= 10;"
   ]
  },
  {
   "cell_type": "markdown",
   "metadata": {},
   "source": [
    "- Construct a subquery that selects only matches with 10 or more total goals.\n",
    "- Inner join the subquery onto country in the main query.\n",
    "- Select name from country and count the id column from match."
   ]
  },
  {
   "cell_type": "code",
   "execution_count": null,
   "metadata": {
    "vscode": {
     "languageId": "sql"
    }
   },
   "outputs": [],
   "source": [
    "SELECT\n",
    "\t-- Select country name and the count match IDs\n",
    "    c.name AS country_name,\n",
    "    COUNT(sub.id) AS matches\n",
    "FROM country AS c\n",
    "-- Inner join the subquery onto country\n",
    "-- Select the country id and match id columns\n",
    "INNER JOIN (SELECT country_id, id \n",
    "           FROM match\n",
    "           -- Filter the subquery by matches with 10+ goals\n",
    "           WHERE (home_goal + away_goal) >= 10) AS sub\n",
    "ON c.id = sub.country_id\n",
    "GROUP BY country_name;"
   ]
  },
  {
   "cell_type": "markdown",
   "metadata": {},
   "source": [
    "# Building on Subqueries in FROM\n",
    "\n",
    "In the previous exercise, you found that England, Netherlands, Germany and Spain were the only countries that had matches in the database where 10 or more goals were scored overall. Let's find out some more details about those matches -- when they were played, during which seasons, and how many of the goals were home versus away goals.\n",
    "\n",
    "You'll notice that in this exercise, the table alias is excluded for every column selected in the main query. This is because the main query is extracting data from the subquery, which is treated as a single table.\n",
    "\n",
    "# Instructions:\n",
    "\n",
    "- Complete the subquery inside the FROM clause. Select the country name from the country table, along with the date, the home goal, the away goal, and the total goals columns from the match table.\n",
    "- Create a column in the subquery that adds home and away goals, called total_goals. This will be used to filter the main query.\n",
    "- Select the country, date, home goals, and away goals in the main query.\n",
    "- Filter the main query for games with 10 or more total goals."
   ]
  },
  {
   "cell_type": "code",
   "execution_count": null,
   "metadata": {
    "vscode": {
     "languageId": "sql"
    }
   },
   "outputs": [],
   "source": [
    "SELECT\n",
    "\t-- Select country, date, home, and away goals from the subquery\n",
    "    country,\n",
    "    date,\n",
    "    home_goal,\n",
    "    away_goal\n",
    "FROM \n",
    "\t-- Select country name, date, home_goal, away_goal, and total goals in the subquery\n",
    "\t(SELECT name AS country, \n",
    "     \t    m.date, \n",
    "     \t\tm.home_goal, \n",
    "     \t\tm.away_goal,\n",
    "           (m.home_goal + m.away_goal) AS total_goals\n",
    "    FROM match AS m\n",
    "    LEFT JOIN country AS c\n",
    "    ON m.country_id = c.id) AS subq\n",
    "-- Filter by total goals scored in the main query\n",
    "WHERE total_goals >= 10;"
   ]
  },
  {
   "cell_type": "markdown",
   "metadata": {},
   "source": [
    "# Add a subquery to the SELECT clause\n",
    "\n",
    "Subqueries in SELECT statements generate a single value that allow you to pass an aggregate value down a data frame. This is useful for performing calculations on data within your database.\n",
    "\n",
    "In the following exercise, you will construct a query that calculates the average number of goals per match in each country's league.\n",
    "\n",
    "# Instructions:\n",
    "\n",
    "- In the subquery, select the average total goals by adding home_goal and away_goal.\n",
    "- Filter the results so that only the average of goals in the 2013/2014 season is calculated.\n",
    "- In the main query, select the average total goals by adding home_goal and away_goal. This calculates the average goals for each league.\n",
    "- Filter the results in the main query the same way you filtered the subquery. Group the query by the league name."
   ]
  },
  {
   "cell_type": "code",
   "execution_count": null,
   "metadata": {
    "vscode": {
     "languageId": "sql"
    }
   },
   "outputs": [],
   "source": [
    "SELECT \n",
    "\tl.name AS league,\n",
    "    -- Select and round the league's total goals\n",
    "    ROUND(AVG(m.home_goal + m.away_goal), 2) AS avg_goals,\n",
    "    -- Select & round the average total goals for the season\n",
    "    (SELECT ROUND(AVG(home_goal + away_goal), 2) \n",
    "     FROM match\n",
    "     WHERE season = '2013/2014') AS overall_avg\n",
    "FROM league AS l\n",
    "LEFT JOIN match AS m\n",
    "ON l.country_id = m.country_id\n",
    "-- Filter for the 2013/2014 season\n",
    "WHERE season = '2013/2014'\n",
    "GROUP BY l.name;"
   ]
  },
  {
   "cell_type": "markdown",
   "metadata": {},
   "source": [
    "# Subqueries in Select for Calculations\n",
    "\n",
    "Subqueries in SELECT are a useful way to create calculated columns in a query. A subquery in SELECT can be treated as a single numeric value to use in your calculations. When writing queries in SELECT, it's important to remember that filtering the main query does not filter the subquery -- and vice versa.\n",
    "\n",
    "In the previous exercise, you created a column to compare each league's average total goals to the overall average goals in the 2013/2014 season. In this exercise, you will add a column that directly compares these values by subtracting the overall average from the subquery.\n",
    "\n",
    "# Instructions:\n",
    "\n",
    "- Select the average goals scored in a match for each league in the main query.\n",
    "- Select the average goals scored in a match overall for the 2013/2014 season in the subquery.\n",
    "- Subtract the subquery from the average number of goals calculated for each league.\n",
    "- Filter the main query so that only games from the 2013/2014 season are included."
   ]
  },
  {
   "cell_type": "code",
   "execution_count": null,
   "metadata": {
    "vscode": {
     "languageId": "sql"
    }
   },
   "outputs": [],
   "source": [
    "SELECT\n",
    "\t-- Select the league name and average goals scored\n",
    "\tl.name AS league,\n",
    "\tROUND(AVG(m.home_goal + m.away_goal),2) AS avg_goals,\n",
    "    -- Subtract the overall average from the league average\n",
    "\tROUND(AVG(m.home_goal + m.away_goal) - \n",
    "\t\t(SELECT AVG(home_goal + away_goal)\n",
    "\t\t FROM match \n",
    "         WHERE season = '2013/2014'),2) AS diff\n",
    "FROM league AS l\n",
    "LEFT JOIN match AS m\n",
    "ON l.country_id = m.country_id\n",
    "-- Only include 2013/2014 results\n",
    "WHERE season = '2013/2014'\n",
    "GROUP BY league;"
   ]
  },
  {
   "cell_type": "markdown",
   "metadata": {},
   "source": [
    "# ALL the subqueries EVERYWHERE\n",
    "\n",
    "In soccer leagues, games are played at different stages. Winning teams progress from one stage to the next, until they reach the final stage. In each stage, the stakes become higher than the previous one. The match table includes data about the different stages that each match took place in.\n",
    "\n",
    "In this lesson, you will build a final query across 3 exercises that will contain three subqueries -- one in the SELECT clause, one in the FROM clause, and one in the WHERE clause. In the final exercise, your query will extract data examining the average goals scored in each stage of a match. Does the average number of goals scored change as the stakes get higher from one stage to the next?\n",
    "\n",
    "# Instructions:\n",
    "\n",
    "- Extract the average number of home and away team goals in two SELECT subqueries.\n",
    "- Calculate the average home and away goals for the specific stage in the main query.\n",
    "- Filter both subqueries and the main query so that only data from the 2012/2013 season is included.\n",
    "- Group the query by the m.stage column."
   ]
  },
  {
   "cell_type": "code",
   "execution_count": null,
   "metadata": {
    "vscode": {
     "languageId": "sql"
    }
   },
   "outputs": [],
   "source": [
    "SELECT \n",
    "\t-- Select the stage and average goals for each stage\n",
    "\tm.stage,\n",
    "    ROUND(AVG(m.home_goal + m.away_goal),2) AS avg_goals,\n",
    "    -- Select the average overall goals for the 2012/2013 season\n",
    "    ROUND((SELECT AVG(home_goal + away_goal) \n",
    "           FROM match \n",
    "           WHERE season = '2012/2013'),2) AS overall\n",
    "FROM match AS m\n",
    "-- Filter for the 2012/2013 season\n",
    "WHERE season = '2012/2013'\n",
    "-- Group by stage\n",
    "GROUP BY m.stage;"
   ]
  },
  {
   "cell_type": "markdown",
   "metadata": {},
   "source": [
    "# Add a subquery in FROM\n",
    "\n",
    "In the previous exercise, you created a data set listing the average home and away goals in each match stage of the 2012/2013 match season.\n",
    "\n",
    "In this next step, you will turn the main query into a subquery to extract a list of stages where the average home goals in a stage is higher than the overall average for home goals in a match.\n",
    "\n",
    "# Instructions:\n",
    "\n",
    "- Calculate the average home goals and average away goals from the match table for each stage in the FROM clause subquery.\n",
    "- Add a subquery to the WHERE clause that calculates the overall average home goals.\n",
    "- Filter the main query for stages where the average home goals is higher than the overall average.\n",
    "- Select the stage and avg_goals columns from the s subquery into the main query."
   ]
  },
  {
   "cell_type": "code",
   "execution_count": null,
   "metadata": {
    "vscode": {
     "languageId": "sql"
    }
   },
   "outputs": [],
   "source": [
    "SELECT \n",
    "\t-- Select the stage and average goals from the subquery\n",
    "\ts.stage,\n",
    "\tROUND(s.avg_goals,2) AS avg_goals\n",
    "FROM \n",
    "\t-- Select the stage and average goals in 2012/2013\n",
    "\t(SELECT\n",
    "\t\t stage,\n",
    "         AVG(home_goal + away_goal) AS avg_goals\n",
    "\t FROM match\n",
    "\t WHERE season = '2012/2013'\n",
    "\t GROUP BY stage) AS s\n",
    "WHERE \n",
    "\t-- Filter the main query using the subquery\n",
    "\ts.avg_goals > (SELECT AVG(home_goal + away_goal) \n",
    "                    FROM match WHERE season = '2012/2013');"
   ]
  },
  {
   "cell_type": "markdown",
   "metadata": {},
   "source": [
    "# Add a subquery in SELECT\n",
    "\n",
    "In the previous exercise, you added a subquery to the FROM statement and selected the stages where the number of average goals in a stage exceeded the overall average number of goals in the 2012/2013 match season. In this final step, you will add a subquery in SELECT to compare the average number of goals scored in each stage to the total.\n",
    "\n",
    "# Instructions:\n",
    "\n",
    "- Create a subquery in SELECT that yields the average goals scored in the 2012/2013 season. Name the new column overall_avg.\n",
    "- Create a subquery in FROM that calculates the average goals scored in each stage during the 2012/2013 season.\n",
    "- Filter the main query for stages where the average goals exceeds the overall average in 2012/2013."
   ]
  },
  {
   "cell_type": "code",
   "execution_count": null,
   "metadata": {
    "vscode": {
     "languageId": "sql"
    }
   },
   "outputs": [],
   "source": [
    "SELECT \n",
    "\t-- Select the stage and average goals from s\n",
    "\ts.stage,\n",
    "    ROUND(s.avg_goals,2) AS avg_goal,\n",
    "    -- Select the overall average for 2012/2013\n",
    "    (SELECT AVG(home_goal + away_goal) FROM match WHERE season = '2012/2013') AS overall_avg\n",
    "FROM \n",
    "\t-- Select the stage and average goals in 2012/2013 from match\n",
    "\t(SELECT\n",
    "\t\t stage,\n",
    "         AVG(home_goal + away_goal) AS avg_goals\n",
    "\t FROM match\n",
    "\t WHERE season = '2012/2013'\n",
    "\t GROUP BY stage) AS s\n",
    "WHERE \n",
    "\t-- Filter the main query using the subquery\n",
    "\ts.avg_goals > (SELECT AVG(home_goal + away_goal) \n",
    "                    FROM match WHERE season = '2012/2013');"
   ]
  }
 ],
 "metadata": {
  "language_info": {
   "name": "python"
  }
 },
 "nbformat": 4,
 "nbformat_minor": 2
}
