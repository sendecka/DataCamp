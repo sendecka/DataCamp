{
 "cells": [
  {
   "cell_type": "markdown",
   "metadata": {},
   "source": [
    "# 3 Correlated Queries, Nested Queries, and Common Table Expressions\n",
    "\n",
    "In this chapter, you will learn how to use nested and correlated subqueries to extract more complex data from a relational database. You will also learn about common table expressions and how to best construct queries using multiple common table expressions."
   ]
  },
  {
   "cell_type": "markdown",
   "metadata": {},
   "source": [
    "# Basic Correlated Subqueries\n",
    "\n",
    "Correlated subqueries are subqueries that reference one or more columns in the main query. Correlated subqueries depend on information in the main query to run, and thus, cannot be executed on their own.\n",
    "\n",
    "Correlated subqueries are evaluated in SQL once per row of data retrieved -- a process that takes a lot more computing power and time than a simple subquery.\n",
    "\n",
    "In this exercise, you will practice using correlated subqueries to examine matches with scores that are extreme outliers for each country -- above 3 times the average score!\n",
    "\n",
    "# Instructions:\n",
    "\n",
    "- Select the country_id, date, home_goal, and away_goal columns in the main query.\n",
    "- Complete the AVG value in the subquery.\n",
    "- Complete the subquery column references, so that country_id is matched in the main and subquery."
   ]
  },
  {
   "cell_type": "code",
   "execution_count": null,
   "metadata": {
    "vscode": {
     "languageId": "sql"
    }
   },
   "outputs": [],
   "source": [
    "SELECT \n",
    "\t-- Select country ID, date, home, and away goals from match\n",
    "\tmain.country_id,\n",
    "    main.date,\n",
    "    main.home_goal, \n",
    "    main.away_goal\n",
    "FROM match AS main\n",
    "WHERE \n",
    "\t-- Filter the main query by the subquery\n",
    "\t(home_goal + away_goal) > \n",
    "        (SELECT AVG((sub.home_goal + sub.away_goal) * 3)\n",
    "         FROM match AS sub\n",
    "         -- Join the main query to the subquery in WHERE\n",
    "         WHERE main.country_id = sub.country_id);"
   ]
  },
  {
   "cell_type": "markdown",
   "metadata": {},
   "source": [
    "# Correlated subquery with multiple conditions\n",
    "\n",
    "Correlated subqueries are useful for matching data across multiple columns. In the previous exercise, you generated a list of matches with extremely high scores for each country. In this exercise, you're going to add an additional column for matching to answer the question -- what was the highest scoring match for each country, in each season?\n",
    "\n",
    "*Note: this query may take a while to load.\n",
    "\n",
    "# Instructions:\n",
    "\n",
    "- Select the country_id, date, home_goal, and away_goal columns in the main query.\n",
    "- Complete the subquery: Select the matches with the highest number of total goals.\n",
    "- Match the subquery to the main query using country_id and season.\n",
    "- Fill in the correct logical operator so that total goals equals the max goals recorded in the subquery."
   ]
  },
  {
   "cell_type": "code",
   "execution_count": null,
   "metadata": {
    "vscode": {
     "languageId": "sql"
    }
   },
   "outputs": [],
   "source": [
    "SELECT \n",
    "\t-- Select country ID, date, home, and away goals from match\n",
    "\tmain.country_id,\n",
    "    main.date,\n",
    "    main.home_goal,\n",
    "    main.away_goal\n",
    "FROM match AS main\n",
    "WHERE \n",
    "\t-- Filter for matches with the highest number of goals scored\n",
    "\t(home_goal + away_goal) = \n",
    "        (SELECT MAX(sub.home_goal + sub.away_goal)\n",
    "         FROM match AS sub\n",
    "         WHERE sub.country_id = main.country_id\n",
    "               AND sub.season = main.season);"
   ]
  },
  {
   "cell_type": "markdown",
   "metadata": {},
   "source": [
    "# Nested simple subqueries\n",
    "\n",
    "Nested subqueries can be either simple or correlated.\n",
    "\n",
    "Just like an unnested subquery, a nested subquery's components can be executed independently of the outer query, while a correlated subquery requires both the outer and inner subquery to run and produce results.\n",
    "\n",
    "In this exercise, you will practice creating a nested subquery to examine the highest total number of goals in each season, overall, and during July across all seasons.\n",
    "\n",
    "# Instructions:\n",
    "\n",
    "- Complete the main query to select the season and the max total goals in a match for each season. Name this max_goals.\n",
    "- Complete the first simple subquery to select the max total goals in a match across all seasons. Name this overall_max_goals.\n",
    "- Complete the nested subquery to select the maximum total goals in a match played in July across all seasons.\n",
    "- Select the maximum total goals in the outer subquery. Name this entire subquery july_max_goals."
   ]
  },
  {
   "cell_type": "code",
   "execution_count": null,
   "metadata": {
    "vscode": {
     "languageId": "sql"
    }
   },
   "outputs": [],
   "source": [
    "SELECT\n",
    "\t-- Select the season and max goals scored in a match\n",
    "\tseason,\n",
    "    MAX(home_goal + away_goal) AS max_goals,\n",
    "    -- Select the overall max goals scored in a match\n",
    "   (SELECT MAX(home_goal + away_goal) FROM match) AS overall_max_goals,\n",
    "   -- Select the max number of goals scored in any match in July\n",
    "   (SELECT MAX(home_goal + away_goal) \n",
    "    FROM match\n",
    "    WHERE id IN (\n",
    "          SELECT id FROM match WHERE EXTRACT(MONTH FROM date) = 07)) AS july_max_goals\n",
    "FROM match\n",
    "GROUP BY season;"
   ]
  },
  {
   "cell_type": "markdown",
   "metadata": {},
   "source": [
    "# Nest a subquery in FROM\n",
    "\n",
    "What's the average number of matches per season where a team scored 5 or more goals? How does this differ by country?\n",
    "\n",
    "Let's use a nested, correlated subquery to perform this operation. In the real world, you will probably find that nesting multiple subqueries is a task you don't have to perform often. In some cases, however, you may find yourself struggling to properly group by the column you want, or to calculate information requiring multiple mathematical transformations (i.e., an AVG of a COUNT).\n",
    "\n",
    "Nesting subqueries and performing your transformations one step at a time, adding it to a subquery, and then performing the next set of transformations is often the easiest way to yield accurate information about your data. Let's get to it!\n",
    "\n",
    "# Instructions:\n",
    "\n",
    "- Generate a list of matches where at least one team scored 5 or more goals."
   ]
  },
  {
   "cell_type": "code",
   "execution_count": null,
   "metadata": {
    "vscode": {
     "languageId": "sql"
    }
   },
   "outputs": [],
   "source": [
    "-- Select matches where a team scored 5+ goals\n",
    "SELECT\n",
    "\tcountry_id,\n",
    "    season,\n",
    "\tid\n",
    "FROM match\n",
    "WHERE home_goal >= 5 OR away_goal >= 5;"
   ]
  },
  {
   "cell_type": "markdown",
   "metadata": {},
   "source": [
    "- Turn the query from the previous step into a subquery in the FROM statement.\n",
    "- COUNT the match ids generated in the previous step, and group the query by country_id and season."
   ]
  },
  {
   "cell_type": "code",
   "execution_count": null,
   "metadata": {
    "vscode": {
     "languageId": "sql"
    }
   },
   "outputs": [],
   "source": [
    "-- Count match ids\n",
    "SELECT\n",
    "    country_id,\n",
    "    season,\n",
    "    COUNT(id) AS matches\n",
    "-- Set up and alias the subquery\n",
    "FROM (\n",
    "\tSELECT\n",
    "    \tcountry_id,\n",
    "    \tseason,\n",
    "    \tid\n",
    "\tFROM match\n",
    "\tWHERE home_goal >= 5 OR away_goal >= 5)\n",
    "    AS subquery\n",
    "-- Group by country_id and season\n",
    "GROUP BY country_id, season;"
   ]
  },
  {
   "cell_type": "markdown",
   "metadata": {},
   "source": [
    "- Finally, declare the same query from step 2 as a subquery in FROM with the alias outer_s.\n",
    "- Left join it to the country table using the outer query's country_id column.\n",
    "- Calculate an AVG of high scoring matches per country in the main query."
   ]
  },
  {
   "cell_type": "code",
   "execution_count": null,
   "metadata": {
    "vscode": {
     "languageId": "sql"
    }
   },
   "outputs": [],
   "source": [
    "SELECT\n",
    "\tc.name AS country,\n",
    "    -- Calculate the average matches per season\n",
    "\tAVG(outer_s.matches) AS avg_seasonal_high_scores\n",
    "FROM country AS c\n",
    "-- Left join outer_s to country\n",
    "LEFT JOIN (\n",
    "  SELECT country_id, season,\n",
    "         COUNT(id) AS matches\n",
    "  FROM (\n",
    "    SELECT country_id, season, id\n",
    "\tFROM match\n",
    "\tWHERE home_goal >= 5 OR away_goal >= 5) AS inner_s\n",
    "  -- Close parentheses and alias the subquery\n",
    "  GROUP BY country_id, season) AS outer_s\n",
    "ON c.id = outer_s.country_id\n",
    "GROUP BY country;"
   ]
  },
  {
   "cell_type": "markdown",
   "metadata": {},
   "source": [
    "# Clean up with CTEs\n",
    "\n",
    "In chapter 2, you generated a list of countries and the number of matches in each country with more than 10 total goals. The query in that exercise utilized a subquery in the FROM statement in order to filter the matches before counting them in the main query. Below is the query you created:\n",
    "\n",
    "SELECT\n",
    "  c.name AS country,\n",
    "  COUNT(sub.id) AS matches\n",
    "FROM country AS c\n",
    "INNER JOIN (\n",
    "  SELECT country_id, id \n",
    "  FROM match\n",
    "  WHERE (home_goal + away_goal) >= 10) AS sub\n",
    "ON c.id = sub.country_id\n",
    "GROUP BY country;\n",
    "You can list one (or more) subqueries as common table expressions (CTEs) by declaring them ahead of your main query, which is an excellent tool for organizing information and placing it in a logical order.\n",
    "\n",
    "In this exercise, let's rewrite a similar query using a CTE.\n",
    "\n",
    "# Instructions:\n",
    "\n",
    "- Complete the syntax to declare your CTE.\n",
    "- Select the country_id and match id from the match table in your CTE.\n",
    "- Left join the CTE to the league table using country_id."
   ]
  },
  {
   "cell_type": "code",
   "execution_count": null,
   "metadata": {
    "vscode": {
     "languageId": "sql"
    }
   },
   "outputs": [],
   "source": [
    "-- Set up your CTE\n",
    "WITH match_list AS (\n",
    "    SELECT \n",
    "  \t\tcountry_id, \n",
    "  \t\tid\n",
    "    FROM match\n",
    "    WHERE (home_goal + away_goal) >= 10)\n",
    "-- Select league and count of matches from the CTE\n",
    "SELECT\n",
    "    l.name AS league,\n",
    "    COUNT(match_list.id) AS matches\n",
    "FROM league AS l\n",
    "-- Join the CTE to the league table\n",
    "LEFT JOIN match_list ON l.id = match_list.country_id\n",
    "GROUP BY l.name;"
   ]
  },
  {
   "cell_type": "markdown",
   "metadata": {},
   "source": [
    "# Organizing with CTEs\n",
    "\n",
    "Previously, you modified a query based on a statement you completed in chapter 2 using common table expressions.\n",
    "\n",
    "This time, let's expand on the exercise by looking at details about matches with very high scores using CTEs. Just like a subquery in FROM, you can join tables inside a CTE.\n",
    "\n",
    "# Instructions:\n",
    "\n",
    "- Declare your CTE, where you create a list of all matches with the league name.\n",
    "- Select the league, date, home, and away goals from the CTE.\n",
    "- Filter the main query for matches with 10 or more goals."
   ]
  },
  {
   "cell_type": "code",
   "execution_count": null,
   "metadata": {
    "vscode": {
     "languageId": "sql"
    }
   },
   "outputs": [],
   "source": [
    "-- Set up your CTE\n",
    "WITH match_list AS (\n",
    "  -- Select the league, date, home, and away goals\n",
    "    SELECT \n",
    "  \t\tl.name AS league, \n",
    "     \tm.date, \n",
    "  \t\tm.home_goal, \n",
    "  \t\tm.away_goal,\n",
    "       (m.home_goal + m.away_goal) AS total_goals\n",
    "    FROM match AS m\n",
    "    LEFT JOIN league as l ON m.country_id = l.id)\n",
    "-- Select the league, date, home, and away goals from the CTE\n",
    "SELECT league, date, home_goal, away_goal\n",
    "FROM match_list\n",
    "-- Filter by total goals\n",
    "WHERE total_goals >= 10;"
   ]
  },
  {
   "cell_type": "markdown",
   "metadata": {},
   "source": [
    "# CTEs with nested subqueries\n",
    "\n",
    "If you find yourself listing multiple subqueries in the FROM clause with nested statement, your query will likely become long, complex, and difficult to read.\n",
    "\n",
    "Since many queries are written with the intention of being saved and re-run in the future, proper organization is key to a seamless workflow. Arranging subqueries as CTEs will save you time, space, and confusion in the long run!\n",
    "\n",
    "# Instructions:\n",
    "\n",
    "- Declare a CTE that calculates the total goals from matches in August of the 2013/2014 season.\n",
    "- Left join the CTE onto the league table using country_id from the match_list CTE.\n",
    "- Filter the list on the inner subquery to only select matches in August of the 2013/2014 season."
   ]
  },
  {
   "cell_type": "code",
   "execution_count": null,
   "metadata": {
    "vscode": {
     "languageId": "sql"
    }
   },
   "outputs": [],
   "source": [
    "-- Set up your CTE\n",
    "WITH match_list AS (\n",
    "    SELECT \n",
    "  \t\tcountry_id,\n",
    "  \t   (home_goal + away_goal) AS goals\n",
    "    FROM match\n",
    "  \t-- Create a list of match IDs to filter data in the CTE\n",
    "    WHERE id IN (\n",
    "       SELECT id\n",
    "       FROM match\n",
    "       WHERE season = '2013/2014' AND EXTRACT(MONTH FROM date) = 8))\n",
    "-- Select the league name and average of goals in the CTE\n",
    "SELECT \n",
    "\tl.name,\n",
    "    AVG(goals)\n",
    "FROM league AS l\n",
    "-- Join the CTE onto the league table\n",
    "LEFT JOIN match_list ON l.id = match_list.country_id\n",
    "GROUP BY l.name;"
   ]
  },
  {
   "cell_type": "markdown",
   "metadata": {},
   "source": [
    "# Get team names with a subquery\n",
    "\n",
    "Let's solve a problem we've encountered a few times in this course so far -- How do you get both the home and away team names into one final query result?\n",
    "\n",
    "Out of the 4 techniques we just discussed, this can be performed using subqueries, correlated subqueries, and CTEs. Let's practice creating similar result sets using each of these 3 methods over the next 3 exercises, starting with subqueries in FROM.\n",
    "\n",
    "# Instructions:\n",
    "\n",
    "- Create a query that left joins team to match in order to get the identity of the home team. This becomes the subquery in the next step."
   ]
  },
  {
   "cell_type": "code",
   "execution_count": null,
   "metadata": {
    "vscode": {
     "languageId": "sql"
    }
   },
   "outputs": [],
   "source": [
    "SELECT \n",
    "\tm.id, \n",
    "    t.team_long_name AS hometeam\n",
    "-- Left join team to match\n",
    "FROM match AS m\n",
    "LEFT JOIN team as t\n",
    "ON m.hometeam_id = team_api_id;"
   ]
  },
  {
   "cell_type": "markdown",
   "metadata": {},
   "source": [
    "- Add a second subquery to the FROM statement to get the away team name, changing only the hometeam_id. Left join both subqueries to the match table on the id column.\n",
    "Warning: if your code is timing out, you have probably made a mistake in the JOIN and tried to join on the wrong fields which caused the table to be too big! Read the provided code and comments carefully, and check your ON conditions!"
   ]
  },
  {
   "cell_type": "code",
   "execution_count": null,
   "metadata": {
    "vscode": {
     "languageId": "sql"
    }
   },
   "outputs": [],
   "source": [
    "SELECT\n",
    "\tm.date,\n",
    "    -- Get the home and away team names\n",
    "    home.hometeam,\n",
    "    away.awayteam,\n",
    "    m.home_goal,\n",
    "    m.away_goal\n",
    "FROM match AS m\n",
    "\n",
    "-- Join the home subquery to the match table\n",
    "LEFT JOIN (\n",
    "  SELECT match.id, team.team_long_name AS hometeam\n",
    "  FROM match\n",
    "  LEFT JOIN team\n",
    "  ON match.hometeam_id = team.team_api_id) AS home\n",
    "ON home.id = m.id\n",
    "\n",
    "-- Join the away subquery to the match table\n",
    "LEFT JOIN (\n",
    "  SELECT match.id, team.team_long_name AS awayteam\n",
    "  FROM match\n",
    "  LEFT JOIN team\n",
    "  -- Get the away team ID in the subquery\n",
    "  ON match.awayteam_id = team.team_api_id) AS away\n",
    "ON away.id = m.id;"
   ]
  },
  {
   "cell_type": "markdown",
   "metadata": {},
   "source": [
    "# Get team names with correlated subqueries\n",
    "\n",
    "Let's solve the same problem using correlated subqueries -- How do you get both the home and away team names into one final query result?\n",
    "\n",
    "This can easily be performed using correlated subqueries. But how might that impact the performance of your query? Complete the following steps and let's find out!\n",
    "\n",
    "Please note that your query will run more slowly than the previous exercise!\n",
    "\n",
    "# Instructions:\n",
    "\n",
    "- Using a correlated subquery in the SELECT statement, match the team_api_id column from team to the hometeam_id from match.\n"
   ]
  },
  {
   "cell_type": "code",
   "execution_count": null,
   "metadata": {
    "vscode": {
     "languageId": "sql"
    }
   },
   "outputs": [],
   "source": [
    "SELECT\n",
    "    m.date,\n",
    "   (SELECT team_long_name\n",
    "    FROM team AS t\n",
    "    -- Connect the team to the match table\n",
    "    WHERE t.team_api_id = m.hometeam_id) AS hometeam\n",
    "FROM match AS m;"
   ]
  },
  {
   "cell_type": "markdown",
   "metadata": {},
   "source": [
    "- Create a second correlated subquery in SELECT, yielding the away team's name.\n",
    "- Select the home and away goal columns from match in the main query."
   ]
  },
  {
   "cell_type": "code",
   "execution_count": null,
   "metadata": {
    "vscode": {
     "languageId": "sql"
    }
   },
   "outputs": [],
   "source": [
    "SELECT\n",
    "    m.date,\n",
    "    (SELECT team_long_name\n",
    "     FROM team AS t\n",
    "     WHERE t.team_api_id = m.hometeam_id) AS hometeam,\n",
    "    -- Connect the team to the match table\n",
    "    (SELECT team_long_name\n",
    "     FROM team AS t\n",
    "     WHERE t.team_api_id = m.awayteam_id) AS awayteam,\n",
    "    -- Select home and away goals\n",
    "    m.home_goal,\n",
    "    m.away_goal\n",
    "FROM match AS m;"
   ]
  },
  {
   "cell_type": "markdown",
   "metadata": {},
   "source": [
    "# Get team names with CTEs\n",
    "\n",
    "You've now explored two methods for answering the question, How do you get both the home and away team names into one final query result?\n",
    "\n",
    "Let's explore the final method - common table expressions. Common table expressions are similar to the subquery method for generating results, mainly differing in syntax and the order in which information is processed.\n",
    "\n",
    "# Instructions:\n",
    "\n",
    "- Select id from match and team_long_name from team. Join these two tables together on hometeam_id in match and team_api_id in team."
   ]
  },
  {
   "cell_type": "code",
   "execution_count": null,
   "metadata": {
    "vscode": {
     "languageId": "sql"
    }
   },
   "outputs": [],
   "source": [
    "SELECT \n",
    "\t-- Select match id and team long name\n",
    "    m.id, \n",
    "    t.team_long_name AS hometeam\n",
    "FROM match AS m\n",
    "-- Join team to match using team_api_id and hometeam_id\n",
    "LEFT JOIN team AS t \n",
    "ON m.hometeam_id = t.team_api_id;"
   ]
  },
  {
   "cell_type": "markdown",
   "metadata": {},
   "source": [
    "- Declare the query from the previous step as a common table expression. SELECT everything from the CTE into the main query. Your results will not change at this step!"
   ]
  },
  {
   "cell_type": "code",
   "execution_count": null,
   "metadata": {
    "vscode": {
     "languageId": "sql"
    }
   },
   "outputs": [],
   "source": [
    "-- Declare the home CTE\n",
    "WITH home AS (\n",
    "\tSELECT m.id, t.team_long_name AS hometeam\n",
    "\tFROM match AS m\n",
    "\tLEFT JOIN team AS t \n",
    "\tON m.hometeam_id = t.team_api_id)\n",
    "-- Select everything from home\n",
    "SELECT *\n",
    "FROM home;"
   ]
  },
  {
   "cell_type": "markdown",
   "metadata": {},
   "source": [
    "- Let's declare the second CTE, away. Join it to the first CTE on the id column.\n",
    "- The date, home_goal, and away_goal columns have been added to the CTEs. SELECT them into the main query."
   ]
  },
  {
   "cell_type": "code",
   "execution_count": null,
   "metadata": {
    "vscode": {
     "languageId": "sql"
    }
   },
   "outputs": [],
   "source": [
    "WITH home AS (\n",
    "  SELECT m.id, m.date, \n",
    "  \t\t t.team_long_name AS hometeam, m.home_goal\n",
    "  FROM match AS m\n",
    "  LEFT JOIN team AS t \n",
    "  ON m.hometeam_id = t.team_api_id),\n",
    "-- Declare and set up the away CTE\n",
    "away AS (\n",
    "  SELECT m.id, m.date, \n",
    "  \t\t t.team_long_name AS awayteam, m.away_goal\n",
    "  FROM match AS m\n",
    "  LEFT JOIN team AS t \n",
    "  ON m.awayteam_id = t.team_api_id)\n",
    "-- Select date, home_goal, and away_goal\n",
    "SELECT \n",
    "\thome.date,\n",
    "    home.hometeam,\n",
    "    away.awayteam,\n",
    "    home.home_goal,\n",
    "    away.away_goal\n",
    "-- Join away and home on the id column\n",
    "FROM home\n",
    "INNER JOIN away\n",
    "ON home.id = away.id;"
   ]
  }
 ],
 "metadata": {
  "language_info": {
   "name": "python"
  }
 },
 "nbformat": 4,
 "nbformat_minor": 2
}
