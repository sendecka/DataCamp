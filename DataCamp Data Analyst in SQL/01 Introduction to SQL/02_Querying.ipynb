{
 "cells": [
  {
   "cell_type": "markdown",
   "metadata": {},
   "source": [
    "# 2 Querying\n",
    "\n",
    "Learn your first SQL keywords for selecting relevant data from database tables! After practicing querying skills in a database of books, you’ll customize query results using aliasing and save them as views so they can be shared. Finally, you’ll explore the differences between SQL flavors and databases such as PostgreSQL and SQL Server."
   ]
  },
  {
   "cell_type": "markdown",
   "metadata": {},
   "source": [
    "# Querying the books table\n",
    "\n",
    "You're ready to practice writing your first SQL queries using the SELECT and FROM keywords. Recall from the video that SELECT is used to choose the fields that will be included in the result set, while FROM is used to pick the table in which the fields are listed.\n",
    "\n",
    "Feel free to explore books in the exercise.\n",
    "\n",
    "Your task in this exercise is to practice selecting fields from books."
   ]
  },
  {
   "cell_type": "markdown",
   "metadata": {},
   "source": [
    "# Instructions:\n",
    "\n",
    "- Use SQL to return a result set of all book titles included in the books table."
   ]
  },
  {
   "cell_type": "code",
   "execution_count": null,
   "metadata": {},
   "outputs": [],
   "source": [
    "-- Return all titles from the books table\n",
    "SELECT title\n",
    "FROM books "
   ]
  },
  {
   "cell_type": "markdown",
   "metadata": {},
   "source": [
    "- Select both the title and author fields from books."
   ]
  },
  {
   "cell_type": "code",
   "execution_count": null,
   "metadata": {},
   "outputs": [],
   "source": [
    "-- Select title and author from the books table\n",
    "SELECT title, author\n",
    "FROM books;"
   ]
  },
  {
   "cell_type": "markdown",
   "metadata": {},
   "source": [
    "- Select all fields from the books table."
   ]
  },
  {
   "cell_type": "code",
   "execution_count": null,
   "metadata": {},
   "outputs": [],
   "source": [
    "-- Select all fields from the books table\n",
    "SELECT *\n",
    "FROM books;"
   ]
  },
  {
   "cell_type": "markdown",
   "metadata": {},
   "source": [
    "# Making queries DISTINCT\n",
    "\n",
    "You've learned that the DISTINCT keyword can be used to return unique values in a field. In this exercise, you'll use this understanding to find out more about the books table!\n",
    "\n",
    "There are 350 books in the books table, representing all of the books that our local library has available for checkout. But how many different authors are represented in these 350 books? The answer is surely less than 350. For example, J.K. Rowling wrote all seven Harry Potter books, so if our library has all Harry Potter books, seven books will be written by J.K Rowling. There are likely many more repeat authors!"
   ]
  },
  {
   "cell_type": "markdown",
   "metadata": {},
   "source": [
    "# Instructions:\n",
    "\n",
    "- Write SQL code that returns a result set with just one column listing the unique authors in the books table."
   ]
  },
  {
   "cell_type": "code",
   "execution_count": null,
   "metadata": {},
   "outputs": [],
   "source": [
    "-- Select unique authors from the books table\n",
    "SELECT DISTINCT author\n",
    "FROM books;"
   ]
  },
  {
   "cell_type": "markdown",
   "metadata": {},
   "source": [
    "- Update the code to return the unique author and genre combinations in the books table."
   ]
  },
  {
   "cell_type": "code",
   "execution_count": null,
   "metadata": {},
   "outputs": [],
   "source": [
    "-- Select unique authors and genre combinations from the books table\n",
    "SELECT DISTINCT author, genre\n",
    "FROM books;"
   ]
  },
  {
   "cell_type": "markdown",
   "metadata": {},
   "source": [
    "# Aliasing\n",
    "While the default column names in a SQL result set come from the fields they are created from, you've learned that aliasing can be used to rename these result set columns. This can be helpful for clarifying the intent or contents of the column.\n",
    "\n",
    "Your task in this exercise is to incorporate an alias into one of the SQL queries that you worked with in the previous exercise!\n",
    "\n",
    "# Instructions\n",
    "\n",
    "- Add an alias to the SQL query to rename the author column to unique_author in the result set."
   ]
  },
  {
   "cell_type": "code",
   "execution_count": null,
   "metadata": {},
   "outputs": [],
   "source": [
    "-- Alias author so that it becomes unique_author\n",
    "SELECT DISTINCT author AS unique_author\n",
    "FROM books;"
   ]
  },
  {
   "cell_type": "markdown",
   "metadata": {},
   "source": [
    "# VIEWing your query\n",
    "\n",
    "You've worked hard to create the below SQL query:\n",
    "\n",
    "SELECT DISTINCT author AS unique_author\n",
    "FROM books;\n",
    "What if you'd like to be able to refer to it later, or allow others to access and use the results? The best way to do this is by creating a view. Recall that a view is a virtual table: it's very similar to a real table, but rather than the data itself being stored, the query code is stored for later use."
   ]
  },
  {
   "cell_type": "markdown",
   "metadata": {},
   "source": [
    "# Instructions:\n",
    "\n",
    "Add a single line of code that saves the results of the written query as a view called library_authors."
   ]
  },
  {
   "cell_type": "code",
   "execution_count": null,
   "metadata": {},
   "outputs": [],
   "source": [
    "-- Save the results of this query as a view called library_authors\n",
    "CREATE VIEW library_authors AS\n",
    "SELECT DISTINCT author AS unique_author\n",
    "FROM books;"
   ]
  },
  {
   "cell_type": "markdown",
   "metadata": {},
   "source": [
    "- Check that the view was created by selecting all columns from library_authors."
   ]
  },
  {
   "cell_type": "code",
   "execution_count": null,
   "metadata": {},
   "outputs": [],
   "source": [
    "-- Your code to create the view:\n",
    "CREATE VIEW library_authors AS\n",
    "SELECT DISTINCT author AS unique_author\n",
    "FROM books;\n",
    "\n",
    "-- Select all columns from library_authors\n",
    "SELECT *\n",
    "FROM library_authors"
   ]
  }
 ],
 "metadata": {
  "language_info": {
   "name": "python"
  }
 },
 "nbformat": 4,
 "nbformat_minor": 2
}
