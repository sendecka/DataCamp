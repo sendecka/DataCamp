{
 "cells": [
  {
   "cell_type": "markdown",
   "metadata": {},
   "source": [
    "# 1 Relational Databases\n",
    "\n",
    "Before writing any SQL queries, it’s important to understand the underlying data. In this chapter, we’ll discover the role of SQL in creating and querying relational databases. Using a database for a local library, we will explore database and table organization, data types and storage, and best practices for database construction.\n"
   ]
  },
  {
   "cell_type": "markdown",
   "metadata": {},
   "source": [
    "# What are the advantages of databases?\n",
    "\n",
    "Which of the following are advantages of storing data in a database, rather than using traditional formats like spreadsheets?\n",
    "\n",
    "## Possible Answers\n",
    "\n",
    "(x) More storage\n",
    "\n",
    "( ) Many people can use at once\n",
    "\n",
    "( ) Can be secured with encryption\n",
    "\n",
    "( ) All of the above"
   ]
  },
  {
   "cell_type": "markdown",
   "metadata": {},
   "source": [
    "# Data organization\n",
    "Understanding the organization of a database is an important first step when using SQL.\n",
    "\n",
    "Take a look at the database below. Which of the following statements correctly describes its organization?\n",
    "\n",
    "# Possible Answers\n",
    "\n",
    "(x) This is a table containing three relational databases: employees, job_levels, and departments.\n",
    "\n",
    "( ) This is a relational database containing three tables: employees, job_levels, and departments.\n",
    "\n",
    "( ) This is a database, but it is not relational, because no relationship exists between job levels and departments.\n",
    "\n",
    "( ) This is not a database because there is no SQL code shown."
   ]
  },
  {
   "cell_type": "markdown",
   "metadata": {},
   "source": [
    "# Picking a unique ID\n",
    "A unique identifier is a value that distinguishes a record from others in the same table.\n",
    "\n",
    "In the employees table, which fields do you believe is the most suitable choice for a unique identifier?\n",
    "\n",
    "# Possible Answers\n",
    "\n",
    "( ) name\n",
    "\n",
    "( ) dept_id\n",
    "\n",
    "( ) year_hired\n",
    "\n",
    "( ) id"
   ]
  },
  {
   "cell_type": "markdown",
   "metadata": {},
   "source": [
    "# Our very own table\n",
    "\n",
    "A database has been set up for this course and the books table is available here.\n",
    "\n",
    "Run the code to explore what data books holds!\n",
    "\n",
    "# Instructions\n",
    "\n",
    "- Hit \"Run Code\" to see the books table."
   ]
  },
  {
   "cell_type": "code",
   "execution_count": null,
   "metadata": {
    "vscode": {
     "languageId": "sql"
    }
   },
   "outputs": [],
   "source": [
    "SELECT *\n",
    "FROM books;"
   ]
  },
  {
   "cell_type": "markdown",
   "metadata": {},
   "source": [
    "# At your service\n",
    "Now that you know more about how data is stored, it's time to test those skills!\n",
    "\n",
    "Select the statement about database storage that is false.\n",
    "\n",
    "# Possible Answers\n",
    "\n",
    "(x) Servers can be used for storing website information as well as databases.\n",
    "\n",
    "( ) A server can handle requests from many computers at once.\n",
    "\n",
    "( ) Servers are usually personal computers such as laptops.\n",
    "\n",
    "( ) Data from a database is physically stored on a server."
   ]
  },
  {
   "cell_type": "markdown",
   "metadata": {},
   "source": [
    "# Finding data types\n",
    "\n",
    "Imagine that you are starting a new job and have just started getting to know your new employer's database. You know that it's important to know the data type—such as VARCHAR, INT, or NUMERIC—corresponding to each field in a table. Where could you find this information?\n",
    "\n",
    "# Possible Answers\n",
    "\n",
    "( ) You can find this information by looking at each table in the database.\n",
    "\n",
    "( ) You can find this information by looking at a diagram of relationships between tables.\n",
    "\n",
    "( ) You can find this information by looking at the values in each field for each table.\n",
    "\n",
    "( ) You can find this information by looking at a database schema."
   ]
  }
 ],
 "metadata": {
  "language_info": {
   "name": "python"
  }
 },
 "nbformat": 4,
 "nbformat_minor": 2
}
