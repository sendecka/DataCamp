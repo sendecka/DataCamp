{
 "cells": [
  {
   "cell_type": "markdown",
   "metadata": {},
   "source": [
    "# 1 Relational Databases\n",
    "\n",
    "Before writing any SQL queries, it’s important to understand the underlying data. In this chapter, we’ll discover the role of SQL in creating and querying relational databases. Using a database for a local library, we will explore database and table organization, data types and storage, and best practices for database construction.\n"
   ]
  },
  {
   "cell_type": "markdown",
   "metadata": {},
   "source": [
    "# What are the advantages of databases?\n",
    "\n",
    "Which of the following are advantages of storing data in a database, rather than using traditional formats like spreadsheets?\n",
    "\n",
    "## Possible Answers\n",
    "\n",
    "(x) More storage\n",
    "\n",
    "( ) Many people can use at once\n",
    "\n",
    "( ) Can be secured with encryption\n",
    "\n",
    "( ) All of the above"
   ]
  },
  {
   "cell_type": "markdown",
   "metadata": {},
   "source": [
    "# Our very own table\n",
    "\n",
    "A database has been set up for this course and the books table is available here.\n",
    "\n",
    "Run the code to explore what data books holds!\n",
    "\n",
    "# Instructions\n",
    "\n",
    "- Hit \"Run Code\" to see the books table."
   ]
  },
  {
   "cell_type": "code",
   "execution_count": null,
   "metadata": {},
   "outputs": [],
   "source": [
    "SELECT *\n",
    "FROM books;"
   ]
  }
 ],
 "metadata": {
  "language_info": {
   "name": "python"
  }
 },
 "nbformat": 4,
 "nbformat_minor": 2
}
