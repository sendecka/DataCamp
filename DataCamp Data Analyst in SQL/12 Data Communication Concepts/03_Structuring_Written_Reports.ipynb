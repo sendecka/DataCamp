{
 "cells": [
  {
   "cell_type": "markdown",
   "metadata": {},
   "source": [
    "# 3 Structuring Written Reports\n",
    "\n",
    "Now that you understand how to prepare for communicating findings, it’s time to learn how to structure your reports. You'll also learn the importance of reproducibility (work smarter, not harder) and how to get to the point when describing your findings. You’ll then get to apply all you’ve learned to a real-world use case as you create a compelling report on credit risk."
   ]
  },
  {
   "cell_type": "markdown",
   "metadata": {},
   "source": [
    "# Something to report\n",
    "\n",
    "You need to present a report regarding your findings about customer churn and the predictive model you used, which you worked on in Chapter 1. Your project manager asks you to write it according to industry standards. You're aware that this requires you to follow a strict structure. Your manager also specifies that the report will be shared with technical stakeholders.\n",
    "\n",
    "First, you write the sections separately: it's easier to handle that way. Then comes the time to bring all the sections together.\n",
    "\n",
    "Can you organize the sections you wrote for the report in the correct order?"
   ]
  },
  {
   "cell_type": "markdown",
   "metadata": {},
   "source": [
    "# In summary\n",
    "\n",
    "Well done ordering the sections in your technical stakeholder report. Your project lead asks you to write a report to send to the directory board. They are non-technical stakeholders. You will revisit your previous report and tailor it as a summary report. But first, you want to refresh how a final report and a summary report differ.\n",
    "\n",
    "Can you correctly classify the statements as characteristics of a final or summary report?"
   ]
  },
  {
   "cell_type": "markdown",
   "metadata": {},
   "source": [
    "# Same results\n",
    "\n",
    "Your manager is very interested in learning more about reproducibility. She asks you to give a short presentation at the weekly meeting. You're going to introduce the best practices to create reproducible data science results.\n",
    "\n",
    "You prepare a slide presenting bad practices, and another one highlighting best practices.\n",
    "\n",
    "Which of the following statements are considered best practices in reproducibility, and which should be avoided?"
   ]
  },
  {
   "cell_type": "markdown",
   "metadata": {},
   "source": [
    "# Half-empty glass\n",
    "\n",
    "Your coworker, whom you helped with a project on price predictions in Chapter 2, asks you now to read his report. He wants your feedback as the report is designed for the executive team. Particularly, you should focus on fixing any empty or fat phrase, or colloquialism.\n",
    "\n",
    "Can you help him identify improvable sentences, and suggest a better alternative?"
   ]
  },
  {
   "cell_type": "markdown",
   "metadata": {},
   "source": [
    "# Strong words\n",
    "\n",
    "Your coworker is very satisfied with your feedback. He now asks you to look at another report he wrote for technical stakeholders. You noticed that the writing style is confusing and verbose. You decide to help him use more concrete nouns, and to fix redundant adjectives and run-on sentences.\n",
    "\n",
    "Can you classify which of the following examples are intelligible, and which ones can be improved?"
   ]
  },
  {
   "cell_type": "markdown",
   "metadata": {},
   "source": [
    "# Report my credit\n",
    "\n",
    "Your analytic report on the credit score project was a success. Your project manager was very satisfied with your work. Now, it's time to write the summary report for the financial department director. You want her to understand the key findings. Particularly, that the most important features for predicting a loan default are income, age, and employment length.\n",
    "\n",
    "Can you put in order the sections of your summary report?"
   ]
  }
 ],
 "metadata": {
  "language_info": {
   "name": "python"
  }
 },
 "nbformat": 4,
 "nbformat_minor": 2
}
