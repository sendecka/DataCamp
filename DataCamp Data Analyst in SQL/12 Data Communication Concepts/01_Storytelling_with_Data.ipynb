{
 "cells": [
  {
   "cell_type": "markdown",
   "metadata": {},
   "source": [
    "# 1 Storytelling with Data\n",
    "\n",
    "Let's start with the importance of data storytelling and the elements you need to tell stories with data. You'll learn best practices to influence how decisions are made before learning how to translate technical results into stories for non-technical stakeholders."
   ]
  },
  {
   "cell_type": "markdown",
   "metadata": {},
   "source": [
    "# The story begins\n",
    "\n",
    "You recently started working as a data scientist at a company named Communicatb. For your first project, you and your team need to analyze customer churn data for a cell phone company. The goal is to predict their behavior and help develop a program to retain customers.\n",
    "\n",
    "Your team lead knows you are an expert on storytelling. She asks you to explain to the team why crafting a compelling story is important when delivering results. You write down a list of reasons to be prepared.\n",
    "\n",
    "One of the statements you wrote is false. Can you select which one is it?\n",
    "\n",
    "# Select one answer\n",
    "\n",
    "( ) It will be easier for the audience to remember an anecdote on why customers churn than the correlation coefficients between customer traits.\n",
    "\n",
    "( ) Your findings will be better aligned with change-adverse stakeholder expectations. They will be most likely to implement the program to retain customers.\n",
    "\n",
    "(x) Even if your data do not reveal a distinct customer behavior, storytelling might influence stakeholders to create the retention program.\n",
    "\n",
    "( ) The marketing team will have a better understanding of the impact of your model. It is central since they are creating the retention program."
   ]
  },
  {
   "cell_type": "markdown",
   "metadata": {},
   "source": [
    "# Building a story\n",
    "\n",
    "You nailed it! Your explanation of why stories are efficient when conveying insights went very well! Now, your team lead would like you to give a short presentation. You're going to explain the different steps involved in telling a story with data to the team. It will be the starting point for delivering the results of the churn project when it's ready.\n",
    "\n",
    "You know it is an important task. To prepare for your talk, you look for your notes on the storytelling course you took, but realize that some parts are erased. So you need to remember the do's and dont's of data storytelling.\n",
    "\n",
    "Which of the following statements about effective data storytelling are true, and which are false?"
   ]
  },
  {
   "cell_type": "markdown",
   "metadata": {},
   "source": [
    "# A non-tech story\n",
    "\n",
    "The exploratory data analysis on the churn project is finished! It's now time for the monthly update meeting. You will have to explain your results to the operation specialist and the program director. You are addressing a non-technical audience, and want to make sure that your presentation is adapted to the audience you're addressing so that your message gets across.\n",
    "\n",
    "You write down some statements you could use to explain your work, but you believe some of them are more suitable for a non-technical story, while others are too technical to include.\n",
    "\n",
    "Can you select which sentences you should use in this case?"
   ]
  },
  {
   "cell_type": "markdown",
   "metadata": {},
   "source": [
    "# Be aware\n",
    "\n",
    "The meeting was a success! The program director asks you to send your results to the business specialists. You need to write a report and send it by email by the end of the week. You have never met them, so you ask for their background and goals.\n",
    "\n",
    "After you gather data, you realize you will be communicating your results to a different audience. You want them to understand your results.\n",
    "\n",
    "Can you select which of the following examples are best practices to translate your results?"
   ]
  },
  {
   "cell_type": "markdown",
   "metadata": {},
   "source": [
    "# Is it a true story?\n",
    "\n",
    "You have done an amazing job explaining your exploratory data analysis on the churn project. Now, it's time to run the model to predict customer churn. You know that you will have to craft an effective story to present these results.\n",
    "\n",
    "You want to be prepared. So you read your notes on how to build a compelling narrative. But you realized that one of your notes is not accurate.\n",
    "\n",
    "Which of the following statements is false?\n",
    "\n",
    "# Select one answer\n",
    "\n",
    "( ) A compelling narrative is key to presenting relevant insights to your target audience in a meaningful and impactful way.\n",
    "\n",
    "( ) Because you should shape the narrative to your target audience, showing only key points or findings is a good practice.\n",
    "\n",
    "(x) Unless you have a great data groundwork to support your central insight, your findings will need a well-formed and compelling narrative to drive action and change."
   ]
  },
  {
   "cell_type": "markdown",
   "metadata": {},
   "source": [
    "# Structured to impact\n",
    "\n",
    "Your project on customer churn is done. You analyzed the data and built your model. You followed the steps for storytelling. Now, it's time to structure your story to have an impact at the decision-making level. You want stakeholders to follow your recommendations.\n",
    "\n",
    "You like to write things down. So you take a pen and paper, and write down the different things you want to say in order on sticky notes. The window suddenly opens, throwing all of your notes on the floor.\n",
    "\n",
    "Can you organize the steps for telling a story with data that is solid enough to influence the decision-makers?"
   ]
  },
  {
   "cell_type": "markdown",
   "metadata": {},
   "source": [
    "# A story to compare\n",
    "\n",
    "Great job organizing your narrative structure! The next step is to think about how you will present your insights.\n",
    "\n",
    "You start reading and discover there are several ways to present data stories. You can compare your data, show correlation, cluster your data…\n",
    "\n",
    "You are curious to know what type of data story would be a good fit for your data. You write down the central finding, your insights and the supporting evidence.\n",
    "\n",
    "Can you classify your findings into the following categories?"
   ]
  }
 ],
 "metadata": {
  "language_info": {
   "name": "python"
  }
 },
 "nbformat": 4,
 "nbformat_minor": 2
}
