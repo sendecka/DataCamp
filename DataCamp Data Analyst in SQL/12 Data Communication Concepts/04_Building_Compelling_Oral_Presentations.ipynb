{
 "cells": [
  {
   "cell_type": "markdown",
   "metadata": {},
   "source": [
    "# 4 Building Compelling Oral Presentations\n",
    "\n",
    "You'll finish by learning simple techniques to structure a presentation, communicate insights, and inspire your audience to take action. Lastly, you'll learn how to improve your communication style and prepare to handle questions from your audience.\n"
   ]
  }
 ],
 "metadata": {
  "language_info": {
   "name": "python"
  }
 },
 "nbformat": 4,
 "nbformat_minor": 2
}
