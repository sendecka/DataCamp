{
 "cells": [
  {
   "cell_type": "markdown",
   "metadata": {},
   "source": [
    "# Analyzing Motorcycle Part Sales\n",
    "\n",
    "Use skills gained in the Data Analyst in SQL career track to derive insights about motorcycle part sales over time across multiple warehouse sites!"
   ]
  },
  {
   "cell_type": "markdown",
   "metadata": {},
   "source": [
    "# Project Description\n",
    "\n",
    "Working on behalf of a company that sells motorcycle parts, you'll dig into their data to help them understand their revenue streams. You'll build up a query to find out how much net revenue they are generating across their product lines, segregating by date and warehouse."
   ]
  },
  {
   "cell_type": "markdown",
   "metadata": {},
   "source": [
    "Create a query to return product_line, the month from date, displayed as 'June', 'July', and 'August', the warehouse, and net_revenue.\n",
    "\n",
    "net_revenue is calculated by getting the sum of total and multiplying by 1 - payment_fee, rounding to two decimal places.\n",
    "You will need to filter client_type so that only 'Wholesale' orders are returned.\n",
    "The results should first be sorted by product_line and month in ascending order, then by net_revenue in descending order.\n",
    "Note: Please also ensure that you do not change the name of the DataFrame that the query result will be saved as - creating new cells in the Workspace will produce a DataFrame with a different name. Make sure that your final solution uses the names provided: revenue_by_product_line (see image below)."
   ]
  },
  {
   "cell_type": "markdown",
   "metadata": {},
   "source": [
    "You're working for a company that sells motorcycle parts, and they've asked for some help in analyzing their sales data!\n",
    "\n",
    "They operate three warehouses in the area, selling both retail and wholesale. They offer a variety of parts and accept credit cards, cash, and bank transfer as payment methods. However, each payment type incurs a different fee.\n",
    "\n",
    "The board of directors wants to gain a better understanding of wholesale revenue by product line, and how this varies month-to-month and across warehouses. You have been tasked with calculating net revenue for each product line and grouping results by month and warehouse. The results should be filtered so that only `\"Wholesale\"` orders are included.\n",
    "\n",
    "They have provided you with access to their database, which contains the following table called `sales`:\n",
    "\n",
    "## Sales\n",
    "| Column | Data type | Description |\n",
    "|--------|-----------|-------------|\n",
    "| `order_number` | `VARCHAR` | Unique order number. |\n",
    "| `date` | `DATE` | Date of the order, from June to August 2021. |\n",
    "| `warehouse` | `VARCHAR` | The warehouse that the order was made from&mdash; `North`, `Central`, or `West`. |\n",
    "| `client_type` | `VARCHAR` | Whether the order was `Retail` or `Wholesale`. |\n",
    "| `product_line` | `VARCHAR` | Type of product ordered. |\n",
    "| `quantity` | `INT` | Number of products ordered. | \n",
    "| `unit_price` | `FLOAT` | Price per product (dollars). |\n",
    "| `total` | `FLOAT` | Total price of the order (dollars). |\n",
    "| `payment` | `VARCHAR` | Payment method&mdash;`Credit card`, `Transfer`, or `Cash`. |\n",
    "| `payment_fee` | `FLOAT` | Percentage of `total` charged as a result of the `payment` method. |\n",
    "\n",
    "\n",
    "Your query output should be presented in the following format:\n",
    "\n",
    "| `product_line` | `month` | `warehouse` |\t`net_revenue` |\n",
    "|----------------|-----------|----------------------------|--------------|\n",
    "| product_one | --- | --- | --- |\n",
    "| product_one | --- | --- | --- |\n",
    "| product_one | --- | --- | --- |\n",
    "| product_one | --- | --- | --- |\n",
    "| product_one | --- | --- | --- |\n",
    "| product_one | --- | --- | --- |\n",
    "| product_two | --- | --- | --- |\n",
    "| ... | ... | ... | ... |"
   ]
  },
  {
   "cell_type": "code",
   "execution_count": null,
   "metadata": {
    "vscode": {
     "languageId": "sql"
    }
   },
   "outputs": [],
   "source": [
    "SELECT product_line,\n",
    "    CASE WHEN EXTRACT('month' from date) = 6 THEN 'June'\n",
    "        WHEN EXTRACT('month' from date) = 7 THEN 'July'\n",
    "        WHEN EXTRACT('month' from date) = 8 THEN 'August'\n",
    "    END as month,\n",
    "    warehouse,\n",
    "    ROUND(SUM(total * (1 - payment_fee))::numeric, 2) AS net_revenue\n",
    "FROM sales\n",
    "WHERE client_type = 'Wholesale'\n",
    "GROUP BY product_line, warehouse, month\n",
    "ORDER BY product_line, month, net_revenue DESC"
   ]
  }
 ],
 "metadata": {
  "language_info": {
   "name": "python"
  }
 },
 "nbformat": 4,
 "nbformat_minor": 2
}
