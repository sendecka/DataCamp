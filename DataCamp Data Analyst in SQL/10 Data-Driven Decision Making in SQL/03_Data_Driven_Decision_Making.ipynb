{
 "cells": [
  {
   "cell_type": "markdown",
   "metadata": {},
   "source": [
    "# 3 Data Driven Decision Making with advanced SQL queries\n",
    "\n",
    "The concept of nested queries and correlated nested queries is introduced and the functions EXISTS and UNION are used to categorize customers, movies, actors, and more."
   ]
  },
  {
   "cell_type": "markdown",
   "metadata": {},
   "source": [
    "# Often rented movies\n",
    "\n",
    "Your manager wants you to make a list of movies excluding those which are hardly ever watched. This list of movies will be used for advertising. List all movies with more than 5 views using a nested query which is a powerful tool to implement selection conditions.\n",
    "\n",
    "# Instructions:\n",
    "\n",
    "- Select all movie IDs which have more than 5 views."
   ]
  },
  {
   "cell_type": "code",
   "execution_count": null,
   "metadata": {
    "vscode": {
     "languageId": "sql"
    }
   },
   "outputs": [],
   "source": [
    "SELECT movie_id -- Select movie IDs with more than 5 views\n",
    "FROM renting\n",
    "GROUP BY movie_id\n",
    "HAVING COUNT(*) > 5;"
   ]
  },
  {
   "cell_type": "markdown",
   "metadata": {},
   "source": [
    "- Select all information about movies with more than 5 views."
   ]
  },
  {
   "cell_type": "code",
   "execution_count": null,
   "metadata": {
    "vscode": {
     "languageId": "sql"
    }
   },
   "outputs": [],
   "source": [
    "SELECT *\n",
    "FROM movies\n",
    "WHERE movie_id IN -- Select movie IDs from the inner query\n",
    "\t(SELECT movie_id\n",
    "\tFROM renting\n",
    "\tGROUP BY movie_id\n",
    "\tHAVING COUNT(*) > 5)"
   ]
  },
  {
   "cell_type": "markdown",
   "metadata": {},
   "source": [
    "# Frequent customers\n",
    "\n",
    "Report a list of customers who frequently rent movies on MovieNow.\n",
    "\n",
    "# Instructions:\n",
    "\n",
    "- List all customer information for customers who rented more than 10 movies."
   ]
  },
  {
   "cell_type": "code",
   "execution_count": null,
   "metadata": {
    "vscode": {
     "languageId": "sql"
    }
   },
   "outputs": [],
   "source": [
    "SELECT *\n",
    "FROM customers\n",
    "WHERE customer_id IN -- Select all customers with more than 10 movie rentals\n",
    "\t(SELECT customer_id\n",
    "\tFROM renting\n",
    "\tGROUP BY customer_id\n",
    "\tHAVING COUNT(*) > 10);"
   ]
  },
  {
   "cell_type": "markdown",
   "metadata": {},
   "source": [
    "# Movies with rating above average\n",
    "\n",
    "For the advertising campaign your manager also needs a list of popular movies with high ratings. Report a list of movies with rating above average.\n",
    "\n",
    "# Instructions:\n",
    "\n",
    "- Calculate the average over all ratings."
   ]
  },
  {
   "cell_type": "code",
   "execution_count": null,
   "metadata": {
    "vscode": {
     "languageId": "sql"
    }
   },
   "outputs": [],
   "source": [
    "SELECT AVG(rating) -- Calculate the total average rating\n",
    "FROM renting;"
   ]
  },
  {
   "cell_type": "markdown",
   "metadata": {},
   "source": [
    "- Select movie IDs and calculate the average rating of movies with rating above average."
   ]
  },
  {
   "cell_type": "code",
   "execution_count": null,
   "metadata": {
    "vscode": {
     "languageId": "sql"
    }
   },
   "outputs": [],
   "source": [
    "SELECT movie_id,  -- Select movie IDs and calculate the average rating \n",
    "       AVG(rating)\n",
    "FROM renting\n",
    "GROUP BY movie_id\n",
    "HAVING AVG(rating) >   -- Of movies with rating above average\n",
    "\t(SELECT AVG(rating)\n",
    "\tFROM renting);"
   ]
  },
  {
   "cell_type": "markdown",
   "metadata": {},
   "source": [
    "- The advertising team only wants a list of movie titles. Report the movie titles of all movies with average rating higher than the total average."
   ]
  },
  {
   "cell_type": "code",
   "execution_count": null,
   "metadata": {
    "vscode": {
     "languageId": "sql"
    }
   },
   "outputs": [],
   "source": [
    "SELECT title -- Report the movie titles of all movies with average rating higher than the total average\n",
    "FROM movies\n",
    "WHERE movie_id IN\n",
    "\t(SELECT movie_id\n",
    "\t FROM renting\n",
    "     GROUP BY movie_id\n",
    "     HAVING AVG(rating) > \n",
    "\t\t(SELECT AVG(rating)\n",
    "\t\t FROM renting));"
   ]
  },
  {
   "cell_type": "markdown",
   "metadata": {},
   "source": [
    "# Analyzing customer behavior\n",
    "\n",
    "A new advertising campaign is going to focus on customers who rented fewer than 5 movies. Use a correlated query to extract all customer information for the customers of interest.\n",
    "\n",
    "# Instructions:\n",
    "\n",
    "- First, count number of movie rentals for customer with customer_id=45. Give the table renting the alias r."
   ]
  },
  {
   "cell_type": "code",
   "execution_count": null,
   "metadata": {
    "vscode": {
     "languageId": "sql"
    }
   },
   "outputs": [],
   "source": [
    "-- Count movie rentals of customer 45\n",
    "SELECT COUNT(*)\n",
    "FROM renting as r\n",
    "WHERE r.customer_id = 45;"
   ]
  },
  {
   "cell_type": "markdown",
   "metadata": {},
   "source": [
    "- Now select all columns from the customer table where the number of movie rentals is smaller than 5."
   ]
  },
  {
   "cell_type": "code",
   "execution_count": null,
   "metadata": {
    "vscode": {
     "languageId": "sql"
    }
   },
   "outputs": [],
   "source": [
    "-- Select customers with less than 5 movie rentals\n",
    "SELECT *\n",
    "FROM customers as c\n",
    "WHERE 5 > \n",
    "\t(SELECT count(*)\n",
    "\tFROM renting as r\n",
    "\tWHERE r.customer_id=c.customer_id);"
   ]
  },
  {
   "cell_type": "markdown",
   "metadata": {},
   "source": [
    "# Customers who gave low ratings\n",
    "\n",
    "Identify customers who were not satisfied with movies they watched on MovieNow. Report a list of customers with minimum rating smaller than 4.\n",
    "\n",
    "# Instructions:\n",
    "\n",
    "- Calculate the minimum rating of customer with ID 7."
   ]
  },
  {
   "cell_type": "code",
   "execution_count": null,
   "metadata": {
    "vscode": {
     "languageId": "sql"
    }
   },
   "outputs": [],
   "source": [
    "-- Calculate the minimum rating of customer with ID 7\n",
    "SELECT MIN(rating)\n",
    "FROM renting\n",
    "WHERE customer_id = 7;"
   ]
  },
  {
   "cell_type": "markdown",
   "metadata": {},
   "source": [
    "- Select all customers with a minimum rating smaller than 4. Use the first letter of the table as an alias."
   ]
  },
  {
   "cell_type": "code",
   "execution_count": null,
   "metadata": {
    "vscode": {
     "languageId": "sql"
    }
   },
   "outputs": [],
   "source": [
    "SELECT *\n",
    "FROM customers AS c\n",
    "WHERE 4 >  -- Select all customers with a minimum rating smaller than 4\n",
    "\t(SELECT MIN(rating)\n",
    "\tFROM renting AS r\n",
    "\tWHERE r.customer_id = c.customer_id);"
   ]
  },
  {
   "cell_type": "markdown",
   "metadata": {},
   "source": [
    "# Movies and ratings with correlated queries\n",
    "\n",
    "Report a list of movies that received the most attention on the movie platform, (i.e. report all movies with more than 5 ratings and all movies with an average rating higher than 8).\n",
    "\n",
    "# Instructions:\n",
    "\n",
    "- Select all movies with more than 5 ratings. Use the first letter of the table as an alias."
   ]
  },
  {
   "cell_type": "code",
   "execution_count": null,
   "metadata": {
    "vscode": {
     "languageId": "sql"
    }
   },
   "outputs": [],
   "source": [
    "SELECT *\n",
    "FROM movies AS m\n",
    "WHERE 5 < -- Select all movies with more than 5 ratings\n",
    "\t(SELECT COUNT(rating)\n",
    "\tFROM renting AS r\n",
    "\tWHERE r.movie_id = m.movie_id);"
   ]
  },
  {
   "cell_type": "markdown",
   "metadata": {},
   "source": [
    "- Select all movies with an average rating higher than 8."
   ]
  },
  {
   "cell_type": "code",
   "execution_count": null,
   "metadata": {
    "vscode": {
     "languageId": "sql"
    }
   },
   "outputs": [],
   "source": [
    "SELECT *\n",
    "FROM movies AS m\n",
    "WHERE 8 <  -- Select all movies with an average rating higher than 8\n",
    "\t(SELECT AVG(rating)\n",
    "\tFROM renting AS r\n",
    "\tWHERE r.movie_id = m.movie_id);"
   ]
  },
  {
   "cell_type": "markdown",
   "metadata": {},
   "source": [
    "# Customers with at least one rating\n",
    "\n",
    "Having active customers is a key performance indicator for MovieNow. Make a list of customers who gave at least one rating.\n",
    "\n",
    "# Instructions:\n",
    "\n",
    "- Select all records of movie rentals from customer with ID 115.\n",
    "\n"
   ]
  },
  {
   "cell_type": "code",
   "execution_count": null,
   "metadata": {
    "vscode": {
     "languageId": "sql"
    }
   },
   "outputs": [],
   "source": [
    "-- Select all records of movie rentals from customer with ID 115\n",
    "SELECT *\n",
    "FROM renting\n",
    "WHERE customer_id = 115;"
   ]
  },
  {
   "cell_type": "markdown",
   "metadata": {},
   "source": [
    "- Select all records of movie rentals from the customer with ID 115 and exclude records with null ratings."
   ]
  },
  {
   "cell_type": "code",
   "execution_count": null,
   "metadata": {
    "vscode": {
     "languageId": "sql"
    }
   },
   "outputs": [],
   "source": [
    "SELECT *\n",
    "FROM renting\n",
    "WHERE rating IS NOT NULL -- Exclude those with null ratings\n",
    "AND customer_id = 115;"
   ]
  },
  {
   "cell_type": "markdown",
   "metadata": {},
   "source": [
    "- Select all records of movie rentals from the customer with ID 1, excluding null ratings."
   ]
  },
  {
   "cell_type": "code",
   "execution_count": null,
   "metadata": {
    "vscode": {
     "languageId": "sql"
    }
   },
   "outputs": [],
   "source": [
    "SELECT *\n",
    "FROM renting\n",
    "WHERE rating IS NOT NULL -- Exclude null ratings\n",
    "AND customer_id = 1; -- Select all ratings from customer with ID 1"
   ]
  },
  {
   "cell_type": "markdown",
   "metadata": {},
   "source": [
    "- Select all customers with at least one rating. Use the first letter of the table as an alias."
   ]
  },
  {
   "cell_type": "code",
   "execution_count": null,
   "metadata": {
    "vscode": {
     "languageId": "sql"
    }
   },
   "outputs": [],
   "source": [
    "SELECT *\n",
    "FROM customers AS c -- Select all customers with at least one rating\n",
    "WHERE EXISTS\n",
    "\t(SELECT *\n",
    "\tFROM renting AS r\n",
    "\tWHERE rating IS NOT NULL \n",
    "\tAND r.customer_id = c.customer_id);"
   ]
  },
  {
   "cell_type": "markdown",
   "metadata": {},
   "source": [
    "# Actors in comedies\n",
    "\n",
    "In order to analyze the diversity of actors in comedies, first, report a list of actors who play in comedies and then, the number of actors for each nationality playing in comedies.\n",
    "\n",
    "# Instructions:\n",
    "\n",
    "- Select the records from the table actsin of all actors who play in a Comedy. Use the first letter of the table as an alias."
   ]
  },
  {
   "cell_type": "code",
   "execution_count": null,
   "metadata": {
    "vscode": {
     "languageId": "sql"
    }
   },
   "outputs": [],
   "source": [
    "SELECT *  -- Select the records from the table `actsin` of all actors who play in a Comedy\n",
    "FROM actsin AS ai\n",
    "LEFT JOIN movies AS m\n",
    "ON ai.movie_id = m.movie_id\n",
    "WHERE m.genre = 'Comedy';"
   ]
  },
  {
   "cell_type": "markdown",
   "metadata": {},
   "source": [
    "- Make a table of the records of actors who play in a Comedy and select only the actor with ID 1."
   ]
  },
  {
   "cell_type": "code",
   "execution_count": null,
   "metadata": {
    "vscode": {
     "languageId": "sql"
    }
   },
   "outputs": [],
   "source": [
    "SELECT *\n",
    "FROM actsin AS ai\n",
    "LEFT JOIN movies AS m\n",
    "ON m.movie_id = ai.movie_id\n",
    "WHERE m.genre = 'Comedy'\n",
    "AND ai.actor_id = 1; -- Select only the actor with ID 1"
   ]
  },
  {
   "cell_type": "markdown",
   "metadata": {},
   "source": [
    "- Create a list of all actors who play in a Comedy. Use the first letter of the table as an alias."
   ]
  },
  {
   "cell_type": "code",
   "execution_count": null,
   "metadata": {
    "vscode": {
     "languageId": "sql"
    }
   },
   "outputs": [],
   "source": [
    "SELECT *\n",
    "FROM actors AS a\n",
    "WHERE EXISTS\n",
    "\t(SELECT *\n",
    "\t FROM actsin AS ai\n",
    "\t LEFT JOIN movies AS m\n",
    "\t ON m.movie_id = ai.movie_id\n",
    "\t WHERE m.genre = 'Comedy'\n",
    "\t AND ai.actor_id = a.actor_id);"
   ]
  },
  {
   "cell_type": "markdown",
   "metadata": {},
   "source": [
    "- Report the nationality and the number of actors for each nationality."
   ]
  },
  {
   "cell_type": "code",
   "execution_count": null,
   "metadata": {
    "vscode": {
     "languageId": "sql"
    }
   },
   "outputs": [],
   "source": [
    "SELECT a.nationality,  -- Report the nationality and number of actors for each nationality\n",
    "COUNT(*) \n",
    "FROM actors AS a\n",
    "WHERE EXISTS\n",
    "\t(SELECT ai.actor_id\n",
    "\t FROM actsin AS ai\n",
    "\t LEFT JOIN movies AS m\n",
    "\t ON m.movie_id = ai.movie_id\n",
    "\t WHERE m.genre = 'Comedy'\n",
    "\t AND ai.actor_id = a.actor_id)\n",
    "GROUP BY a.nationality;"
   ]
  },
  {
   "cell_type": "markdown",
   "metadata": {},
   "source": [
    "# Young actors not coming from the USA\n",
    "\n",
    "As you've just seen, the operators UNION and INTERSECT are powerful tools when you work with two or more tables. Identify actors who are not from the USA and actors who were born after 1990.\n",
    "\n",
    "# Instructions:\n",
    "\n",
    "- Report the name, nationality and the year of birth of all actors who are not from the USA."
   ]
  },
  {
   "cell_type": "code",
   "execution_count": null,
   "metadata": {
    "vscode": {
     "languageId": "sql"
    }
   },
   "outputs": [],
   "source": [
    "SELECT name,   -- Report the name, nationality and the year of birth\n",
    "       nationality, \n",
    "       year_of_birth\n",
    "FROM actors\n",
    "WHERE nationality <> 'USA'; -- Of all actors who are not from the USA"
   ]
  },
  {
   "cell_type": "markdown",
   "metadata": {},
   "source": [
    "- Report the name, nationality and the year of birth of all actors who were born after 1990."
   ]
  },
  {
   "cell_type": "code",
   "execution_count": null,
   "metadata": {
    "vscode": {
     "languageId": "sql"
    }
   },
   "outputs": [],
   "source": [
    "SELECT name, \n",
    "       nationality, \n",
    "       year_of_birth\n",
    "FROM actors\n",
    "WHERE year_of_birth > 1990; -- Born after 1990"
   ]
  },
  {
   "cell_type": "markdown",
   "metadata": {},
   "source": [
    "- Select all actors who are not from the USA and all actors who are born after 1990."
   ]
  },
  {
   "cell_type": "code",
   "execution_count": null,
   "metadata": {
    "vscode": {
     "languageId": "sql"
    }
   },
   "outputs": [],
   "source": [
    "SELECT name, \n",
    "       nationality, \n",
    "       year_of_birth\n",
    "FROM actors\n",
    "WHERE nationality <> 'USA'\n",
    "UNION -- Select all actors who are not from the USA and all actors who are born after 1990\n",
    "SELECT name, \n",
    "       nationality, \n",
    "       year_of_birth\n",
    "FROM actors\n",
    "WHERE year_of_birth > 1990;"
   ]
  },
  {
   "cell_type": "markdown",
   "metadata": {},
   "source": [
    "- Select all actors who are not from the USA and who are also born after 1990."
   ]
  },
  {
   "cell_type": "code",
   "execution_count": null,
   "metadata": {
    "vscode": {
     "languageId": "sql"
    }
   },
   "outputs": [],
   "source": [
    "SELECT name, \n",
    "       nationality, \n",
    "       year_of_birth\n",
    "FROM actors\n",
    "WHERE nationality <> 'USA'\n",
    "INTERSECT -- Select all actors who are not from the USA and who are also born after 1990\n",
    "SELECT name, \n",
    "       nationality, \n",
    "       year_of_birth\n",
    "FROM actors\n",
    "WHERE year_of_birth > 1990;"
   ]
  },
  {
   "cell_type": "markdown",
   "metadata": {},
   "source": [
    "# Dramas with high ratings\n",
    "\n",
    "The advertising team has a new focus. They want to draw the attention of the customers to dramas. Make a list of all movies that are in the drama genre and have an average rating higher than 9.\n",
    "\n",
    "# Instructions:\n",
    "\n",
    "- Select the IDs of all dramas."
   ]
  },
  {
   "cell_type": "code",
   "execution_count": null,
   "metadata": {
    "vscode": {
     "languageId": "sql"
    }
   },
   "outputs": [],
   "source": [
    "SELECT movie_id -- Select the IDs of all dramas\n",
    "FROM movies\n",
    "WHERE genre = 'Drama';"
   ]
  },
  {
   "cell_type": "markdown",
   "metadata": {},
   "source": [
    "- Select the IDs of all movies with average rating higher than 9."
   ]
  },
  {
   "cell_type": "code",
   "execution_count": null,
   "metadata": {
    "vscode": {
     "languageId": "sql"
    }
   },
   "outputs": [],
   "source": [
    "SELECT movie_id -- Select the IDs of all movies with average rating higher than 9\n",
    "FROM renting\n",
    "GROUP BY movie_id\n",
    "HAVING AVG(rating) > 9;"
   ]
  },
  {
   "cell_type": "markdown",
   "metadata": {},
   "source": [
    "- Select the IDs of all dramas with average rating higher than 9."
   ]
  },
  {
   "cell_type": "code",
   "execution_count": null,
   "metadata": {
    "vscode": {
     "languageId": "sql"
    }
   },
   "outputs": [],
   "source": [
    "SELECT movie_id\n",
    "FROM movies\n",
    "WHERE genre = 'Drama'\n",
    "INTERSECT  -- Select the IDs of all dramas with average rating higher than 9\n",
    "SELECT movie_id\n",
    "FROM renting\n",
    "GROUP BY movie_id\n",
    "HAVING AVG(rating)>9;"
   ]
  },
  {
   "cell_type": "markdown",
   "metadata": {},
   "source": [
    "- Select all movies of in the drama genre with an average rating higher than 9."
   ]
  },
  {
   "cell_type": "code",
   "execution_count": null,
   "metadata": {
    "vscode": {
     "languageId": "sql"
    }
   },
   "outputs": [],
   "source": [
    "SELECT *\n",
    "FROM movies\n",
    "WHERE movie_id IN -- Select all movies of genre drama with average rating higher than 9\n",
    "   (SELECT movie_id\n",
    "    FROM movies\n",
    "    WHERE genre = 'Drama'\n",
    "    INTERSECT\n",
    "    SELECT movie_id\n",
    "    FROM renting\n",
    "    GROUP BY movie_id\n",
    "    HAVING AVG(rating)>9);"
   ]
  }
 ],
 "metadata": {
  "language_info": {
   "name": "python"
  }
 },
 "nbformat": 4,
 "nbformat_minor": 2
}
