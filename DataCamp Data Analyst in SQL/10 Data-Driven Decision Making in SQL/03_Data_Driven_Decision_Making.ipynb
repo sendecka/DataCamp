{
 "cells": [
  {
   "cell_type": "markdown",
   "metadata": {},
   "source": [
    "# 3 Data Driven Decision Making with advanced SQL queries\n",
    "\n",
    "The concept of nested queries and correlated nested queries is introduced and the functions EXISTS and UNION are used to categorize customers, movies, actors, and more."
   ]
  }
 ],
 "metadata": {
  "language_info": {
   "name": "python"
  }
 },
 "nbformat": 4,
 "nbformat_minor": 2
}
