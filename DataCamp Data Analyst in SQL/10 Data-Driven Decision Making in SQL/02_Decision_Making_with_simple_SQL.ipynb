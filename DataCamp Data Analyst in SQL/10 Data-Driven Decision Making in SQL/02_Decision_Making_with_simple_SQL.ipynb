{
 "cells": [
  {
   "cell_type": "markdown",
   "metadata": {},
   "source": [
    "# 2 Decision Making with simple SQL queries\n",
    "\n",
    "More complex queries with GROUP BY, LEFT JOIN and sub-queries are used to gain insight into customer preferences."
   ]
  },
  {
   "cell_type": "markdown",
   "metadata": {},
   "source": [
    "# First account for each country.\n",
    "\n",
    "Conduct an analysis to see when the first customer accounts were created for each country.\n",
    "\n",
    "# Instructions:\n",
    "\n",
    "- Create a table with a row for each country and columns for the country name and the date when the first customer account was created.\n",
    "- Use the alias first_account for the column with the dates.\n",
    "- Order by date in ascending order."
   ]
  },
  {
   "cell_type": "code",
   "execution_count": null,
   "metadata": {
    "vscode": {
     "languageId": "sql"
    }
   },
   "outputs": [],
   "source": [
    "SELECT country, -- For each country report the earliest date when an account was created\n",
    "\tMIN(date_account_start) AS first_account\n",
    "FROM customers\n",
    "GROUP BY country\n",
    "ORDER BY first_account ;"
   ]
  },
  {
   "cell_type": "markdown",
   "metadata": {},
   "source": [
    "# Average movie ratings\n",
    "\n",
    "For each movie the average rating, the number of ratings and the number of views has to be reported. Generate a table with meaningful column names.\n",
    "\n",
    "# Instructions:\n",
    "\n",
    "- Group the data in the table renting by movie_id and report the ID and the average rating."
   ]
  },
  {
   "cell_type": "code",
   "execution_count": null,
   "metadata": {
    "vscode": {
     "languageId": "sql"
    }
   },
   "outputs": [],
   "source": [
    "SELECT movie_id, \n",
    "       AVG(rating)    -- Calculate average rating per movie\n",
    "FROM renting\n",
    "GROUP BY\n",
    "    movie_id;"
   ]
  },
  {
   "cell_type": "markdown",
   "metadata": {},
   "source": [
    "- Add two columns for the number of ratings and the number of movie rentals to the results table.\n",
    "- Use alias names avg_rating, number_rating and number_renting for the corresponding columns."
   ]
  },
  {
   "cell_type": "code",
   "execution_count": null,
   "metadata": {
    "vscode": {
     "languageId": "sql"
    }
   },
   "outputs": [],
   "source": [
    "SELECT movie_id, \n",
    "       AVG(rating) AS avg_rating, -- Use as alias avg_rating\n",
    "       COUNT(rating) AS number_rating,                -- Add column for number of ratings with alias number_rating\n",
    "       COUNT(*) AS number_renting                 -- Add column for number of movie rentals with alias number_renting\n",
    "FROM renting\n",
    "GROUP BY movie_id;"
   ]
  },
  {
   "cell_type": "markdown",
   "metadata": {},
   "source": [
    "- Order the rows of the table by the average rating such that it is in decreasing order.\n",
    "- Observe what happens to NULL values."
   ]
  },
  {
   "cell_type": "code",
   "execution_count": null,
   "metadata": {
    "vscode": {
     "languageId": "sql"
    }
   },
   "outputs": [],
   "source": [
    "SELECT movie_id, \n",
    "       AVG(rating) AS avg_rating,\n",
    "       COUNT(rating) AS number_ratings,\n",
    "       COUNT(*) AS number_renting\n",
    "FROM renting\n",
    "GROUP BY movie_id\n",
    "ORDER BY\n",
    "    avg_rating DESC;\n",
    "     -- Order by average rating in decreasing order"
   ]
  },
  {
   "cell_type": "markdown",
   "metadata": {},
   "source": [
    "# Question\n",
    "\n",
    "Which statement is true for the movie with average rating null?\n",
    "\n",
    "# Possible answers\n",
    "\n",
    "( ) The number of ratings is 6.\n",
    "\n",
    "( ) The number of movie rentals is zero.\n",
    "\n",
    "( ) The average is null because one of the ratings of the movie is null.\n",
    "\n",
    "(x) The average is null because all of the ratings of the movie are null."
   ]
  },
  {
   "cell_type": "markdown",
   "metadata": {},
   "source": [
    "# Average rating per customer\n",
    "\n",
    "Similar to what you just did, you will now look at the average movie ratings, this time for customers. So you will obtain a table with the average rating given by each customer. Further, you will include the number of ratings and the number of movie rentals per customer. You will report these summary statistics only for customers with more than 7 movie rentals and order them in ascending order by the average rating.\n",
    "\n",
    "# Instructions:\n",
    "\n",
    "- Group the data in the table renting by customer_id and report the customer_id, the average rating, the number of ratings and the number of movie rentals.\n",
    "- Select only customers with more than 7 movie rentals.\n",
    "- Order the resulting table by the average rating in ascending order."
   ]
  },
  {
   "cell_type": "code",
   "execution_count": null,
   "metadata": {
    "vscode": {
     "languageId": "sql"
    }
   },
   "outputs": [],
   "source": [
    "SELECT customer_id,  -- Report the customer_id\n",
    "       AVG(rating), -- Report the average rating per customer\n",
    "       COUNT(rating), -- Report the number of ratings per customer\n",
    "       COUNT(*) -- Report the number of movie rentals per customer\n",
    "FROM renting\n",
    "GROUP BY customer_id\n",
    "HAVING COUNT(*) > 7 -- Select only customers with more than 7 movie rentals\n",
    "ORDER BY AVG(rating); -- Order by the average rating in ascending order"
   ]
  },
  {
   "cell_type": "markdown",
   "metadata": {},
   "source": [
    "# Join renting and customers\n",
    "\n",
    "For many analyses it is necessary to add customer information to the data in the table renting.\n",
    "\n",
    "# Instructions:\n",
    "\n",
    "- Augment the table renting with all columns from the table customers with a LEFT JOIN.\n",
    "- Use as alias' for the tables r and c respectively."
   ]
  },
  {
   "cell_type": "code",
   "execution_count": null,
   "metadata": {
    "vscode": {
     "languageId": "sql"
    }
   },
   "outputs": [],
   "source": [
    "SELECT * -- Join renting with customers\n",
    "FROM renting r\n",
    "LEFT JOIN customers c\n",
    "ON r.customer_id = c.customer_id;"
   ]
  },
  {
   "cell_type": "markdown",
   "metadata": {},
   "source": [
    "- Select only records from customers coming from Belgium."
   ]
  },
  {
   "cell_type": "code",
   "execution_count": null,
   "metadata": {
    "vscode": {
     "languageId": "sql"
    }
   },
   "outputs": [],
   "source": [
    "SELECT *\n",
    "FROM renting AS r\n",
    "LEFT JOIN customers AS c\n",
    "ON r.customer_id = c.customer_id\n",
    "WHERE\n",
    "    c.country = 'Belgium';\n",
    "     -- Select only records from customers coming from Belgium"
   ]
  },
  {
   "cell_type": "markdown",
   "metadata": {},
   "source": [
    "- Average ratings of customers from Belgium."
   ]
  },
  {
   "cell_type": "code",
   "execution_count": null,
   "metadata": {
    "vscode": {
     "languageId": "sql"
    }
   },
   "outputs": [],
   "source": [
    "SELECT AVG(r.rating)\n",
    "-- Average ratings of customers from Belgium\n",
    "FROM renting AS r\n",
    "LEFT JOIN customers AS c\n",
    "ON r.customer_id = c.customer_id\n",
    "WHERE c.country='Belgium';"
   ]
  },
  {
   "cell_type": "markdown",
   "metadata": {},
   "source": [
    "# Aggregating revenue, rentals and active customers\n",
    "\n",
    "The management of MovieNow wants to report key performance indicators (KPIs) for the performance of the company in 2018. They are interested in measuring the financial successes as well as user engagement. Important KPIs are, therefore, the revenue coming from movie rentals, the number of movie rentals and the number of active customers.\n",
    "\n",
    "# Instructions:\n",
    "\n",
    "- First, you need to join movies on renting to include the renting_price from the movies table for each renting record.\n",
    "- Use as alias' for the tables m and r respectively."
   ]
  },
  {
   "cell_type": "code",
   "execution_count": null,
   "metadata": {
    "vscode": {
     "languageId": "sql"
    }
   },
   "outputs": [],
   "source": [
    "SELECT *\n",
    "FROM renting AS r\n",
    "LEFT JOIN movies AS m -- Choose the correct join statment\n",
    "ON r.movie_id = m.movie_id;"
   ]
  },
  {
   "cell_type": "markdown",
   "metadata": {},
   "source": [
    "- Calculate the revenue coming from movie rentals, the number of movie rentals and the number of customers who rented a movie."
   ]
  },
  {
   "cell_type": "code",
   "execution_count": null,
   "metadata": {
    "vscode": {
     "languageId": "sql"
    }
   },
   "outputs": [],
   "source": [
    "SELECT \n",
    "\tSUM(m.renting_price), -- Get the revenue from movie rentals\n",
    "\tCOUNT(*), -- Count the number of rentals\n",
    "\tCOUNT(DISTINCT r.customer_id) -- Count the number of customers\n",
    "FROM renting AS r\n",
    "LEFT JOIN movies AS m\n",
    "ON r.movie_id = m.movie_id;"
   ]
  },
  {
   "cell_type": "markdown",
   "metadata": {},
   "source": [
    "- Now, you can report these values for the year 2018. Calculate the revenue in 2018, the number of movie rentals and the number of active customers in 2018. An active customer is a customer who rented at least one movie in 2018."
   ]
  },
  {
   "cell_type": "code",
   "execution_count": null,
   "metadata": {
    "vscode": {
     "languageId": "sql"
    }
   },
   "outputs": [],
   "source": [
    "SELECT \n",
    "\tSUM(m.renting_price), \n",
    "\tCOUNT(*), \n",
    "\tCOUNT(DISTINCT r.customer_id)\n",
    "FROM renting AS r\n",
    "LEFT JOIN movies AS m\n",
    "ON r.movie_id = m.movie_id\n",
    "-- Only look at movie rentals in 2018\n",
    "WHERE date_renting BETWEEN '2018-01-01' AND '2018-12-31' ;"
   ]
  },
  {
   "cell_type": "markdown",
   "metadata": {},
   "source": [
    "# Movies and actors\n",
    "\n",
    "You are asked to give an overview of which actors play in which movie.\n",
    "\n",
    "# Instructions:\n",
    "\n",
    "- Create a list of actor names and movie titles in which they act. Make sure that each combination of actor and movie appears only once.\n",
    "- Use as an alias for the table actsin the two letters ai."
   ]
  },
  {
   "cell_type": "code",
   "execution_count": null,
   "metadata": {
    "vscode": {
     "languageId": "sql"
    }
   },
   "outputs": [],
   "source": [
    "SELECT a.name, -- Create a list of movie titles and actor names\n",
    "       m.title\n",
    "FROM actsin ai\n",
    "LEFT JOIN movies AS m\n",
    "ON m.movie_id = ai.movie_id\n",
    "LEFT JOIN actors AS a\n",
    "ON a.actor_id = ai.actor_id;"
   ]
  },
  {
   "cell_type": "markdown",
   "metadata": {},
   "source": [
    "# Income from movies\n",
    "\n",
    "How much income did each movie generate? To answer this question subsequent SELECT statements can be used.\n",
    "\n",
    "# Instructions:\n",
    "\n",
    "- Use a join to get the movie title and price for each movie rental."
   ]
  },
  {
   "cell_type": "code",
   "execution_count": null,
   "metadata": {
    "vscode": {
     "languageId": "sql"
    }
   },
   "outputs": [],
   "source": [
    "SELECT m.title, -- Use a join to get the movie title and price for each movie rental\n",
    "       m.renting_price\n",
    "FROM renting AS r\n",
    "LEFT JOIN movies AS m\n",
    "ON r.movie_id = m.movie_id;"
   ]
  },
  {
   "cell_type": "markdown",
   "metadata": {},
   "source": [
    "- Report the total income for each movie.\n",
    "- Order the result by decreasing income."
   ]
  },
  {
   "cell_type": "code",
   "execution_count": null,
   "metadata": {
    "vscode": {
     "languageId": "sql"
    }
   },
   "outputs": [],
   "source": [
    "SELECT rm.title, -- Report the income from movie rentals for each movie \n",
    "       SUM(rm.renting_price) AS income_movie\n",
    "FROM\n",
    "       (SELECT m.title, \n",
    "               m.renting_price\n",
    "       FROM renting AS r\n",
    "       LEFT JOIN movies AS m\n",
    "       ON r.movie_id=m.movie_id) AS rm\n",
    "GROUP BY rm.title\n",
    "ORDER BY income_movie DESC; -- Order the result by decreasing income"
   ]
  },
  {
   "cell_type": "markdown",
   "metadata": {},
   "source": [
    "# Question\n",
    "\n",
    "Which statement about the movie 'Django Unchained' is NOT correct?\n",
    "\n",
    "# Possible answers\n",
    "\n",
    "( ) The income from this movie is 29.59.\n",
    "\n",
    "( ) The income from 'Django Unchained' is lower than from 'The Kingdom'.\n",
    "\n",
    "(x) The income from 'Django Unchained' is higher than from 'Simone'.\n",
    "\n",
    "( ) 'Django Unchained' has the 5th highest income."
   ]
  },
  {
   "cell_type": "markdown",
   "metadata": {},
   "source": [
    "# Age of actors from the USA\n",
    "\n",
    "Now you will explore the age of American actors and actresses. Report the date of birth of the oldest and youngest US actor and actress.\n",
    "\n",
    "# Instructions:\n",
    "\n",
    "- Create a subsequent SELECT statements in the FROM clause to get all information about actors from the USA.\n",
    "- Give the subsequent SELECT statement the alias a.\n",
    "- Report for actors from the USA the year of birth of the oldest and the year of birth of the youngest actor and actress."
   ]
  },
  {
   "cell_type": "code",
   "execution_count": null,
   "metadata": {
    "vscode": {
     "languageId": "sql"
    }
   },
   "outputs": [],
   "source": [
    "SELECT a.gender, -- Report for male and female actors from the USA \n",
    "       MIN(a.year_of_birth), -- The year of birth of the oldest actor\n",
    "       MAX(a.year_of_birth) -- The year of birth of the youngest actor\n",
    "FROM\n",
    "    (SELECT * -- Use a subsequent SELECT to get all information about actors from the USA\n",
    "    FROM actors\n",
    "    WHERE nationality = 'USA') AS a -- Give the table the name a\n",
    "GROUP BY a.gender;"
   ]
  },
  {
   "cell_type": "markdown",
   "metadata": {},
   "source": [
    "# Identify favorite movies for a group of customers\n",
    "\n",
    "Which is the favorite movie on MovieNow? Answer this question for a specific group of customers: for all customers born in the 70s.\n",
    "\n",
    "# Instructions:\n",
    "\n",
    "- Augment the table renting with customer information and information about the movies.\n",
    "- For each join use the first letter of the table name as alias."
   ]
  },
  {
   "cell_type": "code",
   "execution_count": null,
   "metadata": {
    "vscode": {
     "languageId": "sql"
    }
   },
   "outputs": [],
   "source": [
    "SELECT *\n",
    "FROM renting AS r\n",
    "LEFT JOIN customers   -- Add customer information\n",
    "AS c ON r.customer_id = c.customer_id\n",
    "LEFT JOIN movies   -- Add movie information\n",
    "AS m ON r.movie_id = m.movie_id;"
   ]
  },
  {
   "cell_type": "markdown",
   "metadata": {},
   "source": [
    "- Select only those records of customers born in the 70s."
   ]
  },
  {
   "cell_type": "code",
   "execution_count": null,
   "metadata": {
    "vscode": {
     "languageId": "sql"
    }
   },
   "outputs": [],
   "source": [
    "SELECT *\n",
    "FROM renting AS r\n",
    "LEFT JOIN customers AS c\n",
    "ON c.customer_id = r.customer_id\n",
    "LEFT JOIN movies AS m\n",
    "ON m.movie_id = r.movie_id\n",
    "WHERE c.date_of_birth BETWEEN '1970-01-01' AND '1979-12-31'; -- Select customers born in the 70s"
   ]
  },
  {
   "cell_type": "markdown",
   "metadata": {},
   "source": [
    "- For each movie, report the number of times it was rented, as well as the average rating. Limit your results to customers born in the 1970s."
   ]
  },
  {
   "cell_type": "code",
   "execution_count": null,
   "metadata": {
    "vscode": {
     "languageId": "sql"
    }
   },
   "outputs": [],
   "source": [
    "SELECT m.title, \n",
    "COUNT(*), -- Report number of views per movie\n",
    "AVG(r.rating) -- Add the average rating for each movie\n",
    "FROM renting AS r\n",
    "LEFT JOIN customers AS c\n",
    "ON c.customer_id = r.customer_id\n",
    "LEFT JOIN movies AS m\n",
    "ON m.movie_id = r.movie_id\n",
    "WHERE c.date_of_birth BETWEEN '1970-01-01' AND '1979-12-31'\n",
    "GROUP BY m.title;"
   ]
  },
  {
   "cell_type": "markdown",
   "metadata": {},
   "source": [
    "- Remove those movies from the table with only one rental.\n",
    "- Order the result table such that movies with highest rating come first."
   ]
  },
  {
   "cell_type": "code",
   "execution_count": null,
   "metadata": {
    "vscode": {
     "languageId": "sql"
    }
   },
   "outputs": [],
   "source": [
    "SELECT m.title, \n",
    "COUNT(*),\n",
    "AVG(r.rating) \n",
    "FROM renting AS r\n",
    "LEFT JOIN customers AS c\n",
    "ON c.customer_id = r.customer_id\n",
    "LEFT JOIN movies AS m\n",
    "ON m.movie_id = r.movie_id\n",
    "WHERE c.date_of_birth BETWEEN '1970-01-01' AND '1979-12-31'\n",
    "GROUP BY m.title\n",
    "HAVING COUNT(*) > 1  -- Remove movies with only one rental\n",
    "ORDER BY AVG(r.rating) DESC; -- Order with highest rating first"
   ]
  },
  {
   "cell_type": "markdown",
   "metadata": {},
   "source": [
    "# Identify favorite actors for Spain\n",
    "\n",
    "You're now going to explore actor popularity in Spain. Use as alias the first letter of the table, except for the table actsin use ai instead.\n",
    "\n",
    "# Instructions:\n",
    "\n",
    "- Augment the table renting with information about customers and actors."
   ]
  },
  {
   "cell_type": "code",
   "execution_count": null,
   "metadata": {
    "vscode": {
     "languageId": "sql"
    }
   },
   "outputs": [],
   "source": [
    "SELECT *\n",
    "FROM renting as r\n",
    "LEFT JOIN customers AS c         -- Augment table renting with information about customers\n",
    "ON r.customer_id = c.customer_id \n",
    "LEFT JOIN actsin as ai           -- Join the table renting with the table actsin\n",
    "ON r.movie_id = ai.movie_id\n",
    "LEFT JOIN actors as a            -- Augment table renting with information about actors\n",
    "ON ai.actor_id = a.actor_id;"
   ]
  },
  {
   "cell_type": "markdown",
   "metadata": {},
   "source": [
    "- Report the number of movie rentals and the average rating for each actor, separately for male and female customers.\n",
    "- Report only actors with more than 5 movie rentals."
   ]
  },
  {
   "cell_type": "code",
   "execution_count": null,
   "metadata": {
    "vscode": {
     "languageId": "sql"
    }
   },
   "outputs": [],
   "source": [
    "SELECT a.name,  c.gender,\n",
    "       COUNT(*) AS number_views, \n",
    "       AVG(r.rating) AS avg_rating\n",
    "FROM renting as r\n",
    "LEFT JOIN customers AS c\n",
    "ON r.customer_id = c.customer_id\n",
    "LEFT JOIN actsin as ai\n",
    "ON r.movie_id = ai.movie_id\n",
    "LEFT JOIN actors as a\n",
    "ON ai.actor_id = a.actor_id\n",
    "\n",
    "GROUP BY a.name, c.gender -- For each actor, separately for male and female customers\n",
    "HAVING AVG(r.rating) IS NOT NULL \n",
    "  AND COUNT(*) > 5 -- Report only actors with more than 5 movie rentals\n",
    "ORDER BY avg_rating DESC, number_views DESC;"
   ]
  },
  {
   "cell_type": "markdown",
   "metadata": {},
   "source": [
    "- Now, report the favorite actors only for customers from Spain."
   ]
  },
  {
   "cell_type": "code",
   "execution_count": null,
   "metadata": {
    "vscode": {
     "languageId": "sql"
    }
   },
   "outputs": [],
   "source": [
    "SELECT a.name,  c.gender,\n",
    "       COUNT(*) AS number_views, \n",
    "       AVG(r.rating) AS avg_rating\n",
    "FROM renting as r\n",
    "LEFT JOIN customers AS c\n",
    "ON r.customer_id = c.customer_id\n",
    "LEFT JOIN actsin as ai\n",
    "ON r.movie_id = ai.movie_id\n",
    "LEFT JOIN actors as a\n",
    "ON ai.actor_id = a.actor_id\n",
    "WHERE c.country = 'Spain' -- Select only customers from Spain\n",
    "GROUP BY a.name, c.gender\n",
    "HAVING AVG(r.rating) IS NOT NULL \n",
    "  AND COUNT(*) > 5 \n",
    "ORDER BY avg_rating DESC, number_views DESC;"
   ]
  },
  {
   "cell_type": "markdown",
   "metadata": {},
   "source": [
    "# KPIs per country\n",
    "\n",
    "In chapter 1 you were asked to provide a report about the development of the company. This time you have to prepare a similar report with KPIs for each country separately. Your manager is interested in the total number of movie rentals, the average rating of all movies and the total revenue for each country since the beginning of 2019.\n",
    "\n",
    "# Instructions:\n",
    "\n",
    "- Augment the table renting with information about customers and movies.\n",
    "- Use as alias the first latter of the table name.\n",
    "- Select only records about rentals since beginning of 2019."
   ]
  },
  {
   "cell_type": "code",
   "execution_count": null,
   "metadata": {
    "vscode": {
     "languageId": "sql"
    }
   },
   "outputs": [],
   "source": [
    "SELECT *\n",
    "FROM renting AS r -- Augment the table renting with information about customers\n",
    "LEFT JOIN customers AS c\n",
    "ON c.customer_id = r.customer_id\n",
    "LEFT JOIN movies AS m -- Augment the table renting with information about movies\n",
    "ON r.movie_id = m.movie_id\n",
    "WHERE date_renting >= '2019-01-01'; -- Select only records about rentals since beginning of 2019"
   ]
  },
  {
   "cell_type": "markdown",
   "metadata": {},
   "source": [
    "- Calculate the number of movie rentals.\n",
    "- Calculate the average rating.\n",
    "- Calculate the revenue from movie rentals.\n",
    "- Report these KPIs for each country."
   ]
  },
  {
   "cell_type": "code",
   "execution_count": null,
   "metadata": {
    "vscode": {
     "languageId": "sql"
    }
   },
   "outputs": [],
   "source": [
    "SELECT \n",
    "\tc.country,                      -- For each country report\n",
    "\tCOUNT(*) AS number_renting,   -- The number of movie rentals\n",
    "\tAVG(r.rating) AS average_rating,  -- The average rating\n",
    "\tSUM(m.renting_price) AS revenue  -- The revenue from movie rentals\n",
    "FROM renting AS r\n",
    "LEFT JOIN customers AS c\n",
    "ON c.customer_id = r.customer_id\n",
    "LEFT JOIN movies AS m\n",
    "ON m.movie_id = r.movie_id\n",
    "WHERE date_renting >= '2019-01-01'\n",
    "GROUP BY c.country;"
   ]
  }
 ],
 "metadata": {
  "language_info": {
   "name": "python"
  }
 },
 "nbformat": 4,
 "nbformat_minor": 2
}
