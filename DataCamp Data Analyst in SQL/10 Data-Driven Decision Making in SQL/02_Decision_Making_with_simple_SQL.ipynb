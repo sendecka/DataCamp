{
 "cells": [
  {
   "cell_type": "markdown",
   "metadata": {},
   "source": [
    "# 2 Decision Making with simple SQL queries\n",
    "\n",
    "More complex queries with GROUP BY, LEFT JOIN and sub-queries are used to gain insight into customer preferences."
   ]
  }
 ],
 "metadata": {
  "language_info": {
   "name": "python"
  }
 },
 "nbformat": 4,
 "nbformat_minor": 2
}
