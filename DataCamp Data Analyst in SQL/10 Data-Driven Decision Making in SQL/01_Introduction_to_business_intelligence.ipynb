{
 "cells": [
  {
   "cell_type": "markdown",
   "metadata": {},
   "source": [
    "# 1 Introduction to business intelligence for a online movie rental database\n",
    "\n",
    "The first chapter is an introduction to the use case of an online movie rental company, called MovieNow and focuses on using simple SQL queries to extract and aggregated data from its database."
   ]
  },
  {
   "cell_type": "markdown",
   "metadata": {},
   "source": [
    "# Exploring the database\n",
    "\n",
    "Explore the tables and its columns. Which of the following quantities can't be computed?\n",
    "\n",
    "# Possible answers\n",
    "\n",
    "( ) The number of customers from each country.\n",
    "\n",
    "(x) The number of movies with an international award.\n",
    "\n",
    "( ) The average rating of a movie.\n",
    "\n",
    "( ) The number of movies with the actor Daniel Radcliffe."
   ]
  },
  {
   "cell_type": "markdown",
   "metadata": {},
   "source": [
    "# Exploring the table renting\n",
    "\n",
    "The table renting includes all records of movie rentals. Each record has a unique ID renting_id. It also contains information about customers (customer_id) and which movies they watched (movie_id). Furthermore, customers can give a rating after watching the movie, and the day the movie was rented is recorded.\n",
    "\n",
    "# Instructions:\n",
    "\n",
    "- Select all columns from renting."
   ]
  },
  {
   "cell_type": "code",
   "execution_count": null,
   "metadata": {
    "vscode": {
     "languageId": "sql"
    }
   },
   "outputs": [],
   "source": [
    "SELECT *  -- Select all\n",
    "FROM renting;        -- From table renting"
   ]
  },
  {
   "cell_type": "markdown",
   "metadata": {},
   "source": [
    "- Now select only those columns from renting which are needed to calculate the average rating per movie."
   ]
  },
  {
   "cell_type": "code",
   "execution_count": null,
   "metadata": {
    "vscode": {
     "languageId": "sql"
    }
   },
   "outputs": [],
   "source": [
    "SELECT movie_id,  -- Select all columns needed to compute the average rating per movie\n",
    "       rating\n",
    "FROM renting;"
   ]
  },
  {
   "cell_type": "markdown",
   "metadata": {},
   "source": [
    "# Question\n",
    "\n",
    "In SQL missing values are coded with null. In which column of renting did you notice null values?\n",
    "\n",
    "# Possible answers:\n",
    "\n",
    "( ) renting_id\n",
    "\n",
    "( ) customer_id\n",
    "\n",
    "( ) movie_id\n",
    "\n",
    "(x) rating"
   ]
  },
  {
   "cell_type": "markdown",
   "metadata": {},
   "source": [
    "# Working with dates\n",
    "\n",
    "For the analysis of monthly or annual changes, it is important to select data from specific time periods. You will select records from the table renting of movie rentals. The format of dates is 'YYYY-MM-DD'.\n",
    "\n",
    "# Instructions:\n",
    "\n",
    "- Select all movies rented on October 9th, 2018."
   ]
  },
  {
   "cell_type": "code",
   "execution_count": null,
   "metadata": {
    "vscode": {
     "languageId": "sql"
    }
   },
   "outputs": [],
   "source": [
    "SELECT *\n",
    "FROM renting\n",
    "WHERE date_renting = '2018-10-09'; -- Movies rented on October 9th, 2018"
   ]
  },
  {
   "cell_type": "markdown",
   "metadata": {},
   "source": [
    "- Select all records of movie rentals between beginning of April 2018 till end of August 2018."
   ]
  },
  {
   "cell_type": "code",
   "execution_count": null,
   "metadata": {
    "vscode": {
     "languageId": "sql"
    }
   },
   "outputs": [],
   "source": [
    "SELECT *\n",
    "FROM renting\n",
    "WHERE date_renting BETWEEN '2018-04-01' AND '2018-08-31'; -- from beginning April 2018 to end August 2018"
   ]
  },
  {
   "cell_type": "markdown",
   "metadata": {},
   "source": [
    "- Put the most recent records of movie rentals on top of the resulting table and order them in decreasing order."
   ]
  },
  {
   "cell_type": "code",
   "execution_count": null,
   "metadata": {
    "vscode": {
     "languageId": "sql"
    }
   },
   "outputs": [],
   "source": [
    "SELECT *\n",
    "FROM renting\n",
    "WHERE date_renting BETWEEN '2018-04-01' AND '2018-08-31'\n",
    "ORDER BY rating DESC; -- Order by recency in decreasing order"
   ]
  },
  {
   "cell_type": "markdown",
   "metadata": {},
   "source": [
    "# Selecting movies\n",
    "\n",
    "The table movies contains all movies available on the online platform.\n",
    "\n",
    "# Instructions:\n",
    "\n",
    "- Select all movies which are not dramas."
   ]
  },
  {
   "cell_type": "code",
   "execution_count": null,
   "metadata": {
    "vscode": {
     "languageId": "sql"
    }
   },
   "outputs": [],
   "source": [
    "SELECT *\n",
    "FROM movies\n",
    "WHERE genre <> 'Drama'; -- All genres except drama"
   ]
  },
  {
   "cell_type": "markdown",
   "metadata": {},
   "source": [
    "- Select the movies 'Showtime', 'Love Actually' and 'The Fighter'."
   ]
  },
  {
   "cell_type": "code",
   "execution_count": null,
   "metadata": {
    "vscode": {
     "languageId": "sql"
    }
   },
   "outputs": [],
   "source": [
    "SELECT *\n",
    "FROM movies\n",
    "WHERE title IN ('Showtime', 'Love Actually', 'The Fighter'); -- Select all movies with the given titles"
   ]
  },
  {
   "cell_type": "markdown",
   "metadata": {},
   "source": [
    "- Order the movies by increasing renting price."
   ]
  },
  {
   "cell_type": "code",
   "execution_count": null,
   "metadata": {
    "vscode": {
     "languageId": "sql"
    }
   },
   "outputs": [],
   "source": [
    "SELECT *\n",
    "FROM movies\n",
    "ORDER BY renting_price; -- Order the movies by increasing renting price"
   ]
  },
  {
   "cell_type": "markdown",
   "metadata": {},
   "source": [
    "# Select from renting\n",
    "\n",
    "Only some users give a rating after watching a movie. Sometimes it is interesting to explore only those movie rentals where a rating was provided.\n",
    "\n",
    "# Instructions:\n",
    "\n",
    "- Select from table renting all movie rentals from 2018.\n",
    "- Filter only those records which have a movie rating."
   ]
  },
  {
   "cell_type": "code",
   "execution_count": null,
   "metadata": {
    "vscode": {
     "languageId": "sql"
    }
   },
   "outputs": [],
   "source": [
    "SELECT *\n",
    "FROM renting\n",
    "WHERE date_renting BETWEEN '2018-01-01' AND '2018-12-31' -- Renting in 2018\n",
    "AND rating IS NOT NULL; -- Rating exists"
   ]
  },
  {
   "cell_type": "markdown",
   "metadata": {},
   "source": [
    "# Summarizing customer information\n",
    "\n",
    "In most business decisions customers are analyzed in groups, such as customers per country or customers per age group.\n",
    "\n",
    "# Instructions:\n",
    "\n",
    "- Count the number of customers born in the 80s.\n",
    "\n"
   ]
  },
  {
   "cell_type": "code",
   "execution_count": null,
   "metadata": {
    "vscode": {
     "languageId": "sql"
    }
   },
   "outputs": [],
   "source": [
    "SELECT COUNT(*) -- Count the total number of customers\n",
    "FROM customers\n",
    "WHERE date_of_birth BETWEEN '1980-01-01' AND '1989-12-31'; -- Select customers born between 1980-01-01 and 1989-12-31"
   ]
  },
  {
   "cell_type": "markdown",
   "metadata": {},
   "source": [
    "- Count the number of customers from Germany."
   ]
  },
  {
   "cell_type": "code",
   "execution_count": null,
   "metadata": {
    "vscode": {
     "languageId": "sql"
    }
   },
   "outputs": [],
   "source": [
    "SELECT COUNT(*) -- Count the total number of customers\n",
    "FROM customers\n",
    "WHERE country = 'Germany'; -- Select all customers from Germany"
   ]
  },
  {
   "cell_type": "markdown",
   "metadata": {},
   "source": [
    "- Count the number of countries where MovieNow has customers."
   ]
  },
  {
   "cell_type": "code",
   "execution_count": null,
   "metadata": {
    "vscode": {
     "languageId": "sql"
    }
   },
   "outputs": [],
   "source": [
    "SELECT COUNT(DISTINCT country) -- Count the number of countries\n",
    "FROM customers;"
   ]
  },
  {
   "cell_type": "markdown",
   "metadata": {},
   "source": [
    "# Ratings of movie 25\n",
    "\n",
    "The movie ratings give us insight into the preferences of our customers. Report summary statistics, such as the minimum, maximum, average, and count, of ratings for the movie with ID 25.\n",
    "\n",
    "# Instructions:\n",
    "\n",
    "- Select all movie rentals of the movie with movie_id 25 from the table renting.\n",
    "- For those records, calculate the minimum, maximum and average rating and count the number of ratings for this movie."
   ]
  },
  {
   "cell_type": "code",
   "execution_count": null,
   "metadata": {
    "vscode": {
     "languageId": "sql"
    }
   },
   "outputs": [],
   "source": [
    "SELECT MIN(rating) AS min_rating, -- Calculate the minimum rating and use alias min_rating\n",
    "\t\tMAX(rating) AS max_rating, -- Calculate the maximum rating and use alias max_rating\n",
    "\t\tAVG(rating) AS avg_rating, -- Calculate the average rating and use alias avg_rating\n",
    "\t\tCOUNT(rating) AS number_ratings -- Count the number of ratings and use alias number_ratings\n",
    "FROM renting\n",
    "WHERE movie_id = 25; -- Select all records of the movie with ID 25"
   ]
  },
  {
   "cell_type": "markdown",
   "metadata": {},
   "source": [
    "# Examining annual rentals\n",
    "\n",
    "You are asked to provide a report about the development of the company. Specifically, your manager is interested in the total number of movie rentals, the total number of ratings and the average rating of all movies since the beginning of 2019.\n",
    "\n",
    "# Instructions:\n",
    "\n",
    "- First, select all records of movie rentals since January 1st 2019.\n",
    "\n"
   ]
  },
  {
   "cell_type": "code",
   "execution_count": null,
   "metadata": {
    "vscode": {
     "languageId": "sql"
    }
   },
   "outputs": [],
   "source": [
    "SELECT * -- Select all records of movie rentals since January 1st 2019\n",
    "FROM renting\n",
    "WHERE date_renting >= '2019-01-01'; "
   ]
  },
  {
   "cell_type": "markdown",
   "metadata": {},
   "source": [
    "- Now, count the number of movie rentals and calculate the average rating since the beginning of 2019."
   ]
  },
  {
   "cell_type": "code",
   "execution_count": null,
   "metadata": {
    "vscode": {
     "languageId": "sql"
    }
   },
   "outputs": [],
   "source": [
    "SELECT \n",
    "\tCOUNT(*), -- Count the total number of rented movies\n",
    "\tAVG(rating) -- Add the average rating\n",
    "FROM renting\n",
    "WHERE date_renting >= '2019-01-01';"
   ]
  },
  {
   "cell_type": "markdown",
   "metadata": {},
   "source": [
    "- Use as alias column names number_renting and average_rating respectively."
   ]
  },
  {
   "cell_type": "code",
   "execution_count": null,
   "metadata": {
    "vscode": {
     "languageId": "sql"
    }
   },
   "outputs": [],
   "source": [
    "SELECT \n",
    "\tCOUNT(*) AS number_renting, -- Give it the column name number_renting\n",
    "\tAVG(rating) AS average_rating  -- Give it the column name average_rating\n",
    "FROM renting\n",
    "WHERE date_renting >= '2019-01-01';"
   ]
  },
  {
   "cell_type": "markdown",
   "metadata": {},
   "source": [
    "- Finally, count how many ratings exist since 2019-01-01."
   ]
  },
  {
   "cell_type": "code",
   "execution_count": null,
   "metadata": {
    "vscode": {
     "languageId": "sql"
    }
   },
   "outputs": [],
   "source": [
    "SELECT \n",
    "\tCOUNT(*) AS number_renting,\n",
    "\tAVG(rating) AS average_rating, \n",
    "    COUNT(rating) AS number_ratings -- Add the total number of ratings here.\n",
    "FROM renting\n",
    "WHERE date_renting >= '2019-01-01';"
   ]
  }
 ],
 "metadata": {
  "language_info": {
   "name": "python"
  }
 },
 "nbformat": 4,
 "nbformat_minor": 2
}
