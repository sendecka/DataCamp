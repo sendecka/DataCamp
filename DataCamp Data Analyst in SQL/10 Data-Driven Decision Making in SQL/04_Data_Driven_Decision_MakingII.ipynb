{
 "cells": [
  {
   "cell_type": "markdown",
   "metadata": {},
   "source": [
    "# 4 Data Driven Decision Making with OLAP SQL queries\n",
    "\n",
    "The OLAP extensions in SQL are introduced and applied to aggregated data on multiple levels. These extensions are the CUBE, ROLLUP and GROUPING SETS operators."
   ]
  }
 ],
 "metadata": {
  "language_info": {
   "name": "python"
  }
 },
 "nbformat": 4,
 "nbformat_minor": 2
}
