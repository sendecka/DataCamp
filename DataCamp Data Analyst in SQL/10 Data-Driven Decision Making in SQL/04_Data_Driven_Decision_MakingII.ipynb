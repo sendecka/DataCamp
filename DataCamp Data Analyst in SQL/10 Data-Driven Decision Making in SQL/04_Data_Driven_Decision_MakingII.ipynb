{
 "cells": [
  {
   "cell_type": "markdown",
   "metadata": {},
   "source": [
    "# 4 Data Driven Decision Making with OLAP SQL queries\n",
    "\n",
    "The OLAP extensions in SQL are introduced and applied to aggregated data on multiple levels. These extensions are the CUBE, ROLLUP and GROUPING SETS operators."
   ]
  },
  {
   "cell_type": "markdown",
   "metadata": {},
   "source": [
    "# Groups of customers\n",
    "\n",
    "Use the CUBE operator to extract the content of a pivot table from the database. Create a table with the total number of male and female customers from each country.\n",
    "\n",
    "# Instructions:\n",
    "\n",
    "- Create a table with the total number of customers, of all female and male customers, of the number of customers for each country and the number of men and women from each country."
   ]
  },
  {
   "cell_type": "code",
   "execution_count": null,
   "metadata": {
    "vscode": {
     "languageId": "sql"
    }
   },
   "outputs": [],
   "source": [
    "SELECT Country, -- Extract information of a pivot table of gender and country for the number of customers\n",
    "\t   Gender,\n",
    "\t   COUNT(*)\n",
    "FROM customers\n",
    "GROUP BY CUBE (Country, Gender)\n",
    "ORDER BY country;"
   ]
  },
  {
   "cell_type": "markdown",
   "metadata": {},
   "source": [
    "# Categories of movies\n",
    "\n",
    "Give an overview on the movies available on MovieNow. List the number of movies for different genres and release years.\n",
    "\n",
    "# Instructions:\n",
    "\n",
    "- List the number of movies for different genres and the year of release on all aggregation levels by using the CUBE operator."
   ]
  },
  {
   "cell_type": "code",
   "execution_count": null,
   "metadata": {
    "vscode": {
     "languageId": "sql"
    }
   },
   "outputs": [],
   "source": [
    "SELECT year_of_release,\n",
    "       COUNT(*),\n",
    "       Genre\n",
    "FROM movies\n",
    "GROUP BY \n",
    "    CUBE (Genre, year_of_release)\n",
    "ORDER BY year_of_release;"
   ]
  },
  {
   "cell_type": "markdown",
   "metadata": {},
   "source": [
    "# Question\n",
    "\n",
    "Which statement is NOT correct about the result table?\n",
    "\n",
    "# Possible answers\n",
    "\n",
    "( ) From all genres (ignoring the year of release) there are most movies in the category Drama.\n",
    "\n",
    "( ) In total there are 71 movies available on MovieNow.\n",
    "\n",
    "(x) The year of release with most movies is 2014.\n",
    "\n",
    "( ) From 2002 there are 2 dramas available on MovieNow."
   ]
  },
  {
   "cell_type": "markdown",
   "metadata": {},
   "source": [
    "# Analyzing average ratings\n",
    "\n",
    "Prepare a table for a report about the national preferences of the customers from MovieNow comparing the average rating of movies across countries and genres.\n",
    "\n",
    "# Instructions:\n",
    "\n",
    "- Augment the records of movie rentals with information about movies and customers, in this order. Use the first letter of the table names as alias."
   ]
  },
  {
   "cell_type": "code",
   "execution_count": null,
   "metadata": {
    "vscode": {
     "languageId": "sql"
    }
   },
   "outputs": [],
   "source": [
    "-- Augment the records of movie rentals with information about movies and customers\n",
    "SELECT *\n",
    "FROM renting AS r\n",
    "LEFT JOIN movies AS m\n",
    "ON m.movie_id = r.movie_id\n",
    "LEFT JOIN customers AS c\n",
    "ON r.customer_id = c.customer_id;"
   ]
  },
  {
   "cell_type": "markdown",
   "metadata": {},
   "source": [
    "- Calculate the average rating for each country."
   ]
  },
  {
   "cell_type": "code",
   "execution_count": null,
   "metadata": {
    "vscode": {
     "languageId": "sql"
    }
   },
   "outputs": [],
   "source": [
    "-- Calculate the average rating for each country\n",
    "SELECT \n",
    "\tCountry,\n",
    "    AVG(rating)\n",
    "FROM renting AS r\n",
    "LEFT JOIN movies AS m\n",
    "ON m.movie_id = r.movie_id\n",
    "LEFT JOIN customers AS c\n",
    "ON r.customer_id = c.customer_id\n",
    "GROUP BY \n",
    "    C.Country;"
   ]
  },
  {
   "cell_type": "markdown",
   "metadata": {},
   "source": [
    "- Calculate the average rating for all aggregation levels of country and genre."
   ]
  },
  {
   "cell_type": "code",
   "execution_count": null,
   "metadata": {
    "vscode": {
     "languageId": "sql"
    }
   },
   "outputs": [],
   "source": [
    "SELECT \n",
    "\tc.country, \n",
    "\tm.Genre, \n",
    "\tAVG(r.rating) AS avg_rating -- Calculate the average rating \n",
    "FROM renting AS r\n",
    "LEFT JOIN movies AS m\n",
    "ON m.movie_id = r.movie_id\n",
    "LEFT JOIN customers AS c\n",
    "ON r.customer_id = c.customer_id\n",
    "GROUP BY \n",
    "    CUBE(c.country, m.genre); -- For all aggregation levels of country and genre"
   ]
  },
  {
   "cell_type": "markdown",
   "metadata": {},
   "source": [
    "# Question\n",
    "\n",
    "What is the average rating over all records, rounded to two digits?\n",
    "Possible answers\n",
    "\n",
    "(x) 7.94\n",
    "\n",
    "( ) null\n",
    "\n",
    "( ) .80\n",
    "\n",
    "( ) 7.86"
   ]
  },
  {
   "cell_type": "markdown",
   "metadata": {},
   "source": [
    "# Number of customers\n",
    "\n",
    "You have to give an overview of the number of customers for a presentation.\n",
    "\n",
    "# Instructions:\n",
    "\n",
    "- Generate a table with the total number of customers, the number of customers for each country, and the number of female and male customers for each country.\n",
    "- Order the result by country and gender."
   ]
  },
  {
   "cell_type": "code",
   "execution_count": null,
   "metadata": {
    "vscode": {
     "languageId": "sql"
    }
   },
   "outputs": [],
   "source": [
    "-- Count the total number of customers, the number of customers for each country, and the number of female and male customers for each country\n",
    "SELECT country,\n",
    "       gender,\n",
    "\t   COUNT(*)\n",
    "FROM customers\n",
    "GROUP BY ROLLUP (country, gender)\n",
    "ORDER BY country, gender; -- Order the result by country and gender"
   ]
  },
  {
   "cell_type": "markdown",
   "metadata": {},
   "source": [
    "# Analyzing preferences of genres across countries\n",
    "\n",
    "You are asked to study the preferences of genres across countries. Are there particular genres which are more popular in specific countries? Evaluate the preferences of customers by averaging their ratings and counting the number of movies rented from each genre.\n",
    "\n",
    "# Instructions:\n",
    "\n",
    "- Augment the renting records with information about movies and customers."
   ]
  },
  {
   "cell_type": "code",
   "execution_count": null,
   "metadata": {
    "vscode": {
     "languageId": "sql"
    }
   },
   "outputs": [],
   "source": [
    "-- Join the tables\n",
    "SELECT *\n",
    "FROM renting AS r\n",
    "LEFT JOIN movies AS m\n",
    "ON m.movie_id = r.movie_id\n",
    "LEFT JOIN customers AS c\n",
    "ON r.customer_id = c.customer_id;"
   ]
  },
  {
   "cell_type": "markdown",
   "metadata": {},
   "source": [
    "- Calculate the average ratings and the number of ratings for each country and each genre. Include the columns country and genre in the SELECT clause."
   ]
  },
  {
   "cell_type": "code",
   "execution_count": null,
   "metadata": {
    "vscode": {
     "languageId": "sql"
    }
   },
   "outputs": [],
   "source": [
    "SELECT \n",
    "\tc.country, -- Select country\n",
    "\tm.genre, -- Select genre\n",
    "\tAVG(r.rating), -- Average ratings\n",
    "\tCOUNT(*)  -- Count number of movie rentals\n",
    "FROM renting AS r\n",
    "LEFT JOIN movies AS m\n",
    "ON m.movie_id = r.movie_id\n",
    "LEFT JOIN customers AS c\n",
    "ON r.customer_id = c.customer_id\n",
    "GROUP BY c.country, m.genre -- Aggregate for each country and each genre\n",
    "ORDER BY c.country, m.genre;"
   ]
  },
  {
   "cell_type": "markdown",
   "metadata": {},
   "source": [
    "- Finally, calculate the average ratings and the number of ratings for each country and genre, as well as an aggregation over all genres for each country and the overall average and total number."
   ]
  },
  {
   "cell_type": "code",
   "execution_count": null,
   "metadata": {
    "vscode": {
     "languageId": "sql"
    }
   },
   "outputs": [],
   "source": [
    "-- Group by each county and genre with OLAP extension\n",
    "SELECT \n",
    "\tc.country, \n",
    "\tm.genre, \n",
    "\tAVG(r.rating) AS avg_rating, \n",
    "\tCOUNT(*) AS num_rating\n",
    "FROM renting AS r\n",
    "LEFT JOIN movies AS m\n",
    "ON m.movie_id = r.movie_id\n",
    "LEFT JOIN customers AS c\n",
    "ON r.customer_id = c.customer_id\n",
    "GROUP BY ROLLUP (c.country, m.genre)\n",
    "ORDER BY c.country, m.genre;"
   ]
  },
  {
   "cell_type": "markdown",
   "metadata": {},
   "source": [
    "# Exploring nationality and gender of actors\n",
    "\n",
    "For each movie in the database, the three most important actors are identified and listed in the table actors. This table includes the nationality and gender of the actors. We are interested in how much diversity there is in the nationalities of the actors and how many actors and actresses are in the list.\n",
    "\n",
    "# Instructions:\n",
    "\n",
    "- Count the number of actors in the table actors from each country, the number of male and female actors and the total number of actors."
   ]
  },
  {
   "cell_type": "code",
   "execution_count": null,
   "metadata": {
    "vscode": {
     "languageId": "sql"
    }
   },
   "outputs": [],
   "source": [
    "SELECT \n",
    "\tnationality, -- Select nationality of the actors\n",
    "    gender, -- Select gender of the actors\n",
    "    COUNT(*) -- Count the number of actors\n",
    "FROM actors\n",
    "GROUP BY GROUPING SETS ((nationality), (gender), ()); -- Use the correct GROUPING SETS operation"
   ]
  },
  {
   "cell_type": "markdown",
   "metadata": {},
   "source": [
    "# Exploring rating by country and gender\n",
    "\n",
    "Now you will investigate the average rating of customers aggregated by country and gender.\n",
    "\n",
    "# Instructions:\n",
    "\n",
    "- Select the columns country, gender, and rating and use the correct join to combine the table renting with customer."
   ]
  },
  {
   "cell_type": "code",
   "execution_count": null,
   "metadata": {
    "vscode": {
     "languageId": "sql"
    }
   },
   "outputs": [],
   "source": [
    "SELECT \n",
    "\tc.country, -- Select country, gender and rating\n",
    "\tc.gender,\n",
    "\tr.rating\n",
    "FROM renting AS r\n",
    "LEFT JOIN customers AS c -- Use the correct join\n",
    "ON r.customer_id = c.customer_id;"
   ]
  },
  {
   "cell_type": "markdown",
   "metadata": {},
   "source": [
    "- Use GROUP BY to calculate the average rating over country and gender. Order the table by country and gender."
   ]
  },
  {
   "cell_type": "code",
   "execution_count": null,
   "metadata": {
    "vscode": {
     "languageId": "sql"
    }
   },
   "outputs": [],
   "source": [
    "SELECT \n",
    "\tc.country, \n",
    "    c.gender,\n",
    "\tAVG(r.rating) -- Calculate average rating\n",
    "FROM renting AS r\n",
    "LEFT JOIN customers AS c\n",
    "ON r.customer_id = c.customer_id\n",
    "GROUP BY country, gender  -- Order and group by country and gender\n",
    "ORDER BY country, gender;"
   ]
  },
  {
   "cell_type": "markdown",
   "metadata": {},
   "source": [
    "- Now, use GROUPING SETS to get the same result, i.e. the average rating over country and gender."
   ]
  },
  {
   "cell_type": "code",
   "execution_count": null,
   "metadata": {
    "vscode": {
     "languageId": "sql"
    }
   },
   "outputs": [],
   "source": [
    "SELECT \n",
    "\tc.country, \n",
    "    c.gender,\n",
    "\tAVG(r.rating)\n",
    "FROM renting AS r\n",
    "LEFT JOIN customers AS c\n",
    "ON r.customer_id = c.customer_id\n",
    "GROUP BY GROUPING SETS ((country, gender)); -- Group by country and gender with GROUPING SETS"
   ]
  },
  {
   "cell_type": "markdown",
   "metadata": {},
   "source": [
    "- Report all information that is included in a pivot table for country and gender in one SQL table."
   ]
  },
  {
   "cell_type": "code",
   "execution_count": null,
   "metadata": {
    "vscode": {
     "languageId": "sql"
    }
   },
   "outputs": [],
   "source": [
    "SELECT \n",
    "\tc.country, \n",
    "    c.gender,\n",
    "\tAVG(r.rating)\n",
    "FROM renting AS r\n",
    "LEFT JOIN customers AS c\n",
    "ON r.customer_id = c.customer_id\n",
    "-- Report all info from a Pivot table for country and gender\n",
    "GROUP BY GROUPING SETS ((country, gender), (country), (gender), ());"
   ]
  },
  {
   "cell_type": "markdown",
   "metadata": {},
   "source": [
    "# Customer preference for genres\n",
    "\n",
    "You just saw that customers have no clear preference for more recent movies over older ones. Now the management considers investing money in movies of the best rated genres.\n",
    "\n",
    "# Instructions:\n",
    "\n",
    "- Augment the records of movie rentals with information about movies. Use the first letter of the table as alias."
   ]
  },
  {
   "cell_type": "code",
   "execution_count": null,
   "metadata": {
    "vscode": {
     "languageId": "sql"
    }
   },
   "outputs": [],
   "source": [
    "SELECT *\n",
    "FROM renting AS r\n",
    "LEFT JOIN movies AS m -- Augment the table with information about movies\n",
    "ON r.movie_id = m.movie_id;"
   ]
  },
  {
   "cell_type": "markdown",
   "metadata": {},
   "source": [
    "- Select records of movies with at least 4 ratings, starting from 2018-04-01."
   ]
  },
  {
   "cell_type": "code",
   "execution_count": null,
   "metadata": {
    "vscode": {
     "languageId": "sql"
    }
   },
   "outputs": [],
   "source": [
    "SELECT *\n",
    "FROM renting AS r\n",
    "LEFT JOIN movies AS m\n",
    "ON m.movie_id = r.movie_id\n",
    "WHERE r.movie_id IN ( -- Select records of movies with at least 4 ratings\n",
    "\tSELECT movie_id\n",
    "\tFROM renting\n",
    "\tGROUP BY movie_id\n",
    "\tHAVING COUNT(rating) >= 4)\n",
    "AND r.date_renting >= '2018-04-01'; -- Select records of movie rentals since 2018-04-01"
   ]
  },
  {
   "cell_type": "markdown",
   "metadata": {},
   "source": [
    "- For each genre, calculate the average rating (use the alias avg_rating), the number of ratings (use the alias n_rating), the number of movie rentals (use the alias n_rentals), and the number of distinct movies (use the alias n_movies)."
   ]
  },
  {
   "cell_type": "code",
   "execution_count": null,
   "metadata": {
    "vscode": {
     "languageId": "sql"
    }
   },
   "outputs": [],
   "source": [
    "SELECT m.genre, -- For each genre, calculate:\n",
    "\t   AVG(r.rating) AS avg_rating, -- The average rating and use the alias avg_rating\n",
    "\t   COUNT(r.rating) AS n_rating, -- The number of ratings and use the alias n_rating\n",
    "\t   COUNT(*) AS n_rentals,     -- The number of movie rentals and use the alias n_rentals\n",
    "\t   COUNT(DISTINCT m.movie_id) AS n_movies -- The number of distinct movies and use the alias n_movies\n",
    "FROM renting AS r\n",
    "LEFT JOIN movies AS m\n",
    "ON m.movie_id = r.movie_id\n",
    "WHERE r.movie_id IN ( \n",
    "\tSELECT movie_id\n",
    "\tFROM renting\n",
    "\tGROUP BY movie_id\n",
    "\tHAVING COUNT(rating) >= 3)\n",
    "AND r.date_renting >= '2018-01-01'\n",
    "GROUP BY m.genre;"
   ]
  },
  {
   "cell_type": "markdown",
   "metadata": {},
   "source": [
    "- Order the table by decreasing average rating."
   ]
  },
  {
   "cell_type": "code",
   "execution_count": null,
   "metadata": {
    "vscode": {
     "languageId": "sql"
    }
   },
   "outputs": [],
   "source": [
    "SELECT genre,\n",
    "\t   AVG(rating) AS avg_rating,\n",
    "\t   COUNT(rating) AS n_rating,\n",
    "       COUNT(*) AS n_rentals,     \n",
    "\t   COUNT(DISTINCT m.movie_id) AS n_movies \n",
    "FROM renting AS r\n",
    "LEFT JOIN movies AS m\n",
    "ON m.movie_id = r.movie_id\n",
    "WHERE r.movie_id IN ( \n",
    "\tSELECT movie_id\n",
    "\tFROM renting\n",
    "\tGROUP BY movie_id\n",
    "\tHAVING COUNT(rating) >= 3)\n",
    "AND r.date_renting >= '2018-01-01'\n",
    "GROUP BY genre\n",
    "ORDER BY avg_rating DESC; -- Order the table by decreasing average rating"
   ]
  },
  {
   "cell_type": "markdown",
   "metadata": {},
   "source": [
    "# Customer preference for actors\n",
    "\n",
    "The last aspect you have to analyze are customer preferences for certain actors.\n",
    "\n",
    "# Instructions:\n",
    "\n",
    "- Join the tables."
   ]
  },
  {
   "cell_type": "code",
   "execution_count": null,
   "metadata": {
    "vscode": {
     "languageId": "sql"
    }
   },
   "outputs": [],
   "source": [
    "-- Join the tables\n",
    "SELECT *\n",
    "FROM renting AS r\n",
    "LEFT JOIN actsin AS ai\n",
    "ON ai.movie_id = r.movie_id\n",
    "LEFT JOIN actors AS a\n",
    "ON ai.actor_id = a.actor_id;"
   ]
  },
  {
   "cell_type": "markdown",
   "metadata": {},
   "source": [
    "- For each combination of the actors' nationality and gender, calculate the average rating, the number of ratings, the number of movie rentals, and the number of actors."
   ]
  },
  {
   "cell_type": "code",
   "execution_count": null,
   "metadata": {
    "vscode": {
     "languageId": "sql"
    }
   },
   "outputs": [],
   "source": [
    "SELECT a.nationality,\n",
    "       a.gender,\n",
    "\t   AVG(r.rating) AS avg_rating, -- The average rating\n",
    "\t   COUNT(r.rating) AS n_rating, -- The number of ratings\n",
    "\t   COUNT(*) AS n_rentals, -- The number of movie rentals\n",
    "\t   COUNT(DISTINCT a.actor_id) AS n_actors -- The number of actors\n",
    "FROM renting AS r\n",
    "LEFT JOIN actsin AS ai\n",
    "ON ai.movie_id = r.movie_id\n",
    "LEFT JOIN actors AS a\n",
    "ON ai.actor_id = a.actor_id\n",
    "WHERE r.movie_id IN ( \n",
    "\tSELECT movie_id\n",
    "\tFROM renting\n",
    "\tGROUP BY movie_id\n",
    "\tHAVING COUNT(rating) >=4 )\n",
    "AND r.date_renting >= '2018-04-01'\n",
    "GROUP BY a.nationality, a.gender;"
   ]
  },
  {
   "cell_type": "markdown",
   "metadata": {},
   "source": [
    "- Provide results for all aggregation levels represented in a pivot table."
   ]
  },
  {
   "cell_type": "code",
   "execution_count": null,
   "metadata": {
    "vscode": {
     "languageId": "sql"
    }
   },
   "outputs": [],
   "source": [
    "SELECT a.nationality,\n",
    "       a.gender,\n",
    "\t   AVG(r.rating) AS avg_rating,\n",
    "\t   COUNT(r.rating) AS n_rating,\n",
    "\t   COUNT(*) AS n_rentals,\n",
    "\t   COUNT(DISTINCT a.actor_id) AS n_actors\n",
    "FROM renting AS r\n",
    "LEFT JOIN actsin AS ai\n",
    "ON ai.movie_id = r.movie_id\n",
    "LEFT JOIN actors AS a\n",
    "ON ai.actor_id = a.actor_id\n",
    "WHERE r.movie_id IN ( \n",
    "\tSELECT movie_id\n",
    "\tFROM renting\n",
    "\tGROUP BY movie_id\n",
    "\tHAVING COUNT(rating) >= 4)\n",
    "AND r.date_renting >= '2018-04-01'\n",
    "GROUP BY CUBE (a.nationality, a.gender); -- Provide results for all aggregation levels represented in a pivot table"
   ]
  }
 ],
 "metadata": {
  "language_info": {
   "name": "python"
  }
 },
 "nbformat": 4,
 "nbformat_minor": 2
}
