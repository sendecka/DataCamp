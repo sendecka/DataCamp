{
 "cells": [
  {
   "cell_type": "markdown",
   "metadata": {},
   "source": [
    "# 3 More Distributions and the Central Limit Theorem\n",
    "\n",
    "It's time to explore more probability distributions. You'll learn about the binomial distribution for visualizing the probability of binary outcomes, and one of the most important distributions in statistics, the normal distribution. You'll see how distributions can be described by their shape, along with discovering the Poisson distribution and its role in calculating the probabilities of events occuring over time. You'll also gain an understanding of the central limit theorem!"
   ]
  },
  {
   "cell_type": "markdown",
   "metadata": {},
   "source": [
    "# Recognizing a binomial distribution\n",
    "\n",
    "Recall that a binomial distribution counts the number of successes in independent events.\n",
    "\n",
    "Four scenarios are provided below; your task is to choose which one describes a binomial distribution based on the type of data described.\n",
    "\n",
    "# Select one answer\n",
    "\n",
    "(x) The probability of a train arriving in under 10 minutes.\n",
    "\n",
    "( ) The probability of a man's height being 175 centimeters or less.\n",
    "\n",
    "( ) The probability of matching four numbers in the lottery.\n",
    "\n",
    "( ) The probability of the temperature being more than 80 degrees Celsius."
   ]
  },
  {
   "cell_type": "markdown",
   "metadata": {},
   "source": [
    "# How probability affects the binomial distribution\n",
    "\n",
    "Recall that the binomial distribution can be described by two parameters, \n",
    " and.\n",
    "\n",
    "To examine how these parameters affect the distribution, three plots have been provided representing the probability of closing between one and 12 sales per week for three sales people. The probability, \n",
    ", is different for each individual.\n",
    "\n",
    "Your task is to select which sales person has the highest probability of closing nine or more sales per week.\n",
    "\n",
    "three_bar_plots_showing_different_probabilities_for_number_of_sales_per_week.png\n",
    "\n",
    "# Select one answer\n",
    "\n",
    "(x) George\n",
    "\n",
    "( ) Izzy\n",
    "\n",
    "( ) James"
   ]
  },
  {
   "cell_type": "markdown",
   "metadata": {},
   "source": [
    "# Recognizing the normal distribution\n",
    "\n",
    "The normal distribution is commonly observed in the real-world, such as shoe size, adult height, birth weight of babies, and IQ scores; therefore, it is important to be able to recognize this distribution when visualizing data.\n",
    "\n",
    "Here is a grid of four plots displaying the distribution of schools achieving various percentages of pass grades for secondary school exams in the United Kingdom, where each visualization represents students from a different ethnicity.\n",
    "\n",
    "Your task is to identify which of these plots does not represent a normal distribution."
   ]
  },
  {
   "cell_type": "markdown",
   "metadata": {},
   "source": [
    "# Select one answer\n",
    "\n",
    "(x) Plot A\n",
    "\n",
    "( ) Plot B\n",
    "\n",
    "( ) Plot C\n",
    "\n",
    "( ) Plot D"
   ]
  },
  {
   "cell_type": "markdown",
   "metadata": {},
   "source": [
    "# Describing distributions using kurtosis\n",
    "\n",
    "Another means of describing the shape of a distribution is by its kurtosis, which can represent the size of its central peak and how spread out the tails are.\n",
    "\n",
    "Kurtosis allows you to summarize whether values are bunched up close to the mean, and how far out any extreme values may lie.\n",
    "\n",
    "Three definitions have been provided. Your task is to select which one accurately represents a normal distribution with negative kurtosis.\n",
    "\n",
    "# Select one answer\n",
    "\n",
    "(x) A distribution with the same kurtosis as a normal distribution.\n",
    "\n",
    "( ) A distribution with a larger central peak and smaller tails compared to a typical normal distribution.\n",
    "\n",
    "( ) A distribution with a smaller peak and wider tails compared to a typical normal distribution."
   ]
  },
  {
   "cell_type": "markdown",
   "metadata": {},
   "source": [
    "# Visualizing sampling distributions\n",
    "\n",
    "Now let's check your understanding of how the central limit theorem applies to different distributions!\n",
    "\n",
    "An app has been displayed allowing you to create sampling distributions of different summary statistics from samples of different distributions.\n",
    "\n",
    "Which distribution does the central limit theorem apply to?\n",
    "\n",
    "# Instructions:\n",
    "\n",
    "( ) Discrete uniform distribution\n",
    "\n",
    "( ) Continuous uniform distribution\n",
    "\n",
    "( ) Binomial distribution\n",
    "\n",
    "(x) All of the above"
   ]
  },
  {
   "cell_type": "markdown",
   "metadata": {},
   "source": [
    "# The CLT vs. The law of large numbers\n",
    "\n",
    "Recall that earlier in the course you learned about the law of large numbers. As a reminder, here is a plot showing the distribution of 100 samples and 1000 samples of a die roll.\n",
    "\n",
    "histogram_of_100_rolls_and_1000_rolls.png\n",
    "\n",
    "This concept can sometimes be confused with the central limit theorem, so let's check your understanding of the definitions and differences between the two.\n",
    "\n",
    "You will need to classify each statement as being applicable to either the central limit theorem or the law of large numbers."
   ]
  },
  {
   "cell_type": "markdown",
   "metadata": {},
   "source": [
    "# When to use the central limit theorem\n",
    "\n",
    "In the video, you saw a workflow on whether the central limit theorem should be applied or not, depending on various factors.\n",
    "\n",
    "In this exercise, four scenarios have been provided. Your task is to choose which scenario would require the use of the central limit theorem to produce summary statistics that are normally distributed.\n",
    "\n",
    "# Select one answer\n",
    "\n",
    "(x) Finding the mean IQ of all 100 students in a high school.\n",
    "\n",
    "( ) Measuring the standard deviation of household income in a road with 20 houses.\n",
    "\n",
    "( ) Determining the percentage of adults in the USA that have been diagnosed with Type 2 Diabetes.\n",
    "\n",
    "( ) Counting the number of babies born with blue eyes in a hospital within one day."
   ]
  },
  {
   "cell_type": "markdown",
   "metadata": {},
   "source": [
    "# Recognizing lambda in the Poisson distribution\n",
    "\n",
    "Now that you've learned about the Poisson distribution, you know that its shape is described by a value called lambda (\n",
    "). In this exercise, you'll select which of these plots represents a Poisson distribution with lambda equal to two."
   ]
  },
  {
   "cell_type": "markdown",
   "metadata": {},
   "source": [
    "Possible Answers:\n",
    "\n",
    "(x) A\n",
    "\n",
    "( ) B\n",
    "\n",
    "( ) C"
   ]
  }
 ],
 "metadata": {
  "language_info": {
   "name": "python"
  }
 },
 "nbformat": 4,
 "nbformat_minor": 2
}
