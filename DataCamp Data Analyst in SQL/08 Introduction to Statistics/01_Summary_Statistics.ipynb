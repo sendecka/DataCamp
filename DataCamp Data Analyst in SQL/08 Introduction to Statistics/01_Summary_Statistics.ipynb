{
 "cells": [
  {
   "cell_type": "markdown",
   "metadata": {},
   "source": [
    "# 1 Summary Statistics\n",
    "\n",
    "Summary statistics gives you the tools you need to describe your data. In this chapter, you'll explore summary statistics including mean, median, and standard deviation, and learn how to accurately interpret them. You'll also develop your critical thinking skills, allowing you to choose the best summary statistics for your data."
   ]
  },
  {
   "cell_type": "markdown",
   "metadata": {},
   "source": [
    "# Using statistics in the real-world\n",
    "\n",
    "Recall that statistics can help to answer specific, measurable questions.\n",
    "\n",
    "In this exercise, you have been provided with several real-world scenarios and need to select which one can be solved through the application of statistics.\n",
    "\n",
    "# Select one answer\n",
    "\n",
    "(x) Why do some people prefer dogs to cats?\n",
    "\n",
    "( )Testing whether a new model of car is safer than the current model?\n",
    "\n",
    "( )What factors make one TV show more popular than another?\n",
    "\n",
    "( )What will tomorrow's winning lottery numbers be?"
   ]
  },
  {
   "cell_type": "markdown",
   "metadata": {},
   "source": [
    "# Typical number of robberies per London Borough\n",
    "\n",
    "In the video, you saw that the mean and median can both provide information about the typical value of a variable.\n",
    "\n",
    "Here are three definitions representing the mode, median, and mean, along with their respective values for robberies in the London crimes dataset:\n",
    "\n",
    "Add all values and divide by the number of observations\tThe London Borough where Robbery occurs most frequently\tSort all the data and take the middle value\n",
    "1496.16\tWestminster\t1354.5\n",
    "Looking at the table, what are the values of the mean and median?\n",
    "\n",
    "# Select one answer\n",
    "\n",
    "(x) Mean: 1496.16 ; Median: Westminster\n",
    "\n",
    "( ) Mean: 1354.50 ; Median: 1496.16\n",
    "\n",
    "( ) Mean: 1496.16 ; Median: 1354.50\n",
    "\n",
    "( ) Mean: Westminster ; Median: 1354.50"
   ]
  },
  {
   "cell_type": "markdown",
   "metadata": {},
   "source": [
    "# Choosing a measure\n",
    "\n",
    "Selecting the correct measure of center is essential when describing a typical value of the data being observed.\n",
    "\n",
    "An app has been displayed, which shows a histogram of robberies in London. You can use the app to change which type of crime is displayed, and whether to include a dotted line for the mean or median.\n",
    "\n",
    "Your task is to decide which type of crime has a symmetrical histogram and can be accurately described by both the mean and median.\n",
    "\n",
    "Instructions\n",
    "\n",
    "( ) Robbery\n",
    "\n",
    "( ) Drug Offenses\n",
    "\n",
    "( ) Arson and Criminal Damage\n",
    "\n",
    "( ) Public Order Offenses\n",
    "\n",
    "(x) None of these crimes"
   ]
  },
  {
   "cell_type": "markdown",
   "metadata": {},
   "source": [
    "# London Boroughs with most frequent crimes\n",
    "\n",
    "The mean and median are great for summarizing numeric data, but if you want to understand the typical value of a categorical variable then these measures can't be applied.\n",
    "\n",
    "An app containing the count of various crimes for each London Borough has been provided. You can use the arrows next to the column names to sort the data from smallest to largest and vice versa.\n",
    "\n",
    "Using this, your task is to find out which London Boroughs are the mode for Vehicle Offenses and Burglary.\n",
    "\n",
    "# Instructions:\n",
    "\n",
    "( ) Vehicle Offenses: Kingston upon Thames ; Burglary: Tower Hamlets\n",
    "\n",
    "( ) Vehicle Offenses: Hackney ; Burglary: Kingston upon Thames\n",
    "\n",
    "( ) Vehicle Offenses: Enfield ; Burglary: Greenwich\n",
    "\n",
    "(x) Vehicle Offenses: Enfield ; Burglary: Tower Hamlets"
   ]
  },
  {
   "cell_type": "markdown",
   "metadata": {},
   "source": [
    "# Box plots for measuring spread\n",
    "\n",
    "Data visualization can be useful in highlighting measures of spread, such as the interquartile range (IQR).\n",
    "\n",
    "Below is a box plot displaying the number of crimes across all London Boroughs in February 2021, grouped by the type of crime.\n",
    "\n",
    "Your task is to use the plot to determine which type of crime had the largest interquartile range for this month.\n",
    "\n",
    "boxplot_of_crimes_by_category_in_February_2021.png\n",
    "\n",
    "# Select one answer\n",
    "\n",
    "(x) Possession of Weapons\n",
    "\n",
    "( ) Vehicle offenses\n",
    "\n",
    "( ) Drug offenses\n",
    "\n",
    "( ) Theft"
   ]
  },
  {
   "cell_type": "markdown",
   "metadata": {},
   "source": [
    "# Which crime has the larger standard deviation\n",
    "\n",
    "For the final exercise of the chapter, it's time to see how you interpret spread using the standard deviation.\n",
    "\n",
    "Two histograms are displayed—one for Public Order Offenses and another for Miscellaneous Crimes Against Society.\n",
    "\n",
    "Your task is to choose which type of crime has a larger standard deviation.\n",
    "\n",
    "drug_offenses_histogram.png\n",
    "\n",
    "# Select one answer\n",
    "\n",
    "(x) It's not possible to determine which has the larger standard deviation based on the plots.\n",
    "\n",
    "( ) Miscellaneous Crimes Against Society\n",
    "\n",
    "( ) Public Order Offenses"
   ]
  }
 ],
 "metadata": {
  "language_info": {
   "name": "python"
  }
 },
 "nbformat": 4,
 "nbformat_minor": 2
}
