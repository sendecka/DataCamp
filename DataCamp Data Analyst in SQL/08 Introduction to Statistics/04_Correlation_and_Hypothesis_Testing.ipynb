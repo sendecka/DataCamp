{
 "cells": [
  {
   "cell_type": "markdown",
   "metadata": {},
   "source": [
    "# 4 Correlation and Hypothesis Testing\n",
    "\n",
    "In the final chapter, you'll be introduced to hypothesis testing and how it can be used to accurately draw conclusions about a population. You'll discover correlation and how it can be used to quantify a linear relationship between two variables. You'll find out about experimental design techniques such as randomization and blinding. You'll also learn about concepts used to minimize the risk of drawing the wrong conclusion about the results of hypothesis tests!"
   ]
  }
 ],
 "metadata": {
  "language_info": {
   "name": "python"
  }
 },
 "nbformat": 4,
 "nbformat_minor": 2
}
