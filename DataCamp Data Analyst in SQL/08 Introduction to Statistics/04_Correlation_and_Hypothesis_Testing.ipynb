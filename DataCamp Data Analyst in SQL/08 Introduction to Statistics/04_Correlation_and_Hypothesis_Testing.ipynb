{
 "cells": [
  {
   "cell_type": "markdown",
   "metadata": {},
   "source": [
    "# 4 Correlation and Hypothesis Testing\n",
    "\n",
    "In the final chapter, you'll be introduced to hypothesis testing and how it can be used to accurately draw conclusions about a population. You'll discover correlation and how it can be used to quantify a linear relationship between two variables. You'll find out about experimental design techniques such as randomization and blinding. You'll also learn about concepts used to minimize the risk of drawing the wrong conclusion about the results of hypothesis tests!"
   ]
  },
  {
   "cell_type": "markdown",
   "metadata": {},
   "source": [
    "# Sunshine and sleep\n",
    "\n",
    "Say you are planning to perform two hypothesis tests:\n",
    "\n",
    "One to establish whether a relationship exists between the number of hours of sunshine per day in London and how many hours per night the residents sleep, and\n",
    "Another to check if exercise is related to blood pressure in elderly men.\n",
    "Some statements have been provided. Your task is to correctly classify each statement as describing a null hypothesis or an alternative hypotheses for these two tests."
   ]
  },
  {
   "cell_type": "markdown",
   "metadata": {},
   "source": [
    "# The hypothesis testing workflow\n",
    "\n",
    "Hypothesis testing requires a sequence of tasks to be completed in a particular order.\n",
    "\n",
    "You are preparing to perform a hypothesis test on whether a difference exists between the frequency of colds in 18-30 year olds who are meat-eaters and vegetarians.\n",
    "\n",
    "Your task is to reorder the actions to accurately represent a typical hypothesis testing workflow."
   ]
  },
  {
   "cell_type": "markdown",
   "metadata": {},
   "source": [
    "# Independent and dependent variables\n",
    "\n",
    "You are planning a hypothesis test to see if there is a difference in the amount of sunshine a city receives per year and how many hours are worked annually. Your alternative hypothesis is that more sunshine is associated with fewer hours worked.\n",
    "\n",
    "You monitor the amount of sunshine in three cities for one hundred days, and collect data on the number of hours worked from 30 people in each city.\n",
    "\n",
    "Your task is to decide what would be considered the dependent variable in this hypothesis test.\n",
    "\n",
    "# Select one answer\n",
    "\n",
    "(x) City\n",
    "\n",
    "( ) Hours worked annually\n",
    "\n",
    "( ) Amount of sunshine"
   ]
  },
  {
   "cell_type": "markdown",
   "metadata": {},
   "source": [
    "# Recognizing controlled trials\n",
    "\n",
    "The video highlighted the benefits of controlled trials, particularly using randomization and double-blinding. However, there are lots of ways to perform experiments and sometimes a controlled trial might not be appropriate or even feasible.\n",
    "\n",
    "In this exercise, you'll need to classify each scenario based on whether it describes a controlled trial or another type of experiment."
   ]
  },
  {
   "cell_type": "markdown",
   "metadata": {},
   "source": [
    "# Why use randomization?\n",
    "\n",
    "Controlled trials allow participants to be split into either a control group or a treatment group.\n",
    "\n",
    "Randomization is incredibly beneficial as part of this process, but can you recall why?\n",
    "\n",
    "Some reasons are listed below; your task is to select the one that best describes why randomization is useful when running a controlled trial.\n",
    "\n",
    "# Select one answer\n",
    "\n",
    "(x) To reduce bias caused by assigning to groups based on specific characteristics.\n",
    "\n",
    "( ) To ensure groups are comparable.\n",
    "\n",
    "( ) To maximize the chance of the results being normally distributed.\n",
    "\n",
    "( ) To reduce bias, ensure groups are comparable, and increase the chances that results will be representative of the target population.\n",
    "\n",
    "( ) To prevent participants from knowing whether they are in the treatment or control group."
   ]
  },
  {
   "cell_type": "markdown",
   "metadata": {},
   "source": [
    "# Identifying correlation between variables\n",
    "\n",
    "You saw that adding a trendline to a scatter plot is a great way to get a sense of the strength and direction of a relationship between variables.\n",
    "\n",
    "An app has been provided for you to display scatter plots with a trendline for data about cities. The data point represents a city, and its location in the plot is determined by the cost of a bottle of water and a monthly gym membership in that city.\n",
    "\n",
    "Your task is to describe the Pearson correlation coefficient for the cost of a bottle of water (£) as the dependent variable and annual hours worked as the independent variable."
   ]
  },
  {
   "cell_type": "markdown",
   "metadata": {},
   "source": [
    "# Instructions:\n",
    "\n",
    "( ) Weak-to-moderate positive relationship\n",
    "\n",
    "( ) Strong negative relationship\n",
    "\n",
    "( ) Weak-to-moderate negative relationship\n",
    "\n",
    "( ) Weak positive relationship"
   ]
  },
  {
   "cell_type": "markdown",
   "metadata": {},
   "source": [
    "# What can correlation tell you?\n",
    "\n",
    "In the last exercise, you saw a weak-to-moderate negative relationship between the cost of a bottle of water and the number of hours worked annually in different cities. Here is the plot as a reminder:"
   ]
  },
  {
   "cell_type": "markdown",
   "metadata": {},
   "source": [
    "# Select one answer\n",
    "\n",
    "(x) An increase in the number of hours worked annually causes a decrease in the cost of a bottle of water.\n",
    "\n",
    "( ) An increase in the number of hours worked annually is related to an increase in the cost of a bottle of water.\n",
    "\n",
    "( ) A decrease in the cost of a bottle of water causes a decrease in the number of hours worked annually.\n",
    "\n",
    "( ) An increase in the number of hours worked annually is related to a decrease in the cost of a bottle of water."
   ]
  },
  {
   "cell_type": "markdown",
   "metadata": {},
   "source": [
    "# Confounding variables\n",
    "\n",
    "You have been asked to perform an experiment to investigate the relationship between neighborhood residence and lung capacity. You will measure the lung capacity of thirty people from neighborhood A, which is located near a highway, and thirty people from neighborhood B, which is not near a highway. Both groups have similar smoking habits and a similar gender breakdown.\n",
    "\n",
    "Which of the following could be a confounding variable in this experiment?\n",
    "\n",
    "# Select one answer\n",
    "\n",
    "( ) Lung capacity\n",
    "\n",
    "( ) Neighborhood\n",
    "\n",
    "(x) Air pollution\n",
    "\n",
    "( ) Smoking status\n",
    "\n",
    "( ) Gender"
   ]
  },
  {
   "cell_type": "markdown",
   "metadata": {},
   "source": [
    "# Significance levels vs. p-values\n",
    "\n",
    "You learned about two very important elements of hypothesis testing: significance levels (\n",
    ") and p-values.\n",
    "\n",
    "It is very common to get these two confused, especially when you are new to statistics!\n",
    "\n",
    "In this exercise, you have been provided with statements and need to match the definitions provided based on whether they accurately describe \n",
    " or p-values."
   ]
  },
  {
   "cell_type": "markdown",
   "metadata": {},
   "source": [
    "# Type I and type II errors\n",
    "\n",
    "You are interested in whether there is a difference in average weight between adult men in Madrid, Spain, and Berlin, Germany.\n",
    "\n",
    "Your null hypothesis is that there is no difference in weight between men in Madrid and Berlin, and your alternative hypothesis is that men in Berlin are heavier than those in Madrid.\n",
    "\n",
    " has been set to 0.05, and the weights of 100 adult male residents from each city have been collected. Sampling with replacement has been performed to produce 10000 sample means of both cities. What conclusion can you draw based on the sample mean distributions?"
   ]
  },
  {
   "cell_type": "markdown",
   "metadata": {},
   "source": [
    "# Possible Answers:\n",
    "\n",
    "(x) Reject the null hypothesis, men in Berlin are heavier than men in Madrid\n",
    "\n",
    "( ) Accept the null hypothesis, there is no difference between men's weight in Berlin and Madrid\n",
    "\n",
    "( ) It is impossible to determine this from the plot\n",
    "\n",
    "( ) Reject the null hypothesis, men in Madrid are heavier than men in Berlin"
   ]
  }
 ],
 "metadata": {
  "language_info": {
   "name": "python"
  }
 },
 "nbformat": 4,
 "nbformat_minor": 2
}
