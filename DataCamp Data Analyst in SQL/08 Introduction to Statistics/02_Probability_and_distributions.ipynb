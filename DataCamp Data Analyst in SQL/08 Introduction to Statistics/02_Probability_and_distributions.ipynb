{
 "cells": [
  {
   "cell_type": "markdown",
   "metadata": {},
   "source": [
    "# 2 Probability and distributions\n",
    "\n",
    "Probability underpins a large part of statistics, where it is used to calculate the chance of events occurring. You'll work with real-world sales data and learn how data with different values can be interpreted as a probability distribution. You'll find out about discrete and continuous probability distributions, including the discovery of the normal distribution and how it occurs frequently in natural events!"
   ]
  },
  {
   "cell_type": "markdown",
   "metadata": {},
   "source": [
    "# What is more likely?\n",
    "\n",
    "You saw how to calculate the probability of a single event in the video. Now let's check your understanding of this process.\n",
    "\n",
    "Four scenarios have been provided; your task is to choose which one is most likely to occur.\n",
    "\n",
    "# Select one answer\n",
    "\n",
    "(x) Scoring 90% or more in an exam, when only 5% of students score this highly.\n",
    "\n",
    "( ) A restaurant receiving an order for a steak, where steak orders have made up 100 out of 1000 total orders to date.\n",
    "\n",
    "( ) Picking a red card out of a standard pack of 52 playing cards, where half of the cards are red and the other half are black.\n",
    "\n",
    "( ) Drawing a person's name out of a hat that also contains 19 other names."
   ]
  },
  {
   "cell_type": "markdown",
   "metadata": {},
   "source": [
    "# Chances of the next sale being more than the mean\n",
    "\n",
    "In the video, you saw how to calculate the probability of the next order in the online retail sales dataset being for a specific product type.\n",
    "\n",
    "In this exercise, you will determine the chances of the next order being worth more than the mean order value, which is $188.50.\n",
    "\n",
    "You will need to identify the number of orders generating Total Net Sales more than or equal to the mean, and divide this value by a count of all orders.\n",
    "\n",
    "The app has a table containing definitions and values for the measures you require to calculate this probability. Use the input fields to enter the correct values, which will produce the probability as a percentage. Use this output to select an appropriate answer from the options provided.\n",
    "\n",
    "# Instructions:\n",
    "\n",
    "( ) 50.37%\n",
    "\n",
    "(x) 22.98%\n",
    "\n",
    "( ) 198.54%"
   ]
  },
  {
   "cell_type": "markdown",
   "metadata": {},
   "source": [
    "# Orders of more than 10 basket products\n",
    "\n",
    "Recall that the order in which dependent events occur affects conditional probability.\n",
    "\n",
    "In this exercise, you will need to use the image to calculate the conditional probability that an order from the online retail dataset will be for more than 10 items, given the order is for Basket products.\n",
    "\n",
    "venn_diagram_of_125_orders_for_more_than_10_items_and_551_orders_for_basket_products_and_19_orders_for_more_than_10_basket_items.jpg\n",
    "\n",
    "# Select one answer\n",
    "\n",
    "(x) 19/125\n",
    "\n",
    "( ) 19/551\n",
    "\n",
    "( ) 125/1767\n",
    "\n",
    "( ) 19/1767"
   ]
  },
  {
   "cell_type": "markdown",
   "metadata": {},
   "source": [
    "# Identifying distributions\n",
    "\n",
    "Recognizing the type of distribution is very important when analyzing data, as you will learn later on in the course.\n",
    "\n",
    "You have been provided with an image containing three probability distributions drawn from samples of different sets of data. Your task is to choose which sample is most likely to have been taken from a uniform distribution?\n",
    "\n",
    "three_plots, first_showing_a_distribution_with_a_large_peak_on_the_left,second_showing_a_uniform_distribution_and_third_showing_a_symmetrical_distribution_peaking_in_the_middle.png\n",
    "\n",
    "# Select one answer\n",
    "\n",
    "(x) A\n",
    "\n",
    "( ) B\n",
    "\n",
    "( ) C"
   ]
  },
  {
   "cell_type": "markdown",
   "metadata": {},
   "source": [
    "# Sample mean vs. Theoretical mean\n",
    "\n",
    "The app will take a sample from a discrete uniform distribution, which includes the numbers one through nine, and calculate the sample's mean. You can adjust the size of the sample using the slider. Note that the expected value of this distribution is five.\n",
    "\n",
    "A sample is taken, and you win twenty dollars if the sample's mean is less than four. There's a catch: you get to pick the sample's size.\n",
    "\n",
    "Which sample size is most likely to win you the twenty dollars?\n",
    "\n",
    "# Instructions:\n",
    "\n",
    "(x) 10\n",
    "\n",
    "( ) 100\n",
    "\n",
    "( ) 1000\n",
    "\n",
    "( ) 5000\n",
    "\n",
    "( ) 10000"
   ]
  },
  {
   "cell_type": "markdown",
   "metadata": {},
   "source": [
    "# Finding the normal distribution\n",
    "\n",
    "In the video, you were introduced to the normal distribution, which is prevalent in many natural phenomena.\n",
    "\n",
    "Your task is to identify which of the four plots most closely represents a normal distribution.\n",
    "\n",
    "Which of the following represents a normal distribution? four_plots_showing_distributions_for_gross_sales_and_net_quantity_of_products_plus_weapons_offenses_and_public_order_offenses_by_London_borough.png\n",
    "\n",
    "# Select one answer\n",
    "\n",
    "(x) A\n",
    "\n",
    "( ) B\n",
    "\n",
    "( ) C\n",
    "\n",
    "( ) D"
   ]
  },
  {
   "cell_type": "markdown",
   "metadata": {},
   "source": [
    "# Calculating probability with a uniform distribution\n",
    "\n",
    "In the video, you saw that the area underneath the line of a continuous uniform distribution can be used to calculate the probability of an event outcome.\n",
    "\n",
    "Here is a distribution displaying the probability of waiting anywhere from zero to 20 minutes for a train to arrive.\n",
    "\n",
    "Your task is to calculate the probability of the next train arriving between five and 13 minutes.\n",
    "\n",
    "train_wait_times_uniform_distribution.png\n",
    "\n",
    "# Select one answer\n",
    "\n",
    "(x) 5%\n",
    "\n",
    "( ) 40%\n",
    "\n",
    "( ) 80%\n",
    "\n",
    "( ) 30%"
   ]
  }
 ],
 "metadata": {
  "language_info": {
   "name": "python"
  }
 },
 "nbformat": 4,
 "nbformat_minor": 2
}
