{
 "cells": [
  {
   "cell_type": "markdown",
   "metadata": {},
   "source": [
    "# 2 Probability and distributions\n",
    "\n",
    "Probability underpins a large part of statistics, where it is used to calculate the chance of events occurring. You'll work with real-world sales data and learn how data with different values can be interpreted as a probability distribution. You'll find out about discrete and continuous probability distributions, including the discovery of the normal distribution and how it occurs frequently in natural events!"
   ]
  }
 ],
 "metadata": {
  "language_info": {
   "name": "python"
  }
 },
 "nbformat": 4,
 "nbformat_minor": 2
}
