{
 "cells": [
  {
   "cell_type": "markdown",
   "metadata": {},
   "source": [
    "# Project Description\n",
    "\n",
    "Studying abroad can be both exciting and difficult. But what might be contributing to this? One Japanese international university decided to find out!\n",
    "\n",
    "Use your data manipulation skills to explore the data from a study on the mental health of international students, and find out which factors may have the greatest impact."
   ]
  },
  {
   "cell_type": "markdown",
   "metadata": {},
   "source": [
    "Explore and analyze the students data to see how the length of stay (stay) impacts the average mental health diagnostic scores of the international students present in the study.\n",
    "\n",
    "Return a table with nine rows and five columns.\n",
    "The five columns should be aliased as: stay, count_int, average_phq, average_scs, and average_as, in that order.\n",
    "The average columns should contain the average of the todep (PHQ-9 test), tosc (SCS test), and toas (ASISS test) columns for each length of stay, rounded to two decimal places.\n",
    "The count_int column should be the number of international students for each length of stay.\n",
    "Sort the results by the length of stay in descending order.\n",
    "Note: Creating new cells in workspace will rename the DataFrame. Make sure that your final solution uses the name df."
   ]
  },
  {
   "cell_type": "markdown",
   "metadata": {},
   "source": [
    "Does going to university in a different country affect your mental health? A Japanese international university surveyed its students in 2018 and published a study the following year that was approved by several ethical and regulatory boards.\n",
    "\n",
    "The study found that international students have a higher risk of mental health difficulties than the general population, and that social connectedness (belonging to a social group) and acculturative stress (stress associated with joining a new culture) are predictive of depression.\n",
    "\n",
    "\n",
    "Explore the `students` data using PostgreSQL to find out if you would come to a similar conclusion for international students and see if the length of stay is a contributing factor.\n",
    "\n",
    "Here is a data description of the columns you may find helpful."
   ]
  },
  {
   "cell_type": "markdown",
   "metadata": {},
   "source": [
    "| Field Name    | Description                                      |\n",
    "| ------------- | ------------------------------------------------ |\n",
    "| `inter_dom`     | Types of students (international or domestic)   |\n",
    "| `japanese_cate` | Japanese language proficiency                    |\n",
    "| `english_cate`  | English language proficiency                     |\n",
    "| `academic`      | Current academic level (undergraduate or graduate) |\n",
    "| `age`           | Current age of student                           |\n",
    "| `stay`          | Current length of stay in years                  |\n",
    "| `todep`         | Total score of depression (PHQ-9 test)           |\n",
    "| `tosc`          | Total score of social connectedness (SCS test)   |\n",
    "| `toas`          | Total score of acculturative stress (ASISS test) |"
   ]
  },
  {
   "cell_type": "code",
   "execution_count": null,
   "metadata": {
    "vscode": {
     "languageId": "sql"
    }
   },
   "outputs": [],
   "source": [
    "-- Run this code to save the CSV file as students\n",
    "SELECT * \n",
    "FROM 'students.csv';"
   ]
  },
  {
   "cell_type": "code",
   "execution_count": null,
   "metadata": {
    "vscode": {
     "languageId": "sql"
    }
   },
   "outputs": [],
   "source": [
    "-- Find the number of international students and their average scores by length of stay, in descending order of length of stay\n",
    "SELECT stay, \n",
    "       COUNT(*) AS count_int,\n",
    "       ROUND(AVG(todep), 2) AS average_phq, \n",
    "       ROUND(AVG(tosc), 2) AS average_scs, \n",
    "       ROUND(AVG(toas), 2) AS average_as\n",
    "FROM students\n",
    "WHERE inter_dom = 'Inter'\n",
    "GROUP BY stay\n",
    "ORDER BY stay DESC;"
   ]
  }
 ],
 "metadata": {
  "kernelspec": {
   "display_name": "Python 3",
   "language": "python",
   "name": "python3"
  },
  "language_info": {
   "codemirror_mode": {
    "name": "ipython",
    "version": 3
   },
   "file_extension": ".py",
   "mimetype": "text/x-python",
   "name": "python",
   "nbconvert_exporter": "python",
   "pygments_lexer": "ipython3",
   "version": "3.10.13"
  }
 },
 "nbformat": 4,
 "nbformat_minor": 2
}
