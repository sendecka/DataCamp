{
 "cells": [
  {
   "cell_type": "markdown",
   "metadata": {},
   "source": [
    "# 3 Aggregate Functions\n",
    "\n",
    "SQL allows you to zoom in and out to better understand an entire dataset, its subsets, and its individual records. You'll learn to summarize data using aggregate functions and perform basic arithmetic calculations inside queries to gain insights into what makes a successful film."
   ]
  },
  {
   "cell_type": "markdown",
   "metadata": {},
   "source": [
    "# Practice with aggregate functions\n",
    "\n",
    "Now let's try extracting summary information from a table using these new aggregate functions. Summarizing is helpful in real life when extracting top-line details from your dataset. Perhaps you'd like to know how old the oldest film in the films table is, what the most expensive film is, or how many films you have listed.\n",
    "\n",
    "Now it's your turn to get more insights about the films table!\n",
    "\n",
    "# Instructions:\n",
    "\n",
    "- Use the SUM() function to calculate the total duration of all films and alias with total_duration."
   ]
  },
  {
   "cell_type": "code",
   "execution_count": null,
   "metadata": {
    "vscode": {
     "languageId": "sql"
    }
   },
   "outputs": [],
   "source": [
    "-- Query the sum of film durations\n",
    "SELECT SUM(duration) AS total_duration\n",
    "FROM films;"
   ]
  },
  {
   "cell_type": "markdown",
   "metadata": {},
   "source": [
    "- Calculate the average duration of all films and alias with average_duration."
   ]
  },
  {
   "cell_type": "code",
   "execution_count": null,
   "metadata": {
    "vscode": {
     "languageId": "sql"
    }
   },
   "outputs": [],
   "source": [
    "-- Calculate the average duration of all films\n",
    "SELECT AVG(DURATION) AS average_duration\n",
    "FROM FILMS;"
   ]
  },
  {
   "cell_type": "markdown",
   "metadata": {},
   "source": [
    "- Find the most recent release_year in the films table, aliasing as latest_year."
   ]
  },
  {
   "cell_type": "code",
   "execution_count": null,
   "metadata": {
    "vscode": {
     "languageId": "sql"
    }
   },
   "outputs": [],
   "source": [
    "-- Find the latest release_year\n",
    "SELECT MAX(release_year) AS latest_year\n",
    "FROM FILMS;"
   ]
  },
  {
   "cell_type": "markdown",
   "metadata": {},
   "source": [
    "- Find the duration of the shortest film and use the alias shortest_film."
   ]
  },
  {
   "cell_type": "code",
   "execution_count": null,
   "metadata": {
    "vscode": {
     "languageId": "sql"
    }
   },
   "outputs": [],
   "source": [
    "-- Find the duration of the shortest film\n",
    "SELECT MIN(DURATION) AS shortest_film\n",
    "FROM FILMS;"
   ]
  },
  {
   "cell_type": "markdown",
   "metadata": {},
   "source": [
    "# Combining aggregate functions with WHERE\n",
    "\n",
    "When combining aggregate functions with WHERE, you get a powerful tool that allows you to get more granular with your insights, for example, to get the total budget of movies made from the year 2010 onwards.\n",
    "\n",
    "This combination is useful when you only want to summarize a subset of your data. In your film-industry role, as an example, you may like to summarize each certification category to compare how they each perform or if one certification has a higher average budget than another.\n",
    "\n",
    "Let's see what insights you can gain about the financials in the dataset."
   ]
  },
  {
   "cell_type": "markdown",
   "metadata": {},
   "source": [
    "# Instructions:\n",
    "\n",
    "- Use SUM() to calculate the total gross for all films made in the year 2000 or later, and use the alias total_gross."
   ]
  },
  {
   "cell_type": "code",
   "execution_count": null,
   "metadata": {
    "vscode": {
     "languageId": "sql"
    }
   },
   "outputs": [],
   "source": [
    "-- Calculate the sum of gross from the year 2000 or later\n",
    "SELECT SUM(gross) AS total_gross\n",
    "FROM films\n",
    "WHERE release_year >= 2000;"
   ]
  },
  {
   "cell_type": "markdown",
   "metadata": {},
   "source": [
    "- Calculate the average amount grossed by all films whose titles start with the letter 'A' and alias with avg_gross_A."
   ]
  },
  {
   "cell_type": "code",
   "execution_count": null,
   "metadata": {
    "vscode": {
     "languageId": "sql"
    }
   },
   "outputs": [],
   "source": [
    "-- Calculate the average gross of films that start with A\n",
    "SELECT AVG(gross) AS avg_gross_A\n",
    "FROM films\n",
    "where title LIKE 'A%';"
   ]
  },
  {
   "cell_type": "markdown",
   "metadata": {},
   "source": [
    "- Calculate the lowest gross film in 1994 and use the alias lowest_gross."
   ]
  },
  {
   "cell_type": "code",
   "execution_count": null,
   "metadata": {
    "vscode": {
     "languageId": "sql"
    }
   },
   "outputs": [],
   "source": [
    "-- Calculate the lowest gross film in 1994\n",
    "SELECT MIN(gross) AS lowest_gross\n",
    "FROM films\n",
    "WHERE release_year = 1994;"
   ]
  },
  {
   "cell_type": "markdown",
   "metadata": {},
   "source": [
    "- Calculate the highest gross film between 2000 and 2012, inclusive, and use the alias highest_gross."
   ]
  },
  {
   "cell_type": "code",
   "execution_count": null,
   "metadata": {
    "vscode": {
     "languageId": "sql"
    }
   },
   "outputs": [],
   "source": [
    "-- Calculate the highest gross film released between 2000-2012\n",
    "SELECT MAX(gross) AS highest_gross\n",
    "FROM films\n",
    "WHERE release_year BETWEEN 2000 AND 2012;"
   ]
  },
  {
   "cell_type": "markdown",
   "metadata": {},
   "source": [
    "# Using ROUND()\n",
    "\n",
    "Aggregate functions work great with numerical values; however, these results can sometimes get unwieldy when dealing with long decimal values. Luckily, SQL provides you with the ROUND() function to tame these long decimals.\n",
    "\n",
    "If asked to give the average budget of your films, ten decimal places is not necessary. Instead, you can round to two decimal places to create results that make more sense for currency.\n",
    "\n",
    "Now you try!\n",
    "\n",
    "# Instructions:\n",
    "\n",
    "- Calculate the average facebook_likes to one decimal place and assign to the alias, avg_facebook_likes."
   ]
  },
  {
   "cell_type": "code",
   "execution_count": null,
   "metadata": {
    "vscode": {
     "languageId": "sql"
    }
   },
   "outputs": [],
   "source": [
    "-- Round the average number of facebook_likes to one decimal place\n",
    "SELECT ROUND(AVG(facebook_likes),1) AS avg_facebook_likes\n",
    "FROM reviews;"
   ]
  },
  {
   "cell_type": "markdown",
   "metadata": {},
   "source": [
    "# ROUND() with a negative parameter\n",
    "\n",
    "A useful thing you can do with ROUND() is have a negative number as the decimal place parameter. This can come in handy if your manager only needs to know the average number of facebook_likes to the hundreds since granularity below one hundred likes won't impact decision making.\n",
    "\n",
    "Social media plays a significant role in determining success. If a movie trailer is posted and barely gets any likes, the movie itself may not be successful. Remember how 2020's \"Sonic the Hedgehog\" movie got a revamp after the public saw the trailer?\n",
    "\n",
    "Let's apply this to other parts of the dataset and see what the benchmark is for movie budgets so, in the future, it's clear whether the film is above or below budget.\n",
    "\n",
    "Instructions:\n",
    "# \n",
    "\n",
    "- Calculate the average budget from the films table, aliased as avg_budget_thousands, and round to the nearest thousand."
   ]
  },
  {
   "cell_type": "code",
   "execution_count": null,
   "metadata": {
    "vscode": {
     "languageId": "sql"
    }
   },
   "outputs": [],
   "source": [
    "-- Calculate the average budget rounded to the thousands\n",
    "SELECT ROUND(AVG(budget), -3) AS avg_budget_thousands\n",
    "FROM films;"
   ]
  },
  {
   "cell_type": "markdown",
   "metadata": {},
   "source": [
    "# Using arithmetic\n",
    "\n",
    "SQL arithmetic comes in handy when your table is missing a metric you want to review. Suppose you have some data on movie ticket sales, but the table only has fields for ticket price and discount. In that case, you could combine these by subtracting the discount from the ticket price to get the amount the film-goer paid.\n",
    "\n",
    "You have seen that SQL can act strangely when dividing integers. What is the result if you divide a discount of two dollars by the paid_price of ten dollars to get the discount percentage?\n",
    "\n",
    "# Instructions:\n",
    "\n",
    "Possible answers\n",
    "\n",
    "( ) 2\n",
    "\n",
    "( ) 0.222\n",
    "\n",
    "(x) 0\n",
    "\n",
    "( ) 0.2"
   ]
  },
  {
   "cell_type": "markdown",
   "metadata": {},
   "source": [
    "# Aliasing with functions\n",
    "\n",
    "Aliasing can be a lifesaver, especially as we start to do more complex SQL queries with multiple criteria. Aliases help you keep your code clean and readable. For example, if you want to find the MAX() value of several fields without aliasing, you'll end up with the result with several columns called max and no idea which is which. You can fix this with aliasing.\n",
    "\n",
    "Now, it's over to you to clean up the following queries.\n",
    "\n",
    "# Instructions:\n",
    "\n",
    "- Select the title and duration in hours for all films and alias as duration_hours; since the current durations are in minutes, you'll need to divide duration by 60.0."
   ]
  },
  {
   "cell_type": "code",
   "execution_count": null,
   "metadata": {
    "vscode": {
     "languageId": "sql"
    }
   },
   "outputs": [],
   "source": [
    "-- Calculate the title and duration_hours from films\n",
    "SELECT title, duration/60.0 AS duration_hours\n",
    "FROM films;"
   ]
  },
  {
   "cell_type": "markdown",
   "metadata": {},
   "source": [
    "- Calculate the percentage of people who are no longer alive and alias the result as percentage_dead."
   ]
  },
  {
   "cell_type": "code",
   "execution_count": null,
   "metadata": {
    "vscode": {
     "languageId": "sql"
    }
   },
   "outputs": [],
   "source": [
    "-- Calculate the percentage of people who are no longer alive\n",
    "SELECT COUNT(deathdate)*100.0/COUNT(*) AS percentage_dead\n",
    "FROM people"
   ]
  },
  {
   "cell_type": "markdown",
   "metadata": {},
   "source": [
    "- Find how many decades (period of ten years) the films table covers by using MIN() and MAX(); alias as number_of_decades."
   ]
  },
  {
   "cell_type": "code",
   "execution_count": null,
   "metadata": {
    "vscode": {
     "languageId": "sql"
    }
   },
   "outputs": [],
   "source": [
    "-- Find the number of decades in the films table\n",
    "SELECT (MAX(release_year) - MIN(release_year)) / 10.0 AS number_of_decades\n",
    "FROM films;"
   ]
  },
  {
   "cell_type": "markdown",
   "metadata": {},
   "source": [
    "# Rounding results\n",
    "\n",
    "You found some valuable insights in the previous exercise, but many of the results were inconveniently long. We forgot to round! We won't make you redo them all; however, you'll update the worst offender in this exercise.\n",
    "\n",
    "# Instructions:\n",
    "\n",
    "- Update the query by adding ROUND() around the calculation and round to two decimal places."
   ]
  },
  {
   "cell_type": "code",
   "execution_count": null,
   "metadata": {
    "vscode": {
     "languageId": "sql"
    }
   },
   "outputs": [],
   "source": [
    "-- Round duration_hours to two decimal places\n",
    "SELECT title, ROUND(duration/ 60.0,2) AS duration_hours\n",
    "FROM films;"
   ]
  }
 ],
 "metadata": {
  "language_info": {
   "name": "python"
  }
 },
 "nbformat": 4,
 "nbformat_minor": 2
}
