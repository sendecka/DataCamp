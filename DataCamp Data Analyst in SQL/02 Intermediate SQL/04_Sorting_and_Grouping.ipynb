{
 "cells": [
  {
   "cell_type": "markdown",
   "metadata": {},
   "source": [
    "# 4 Sorting and Grouping\n",
    "\n",
    "This final chapter teaches you how to sort and group data. These skills will take your analyses to a new level by helping you uncover critical business insights and identify trends and performance. You'll get hands-on experience to determine which films performed the best and how movie durations and budgets changed over time."
   ]
  },
  {
   "cell_type": "markdown",
   "metadata": {},
   "source": [
    "# Sorting text\n",
    "\n",
    "SQL provides you with the ORDER BY keyword to sort one or more fields from your data. It can do this multi-directionally and helps make results easy to interpret.\n",
    "\n",
    "How does ORDER BY sort a column of text values by default?\n",
    "\n",
    "# Possible Answers\n",
    "Select one answer\n",
    "\n",
    "(x) Alphabetically (A-Z)\n",
    "\n",
    "( ) Reverse alphabetically (Z-A)\n",
    "\n",
    "( ) There's no natural ordering to text data\n",
    "\n",
    "( ) By number of characters (fewest to most)"
   ]
  },
  {
   "cell_type": "markdown",
   "metadata": {},
   "source": [
    "# Sorting single fields\n",
    "\n",
    "Now that you understand how ORDER BY works, you'll put it into practice. In this exercise, you'll work on sorting single fields only. This can be helpful to extract quick insights such as the top-grossing or top-scoring film.\n",
    "\n",
    "The following exercises will help you gain further insights into the film database.\n",
    "\n",
    "# Instructions:\n",
    "\n",
    "- Select the name of each person in the people table, sorted alphabetically."
   ]
  },
  {
   "cell_type": "code",
   "execution_count": null,
   "metadata": {
    "vscode": {
     "languageId": "sql"
    }
   },
   "outputs": [],
   "source": [
    "-- Select name from people and sort alphabetically\n",
    "SELECT name\n",
    "FROM people\n",
    "ORDER BY name ASC;"
   ]
  },
  {
   "cell_type": "markdown",
   "metadata": {},
   "source": [
    "- Select the title and duration for every film, from longest duration to shortest."
   ]
  },
  {
   "cell_type": "code",
   "execution_count": null,
   "metadata": {
    "vscode": {
     "languageId": "sql"
    }
   },
   "outputs": [],
   "source": [
    "-- Select the title and duration from longest to shortest film\n",
    "SELECT title, duration\n",
    "FROM films\n",
    "ORDER BY duration DESC;"
   ]
  },
  {
   "cell_type": "markdown",
   "metadata": {},
   "source": [
    "# Sorting multiple fields\n",
    "\n",
    "ORDER BY can also be used to sort on multiple fields. It will sort by the first field specified, then sort by the next, and so on. As an example, you may want to sort the people data by age and keep the names in alphabetical order.\n",
    "\n",
    "Try using ORDER BY to sort multiple columns.\n",
    "\n",
    "# Instructions:\n",
    "\n",
    "- Select the release_year, duration, and title of films ordered by their release year and duration, in that order."
   ]
  },
  {
   "cell_type": "code",
   "execution_count": null,
   "metadata": {
    "vscode": {
     "languageId": "sql"
    }
   },
   "outputs": [],
   "source": [
    "-- Select the release year, duration, and title sorted by release year and duration\n",
    "SELECT release_year, duration, title\n",
    "FROM films\n",
    "ORDER by release_year, duration;"
   ]
  },
  {
   "cell_type": "markdown",
   "metadata": {},
   "source": [
    "- Select the certification, release_year, and title from films ordered first by certification (alphabetically) and second by release year, starting with the most recent year."
   ]
  },
  {
   "cell_type": "code",
   "execution_count": null,
   "metadata": {
    "vscode": {
     "languageId": "sql"
    }
   },
   "outputs": [],
   "source": [
    "-- Select the certification, release year, and title sorted by certification and release year\n",
    "SELECT certification, release_year, title\n",
    "FROM films\n",
    "ORDER BY certification, release_year DESC;"
   ]
  },
  {
   "cell_type": "markdown",
   "metadata": {},
   "source": [
    "# GROUP BY single fields\n",
    "\n",
    "GROUP BY is a SQL keyword that allows you to group and summarize results with the additional use of aggregate functions. For example, films can be grouped by the certification and language before counting the film titles in each group. This allows you to see how many films had a particular certification and language grouping.\n",
    "\n",
    "In the following steps, you'll summarize other groups of films to learn more about the films in your database.\n",
    "\n",
    "# Instructions:\n",
    "\n",
    "- Select the release_year and count of films released in each year aliased as film_count."
   ]
  },
  {
   "cell_type": "code",
   "execution_count": null,
   "metadata": {
    "vscode": {
     "languageId": "sql"
    }
   },
   "outputs": [],
   "source": [
    "-- Find the release_year and film_count of each year\n",
    "SELECT release_year, COUNT(*) AS film_count\n",
    "FROM films\n",
    "GROUP BY release_year;"
   ]
  },
  {
   "cell_type": "markdown",
   "metadata": {},
   "source": [
    "- Select the release_year and average duration aliased as avg_duration of all films, grouped by release_year."
   ]
  },
  {
   "cell_type": "code",
   "execution_count": null,
   "metadata": {
    "vscode": {
     "languageId": "sql"
    }
   },
   "outputs": [],
   "source": [
    "-- Find the release_year and average duration of films for each year\n",
    "SELECT release_year, AVG(duration) AS avg_duration\n",
    "FROM films\n",
    "GROUP BY release_year;"
   ]
  },
  {
   "cell_type": "markdown",
   "metadata": {},
   "source": [
    "# GROUP BY multiple fields\n",
    "\n",
    "GROUP BY becomes more powerful when used across multiple fields or combined with ORDER BY and LIMIT.\n",
    "\n",
    "Perhaps you're interested in learning about budget changes throughout the years in individual countries. You'll use grouping in this exercise to look at the maximum budget for each country in each year there is data available.\n",
    "\n",
    "# Instructions:\n",
    "\n",
    "- Select the release_year, country, and the maximum budget aliased as max_budget for each year and each country; sort your results by release_year and country."
   ]
  },
  {
   "cell_type": "code",
   "execution_count": null,
   "metadata": {
    "vscode": {
     "languageId": "sql"
    }
   },
   "outputs": [],
   "source": [
    "-- Find the release_year, country, and max_budget, then group and order by release_year and country\n",
    "SELECT release_year, country, MAX(budget) AS max_budget\n",
    "FROM films\n",
    "GROUP BY release_year, country;"
   ]
  },
  {
   "cell_type": "markdown",
   "metadata": {},
   "source": [
    "# Answering business questions\n",
    "\n",
    "In the real world, every SQL query starts with a business question. Then it is up to you to decide how to write the query that answers the question. Let's try this out.\n",
    "\n",
    "Which release_year had the most language diversity?\n",
    "\n",
    "Take your time to translate this question into code. We'll get you started then it's up to you to test your queries in the console.\n",
    "\n",
    "\"Most language diversity\" can be interpreted as COUNT(DISTINCT ___). Now over to you.\n",
    "\n",
    "# Instructions:\n",
    "\n",
    "Possible answers\n",
    "\n",
    "( ) 2005\n",
    "\n",
    "( ) 1916\n",
    "\n",
    "(x) 2006\n",
    "\n",
    "( ) 1990"
   ]
  },
  {
   "cell_type": "markdown",
   "metadata": {},
   "source": [
    "# Filter with HAVING\n",
    "\n",
    "Your final keyword is HAVING. It works similarly to WHERE in that it is a filtering clause, with the difference that HAVING filters grouped data.\n",
    "\n",
    "Filtering grouped data can be especially handy when working with a large dataset. When working with thousands or even millions of rows, HAVING will allow you to filter for just the group of data you want, such as films over two hours in length!\n",
    "\n",
    "Practice using HAVING to find out which countries (or country) have the most varied film certifications.\n",
    "\n",
    "# Instructions:\n",
    "\n",
    "- Select country from the films table, and get the distinct count of certification aliased as certification_count.\n",
    "- Group the results by country.\n",
    "- Filter the unique count of certifications to only results greater than 10."
   ]
  },
  {
   "cell_type": "code",
   "execution_count": null,
   "metadata": {
    "vscode": {
     "languageId": "sql"
    }
   },
   "outputs": [],
   "source": [
    "-- Select the country and distinct count of certification as certification_count\n",
    "SELECT country, COUNT(DISTINCT certification) AS certification_count\n",
    "FROM films\n",
    "-- Group by country\n",
    "GROUP BY country\n",
    "-- Filter results to countries with more than 10 different certifications\n",
    "HAVING COUNT(DISTINCT certification) > 10;"
   ]
  },
  {
   "cell_type": "markdown",
   "metadata": {},
   "source": [
    "# HAVING and sorting\n",
    "\n",
    "Filtering and sorting go hand in hand and gives you greater interpretability by ordering our results.\n",
    "\n",
    "Let's see this magic at work by writing a query showing what countries have the highest average film budgets.\n",
    "\n",
    "# Instructions:\n",
    "\n",
    "- Select the country and the average budget as average_budget, rounded to two decimal, from films.\n",
    "- Group the results by country.\n",
    "- Filter the results to countries with an average budget of more than one billion (1000000000).\n",
    "- Sort by descending order of the average_budget."
   ]
  },
  {
   "cell_type": "code",
   "execution_count": null,
   "metadata": {
    "vscode": {
     "languageId": "sql"
    }
   },
   "outputs": [],
   "source": [
    "-- Select the country and average_budget from films\n",
    "SELECT country, ROUND(AVG(budget),2) AS average_budget\n",
    "FROM films\n",
    "-- Group by country\n",
    "GROUP BY country\n",
    "-- Filter to countries with an average_budget of more than one billion\n",
    "HAVING AVG(budget) > 1000000000\n",
    "-- Order by descending order of the aggregated budget\n",
    "ORDER BY average_budget DESC;"
   ]
  },
  {
   "cell_type": "markdown",
   "metadata": {},
   "source": [
    "# All together now\n",
    "\n",
    "It's time to use much of what you've learned in one query! This is good preparation for using SQL in the real world where you'll often be asked to write more complex queries since some of the basic queries can be answered by playing around in spreadsheet applications.\n",
    "\n",
    "In this exercise, you'll write a query that returns the average budget and gross earnings for films each year after 1990 if the average budget is greater than 60 million.\n",
    "\n",
    "This will be a big query, but you can handle it!\n",
    "\n",
    "# Instructions:\n",
    "\n",
    "- Select the release_year for each film in the films table, filter for records released after 1990, and group by release_year."
   ]
  },
  {
   "cell_type": "code",
   "execution_count": null,
   "metadata": {
    "vscode": {
     "languageId": "sql"
    }
   },
   "outputs": [],
   "source": [
    "-- Select the release_year for films released after 1990 grouped by year\n",
    "SELECT release_year \n",
    "FROM films\n",
    "WHERE release_year > 1990\n",
    "GROUP BY release_year;"
   ]
  },
  {
   "cell_type": "markdown",
   "metadata": {},
   "source": [
    "- Modify the query to include the average budget aliased as avg_budget and average gross aliased as avg_gross for the results we have so far."
   ]
  },
  {
   "cell_type": "code",
   "execution_count": null,
   "metadata": {
    "vscode": {
     "languageId": "sql"
    }
   },
   "outputs": [],
   "source": [
    "-- Modify the query to also list the average budget and average gross\n",
    "SELECT release_year, AVG(budget) AS avg_budget, AVG(gross) AS avg_gross\n",
    "FROM films\n",
    "WHERE release_year > 1990\n",
    "GROUP BY release_year;"
   ]
  },
  {
   "cell_type": "markdown",
   "metadata": {},
   "source": [
    "- Modify the query once more so that only years with an average budget of greater than 60 million are included."
   ]
  },
  {
   "cell_type": "code",
   "execution_count": null,
   "metadata": {
    "vscode": {
     "languageId": "sql"
    }
   },
   "outputs": [],
   "source": [
    "SELECT release_year, AVG(budget) AS avg_budget, AVG(gross) AS avg_gross\n",
    "FROM films\n",
    "WHERE release_year > 1990\n",
    "GROUP BY release_year\n",
    "-- Modify the query to see only years with an avg_budget of more than 60 million\n",
    "HAVING AVG(budget) > 60000000;"
   ]
  },
  {
   "cell_type": "markdown",
   "metadata": {},
   "source": [
    "- Finally, order the results from the highest average gross and limit to one."
   ]
  },
  {
   "cell_type": "code",
   "execution_count": null,
   "metadata": {
    "vscode": {
     "languageId": "sql"
    }
   },
   "outputs": [],
   "source": [
    "SELECT release_year, AVG(budget) AS avg_budget, AVG(gross) AS avg_gross\n",
    "FROM films\n",
    "WHERE release_year > 1990\n",
    "GROUP BY release_year\n",
    "HAVING AVG(budget) > 60000000\n",
    "-- Order the results from highest to lowest average gross and limit to one\n",
    "ORDER BY avg_gross DESC\n",
    "LIMIT 1;"
   ]
  }
 ],
 "metadata": {
  "language_info": {
   "name": "python"
  }
 },
 "nbformat": 4,
 "nbformat_minor": 2
}
