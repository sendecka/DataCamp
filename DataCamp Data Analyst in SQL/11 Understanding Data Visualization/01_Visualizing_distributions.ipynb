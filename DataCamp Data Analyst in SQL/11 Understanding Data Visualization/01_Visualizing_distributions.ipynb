{
 "cells": [
  {
   "cell_type": "markdown",
   "metadata": {},
   "source": [
    "# 1 Visualizing distributions\n",
    "\n",
    "In this chapter you’ll learn the value of visualizations, using real-world data on British monarchs, Australian salaries, Panamanian animals, and US cigarette consumption, to graphically represent the spread of a variable using histograms and box plots."
   ]
  },
  {
   "cell_type": "markdown",
   "metadata": {},
   "source": [
    "# Motivating visualization\n",
    "\n",
    "To get an insight from a dataset, you can calculate summary statistics or run statistical models, but often it's easier to draw a plot.\n",
    "\n",
    "In this exercise, you can see the price of the Bitcoin cryptocurrency from the start of 2016 to the start of 2020. Columns in the table are filterable and sortable.\n",
    "\n",
    "Look at the Bitcoin prices on January the first each year. Which year began with the highest Bitcoin price?\n",
    "\n",
    "Data Source: Coindesk"
   ]
  },
  {
   "cell_type": "markdown",
   "metadata": {},
   "source": [
    "( ) 2016\n",
    "\n",
    "( ) 2017\n",
    "\n",
    "(x) 2018\n",
    "\n",
    "( ) 2019\n",
    "\n",
    "( ) 2020"
   ]
  },
  {
   "cell_type": "markdown",
   "metadata": {},
   "source": [
    "# Continuous vs. categorical variables\n",
    "\n",
    "In order to choose an appropriate type of plot to draw, you need to be able to distinguish between continuous variables (roughly: \"things you can do arithmetic on\") and categorical variables (roughly: \"things that can be classified\")."
   ]
  },
  {
   "cell_type": "markdown",
   "metadata": {},
   "source": [
    "# Interpreting histograms\n",
    "\n",
    "Here is a histogram of salaries for various jobs in Australia. Each row of the dataset is the average salary for that job, so the counts are counts of jobs.\n",
    "\n",
    "A histogram of Australian salaries\n",
    "\n",
    "Tip: This left-hand pane of the exercise containing text and instructions is resizable. If the plot is too small to see clearly, making the pane wider will increase the plot size. Move your mouse in-between the left-hand pane and the drag and drop portion of the exercise so a gray vertical bar appears. In Chrome, click and drag this bar to the right. In Firefox, click the bar, move your mouse right, then click again.\n",
    "\n",
    "Data Source: Tidy Tuesday"
   ]
  },
  {
   "cell_type": "markdown",
   "metadata": {},
   "source": [
    "# Adjusting bin width\n",
    "\n",
    "The appearance of a histogram is heavily influenced by the width of its bins: the intervals that determine where each bar lies on the x-axis. If the bins are too wide, you don't see enough detail in the shape of the distribution. If the bins are too narrow, the distribution can be obscured by noise. It's very difficult to know the \"best\" binwidth, until you physically look at the plot: draw lots of histograms with a range of binwidths until you find one that helps you answer the question.\n",
    "\n",
    "An agouti eating seeds\n",
    "\n",
    "Here you can see a histogram of agouti (a rodent) sightings from a camera trap on Barra Colorado Island in Panama. When an animal passed the camera, a photo was taken with a timestamp, so the histogram shows the distribution of the time of day when the agouti were most active.\n",
    "\n",
    "Which of these statements about the agouti activity is true?\n",
    "\n",
    "Data Source: Rowcliffle et al. 2014"
   ]
  },
  {
   "cell_type": "markdown",
   "metadata": {},
   "source": [
    "( ) The agouti had a high level of activity from 4am to 12pm, then moderate activity from 12pm to 8pm.\n",
    "\n",
    "(x) The agouti were most active for a couple of hours after sunrise (6:30am to 8:30am), and before sunset (4pm to 6m).\n",
    "\n",
    "( ) The agouti showed a constant level of activity throughout sunlight hours.\n",
    "\n",
    "( ) The agouti activity was highly variable, with over a dozen peaks in activity throughout the day"
   ]
  },
  {
   "cell_type": "markdown",
   "metadata": {},
   "source": [
    "# Interpreting box plots\n",
    "\n",
    "Here are box plots of cigarette consumption per person in the USA from 1985 to 1995 (Alaska and Hawaii are not included). Each observation in the dataset is the average number of packets of cigarette smoked per person in one state in one year. Thus each box plot represents the distribution of 48 data points (because there are 48 US states included in the dataset).\n",
    "\n",
    "Box plots of cigarette consumption per capita in the USA, from 1985 to 1995.\n",
    "\n",
    "Data Source: Stock, James H. and Mark W. Watson (2003)"
   ]
  },
  {
   "cell_type": "markdown",
   "metadata": {},
   "source": [
    "# Ordering box plots\n",
    "\n",
    "How you order the box plots affects the kinds of questions that are easy to answer.\n",
    "\n",
    "Here you can see the US cigarette consumption dataset again. This time each box plot represents the distribution of cigarette consumption over time for a given US state. Thus each box plot is formed from 11 data points representing 1985 to 1995.\n",
    "\n",
    "By default, the box plots are ordered alphabetically by state name. This makes it really easy to look up the details for a specific state, but difficult to answer questions about where the highest or lowest consumption can be found. Sorting the rows by median cigarette consumption makes those questions easier to answer.\n",
    "\n",
    "Inter-quartile range (IQR) measures the variation in the \"middle half\" of the population (from the 25th percentile to the 75th percentile). That means that sorting by the IQR makes it easier to answer questions about how much variation there was among the \"typical\" population.\n",
    "\n",
    "Which statement is false?"
   ]
  },
  {
   "cell_type": "markdown",
   "metadata": {},
   "source": [
    "( ) The lower whisker for Alabama is completely above 100 packs/capita/year.\n",
    "\n",
    "( ) North Carolina has the fourth highest median consumption.\n",
    "\n",
    "( ) New Hampshire has the third widest inter-quartile range of consumption.\n",
    "\n",
    "(x) Idaho has the fourth lowest median consumption."
   ]
  }
 ],
 "metadata": {
  "language_info": {
   "name": "python"
  }
 },
 "nbformat": 4,
 "nbformat_minor": 2
}
