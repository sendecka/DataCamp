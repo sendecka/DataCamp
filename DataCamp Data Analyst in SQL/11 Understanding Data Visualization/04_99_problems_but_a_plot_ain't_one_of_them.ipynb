{
 "cells": [
  {
   "cell_type": "markdown",
   "metadata": {},
   "source": [
    "# 4 99 problems but a plot ain't one of them\n",
    "\n",
    "In this final chapter, you’ll learn how to identify and avoid the most common plot problems. For example, how can you avoid creating misleading or hard to interpret plots, and will your audience understand what it is you’re trying to tell them? All will be revealed! You'll explore wind directions, asthma incidence, and seats in the German Federal Council."
   ]
  },
  {
   "cell_type": "markdown",
   "metadata": {},
   "source": [
    "# Pie plots\n",
    "\n",
    "Pie plots (sometimes called pie charts) are extremely popular, but often difficult to interpret. They are just bar plots converted into polar coordinates, and humans are generally worse at perceiving angles accurately compared to lengths.\n",
    "\n",
    "Following on from the scotch whisky dataset in the last chapter, here's another dataset from the Health Survey for England, this time on alcohol consumption in English men aged 16 or more. Pie segments and bar heights represent percentages of responders.\n",
    "\n",
    "Look at the pie plot and the bar plot and determine which statement is true.\n",
    "\n",
    "# Instructions:\n",
    "\n",
    "( ) Only the 75+ age group had more non-drinkers than people drinking 14 to 35 units per week.\n",
    "\n",
    "( ) Three age groups had more than 30% of people drinking 14 to 35 units per week.\n",
    "\n",
    "( ) All age groups had less than 20% non-drinkers.\n",
    "\n",
    "(x) All age groups had at least 50% of people drinking up to 14 units per week."
   ]
  },
  {
   "cell_type": "markdown",
   "metadata": {},
   "source": [
    "# Rose plots\n",
    "\n",
    "One good use case for polar coordinates is when the data is naturally circular, for example, when it is a compass direction. If you plot a histogram with polar coordinates, you get a rose plot.\n",
    "\n",
    "Here you can see a plot of wind direction data from a meteorological mast. Knowing the predominant wind direction is important for weather modeling and for determining where to site wind turbines. Wind measurements were taken at 10 minute intervals over an eight month period.\n",
    "\n",
    "Look at the histogram and rose plot, then determine which statement is true."
   ]
  },
  {
   "cell_type": "markdown",
   "metadata": {},
   "source": [
    "( ) The distribution of the wind directions has three peaks.\n",
    "\n",
    "(x) The predominant wind directions were N and SW.\n",
    "\n",
    "( ) The distribution of the wind directions has one peak.\n",
    "\n",
    "( ) The predominant wind directions were E and NW."
   ]
  },
  {
   "cell_type": "markdown",
   "metadata": {},
   "source": [
    "# Bar plot axes\n",
    "\n",
    "When we look at a bar plot, we use the relative lengths of each bar to help interpret what is happening. If you don't include zero on the axis used for bar lengths, then the relative lengths of bars are distorted, and it is easy to be misled.\n",
    "\n",
    "Here is a bar plot of another question from the Health Survey for England, this time about people with asthma. (\"Not asthmatic\" means no asthma symptoms were reported, and no medication was taken for asthma in the previous 12 months.)\n",
    "\n",
    "Compare version of the plot with each y-axis, and determine which statement is true."
   ]
  },
  {
   "cell_type": "markdown",
   "metadata": {},
   "source": [
    "(x) The percentage of asthmatics is less than 15% for every age group.\n",
    "\n",
    "( ) 16-24 years olds have more than twice the percentage of non-asthmatics than 45-54 year olds.\n",
    "\n",
    "( ) The majority of people aged 35-74 are asthmatic.\n",
    "\n",
    "( ) The percentage of asthmatics ranges from about 40% to about 80%, depending upon the age group."
   ]
  },
  {
   "cell_type": "markdown",
   "metadata": {},
   "source": [
    "# Dual axes\n",
    "\n",
    "One popular but terrible idea is to draw a scatter plot or line plot with two different y-axes. This typically happens when you have two metrics with different units, and different scales that you want to plot against a common x-axis. The problem is that by changing the relationship between the two axes, you can tell almost any story that you want with the data.\n",
    "\n",
    "Here you can see the stock prices of Microsoft (MSFT) and Amazon (AMZN) from 2017 to 2020. When you saw these in Chapter 3, each price had been adjusted to relative to the maximum for that company. That way each line was comparable. Here, the prices have been adjusted for dividends and splits but they have not been scaled relative to their maxima.\n",
    "\n",
    "Adjust the vertical position and steepness of the slope for the AMZN line, then determine which statement is true."
   ]
  },
  {
   "cell_type": "markdown",
   "metadata": {},
   "source": [
    "( ) MSFT and AMZN are strongly positively correlated.\n",
    "\n",
    "( ) MSFT and AMZN are strongly negatively correlated.\n",
    "\n",
    "( ) MSFT and AMZN have no correlation.\n",
    "\n",
    "(x) You can't make a conclusion about the correlation of MSFT and AMZN from this plot."
   ]
  },
  {
   "cell_type": "markdown",
   "metadata": {},
   "source": [
    "# Multiple plots\n",
    "\n",
    "Sometimes a dataset is so complex that it takes several plots to explore properly. Rather than trying to find a single, perfect plot that captures all the insight, you can combine several plots into a report or – if you want to have fun – a dashboard.\n",
    "\n",
    "Here you can see the German Bundesrat (Federal Council) seats dataset in a dashboard of three plots. In the \"by party\" plots, values are colored according to each party's marketing brand color. The level of transparency is based on power: the primary party in a coalition is fully opaque, secondary parties are slightly transparent, and tertiary parties are very transparent.\n",
    "\n",
    "Explore the dashboard and determine which statement is false."
   ]
  },
  {
   "cell_type": "markdown",
   "metadata": {},
   "source": [
    "( ) The coalition with the most seats is `SPD+CDU`.\n",
    "\n",
    "( ) The Grüne party have more seats as the secondary party in a coalition than any other party.\n",
    "\n",
    "(x) The SPD have more seats as the tertiary party in a coalition than any other party.\n",
    "\n",
    "( ) The FDP only have seats in the Western states.\n",
    "\n",
    "( ) Bavaria (the large state in the South East) has different political parties to those found in power in other states."
   ]
  }
 ],
 "metadata": {
  "language_info": {
   "name": "python"
  }
 },
 "nbformat": 4,
 "nbformat_minor": 2
}
