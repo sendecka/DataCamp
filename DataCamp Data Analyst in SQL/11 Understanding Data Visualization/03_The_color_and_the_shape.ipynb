{
 "cells": [
  {
   "cell_type": "markdown",
   "metadata": {},
   "source": [
    "# 3 The color and the shape\n",
    "\n",
    "It’s time to make your insights even more impactful. Discover how you can add color and shape to make your data visualizations clearer and easier to understand, especially when you find yourself working with more than two variables at the same time. You'll explore Los Angeles home prices, technology stock prices, math anxiety, the greatest hiphop songs, scotch whisky preferences, and fatty acids in olive oil."
   ]
  },
  {
   "cell_type": "markdown",
   "metadata": {},
   "source": [
    "# Another dimension for scatter plots\n",
    "\n",
    "If you have a scatter plot, but want to distinguish the points in some way based on another variable, then you have a few options. As discussed in the video, 3D plots are usually dreadful on a 2D screen, but there are other options to stick to x-y axes and still visualize the third dimension. You can change the color, size, transparency or shape of the points, or split the plot into multiple panels.\n",
    "\n",
    "Here you can see the dataset of house prices in Los Angeles county, USA, that you first encountered in Chapter 2.\n",
    "\n",
    "Explore different options for distinguishing points from the four cities, then determine which statement is false."
   ]
  },
  {
   "cell_type": "markdown",
   "metadata": {},
   "source": [
    "( ) Using different sizes or transparencies makes it hard to distinguish points that overlap.\n",
    "\n",
    "( ) Using separate panels provides the best way to distinguish points from each city, but makes it harder to see if there is a single trend across the whole dataset.\n",
    "\n",
    "(x) Using different shapes provides the best way to distinguish points from each city, but makes it harder to see if there is a single trend across the whole dataset.\n",
    "\n",
    "( ) Using different color provides a good way to distinguish points from each city, but lighter colors can be hard to see against a white background."
   ]
  },
  {
   "cell_type": "markdown",
   "metadata": {},
   "source": [
    "# Another dimension for line plots\n",
    "\n",
    "As with points in a scatter plot, you may often want to be able to distinguish several lines in a line plot. Like points, you can change the colors or transparency level, or use multiple panels. The two differences to points are that you can change line widths rather than point sizes, and you can change linetype (solid, dashes, or dots) rather than point shape.\n",
    "\n",
    "The line plot shows the stock price for five technology companies collectively known as \"FAAMG\": Facebook (FB), Apple (AAPL), Amazon (AMZN), Microsoft (MSFT), and Google (GOOG). The prices have been adjusted for dividends and splits, then scaled to be relative to their highest price over the time period so they are more easily comparable.\n",
    "\n",
    "Explore different options for distinguishing lines from the five companies, then determine which statement is false."
   ]
  },
  {
   "cell_type": "markdown",
   "metadata": {},
   "source": [
    "( ) All five companies began 2018 with a higher price than they began 2017.\n",
    "\n",
    "( ) In 2018, Facebook's stock price decreased by a greater fraction than any of the other companies.\n",
    "\n",
    "( ) From the start of 2019 to the start of 2020, Apple's stock price more than doubled.\n",
    "\n",
    "(x) All five companies began 2020 with a higher price than they had half way through 2019."
   ]
  },
  {
   "cell_type": "markdown",
   "metadata": {},
   "source": [
    "# Eye-catching colors\n",
    "\n",
    "Not all colors are as eye-catching as others. This can cause a problem for data visualization, because having some data point more obvious than others can bias the way you interpret a plot. Unless you specifically want to highlight some points, each data point should be as easy to look at as all the others.\n",
    "\n",
    "Here you can see the dataset from the camera trap in Panama. This time, the speed of the animal as they passed the camera is plotted against the time of day that they were caught on camera, and the agouti have been joined by another rodent, the paca.\n",
    "\n",
    "A paca next to a tree branch, with some seeds.\n",
    "\n",
    "Each version of the plot contains purple and yellow points, but in one version, the purple points are easier to perceive than the yellow points.\n",
    "\n",
    "Which statement is true?"
   ]
  },
  {
   "cell_type": "markdown",
   "metadata": {},
   "source": [
    "( ) To ensure that all data points are equally perceivable, they should all have the same color.\n",
    "\n",
    "( ) To ensure that all data points are equally perceivable, they should all have the same chroma.\n",
    "\n",
    "( ) To ensure that all data points are equally perceivable, they should all have the same luminance.\n",
    "\n",
    "(x) To ensure that all data points are equally perceivable, choose a qualitative, sequential, or diverging scale in hue-chroma-luminance colorspace.\n",
    "\n",
    "( ) To ensure that all data points are equally perceivable, they should all have the same hue."
   ]
  },
  {
   "cell_type": "markdown",
   "metadata": {},
   "source": [
    "# Qualitative, sequential, diverging\n",
    "\n",
    "There are three types of color scale, each designed to highlight different things in a visualization.\n",
    "\n",
    "Type\tPurpose\n",
    "qualitative\tDistinguish unordered categories\n",
    "sequential\tShow ordering\n",
    "diverging\tShow above or below a midpoint\n",
    "Here you can see the results of a survey about math anxiety from a class of students. Each question has its own row, and responses range from \"Strongly Disagree\" to \"Neutral\" to \"Strongly Agree\".\n",
    "\n",
    "Choose an appropriate color scale for the plot.\n",
    "\n",
    "Data source: Bai et al. (2009)"
   ]
  },
  {
   "cell_type": "markdown",
   "metadata": {},
   "source": [
    "( ) None\n",
    "\n",
    "( ) Qualitative\n",
    "\n",
    "( ) Sequential\n",
    "\n",
    "(x) Diverging"
   ]
  },
  {
   "cell_type": "markdown",
   "metadata": {},
   "source": [
    "# Highlighting data\n",
    "\n",
    "Up to now we've focused on using color and other plot aesthetics to make all data points stand out as much as others. Usually that's a good idea, but occasionally you'll want to highlight specific data points.\n",
    "\n",
    "Here's the dataset of the greatest hip-hop songs of all time, from Chapter 2. Songs by two rappers at the center of the 1990s East Coast-West Coast hip-hop Rivalry, The Notorious B.I.G. and 2Pac, are colored differently.\n",
    "\n",
    "Use the sliders to control the highlighting of songs by these artists via point size, transparency, and chroma.\n",
    "\n",
    "How many songs for each artist made it onto the critics' list?"
   ]
  },
  {
   "cell_type": "markdown",
   "metadata": {},
   "source": [
    "(x) The Notorious B.I.G. has 9 and 2Pac has 8.\n",
    "\n",
    "( ) The Notorious B.I.G. has 7 and 2Pac has 7.\n",
    "\n",
    "( ) The Notorious B.I.G. has 8 and 2Pac has 7.\n",
    "\n",
    "( ) The Notorious B.I.G. has 7 and 2Pac has 8.\n",
    "\n",
    "( ) The Notorious B.I.G. has 9 and 2Pac has 7."
   ]
  },
  {
   "cell_type": "markdown",
   "metadata": {},
   "source": [
    "# Interpreting pair plots\n",
    "\n",
    "To get a quick overview of a dataset, it's really helpful to draw a plot of the distribution of each variable, and the relationship between each pair of variables. A pair plot displays all these plots together in a matrix of panels. It shows a lot of information at once, so to interpret it, try looking at one panel at a time.\n",
    "\n",
    "Here you can see the Panamanian camera trap data for the agouti and paca, as well as three new species: coati, brocket, and peccary.\n",
    "\n"
   ]
  },
  {
   "cell_type": "markdown",
   "metadata": {},
   "source": [
    "# Interpreting correlation heatmaps\n",
    "\n",
    "If you want to find the relationship between many pairs of numeric variables, you can use a close relative of the pair plot, namely the correlation heatmap. It takes the correlation scores you saw from the pair plot, but rather than giving you lots of numbers to look at, it displays them using colors. A great use case for this is finding related products.\n",
    "\n",
    "Here's a dataset from a survey on scotch whisky consumption. In the correlation heatmap, each row and column shows a brand of scotch, and cells show that correlation between drinking one brand and drinking another within the past twelve months."
   ]
  },
  {
   "cell_type": "markdown",
   "metadata": {},
   "source": [
    "# Interpreting parallel coordinates plots\n",
    "\n",
    "Parallel coordinates plots are designed to help you view the relationship between many continuous variables at once.\n",
    "\n",
    "Here is a dataset of fatty acid levels in olive oils samples from six regions in Italy. Each line in the plot represents one oil sample. Since the region is a categorical variable, you have six parallel coordinates plots, one in each panel.\n",
    "\n"
   ]
  }
 ],
 "metadata": {
  "language_info": {
   "name": "python"
  }
 },
 "nbformat": 4,
 "nbformat_minor": 2
}
