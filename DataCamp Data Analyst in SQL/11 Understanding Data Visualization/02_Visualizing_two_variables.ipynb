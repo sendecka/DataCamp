{
 "cells": [
  {
   "cell_type": "markdown",
   "metadata": {},
   "source": [
    "# 2 Visualizing two variables\n",
    "\n",
    "You’ll learn how to interpret data plots and understand core data visualization concepts such as correlation, linear relationships, and log scales. Through interactive exercises, you’ll also learn how to explore the relationship between two continuous variables using scatter plots and line plots. You'll explore data on life expectancies, technology adoption, COVID-19 coronavirus cases, and Swiss juvenile offenders. Next you’ll be introduced to two other popular visualizations—bar plots and dot plots—often used to examine the relationship between categorical variables and continuous variables. Here, you'll explore famous athletes, health survey data, and the price of a Big Mac around the world."
   ]
  },
  {
   "cell_type": "markdown",
   "metadata": {},
   "source": [
    "# Interpreting scatter plots\n",
    "\n",
    "Scatter plots let you explore the relationship between two continuous variables.\n",
    "\n",
    "Here you can see a scatter plot of average life expectancy (on the y-axis) versus average length of schooling (on the x-axis) for countries around the world. Each point in the plot represents one country. A straight trend line from a linear regression model is shown."
   ]
  },
  {
   "cell_type": "markdown",
   "metadata": {},
   "source": [
    "# Trends with scatter plots\n",
    "\n",
    "Adding trend lines to a scatter plot can make it easier to articulate the relationship between the two variables.\n",
    "\n",
    "Here you can see the life expectancy for each country again, this time plotted against the Gross National Income (GNI) per capita (a measure of how rich the country is). You have a choice between linear and logarithmic scales on the x-axis, and can add linear or curved trend lines.\n",
    "\n",
    "Which statement best describes the trend?"
   ]
  },
  {
   "cell_type": "markdown",
   "metadata": {},
   "source": [
    "\n",
    "( ) Life expectancy increases linearly with GNI when GNI is between $1k and $50k.\n",
    "\n",
    "(x) Life expectancy increases linearly with the logarithm of GNI when GNI is between $1k and $50k.\n",
    "\n",
    "( ) Life expectancy decreases when GNI increases above $50k.\n",
    "\n",
    "( ) Life expectancy increases when GNI decreases below $500."
   ]
  },
  {
   "cell_type": "markdown",
   "metadata": {},
   "source": [
    "# Interpreting line plots\n",
    "\n",
    "Line plots are excellent for comparing two continuous variables, where consecutive observations are connected somehow. A common type of line plot is to have dates or times on the x-axis, and a numeric quantity on the y-axis. In this case, \"consecutive observations\" means values on successive dates, like today and tomorrow. By drawing multiple lines on the same plot, you can compare values.\n",
    "\n",
    "The following line plot shows the percentage of households in the United States that adopted each of four technologies (automobiles, refrigerators, stoves, and vacuums) from 1930 to 1970."
   ]
  },
  {
   "cell_type": "markdown",
   "metadata": {},
   "source": [
    "# Logarithmic scales for line plots\n",
    "\n",
    "If you have a dataset where the values span several orders of magnitude, it can be easier to view them on a logarithmic scale.\n",
    "\n",
    "A subset of the COVID-19 coronavirus data is shown in the line plot. You saw in the video that most of the cases in early 2020 occurred in mainland China. You might wonder what is happening in the rest of the world. Here, the six countries with the most number of confirmed cases outside of mainland China are shown.\n",
    "\n",
    "On the linear scale, notice that moving up one grid line in the plot adds 20000. On the logarithmic scale, moving up one grid line in the plot multiplies by 4.\n",
    "\n",
    "Considering the six countries on the plot, which statement is true?"
   ]
  },
  {
   "cell_type": "markdown",
   "metadata": {},
   "source": [
    "( ) On Feb 3, excluding mainland China, US had the most cumulative confirmed cases of COVID-19.\n",
    "\n",
    "(x) On Feb 17, Germany had more cumulative confirmed cases of COVID-19 than France.\n",
    "\n",
    "( ) On Mar 02, Iran had less than 1000 cumulative confirmed cases of COVID-19.\n",
    "\n",
    "( ) On Mar 16, US had less than 4000 cumulative confirmed cases of COVID-19."
   ]
  },
  {
   "cell_type": "markdown",
   "metadata": {},
   "source": [
    "# Line plots without dates on the x-axis\n",
    "\n",
    "Although dates and times are the most common type of variable for the x-axis in line plot, other types of variable are possible.\n",
    "\n",
    "In the video, you saw data on the ages of juvenile offenders in Switzerland. That data was presented with time on the x-axis and one line for each age. Since that plot wasn't very satisfactory, we'll try again. This time, age is on the x-axis and there is one line for each year. In the plot you can see two separate clusters of lines representing different age profiles for the offenders.\n",
    "\n",
    "Which year did the change in age profile of juvenile offenders take place?\n",
    "\n",
    "Data source: Senior Attorney of the Canton of Zurich"
   ]
  },
  {
   "cell_type": "markdown",
   "metadata": {},
   "source": [
    "( ) 2009\n",
    "\n",
    "( ) 2010\n",
    "\n",
    "(x) 2011\n",
    "\n",
    "( ) 2012"
   ]
  },
  {
   "cell_type": "markdown",
   "metadata": {},
   "source": [
    "# Interpreting bar plots\n",
    "\n",
    "Bar plots are a great way to see counts of each category in a categorical variable.\n",
    "\n",
    "The ESPN Top 100 famous athletes dataset has two categorical variables: country and sport.\n",
    "\n",
    "Explore the plots and determine which statement is false."
   ]
  },
  {
   "cell_type": "markdown",
   "metadata": {},
   "source": [
    "( ) Germany had the third most famous athletes.\n",
    "\n",
    "( ) Five sports had more than five famous athletes.\n",
    "\n",
    "(x) Soccer players from the USA had more famous athletes than any other country/sport combination.\n",
    "\n",
    "( ) There were more famous cricketers on the list than famous French athletes."
   ]
  },
  {
   "cell_type": "markdown",
   "metadata": {},
   "source": [
    "# Interpreting stacked bar plots\n",
    "\n",
    "If you care about percentages rather than counts, then stacked bar plots are often a good choice of plot.\n",
    "\n",
    "The dataset for this exercise relates to another question from the Health Survey for England. Adults aged 65 or more were asked how many \"activities of daily living\" (day-to-day tasks) they needed assistance with.\n",
    "\n",
    "Type show_plot in the DataCamp console and press ENTER to see the plot. It's interactive – hover your mouse over the bars to see the percentage for that block.\n",
    "\n",
    "Which statement is true?"
   ]
  },
  {
   "cell_type": "markdown",
   "metadata": {},
   "source": [
    "# Possible answers\n",
    "\n",
    "( ) Less than half the women aged 80+ needed assistance for two or more activities.\n",
    "\n",
    "( ) The group with the smallest percentage of people needing assistance for exactly one activity was men aged 75-79.\n",
    "\n",
    "(x) The group with the largest percentage of people needing no assistance was men aged 70-74.\n",
    "\n",
    "( ) More than half the men aged 80+ needed assistance for at least one activity."
   ]
  },
  {
   "cell_type": "markdown",
   "metadata": {},
   "source": [
    "# Sorting dot plots\n",
    "\n",
    "As with box plots and bar plots, how you order the rows in a dot plot affects the kinds of questions that are easy to answer.\n",
    "\n",
    "Here you can see the Big Mac Index: the price of a McDonalds Big Mac in various countries around the world (in Jan 2020). The \"Actual price\" is the price converted to US dollars. The \"GDP adjusted price\" has an additional correction for the gross domestic product of a country. Roughly, if people earn less in a country, it will cost more using the adjusted price.\n",
    "\n",
    "By default, the rows in the dot plot are ordered alphabetically. This makes it really easy to look up the price for a specific country, but difficult to answer question about where the most expensive or least expensive Big Macs can be found. By sorting the rows by price, those questions are easier to answer.\n",
    "\n",
    "Which statement is true?\n",
    "\n",
    "Data source: The Economist"
   ]
  },
  {
   "cell_type": "markdown",
   "metadata": {},
   "source": [
    "( ) Ukraine has the fifth most expensive Big Macs by actual price.\n",
    "\n",
    "(x) Two countries have Big Macs that cost over 100 USD after adjusting for GDP.\n",
    "\n",
    "( ) After adjusting for GDP, South Africa has the cheapest Big Macs.\n",
    "\n",
    "( ) Azerbaijan has the fifth most expensive Big Macs by actual price."
   ]
  }
 ],
 "metadata": {
  "language_info": {
   "name": "python"
  }
 },
 "nbformat": 4,
 "nbformat_minor": 2
}
